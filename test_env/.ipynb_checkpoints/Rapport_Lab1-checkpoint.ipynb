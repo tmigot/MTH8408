{
 "cells": [
  {
   "cell_type": "markdown",
   "id": "063662bf",
   "metadata": {},
   "source": [
    "# Rapport du laboratoire 1\n",
    "Par Hugo Fournier, 2011296"
   ]
  },
  {
   "cell_type": "markdown",
   "id": "508c0c52",
   "metadata": {},
   "source": [
    "## Question 1"
   ]
  },
  {
   "cell_type": "code",
   "execution_count": null,
   "id": "6910eca1",
   "metadata": {},
   "outputs": [],
   "source": [
    "using Pkg;\n",
    "Pkg.instantiate();\n",
    "Pkg.add(\"JuMP\");\n",
    "Pkg.add(\"Ipopt\");\n",
    "\n",
    "using JuMP\n",
    "using Ipopt"
   ]
  },
  {
   "cell_type": "code",
   "execution_count": null,
   "id": "cf66adcd",
   "metadata": {},
   "outputs": [],
   "source": [
    "model1 = Model(Ipopt.Optimizer)\n",
    "@variable(model1, x[1:2])\n",
    "@NLobjective(model1, Min, (x[1]-2)^2 + (x[2]-1)^2)\n",
    "@NLconstraint(model1, x[1]^2-x[2] <= 0)\n",
    "@constraint(model1, x[1]+x[2] <= 2)\n",
    "\n",
    "optimize!(model1)"
   ]
  },
  {
   "cell_type": "markdown",
   "id": "741ba43e",
   "metadata": {},
   "source": [
    "### 1) Statut final d'IPOPT\n",
    "Le statut final d'IPOPT est "
   ]
  },
  {
   "cell_type": "code",
   "execution_count": null,
   "id": "1fbe3d92",
   "metadata": {},
   "outputs": [],
   "source": [
    "termination_status(model1)"
   ]
  },
  {
   "cell_type": "markdown",
   "id": "e0745f01",
   "metadata": {},
   "source": [
    "### 2) La solution obtenue est-elle la bonne?\n",
    "La solution obtenue est donnée ci-bas, et celle-ci semble être la bonne."
   ]
  },
  {
   "cell_type": "code",
   "execution_count": null,
   "id": "32796af5",
   "metadata": {},
   "outputs": [],
   "source": [
    "println(\"x1 = \", value(x[1]), \" x2 = \", value(x[2]))"
   ]
  },
  {
   "cell_type": "markdown",
   "id": "135d19fd",
   "metadata": {},
   "source": [
    "## Question 2"
   ]
  },
  {
   "cell_type": "code",
   "execution_count": null,
   "id": "9102eedd",
   "metadata": {},
   "outputs": [],
   "source": [
    "model2 = Model(Ipopt.Optimizer)\n",
    "x0 = 1;\n",
    "@variable(model2, x, start=x0)\n",
    "@objective(model2, Min, x)\n",
    "@NLconstraint(model2, x^2 == 0)\n",
    "\n",
    "optimize!(model2)"
   ]
  },
  {
   "cell_type": "markdown",
   "id": "377a697e",
   "metadata": {},
   "source": [
    "### 1) Statut final d'IPOPT"
   ]
  },
  {
   "cell_type": "code",
   "execution_count": null,
   "id": "b2596a92",
   "metadata": {},
   "outputs": [],
   "source": [
    "termination_status(model2)"
   ]
  },
  {
   "cell_type": "markdown",
   "id": "7b76bbdd",
   "metadata": {},
   "source": [
    "### 2) Résidus d'optimalité"
   ]
  },
  {
   "cell_type": "code",
   "execution_count": null,
   "id": "1d0c1137",
   "metadata": {},
   "outputs": [],
   "source": [
    "solution_summary(model2)"
   ]
  },
  {
   "cell_type": "markdown",
   "id": "93dab884",
   "metadata": {},
   "source": [
    "### 3) Solution obtenue"
   ]
  },
  {
   "cell_type": "code",
   "execution_count": null,
   "id": "5993c23d",
   "metadata": {},
   "outputs": [],
   "source": [
    "println(\"x = \", value(x))"
   ]
  },
  {
   "cell_type": "markdown",
   "id": "52abd891",
   "metadata": {},
   "source": [
    "## Question 3"
   ]
  },
  {
   "cell_type": "markdown",
   "id": "db821b44",
   "metadata": {},
   "source": [
    "### 1) Raisonnement sur f\n",
    "La fonction f ne peut jamais être négative (pour des x1 et x2 réels). Elle est composée de la somme de deux éléments toujours positifs, soient (1 - x1)^2 et (x2 - x1^2)^2.\n",
    "Par conséquent, s'il existe x1 et x2 tel que (1 - x1)^2 = 0 et (x2 - x1^2)^2 = 0, alors ce couple (x1,x2) minimise également f.\n",
    "\n",
    "On trouve pour x1=1 avec la première équation, et x2=1 par la suite avec la seconde équation.\n",
    "Donc, (x1,x2) = (1, 1)"
   ]
  },
  {
   "cell_type": "markdown",
   "id": "23fb84e4",
   "metadata": {},
   "source": [
    "### 2) Tracer les courbes de niveau de f"
   ]
  },
  {
   "cell_type": "code",
   "execution_count": null,
   "id": "d6bd1a7f",
   "metadata": {},
   "outputs": [],
   "source": [
    "Pkg.add(\"Plots\")\n",
    "using Plots"
   ]
  },
  {
   "cell_type": "code",
   "execution_count": null,
   "id": "4605db6f",
   "metadata": {},
   "outputs": [],
   "source": [
    "f(x1, x2) = 100*(x2 - x1^2)^2 + (1 - x1)^2\n",
    "\n",
    "p = contour(0.5:0.01:1.5, 0:0.01:2, (x1,x2) -> f(x1,x2), levels=[0.03, 0.1, 0.3, 1, 3, 10])"
   ]
  },
  {
   "cell_type": "markdown",
   "id": "d0db8121",
   "metadata": {},
   "source": [
    "### 3) Modéliser et résoudre le problème avec JuMP et IPOPT"
   ]
  },
  {
   "cell_type": "code",
   "execution_count": null,
   "id": "8cd0cda4",
   "metadata": {},
   "outputs": [],
   "source": [
    "model3 = Model(Ipopt.Optimizer)\n",
    "@variable(model3, x[1:2])\n",
    "@NLobjective(model3, Min, (1-x[1])^2 + (x[2]-x[1]^2)^2)\n",
    "\n",
    "optimize!(model3)\n",
    "println(\"x1 = \", value(x[1]), \" x2 = \", value(x[2]))"
   ]
  }
 ],
 "metadata": {
  "kernelspec": {
   "display_name": "Julia 1.8.4",
   "language": "julia",
   "name": "julia-1.8"
  },
  "language_info": {
   "file_extension": ".jl",
   "mimetype": "application/julia",
   "name": "julia",
   "version": "1.8.4"
  }
 },
 "nbformat": 4,
 "nbformat_minor": 5
}
