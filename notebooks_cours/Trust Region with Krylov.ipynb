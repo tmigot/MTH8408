{
 "cells": [
  {
   "cell_type": "code",
   "execution_count": null,
   "metadata": {},
   "outputs": [],
   "source": [
    "using Pkg; Pkg.activate(\"truncatedcg\")"
   ]
  },
  {
   "cell_type": "markdown",
   "metadata": {},
   "source": [
    "# Trust region with truncated conjugate gradient"
   ]
  },
  {
   "cell_type": "markdown",
   "metadata": {},
   "source": [
    "$$ \\min g_k^T d + \\tfrac{1}{2}d^TB_kd \\qquad \\|d\\| \\leq \\Delta. $$"
   ]
  },
  {
   "cell_type": "code",
   "execution_count": null,
   "metadata": {
    "scrolled": true
   },
   "outputs": [],
   "source": [
    "using Plots, Krylov, LinearAlgebra\n",
    "gr(size=(600,600))"
   ]
  },
  {
   "cell_type": "code",
   "execution_count": null,
   "metadata": {},
   "outputs": [],
   "source": [
    "B = [10.0 1.0;  # définie positive !\n",
    "      1.0 2.0]\n",
    "g = -B * ones(2)\n",
    "\n",
    "m(d) = dot(d, g) + dot(d, B * d) / 2  # quadratic model\n",
    "\n",
    "contour(-0.5:0.05:2, -0.5:0.05:2, (x, y) -> m([x; y]), leg=false)\n",
    "\n",
    "scatter!([0.0; 1.0], [0.0; 1.0], c=:black, ms=3)\n",
    "\n",
    "dG = -g * dot(g, g) / dot(g, B * g)  # gradient step\n",
    "plot!([0.0; dG[1]], [0.0; dG[2]], c=:blue, l=:arrow)\n",
    "\n",
    "dcg = cg(B, -g)[1]  # Newton step: solve Bd = -g\n",
    "plot!([0.0; dcg[1]], [0.0; dcg[2]], c=:red, l=:arrow)\n",
    "\n",
    "xlims!(-0.5, 2)\n",
    "ylims!(-0.5, 2)"
   ]
  },
  {
   "cell_type": "markdown",
   "metadata": {},
   "source": [
    "The Gay-Sorensen theorem says that if $d$ is the global minimizer of the trust-region subproblem, there exists $\\lambda \\geq 0$ such that $$(B + \\lambda I) d = -g.$$"
   ]
  },
  {
   "cell_type": "code",
   "execution_count": null,
   "metadata": {
    "scrolled": true
   },
   "outputs": [],
   "source": [
    "dsol(λ) = cg(B + λ * I, -g)[1]\n",
    "D = hcat([dsol(λ) for λ = 10.0 .^ (-6:0.1:6)]...)\n",
    "\n",
    "contour(-0.5:0.05:2, -0.5:0.05:2, (x,y)->m([x;y]), leg=false)\n",
    "\n",
    "dG = -g * dot(g, g) / dot(g, B * g)\n",
    "scatter!([0.0; dG[1]; 1.0], [0.0; dG[2]; 1.0], c=:black, ms=3)\n",
    "\n",
    "plot!(D[1,:], D[2,:], c=:blue)\n",
    "\n",
    "xlims!(-0.5, 2)\n",
    "ylims!(-0.5, 2)"
   ]
  },
  {
   "cell_type": "markdown",
   "metadata": {},
   "source": [
    "Let's visualize the truncated CG step as a function of the trust-region radius $\\Delta$."
   ]
  },
  {
   "cell_type": "code",
   "execution_count": null,
   "metadata": {},
   "outputs": [],
   "source": [
    "using Interact\n",
    "\n",
    "@manipulate for Δ = 0.0:0.01:1.5\n",
    "    contour(-0.5:0.05:2, -0.5:0.05:2, (x,y) -> norm([x;y]) > Δ ? NaN : m([x;y]), leg=false)\n",
    "\n",
    "    t = range(0, stop=2π, length=100)\n",
    "    plot!(Δ * cos.(t), Δ * sin.(t), c=:green, l=:dash)\n",
    "\n",
    "    dG = -g * dot(g, g) / dot(g, B * g)\n",
    "    scatter!([0.0; dG[1]; 1.0], [0.0; dG[2]; 1.0], c=:black, ms=3)\n",
    "\n",
    "    d = cg(B, -g, radius=Δ)[1]\n",
    "    plot!([0.0; d[1]], [0.0; d[2]], c=:red, l=:arrow)\n",
    "\n",
    "    xlims!(-0.5, 2)\n",
    "    ylims!(-0.5, 2)\n",
    "end"
   ]
  },
  {
   "cell_type": "code",
   "execution_count": null,
   "metadata": {},
   "outputs": [],
   "source": [
    "# Si vous avez un WebIO une erreur\n",
    "using Conda\n",
    "Conda.pip_interop(true)\n",
    "Conda.pip(\"install\", \"webio_jupyter_extension\")"
   ]
  },
  {
   "cell_type": "code",
   "execution_count": null,
   "metadata": {},
   "outputs": [],
   "source": []
  }
 ],
 "metadata": {
  "@webio": {
   "lastCommId": "fa66187aa691407f8f8978f8d5c7ed96",
   "lastKernelId": "70c888fb-e258-45f7-8fb8-f0e6fe7eb3ab"
  },
  "kernelspec": {
   "display_name": "Julia 1.7.0",
   "language": "julia",
   "name": "julia-1.7"
  },
  "language_info": {
   "file_extension": ".jl",
   "mimetype": "application/julia",
   "name": "julia",
   "version": "1.7.0"
  }
 },
 "nbformat": 4,
 "nbformat_minor": 2
}
