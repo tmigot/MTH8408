{
 "cells": [
  {
   "cell_type": "code",
   "execution_count": null,
   "metadata": {},
   "outputs": [],
   "source": [
    "using Pkg; Pkg.activate(\"cg\")"
   ]
  },
  {
   "cell_type": "code",
   "execution_count": null,
   "metadata": {},
   "outputs": [],
   "source": [
    "using LinearAlgebra, Printf"
   ]
  },
  {
   "cell_type": "code",
   "execution_count": null,
   "metadata": {},
   "outputs": [],
   "source": [
    "function cg(A, b; atol=1.0e-8, rtol=1.0e-6)\n",
    "    # Resout le systeme Ax=b, i.e., min -b'x + 1/2 x'Ax.\n",
    "    # A doit etre symmetrique et definie positive.\n",
    "    n = length(b)\n",
    "    x = zeros(n)\n",
    "    r = -b\n",
    "    rNorm = norm(r)\n",
    "    rNorm0 = rNorm\n",
    "    rNorms = [rNorm]\n",
    "    p = -r\n",
    "    k = 0\n",
    "    @printf(\"%3d  %7.1e\\n\", k, rNorm)\n",
    "    while (k < 2 * n) && (rNorm > atol + rtol * rNorm0)\n",
    "        Ap = A * p\n",
    "        pAp = dot(p, Ap)\n",
    "        pAp > 0 || (@warn \"A n'est pas definie positive !\")\n",
    "        α = rNorm^2 / pAp\n",
    "        x = x + α * p\n",
    "        r = r + α * Ap\n",
    "        rNorm_new = norm(r)\n",
    "        β = (rNorm_new / rNorm)^2\n",
    "        rNorm = rNorm_new\n",
    "        push!(rNorms, rNorm)\n",
    "        p = -r + β * p\n",
    "        k = k + 1\n",
    "        @printf(\"%3d  %7.1e\\n\", k, rNorm)\n",
    "    end\n",
    "    return x, rNorms\n",
    "end"
   ]
  },
  {
   "cell_type": "code",
   "execution_count": null,
   "metadata": {},
   "outputs": [],
   "source": [
    "A = rand(5, 5) ; A = A * A'; b = rand(5);"
   ]
  },
  {
   "cell_type": "code",
   "execution_count": null,
   "metadata": {},
   "outputs": [],
   "source": [
    "cg(A, b);"
   ]
  },
  {
   "cell_type": "code",
   "execution_count": null,
   "metadata": {},
   "outputs": [],
   "source": [
    "eye(n) = Matrix(1.0*I, n, n)\n",
    "cg(eye(5), b);"
   ]
  },
  {
   "cell_type": "code",
   "execution_count": null,
   "metadata": {},
   "outputs": [],
   "source": [
    "A = rand(50, 50); A = A * A'; b = A * ones(50);\n",
    "x, rNorms = cg(-A, -b);"
   ]
  },
  {
   "cell_type": "code",
   "execution_count": null,
   "metadata": {},
   "outputs": [],
   "source": [
    "using Plots\n",
    "plot(rNorms, yscale=:log10, linewidth=2, label=\"resid norm\")"
   ]
  },
  {
   "cell_type": "code",
   "execution_count": null,
   "metadata": {},
   "outputs": [],
   "source": [
    "A = [1.0 0 ; 0 0]; b = [1.0 ; 0.0]; cg(A, b);"
   ]
  },
  {
   "cell_type": "code",
   "execution_count": null,
   "metadata": {},
   "outputs": [],
   "source": [
    "(Q, R) = qr(rand(50, 50));"
   ]
  },
  {
   "cell_type": "code",
   "execution_count": null,
   "metadata": {},
   "outputs": [],
   "source": [
    "d = [ones(10) ; 4 * ones(10) ; 10 * ones(20) ; 2 * ones(10)];"
   ]
  },
  {
   "cell_type": "code",
   "execution_count": null,
   "metadata": {},
   "outputs": [],
   "source": [
    "A = Q * diagm(0 => d) * Q';"
   ]
  },
  {
   "cell_type": "code",
   "execution_count": null,
   "metadata": {},
   "outputs": [],
   "source": [
    "size(A)"
   ]
  },
  {
   "cell_type": "code",
   "execution_count": null,
   "metadata": {},
   "outputs": [],
   "source": [
    "cg(A, rand(50));"
   ]
  },
  {
   "cell_type": "code",
   "execution_count": null,
   "metadata": {},
   "outputs": [],
   "source": [
    "A = rand(10, 4); b = rand(10);"
   ]
  },
  {
   "cell_type": "code",
   "execution_count": null,
   "metadata": {},
   "outputs": [],
   "source": [
    "cg(A'*A, A'*b)"
   ]
  },
  {
   "cell_type": "code",
   "execution_count": null,
   "metadata": {},
   "outputs": [],
   "source": [
    "A \\ b"
   ]
  },
  {
   "cell_type": "code",
   "execution_count": null,
   "metadata": {},
   "outputs": [],
   "source": [
    "(Q, R) = qr(A)"
   ]
  },
  {
   "cell_type": "code",
   "execution_count": null,
   "metadata": {},
   "outputs": [],
   "source": [
    "A \\ b"
   ]
  },
  {
   "cell_type": "code",
   "execution_count": null,
   "metadata": {},
   "outputs": [],
   "source": [
    "using HarwellRutherfordBoeing\n",
    "HB = HarwellBoeingMatrix(\"/problems/animal/hb/small2.hb\")\n",
    "A = HB.matrix;\n",
    "b = HB.rhs[:,1];\n",
    "size(A)"
   ]
  },
  {
   "cell_type": "code",
   "execution_count": null,
   "metadata": {},
   "outputs": [],
   "source": [
    "\"\"\"Scale the columns of a sparse matrix A by their Euclidean norm.\n",
    "\"\"\"\n",
    "function scale_ls!(A)\n",
    "  s = ones(size(A, 2))\n",
    "  for j = 1 : size(A, 2)\n",
    "    i = A.colptr[j]\n",
    "    k = A.colptr[j+1] - 1\n",
    "    nj = i <= k ? norm(A.nzval[i:k]) : 0.0\n",
    "    if nj > 0.0\n",
    "      A.nzval[i:k] ./= nj\n",
    "      s[j] = nj\n",
    "    end\n",
    "  end\n",
    "  return s\n",
    "end"
   ]
  },
  {
   "cell_type": "code",
   "execution_count": null,
   "metadata": {},
   "outputs": [],
   "source": [
    "s = scale_ls!(A);  # equivaut à une mise à l'échelle des inconnues"
   ]
  },
  {
   "cell_type": "code",
   "execution_count": null,
   "metadata": {},
   "outputs": [],
   "source": [
    "spy(A)"
   ]
  },
  {
   "cell_type": "code",
   "execution_count": null,
   "metadata": {},
   "outputs": [],
   "source": [
    "using Krylov"
   ]
  },
  {
   "cell_type": "code",
   "execution_count": null,
   "metadata": {},
   "outputs": [],
   "source": [
    "x_cgls, stats_cgls = cgls(A, b, atol=1.0e-10, rtol=1.0e-10);\n",
    "x_lsqr, stats_lsqr = lsqr(A, b, atol=1.0e-10, rtol=1.0e-10, axtol=0.0, btol=0.0, etol=0.0);\n",
    "x_cg, rNorms_cg = cg(A'*A, A'*b, atol=1.0e-10, rtol=1.0e-10);"
   ]
  },
  {
   "cell_type": "code",
   "execution_count": null,
   "metadata": {},
   "outputs": [],
   "source": [
    "plot(stats_cgls.Aresiduals, yscale=:log10, linewidth=2, alpha=.75, label=\"resid norm CGLS\")\n",
    "plot!(stats_lsqr.Aresiduals, yscale=:log10, linewidth=2, alpha=.75, label=\"resid norm LSQR\")\n",
    "plot!(rNorms_cg, yscale=:log10, linewidth=2, alpha=.75, label=\"resid norm CG\")"
   ]
  },
  {
   "cell_type": "code",
   "execution_count": null,
   "metadata": {},
   "outputs": [],
   "source": [
    "norm(x_cgls - x_lsqr) / norm(x_cgls)"
   ]
  },
  {
   "cell_type": "code",
   "execution_count": null,
   "metadata": {},
   "outputs": [],
   "source": [
    "@time cgls(A, b, atol=1.0e-10, rtol=1.0e-10);"
   ]
  },
  {
   "cell_type": "code",
   "execution_count": null,
   "metadata": {},
   "outputs": [],
   "source": [
    "@time lsqr(A, b, atol=1.0e-10, rtol=1.0e-10, axtol=0.0, btol=0.0, etol=0.0);"
   ]
  },
  {
   "cell_type": "code",
   "execution_count": null,
   "metadata": {},
   "outputs": [],
   "source": [
    "@time cg(A'*A, A'*b, atol=1.0e-10, rtol=1.0e-10);"
   ]
  },
  {
   "cell_type": "code",
   "execution_count": null,
   "metadata": {},
   "outputs": [],
   "source": []
  }
 ],
 "metadata": {
  "kernelspec": {
   "display_name": "Julia 1.7.0",
   "language": "julia",
   "name": "julia-1.7"
  },
  "language_info": {
   "file_extension": ".jl",
   "mimetype": "application/julia",
   "name": "julia",
   "version": "1.7.0"
  }
 },
 "nbformat": 4,
 "nbformat_minor": 1
}
