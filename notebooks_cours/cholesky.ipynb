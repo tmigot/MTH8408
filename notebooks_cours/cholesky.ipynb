{
 "cells": [
  {
   "cell_type": "code",
   "execution_count": null,
   "metadata": {},
   "outputs": [],
   "source": [
    "using Pkg; Pkg.activate(\"cholesky\")"
   ]
  },
  {
   "cell_type": "markdown",
   "metadata": {},
   "source": [
    "# Cholesky Factorization and Permutations"
   ]
  },
  {
   "cell_type": "code",
   "execution_count": null,
   "metadata": {},
   "outputs": [],
   "source": [
    "using LinearAlgebra, Plots, SparseArrays, Test"
   ]
  },
  {
   "cell_type": "markdown",
   "metadata": {},
   "source": [
    "In this notebook, we study an illustration of the sparsity of the Cholesky factors for an arrowhead matrix.\n",
    "\n",
    "Let `A` be a 100 x 100 matrices such that it is:\n",
    "- symmetric\n",
    "- positive definite\n",
    "- has non-zero entries only on the diagonal, the first row and the first column."
   ]
  },
  {
   "cell_type": "code",
   "execution_count": null,
   "metadata": {},
   "outputs": [],
   "source": [
    "n=100\n",
    "A = zeros(n,n)\n",
    "for i in 1:n\n",
    "    A[1,i] = 1\n",
    "    A[i,1] = 1\n",
    "end\n",
    "A += n*I\n",
    "\n",
    "@test isposdef(A)\n",
    "@test size(A)==(100,100)"
   ]
  },
  {
   "cell_type": "markdown",
   "metadata": {},
   "source": [
    "Plot the Wilkinson diagram of `A`, i.e., using the function `spy`."
   ]
  },
  {
   "cell_type": "code",
   "execution_count": null,
   "metadata": {},
   "outputs": [],
   "source": [
    "spy(sparse(A), marker=(:dot, 1.5),color=:blues, colorbar=false, showaxis=false, ratio=1)"
   ]
  },
  {
   "cell_type": "markdown",
   "metadata": {},
   "source": [
    "Compute Cholesky's factorization of `A` using `cholesky` and plot Wilkinson's diagram of the factor `L`."
   ]
  },
  {
   "cell_type": "code",
   "execution_count": null,
   "metadata": {},
   "outputs": [],
   "source": [
    "S = cholesky(A)\n",
    "spy(sparse(S.L), marker=(:dot, 1.5),color=:blues, colorbar=false, showaxis=false, ratio=1)"
   ]
  },
  {
   "cell_type": "markdown",
   "metadata": {},
   "source": [
    "Permute `A` such that the arrowhead point toward the south-est and repeat the previous steps."
   ]
  },
  {
   "cell_type": "code",
   "execution_count": null,
   "metadata": {},
   "outputs": [],
   "source": [
    "P = zeros(n,n)\n",
    "for i in 1:n\n",
    "    P[i,101-i] = 1\n",
    "end\n",
    "Aperm = P*A*P\n",
    "\n",
    "spy(sparse(Aperm), marker=(:dot, 1.5),color=:blues, colorbar=false, showaxis=false, ratio=1)"
   ]
  },
  {
   "cell_type": "code",
   "execution_count": null,
   "metadata": {},
   "outputs": [],
   "source": [
    "S = cholesky(Aperm)\n",
    "spy(sparse(S.L), marker=(:dot, 1.5),color=:blues, colorbar=false, showaxis=false, ratio=1)"
   ]
  },
  {
   "cell_type": "markdown",
   "metadata": {},
   "source": [
    "We just saw that by choosing the correct permutation, the factors can be sparse!\n",
    "In general, we don't know in advance which permutation is correct.\n",
    "As usual, there are algorithms to help us. We will use an `approximate minimum degree ordering algorithm` available in the package `AMD.jl` see https://github.com/JuliaSmoothOptimizers/AMD.jl ."
   ]
  },
  {
   "cell_type": "markdown",
   "metadata": {},
   "source": [
    "Install `AMD.jl` and compute the permutation `p = amd(sparse(A))`."
   ]
  },
  {
   "cell_type": "code",
   "execution_count": null,
   "metadata": {},
   "outputs": [],
   "source": [
    "using AMD\n",
    "\n",
    "p = amd(sparse(A))"
   ]
  },
  {
   "cell_type": "markdown",
   "metadata": {},
   "source": [
    "Permute the matrix `A` using `p` and plot Wilkinson's diagram of this permuted matrix and its Cholesky factor."
   ]
  },
  {
   "cell_type": "code",
   "execution_count": null,
   "metadata": {},
   "outputs": [],
   "source": [
    "P = sparse([i for i in 1:n],p,1)\n",
    "Aperm = P'*A*P\n",
    "spy(sparse(Aperm), marker=(:dot, 1.5),color=:blues, colorbar=false, showaxis=false, ratio=1)"
   ]
  },
  {
   "cell_type": "code",
   "execution_count": null,
   "metadata": {},
   "outputs": [],
   "source": [
    "spy(sparse(cholesky(Aperm).L), marker=(:dot, 1.5),color=:grays, colorbar=false, showaxis=false, ratio=1)"
   ]
  },
  {
   "cell_type": "code",
   "execution_count": null,
   "metadata": {},
   "outputs": [],
   "source": []
  }
 ],
 "metadata": {
  "kernelspec": {
   "display_name": "Julia 1.7.0",
   "language": "julia",
   "name": "julia-1.7"
  },
  "language_info": {
   "file_extension": ".jl",
   "mimetype": "application/julia",
   "name": "julia",
   "version": "1.7.0"
  }
 },
 "nbformat": 4,
 "nbformat_minor": 4
}
