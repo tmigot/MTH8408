{
 "cells": [
  {
   "attachments": {},
   "cell_type": "markdown",
   "metadata": {},
   "source": [
    "# Rapport de laboratoire 5\n",
    "Hugo Fournier, 2011296"
   ]
  },
  {
   "attachments": {},
   "cell_type": "markdown",
   "metadata": {},
   "source": [
    "## Question 1\n",
    "Implémentation de quad_penalty"
   ]
  },
  {
   "cell_type": "code",
   "execution_count": 10,
   "metadata": {},
   "outputs": [],
   "source": [
    "using Krylov, LinearAlgebra, Logging, NLPModels, ADNLPModels, Printf, SolverCore, Test"
   ]
  },
  {
   "cell_type": "code",
   "execution_count": 11,
   "metadata": {},
   "outputs": [],
   "source": [
    "using PDENLPModels, Gridap"
   ]
  },
  {
   "cell_type": "code",
   "execution_count": 12,
   "metadata": {},
   "outputs": [
    {
     "data": {
      "text/plain": [
       "dsol (generic function with 1 method)"
      ]
     },
     "metadata": {},
     "output_type": "display_data"
    }
   ],
   "source": [
    "function dsol(A, b, ϵ; solver :: Function = lsqr)\n",
    "    (d, stats) = solver(A, b, atol = ϵ)\n",
    "    return d\n",
    "end"
   ]
  },
  {
   "cell_type": "code",
   "execution_count": 13,
   "metadata": {},
   "outputs": [
    {
     "data": {
      "text/plain": [
       "quad_penalty_adnlp (generic function with 1 method)"
      ]
     },
     "metadata": {},
     "output_type": "display_data"
    }
   ],
   "source": [
    "function quad_penalty_adnlp(nlp :: ADNLPModel, ρ :: Real)\n",
    "    # TODO\n",
    "    f_quad(x) = nlp.f(x) + (ρ / 2) * nlp.c(x)' * nlp.c(x)\n",
    "    # f_quad(x) = nlp.f(x) + (ρ / 2) * (norm(nlp.c(x))^2)\n",
    "    x0_quad = nlp.meta.x0\n",
    "    nlp_quad = ADNLPModel(f_quad, x0_quad)\n",
    "    return nlp_quad\n",
    "end"
   ]
  },
  {
   "cell_type": "code",
   "execution_count": 14,
   "metadata": {},
   "outputs": [
    {
     "data": {
      "text/plain": [
       "KKT_eq_constraint (generic function with 1 method)"
      ]
     },
     "metadata": {},
     "output_type": "display_data"
    }
   ],
   "source": [
    "function KKT_eq_constraint(nlp :: AbstractNLPModel, x, λ)\n",
    "    # TODO\n",
    "    KKT = grad(nlp, x) + jac(nlp, x)' * λ\n",
    "    ϵ = 1e-3\n",
    "    if norm(KKT) <= ϵ && norm(nlp.c(x)) <= ϵ\n",
    "       return true\n",
    "    else\n",
    "       return false\n",
    "    end\n",
    " end"
   ]
  },
  {
   "cell_type": "code",
   "execution_count": null,
   "metadata": {},
   "outputs": [],
   "source": [
    "# using NLPModelsIpopt"
   ]
  },
  {
   "cell_type": "code",
   "execution_count": 15,
   "metadata": {},
   "outputs": [
    {
     "data": {
      "text/plain": [
       "quad_penalty (generic function with 1 method)"
      ]
     },
     "metadata": {},
     "output_type": "display_data"
    }
   ],
   "source": [
    "function quad_penalty(nlp      :: AbstractNLPModel, #Note que ça ne marche pas pour tous les NLPModel! \n",
    "    x        :: AbstractVector; \n",
    "    ϵ        :: AbstractFloat = 1e-3,\n",
    "    η        :: AbstractFloat = 1e6, \n",
    "    σ        :: AbstractFloat = 2.0,\n",
    "    max_eval :: Int = 1_000, \n",
    "    max_time :: AbstractFloat = 60.,\n",
    "    max_iter :: Int = typemax(Int64)\n",
    "    )\n",
    "##### Initialiser cx et gx au point x;\n",
    "# cx = nlp.c(x)       # Initialiser la violation des contraintes\n",
    "cx = nlp.c(x)\n",
    "gx = grad(nlp, x)   # Initialiser le gradient\n",
    "######################################################\n",
    "normcx = normcx_old = norm(cx)\n",
    "\n",
    "ρ = 1.\n",
    "\n",
    "iter = 0    \n",
    "\n",
    "el_time = 0.0\n",
    "tired   = neval_cons(nlp) > max_eval || el_time > max_time\n",
    "status  = :unknown\n",
    "\n",
    "start_time = time()\n",
    "too_small  = false\n",
    "normdual   = norm(gx) #exceptionnellement on ne va pas vérifier toute l'optimalité au début.\n",
    "optimal    = max(normcx, normdual) ≤ ϵ\n",
    "\n",
    "nlp_quad   = quad_penalty_adnlp(nlp, ρ)\n",
    "\n",
    "@info log_header([:iter, :nf, :primal, :status, :nd, :Δ],\n",
    "[Int, Int, Float64, String, Float64, Float64],\n",
    "hdr_override=Dict(:nf => \"#F\", :primal => \"‖F(x)‖\", :nd => \"‖d‖\"))\n",
    "\n",
    "while !(optimal || tired || too_small)\n",
    "\n",
    "#Appeler Ipopt pour résoudre le problème pénalisé en partant du point x0 = x.\n",
    "#utiliser l'option print_level = 0 pour enlever les affichages d'ipopt.\n",
    "stats = ipopt(nlp_quad, x0 = x, print_level = 0)\n",
    "################################################\n",
    "\n",
    "if stats.status == :first_order\n",
    "###### Mettre à jour cx avec la solution renvoyé par Ipopt\n",
    "x = stats.solution\n",
    "cx = nlp.c(x)\n",
    "##########################################################\n",
    "normcx_old = normcx\n",
    "normcx = norm(cx)\n",
    "end\n",
    "\n",
    "if normcx_old > 0.95 * normcx\n",
    "ρ *= σ\n",
    "end\n",
    "\n",
    "@info log_row(Any[iter, neval_cons(nlp), normcx, stats.status])\n",
    "\n",
    "nlp_quad   = quad_penalty_adnlp(nlp, ρ)\n",
    "\n",
    "el_time      = time() - start_time\n",
    "iter   += 1\n",
    "many_evals   = neval_cons(nlp) > max_eval\n",
    "iter_limit   = iter > max_iter\n",
    "tired        = many_evals || el_time > max_time || iter_limit || ρ ≥ η\n",
    "##### Utiliser la réalisabilité dual renvoyé par Ipopt pour `normdual`\n",
    "normdual     = stats.dual_feas\n",
    "###################################################################\n",
    "optimal      = max(normcx, normdual) ≤ ϵ\n",
    "end\n",
    "\n",
    "status = if optimal \n",
    ":first_order\n",
    "elseif tired\n",
    "if neval_cons(nlp) > max_eval\n",
    ":max_eval\n",
    "elseif el_time > max_time\n",
    ":max_time\n",
    "elseif iter > max_iter\n",
    ":max_iter\n",
    "else\n",
    ":unknown_tired\n",
    "end\n",
    "elseif too_small\n",
    ":stalled\n",
    "else\n",
    ":unknown\n",
    "end\n",
    "\n",
    "return GenericExecutionStats(nlp, status = status, solution = x,\n",
    "               objective = obj(nlp, x),\n",
    "               primal_feas = normcx,\n",
    "               dual_feas = normdual,\n",
    "               iter = iter, \n",
    "               elapsed_time = el_time,\n",
    "               solver_specific = Dict(:penalty => ρ))\n",
    "end"
   ]
  },
  {
   "attachments": {},
   "cell_type": "markdown",
   "metadata": {},
   "source": [
    "Tests de quad_penalty sur un problème avec contrainte d'égalité de la collection OptimizationProblems.ADNLPProblems"
   ]
  },
  {
   "cell_type": "code",
   "execution_count": 21,
   "metadata": {},
   "outputs": [],
   "source": [
    "using ADNLPModels"
   ]
  },
  {
   "cell_type": "code",
   "execution_count": 22,
   "metadata": {},
   "outputs": [],
   "source": [
    "using OptimizationProblems, OptimizationProblems.ADNLPProblems"
   ]
  },
  {
   "cell_type": "code",
   "execution_count": 23,
   "metadata": {},
   "outputs": [
    {
     "data": {
      "text/plain": [
       "20-element Vector{String}:\n",
       " \"AMPGO02\"\n",
       " \"AMPGO03\"\n",
       " \"AMPGO04\"\n",
       " \"AMPGO05\"\n",
       " \"AMPGO06\"\n",
       " \"AMPGO07\"\n",
       " \"AMPGO08\"\n",
       " \"AMPGO09\"\n",
       " \"AMPGO10\"\n",
       " \"AMPGO11\"\n",
       " \"AMPGO12\"\n",
       " \"AMPGO13\"\n",
       " \"AMPGO14\"\n",
       " \"AMPGO15\"\n",
       " \"AMPGO18\"\n",
       " \"AMPGO20\"\n",
       " \"AMPGO21\"\n",
       " \"AMPGO22\"\n",
       " \"BOX2\"\n",
       " \"BOX3\""
      ]
     },
     "metadata": {},
     "output_type": "display_data"
    },
    {
     "ename": "MethodError",
     "evalue": "MethodError: no method matching ADNLPModel(::OptimizationProblems.ADNLPProblems.var\"#f#49\"{Int64}, ::Vector{Float64}, ::Vector{Int64}, ::Vector{Int64}, ::Vector{Float64}, ::Vector{Float64}, ::Vector{Float64}; name=\"BOX2\")\nClosest candidates are:\n  ADNLPModel(::Any, ::S, !Matched::S, !Matched::S, ::Any, ::S, ::S; y0, name, lin, adbackend) where S at C:\\Users\\Goglu\\.julia\\packages\\ADNLPModels\\9yjtG\\src\\nlp.jl:121\n  ADNLPModel(::Any, ::S, ::Any, !Matched::S, ::S; y0, name, lin, adbackend) where S at C:\\Users\\Goglu\\.julia\\packages\\ADNLPModels\\9yjtG\\src\\nlp.jl:83\n  ADNLPModel(!Matched::NLPModelMeta{T, S}, !Matched::Counters, !Matched::ADNLPModels.ADBackend, ::Any, ::Any) where {T, S} at C:\\Users\\Goglu\\.julia\\packages\\ADNLPModels\\9yjtG\\src\\nlp.jl:4 got unsupported keyword argument \"name\"\n  ...",
     "output_type": "error",
     "traceback": [
      "MethodError: no method matching ADNLPModel(::OptimizationProblems.ADNLPProblems.var\"#f#49\"{Int64}, ::Vector{Float64}, ::Vector{Int64}, ::Vector{Int64}, ::Vector{Float64}, ::Vector{Float64}, ::Vector{Float64}; name=\"BOX2\")\n",
      "Closest candidates are:\n",
      "  ADNLPModel(::Any, ::S, !Matched::S, !Matched::S, ::Any, ::S, ::S; y0, name, lin, adbackend) where S at C:\\Users\\Goglu\\.julia\\packages\\ADNLPModels\\9yjtG\\src\\nlp.jl:121\n",
      "  ADNLPModel(::Any, ::S, ::Any, !Matched::S, ::S; y0, name, lin, adbackend) where S at C:\\Users\\Goglu\\.julia\\packages\\ADNLPModels\\9yjtG\\src\\nlp.jl:83\n",
      "  ADNLPModel(!Matched::NLPModelMeta{T, S}, !Matched::Counters, !Matched::ADNLPModels.ADBackend, ::Any, ::Any) where {T, S} at C:\\Users\\Goglu\\.julia\\packages\\ADNLPModels\\9yjtG\\src\\nlp.jl:4 got unsupported keyword argument \"name\"\n",
      "  ...\n",
      "\n",
      "Stacktrace:\n",
      " [1] BOX2(; n::Int64, type::Val{Float64}, m::Int64, kwargs::Base.Pairs{Symbol, Union{}, Tuple{}, NamedTuple{(), Tuple{}}})\n",
      "   @ OptimizationProblems.ADNLPProblems C:\\Users\\Goglu\\.julia\\packages\\OptimizationProblems\\kFBID\\src\\ADNLPProblems\\BOX2.jl:22\n",
      " [2] BOX2()\n",
      "   @ OptimizationProblems.ADNLPProblems C:\\Users\\Goglu\\.julia\\packages\\OptimizationProblems\\kFBID\\src\\ADNLPProblems\\BOX2.jl:3\n",
      " [3] top-level scope\n",
      "   @ c:\\Users\\Goglu\\GitClones\\MTH8408\\lab5\\Rapport_Lab5.ipynb:10"
     ]
    }
   ],
   "source": [
    "# problem = BNST2(3)\n",
    "# nlp_problem = MathOptNLPModel(problem)\n",
    "\n",
    "# quad_penalty(nlp_problem, nlp_problem.meta.x0)\n",
    "\n",
    "problems = OptimizationProblems.meta[!, :name]\n",
    "\n",
    "# nlp = OptimizationProblems.ADNLPProblems.zangwil3()\n",
    "nlp = BOX2()"
   ]
  }
 ],
 "metadata": {
  "kernelspec": {
   "display_name": "Julia 1.8.4",
   "language": "julia",
   "name": "julia-1.8"
  },
  "language_info": {
   "file_extension": ".jl",
   "mimetype": "application/julia",
   "name": "julia",
   "version": "1.8.4"
  },
  "orig_nbformat": 4
 },
 "nbformat": 4,
 "nbformat_minor": 2
}
