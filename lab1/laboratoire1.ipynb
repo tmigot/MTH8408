{
 "cells": [
  {
   "cell_type": "markdown",
   "metadata": {},
   "source": [
    " # MTH8211 : Algèbre linéaire numérique appliquée\n",
    " ## Laboratoire 1: Outils d’algèbre linéaire en Julia\n",
    "Alexis Montoison et Dominique Orban"
   ]
  },
  {
   "cell_type": "markdown",
   "metadata": {},
   "source": [
    "### **a) Création des vecteurs**"
   ]
  },
  {
   "cell_type": "code",
   "execution_count": null,
   "metadata": {},
   "outputs": [],
   "source": [
    "v = [1; 2; 3]  # Vecteur de longueur 3\n",
    "v = [1, 2, 3]  # Vecteur de longueur 3"
   ]
  },
  {
   "cell_type": "code",
   "execution_count": null,
   "metadata": {},
   "outputs": [],
   "source": [
    "v = 1:2:21  # Entiers allant de 1 à 21 avec un pas de 2"
   ]
  },
  {
   "cell_type": "code",
   "execution_count": null,
   "metadata": {},
   "outputs": [],
   "source": [
    "v = range(1, 5, length = 100)  # Vecteur de 100 points équidistants entre 1 et 5"
   ]
  },
  {
   "cell_type": "markdown",
   "metadata": {},
   "source": [
    "### b) Création des matrices"
   ]
  },
  {
   "cell_type": "code",
   "execution_count": null,
   "metadata": {},
   "outputs": [],
   "source": [
    "M = [1 2; 3 4]  # Matrice de taille 2 x 2"
   ]
  },
  {
   "cell_type": "code",
   "execution_count": null,
   "metadata": {},
   "outputs": [],
   "source": [
    "M = zeros(2, 2)  # Matrice contenant que des 0 de taille 2 x 2"
   ]
  },
  {
   "cell_type": "code",
   "execution_count": null,
   "metadata": {},
   "outputs": [],
   "source": [
    "M = ones(2, 2)  # Matrice contenant que des 1 de taille 2 x 2"
   ]
  },
  {
   "cell_type": "code",
   "execution_count": null,
   "metadata": {},
   "outputs": [],
   "source": [
    "M = I  # Matrice identité dont la dimension s'adapte aux opérations"
   ]
  },
  {
   "cell_type": "code",
   "execution_count": null,
   "metadata": {},
   "outputs": [],
   "source": [
    "M = Matrix(1.0*I, 3, 3) # Construction de la matrice identité 3 x 3 au format dense"
   ]
  },
  {
   "cell_type": "code",
   "execution_count": null,
   "metadata": {},
   "outputs": [],
   "source": [
    "M = sparse(1.0*I, 3, 3) # Construction de la matrice identité 3 x 3 au format creux"
   ]
  },
  {
   "cell_type": "code",
   "execution_count": null,
   "metadata": {},
   "outputs": [],
   "source": [
    "M = Diagonal([1, 2, 3]) # Matrice diagonale"
   ]
  },
  {
   "cell_type": "code",
   "execution_count": null,
   "metadata": {},
   "outputs": [],
   "source": [
    "M = rand(2, 2)  # Matrice de nombres aléatoires générés depuis une loi uniforme"
   ]
  },
  {
   "cell_type": "code",
   "execution_count": null,
   "metadata": {},
   "outputs": [],
   "source": [
    "M = randn(2, 2)  # Matrice de nombres aléatoires générés depuis une loi normale"
   ]
  },
  {
   "cell_type": "code",
   "execution_count": null,
   "metadata": {},
   "outputs": [],
   "source": [
    "M = spzeros(2, 2)  # Création d'une matrice creuse de taille 2 x 2\n",
    "M[1, 2] = 4\n",
    "M[2, 2] = 1"
   ]
  },
  {
   "cell_type": "code",
   "execution_count": null,
   "metadata": {},
   "outputs": [],
   "source": [
    "x = [1, 2, 3]\n",
    "y = [4, 5, 6, 7]\n",
    "z = [8, 9, 10]\n",
    "M = Tridiagonal(x, y, z)  # Création d'une matrice tridiagonale"
   ]
  },
  {
   "cell_type": "code",
   "execution_count": null,
   "metadata": {},
   "outputs": [],
   "source": [
    "M = Bidiagonal(y, x, :L)  # Création d'une matrice bidiagonale inférieure"
   ]
  },
  {
   "cell_type": "code",
   "execution_count": null,
   "metadata": {},
   "outputs": [],
   "source": [
    "M = Bidiagonal(y, z, :U)  # Création d'une matrice bidiagonale supérieure"
   ]
  },
  {
   "cell_type": "code",
   "execution_count": null,
   "metadata": {},
   "outputs": [],
   "source": [
    "M = [1 2 3 4; 5 6 7 8; 9 10 11 12; 13 14 15 16]"
   ]
  },
  {
   "cell_type": "code",
   "execution_count": null,
   "metadata": {},
   "outputs": [],
   "source": [
    "LowerTriangular(M)  # Triangle inférieur de M"
   ]
  },
  {
   "cell_type": "code",
   "execution_count": null,
   "metadata": {},
   "outputs": [],
   "source": [
    "UpperTriangular(M)  # Triangle supérieur de M"
   ]
  },
  {
   "cell_type": "code",
   "execution_count": null,
   "metadata": {},
   "outputs": [],
   "source": [
    "UnitLowerTriangular(M)  # Triangle strictement inférieur de M avec diagonale unitaire"
   ]
  },
  {
   "cell_type": "code",
   "execution_count": null,
   "metadata": {},
   "outputs": [],
   "source": [
    "UnitUpperTriangular(M)  # Triangle strictement supérieur de M avec diagonale unitaire"
   ]
  },
  {
   "cell_type": "code",
   "execution_count": null,
   "metadata": {},
   "outputs": [],
   "source": [
    "M1 = sprand(2, 2, 1.0)  # Matrice aléatoire de taille 2 x 2 avec une densité moyenne de 0.5\n",
    "M2 = sprand(3, 3, 1.0)\n",
    "BM = blockdiag(M1, M2)  # Matrice bloc diagonale"
   ]
  },
  {
   "cell_type": "markdown",
   "metadata": {},
   "source": [
    "### c) Manipulation des vecteurs et des matrices"
   ]
  },
  {
   "cell_type": "code",
   "execution_count": null,
   "metadata": {},
   "outputs": [],
   "source": [
    "M = [1+im 2-im; -1-im 3+2im]"
   ]
  },
  {
   "cell_type": "code",
   "execution_count": null,
   "metadata": {},
   "outputs": [],
   "source": [
    "transpose(M)  # Matrice transposéee Mᵀ"
   ]
  },
  {
   "cell_type": "code",
   "execution_count": null,
   "metadata": {},
   "outputs": [],
   "source": [
    "M'  # Matrice adjointe Mᴴ (transposée de la matrice conjuguée)"
   ]
  },
  {
   "cell_type": "code",
   "execution_count": null,
   "metadata": {},
   "outputs": [],
   "source": [
    "adjoint(M)"
   ]
  },
  {
   "cell_type": "code",
   "execution_count": null,
   "metadata": {},
   "outputs": [],
   "source": [
    "M'"
   ]
  },
  {
   "cell_type": "code",
   "execution_count": null,
   "metadata": {},
   "outputs": [],
   "source": [
    "M = [[1 2] [1 2]]  # Concaténation horizontale\n",
    "M = hcat([1 2], [1 2])"
   ]
  },
  {
   "cell_type": "code",
   "execution_count": null,
   "metadata": {},
   "outputs": [],
   "source": [
    "M = [[1 2]; [1 2]]  #  Concaténation verticale\n",
    "M = vcat([1 2], [1 2])"
   ]
  },
  {
   "cell_type": "code",
   "execution_count": null,
   "metadata": {},
   "outputs": [],
   "source": [
    "v = 1:12  # Équivalent à 1:1:12\n",
    "M = reshape(v, 3, 4)  # Redimensionnement d'un vecteur en une matrice 5 x 4"
   ]
  },
  {
   "cell_type": "code",
   "execution_count": null,
   "metadata": {},
   "outputs": [],
   "source": [
    "M[:]  # Conversion d'une matrice en un vecteur"
   ]
  },
  {
   "cell_type": "code",
   "execution_count": null,
   "metadata": {},
   "outputs": [],
   "source": [
    "reverse(M, dims = 1)  # Permutation des lignes"
   ]
  },
  {
   "cell_type": "code",
   "execution_count": null,
   "metadata": {},
   "outputs": [],
   "source": [
    "reverse(M, dims = 2)  # Permutation des colonnes"
   ]
  },
  {
   "cell_type": "code",
   "execution_count": null,
   "metadata": {},
   "outputs": [],
   "source": [
    "A = [1 2; 3 4]\n",
    "repeat(A, 3, 4)  # Répétion de A, 3 fois dans la dimension des lignes et 4 fois dans la dimension des colonnes"
   ]
  },
  {
   "cell_type": "code",
   "execution_count": null,
   "metadata": {},
   "outputs": [],
   "source": [
    "M = rand(4, 4)\n",
    "A = similar(M) # Construction d'une matrice similaire à M (type / dimensions)\n",
    "A = similar(M, 2, 2) # Contruction d'une matrice similaire à M avec des dimensions différentes"
   ]
  },
  {
   "cell_type": "markdown",
   "metadata": {},
   "source": [
    "### d) Accès aux composants d'un vecteur ou d'une matrice"
   ]
  },
  {
   "cell_type": "code",
   "execution_count": null,
   "metadata": {},
   "outputs": [],
   "source": [
    "M[2, 2]  # Accès au coefficient (2, 2) de M"
   ]
  },
  {
   "cell_type": "code",
   "execution_count": null,
   "metadata": {},
   "outputs": [],
   "source": [
    "M[1:2, :]  # Accès aux lignes 1 à 2 de M"
   ]
  },
  {
   "cell_type": "code",
   "execution_count": null,
   "metadata": {},
   "outputs": [],
   "source": [
    "M[:, 1:end]  # Accès aux colonnes 1 à 3 de M"
   ]
  },
  {
   "cell_type": "code",
   "execution_count": null,
   "metadata": {},
   "outputs": [],
   "source": [
    "D = diag(M)  # Vecteur contenant la diagonale de la matrice M"
   ]
  },
  {
   "cell_type": "code",
   "execution_count": null,
   "metadata": {},
   "outputs": [],
   "source": [
    "nrow, ncol = size(M)  # Dimensions de la matrices M "
   ]
  },
  {
   "cell_type": "code",
   "execution_count": null,
   "metadata": {},
   "outputs": [],
   "source": [
    "v = rand(3)\n",
    "nvec = length(v) # Taille du vecteur v"
   ]
  },
  {
   "cell_type": "markdown",
   "metadata": {},
   "source": [
    "### e) Opérations mathématiques"
   ]
  },
  {
   "cell_type": "code",
   "execution_count": null,
   "metadata": {},
   "outputs": [],
   "source": [
    "A = [1 2; 3 4]\n",
    "B = [5 6; 7 8]"
   ]
  },
  {
   "cell_type": "code",
   "execution_count": null,
   "metadata": {},
   "outputs": [],
   "source": [
    "A ⋅ B  # Produit scalaire de A et B\n",
    "dot(A, B) # trace(AᵀB)"
   ]
  },
  {
   "cell_type": "code",
   "execution_count": null,
   "metadata": {},
   "outputs": [],
   "source": [
    "A * B  # Produit matriciel de A et B"
   ]
  },
  {
   "cell_type": "code",
   "execution_count": null,
   "metadata": {},
   "outputs": [],
   "source": [
    "x = [10, 20]\n",
    "y = similar(x)\n",
    "mul!(y, A, x) # Produit matrice-vecteur en place"
   ]
  },
  {
   "cell_type": "code",
   "execution_count": null,
   "metadata": {},
   "outputs": [],
   "source": [
    "A .* B  # Produit des coefficients termes à termes"
   ]
  },
  {
   "cell_type": "code",
   "execution_count": null,
   "metadata": {},
   "outputs": [],
   "source": [
    "A^2  # Puissance d'une matrice (A * A)"
   ]
  },
  {
   "cell_type": "code",
   "execution_count": null,
   "metadata": {},
   "outputs": [],
   "source": [
    "A.^2  # Puissance d'une matrice, coefficient par coefficient (A .* A)"
   ]
  },
  {
   "cell_type": "code",
   "execution_count": null,
   "metadata": {},
   "outputs": [],
   "source": [
    "inv(A)  # Inverse d'une matrice"
   ]
  },
  {
   "cell_type": "code",
   "execution_count": null,
   "metadata": {},
   "outputs": [],
   "source": [
    "det(A)  # Déterminant d'une matrice"
   ]
  },
  {
   "cell_type": "code",
   "execution_count": null,
   "metadata": {},
   "outputs": [],
   "source": [
    "tr(A)  # Trace d'une matrice"
   ]
  },
  {
   "cell_type": "code",
   "execution_count": null,
   "metadata": {},
   "outputs": [],
   "source": [
    "val, vec = eigen(A)  # Valeurs propres et vecteurs propres de A"
   ]
  },
  {
   "cell_type": "code",
   "execution_count": null,
   "metadata": {},
   "outputs": [],
   "source": [
    "norm(A)  # Norme euclienne"
   ]
  },
  {
   "cell_type": "code",
   "execution_count": null,
   "metadata": {},
   "outputs": [],
   "source": [
    "b = A * ones(2)\n",
    "x = A \\ b  # Résolution du système linéaire Ax = b"
   ]
  },
  {
   "cell_type": "markdown",
   "metadata": {},
   "source": [
    "### f) Stockage de matrices creuses\n",
    "Les gifs utilisés dans la suite du notebook proviennent de https://matteding.github.io/."
   ]
  },
  {
   "cell_type": "markdown",
   "metadata": {},
   "source": [
    "À l'opposé des matrices denses on peut se limiter au stockage des coefficients non nuls (*nnz*) pour les matrices creuses. On peut alors accélerer les opérations et réduire l'utilisation de la mémoire. Il existe différents formats de stockage pour les matrices creuses. Dans le cadre du cours on va se limiter aux formats COO, CSC et CSR."
   ]
  },
  {
   "cell_type": "markdown",
   "metadata": {},
   "source": [
    "![label_image](https://matteding.github.io/images/sparse_dense.gif)"
   ]
  },
  {
   "cell_type": "markdown",
   "metadata": {},
   "source": [
    "__Format COO__\n",
    "\n",
    "Il s'agit du format le plus facile à comprendre. Il utilise trois vecteurs pour stocker les lignes, les colonnes et les valeurs des coefficients non nuls.\n",
    "Ce format est très pratique pour ajouter des coefficients à la matrices."
   ]
  },
  {
   "cell_type": "markdown",
   "metadata": {},
   "source": [
    "![label_image](https://matteding.github.io/images/coo.gif)"
   ]
  },
  {
   "cell_type": "markdown",
   "metadata": {},
   "source": [
    "__Formats CSC et CSR__\n",
    "\n",
    "Le format COO est adapté à la construction des matrices creuses mais ce n'est pas le format le plus performant pour les opérations. On préfére les formats compressés pour la lecture des données afin de limiter les accès en mémoire."
   ]
  },
  {
   "cell_type": "markdown",
   "metadata": {},
   "source": [
    "![label_image](https://matteding.github.io/images/csc.gif)"
   ]
  },
  {
   "cell_type": "markdown",
   "metadata": {},
   "source": [
    "La différence entre le format COO et CSC / CSR est que les colonnes / lignes sont compressées à l'aide d'un vecteur représentant des pointeurs."
   ]
  },
  {
   "cell_type": "markdown",
   "metadata": {},
   "source": [
    "![label_image](https://matteding.github.io/images/csr.gif)"
   ]
  },
  {
   "cell_type": "markdown",
   "metadata": {},
   "source": [
    "Le format CSR fonctionne de même manière analogue au format CSC. En fonction de la structure de la matrice, un des deux formats nécessite moins de mémoire.\n",
    "\n",
    "En Julia les matrices creuses sont stockées au format CSC."
   ]
  }
 ],
 "metadata": {
  "@webio": {
   "lastCommId": null,
   "lastKernelId": null
  },
  "kernelspec": {
   "display_name": "Julia 1.5.0",
   "language": "julia",
   "name": "julia-1.5"
  },
  "language_info": {
   "file_extension": ".jl",
   "mimetype": "application/julia",
   "name": "julia",
   "version": "1.5.0"
  }
 },
 "nbformat": 4,
 "nbformat_minor": 4
}
