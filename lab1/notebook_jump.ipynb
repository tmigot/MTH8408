{
 "cells": [
  {
   "cell_type": "markdown",
   "metadata": {},
   "source": [
    " # MTH8408 : Méthodes d'optimisation et contrôle optimal\n",
    " ## Laboratoire 1: Outils pour l'algèbre linéaire et l'optimisation\n",
    "Tangi Migot"
   ]
  },
  {
   "cell_type": "code",
   "execution_count": null,
   "metadata": {},
   "outputs": [],
   "source": [
    "using Pkg; \n",
    "Pkg.activate(\"jump\")"
   ]
  },
  {
   "cell_type": "markdown",
   "metadata": {},
   "source": [
    "## JuMP: un langage de modélisation"
   ]
  },
  {
   "cell_type": "markdown",
   "metadata": {},
   "source": [
    "### JuMP ?\n",
    "JuMP est le language de modélisation pour l'optimisation natif dans Julia. En d'autres termes, on peut modéliser des problèmes d'optimisation en Julia grâce à ce package.\n",
    "\n",
    "JuMP fait partie de l'organisation [jump-dev](https://jump.dev/) qui propose un ensemble d'outils concernant l'optimisation.\n",
    "\n",
    "On pourra trouver beaucoup d'informations et d'exemples dans la documentation de JuMP [jump.dev/JuMP.jl/stable/](https://jump.dev/JuMP.jl/stable/)"
   ]
  },
  {
   "cell_type": "markdown",
   "metadata": {},
   "source": [
    "### Installer JuMP\n",
    "Comme on l'a fait pour `LinearAlgebra` il faut installer le package `JuMP` via le *package manager*."
   ]
  },
  {
   "cell_type": "code",
   "execution_count": null,
   "metadata": {},
   "outputs": [],
   "source": [
    "] add JuMP"
   ]
  },
  {
   "cell_type": "markdown",
   "metadata": {},
   "source": [
    "Ensuite, on peut ajouter `JuMP` a notre environement et commencer à l'utiliser."
   ]
  },
  {
   "cell_type": "code",
   "execution_count": null,
   "metadata": {},
   "outputs": [],
   "source": [
    "using JuMP"
   ]
  },
  {
   "cell_type": "markdown",
   "metadata": {},
   "source": [
    "### Installer un solveur\n",
    "Dans cet exemple, on va ajouter [`Ipopt`](https://en.wikipedia.org/wiki/IPOPT) qui est un package qui fournit un solveur pour l'optimisation nonlinéaire."
   ]
  },
  {
   "cell_type": "code",
   "execution_count": null,
   "metadata": {},
   "outputs": [],
   "source": [
    "] add Ipopt"
   ]
  },
  {
   "cell_type": "code",
   "execution_count": null,
   "metadata": {},
   "outputs": [],
   "source": [
    "#ou alors:\n",
    "#using Pkg\n",
    "#Pkg.add(\"Ipopt\")"
   ]
  },
  {
   "cell_type": "code",
   "execution_count": null,
   "metadata": {},
   "outputs": [],
   "source": [
    "using Ipopt"
   ]
  },
  {
   "cell_type": "code",
   "execution_count": null,
   "metadata": {},
   "outputs": [],
   "source": [
    "? ipopt"
   ]
  },
  {
   "cell_type": "markdown",
   "metadata": {},
   "source": [
    "On installe aussi `MathOptInterface` qui permet de communiquer entre le modèle et le solveur."
   ]
  },
  {
   "cell_type": "code",
   "execution_count": null,
   "metadata": {},
   "outputs": [],
   "source": [
    "using MathOptInterface"
   ]
  },
  {
   "cell_type": "markdown",
   "metadata": {},
   "source": [
    "### Structure d'un modèle JuMP\n",
    "Tous les modèles écrits avec JuMP ont la même structure:\n",
    "- un objet `Model`, c'est l'initialisation de notre modèle.\n",
    "- un objet `Optimizer`, qui spécifie un solveur.\n",
    "- `Variables`, les variables du problème\n",
    "- `Objective`, la fonction objectif\n",
    "- `Constraints`, les contraintes."
   ]
  },
  {
   "cell_type": "markdown",
   "metadata": {},
   "source": [
    "#### Le modèle\n",
    "Tous les problèmes modéliser avec JuMP sont des objets `Model`. Cet objet sera ensuite toujours mentionné lorsque l'on ajoutera des variables, la fonction objectif et des contraintes."
   ]
  },
  {
   "cell_type": "code",
   "execution_count": null,
   "metadata": {},
   "outputs": [],
   "source": [
    "MonModel = Model()"
   ]
  },
  {
   "cell_type": "markdown",
   "metadata": {},
   "source": [
    "Il est également possible d'associer un solveur à ce modèle."
   ]
  },
  {
   "cell_type": "code",
   "execution_count": null,
   "metadata": {},
   "outputs": [],
   "source": [
    "MonModel = Model(Ipopt.Optimizer) #utilise Ipopt comme solveur"
   ]
  },
  {
   "cell_type": "markdown",
   "metadata": {},
   "source": [
    "#### Les variables\n",
    "Une première donnée importante de notre problème d'optimisation est la variable."
   ]
  },
  {
   "cell_type": "code",
   "execution_count": null,
   "metadata": {},
   "outputs": [],
   "source": [
    "@variable(MonModel, 0 <= x <= 10)"
   ]
  },
  {
   "cell_type": "code",
   "execution_count": null,
   "metadata": {},
   "outputs": [],
   "source": [
    "unregister(MonModel, :x) # if you want to remove the variable x from the model"
   ]
  },
  {
   "cell_type": "markdown",
   "metadata": {},
   "source": [
    "A ce stade, on peut aussi spécifier des contraintes de bornes sur les variables."
   ]
  },
  {
   "cell_type": "code",
   "execution_count": null,
   "metadata": {},
   "outputs": [],
   "source": [
    "n = 10\n",
    "l = [1; 2; 3; 4; 5; 6; 7; 8; 9; 10]\n",
    "u = [10; 11; 12; 13; 14; 15; 16; 17; 18; 19]\n",
    "@variable(MonModel, l[i] <= x[i=1:n] <= u[i])"
   ]
  },
  {
   "cell_type": "markdown",
   "metadata": {},
   "source": [
    "ou plus simplement"
   ]
  },
  {
   "cell_type": "code",
   "execution_count": null,
   "metadata": {},
   "outputs": [],
   "source": [
    "@variable(MonModel, xx[i=1:n] >= 0)"
   ]
  },
  {
   "cell_type": "markdown",
   "metadata": {},
   "source": [
    "#### La fonction objectif\n",
    "La fonction objectif se définit à l'aide de `@objective` et a trois arguments: le nom du modèle, le type d'optimisation (min ou max), et la fonction."
   ]
  },
  {
   "cell_type": "code",
   "execution_count": null,
   "metadata": {},
   "outputs": [],
   "source": [
    "c = [2; 3; 4; 5] \n",
    "@objective(MonModel, Min, sum(c[i]*x[i] for i in 1:4))"
   ]
  },
  {
   "cell_type": "markdown",
   "metadata": {},
   "source": [
    "On peut aussi l'écrire sous forme de problème de maximisation."
   ]
  },
  {
   "cell_type": "code",
   "execution_count": null,
   "metadata": {},
   "outputs": [],
   "source": [
    "@objective(MonModel, Max, sum(c[i]*x[i] for i in 1:4))"
   ]
  },
  {
   "cell_type": "markdown",
   "metadata": {},
   "source": [
    "Si la fonction objectif est nonlinéaire, on peut être plus précis et utiliser `@NLobjective`."
   ]
  },
  {
   "cell_type": "code",
   "execution_count": null,
   "metadata": {},
   "outputs": [],
   "source": [
    "@NLobjective(MonModel, Min, exp(x[1]))"
   ]
  },
  {
   "cell_type": "markdown",
   "metadata": {},
   "source": [
    "#### Les contraintes"
   ]
  },
  {
   "cell_type": "code",
   "execution_count": null,
   "metadata": {},
   "outputs": [],
   "source": [
    "TonModel = Model()\n",
    "@variable(TonModel, x) #on peut avoir plusieurs types de variables\n",
    "@variable(TonModel, y)\n",
    "@constraint(TonModel, 5*x + 3*y <= 5) #une première contrainte"
   ]
  },
  {
   "cell_type": "markdown",
   "metadata": {},
   "source": [
    "Il peut être utile de nommer une contrainte pour s'y réferer ensuite."
   ]
  },
  {
   "cell_type": "code",
   "execution_count": null,
   "metadata": {},
   "outputs": [],
   "source": [
    "@constraint(TonModel, un_nom_de_contrainte, 6*x + 4*y >= 5)"
   ]
  },
  {
   "cell_type": "markdown",
   "metadata": {},
   "source": [
    "On peut aussi ajouter plusieurs contraints simultanément avec @constraints"
   ]
  },
  {
   "cell_type": "code",
   "execution_count": null,
   "metadata": {},
   "outputs": [],
   "source": [
    "@constraints(TonModel, begin\n",
    "           2x <=  1\n",
    "            x >= -1\n",
    "       end)"
   ]
  },
  {
   "cell_type": "code",
   "execution_count": null,
   "metadata": {},
   "outputs": [],
   "source": [
    "TonModel[:un_nom_de_contrainte]"
   ]
  },
  {
   "cell_type": "markdown",
   "metadata": {},
   "source": [
    "Si la contrainte est nonlinéaire, on peut être plus précis et utiliser `@NLconstraint`."
   ]
  },
  {
   "cell_type": "code",
   "execution_count": null,
   "metadata": {},
   "outputs": [],
   "source": [
    "@NLconstraint(TonModel, x^2 == 0)"
   ]
  },
  {
   "cell_type": "markdown",
   "metadata": {},
   "source": [
    "On peut également introduire des contraintes plus génériques à l'aide de fonctions."
   ]
  },
  {
   "cell_type": "code",
   "execution_count": null,
   "metadata": {},
   "outputs": [],
   "source": [
    "a = [1; -3; 5; 7] \n",
    "@variable(TonModel, w[1:4])\n",
    "@constraint(TonModel, sum(a[i]*w[i] for i in 1:4) <= 3)"
   ]
  },
  {
   "cell_type": "markdown",
   "metadata": {},
   "source": [
    "On peut utiliser une boucle pour définir plusieurs contraintes."
   ]
  },
  {
   "cell_type": "code",
   "execution_count": null,
   "metadata": {},
   "outputs": [],
   "source": [
    "@constraint(TonModel, conRef3[i in 1:3], 6*x + 4*y >= 5*i)\n",
    "#= ou identiquement:\n",
    "for i in 1:3\n",
    "    @constraint(yourModel, 6*x + 4*y >= 5*i)\n",
    "end\n",
    "=#"
   ]
  },
  {
   "cell_type": "markdown",
   "metadata": {},
   "source": [
    "#### Exemple d'un code complet: Optimisation linéaire\n",
    "On résout ici un problème d'optimisation linéaire\n",
    "$$\n",
    "\\min_{x \\in R^n} - x - 2y \\ \\text{sujet à} \\ x + y \\leq 1, 0 \\leq x,y \\leq 1.\n",
    "$$"
   ]
  },
  {
   "cell_type": "code",
   "execution_count": null,
   "metadata": {},
   "outputs": [],
   "source": [
    "model = Model(Ipopt.Optimizer)"
   ]
  },
  {
   "cell_type": "markdown",
   "metadata": {},
   "source": [
    "On définit les variables."
   ]
  },
  {
   "cell_type": "code",
   "execution_count": null,
   "metadata": {},
   "outputs": [],
   "source": [
    "@variable(model, 0 <= x <= 1)\n",
    "@variable(model, 0 <= y <= 1)"
   ]
  },
  {
   "cell_type": "markdown",
   "metadata": {},
   "source": [
    "La contrainte $x + y \\leq 1$."
   ]
  },
  {
   "cell_type": "code",
   "execution_count": null,
   "metadata": {},
   "outputs": [],
   "source": [
    "@constraint(model, x + y <= 1)"
   ]
  },
  {
   "cell_type": "markdown",
   "metadata": {},
   "source": [
    "Enfin, on ajoute la fonction objectif."
   ]
  },
  {
   "cell_type": "code",
   "execution_count": null,
   "metadata": {},
   "outputs": [],
   "source": [
    "@objective(model, Min, -x - 2y)"
   ]
  },
  {
   "cell_type": "markdown",
   "metadata": {},
   "source": [
    "Pour résoudre ce problème, on peut utiliser la fonction `optimize`."
   ]
  },
  {
   "cell_type": "code",
   "execution_count": null,
   "metadata": {},
   "outputs": [],
   "source": [
    "JuMP.optimize!(model)"
   ]
  },
  {
   "cell_type": "markdown",
   "metadata": {},
   "source": [
    "Une fois la résolution terminée, on peut vérifier le status de la résolution."
   ]
  },
  {
   "cell_type": "code",
   "execution_count": null,
   "metadata": {},
   "outputs": [],
   "source": [
    "@show JuMP.has_values(model)\n",
    "@show JuMP.termination_status(model) == MathOptInterface.LOCALLY_SOLVED\n",
    "@show JuMP.primal_status(model) == MathOptInterface.FEASIBLE_POINT\n",
    "@show JuMP.dual_status(model) == MathOptInterface.FEASIBLE_POINT"
   ]
  },
  {
   "cell_type": "markdown",
   "metadata": {},
   "source": [
    "On peut également faire une analyse sur la solution obtenue."
   ]
  },
  {
   "cell_type": "code",
   "execution_count": null,
   "metadata": {},
   "outputs": [],
   "source": [
    "@show JuMP.value(x)              # Old syntax: getvalue(x)\n",
    "@show JuMP.value(y)              # Old syntax: getvalue(y)\n",
    "@show JuMP.objective_value(model)       # Old syntax: getobjectivevalue(model)"
   ]
  },
  {
   "cell_type": "markdown",
   "metadata": {},
   "source": [
    "#### Exemple d'un code complet: Optimisation nonlinéaire\n",
    "$$\n",
    "\\min_{x,y} exp(x)+y \\text{ s.à } exp(x) + sin(x) <= 0\n",
    "$$"
   ]
  },
  {
   "cell_type": "code",
   "execution_count": null,
   "metadata": {},
   "outputs": [],
   "source": [
    "model = Model(Ipopt.Optimizer)\n",
    "@variable(model, x)\n",
    "@variable(model, y)\n",
    "\n",
    "@NLobjective(model, Min, exp(x)+y)\n",
    "@NLconstraint(model, exp(x)+sin(x) <=0)"
   ]
  },
  {
   "cell_type": "code",
   "execution_count": null,
   "metadata": {},
   "outputs": [],
   "source": [
    "optimize!(model)\n",
    "println(\"x = \", value(x), \" y = \", value(y))"
   ]
  },
  {
   "cell_type": "code",
   "execution_count": null,
   "metadata": {},
   "outputs": [],
   "source": [
    "termination_status(model)"
   ]
  },
  {
   "cell_type": "code",
   "execution_count": null,
   "metadata": {},
   "outputs": [],
   "source": [
    "vals = zeros(2)\n",
    "x_index = JuMP.index(x)\n",
    "y_index = JuMP.index(y)"
   ]
  },
  {
   "cell_type": "code",
   "execution_count": null,
   "metadata": {},
   "outputs": [],
   "source": [
    "d = NLPEvaluator(model)"
   ]
  },
  {
   "cell_type": "code",
   "execution_count": null,
   "metadata": {},
   "outputs": [],
   "source": [
    "MathOptInterface.initialize(d, [:Grad])"
   ]
  },
  {
   "cell_type": "code",
   "execution_count": null,
   "metadata": {},
   "outputs": [],
   "source": [
    "MathOptInterface.eval_objective(d, zeros(2))"
   ]
  },
  {
   "cell_type": "code",
   "execution_count": null,
   "metadata": {},
   "outputs": [],
   "source": [
    "∇f = zeros(2)\n",
    "MathOptInterface.eval_objective_gradient(d, ∇f, zeros(2))\n",
    "∇f"
   ]
  },
  {
   "cell_type": "code",
   "execution_count": null,
   "metadata": {},
   "outputs": [],
   "source": [
    "J = zeros(1,2)\n",
    "MathOptInterface.eval_constraint_jacobian(d, J, zeros(2))\n",
    "J"
   ]
  },
  {
   "cell_type": "markdown",
   "metadata": {},
   "source": [
    "#### Plus d'information\n",
    "Dans ce cours, nous n'allons pas uniquement nous concentrer sur des problèmes linéaires, mais aussi nonlinéaire.\n",
    "Vous trouverez plus d'informations pour ce cas dans la documentation de jump-dev:\n",
    "\n",
    "[https://jump.dev/JuMP.jl/stable/tutorials/nonlinear/introduction/](https://jump.dev/JuMP.jl/stable/tutorials/nonlinear/introduction/)\n",
    "\n",
    "et la documentation de MathOptInterface:\n",
    "\n",
    "[https://jump.dev/MathOptInterface.jl/stable/](https://jump.dev/MathOptInterface.jl/stable/)\n",
    "\n",
    "Et ça sera le sujet du projet !"
   ]
  },
  {
   "cell_type": "code",
   "execution_count": null,
   "metadata": {},
   "outputs": [],
   "source": []
  }
 ],
 "metadata": {
  "kernelspec": {
   "display_name": "Julia 1.7.1",
   "language": "julia",
   "name": "julia-1.7"
  },
  "language_info": {
   "file_extension": ".jl",
   "mimetype": "application/julia",
   "name": "julia",
   "version": "1.7.1"
  }
 },
 "nbformat": 4,
 "nbformat_minor": 4
}
