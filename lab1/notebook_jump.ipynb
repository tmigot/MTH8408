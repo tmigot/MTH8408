{
 "cells": [
  {
   "cell_type": "markdown",
   "metadata": {},
   "source": [
    " # MTH8408 : Méthodes d'optimisation et contrôle optimal\n",
    " ## Laboratoire 1: Outils pour l'algèbre linéaire et l'optimisation\n",
    "Tangi Migot"
   ]
  },
  {
   "cell_type": "code",
   "execution_count": 1,
   "metadata": {},
   "outputs": [
    {
     "name": "stderr",
     "output_type": "stream",
     "text": [
      "\u001b[32m\u001b[1m  Activating\u001b[22m\u001b[39m project at `c:\\Users\\tangi\\Documents\\cvs\\MTH8408\\lab1\\jump`\n"
     ]
    }
   ],
   "source": [
    "using Pkg; \n",
    "Pkg.activate(\"jump\")"
   ]
  },
  {
   "cell_type": "markdown",
   "metadata": {},
   "source": [
    "## JuMP: un langage de modélisation"
   ]
  },
  {
   "cell_type": "markdown",
   "metadata": {},
   "source": [
    "### JuMP ?\n",
    "JuMP est le language de modélisation pour l'optimisation natif dans Julia. En d'autres termes, on peut modéliser des problèmes d'optimisation en Julia grâce à ce package.\n",
    "\n",
    "JuMP fait partie de l'organisation [jump-dev](https://jump.dev/) qui propose un ensemble d'outils concernant l'optimisation.\n",
    "\n",
    "On pourra trouver beaucoup d'informations et d'exemples dans la documentation de JuMP [jump.dev/JuMP.jl/stable/](https://jump.dev/JuMP.jl/stable/)"
   ]
  },
  {
   "cell_type": "markdown",
   "metadata": {},
   "source": [
    "### Installer JuMP\n",
    "Comme on l'a fait pour `LinearAlgebra` il faut installer le package `JuMP` via le *package manager*."
   ]
  },
  {
   "cell_type": "code",
   "execution_count": null,
   "metadata": {},
   "outputs": [],
   "source": [
    "] add JuMP"
   ]
  },
  {
   "cell_type": "markdown",
   "metadata": {},
   "source": [
    "Ensuite, on peut ajouter `JuMP` a notre environement et commencer à l'utiliser."
   ]
  },
  {
   "cell_type": "code",
   "execution_count": 2,
   "metadata": {},
   "outputs": [],
   "source": [
    "using JuMP"
   ]
  },
  {
   "cell_type": "markdown",
   "metadata": {},
   "source": [
    "### Installer un solveur\n",
    "Dans cet exemple, on va ajouter [`Ipopt`](https://en.wikipedia.org/wiki/IPOPT) qui est un package qui fournit un solveur pour l'optimisation nonlinéaire."
   ]
  },
  {
   "cell_type": "code",
   "execution_count": null,
   "metadata": {},
   "outputs": [],
   "source": [
    "] add Ipopt\n",
    "#ou alors:\n",
    "#using Pkg\n",
    "#Pkg.add(\"Ipopt\")"
   ]
  },
  {
   "cell_type": "code",
   "execution_count": 3,
   "metadata": {},
   "outputs": [],
   "source": [
    "using Ipopt"
   ]
  },
  {
   "cell_type": "code",
   "execution_count": 4,
   "metadata": {},
   "outputs": [
    {
     "ename": "ErrorException",
     "evalue": "syntax: invalid identifier name \"?\"",
     "output_type": "error",
     "traceback": [
      "syntax: invalid identifier name \"?\"\n",
      "\n",
      "Stacktrace:\n",
      "  [1] top-level scope\n",
      "    @ c:\\Users\\tangi\\Documents\\cvs\\MTH8408\\lab1\\notebook_jump.ipynb:1\n",
      "  [2] eval\n",
      "    @ .\\boot.jl:373 [inlined]\n",
      "  [3] include_string(mapexpr::typeof(REPL.softscope), mod::Module, code::String, filename::String)\n",
      "    @ Base .\\loading.jl:1196\n",
      "  [4] #invokelatest#2\n",
      "    @ .\\essentials.jl:716 [inlined]\n",
      "  [5] invokelatest\n",
      "    @ .\\essentials.jl:714 [inlined]\n",
      "  [6] (::VSCodeServer.var\"#150#151\"{VSCodeServer.NotebookRunCellArguments, String})()\n",
      "    @ VSCodeServer c:\\Users\\tangi\\.vscode\\extensions\\julialang.language-julia-1.5.10\\scripts\\packages\\VSCodeServer\\src\\serve_notebook.jl:18\n",
      "  [7] withpath(f::VSCodeServer.var\"#150#151\"{VSCodeServer.NotebookRunCellArguments, String}, path::String)\n",
      "    @ VSCodeServer c:\\Users\\tangi\\.vscode\\extensions\\julialang.language-julia-1.5.10\\scripts\\packages\\VSCodeServer\\src\\repl.jl:185\n",
      "  [8] notebook_runcell_request(conn::VSCodeServer.JSONRPC.JSONRPCEndpoint{Base.PipeEndpoint, Base.PipeEndpoint}, params::VSCodeServer.NotebookRunCellArguments)\n",
      "    @ VSCodeServer c:\\Users\\tangi\\.vscode\\extensions\\julialang.language-julia-1.5.10\\scripts\\packages\\VSCodeServer\\src\\serve_notebook.jl:14\n",
      "  [9] dispatch_msg(x::VSCodeServer.JSONRPC.JSONRPCEndpoint{Base.PipeEndpoint, Base.PipeEndpoint}, dispatcher::VSCodeServer.JSONRPC.MsgDispatcher, msg::Dict{String, Any})\n",
      "    @ VSCodeServer.JSONRPC c:\\Users\\tangi\\.vscode\\extensions\\julialang.language-julia-1.5.10\\scripts\\packages\\JSONRPC\\src\\typed.jl:67\n",
      " [10] serve_notebook(pipename::String; crashreporting_pipename::String)\n",
      "    @ VSCodeServer c:\\Users\\tangi\\.vscode\\extensions\\julialang.language-julia-1.5.10\\scripts\\packages\\VSCodeServer\\src\\serve_notebook.jl:94\n",
      " [11] top-level scope\n",
      "    @ c:\\Users\\tangi\\.vscode\\extensions\\julialang.language-julia-1.5.10\\scripts\\notebook\\notebook.jl:12\n",
      " [12] include(mod::Module, _path::String)\n",
      "    @ Base .\\Base.jl:418\n",
      " [13] exec_options(opts::Base.JLOptions)\n",
      "    @ Base .\\client.jl:292\n",
      " [14] _start()\n",
      "    @ Base .\\client.jl:495"
     ]
    }
   ],
   "source": [
    "? ipopt"
   ]
  },
  {
   "cell_type": "markdown",
   "metadata": {},
   "source": [
    "On installe aussi `MathOptInterface` qui permet de communiquer entre le modèle et le solveur."
   ]
  },
  {
   "cell_type": "code",
   "execution_count": 5,
   "metadata": {},
   "outputs": [],
   "source": [
    "using MathOptInterface"
   ]
  },
  {
   "cell_type": "markdown",
   "metadata": {},
   "source": [
    "### Structure d'un modèle JuMP\n",
    "Tous les modèles écrits avec JuMP ont la même structure:\n",
    "- un objet `Model`, c'est l'initialisation de notre modèle.\n",
    "- un objet `Optimizer`, qui spécifie un solveur.\n",
    "- `Variables`, les variables du problème\n",
    "- `Objective`, la fonction objectif\n",
    "- `Constraints`, les contraintes."
   ]
  },
  {
   "cell_type": "markdown",
   "metadata": {},
   "source": [
    "#### Le modèle\n",
    "Tous les problèmes modéliser avec JuMP sont des objets `Model`. Cet objet sera ensuite toujours mentionné lorsque l'on ajoutera des variables, la fonction objectif et des contraintes."
   ]
  },
  {
   "cell_type": "code",
   "execution_count": 6,
   "metadata": {},
   "outputs": [
    {
     "data": {
      "text/plain": [
       "A JuMP Model\n",
       "Feasibility problem with:\n",
       "Variables: 0\n",
       "Model mode: AUTOMATIC\n",
       "CachingOptimizer state: NO_OPTIMIZER\n",
       "Solver name: No optimizer attached."
      ]
     },
     "metadata": {},
     "output_type": "display_data"
    }
   ],
   "source": [
    "MonModel = Model()"
   ]
  },
  {
   "cell_type": "markdown",
   "metadata": {},
   "source": [
    "Il est également possible d'associer un solveur à ce modèle."
   ]
  },
  {
   "cell_type": "code",
   "execution_count": 7,
   "metadata": {},
   "outputs": [
    {
     "data": {
      "text/plain": [
       "A JuMP Model\n",
       "Feasibility problem with:\n",
       "Variables: 0\n",
       "Model mode: AUTOMATIC\n",
       "CachingOptimizer state: EMPTY_OPTIMIZER\n",
       "Solver name: Ipopt"
      ]
     },
     "metadata": {},
     "output_type": "display_data"
    }
   ],
   "source": [
    "MonModel = Model(with_optimizer(Ipopt.Optimizer)) #utilise Ipopt comme solveur"
   ]
  },
  {
   "cell_type": "markdown",
   "metadata": {},
   "source": [
    "#### Les variables\n",
    "Une première donnée importante de notre problème d'optimisation est la variable."
   ]
  },
  {
   "cell_type": "code",
   "execution_count": 17,
   "metadata": {},
   "outputs": [],
   "source": [
    "@variable(MonModel, 0 <= x <= 10)\n",
    "#unregister(MonModel, :x)"
   ]
  },
  {
   "cell_type": "markdown",
   "metadata": {},
   "source": [
    "A ce stade, on peut aussi spécifier des contraintes de bornes sur les variables."
   ]
  },
  {
   "cell_type": "code",
   "execution_count": 18,
   "metadata": {},
   "outputs": [
    {
     "data": {
      "text/plain": [
       "10-element Vector{VariableRef}:\n",
       " x[1]\n",
       " x[2]\n",
       " x[3]\n",
       " x[4]\n",
       " x[5]\n",
       " x[6]\n",
       " x[7]\n",
       " x[8]\n",
       " x[9]\n",
       " x[10]"
      ]
     },
     "metadata": {},
     "output_type": "display_data"
    }
   ],
   "source": [
    "n = 10\n",
    "l = [1; 2; 3; 4; 5; 6; 7; 8; 9; 10]\n",
    "u = [10; 11; 12; 13; 14; 15; 16; 17; 18; 19]\n",
    "@variable(MonModel, l[i] <= x[i=1:n] <= u[i])"
   ]
  },
  {
   "cell_type": "markdown",
   "metadata": {},
   "source": [
    "ou plus simplement"
   ]
  },
  {
   "cell_type": "code",
   "execution_count": 19,
   "metadata": {},
   "outputs": [
    {
     "ename": "ErrorException",
     "evalue": "An object of name xx is already attached to this model. If this\n    is intended, consider using the anonymous construction syntax, e.g.,\n    `x = @variable(model, [1:N], ...)` where the name of the object does\n    not appear inside the macro.\n\n    Alternatively, use `unregister(model, :xx)` to first unregister\n    the existing name from the model. Note that this will not delete the\n    object; it will just remove the reference at `model[:xx]`.\n",
     "output_type": "error",
     "traceback": [
      "An object of name xx is already attached to this model. If this\n",
      "    is intended, consider using the anonymous construction syntax, e.g.,\n",
      "    `x = @variable(model, [1:N], ...)` where the name of the object does\n",
      "    not appear inside the macro.\n",
      "\n",
      "    Alternatively, use `unregister(model, :xx)` to first unregister\n",
      "    the existing name from the model. Note that this will not delete the\n",
      "    object; it will just remove the reference at `model[:xx]`.\n",
      "\n",
      "\n",
      "Stacktrace:\n",
      "  [1] error(s::String)\n",
      "    @ Base .\\error.jl:33\n",
      "  [2] _error_if_cannot_register(model::Model, name::Symbol)\n",
      "    @ JuMP C:\\Users\\tangi\\.julia\\packages\\JuMP\\lnUbA\\src\\macros.jl:100\n",
      "  [3] macro expansion\n",
      "    @ C:\\Users\\tangi\\.julia\\packages\\JuMP\\lnUbA\\src\\macros.jl:134 [inlined]\n",
      "  [4] top-level scope\n",
      "    @ c:\\Users\\tangi\\Documents\\cvs\\MTH8408\\lab1\\notebook_jump.ipynb:1\n",
      "  [5] eval\n",
      "    @ .\\boot.jl:373 [inlined]\n",
      "  [6] include_string(mapexpr::typeof(REPL.softscope), mod::Module, code::String, filename::String)\n",
      "    @ Base .\\loading.jl:1196\n",
      "  [7] #invokelatest#2\n",
      "    @ .\\essentials.jl:716 [inlined]\n",
      "  [8] invokelatest\n",
      "    @ .\\essentials.jl:714 [inlined]\n",
      "  [9] (::VSCodeServer.var\"#150#151\"{VSCodeServer.NotebookRunCellArguments, String})()\n",
      "    @ VSCodeServer c:\\Users\\tangi\\.vscode\\extensions\\julialang.language-julia-1.5.10\\scripts\\packages\\VSCodeServer\\src\\serve_notebook.jl:18\n",
      " [10] withpath(f::VSCodeServer.var\"#150#151\"{VSCodeServer.NotebookRunCellArguments, String}, path::String)\n",
      "    @ VSCodeServer c:\\Users\\tangi\\.vscode\\extensions\\julialang.language-julia-1.5.10\\scripts\\packages\\VSCodeServer\\src\\repl.jl:185\n",
      " [11] notebook_runcell_request(conn::VSCodeServer.JSONRPC.JSONRPCEndpoint{Base.PipeEndpoint, Base.PipeEndpoint}, params::VSCodeServer.NotebookRunCellArguments)\n",
      "    @ VSCodeServer c:\\Users\\tangi\\.vscode\\extensions\\julialang.language-julia-1.5.10\\scripts\\packages\\VSCodeServer\\src\\serve_notebook.jl:14\n",
      " [12] dispatch_msg(x::VSCodeServer.JSONRPC.JSONRPCEndpoint{Base.PipeEndpoint, Base.PipeEndpoint}, dispatcher::VSCodeServer.JSONRPC.MsgDispatcher, msg::Dict{String, Any})\n",
      "    @ VSCodeServer.JSONRPC c:\\Users\\tangi\\.vscode\\extensions\\julialang.language-julia-1.5.10\\scripts\\packages\\JSONRPC\\src\\typed.jl:67\n",
      " [13] serve_notebook(pipename::String; crashreporting_pipename::String)\n",
      "    @ VSCodeServer c:\\Users\\tangi\\.vscode\\extensions\\julialang.language-julia-1.5.10\\scripts\\packages\\VSCodeServer\\src\\serve_notebook.jl:94\n",
      " [14] top-level scope\n",
      "    @ c:\\Users\\tangi\\.vscode\\extensions\\julialang.language-julia-1.5.10\\scripts\\notebook\\notebook.jl:12\n",
      " [15] include(mod::Module, _path::String)\n",
      "    @ Base .\\Base.jl:418\n",
      " [16] exec_options(opts::Base.JLOptions)\n",
      "    @ Base .\\client.jl:292\n",
      " [17] _start()\n",
      "    @ Base .\\client.jl:495"
     ]
    }
   ],
   "source": [
    "@variable(MonModel, xx[i=1:n] >= 0)"
   ]
  },
  {
   "cell_type": "markdown",
   "metadata": {},
   "source": [
    "#### La fonction objectif\n",
    "La fonction objectif se définit à l'aide de `@objective` et a trois arguments: le nom du modèle, le type d'optimisation (min ou max), et la fonction."
   ]
  },
  {
   "cell_type": "code",
   "execution_count": 20,
   "metadata": {},
   "outputs": [
    {
     "data": {
      "text/latex": [
       "$$ 2 x_{1} + 3 x_{2} + 4 x_{3} + 5 x_{4} $$"
      ],
      "text/plain": [
       "2 x[1] + 3 x[2] + 4 x[3] + 5 x[4]"
      ]
     },
     "metadata": {},
     "output_type": "display_data"
    }
   ],
   "source": [
    "c = [2; 3; 4; 5] \n",
    "@objective(MonModel, Min, sum(c[i]*x[i] for i in 1:4))"
   ]
  },
  {
   "cell_type": "markdown",
   "metadata": {},
   "source": [
    "On peut aussi l'écrire sous forme de problème de maximisation."
   ]
  },
  {
   "cell_type": "code",
   "execution_count": 22,
   "metadata": {},
   "outputs": [
    {
     "data": {
      "text/latex": [
       "$$ 2 x_{1} + 3 x_{2} + 4 x_{3} + 5 x_{4} $$"
      ],
      "text/plain": [
       "2 x[1] + 3 x[2] + 4 x[3] + 5 x[4]"
      ]
     },
     "metadata": {},
     "output_type": "display_data"
    }
   ],
   "source": [
    "@objective(MonModel, Max, sum(c[i]*x[i] for i in 1:4))"
   ]
  },
  {
   "cell_type": "markdown",
   "metadata": {},
   "source": [
    "Si la fonction objectif est nonlinéaire, on peut être plus précis et utiliser `@NLobjective`."
   ]
  },
  {
   "cell_type": "code",
   "execution_count": 24,
   "metadata": {},
   "outputs": [],
   "source": [
    "@NLobjective(MonModel, Min, exp(x[1]))"
   ]
  },
  {
   "cell_type": "markdown",
   "metadata": {},
   "source": [
    "#### Les contraintes"
   ]
  },
  {
   "cell_type": "code",
   "execution_count": 25,
   "metadata": {},
   "outputs": [
    {
     "data": {
      "text/latex": [
       "$$ 5 x + 3 y \\leq 5.0 $$"
      ],
      "text/plain": [
       "5 x + 3 y <= 5.0"
      ]
     },
     "metadata": {},
     "output_type": "display_data"
    }
   ],
   "source": [
    "TonModel = Model()\n",
    "@variable(TonModel, x) #on peut avoir plusieurs types de variables\n",
    "@variable(TonModel, y)\n",
    "@constraint(TonModel, 5*x + 3*y <= 5) #une première contrainte"
   ]
  },
  {
   "cell_type": "markdown",
   "metadata": {},
   "source": [
    "Il peut être utile de nommer une contrainte pour s'y réferer ensuite."
   ]
  },
  {
   "cell_type": "code",
   "execution_count": 26,
   "metadata": {},
   "outputs": [
    {
     "data": {
      "text/latex": [
       "un_nom_de_contrainte : $ 6 x + 4 y \\geq 5.0 $"
      ],
      "text/plain": [
       "un_nom_de_contrainte : 6 x + 4 y >= 5.0"
      ]
     },
     "metadata": {},
     "output_type": "display_data"
    }
   ],
   "source": [
    "@constraint(TonModel, un_nom_de_contrainte, 6*x + 4*y >= 5)"
   ]
  },
  {
   "cell_type": "markdown",
   "metadata": {},
   "source": [
    "On peut aussi ajouter plusieurs contraints simultanément avec @constraints"
   ]
  },
  {
   "cell_type": "code",
   "execution_count": 27,
   "metadata": {},
   "outputs": [
    {
     "ename": "UndefVarError",
     "evalue": "UndefVarError: model not defined",
     "output_type": "error",
     "traceback": [
      "UndefVarError: model not defined\n",
      "\n",
      "Stacktrace:\n",
      "  [1] top-level scope\n",
      "    @ c:\\Users\\tangi\\Documents\\cvs\\MTH8408\\lab1\\notebook_jump.ipynb:2\n",
      "  [2] eval\n",
      "    @ .\\boot.jl:373 [inlined]\n",
      "  [3] include_string(mapexpr::typeof(REPL.softscope), mod::Module, code::String, filename::String)\n",
      "    @ Base .\\loading.jl:1196\n",
      "  [4] #invokelatest#2\n",
      "    @ .\\essentials.jl:716 [inlined]\n",
      "  [5] invokelatest\n",
      "    @ .\\essentials.jl:714 [inlined]\n",
      "  [6] (::VSCodeServer.var\"#150#151\"{VSCodeServer.NotebookRunCellArguments, String})()\n",
      "    @ VSCodeServer c:\\Users\\tangi\\.vscode\\extensions\\julialang.language-julia-1.5.10\\scripts\\packages\\VSCodeServer\\src\\serve_notebook.jl:18\n",
      "  [7] withpath(f::VSCodeServer.var\"#150#151\"{VSCodeServer.NotebookRunCellArguments, String}, path::String)\n",
      "    @ VSCodeServer c:\\Users\\tangi\\.vscode\\extensions\\julialang.language-julia-1.5.10\\scripts\\packages\\VSCodeServer\\src\\repl.jl:185\n",
      "  [8] notebook_runcell_request(conn::VSCodeServer.JSONRPC.JSONRPCEndpoint{Base.PipeEndpoint, Base.PipeEndpoint}, params::VSCodeServer.NotebookRunCellArguments)\n",
      "    @ VSCodeServer c:\\Users\\tangi\\.vscode\\extensions\\julialang.language-julia-1.5.10\\scripts\\packages\\VSCodeServer\\src\\serve_notebook.jl:14\n",
      "  [9] dispatch_msg(x::VSCodeServer.JSONRPC.JSONRPCEndpoint{Base.PipeEndpoint, Base.PipeEndpoint}, dispatcher::VSCodeServer.JSONRPC.MsgDispatcher, msg::Dict{String, Any})\n",
      "    @ VSCodeServer.JSONRPC c:\\Users\\tangi\\.vscode\\extensions\\julialang.language-julia-1.5.10\\scripts\\packages\\JSONRPC\\src\\typed.jl:67\n",
      " [10] serve_notebook(pipename::String; crashreporting_pipename::String)\n",
      "    @ VSCodeServer c:\\Users\\tangi\\.vscode\\extensions\\julialang.language-julia-1.5.10\\scripts\\packages\\VSCodeServer\\src\\serve_notebook.jl:94\n",
      " [11] top-level scope\n",
      "    @ c:\\Users\\tangi\\.vscode\\extensions\\julialang.language-julia-1.5.10\\scripts\\notebook\\notebook.jl:12\n",
      " [12] include(mod::Module, _path::String)\n",
      "    @ Base .\\Base.jl:418\n",
      " [13] exec_options(opts::Base.JLOptions)\n",
      "    @ Base .\\client.jl:292\n",
      " [14] _start()\n",
      "    @ Base .\\client.jl:495"
     ]
    }
   ],
   "source": [
    "@constraints(model, begin\n",
    "           2x <=  1\n",
    "            x >= -1\n",
    "       end)"
   ]
  },
  {
   "cell_type": "code",
   "execution_count": 28,
   "metadata": {},
   "outputs": [
    {
     "data": {
      "text/latex": [
       "un_nom_de_contrainte : $ 6 x + 4 y \\geq 5.0 $"
      ],
      "text/plain": [
       "un_nom_de_contrainte : 6 x + 4 y >= 5.0"
      ]
     },
     "metadata": {},
     "output_type": "display_data"
    }
   ],
   "source": [
    "TonModel[:un_nom_de_contrainte]"
   ]
  },
  {
   "cell_type": "markdown",
   "metadata": {},
   "source": [
    "Si la contrainte est nonlinéaire, on peut être plus précis et utiliser `@NLconstraint`."
   ]
  },
  {
   "cell_type": "code",
   "execution_count": 29,
   "metadata": {},
   "outputs": [
    {
     "ename": "ErrorException",
     "evalue": "Variable in nonlinear expression does not belong to the corresponding model",
     "output_type": "error",
     "traceback": [
      "Variable in nonlinear expression does not belong to the corresponding model\n",
      "\n",
      "Stacktrace:\n",
      "  [1] error(s::String)\n",
      "    @ Base .\\error.jl:33\n",
      "  [2] _parse_NL_expr_runtime(m::Model, x::VariableRef, tape::Vector{JuMP._Derivatives.NodeData}, parent::Int64, values::Vector{Float64})\n",
      "    @ JuMP C:\\Users\\tangi\\.julia\\packages\\JuMP\\lnUbA\\src\\parse_nlp.jl:419\n",
      "  [3] macro expansion\n",
      "    @ C:\\Users\\tangi\\.julia\\packages\\JuMP\\lnUbA\\src\\parse_nlp.jl:544 [inlined]\n",
      "  [4] macro expansion\n",
      "    @ C:\\Users\\tangi\\.julia\\packages\\JuMP\\lnUbA\\src\\macros.jl:2251 [inlined]\n",
      "  [5] top-level scope\n",
      "    @ c:\\Users\\tangi\\Documents\\cvs\\MTH8408\\lab1\\notebook_jump.ipynb:1\n",
      "  [6] eval\n",
      "    @ .\\boot.jl:373 [inlined]\n",
      "  [7] include_string(mapexpr::typeof(REPL.softscope), mod::Module, code::String, filename::String)\n",
      "    @ Base .\\loading.jl:1196\n",
      "  [8] #invokelatest#2\n",
      "    @ .\\essentials.jl:716 [inlined]\n",
      "  [9] invokelatest\n",
      "    @ .\\essentials.jl:714 [inlined]\n",
      " [10] (::VSCodeServer.var\"#150#151\"{VSCodeServer.NotebookRunCellArguments, String})()\n",
      "    @ VSCodeServer c:\\Users\\tangi\\.vscode\\extensions\\julialang.language-julia-1.5.10\\scripts\\packages\\VSCodeServer\\src\\serve_notebook.jl:18\n",
      " [11] withpath(f::VSCodeServer.var\"#150#151\"{VSCodeServer.NotebookRunCellArguments, String}, path::String)\n",
      "    @ VSCodeServer c:\\Users\\tangi\\.vscode\\extensions\\julialang.language-julia-1.5.10\\scripts\\packages\\VSCodeServer\\src\\repl.jl:185\n",
      " [12] notebook_runcell_request(conn::VSCodeServer.JSONRPC.JSONRPCEndpoint{Base.PipeEndpoint, Base.PipeEndpoint}, params::VSCodeServer.NotebookRunCellArguments)\n",
      "    @ VSCodeServer c:\\Users\\tangi\\.vscode\\extensions\\julialang.language-julia-1.5.10\\scripts\\packages\\VSCodeServer\\src\\serve_notebook.jl:14\n",
      " [13] dispatch_msg(x::VSCodeServer.JSONRPC.JSONRPCEndpoint{Base.PipeEndpoint, Base.PipeEndpoint}, dispatcher::VSCodeServer.JSONRPC.MsgDispatcher, msg::Dict{String, Any})\n",
      "    @ VSCodeServer.JSONRPC c:\\Users\\tangi\\.vscode\\extensions\\julialang.language-julia-1.5.10\\scripts\\packages\\JSONRPC\\src\\typed.jl:67\n",
      " [14] serve_notebook(pipename::String; crashreporting_pipename::String)\n",
      "    @ VSCodeServer c:\\Users\\tangi\\.vscode\\extensions\\julialang.language-julia-1.5.10\\scripts\\packages\\VSCodeServer\\src\\serve_notebook.jl:94\n",
      " [15] top-level scope\n",
      "    @ c:\\Users\\tangi\\.vscode\\extensions\\julialang.language-julia-1.5.10\\scripts\\notebook\\notebook.jl:12\n",
      " [16] include(mod::Module, _path::String)\n",
      "    @ Base .\\Base.jl:418\n",
      " [17] exec_options(opts::Base.JLOptions)\n",
      "    @ Base .\\client.jl:292\n",
      " [18] _start()\n",
      "    @ Base .\\client.jl:495"
     ]
    }
   ],
   "source": [
    "@NLconstraint(MonModel, x^2 == 0)"
   ]
  },
  {
   "cell_type": "markdown",
   "metadata": {},
   "source": [
    "On peut également introduire des contraintes plus génériques à l'aide de fonctions."
   ]
  },
  {
   "cell_type": "code",
   "execution_count": 30,
   "metadata": {},
   "outputs": [
    {
     "data": {
      "text/latex": [
       "$$ w_{1} - 3 w_{2} + 5 w_{3} + 7 w_{4} \\leq 3.0 $$"
      ],
      "text/plain": [
       "w[1] - 3 w[2] + 5 w[3] + 7 w[4] <= 3.0"
      ]
     },
     "metadata": {},
     "output_type": "display_data"
    }
   ],
   "source": [
    "a = [1; -3; 5; 7] \n",
    "@variable(TonModel, w[1:4])\n",
    "@constraint(TonModel, sum(a[i]*w[i] for i in 1:4) <= 3)"
   ]
  },
  {
   "cell_type": "markdown",
   "metadata": {},
   "source": [
    "On peut utiliser une boucle pour définir plusieurs contraintes."
   ]
  },
  {
   "cell_type": "code",
   "execution_count": 31,
   "metadata": {},
   "outputs": [
    {
     "data": {
      "text/plain": [
       "3-element Vector{ConstraintRef{Model, MathOptInterface.ConstraintIndex{MathOptInterface.ScalarAffineFunction{Float64}, MathOptInterface.GreaterThan{Float64}}, ScalarShape}}:\n",
       " conRef3[1] : 6 x + 4 y >= 5.0\n",
       " conRef3[2] : 6 x + 4 y >= 10.0\n",
       " conRef3[3] : 6 x + 4 y >= 15.0"
      ]
     },
     "metadata": {},
     "output_type": "display_data"
    }
   ],
   "source": [
    "@constraint(TonModel, conRef3[i in 1:3], 6*x + 4*y >= 5*i)\n",
    "#= ou identiquement:\n",
    "for i in 1:3\n",
    "    @constraint(yourModel, 6*x + 4*y >= 5*i)\n",
    "end\n",
    "=#"
   ]
  },
  {
   "cell_type": "markdown",
   "metadata": {},
   "source": [
    "#### Exemple d'un code complet: Optimisation linéaire\n",
    "On résout ici un problème d'optimisation linéaire\n",
    "$$\n",
    "\\min_{x \\in R^n} - x - 2y \\ \\text{sujet à} \\ x + y \\leq 1, 0 \\leq x,y \\leq 1.\n",
    "$$"
   ]
  },
  {
   "cell_type": "code",
   "execution_count": 32,
   "metadata": {},
   "outputs": [
    {
     "data": {
      "text/plain": [
       "A JuMP Model\n",
       "Feasibility problem with:\n",
       "Variables: 0\n",
       "Model mode: AUTOMATIC\n",
       "CachingOptimizer state: EMPTY_OPTIMIZER\n",
       "Solver name: Ipopt"
      ]
     },
     "metadata": {},
     "output_type": "display_data"
    }
   ],
   "source": [
    "model = Model(with_optimizer(Ipopt.Optimizer))\n",
    "# Old syntax: model = Model(solver=GLPKSolverLP(msg_lev = 4)))"
   ]
  },
  {
   "cell_type": "markdown",
   "metadata": {},
   "source": [
    "On définit les variables."
   ]
  },
  {
   "cell_type": "code",
   "execution_count": 33,
   "metadata": {},
   "outputs": [
    {
     "data": {
      "text/latex": [
       "$$ y $$"
      ],
      "text/plain": [
       "y"
      ]
     },
     "metadata": {},
     "output_type": "display_data"
    }
   ],
   "source": [
    "@variable(model, 0 <= x <= 1)\n",
    "@variable(model, 0 <= y <= 1)"
   ]
  },
  {
   "cell_type": "markdown",
   "metadata": {},
   "source": [
    "La contrainte $x + y \\leq 1$."
   ]
  },
  {
   "cell_type": "code",
   "execution_count": 34,
   "metadata": {},
   "outputs": [
    {
     "data": {
      "text/latex": [
       "$$ x + y \\leq 1.0 $$"
      ],
      "text/plain": [
       "x + y <= 1.0"
      ]
     },
     "metadata": {},
     "output_type": "display_data"
    }
   ],
   "source": [
    "@constraint(model, x + y <= 1)"
   ]
  },
  {
   "cell_type": "markdown",
   "metadata": {},
   "source": [
    "Enfin, on ajoute la fonction objectif."
   ]
  },
  {
   "cell_type": "code",
   "execution_count": 35,
   "metadata": {},
   "outputs": [
    {
     "data": {
      "text/latex": [
       "$$ -x - 2 y $$"
      ],
      "text/plain": [
       "-x - 2 y"
      ]
     },
     "metadata": {},
     "output_type": "display_data"
    }
   ],
   "source": [
    "@objective(model, Min, -x - 2y)"
   ]
  },
  {
   "cell_type": "markdown",
   "metadata": {},
   "source": [
    "Pour résoudre ce problème, on peut utiliser la fonction `optimize`."
   ]
  },
  {
   "cell_type": "code",
   "execution_count": 36,
   "metadata": {},
   "outputs": [
    {
     "name": "stdout",
     "output_type": "stream",
     "text": [
      "\n",
      "******************************************************************************\n",
      "This program contains Ipopt, a library for large-scale nonlinear optimization.\n",
      " Ipopt is released as open source code under the Eclipse Public License (EPL).\n",
      "         For more information visit https://github.com/coin-or/Ipopt\n",
      "******************************************************************************\n",
      "\n",
      "This is Ipopt version 3.14.4, running with linear solver MUMPS 5.4.1.\n",
      "\n",
      "Number of nonzeros in equality constraint Jacobian...:        0\n",
      "Number of nonzeros in inequality constraint Jacobian.:        2\n",
      "Number of nonzeros in Lagrangian Hessian.............:        0\n",
      "\n",
      "Total number of variables............................:        2\n",
      "                     variables with only lower bounds:        0\n",
      "                variables with lower and upper bounds:        2\n",
      "                     variables with only upper bounds:        0\n",
      "Total number of equality constraints.................:        0\n",
      "Total number of inequality constraints...............:        1\n",
      "        inequality constraints with only lower bounds:        0\n",
      "   inequality constraints with lower and upper bounds:        0\n",
      "        inequality constraints with only upper bounds:        1\n",
      "\n",
      "iter    objective    inf_pr   inf_du lg(mu)  ||d||  lg(rg) alpha_du alpha_pr  ls\n",
      "   0 -2.9999970e-02 0.00e+00 6.67e-01  -1.0 0.00e+00    -  0.00e+00 0.00e+00   0\n",
      "   1 -1.3565912e-01 0.00e+00 1.25e+00  -1.7 6.71e-02    -  3.47e-01 1.00e+00f  1\n",
      "   2 -1.9182990e+00 0.00e+00 3.82e-01  -1.7 1.45e+00    -  1.00e+00 6.25e-01f  1\n",
      "   3 -1.9377622e+00 0.00e+00 2.00e-07  -1.7 3.29e-02    -  1.00e+00 1.00e+00f  1\n",
      "   4 -1.9981303e+00 0.00e+00 1.03e-04  -3.8 4.46e-02    -  9.63e-01 1.00e+00f  1\n",
      "   5 -1.9999940e+00 0.00e+00 1.84e-11  -5.7 1.79e-03    -  1.00e+00 1.00e+00f  1\n",
      "   6 -2.0000000e+00 0.00e+00 2.51e-14  -8.6 4.76e-06    -  1.00e+00 1.00e+00f  1\n",
      "\n",
      "Number of Iterations....: 6\n",
      "\n",
      "                                   (scaled)                 (unscaled)\n",
      "Objective...............:  -2.0000000162540208e+00   -2.0000000162540208e+00\n",
      "Dual infeasibility......:   2.5091040356528538e-14    2.5091040356528538e-14\n",
      "Constraint violation....:   0.0000000000000000e+00    0.0000000000000000e+00\n",
      "Variable bound violation:   8.3700526509744577e-09    8.3700526509744577e-09\n",
      "Complementarity.........:   3.6010395050721628e-09    3.6010395050721628e-09\n",
      "Overall NLP error.......:   3.6010395050721628e-09    3.6010395050721628e-09\n",
      "\n",
      "\n",
      "Number of objective function evaluations             = 7\n",
      "Number of objective gradient evaluations             = 7\n",
      "Number of equality constraint evaluations            = 0\n",
      "Number of inequality constraint evaluations          = 7\n",
      "Number of equality constraint Jacobian evaluations   = 0\n",
      "Number of inequality constraint Jacobian evaluations = 1\n",
      "Number of Lagrangian Hessian evaluations             = 1\n",
      "Total seconds in IPOPT                               = 0.179\n",
      "\n",
      "EXIT: Optimal Solution Found.\n"
     ]
    }
   ],
   "source": [
    "JuMP.optimize!(model) # Old syntax: status = JuMP.solve(model)"
   ]
  },
  {
   "cell_type": "markdown",
   "metadata": {},
   "source": [
    "Une fois la résolution terminée, on peut vérifier le status de la résolution."
   ]
  },
  {
   "cell_type": "code",
   "execution_count": 37,
   "metadata": {},
   "outputs": [
    {
     "name": "stdout",
     "output_type": "stream",
     "text": [
      "JuMP.has_values(model) = true\n",
      "JuMP.termination_status(model) == MathOptInterface.LOCALLY_SOLVED = true\n",
      "JuMP.primal_status(model) == MathOptInterface.FEASIBLE_POINT = true\n",
      "JuMP.dual_status(model) == MathOptInterface.FEASIBLE_POINT = true\n"
     ]
    },
    {
     "data": {
      "text/plain": [
       "true"
      ]
     },
     "metadata": {},
     "output_type": "display_data"
    }
   ],
   "source": [
    "@show JuMP.has_values(model)\n",
    "@show JuMP.termination_status(model) == MathOptInterface.LOCALLY_SOLVED\n",
    "@show JuMP.primal_status(model) == MathOptInterface.FEASIBLE_POINT\n",
    "@show JuMP.dual_status(model) == MathOptInterface.FEASIBLE_POINT"
   ]
  },
  {
   "cell_type": "markdown",
   "metadata": {},
   "source": [
    "On peut également faire une analyse sur la solution obtenue."
   ]
  },
  {
   "cell_type": "code",
   "execution_count": 38,
   "metadata": {},
   "outputs": [
    {
     "name": "stdout",
     "output_type": "stream",
     "text": [
      "JuMP.value(x) = -4.860843992474532e-10\n",
      "JuMP.value(y) = 1.0000000083700527\n",
      "JuMP.objective_value(model) = -2.000000016254021\n"
     ]
    },
    {
     "data": {
      "text/plain": [
       "-2.000000016254021"
      ]
     },
     "metadata": {},
     "output_type": "display_data"
    }
   ],
   "source": [
    "@show JuMP.value(x)              # Old syntax: getvalue(x)\n",
    "@show JuMP.value(y)              # Old syntax: getvalue(y)\n",
    "@show JuMP.objective_value(model)       # Old syntax: getobjectivevalue(model)"
   ]
  },
  {
   "cell_type": "markdown",
   "metadata": {},
   "source": [
    "#### Exemple d'un code complet: Optimisation nonlinéaire\n",
    "$$\n",
    "\\min_{x,y} exp(x)+y \\text{ s.à } exp(x) + sin(x) <= 0\n",
    "$$"
   ]
  },
  {
   "cell_type": "code",
   "execution_count": 39,
   "metadata": {},
   "outputs": [
    {
     "data": {
      "text/latex": [
       "$$ (exp(x) + sin(x)) - 0.0 \\leq 0 $$"
      ],
      "text/plain": [
       "(exp(x) + sin(x)) - 0.0 <= 0"
      ]
     },
     "metadata": {},
     "output_type": "display_data"
    }
   ],
   "source": [
    "model = Model(with_optimizer(Ipopt.Optimizer))\n",
    "@variable(model, x)\n",
    "@variable(model, y)\n",
    "\n",
    "@NLobjective(model, Min, exp(x)+y)\n",
    "@NLconstraint(model, exp(x)+sin(x) <=0)"
   ]
  },
  {
   "cell_type": "code",
   "execution_count": 40,
   "metadata": {},
   "outputs": [
    {
     "name": "stdout",
     "output_type": "stream",
     "text": [
      "This is Ipopt version 3.14.4, running with linear solver MUMPS 5.4.1.\n",
      "\n",
      "Number of nonzeros in equality constraint Jacobian...:        0\n",
      "Number of nonzeros in inequality constraint Jacobian.:        1\n",
      "Number of nonzeros in Lagrangian Hessian.............:        2\n",
      "\n",
      "Total number of variables............................:        2\n",
      "                     variables with only lower bounds:        0\n",
      "                variables with lower and upper bounds:        0\n",
      "                     variables with only upper bounds:        0\n",
      "Total number of equality constraints.................:        0\n",
      "Total number of inequality constraints...............:        1\n",
      "        inequality constraints with only lower bounds:        0\n",
      "   inequality constraints with lower and upper bounds:        0\n",
      "        inequality constraints with only upper bounds:        1\n",
      "\n",
      "iter    objective    inf_pr   inf_du lg(mu)  ||d||  lg(rg) alpha_du alpha_pr  ls\n",
      "   0  1.0000000e+00 1.00e+00 1.20e+00  -1.0 0.00e+00    -  0.00e+00 0.00e+00   0\n",
      "   1 -9.9994267e+03 4.52e-02 1.00e+00  -1.0 1.00e+04  -4.0 7.75e-01 1.00e+00f  1\n",
      "   2 -3.9999913e+04 0.00e+00 1.00e+00  -1.7 3.00e+04  -4.5 1.73e-01 1.00e+00f  1\n",
      "   3 -1.1478490e+05 5.86e-01 1.00e+00  -1.7 9.00e+04  -5.0 1.00e+00 8.31e-01f  1\n",
      "   4 -3.8478420e+05 4.24e-01 1.00e+00  -1.7 2.70e+05  -5.4 1.00e+00 1.00e+00f  1\n",
      "   5 -1.1947847e+06 0.00e+00 1.00e+00  -1.7 8.10e+05  -5.9 1.00e+00 1.00e+00f  1\n",
      "   6 -3.6247848e+06 0.00e+00 1.00e+00  -1.7 2.43e+06  -6.4 1.00e+00 1.00e+00f  1\n",
      "   7 -1.0914785e+07 0.00e+00 1.00e+00  -1.7 7.29e+06  -6.9 1.00e+00 1.00e+00f  1\n",
      "   8 -3.2784785e+07 0.00e+00 1.00e+00  -1.7 2.19e+07  -7.3 1.00e+00 1.00e+00f  1\n",
      "   9 -9.8394785e+07 0.00e+00 1.00e+00  -1.7 6.56e+07  -7.8 1.00e+00 1.00e+00f  1\n",
      "iter    objective    inf_pr   inf_du lg(mu)  ||d||  lg(rg) alpha_du alpha_pr  ls\n",
      "  10 -2.9522478e+08 0.00e+00 1.00e+00  -1.7 1.97e+08  -8.3 1.00e+00 1.00e+00f  1\n",
      "  11 -8.8571478e+08 0.00e+00 1.00e+00  -1.7 5.90e+08  -8.8 1.00e+00 1.00e+00f  1\n",
      "  12 -2.6571848e+09 0.00e+00 1.00e+00  -1.7 1.77e+09  -9.2 1.00e+00 1.00e+00f  1\n",
      "  13 -7.9715948e+09 0.00e+00 1.00e+00  -1.7 5.31e+09  -9.7 1.00e+00 1.00e+00f  1\n",
      "  14 -2.3914825e+10 0.00e+00 1.00e+00  -1.7 1.59e+10 -10.2 1.00e+00 1.00e+00f  1\n",
      "  15 -7.1744515e+10 0.00e+00 1.00e+00  -1.7 4.78e+10 -10.7 1.00e+00 1.00e+00f  1\n",
      "  16 -2.1523358e+11 0.00e+00 1.00e+00  -1.7 1.43e+11 -11.2 1.00e+00 1.00e+00f  1\n",
      "  17 -6.4570079e+11 0.00e+00 1.00e+00  -1.7 4.30e+11 -11.6 1.00e+00 1.00e+00f  1\n",
      "  18 -1.9371024e+12 0.00e+00 1.00e+00  -1.7 1.29e+12 -12.1 1.00e+00 1.00e+00f  1\n",
      "  19 -5.8113073e+12 0.00e+00 1.00e+00  -1.7 3.87e+12 -12.6 1.00e+00 1.00e+00f  1\n",
      "iter    objective    inf_pr   inf_du lg(mu)  ||d||  lg(rg) alpha_du alpha_pr  ls\n",
      "  20 -1.7433922e+13 0.00e+00 1.00e+00  -1.7 1.16e+13 -13.1 1.00e+00 1.00e+00f  1\n",
      "  21 -5.2301766e+13 0.00e+00 1.00e+00  -1.7 3.49e+13 -13.5 1.00e+00 1.00e+00f  1\n",
      "  22 -1.5690530e+14 0.00e+00 1.00e+00  -1.7 1.05e+14 -14.0 1.00e+00 1.00e+00f  1\n",
      "  23 -4.7071589e+14 0.00e+00 1.00e+00  -1.7 3.14e+14 -14.5 1.00e+00 1.00e+00f  1\n",
      "  24 -1.4121477e+15 0.00e+00 1.00e+00  -1.7 9.41e+14 -15.0 1.00e+00 1.00e+00f  1\n",
      "  25 -4.2364430e+15 0.00e+00 1.00e+00  -1.7 2.82e+15 -15.5 1.00e+00 1.00e+00f  1\n",
      "  26 -1.2709329e+16 0.00e+00 1.00e+00  -1.7 8.47e+15 -15.9 1.00e+00 1.00e+00f  1\n",
      "  27 -3.8127987e+16 0.00e+00 1.00e+00  -1.7 2.54e+16 -16.4 1.00e+00 1.00e+00f  1\n",
      "  28 -1.1438396e+17 0.00e+00 1.00e+00  -1.7 7.63e+16 -16.9 1.00e+00 1.00e+00f  1\n",
      "  29 -3.4315189e+17 0.00e+00 1.00e+00  -1.7 2.29e+17 -17.4 1.00e+00 1.00e+00f  1\n",
      "iter    objective    inf_pr   inf_du lg(mu)  ||d||  lg(rg) alpha_du alpha_pr  ls\n",
      "  30 -1.0294557e+18 0.00e+00 1.00e+00  -1.7 6.86e+17 -17.8 1.00e+00 1.00e+00f  1\n",
      "  31 -3.0883670e+18 0.00e+00 1.00e+00  -1.7 2.06e+18 -18.3 1.00e+00 1.00e+00f  1\n",
      "  32 -9.2651009e+18 0.00e+00 1.00e+00  -1.7 6.18e+18 -18.8 1.00e+00 1.00e+00f  1\n",
      "  33 -2.7795303e+19 0.00e+00 1.00e+00  -1.7 1.85e+19 -19.3 1.00e+00 1.00e+00f  1\n",
      "  34 -8.3385908e+19 0.00e+00 1.00e+00  -1.7 5.56e+19 -19.7 1.00e+00 1.00e+00f  1\n",
      "  35 -1.8338591e+20 0.00e+00 1.00e+00  -1.7 1.00e+20 -20.0 1.00e+00 1.00e+00f  1\n",
      "\n",
      "Number of Iterations....: 35\n",
      "\n",
      "                                   (scaled)                 (unscaled)\n",
      "Objective...............:  -1.8338590849833298e+20   -1.8338590849833298e+20\n",
      "Dual infeasibility......:   1.0000000000000000e+00    1.0000000000000000e+00\n",
      "Constraint violation....:   0.0000000000000000e+00    0.0000000000000000e+00\n",
      "Variable bound violation:   0.0000000000000000e+00    0.0000000000000000e+00\n",
      "Complementarity.........:   2.0000000000000007e-02    2.0000000000000007e-02\n",
      "Overall NLP error.......:   1.0000000000000000e+00    1.0000000000000000e+00\n",
      "\n",
      "\n",
      "Number of objective function evaluations             = 36\n",
      "Number of objective gradient evaluations             = 36\n",
      "Number of equality constraint evaluations            = 0\n",
      "Number of inequality constraint evaluations          = 36\n",
      "Number of equality constraint Jacobian evaluations   = 0\n",
      "Number of inequality constraint Jacobian evaluations = 36\n",
      "Number of Lagrangian Hessian evaluations             = 35\n",
      "Total seconds in IPOPT                               = 0.608\n",
      "\n",
      "EXIT: Iterates diverging; problem might be unbounded.\n",
      "x = -2.787893044855877 y = -1.8338590849833298e20\n"
     ]
    }
   ],
   "source": [
    "optimize!(model)\n",
    "println(\"x = \", value(x), \" y = \", value(y))"
   ]
  },
  {
   "cell_type": "code",
   "execution_count": 41,
   "metadata": {},
   "outputs": [
    {
     "data": {
      "text/plain": [
       "NORM_LIMIT::TerminationStatusCode = 17"
      ]
     },
     "metadata": {},
     "output_type": "display_data"
    }
   ],
   "source": [
    "termination_status(model)"
   ]
  },
  {
   "cell_type": "code",
   "execution_count": 43,
   "metadata": {},
   "outputs": [
    {
     "data": {
      "text/plain": [
       "MathOptInterface.VariableIndex(2)"
      ]
     },
     "metadata": {},
     "output_type": "display_data"
    }
   ],
   "source": [
    "vals = zeros(2)\n",
    "x_index = JuMP.index(x)\n",
    "y_index = JuMP.index(y)"
   ]
  },
  {
   "cell_type": "code",
   "execution_count": 44,
   "metadata": {},
   "outputs": [
    {
     "data": {
      "text/plain": [
       "An NLPEvaluator with available features:\n",
       "  * :Grad\n",
       "  * :Jac\n",
       "  * :JacVec\n",
       "  * :ExprGraph\n",
       "  * :Hess\n",
       "  * :HessVec"
      ]
     },
     "metadata": {},
     "output_type": "display_data"
    }
   ],
   "source": [
    "d = NLPEvaluator(model)"
   ]
  },
  {
   "cell_type": "code",
   "execution_count": 45,
   "metadata": {},
   "outputs": [],
   "source": [
    "MathOptInterface.initialize(d, [:Grad])"
   ]
  },
  {
   "cell_type": "code",
   "execution_count": 46,
   "metadata": {},
   "outputs": [
    {
     "data": {
      "text/plain": [
       "1.0"
      ]
     },
     "metadata": {},
     "output_type": "display_data"
    }
   ],
   "source": [
    "MathOptInterface.eval_objective(d, zeros(2))"
   ]
  },
  {
   "cell_type": "code",
   "execution_count": 47,
   "metadata": {},
   "outputs": [
    {
     "data": {
      "text/plain": [
       "2-element Vector{Float64}:\n",
       " 1.0\n",
       " 1.0"
      ]
     },
     "metadata": {},
     "output_type": "display_data"
    }
   ],
   "source": [
    "∇f = zeros(2)\n",
    "MathOptInterface.eval_objective_gradient(d, ∇f, zeros(2))\n",
    "∇f"
   ]
  },
  {
   "cell_type": "code",
   "execution_count": 48,
   "metadata": {},
   "outputs": [
    {
     "data": {
      "text/plain": [
       "1×2 Matrix{Float64}:\n",
       " 2.0  0.0"
      ]
     },
     "metadata": {},
     "output_type": "display_data"
    }
   ],
   "source": [
    "J = zeros(1,2)\n",
    "MathOptInterface.eval_constraint_jacobian(d, J, zeros(2))\n",
    "J"
   ]
  },
  {
   "cell_type": "markdown",
   "metadata": {},
   "source": [
    "#### Plus d'information\n",
    "Dans ce cours, nous n'allons pas uniquement nous concentrer sur des problèmes linéaires, mais aussi nonlinéaire.\n",
    "Vous trouverez plus d'informations pour ce cas dans la documentation de jump-dev:\n",
    "\n",
    "[https://jump.dev/JuMP.jl/stable/nlp/#Nonlinear-Modeling-1](https://jump.dev/JuMP.jl/stable/nlp/#Nonlinear-Modeling-1)\n",
    "\n",
    "et la documentation de MathOptInterface:\n",
    "\n",
    "[https://jump.dev/MathOptInterface.jl/stable/](https://jump.dev/MathOptInterface.jl/stable/)\n",
    "\n",
    "Et ça sera le sujet du projet !"
   ]
  },
  {
   "cell_type": "code",
   "execution_count": null,
   "metadata": {},
   "outputs": [],
   "source": []
  }
 ],
 "metadata": {
  "kernelspec": {
   "display_name": "Julia 1.7.0",
   "language": "julia",
   "name": "julia-1.7"
  },
  "language_info": {
   "file_extension": ".jl",
   "mimetype": "application/julia",
   "name": "julia",
   "version": "1.7.0"
  }
 },
 "nbformat": 4,
 "nbformat_minor": 4
}
