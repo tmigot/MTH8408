{
 "cells": [
  {
   "cell_type": "markdown",
   "metadata": {},
   "source": [
    " # MTH8408 : Méthodes d'optimisation et contrôle optimal\n",
    " ## Laboratoire 1: Outils pour l'algèbre linéaire et l'optimisation\n",
    "Tangi Migot"
   ]
  },
  {
   "cell_type": "code",
   "execution_count": 4,
   "metadata": {},
   "outputs": [
    {
     "name": "stderr",
     "output_type": "stream",
     "text": [
      "\u001b[32m\u001b[1m  Activating\u001b[22m\u001b[39m project at `c:\\Users\\edwar\\Desktop\\H23\\MTH8408\\MTH8408\\lab1\\jump`\n"
     ]
    }
   ],
   "source": [
    "using Pkg; \n",
    "Pkg.activate(\"jump\")"
   ]
  },
  {
   "cell_type": "markdown",
   "metadata": {},
   "source": [
    "## JuMP: un langage de modélisation"
   ]
  },
  {
   "cell_type": "markdown",
   "metadata": {},
   "source": [
    "### JuMP ?\n",
    "JuMP est le language de modélisation pour l'optimisation natif dans Julia. En d'autres termes, on peut modéliser des problèmes d'optimisation en Julia grâce à ce package.\n",
    "\n",
    "JuMP fait partie de l'organisation [jump-dev](https://jump.dev/) qui propose un ensemble d'outils concernant l'optimisation.\n",
    "\n",
    "On pourra trouver beaucoup d'informations et d'exemples dans la documentation de JuMP [jump.dev/JuMP.jl/stable/](https://jump.dev/JuMP.jl/stable/)"
   ]
  },
  {
   "cell_type": "markdown",
   "metadata": {},
   "source": [
    "### Installer JuMP\n",
    "Comme on l'a fait pour `LinearAlgebra` il faut installer le package `JuMP` via le *package manager*."
   ]
  },
  {
   "cell_type": "code",
   "execution_count": 5,
   "metadata": {},
   "outputs": [
    {
     "name": "stderr",
     "output_type": "stream",
     "text": [
      "\u001b[32m\u001b[1m    Updating\u001b[22m\u001b[39m registry at `C:\\Users\\edwar\\.julia\\registries\\General.toml`\n"
     ]
    },
    {
     "name": "stderr",
     "output_type": "stream",
     "text": [
      "\u001b[32m\u001b[1m   Resolving\u001b[22m\u001b[39m package versions...\n"
     ]
    },
    {
     "name": "stderr",
     "output_type": "stream",
     "text": [
      "\u001b[32m\u001b[1m    Updating\u001b[22m\u001b[39m `C:\\Users\\edwar\\Desktop\\H23\\MTH8408\\MTH8408\\lab1\\jump\\Project.toml`\n",
      " \u001b[90m [b6b21f68] \u001b[39m\u001b[92m+ Ipopt v1.1.0\u001b[39m\n",
      " \u001b[90m [4076af6c] \u001b[39m\u001b[92m+ JuMP v1.6.0\u001b[39m\n",
      " \u001b[90m [b8f27783] \u001b[39m\u001b[92m+ MathOptInterface v1.11.3\u001b[39m\n",
      "\u001b[32m\u001b[1m    Updating\u001b[22m\u001b[39m `C:\\Users\\edwar\\Desktop\\H23\\MTH8408\\MTH8408\\lab1\\jump\\Manifest.toml`\n",
      " \u001b[90m [6e4b80f9] \u001b[39m\u001b[92m+ BenchmarkTools v1.3.2\u001b[39m\n",
      " \u001b[90m [d360d2e6] \u001b[39m\u001b[92m+ ChainRulesCore v1.15.6\u001b[39m\n",
      " \u001b[90m [9e997f8a] \u001b[39m\u001b[92m+ ChangesOfVariables v0.1.4\u001b[39m\n",
      " \u001b[90m [523fee87] \u001b[39m\u001b[92m+ CodecBzip2 v0.7.2\u001b[39m\n",
      " \u001b[90m [944b1d66] \u001b[39m\u001b[92m+ CodecZlib v0.7.0\u001b[39m\n",
      " \u001b[90m [bbf7d656] \u001b[39m\u001b[92m+ CommonSubexpressions v0.3.0\u001b[39m\n",
      " \u001b[90m [34da2185] \u001b[39m\u001b[92m+ Compat v4.5.0\u001b[39m\n",
      " \u001b[90m [864edb3b] \u001b[39m\u001b[92m+ DataStructures v0.18.13\u001b[39m\n",
      " \u001b[90m [163ba53b] \u001b[39m\u001b[92m+ DiffResults v1.1.0\u001b[39m\n",
      " \u001b[90m [b552c78f] \u001b[39m\u001b[92m+ DiffRules v1.12.2\u001b[39m\n",
      " \u001b[90m [ffbed154] \u001b[39m\u001b[92m+ DocStringExtensions v0.9.3\u001b[39m\n",
      " \u001b[90m [f6369f11] \u001b[39m\u001b[92m+ ForwardDiff v0.10.34\u001b[39m\n",
      " \u001b[90m [3587e190] \u001b[39m\u001b[92m+ InverseFunctions v0.1.8\u001b[39m\n",
      " \u001b[90m [b6b21f68] \u001b[39m\u001b[92m+ Ipopt v1.1.0\u001b[39m\n",
      " \u001b[90m [92d709cd] \u001b[39m\u001b[92m+ IrrationalConstants v0.1.1\u001b[39m\n",
      " \u001b[90m [692b3bcd] \u001b[39m\u001b[92m+ JLLWrappers v1.4.1\u001b[39m\n",
      " \u001b[90m [682c06a0] \u001b[39m\u001b[92m+ JSON v0.21.3\u001b[39m\n",
      " \u001b[90m [4076af6c] \u001b[39m\u001b[92m+ JuMP v1.6.0\u001b[39m\n",
      " \u001b[90m [2ab3a3ac] \u001b[39m\u001b[92m+ LogExpFunctions v0.3.19\u001b[39m\n",
      " \u001b[90m [1914dd2f] \u001b[39m\u001b[92m+ MacroTools v0.5.10\u001b[39m\n",
      " \u001b[90m [b8f27783] \u001b[39m\u001b[92m+ MathOptInterface v1.11.3\u001b[39m\n",
      " \u001b[90m [d8a4904e] \u001b[39m\u001b[92m+ MutableArithmetics v1.1.0\u001b[39m\n",
      " \u001b[90m [77ba4419] \u001b[39m\u001b[92m+ NaNMath v1.0.1\u001b[39m\n",
      " \u001b[90m [bac558e1] \u001b[39m\u001b[92m+ OrderedCollections v1.4.1\u001b[39m\n",
      " \u001b[90m [69de0a69] \u001b[39m\u001b[92m+ Parsers v2.5.2\u001b[39m\n",
      " \u001b[90m [21216c6a] \u001b[39m\u001b[92m+ Preferences v1.3.0\u001b[39m\n",
      " \u001b[90m [66db9d55] \u001b[39m\u001b[92m+ SnoopPrecompile v1.0.3\u001b[39m\n",
      " \u001b[90m [276daf66] \u001b[39m\u001b[92m+ SpecialFunctions v2.1.7\u001b[39m\n",
      " \u001b[90m [90137ffa] \u001b[39m\u001b[92m+ StaticArrays v1.5.12\u001b[39m\n",
      " \u001b[90m [1e83bf80] \u001b[39m\u001b[92m+ StaticArraysCore v1.4.0\u001b[39m\n",
      " \u001b[90m [3bb67fe8] \u001b[39m\u001b[92m+ TranscodingStreams v0.9.11\u001b[39m\n",
      " \u001b[90m [ae81ac8f] \u001b[39m\u001b[92m+ ASL_jll v0.1.3+0\u001b[39m\n",
      " \u001b[90m [6e34b625] \u001b[39m\u001b[92m+ Bzip2_jll v1.0.8+0\u001b[39m\n",
      "\u001b[33m⌅\u001b[39m\u001b[90m [9cc047cb] \u001b[39m\u001b[92m+ Ipopt_jll v300.1400.400+0\u001b[39m\n",
      " \u001b[90m [d00139f3] \u001b[39m\u001b[92m+ METIS_jll v5.1.2+0\u001b[39m\n",
      "\u001b[33m⌅\u001b[39m\u001b[90m [d7ed1dd3] \u001b[39m\u001b[92m+ MUMPS_seq_jll v5.4.1+0\u001b[39m\n",
      "\u001b[33m⌅\u001b[39m\u001b[90m [656ef2d0] \u001b[39m\u001b[92m+ OpenBLAS32_jll v0.3.17+0\u001b[39m\n",
      " \u001b[90m [efe28fd5] \u001b[39m\u001b[92m+ OpenSpecFun_jll v0.5.5+0\u001b[39m\n",
      " \u001b[90m [0dad84c5] \u001b[39m\u001b[92m+ ArgTools v1.1.1\u001b[39m\n",
      " \u001b[90m [56f22d72] \u001b[39m\u001b[92m+ Artifacts\u001b[39m\n",
      " \u001b[90m [2a0f44e3] \u001b[39m\u001b[92m+ Base64\u001b[39m\n",
      " \u001b[90m [ade2ca70] \u001b[39m\u001b[92m+ Dates\u001b[39m\n",
      " \u001b[90m [f43a241f] \u001b[39m\u001b[92m+ Downloads v1.6.0\u001b[39m\n",
      " \u001b[90m [7b1f6079] \u001b[39m\u001b[92m+ FileWatching\u001b[39m\n",
      " \u001b[90m [b77e0a4c] \u001b[39m\u001b[92m+ InteractiveUtils\u001b[39m\n",
      " \u001b[90m [b27032c2] \u001b[39m\u001b[92m+ LibCURL v0.6.3\u001b[39m\n",
      " \u001b[90m [76f85450] \u001b[39m\u001b[92m+ LibGit2\u001b[39m\n",
      " \u001b[90m [8f399da3] \u001b[39m\u001b[92m+ Libdl\u001b[39m\n",
      " \u001b[90m [37e2e46d] \u001b[39m\u001b[92m+ LinearAlgebra\u001b[39m\n",
      " \u001b[90m [56ddb016] \u001b[39m\u001b[92m+ Logging\u001b[39m\n",
      " \u001b[90m [d6f4376e] \u001b[39m\u001b[92m+ Markdown\u001b[39m\n",
      " \u001b[90m [a63ad114] \u001b[39m\u001b[92m+ Mmap\u001b[39m\n",
      " \u001b[90m [ca575930] \u001b[39m\u001b[92m+ NetworkOptions v1.2.0\u001b[39m\n",
      " \u001b[90m [44cfe95a] \u001b[39m\u001b[92m+ Pkg v1.8.0\u001b[39m\n",
      " \u001b[90m [de0858da] \u001b[39m\u001b[92m+ Printf\u001b[39m\n",
      " \u001b[90m [9abbd945] \u001b[39m\u001b[92m+ Profile\u001b[39m\n",
      " \u001b[90m [3fa0cd96] \u001b[39m\u001b[92m+ REPL\u001b[39m\n",
      " \u001b[90m [9a3f8284] \u001b[39m\u001b[92m+ Random\u001b[39m\n",
      " \u001b[90m [ea8e919c] \u001b[39m\u001b[92m+ SHA v0.7.0\u001b[39m\n",
      " \u001b[90m [9e88b42a] \u001b[39m\u001b[92m+ Serialization\u001b[39m\n",
      " \u001b[90m [6462fe0b] \u001b[39m\u001b[92m+ Sockets\u001b[39m\n",
      " \u001b[90m [2f01184e] \u001b[39m\u001b[92m+ SparseArrays\u001b[39m\n",
      " \u001b[90m [10745b16] \u001b[39m\u001b[92m+ Statistics\u001b[39m\n",
      " \u001b[90m [fa267f1f] \u001b[39m\u001b[92m+ TOML v1.0.0\u001b[39m\n",
      " \u001b[90m [a4e569a6] \u001b[39m\u001b[92m+ Tar v1.10.1\u001b[39m\n",
      " \u001b[90m [8dfed614] \u001b[39m\u001b[92m+ Test\u001b[39m\n",
      " \u001b[90m [cf7118a7] \u001b[39m\u001b[92m+ UUIDs\u001b[39m\n",
      " \u001b[90m [4ec0a83e] \u001b[39m\u001b[92m+ Unicode\u001b[39m\n",
      " \u001b[90m [e66e0078] \u001b[39m\u001b[92m+ CompilerSupportLibraries_jll v1.0.1+0\u001b[39m\n",
      " \u001b[90m [deac9b47] \u001b[39m\u001b[92m+ LibCURL_jll v7.84.0+0\u001b[39m\n",
      " \u001b[90m [29816b5a] \u001b[39m\u001b[92m+ LibSSH2_jll v1.10.2+0\u001b[39m\n",
      " \u001b[90m [c8ffd9c3] \u001b[39m\u001b[92m+ MbedTLS_jll v2.28.0+0\u001b[39m\n",
      " \u001b[90m [14a3606d] \u001b[39m\u001b[92m+ MozillaCACerts_jll v2022.2.1\u001b[39m\n",
      " \u001b[90m [4536629a] \u001b[39m\u001b[92m+ OpenBLAS_jll v0.3.20+0\u001b[39m\n",
      " \u001b[90m [05823500] \u001b[39m\u001b[92m+ OpenLibm_jll v0.8.1+0\u001b[39m\n",
      " \u001b[90m [83775a58] \u001b[39m\u001b[92m+ Zlib_jll v1.2.12+3\u001b[39m\n",
      " \u001b[90m [8e850b90] \u001b[39m\u001b[92m+ libblastrampoline_jll v5.1.1+0\u001b[39m\n",
      " \u001b[90m [8e850ede] \u001b[39m\u001b[92m+ nghttp2_jll v1.48.0+0\u001b[39m\n",
      " \u001b[90m [3f19e933] \u001b[39m\u001b[92m+ p7zip_jll v17.4.0+0\u001b[39m\n",
      "\u001b[36m\u001b[1m        Info\u001b[22m\u001b[39m Packages marked with \u001b[33m⌅\u001b[39m have new versions available but compatibility constraints restrict them from upgrading. To see why use `status --outdated -m`"
     ]
    },
    {
     "name": "stderr",
     "output_type": "stream",
     "text": [
      "\n"
     ]
    }
   ],
   "source": [
    "Pkg.add(\"JuMP\")"
   ]
  },
  {
   "cell_type": "markdown",
   "metadata": {},
   "source": [
    "Ensuite, on peut ajouter `JuMP` a notre environement et commencer à l'utiliser."
   ]
  },
  {
   "cell_type": "code",
   "execution_count": 6,
   "metadata": {},
   "outputs": [],
   "source": [
    "using JuMP"
   ]
  },
  {
   "cell_type": "markdown",
   "metadata": {},
   "source": [
    "### Installer un solveur\n",
    "Dans cet exemple, on va ajouter [`Ipopt`](https://en.wikipedia.org/wiki/IPOPT) qui est un package qui fournit un solveur pour l'optimisation nonlinéaire."
   ]
  },
  {
   "cell_type": "code",
   "execution_count": 7,
   "metadata": {},
   "outputs": [
    {
     "name": "stderr",
     "output_type": "stream",
     "text": [
      "\u001b[32m\u001b[1m   Resolving\u001b[22m\u001b[39m package versions...\n"
     ]
    },
    {
     "name": "stderr",
     "output_type": "stream",
     "text": [
      "\u001b[32m\u001b[1m  No Changes\u001b[22m\u001b[39m to `C:\\Users\\edwar\\Desktop\\H23\\MTH8408\\MTH8408\\lab1\\jump\\Project.toml`\n",
      "\u001b[32m\u001b[1m  No Changes\u001b[22m\u001b[39m "
     ]
    },
    {
     "name": "stderr",
     "output_type": "stream",
     "text": [
      "to `C:\\Users\\edwar\\Desktop\\H23\\MTH8408\\MTH8408\\lab1\\jump\\Manifest.toml`\n"
     ]
    }
   ],
   "source": [
    "Pkg.add(\"Ipopt\")"
   ]
  },
  {
   "cell_type": "code",
   "execution_count": null,
   "metadata": {},
   "outputs": [],
   "source": [
    "#ou alors:\n",
    "#using Pkg\n",
    "#Pkg.add(\"Ipopt\")"
   ]
  },
  {
   "cell_type": "code",
   "execution_count": 8,
   "metadata": {},
   "outputs": [],
   "source": [
    "using Ipopt"
   ]
  },
  {
   "cell_type": "code",
   "execution_count": null,
   "metadata": {},
   "outputs": [],
   "source": [
    "? ipopt"
   ]
  },
  {
   "cell_type": "markdown",
   "metadata": {},
   "source": [
    "On installe aussi `MathOptInterface` qui permet de communiquer entre le modèle et le solveur."
   ]
  },
  {
   "cell_type": "code",
   "execution_count": 9,
   "metadata": {},
   "outputs": [],
   "source": [
    "using MathOptInterface"
   ]
  },
  {
   "cell_type": "markdown",
   "metadata": {},
   "source": [
    "### Structure d'un modèle JuMP\n",
    "Tous les modèles écrits avec JuMP ont la même structure:\n",
    "- un objet `Model`, c'est l'initialisation de notre modèle.\n",
    "- un objet `Optimizer`, qui spécifie un solveur.\n",
    "- `Variables`, les variables du problème\n",
    "- `Objective`, la fonction objectif\n",
    "- `Constraints`, les contraintes."
   ]
  },
  {
   "cell_type": "markdown",
   "metadata": {},
   "source": [
    "#### Le modèle\n",
    "Tous les problèmes modéliser avec JuMP sont des objets `Model`. Cet objet sera ensuite toujours mentionné lorsque l'on ajoutera des variables, la fonction objectif et des contraintes."
   ]
  },
  {
   "cell_type": "code",
   "execution_count": 3,
   "metadata": {},
   "outputs": [
    {
     "ename": "ArgumentError",
     "evalue": "ArgumentError: Package JuMP [4076af6c-e467-56ae-b986-b466b2749572] is required but does not seem to be installed:\n - Run `Pkg.instantiate()` to install all recorded dependencies.\n",
     "output_type": "error",
     "traceback": [
      "ArgumentError: Package JuMP [4076af6c-e467-56ae-b986-b466b2749572] is required but does not seem to be installed:\n",
      " - Run `Pkg.instantiate()` to install all recorded dependencies.\n",
      "\n",
      "\n",
      "Stacktrace:\n",
      "  [1] _require(pkg::Base.PkgId)\n",
      "    @ Base .\\loading.jl:1306\n",
      "  [2] _require_prelocked(uuidkey::Base.PkgId)\n",
      "    @ Base .\\loading.jl:1200\n",
      "  [3] macro expansion\n",
      "    @ .\\loading.jl:1180 [inlined]\n",
      "  [4] macro expansion\n",
      "    @ .\\lock.jl:223 [inlined]\n",
      "  [5] require(into::Module, mod::Symbol)\n",
      "    @ Base .\\loading.jl:1144\n",
      "  [6] eval\n",
      "    @ .\\boot.jl:368 [inlined]\n",
      "  [7] include_string(mapexpr::typeof(REPL.softscope), mod::Module, code::String, filename::String)\n",
      "    @ Base .\\loading.jl:1428\n",
      "  [8] #invokelatest#2\n",
      "    @ .\\essentials.jl:729 [inlined]\n",
      "  [9] invokelatest\n",
      "    @ .\\essentials.jl:726 [inlined]\n",
      " [10] (::VSCodeServer.var\"#198#199\"{VSCodeServer.NotebookRunCellArguments, String})()\n",
      "    @ VSCodeServer c:\\Users\\edwar\\.vscode\\extensions\\julialang.language-julia-1.38.2\\scripts\\packages\\VSCodeServer\\src\\serve_notebook.jl:19\n",
      " [11] withpath(f::VSCodeServer.var\"#198#199\"{VSCodeServer.NotebookRunCellArguments, String}, path::String)\n",
      "    @ VSCodeServer c:\\Users\\edwar\\.vscode\\extensions\\julialang.language-julia-1.38.2\\scripts\\packages\\VSCodeServer\\src\\repl.jl:249\n",
      " [12] notebook_runcell_request(conn::VSCodeServer.JSONRPC.JSONRPCEndpoint{Base.PipeEndpoint, Base.PipeEndpoint}, params::VSCodeServer.NotebookRunCellArguments)\n",
      "    @ VSCodeServer c:\\Users\\edwar\\.vscode\\extensions\\julialang.language-julia-1.38.2\\scripts\\packages\\VSCodeServer\\src\\serve_notebook.jl:13\n",
      " [13] dispatch_msg(x::VSCodeServer.JSONRPC.JSONRPCEndpoint{Base.PipeEndpoint, Base.PipeEndpoint}, dispatcher::VSCodeServer.JSONRPC.MsgDispatcher, msg::Dict{String, Any})\n",
      "    @ VSCodeServer.JSONRPC c:\\Users\\edwar\\.vscode\\extensions\\julialang.language-julia-1.38.2\\scripts\\packages\\JSONRPC\\src\\typed.jl:67\n",
      " [14] serve_notebook(pipename::String, outputchannel_logger::Base.CoreLogging.SimpleLogger; crashreporting_pipename::String)\n",
      "    @ VSCodeServer c:\\Users\\edwar\\.vscode\\extensions\\julialang.language-julia-1.38.2\\scripts\\packages\\VSCodeServer\\src\\serve_notebook.jl:139\n",
      " [15] top-level scope\n",
      "    @ c:\\Users\\edwar\\.vscode\\extensions\\julialang.language-julia-1.38.2\\scripts\\notebook\\notebook.jl:32"
     ]
    }
   ],
   "source": [
    "using JuMP\n",
    "using Ipopt\n",
    "using MathOptInterface\n",
    "\n",
    "MonModel = Model()"
   ]
  },
  {
   "cell_type": "markdown",
   "metadata": {},
   "source": [
    "Il est également possible d'associer un solveur à ce modèle."
   ]
  },
  {
   "cell_type": "code",
   "execution_count": null,
   "metadata": {},
   "outputs": [],
   "source": [
    "MonModel = Model(Ipopt.Optimizer) #utilise Ipopt comme solveur"
   ]
  },
  {
   "cell_type": "markdown",
   "metadata": {},
   "source": [
    "#### Les variables\n",
    "Une première donnée importante de notre problème d'optimisation est la variable."
   ]
  },
  {
   "cell_type": "code",
   "execution_count": 9,
   "metadata": {},
   "outputs": [
    {
     "ename": "LoadError",
     "evalue": "LoadError: UndefVarError: @variable not defined\nin expression starting at c:\\Users\\edwar\\Desktop\\H23\\MTH8408\\MTH8408\\lab1\\notebook_jump.ipynb:1",
     "output_type": "error",
     "traceback": [
      "LoadError: UndefVarError: @variable not defined\n",
      "in expression starting at c:\\Users\\edwar\\Desktop\\H23\\MTH8408\\MTH8408\\lab1\\notebook_jump.ipynb:1\n"
     ]
    }
   ],
   "source": [
    "@variable(MonModel, 0 <= x <= 10)"
   ]
  },
  {
   "cell_type": "code",
   "execution_count": null,
   "metadata": {},
   "outputs": [],
   "source": [
    "unregister(MonModel, :x) # if you want to remove the variable x from the model"
   ]
  },
  {
   "cell_type": "markdown",
   "metadata": {},
   "source": [
    "A ce stade, on peut aussi spécifier des contraintes de bornes sur les variables."
   ]
  },
  {
   "cell_type": "code",
   "execution_count": null,
   "metadata": {},
   "outputs": [],
   "source": [
    "n = 10\n",
    "l = [1; 2; 3; 4; 5; 6; 7; 8; 9; 10]\n",
    "u = [10; 11; 12; 13; 14; 15; 16; 17; 18; 19]\n",
    "@variable(MonModel, l[i] <= x[i=1:n] <= u[i])"
   ]
  },
  {
   "cell_type": "markdown",
   "metadata": {},
   "source": [
    "ou plus simplement"
   ]
  },
  {
   "cell_type": "code",
   "execution_count": null,
   "metadata": {},
   "outputs": [],
   "source": [
    "@variable(MonModel, xx[i=1:n] >= 0)"
   ]
  },
  {
   "cell_type": "markdown",
   "metadata": {},
   "source": [
    "#### La fonction objectif\n",
    "La fonction objectif se définit à l'aide de `@objective` et a trois arguments: le nom du modèle, le type d'optimisation (min ou max), et la fonction."
   ]
  },
  {
   "cell_type": "code",
   "execution_count": null,
   "metadata": {},
   "outputs": [],
   "source": [
    "c = [2; 3; 4; 5] \n",
    "@objective(MonModel, Min, sum(c[i]*x[i] for i in 1:4))"
   ]
  },
  {
   "cell_type": "markdown",
   "metadata": {},
   "source": [
    "On peut aussi l'écrire sous forme de problème de maximisation."
   ]
  },
  {
   "cell_type": "code",
   "execution_count": null,
   "metadata": {},
   "outputs": [],
   "source": [
    "@objective(MonModel, Max, sum(c[i]*x[i] for i in 1:4))"
   ]
  },
  {
   "cell_type": "markdown",
   "metadata": {},
   "source": [
    "Si la fonction objectif est nonlinéaire, on peut être plus précis et utiliser `@NLobjective`."
   ]
  },
  {
   "cell_type": "code",
   "execution_count": null,
   "metadata": {},
   "outputs": [],
   "source": [
    "@NLobjective(MonModel, Min, exp(x[1]))"
   ]
  },
  {
   "cell_type": "markdown",
   "metadata": {},
   "source": [
    "#### Les contraintes"
   ]
  },
  {
   "cell_type": "code",
   "execution_count": null,
   "metadata": {},
   "outputs": [],
   "source": [
    "TonModel = Model()\n",
    "@variable(TonModel, x) #on peut avoir plusieurs types de variables\n",
    "@variable(TonModel, y)\n",
    "@constraint(TonModel, 5*x + 3*y <= 5) #une première contrainte"
   ]
  },
  {
   "cell_type": "markdown",
   "metadata": {},
   "source": [
    "Il peut être utile de nommer une contrainte pour s'y réferer ensuite."
   ]
  },
  {
   "cell_type": "code",
   "execution_count": null,
   "metadata": {},
   "outputs": [],
   "source": [
    "@constraint(TonModel, un_nom_de_contrainte, 6*x + 4*y >= 5)"
   ]
  },
  {
   "cell_type": "markdown",
   "metadata": {},
   "source": [
    "On peut aussi ajouter plusieurs contraints simultanément avec @constraints"
   ]
  },
  {
   "cell_type": "code",
   "execution_count": null,
   "metadata": {},
   "outputs": [],
   "source": [
    "@constraints(TonModel, begin\n",
    "           2x <=  1\n",
    "            x >= -1\n",
    "       end)"
   ]
  },
  {
   "cell_type": "code",
   "execution_count": null,
   "metadata": {},
   "outputs": [],
   "source": [
    "TonModel[:un_nom_de_contrainte]"
   ]
  },
  {
   "cell_type": "markdown",
   "metadata": {},
   "source": [
    "Si la contrainte est nonlinéaire, on peut être plus précis et utiliser `@NLconstraint`."
   ]
  },
  {
   "cell_type": "code",
   "execution_count": null,
   "metadata": {},
   "outputs": [],
   "source": [
    "@NLconstraint(TonModel, x^2 == 0)"
   ]
  },
  {
   "cell_type": "markdown",
   "metadata": {},
   "source": [
    "On peut également introduire des contraintes plus génériques à l'aide de fonctions."
   ]
  },
  {
   "cell_type": "code",
   "execution_count": null,
   "metadata": {},
   "outputs": [],
   "source": [
    "a = [1; -3; 5; 7] \n",
    "@variable(TonModel, w[1:4])\n",
    "@constraint(TonModel, sum(a[i]*w[i] for i in 1:4) <= 3)"
   ]
  },
  {
   "cell_type": "markdown",
   "metadata": {},
   "source": []
  },
  {
   "cell_type": "markdown",
   "metadata": {},
   "source": [
    "On peut utiliser une boucle pour définir plusieurs contraintes."
   ]
  },
  {
   "cell_type": "code",
   "execution_count": null,
   "metadata": {},
   "outputs": [],
   "source": [
    "@constraint(TonModel, conRef3[i in 1:3], 6*x + 4*y >= 5*i)\n",
    "#= ou identiquement:\n",
    "for i in 1:3\n",
    "    @constraint(yourModel, 6*x + 4*y >= 5*i)\n",
    "end\n",
    "=#"
   ]
  },
  {
   "cell_type": "markdown",
   "metadata": {},
   "source": [
    "#### Exemple d'un code complet: Optimisation linéaire\n",
    "On résout ici un problème d'optimisation linéaire\n",
    "$$\n",
    "\\min_{x \\in R^n} - x - 2y \\ \\text{sujet à} \\ x + y \\leq 1, 0 \\leq x,y \\leq 1.\n",
    "$$"
   ]
  },
  {
   "cell_type": "code",
   "execution_count": 10,
   "metadata": {},
   "outputs": [
    {
     "data": {
      "text/plain": [
       "A JuMP Model\n",
       "Feasibility problem with:\n",
       "Variables: 0\n",
       "Model mode: AUTOMATIC\n",
       "CachingOptimizer state: EMPTY_OPTIMIZER\n",
       "Solver name: Ipopt"
      ]
     },
     "metadata": {},
     "output_type": "display_data"
    }
   ],
   "source": [
    "model = Model(Ipopt.Optimizer)"
   ]
  },
  {
   "cell_type": "markdown",
   "metadata": {},
   "source": [
    "On définit les variables."
   ]
  },
  {
   "cell_type": "code",
   "execution_count": 11,
   "metadata": {},
   "outputs": [
    {
     "data": {
      "text/latex": [
       "$$ y $$"
      ],
      "text/plain": [
       "y"
      ]
     },
     "metadata": {},
     "output_type": "display_data"
    }
   ],
   "source": [
    "@variable(model, 0 <= x <= 1)\n",
    "@variable(model, 0 <= y <= 1)"
   ]
  },
  {
   "cell_type": "markdown",
   "metadata": {},
   "source": [
    "La contrainte $x + y \\leq 1$."
   ]
  },
  {
   "cell_type": "code",
   "execution_count": 12,
   "metadata": {},
   "outputs": [
    {
     "data": {
      "text/latex": [
       "$$ x + y \\leq 1.0 $$"
      ],
      "text/plain": [
       "x + y <= 1.0"
      ]
     },
     "metadata": {},
     "output_type": "display_data"
    }
   ],
   "source": [
    "@constraint(model, x + y <= 1)"
   ]
  },
  {
   "cell_type": "markdown",
   "metadata": {},
   "source": [
    "Enfin, on ajoute la fonction objectif."
   ]
  },
  {
   "cell_type": "code",
   "execution_count": 13,
   "metadata": {},
   "outputs": [
    {
     "data": {
      "text/latex": [
       "$$ -x - 2 y $$"
      ],
      "text/plain": [
       "-x - 2 y"
      ]
     },
     "metadata": {},
     "output_type": "display_data"
    }
   ],
   "source": [
    "@objective(model, Min, -x - 2y)"
   ]
  },
  {
   "cell_type": "markdown",
   "metadata": {},
   "source": [
    "Pour résoudre ce problème, on peut utiliser la fonction `optimize`."
   ]
  },
  {
   "cell_type": "code",
   "execution_count": 14,
   "metadata": {},
   "outputs": [
    {
     "name": "stdout",
     "output_type": "stream",
     "text": [
      "\n",
      "******************************************************************************\n",
      "This program contains Ipopt, a library for large-scale nonlinear optimization.\n",
      " Ipopt is released as open source code under the Eclipse Public License (EPL).\n",
      "         For more information visit https://github.com/coin-or/Ipopt\n",
      "******************************************************************************\n",
      "\n",
      "This is Ipopt version 3.14.4, running with linear solver MUMPS 5.4.1.\n",
      "\n",
      "Number of nonzeros in equality constraint Jacobian...:        0\n",
      "Number of nonzeros in inequality constraint Jacobian.:        2\n",
      "Number of nonzeros in Lagrangian Hessian.............:        0\n",
      "\n",
      "Total number of variables............................:        2\n",
      "                     variables with only lower bounds:        0\n",
      "                variables with lower and upper bounds:        2\n",
      "                     variables with only upper bounds:        0\n",
      "Total number of equality constraints.................:        0\n",
      "Total number of inequality constraints...............:        1\n",
      "        inequality constraints with only lower bounds:        0\n",
      "   inequality constraints with lower and upper bounds:        0\n",
      "        inequality constraints with only upper bounds:        1\n",
      "\n",
      "iter    objective    inf_pr   inf_du lg(mu)  ||d||  lg(rg) alpha_du alpha_pr  ls\n",
      "   0 -2.9999970e-02 0.00e+00 6.67e-01  -1.0 0.00e+00    -  0.00e+00 0.00e+00   0\n",
      "   1 -1.3565912e-01 0.00e+00 1.25e+00  -1.7 6.71e-02    -  3.47e-01 1.00e+00f  1\n",
      "   2 -1.9182990e+00 0.00e+00 3.82e-01  -1.7 1.45e+00    -  1.00e+00 6.25e-01f  1\n",
      "   3 -1.9377622e+00 0.00e+00 2.00e-07  -1.7 3.29e-02    -  1.00e+00 1.00e+00f  1\n",
      "   4 -1.9981303e+00 0.00e+00 1.03e-04  -3.8 4.46e-02    -  9.63e-01 1.00e+00f  1\n",
      "   5 -1.9999940e+00 0.00e+00 1.84e-11  -5.7 1.79e-03    -  1.00e+00 1.00e+00f  1\n",
      "   6 -2.0000000e+00 0.00e+00 2.51e-14  -8.6 4.76e-06    -  1.00e+00 1.00e+00f  1\n",
      "\n",
      "Number of Iterations....: 6\n",
      "\n",
      "                                   (scaled)                 (unscaled)\n",
      "Objective...............:  -2.0000000162540208e+00   -2.0000000162540208e+00\n",
      "Dual infeasibility......:   2.5091040356528538e-14    2.5091040356528538e-14\n",
      "Constraint violation....:   0.0000000000000000e+00    0.0000000000000000e+00\n",
      "Variable bound violation:   8.3700526509744577e-09    8.3700526509744577e-09\n",
      "Complementarity.........:   3.6010395046924952e-09    3.6010395046924952e-09\n",
      "Overall NLP error.......:   3.6010395046924952e-09    3.6010395046924952e-09\n",
      "\n",
      "\n",
      "Number of objective function evaluations             = 7\n",
      "Number of objective gradient evaluations             = 7\n",
      "Number of equality constraint evaluations            = 0\n",
      "Number of inequality constraint evaluations          = 7\n",
      "Number of equality constraint Jacobian evaluations   = 0\n",
      "Number of inequality constraint Jacobian evaluations = 1\n",
      "Number of Lagrangian Hessian evaluations             = 1\n",
      "Total seconds in IPOPT                               = 0.198\n",
      "\n",
      "EXIT: Optimal Solution Found.\n"
     ]
    }
   ],
   "source": [
    "JuMP.optimize!(model)"
   ]
  },
  {
   "cell_type": "markdown",
   "metadata": {},
   "source": [
    "Une fois la résolution terminée, on peut vérifier le status de la résolution."
   ]
  },
  {
   "cell_type": "code",
   "execution_count": 15,
   "metadata": {},
   "outputs": [
    {
     "name": "stdout",
     "output_type": "stream",
     "text": [
      "JuMP.has_values(model) = true\n",
      "JuMP.termination_status(model) == MathOptInterface.LOCALLY_SOLVED = true\n",
      "JuMP.primal_status(model) == MathOptInterface.FEASIBLE_POINT = true\n",
      "JuMP.dual_status(model) == MathOptInterface.FEASIBLE_POINT = true\n"
     ]
    },
    {
     "data": {
      "text/plain": [
       "true"
      ]
     },
     "metadata": {},
     "output_type": "display_data"
    }
   ],
   "source": [
    "@show JuMP.has_values(model)\n",
    "@show JuMP.termination_status(model) == MathOptInterface.LOCALLY_SOLVED\n",
    "@show JuMP.primal_status(model) == MathOptInterface.FEASIBLE_POINT\n",
    "@show JuMP.dual_status(model) == MathOptInterface.FEASIBLE_POINT"
   ]
  },
  {
   "cell_type": "markdown",
   "metadata": {},
   "source": [
    "On peut également faire une analyse sur la solution obtenue."
   ]
  },
  {
   "cell_type": "code",
   "execution_count": 16,
   "metadata": {},
   "outputs": [
    {
     "name": "stdout",
     "output_type": "stream",
     "text": [
      "JuMP.value(x) = -4.860844002533048e-10\n",
      "JuMP.value(y) = 1.0000000083700527\n"
     ]
    },
    {
     "name": "stdout",
     "output_type": "stream",
     "text": [
      "JuMP.objective_value(model) = -2.000000016254021\n"
     ]
    },
    {
     "data": {
      "text/plain": [
       "-2.000000016254021"
      ]
     },
     "metadata": {},
     "output_type": "display_data"
    }
   ],
   "source": [
    "@show JuMP.value(x)              # Old syntax: getvalue(x)\n",
    "@show JuMP.value(y)              # Old syntax: getvalue(y)\n",
    "@show JuMP.objective_value(model)       # Old syntax: getobjectivevalue(model)"
   ]
  },
  {
   "cell_type": "markdown",
   "metadata": {},
   "source": [
    "#### Exemple d'un code complet: Optimisation nonlinéaire\n",
    "$$\n",
    "\\min_{x,y} exp(x)+y \\text{ s.à } exp(x) + sin(x) <= 0\n",
    "$$"
   ]
  },
  {
   "cell_type": "code",
   "execution_count": 17,
   "metadata": {},
   "outputs": [
    {
     "data": {
      "text/latex": [
       "$$ (exp(x) + sin(x)) - 0.0 \\leq 0 $$"
      ],
      "text/plain": [
       "(exp(x) + sin(x)) - 0.0 <= 0"
      ]
     },
     "metadata": {},
     "output_type": "display_data"
    }
   ],
   "source": [
    "model = Model(Ipopt.Optimizer)\n",
    "@variable(model, x)\n",
    "@variable(model, y)\n",
    "\n",
    "@NLobjective(model, Min, exp(x)+y)\n",
    "@NLconstraint(model, exp(x)+sin(x) <=0)"
   ]
  },
  {
   "cell_type": "code",
   "execution_count": 18,
   "metadata": {},
   "outputs": [
    {
     "name": "stdout",
     "output_type": "stream",
     "text": [
      "This is Ipopt version 3.14.4, running with linear solver MUMPS 5.4.1.\n",
      "\n",
      "Number of nonzeros in equality constraint Jacobian...:        0\n",
      "Number of nonzeros in inequality constraint Jacobian.:        1\n",
      "Number of nonzeros in Lagrangian Hessian.............:        2\n",
      "\n",
      "Total number of variables............................:        2\n",
      "                     variables with only lower bounds:        0\n",
      "                variables with lower and upper bounds:        0\n",
      "                     variables with only upper bounds:        0\n",
      "Total number of equality constraints.................:        0\n",
      "Total number of inequality constraints...............:        1\n",
      "        inequality constraints with only lower bounds:        0\n",
      "   inequality constraints with lower and upper bounds:        0\n",
      "        inequality constraints with only upper bounds:        1\n",
      "\n",
      "iter    objective    inf_pr   inf_du lg(mu)  ||d||  lg(rg) alpha_du alpha_pr  ls\n",
      "   0  1.0000000e+00 1.00e+00 1.20e+00  -1.0 0.00e+00    -  0.00e+00 0.00e+00   0\n",
      "   1 -9.9994267e+03 4.52e-02 1.00e+00  -1.0 1.00e+04  -4.0 7.75e-01 1.00e+00f  1\n",
      "   2 -3.9999913e+04 0.00e+00 1.00e+00  -1.7 3.00e+04  -4.5 1.73e-01 1.00e+00f  1\n",
      "   3 -1.1478490e+05 5.86e-01 1.00e+00  -1.7 9.00e+04  -5.0 1.00e+00 8.31e-01f  1\n",
      "   4 -3.8478420e+05 4.24e-01 1.00e+00  -1.7 2.70e+05  -5.4 1.00e+00 1.00e+00f  1\n",
      "   5 -1.1947847e+06 0.00e+00 1.00e+00  -1.7 8.10e+05  -5.9 1.00e+00 1.00e+00f  1\n",
      "   6 -3.6247848e+06 0.00e+00 1.00e+00  -1.7 2.43e+06  -6.4 1.00e+00 1.00e+00f  1\n",
      "   7 -1.0914785e+07 0.00e+00 1.00e+00  -1.7 7.29e+06  -6.9 1.00e+00 1.00e+00f  1\n",
      "   8 -3.2784785e+07 0.00e+00 1.00e+00  -1.7 2.19e+07  -7.3 1.00e+00 1.00e+00f  1\n",
      "   9 -9.8394785e+07 0.00e+00 1.00e+00  -1.7 6.56e+07  -7.8 1.00e+00 1.00e+00f  1\n",
      "iter    objective    inf_pr   inf_du lg(mu)  ||d||  lg(rg) alpha_du alpha_pr  ls\n",
      "  10 -2.9522478e+08 0.00e+00 1.00e+00  -1.7 1.97e+08  -8.3 1.00e+00 1.00e+00f  1\n",
      "  11 -8.8571478e+08 0.00e+00 1.00e+00  -1.7 5.90e+08  -8.8 1.00e+00 1.00e+00f  1\n",
      "  12 -2.6571848e+09 0.00e+00 1.00e+00  -1.7 1.77e+09  -9.2 1.00e+00 1.00e+00f  1\n",
      "  13 -7.9715948e+09 0.00e+00 1.00e+00  -1.7 5.31e+09  -9.7 1.00e+00 1.00e+00f  1\n",
      "  14 -2.3914825e+10 0.00e+00 1.00e+00  -1.7 1.59e+10 -10.2 1.00e+00 1.00e+00f  1\n",
      "  15 -7.1744515e+10 0.00e+00 1.00e+00  -1.7 4.78e+10 -10.7 1.00e+00 1.00e+00f  1\n",
      "  16 -2.1523358e+11 0.00e+00 1.00e+00  -1.7 1.43e+11 -11.2 1.00e+00 1.00e+00f  1\n",
      "  17 -6.4570079e+11 0.00e+00 1.00e+00  -1.7 4.30e+11 -11.6 1.00e+00 1.00e+00f  1\n",
      "  18 -1.9371024e+12 0.00e+00 1.00e+00  -1.7 1.29e+12 -12.1 1.00e+00 1.00e+00f  1\n",
      "  19 -5.8113073e+12 0.00e+00 1.00e+00  -1.7 3.87e+12 -12.6 1.00e+00 1.00e+00f  1\n",
      "iter    objective    inf_pr   inf_du lg(mu)  ||d||  lg(rg) alpha_du alpha_pr  ls\n",
      "  20 -1.7433922e+13 0.00e+00 1.00e+00  -1.7 1.16e+13 -13.1 1.00e+00 1.00e+00f  1\n",
      "  21 -5.2301766e+13 0.00e+00 1.00e+00  -1.7 3.49e+13 -13.5 1.00e+00 1.00e+00f  1\n",
      "  22 -1.5690530e+14 0.00e+00 1.00e+00  -1.7 1.05e+14 -14.0 1.00e+00 1.00e+00f  1\n",
      "  23 -4.7071589e+14 0.00e+00 1.00e+00  -1.7 3.14e+14 -14.5 1.00e+00 1.00e+00f  1\n",
      "  24 -1.4121477e+15 0.00e+00 1.00e+00  -1.7 9.41e+14 -15.0 1.00e+00 1.00e+00f  1\n",
      "  25 -4.2364430e+15 0.00e+00 1.00e+00  -1.7 2.82e+15 -15.5 1.00e+00 1.00e+00f  1\n",
      "  26 -1.2709329e+16 0.00e+00 1.00e+00  -1.7 8.47e+15 -15.9 1.00e+00 1.00e+00f  1\n",
      "  27 -3.8127987e+16 0.00e+00 1.00e+00  -1.7 2.54e+16 -16.4 1.00e+00 1.00e+00f  1\n",
      "  28 -1.1438396e+17 0.00e+00 1.00e+00  -1.7 7.63e+16 -16.9 1.00e+00 1.00e+00f  1\n",
      "  29 -3.4315189e+17 0.00e+00 1.00e+00  -1.7 2.29e+17 -17.4 1.00e+00 1.00e+00f  1\n",
      "iter    objective    inf_pr   inf_du lg(mu)  ||d||  lg(rg) alpha_du alpha_pr  ls\n",
      "  30 -1.0294557e+18 0.00e+00 1.00e+00  -1.7 6.86e+17 -17.8 1.00e+00 1.00e+00f  1\n",
      "  31 -3.0883670e+18 0.00e+00 1.00e+00  -1.7 2.06e+18 -18.3 1.00e+00 1.00e+00f  1\n",
      "  32 -9.2651009e+18 0.00e+00 1.00e+00  -1.7 6.18e+18 -18.8 1.00e+00 1.00e+00f  1\n",
      "  33 -2.7795303e+19 0.00e+00 1.00e+00  -1.7 1.85e+19 -19.3 1.00e+00 1.00e+00f  1\n",
      "  34 -8.3385908e+19 0.00e+00 1.00e+00  -1.7 5.56e+19 -19.7 1.00e+00 1.00e+00f  1\n",
      "  35 -1.8338591e+20 0.00e+00 1.00e+00  -1.7 1.00e+20 -20.0 1.00e+00 1.00e+00f  1\n",
      "\n",
      "Number of Iterations....: 35\n",
      "\n",
      "                                   (scaled)                 (unscaled)\n",
      "Objective...............:  -1.8338590849833298e+20   -1.8338590849833298e+20\n",
      "Dual infeasibility......:   1.0000000000000000e+00    1.0000000000000000e+00\n",
      "Constraint violation....:   0.0000000000000000e+00    0.0000000000000000e+00\n",
      "Variable bound violation:   0.0000000000000000e+00    0.0000000000000000e+00\n",
      "Complementarity.........:   2.0000000000000007e-02    2.0000000000000007e-02\n",
      "Overall NLP error.......:   1.0000000000000000e+00    1.0000000000000000e+00\n",
      "\n",
      "\n",
      "Number of objective function evaluations             = 36\n",
      "Number of objective gradient evaluations             = 36\n",
      "Number of equality constraint evaluations            = 0\n",
      "Number of inequality constraint evaluations          = 36\n",
      "Number of equality constraint Jacobian evaluations   = 0\n",
      "Number of inequality constraint Jacobian evaluations = 36\n",
      "Number of Lagrangian Hessian evaluations             = 35\n",
      "Total seconds in IPOPT                               = 1.554\n",
      "\n",
      "EXIT: Iterates diverging; problem might be unbounded.\n",
      "x = -2.787893044855877 y = -1.8338590849833298e20\n"
     ]
    }
   ],
   "source": [
    "optimize!(model)\n",
    "println(\"x = \", value(x), \" y = \", value(y))"
   ]
  },
  {
   "cell_type": "code",
   "execution_count": 19,
   "metadata": {},
   "outputs": [
    {
     "data": {
      "text/plain": [
       "NORM_LIMIT::TerminationStatusCode = 17"
      ]
     },
     "metadata": {},
     "output_type": "display_data"
    }
   ],
   "source": [
    "termination_status(model)"
   ]
  },
  {
   "cell_type": "code",
   "execution_count": 20,
   "metadata": {},
   "outputs": [
    {
     "data": {
      "text/plain": [
       "MathOptInterface.VariableIndex(2)"
      ]
     },
     "metadata": {},
     "output_type": "display_data"
    }
   ],
   "source": [
    "vals = zeros(2)\n",
    "x_index = JuMP.index(x)\n",
    "y_index = JuMP.index(y)"
   ]
  },
  {
   "cell_type": "code",
   "execution_count": 21,
   "metadata": {},
   "outputs": [
    {
     "data": {
      "text/plain": [
       "Nonlinear.Evaluator with available features:\n",
       "  * :Grad\n",
       "  * :Jac\n",
       "  * :JacVec\n",
       "  * :Hess\n",
       "  * :HessVec\n",
       "  * :ExprGraph"
      ]
     },
     "metadata": {},
     "output_type": "display_data"
    }
   ],
   "source": [
    "d = NLPEvaluator(model)"
   ]
  },
  {
   "cell_type": "code",
   "execution_count": 22,
   "metadata": {},
   "outputs": [],
   "source": [
    "MathOptInterface.initialize(d, [:Grad])"
   ]
  },
  {
   "cell_type": "code",
   "execution_count": 23,
   "metadata": {},
   "outputs": [
    {
     "data": {
      "text/plain": [
       "1.0"
      ]
     },
     "metadata": {},
     "output_type": "display_data"
    }
   ],
   "source": [
    "MathOptInterface.eval_objective(d, zeros(2))"
   ]
  },
  {
   "cell_type": "code",
   "execution_count": 24,
   "metadata": {},
   "outputs": [
    {
     "data": {
      "text/plain": [
       "2-element Vector{Float64}:\n",
       " 1.0\n",
       " 1.0"
      ]
     },
     "metadata": {},
     "output_type": "display_data"
    }
   ],
   "source": [
    "∇f = zeros(2)\n",
    "MathOptInterface.eval_objective_gradient(d, ∇f, zeros(2))\n",
    "∇f"
   ]
  },
  {
   "cell_type": "code",
   "execution_count": 25,
   "metadata": {},
   "outputs": [
    {
     "data": {
      "text/plain": [
       "1×2 Matrix{Float64}:\n",
       " 2.0  0.0"
      ]
     },
     "metadata": {},
     "output_type": "display_data"
    }
   ],
   "source": [
    "J = zeros(1,2)\n",
    "MathOptInterface.eval_constraint_jacobian(d, J, zeros(2))\n",
    "J"
   ]
  },
  {
   "cell_type": "markdown",
   "metadata": {},
   "source": [
    "#### Plus d'information\n",
    "Dans ce cours, nous n'allons pas uniquement nous concentrer sur des problèmes linéaires, mais aussi nonlinéaire.\n",
    "Vous trouverez plus d'informations pour ce cas dans la documentation de jump-dev:\n",
    "\n",
    "[https://jump.dev/JuMP.jl/stable/tutorials/nonlinear/introduction/](https://jump.dev/JuMP.jl/stable/tutorials/nonlinear/introduction/)\n",
    "\n",
    "et la documentation de MathOptInterface:\n",
    "\n",
    "[https://jump.dev/MathOptInterface.jl/stable/](https://jump.dev/MathOptInterface.jl/stable/)\n",
    "\n",
    "Et ça sera le sujet du projet !"
   ]
  },
  {
   "attachments": {},
   "cell_type": "markdown",
   "metadata": {},
   "source": [
    "## Exo : f(x₁,x₂) = 100(x₂ - x₁²)² + (1 - x₁)²"
   ]
  },
  {
   "cell_type": "code",
   "execution_count": 26,
   "metadata": {},
   "outputs": [
    {
     "name": "stdout",
     "output_type": "stream",
     "text": [
      "This is Ipopt version 3.14.4, running with linear solver MUMPS 5.4.1.\n",
      "\n",
      "Number of nonzeros in equality constraint Jacobian...:        0\n",
      "Number of nonzeros in inequality constraint Jacobian.:        0\n",
      "Number of nonzeros in Lagrangian Hessian.............:        3\n",
      "\n",
      "Total number of variables............................:        2\n",
      "                     variables with only lower bounds:        0\n",
      "                variables with lower and upper bounds:        0\n",
      "                     variables with only upper bounds:        0\n",
      "Total number of equality constraints.................:        0\n",
      "Total number of inequality constraints...............:        0\n",
      "        inequality constraints with only lower bounds:        0\n",
      "   inequality constraints with lower and upper bounds:        0\n",
      "        inequality constraints with only upper bounds:        0\n",
      "\n",
      "iter    objective    inf_pr   inf_du lg(mu)  ||d||  lg(rg) alpha_du alpha_pr  ls\n",
      "   0  1.0000000e+00 0.00e+00 2.00e+00  -1.0 0.00e+00    -  0.00e+00 0.00e+00   0\n",
      "   1  9.5312500e-01 0.00e+00 1.25e+01  -1.0 1.00e+00    -  1.00e+00 2.50e-01f  3\n",
      "   2  4.8320569e-01 0.00e+00 1.01e+00  -1.0 9.03e-02    -  1.00e+00 1.00e+00f  1\n",
      "   3  4.5708829e-01 0.00e+00 9.53e+00  -1.0 4.29e-01    -  1.00e+00 5.00e-01f  2\n",
      "   4  1.8894205e-01 0.00e+00 4.15e-01  -1.0 9.51e-02    -  1.00e+00 1.00e+00f  1\n",
      "   5  1.3918726e-01 0.00e+00 6.51e+00  -1.7 3.49e-01    -  1.00e+00 5.00e-01f  2\n",
      "   6  5.4940990e-02 0.00e+00 4.51e-01  -1.7 9.29e-02    -  1.00e+00 1.00e+00f  1\n",
      "   7  2.9144630e-02 0.00e+00 2.27e+00  -1.7 2.49e-01    -  1.00e+00 5.00e-01f  2\n",
      "   8  9.8586451e-03 0.00e+00 1.15e+00  -1.7 1.10e-01    -  1.00e+00 1.00e+00f  1\n",
      "   9  2.3237475e-03 0.00e+00 1.00e+00  -1.7 1.00e-01    -  1.00e+00 1.00e+00f  1\n",
      "iter    objective    inf_pr   inf_du lg(mu)  ||d||  lg(rg) alpha_du alpha_pr  ls\n",
      "  10  2.3797236e-04 0.00e+00 2.19e-01  -1.7 5.09e-02    -  1.00e+00 1.00e+00f  1\n",
      "  11  4.9267371e-06 0.00e+00 5.95e-02  -1.7 2.53e-02    -  1.00e+00 1.00e+00f  1\n",
      "  12  2.8189505e-09 0.00e+00 8.31e-04  -2.5 3.20e-03    -  1.00e+00 1.00e+00f  1\n",
      "  13  1.0095040e-15 0.00e+00 8.68e-07  -5.7 9.78e-05    -  1.00e+00 1.00e+00f  1\n",
      "  14  1.3288608e-28 0.00e+00 2.02e-13  -8.6 4.65e-08    -  1.00e+00 1.00e+00f  1\n",
      "\n",
      "Number of Iterations....: 14\n",
      "\n",
      "                                   (scaled)                 (unscaled)\n",
      "Objective...............:   1.3288608467480825e-28    1.3288608467480825e-28\n",
      "Dual infeasibility......:   2.0183854587685121e-13    2.0183854587685121e-13\n",
      "Constraint violation....:   0.0000000000000000e+00    0.0000000000000000e+00\n",
      "Variable bound violation:   0.0000000000000000e+00    0.0000000000000000e+00\n",
      "Complementarity.........:   0.0000000000000000e+00    0.0000000000000000e+00\n",
      "Overall NLP error.......:   2.0183854587685121e-13    2.0183854587685121e-13\n",
      "\n",
      "\n",
      "Number of objective function evaluations             = 36\n",
      "Number of objective gradient evaluations             = 15\n",
      "Number of equality constraint evaluations            = 0\n",
      "Number of inequality constraint evaluations          = 0\n",
      "Number of equality constraint Jacobian evaluations   = 0\n",
      "Number of inequality constraint Jacobian evaluations = 0\n",
      "Number of Lagrangian Hessian evaluations             = 14\n",
      "Total seconds in IPOPT                               = 0.524\n",
      "\n",
      "EXIT: Optimal Solution Found.\n",
      "x1 = 0.9999999999999899 x2 = 0.9999999999999792\n"
     ]
    }
   ],
   "source": [
    "model = Model(Ipopt.Optimizer)\n",
    "@variable(model, x1)\n",
    "@variable(model, x2)\n",
    "@NLobjective(model, Min, 100*(x2-x1^2)^2 + (1-x1)^2)\n",
    "\n",
    "optimize!(model)\n",
    "println(\"x1 = \", value(x1), \" x2 = \", value(x2))"
   ]
  }
 ],
 "metadata": {
  "kernelspec": {
   "display_name": "Julia 1.8.5",
   "language": "julia",
   "name": "julia-1.8"
  },
  "language_info": {
   "file_extension": ".jl",
   "mimetype": "application/julia",
   "name": "julia",
   "version": "1.8.5"
  }
 },
 "nbformat": 4,
 "nbformat_minor": 4
}
