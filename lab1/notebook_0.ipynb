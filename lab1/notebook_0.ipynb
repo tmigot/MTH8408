{
 "cells": [
  {
   "cell_type": "markdown",
   "metadata": {},
   "source": [
    "# Outils d'optimisation et d'algèbre linéaire numérique\n",
    "## Laboratoire 0: Introduction au langage julia\n",
    "Alexis Montoison, Tangi Migot et Dominique Orban"
   ]
  },
  {
   "cell_type": "markdown",
   "metadata": {},
   "source": [
    "## a) SOS\n",
    "Voici quelques conseils pour trouver de la documentation sur Julia et ses fonctionalités.    \n",
    "i) Utiliser `?` dans Julia donne accès à la documentation des fonctions."
   ]
  },
  {
   "cell_type": "code",
   "execution_count": 2,
   "metadata": {
    "collapsed": true
   },
   "outputs": [
    {
     "name": "stdout",
     "output_type": "stream",
     "text": [
      "search: \u001b[0m\u001b[1mp\u001b[22m\u001b[0m\u001b[1mr\u001b[22m\u001b[0m\u001b[1mi\u001b[22m\u001b[0m\u001b[1mn\u001b[22m\u001b[0m\u001b[1mt\u001b[22m\u001b[0m\u001b[1ms\u001b[22m\u001b[0m\u001b[1mt\u001b[22m\u001b[0m\u001b[1my\u001b[22m\u001b[0m\u001b[1ml\u001b[22m\u001b[0m\u001b[1me\u001b[22m\u001b[0m\u001b[1md\u001b[22m\n",
      "\n"
     ]
    },
    {
     "data": {
      "text/latex": [
       "\\begin{verbatim}\n",
       "printstyled([io], xs...; bold::Bool=false, color::Union{Symbol,Int}=:normal)\n",
       "\\end{verbatim}\n",
       "Print \\texttt{xs} in a color specified as a symbol or integer, optionally in bold.\n",
       "\n",
       "\\texttt{color} may take any of the values \\texttt{:normal}, \\texttt{:default}, \\texttt{:bold}, \\texttt{:black}, \\texttt{:blink}, \\texttt{:blue}, \\texttt{:cyan}, \\texttt{:green}, \\texttt{:hidden}, \\texttt{:light\\_black}, \\texttt{:light\\_blue}, \\texttt{:light\\_cyan}, \\texttt{:light\\_green}, \\texttt{:light\\_magenta}, \\texttt{:light\\_red}, \\texttt{:light\\_yellow}, \\texttt{:magenta}, \\texttt{:nothing}, \\texttt{:red}, \\texttt{:reverse}, \\texttt{:underline}, \\texttt{:white}, or  \\texttt{:yellow} or an integer between 0 and 255 inclusive. Note that not all terminals support 256 colors. If the keyword \\texttt{bold} is given as \\texttt{true}, the result will be printed in bold.\n",
       "\n"
      ],
      "text/markdown": [
       "```\n",
       "printstyled([io], xs...; bold::Bool=false, color::Union{Symbol,Int}=:normal)\n",
       "```\n",
       "\n",
       "Print `xs` in a color specified as a symbol or integer, optionally in bold.\n",
       "\n",
       "`color` may take any of the values `:normal`, `:default`, `:bold`, `:black`, `:blink`, `:blue`, `:cyan`, `:green`, `:hidden`, `:light_black`, `:light_blue`, `:light_cyan`, `:light_green`, `:light_magenta`, `:light_red`, `:light_yellow`, `:magenta`, `:nothing`, `:red`, `:reverse`, `:underline`, `:white`, or  `:yellow` or an integer between 0 and 255 inclusive. Note that not all terminals support 256 colors. If the keyword `bold` is given as `true`, the result will be printed in bold.\n"
      ],
      "text/plain": [
       "\u001b[36m  printstyled([io], xs...; bold::Bool=false, color::Union{Symbol,Int}=:normal)\u001b[39m\n",
       "\n",
       "  Print \u001b[36mxs\u001b[39m in a color specified as a symbol or integer, optionally in bold.\n",
       "\n",
       "  \u001b[36mcolor\u001b[39m may take any of the values \u001b[36m:normal\u001b[39m, \u001b[36m:default\u001b[39m, \u001b[36m:bold\u001b[39m, \u001b[36m:black\u001b[39m, \u001b[36m:blink\u001b[39m,\n",
       "  \u001b[36m:blue\u001b[39m, \u001b[36m:cyan\u001b[39m, \u001b[36m:green\u001b[39m, \u001b[36m:hidden\u001b[39m, \u001b[36m:light_black\u001b[39m, \u001b[36m:light_blue\u001b[39m, \u001b[36m:light_cyan\u001b[39m,\n",
       "  \u001b[36m:light_green\u001b[39m, \u001b[36m:light_magenta\u001b[39m, \u001b[36m:light_red\u001b[39m, \u001b[36m:light_yellow\u001b[39m, \u001b[36m:magenta\u001b[39m, \u001b[36m:nothing\u001b[39m,\n",
       "  \u001b[36m:red\u001b[39m, \u001b[36m:reverse\u001b[39m, \u001b[36m:underline\u001b[39m, \u001b[36m:white\u001b[39m, or \u001b[36m:yellow\u001b[39m or an integer between 0 and\n",
       "  255 inclusive. Note that not all terminals support 256 colors. If the\n",
       "  keyword \u001b[36mbold\u001b[39m is given as \u001b[36mtrue\u001b[39m, the result will be printed in bold."
      ]
     },
     "execution_count": 2,
     "metadata": {},
     "output_type": "execute_result"
    }
   ],
   "source": [
    "? printstyled"
   ]
  },
  {
   "cell_type": "markdown",
   "metadata": {},
   "source": [
    "ii) Utiliser la documentation et le manuel en ligne de Julia: [https://docs.julialang.org/en/v1/](https://docs.julialang.org/en/v1/)"
   ]
  },
  {
   "cell_type": "markdown",
   "metadata": {},
   "source": [
    "iii) Utilisez votre moteur de recherche préféré !"
   ]
  },
  {
   "cell_type": "markdown",
   "metadata": {},
   "source": [
    "iv) vous posez des questions aux professeurs"
   ]
  },
  {
   "cell_type": "markdown",
   "metadata": {},
   "source": [
    "## b) Types usuels en Julia"
   ]
  },
  {
   "cell_type": "markdown",
   "metadata": {},
   "source": [
    "### Les chaines de caractères\n",
    "\n",
    "Une chaine de caractère est representée entre `\"\"`. On peut utiliser la fonction `println` pour les afficher."
   ]
  },
  {
   "cell_type": "code",
   "execution_count": 3,
   "metadata": {},
   "outputs": [
    {
     "name": "stdout",
     "output_type": "stream",
     "text": [
      "Hello world\n"
     ]
    }
   ],
   "source": [
    "println(\"Hello world\")"
   ]
  },
  {
   "cell_type": "markdown",
   "metadata": {},
   "source": [
    "Pour connaître le type d'un objet, on utilise la fonction `typeof`."
   ]
  },
  {
   "cell_type": "code",
   "execution_count": 4,
   "metadata": {},
   "outputs": [
    {
     "data": {
      "text/plain": [
       "String"
      ]
     },
     "execution_count": 4,
     "metadata": {},
     "output_type": "execute_result"
    }
   ],
   "source": [
    "typeof(\"Hello world\")"
   ]
  },
  {
   "cell_type": "markdown",
   "metadata": {},
   "source": [
    "### Les entiers et réels flottants\n",
    "- Les types entiers signés : Int8, Int16, Int32, Int64, Int128;\n",
    "- Les types entiers non signés : UInt8, UInt16, UInt32, UInt64, UInt128;\n",
    "- Les réels flottants : Float16, Float32, Float64.\n",
    "\n",
    "Par défaut, le type d'une variable est définie par son affectation, mais on peut préciser son type."
   ]
  },
  {
   "cell_type": "code",
   "execution_count": 5,
   "metadata": {},
   "outputs": [
    {
     "name": "stdout",
     "output_type": "stream",
     "text": [
      "valeur de x : 3 || type de x : Int64\n",
      "valeur de y : 3 || type de y : UInt64\n",
      "valeur de z : 3.0 || type de z : Float64\n"
     ]
    }
   ],
   "source": [
    "x = 3\n",
    "println(\"valeur de x : \", x, \" || type de x : \",typeof(x))\n",
    "y = UInt64(3)\n",
    "println(\"valeur de y : \", y, \" || type de y : \",typeof(y))\n",
    "z = 3.0\n",
    "println(\"valeur de z : \", z, \" || type de z : \",typeof(z))"
   ]
  },
  {
   "cell_type": "markdown",
   "metadata": {},
   "source": [
    "### Les complexes"
   ]
  },
  {
   "cell_type": "code",
   "execution_count": 7,
   "metadata": {},
   "outputs": [
    {
     "name": "stdout",
     "output_type": "stream",
     "text": [
      "valeur de c : 3 + 7im || type de c : Complex{Int64}\n"
     ]
    }
   ],
   "source": [
    "c = 3 + 7 * im\n",
    "println(\"valeur de c : \", c, \" || type de c : \",typeof(c))"
   ]
  },
  {
   "cell_type": "markdown",
   "metadata": {},
   "source": [
    "### Les rationnels"
   ]
  },
  {
   "cell_type": "code",
   "execution_count": 8,
   "metadata": {},
   "outputs": [
    {
     "name": "stdout",
     "output_type": "stream",
     "text": [
      "valeur de r : 4//5 || type de r : Rational{Int64}\n"
     ]
    },
    {
     "data": {
      "text/plain": [
       "22//15"
      ]
     },
     "execution_count": 8,
     "metadata": {},
     "output_type": "execute_result"
    }
   ],
   "source": [
    "r = 4//5\n",
    "println(\"valeur de r : \", r, \" || type de r : \",typeof(r))\n",
    "a = 2 // 3\n",
    "r + a "
   ]
  },
  {
   "cell_type": "markdown",
   "metadata": {},
   "source": [
    "### Booléens"
   ]
  },
  {
   "cell_type": "code",
   "execution_count": 10,
   "metadata": {},
   "outputs": [
    {
     "name": "stdout",
     "output_type": "stream",
     "text": [
      "valeur de b : true || type de b : Bool\n"
     ]
    }
   ],
   "source": [
    "b = true\n",
    "println(\"valeur de b : \", b, \" || type de b : \",typeof(b))"
   ]
  },
  {
   "cell_type": "markdown",
   "metadata": {},
   "source": [
    "### Itérateurs"
   ]
  },
  {
   "cell_type": "code",
   "execution_count": 11,
   "metadata": {},
   "outputs": [
    {
     "name": "stdout",
     "output_type": "stream",
     "text": [
      "valeur de it : 3:2:9 || type de it : StepRange{Int64,Int64}\n"
     ]
    }
   ],
   "source": [
    "it = 3:2:9\n",
    "println(\"valeur de it : \", it, \" || type de it : \",typeof(it))"
   ]
  },
  {
   "cell_type": "markdown",
   "metadata": {},
   "source": [
    "### Les tuples"
   ]
  },
  {
   "cell_type": "code",
   "execution_count": 12,
   "metadata": {},
   "outputs": [
    {
     "data": {
      "text/plain": [
       "('c', 3, \"MTH\")"
      ]
     },
     "execution_count": 12,
     "metadata": {},
     "output_type": "execute_result"
    }
   ],
   "source": [
    "t = tuple('c', 3, \"MTH\")"
   ]
  },
  {
   "cell_type": "code",
   "execution_count": 13,
   "metadata": {},
   "outputs": [
    {
     "data": {
      "text/plain": [
       "Tuple{Char,Int64,String}"
      ]
     },
     "execution_count": 13,
     "metadata": {},
     "output_type": "execute_result"
    }
   ],
   "source": [
    "typeof(t)"
   ]
  },
  {
   "cell_type": "markdown",
   "metadata": {},
   "source": [
    "Les tuples sont des objets non modifiables!"
   ]
  },
  {
   "cell_type": "markdown",
   "metadata": {},
   "source": [
    "### Les tableaux"
   ]
  },
  {
   "cell_type": "markdown",
   "metadata": {},
   "source": [
    "#### **a) Création des vecteurs**"
   ]
  },
  {
   "cell_type": "code",
   "execution_count": 15,
   "metadata": {},
   "outputs": [
    {
     "data": {
      "text/plain": [
       "3-element Array{Int64,1}:\n",
       " 1\n",
       " 2\n",
       " 3"
      ]
     },
     "execution_count": 15,
     "metadata": {},
     "output_type": "execute_result"
    }
   ],
   "source": [
    "#v = [1; 2; 3]  # Vecteur de longueur 3\n",
    "v = [1, 2, 3]  # Vecteur de longueur 3"
   ]
  },
  {
   "cell_type": "markdown",
   "metadata": {},
   "source": [
    "#### b) Création des matrices"
   ]
  },
  {
   "cell_type": "code",
   "execution_count": 23,
   "metadata": {},
   "outputs": [],
   "source": [
    "M = [1 2; 3 4]  # Matrice de taille 2 x 2\n",
    "M = zeros(2, 2)  # Matrice contenant que des 0 de taille 2 x 2\n",
    "M = ones(3, 4)  # Matrice contenant que des 1 de taille 2 x 2"
   ]
  },
  {
   "cell_type": "markdown",
   "metadata": {},
   "source": [
    "### Autres types de base\n",
    "* les chaînes de caractères;\n",
    "* les dictionnaires;\n",
    "* ...\n",
    "\n",
    "On peut aussi créer des types plus évolués comme les structures avec des attributs."
   ]
  },
  {
   "cell_type": "markdown",
   "metadata": {},
   "source": [
    "### Commentaires"
   ]
  },
  {
   "cell_type": "code",
   "execution_count": null,
   "metadata": {},
   "outputs": [],
   "source": [
    "# Il s'agit d'un commentaire !"
   ]
  },
  {
   "cell_type": "code",
   "execution_count": null,
   "metadata": {},
   "outputs": [],
   "source": [
    "#=\n",
    "Il s'agit d'un bloc de commentaires !!!\n",
    "=#"
   ]
  },
  {
   "cell_type": "markdown",
   "metadata": {},
   "source": [
    "## c) Caractères unicodes"
   ]
  },
  {
   "cell_type": "markdown",
   "metadata": {},
   "source": [
    "Les caractères unicodes sont supportés par Julia et permettent d'augmenter la lisibilité d'un code."
   ]
  },
  {
   "cell_type": "code",
   "execution_count": null,
   "metadata": {},
   "outputs": [],
   "source": [
    "β = 20 # on tape \\beta puis TAB\n",
    "α = γ\n",
    "Ω = 3  # on tape \\Omega puis TAB\n",
    "∇f"
   ]
  },
  {
   "cell_type": "markdown",
   "metadata": {},
   "source": [
    "You write `\\nabla` and then press TAB to get the symbol, `∇`.  "
   ]
  },
  {
   "cell_type": "markdown",
   "metadata": {},
   "source": [
    "## d) Opérations mathématiques"
   ]
  },
  {
   "cell_type": "markdown",
   "metadata": {},
   "source": [
    "Les opérateurs classiques sont disponibles: `+`, `-`, `*`, `/`, `^`."
   ]
  },
  {
   "cell_type": "code",
   "execution_count": 24,
   "metadata": {},
   "outputs": [
    {
     "data": {
      "text/plain": [
       "4"
      ]
     },
     "execution_count": 24,
     "metadata": {},
     "output_type": "execute_result"
    }
   ],
   "source": [
    "2^2"
   ]
  },
  {
   "cell_type": "markdown",
   "metadata": {},
   "source": [
    "Les fonctions usuelles de mathématiques sont également disponibles: exp, sqrt, log, sin, abs, binomial, factorial."
   ]
  },
  {
   "cell_type": "code",
   "execution_count": 25,
   "metadata": {},
   "outputs": [
    {
     "data": {
      "text/plain": [
       "1"
      ]
     },
     "execution_count": 25,
     "metadata": {},
     "output_type": "execute_result"
    }
   ],
   "source": [
    "abs(-1)"
   ]
  },
  {
   "cell_type": "markdown",
   "metadata": {},
   "source": [
    "Lorsqu'une fonction s'applique à tous les éléments d'un vecteur on rajoute un `.` à la fin de la fonction. Il s'agit de la vectorisation."
   ]
  },
  {
   "cell_type": "code",
   "execution_count": 29,
   "metadata": {
    "collapsed": true
   },
   "outputs": [
    {
     "data": {
      "text/plain": [
       "4-element Array{Float64,1}:\n",
       " 0.0\n",
       " 0.24740395925452294\n",
       " 0.479425538604203\n",
       " 0.8414709848078965"
      ]
     },
     "execution_count": 29,
     "metadata": {},
     "output_type": "execute_result"
    }
   ],
   "source": [
    "x = [0, 1/4, 1/2, 1]\n",
    "sin.(x)"
   ]
  },
  {
   "cell_type": "markdown",
   "metadata": {},
   "source": [
    "Les opérateurs suivant permettent de comparer deux objets entre eux: `==`, `===`, `!=`, `<`, `>`, `<=` ou `≤` (\\leq puis TAB), `>=` ou `≥` (\\geq puis TAB)"
   ]
  },
  {
   "cell_type": "code",
   "execution_count": 30,
   "metadata": {},
   "outputs": [
    {
     "data": {
      "text/plain": [
       "false"
      ]
     },
     "execution_count": 30,
     "metadata": {},
     "output_type": "execute_result"
    }
   ],
   "source": [
    "1 == 2"
   ]
  },
  {
   "cell_type": "markdown",
   "metadata": {},
   "source": [
    "Les types sont importants et influencent certaines opérations."
   ]
  },
  {
   "cell_type": "code",
   "execution_count": 32,
   "metadata": {},
   "outputs": [
    {
     "data": {
      "text/plain": [
       "true"
      ]
     },
     "execution_count": 32,
     "metadata": {},
     "output_type": "execute_result"
    }
   ],
   "source": [
    "(1 == 1.) #!= (1 == 1.) "
   ]
  },
  {
   "cell_type": "markdown",
   "metadata": {},
   "source": [
    "Dans le cas de **booléens**, les opérateurs suivant sont disponibles: `!` (non), `&` (et), `|` (ou), `xor`/`⊻` (ou exclusif)"
   ]
  },
  {
   "cell_type": "code",
   "execution_count": 35,
   "metadata": {},
   "outputs": [
    {
     "data": {
      "text/plain": [
       "false"
      ]
     },
     "execution_count": 35,
     "metadata": {},
     "output_type": "execute_result"
    }
   ],
   "source": [
    "true ⊻ true"
   ]
  },
  {
   "cell_type": "code",
   "execution_count": 39,
   "metadata": {},
   "outputs": [
    {
     "data": {
      "text/plain": [
       "false"
      ]
     },
     "execution_count": 39,
     "metadata": {},
     "output_type": "execute_result"
    }
   ],
   "source": [
    "false & (1 == 2)"
   ]
  },
  {
   "cell_type": "code",
   "execution_count": 40,
   "metadata": {},
   "outputs": [
    {
     "data": {
      "text/plain": [
       "true"
      ]
     },
     "execution_count": 40,
     "metadata": {},
     "output_type": "execute_result"
    }
   ],
   "source": [
    "true || (1 == 2)"
   ]
  },
  {
   "cell_type": "code",
   "execution_count": null,
   "metadata": {},
   "outputs": [],
   "source": [
    "false ⊻ true"
   ]
  },
  {
   "cell_type": "markdown",
   "metadata": {},
   "source": [
    "Il existe certains nombres particuliers: `NaN`, `Inf`, `pi` ..."
   ]
  },
  {
   "cell_type": "code",
   "execution_count": 47,
   "metadata": {},
   "outputs": [
    {
     "data": {
      "text/plain": [
       "Float64"
      ]
     },
     "execution_count": 47,
     "metadata": {},
     "output_type": "execute_result"
    }
   ],
   "source": [
    "π\n",
    "0. /0.\n",
    "typeof(NaN)"
   ]
  },
  {
   "cell_type": "markdown",
   "metadata": {},
   "source": [
    "Il faut faire attention à ces nombres qui peuvent être surprenant. Par exemple pour tester si un objet est un `NaN`, il faut utiliser la fonction `isnan` et pas `==`."
   ]
  },
  {
   "cell_type": "code",
   "execution_count": 52,
   "metadata": {},
   "outputs": [
    {
     "data": {
      "text/plain": [
       "true"
      ]
     },
     "execution_count": 52,
     "metadata": {},
     "output_type": "execute_result"
    }
   ],
   "source": [
    "NaN == NaN\n",
    "Inf < Inf\n",
    "isnan(NaN)\n",
    "0. == - 0."
   ]
  },
  {
   "cell_type": "markdown",
   "metadata": {},
   "source": [
    "Un autre nombre particulier est donné par `eps`, c'est la précision machine."
   ]
  },
  {
   "cell_type": "code",
   "execution_count": 56,
   "metadata": {},
   "outputs": [
    {
     "data": {
      "text/plain": [
       "2.220446049250313e-16"
      ]
     },
     "execution_count": 56,
     "metadata": {},
     "output_type": "execute_result"
    }
   ],
   "source": [
    "eps() #par défaut les réels sont des Float64"
   ]
  },
  {
   "cell_type": "markdown",
   "metadata": {},
   "source": [
    "## c) Structures usuelles en Julia"
   ]
  },
  {
   "cell_type": "markdown",
   "metadata": {},
   "source": [
    "### Boucles for"
   ]
  },
  {
   "cell_type": "code",
   "execution_count": 59,
   "metadata": {},
   "outputs": [
    {
     "name": "stdout",
     "output_type": "stream",
     "text": [
      "1\n",
      "2\n",
      "3\n",
      "4\n"
     ]
    }
   ],
   "source": [
    "N = 4\n",
    "for i in 1:N\n",
    "   println(i)\n",
    "end"
   ]
  },
  {
   "cell_type": "markdown",
   "metadata": {},
   "source": [
    "### Boucles while"
   ]
  },
  {
   "cell_type": "code",
   "execution_count": 2,
   "metadata": {},
   "outputs": [
    {
     "name": "stdout",
     "output_type": "stream",
     "text": [
      "1\n",
      "2\n",
      "3\n",
      "4\n",
      "5\n"
     ]
    }
   ],
   "source": [
    "N = 4\n",
    "i = 0\n",
    "while i <= N\n",
    "   i += 1 #i = i + 1\n",
    "   println(i)\n",
    "end"
   ]
  },
  {
   "cell_type": "markdown",
   "metadata": {},
   "source": [
    "Les variables créées à l'intérieur d'une boucle sont locales et donc pas accessibles en dehors."
   ]
  },
  {
   "cell_type": "code",
   "execution_count": 6,
   "metadata": {},
   "outputs": [
    {
     "name": "stdout",
     "output_type": "stream",
     "text": [
      "hello\n"
     ]
    },
    {
     "data": {
      "text/plain": [
       "\"hello\""
      ]
     },
     "execution_count": 6,
     "metadata": {},
     "output_type": "execute_result"
    }
   ],
   "source": [
    "x = 1\n",
    "for i = 1:3\n",
    "    x = \"hello\" # new local\n",
    "    if i==2\n",
    "        break\n",
    "    end\n",
    "    println(x)\n",
    "end\n",
    "\n",
    "x"
   ]
  },
  {
   "cell_type": "markdown",
   "metadata": {},
   "source": [
    "## Conditionnelles"
   ]
  },
  {
   "cell_type": "code",
   "execution_count": 5,
   "metadata": {},
   "outputs": [
    {
     "name": "stdout",
     "output_type": "stream",
     "text": [
      "Yes!\n"
     ]
    }
   ],
   "source": [
    "i=1;\n",
    "N=1;\n",
    "if i < N\n",
    "   # ...\n",
    "elseif i > N \n",
    "   # ...\n",
    "else\n",
    "   println(\"Yes!\")\n",
    "end"
   ]
  },
  {
   "cell_type": "markdown",
   "metadata": {},
   "source": [
    "En fonction du contexte, on peut se limiter à une boucle if sans elseif ou else."
   ]
  },
  {
   "cell_type": "code",
   "execution_count": null,
   "metadata": {},
   "outputs": [],
   "source": [
    "if true\n",
    "    # ...\n",
    "end"
   ]
  },
  {
   "cell_type": "markdown",
   "metadata": {},
   "source": [
    "Il existe aussi un opérateur simplifié pour les conditions if-else."
   ]
  },
  {
   "cell_type": "code",
   "execution_count": null,
   "metadata": {},
   "outputs": [],
   "source": [
    "x > y ? \"x is larger\" : \"y is larger\" \n",
    "#= c'est équivalent à\n",
    "if x>y\n",
    "  \"x is larger\"\n",
    "else\n",
    "  \"y is larger\"\n",
    "end\n",
    "=#"
   ]
  },
  {
   "cell_type": "markdown",
   "metadata": {},
   "source": [
    "## d) Fonctions"
   ]
  },
  {
   "cell_type": "code",
   "execution_count": 8,
   "metadata": {},
   "outputs": [
    {
     "data": {
      "text/plain": [
       "\"bon matin\""
      ]
     },
     "execution_count": 8,
     "metadata": {},
     "output_type": "execute_result"
    }
   ],
   "source": [
    "function f(x)\n",
    "   return \"bon matin\"\n",
    "end\n",
    "f(1)"
   ]
  },
  {
   "cell_type": "markdown",
   "metadata": {},
   "source": [
    "On peut omettre `return`, dans ce cas c'est le contenu de la dernière ligne qui est renvoyé"
   ]
  },
  {
   "cell_type": "code",
   "execution_count": 9,
   "metadata": {},
   "outputs": [
    {
     "data": {
      "text/plain": [
       "\"bon matin\""
      ]
     },
     "execution_count": 9,
     "metadata": {},
     "output_type": "execute_result"
    }
   ],
   "source": [
    "function f(x)\n",
    "    \"bon matin\"\n",
    "end\n",
    "f(1)"
   ]
  },
  {
   "cell_type": "markdown",
   "metadata": {},
   "source": [
    "On peut aussi avoir plusieurs `return` par fonction et pas forcément à la fin."
   ]
  },
  {
   "cell_type": "code",
   "execution_count": 11,
   "metadata": {},
   "outputs": [
    {
     "data": {
      "text/plain": [
       "2"
      ]
     },
     "execution_count": 11,
     "metadata": {},
     "output_type": "execute_result"
    }
   ],
   "source": [
    "function f(x)\n",
    "    if x == 1\n",
    "        return \"Zzzz\"\n",
    "    end\n",
    "    return 2 #...\n",
    "end\n",
    "f(3)"
   ]
  },
  {
   "cell_type": "markdown",
   "metadata": {},
   "source": [
    "On peut aussi définir les fonctions sur une ligne."
   ]
  },
  {
   "cell_type": "code",
   "execution_count": 13,
   "metadata": {},
   "outputs": [
    {
     "name": "stdout",
     "output_type": "stream",
     "text": [
      "Zzzz\n"
     ]
    }
   ],
   "source": [
    "f(x) = println(\"Zzzz\")\n",
    "f(1)"
   ]
  },
  {
   "cell_type": "markdown",
   "metadata": {},
   "source": [
    "Lorsqu'on veut rajouter des paramètres optionnels, on utilise un `;` pour les distinguer des autres paramètres. On appelle alors la fonction en précisant le nom de la variable si on n'utilise pas sa valeur pas défaut."
   ]
  },
  {
   "cell_type": "code",
   "execution_count": 16,
   "metadata": {},
   "outputs": [
    {
     "data": {
      "text/plain": [
       "3"
      ]
     },
     "execution_count": 16,
     "metadata": {},
     "output_type": "execute_result"
    }
   ],
   "source": [
    "function p(x, y; a=1, b=0)\n",
    "    a * x * y + b\n",
    "end\n",
    "p(3, 1)"
   ]
  },
  {
   "cell_type": "markdown",
   "metadata": {},
   "source": [
    "## e) Dispatch multiple"
   ]
  },
  {
   "cell_type": "code",
   "execution_count": 17,
   "metadata": {},
   "outputs": [
    {
     "data": {
      "text/plain": [
       "h (generic function with 2 methods)"
      ]
     },
     "execution_count": 17,
     "metadata": {},
     "output_type": "execute_result"
    }
   ],
   "source": [
    "function h(a::Real, b::Real)\n",
    "    return a + b\n",
    "end\n",
    "\n",
    "function h(a::Int, b::Int)\n",
    "    return a - b\n",
    "end"
   ]
  },
  {
   "cell_type": "code",
   "execution_count": 18,
   "metadata": {},
   "outputs": [
    {
     "data": {
      "text/html": [
       "# 2 methods for generic function <b>h</b>:<ul><li> h(a::<b>Int64</b>, b::<b>Int64</b>) in Main at In[17]:5</li> <li> h(a::<b>Real</b>, b::<b>Real</b>) in Main at In[17]:1</li> </ul>"
      ],
      "text/plain": [
       "# 2 methods for generic function \"h\":\n",
       "[1] h(a::Int64, b::Int64) in Main at In[17]:5\n",
       "[2] h(a::Real, b::Real) in Main at In[17]:1"
      ]
     },
     "execution_count": 18,
     "metadata": {},
     "output_type": "execute_result"
    }
   ],
   "source": [
    "methods(h)"
   ]
  },
  {
   "cell_type": "code",
   "execution_count": 20,
   "metadata": {},
   "outputs": [
    {
     "data": {
      "text/plain": [
       "3.0"
      ]
     },
     "execution_count": 20,
     "metadata": {},
     "output_type": "execute_result"
    }
   ],
   "source": [
    "h(1.,2.)"
   ]
  },
  {
   "cell_type": "markdown",
   "metadata": {},
   "source": [
    "Lorsqu'on va appeler la fonction h, la méthode la plus adaptée à nos arguments sera utilisée!"
   ]
  },
  {
   "cell_type": "markdown",
   "metadata": {},
   "source": [
    "## f) Parler avec Julia"
   ]
  },
  {
   "cell_type": "markdown",
   "metadata": {},
   "source": [
    "Lorsqu'il y a un bug, Julia renvoie un message d'erreur qui peut aider à trouver le problème. Quelques exemples:"
   ]
  },
  {
   "cell_type": "code",
   "execution_count": 21,
   "metadata": {},
   "outputs": [
    {
     "ename": "LoadError",
     "evalue": "MethodError: no method matching +(::Int64, ::String)\nClosest candidates are:\n  +(::Any, ::Any, !Matched::Any, !Matched::Any...) at operators.jl:538\n  +(::T, !Matched::T) where T<:Union{Int128, Int16, Int32, Int64, Int8, UInt128, UInt16, UInt32, UInt64, UInt8} at int.jl:86\n  +(::Union{Int16, Int32, Int64, Int8}, !Matched::BigInt) at gmp.jl:531\n  ...",
     "output_type": "error",
     "traceback": [
      "MethodError: no method matching +(::Int64, ::String)\nClosest candidates are:\n  +(::Any, ::Any, !Matched::Any, !Matched::Any...) at operators.jl:538\n  +(::T, !Matched::T) where T<:Union{Int128, Int16, Int32, Int64, Int8, UInt128, UInt16, UInt32, UInt64, UInt8} at int.jl:86\n  +(::Union{Int16, Int32, Int64, Int8}, !Matched::BigInt) at gmp.jl:531\n  ...",
      "",
      "Stacktrace:",
      " [1] top-level scope at In[21]:1",
      " [2] include_string(::Function, ::Module, ::String, ::String) at ./loading.jl:1091"
     ]
    }
   ],
   "source": [
    "1 + \"hello\""
   ]
  },
  {
   "cell_type": "code",
   "execution_count": 22,
   "metadata": {},
   "outputs": [
    {
     "ename": "LoadError",
     "evalue": "DomainError with -1.0:\nsqrt will only return a complex result if called with a complex argument. Try sqrt(Complex(x)).",
     "output_type": "error",
     "traceback": [
      "DomainError with -1.0:\nsqrt will only return a complex result if called with a complex argument. Try sqrt(Complex(x)).",
      "",
      "Stacktrace:",
      " [1] throw_complex_domainerror(::Symbol, ::Float64) at ./math.jl:33",
      " [2] sqrt at ./math.jl:573 [inlined]",
      " [3] sqrt(::Int64) at ./math.jl:599",
      " [4] top-level scope at In[22]:1",
      " [5] include_string(::Function, ::Module, ::String, ::String) at ./loading.jl:1091"
     ]
    }
   ],
   "source": [
    "sqrt(-1)"
   ]
  },
  {
   "cell_type": "code",
   "execution_count": 23,
   "metadata": {},
   "outputs": [
    {
     "ename": "LoadError",
     "evalue": "MethodError: no method matching f(::Int64, ::Int64)\nClosest candidates are:\n  f(::Any) at In[23]:1",
     "output_type": "error",
     "traceback": [
      "MethodError: no method matching f(::Int64, ::Int64)\nClosest candidates are:\n  f(::Any) at In[23]:1",
      "",
      "Stacktrace:",
      " [1] top-level scope at In[23]:2",
      " [2] include_string(::Function, ::Module, ::String, ::String) at ./loading.jl:1091"
     ]
    }
   ],
   "source": [
    "f(x) = x\n",
    "f(1, 2)"
   ]
  },
  {
   "cell_type": "code",
   "execution_count": 24,
   "metadata": {},
   "outputs": [
    {
     "ename": "LoadError",
     "evalue": "UndefVarError: b not defined",
     "output_type": "error",
     "traceback": [
      "UndefVarError: b not defined",
      "",
      "Stacktrace:",
      " [1] top-level scope",
      " [2] include_string(::Function, ::Module, ::String, ::String) at ./loading.jl:1091"
     ]
    }
   ],
   "source": [
    "b"
   ]
  },
  {
   "cell_type": "code",
   "execution_count": 25,
   "metadata": {},
   "outputs": [
    {
     "ename": "LoadError",
     "evalue": "could not open file /home/tmigot/Dropbox/PostDocMTL/Teaching/TP/Lab1/labo1/this_is_how_we_include_a_julia_file.jl",
     "output_type": "error",
     "traceback": [
      "could not open file /home/tmigot/Dropbox/PostDocMTL/Teaching/TP/Lab1/labo1/this_is_how_we_include_a_julia_file.jl",
      "",
      "Stacktrace:",
      " [1] include(::String) at ./client.jl:457",
      " [2] top-level scope at In[25]:1",
      " [3] include_string(::Function, ::Module, ::String, ::String) at ./loading.jl:1091"
     ]
    }
   ],
   "source": [
    "include(\"this_is_how_we_include_a_julia_file.jl\")"
   ]
  },
  {
   "cell_type": "code",
   "execution_count": null,
   "metadata": {},
   "outputs": [],
   "source": []
  }
 ],
 "metadata": {
  "@webio": {
   "lastCommId": null,
   "lastKernelId": null
  },
  "kernelspec": {
   "display_name": "Julia 1.5.0",
   "language": "julia",
   "name": "julia-1.5"
  },
  "language_info": {
   "file_extension": ".jl",
   "mimetype": "application/julia",
   "name": "julia",
   "version": "1.5.0"
  }
 },
 "nbformat": 4,
 "nbformat_minor": 2
}
