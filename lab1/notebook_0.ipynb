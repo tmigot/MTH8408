{
 "cells": [
  {
   "cell_type": "markdown",
   "metadata": {},
   "source": [
    "# Outils d'optimisation et d'algèbre linéaire numérique\n",
    "## Laboratoire 0: Introduction au langage julia\n",
    "Alexis Montoison, Tangi Migot et Dominique Orban"
   ]
  },
  {
   "cell_type": "markdown",
   "metadata": {},
   "source": [
    "## a) SOS\n",
    "Voici quelques conseils pour trouver de la documentation sur Julia et ses fonctionalités.    \n",
    "i) Utilisez `?` dans Julia donne accès à la documentation des fonctions."
   ]
  },
  {
   "cell_type": "code",
   "execution_count": null,
   "metadata": {},
   "outputs": [],
   "source": [
    "? print"
   ]
  },
  {
   "cell_type": "markdown",
   "metadata": {},
   "source": [
    "ii) Utiliser la documentation et le manuel en ligne de Julia: [https://docs.julialang.org/en/v1/](https://docs.julialang.org/en/v1/)"
   ]
  },
  {
   "cell_type": "markdown",
   "metadata": {},
   "source": [
    "iii) Utilisez votre moteur de recherche préféré !"
   ]
  },
  {
   "cell_type": "markdown",
   "metadata": {},
   "source": [
    "iv) Posez des questions aux professeurs"
   ]
  },
  {
   "cell_type": "markdown",
   "metadata": {},
   "source": [
    "## b) Types usuels en Julia"
   ]
  },
  {
   "cell_type": "markdown",
   "metadata": {},
   "source": [
    "### Les chaines de caractères\n",
    "\n",
    "Une chaine de caractère est representée entre `\"\"`. On peut utiliser la fonction `println` pour les afficher."
   ]
  },
  {
   "cell_type": "code",
   "execution_count": null,
   "metadata": {},
   "outputs": [],
   "source": [
    "println(\"Hello world\")"
   ]
  },
  {
   "cell_type": "markdown",
   "metadata": {},
   "source": [
    "Pour connaître le type d'un objet, on utilise la fonction `typeof`."
   ]
  },
  {
   "cell_type": "code",
   "execution_count": null,
   "metadata": {},
   "outputs": [],
   "source": [
    "typeof(\"Hello world\")"
   ]
  },
  {
   "cell_type": "markdown",
   "metadata": {},
   "source": [
    "### Les entiers et réels flottants\n",
    "- Les types entiers signés : Int8, Int16, Int32, Int64, Int128;\n",
    "- Les types entiers non signés : UInt8, UInt16, UInt32, UInt64, UInt128;\n",
    "- Les réels flottants : Float16, Float32, Float64.\n",
    "\n",
    "Par défaut, le type d'une variable est définie par son affectation, mais on peut préciser son type."
   ]
  },
  {
   "cell_type": "code",
   "execution_count": null,
   "metadata": {},
   "outputs": [],
   "source": [
    "x = 3\n",
    "println(\"valeur de x : \", x, \" || type de x : \",typeof(x))\n",
    "y = UInt64(3)\n",
    "println(\"valeur de y : \", y, \" || type de y : \",typeof(y))\n",
    "z = 3.0\n",
    "println(\"valeur de z : \", z, \" || type de z : \",typeof(z))"
   ]
  },
  {
   "cell_type": "markdown",
   "metadata": {},
   "source": [
    "### Les complexes"
   ]
  },
  {
   "cell_type": "code",
   "execution_count": null,
   "metadata": {},
   "outputs": [],
   "source": [
    "c = 3 + 7 * im\n",
    "println(\"valeur de c : \", c, \" || type de c : \",typeof(c))"
   ]
  },
  {
   "cell_type": "markdown",
   "metadata": {},
   "source": [
    "### Les rationnels"
   ]
  },
  {
   "cell_type": "code",
   "execution_count": null,
   "metadata": {},
   "outputs": [],
   "source": [
    "r = 4//5\n",
    "println(\"valeur de r : \", r, \" || type de r : \",typeof(r))\n",
    "a = 2 // 3\n",
    "r + a "
   ]
  },
  {
   "cell_type": "markdown",
   "metadata": {},
   "source": [
    "### Booléens"
   ]
  },
  {
   "cell_type": "code",
   "execution_count": null,
   "metadata": {},
   "outputs": [],
   "source": [
    "b = true\n",
    "println(\"valeur de b : \", b, \" || type de b : \",typeof(b))"
   ]
  },
  {
   "cell_type": "markdown",
   "metadata": {},
   "source": [
    "### Itérateurs"
   ]
  },
  {
   "cell_type": "code",
   "execution_count": null,
   "metadata": {},
   "outputs": [],
   "source": [
    "it = 3:2:9\n",
    "println(\"valeur de it : \", it, \" || type de it : \",typeof(it))"
   ]
  },
  {
   "cell_type": "markdown",
   "metadata": {},
   "source": [
    "### Les tuples"
   ]
  },
  {
   "cell_type": "code",
   "execution_count": null,
   "metadata": {},
   "outputs": [],
   "source": [
    "t = tuple('c', 3, \"MTH\")"
   ]
  },
  {
   "cell_type": "code",
   "execution_count": null,
   "metadata": {},
   "outputs": [],
   "source": [
    "typeof(t)"
   ]
  },
  {
   "cell_type": "markdown",
   "metadata": {},
   "source": [
    "Les tuples sont des objets non modifiables!"
   ]
  },
  {
   "cell_type": "markdown",
   "metadata": {},
   "source": [
    "### Les tableaux"
   ]
  },
  {
   "cell_type": "markdown",
   "metadata": {},
   "source": [
    "#### **a) Création des vecteurs**"
   ]
  },
  {
   "cell_type": "code",
   "execution_count": null,
   "metadata": {},
   "outputs": [],
   "source": [
    "#v = [1; 2; 3]  # Vecteur de longueur 3\n",
    "v = [1, 2, 3]  # Vecteur de longueur 3"
   ]
  },
  {
   "cell_type": "markdown",
   "metadata": {},
   "source": [
    "#### b) Création des matrices"
   ]
  },
  {
   "cell_type": "code",
   "execution_count": null,
   "metadata": {},
   "outputs": [],
   "source": [
    "M = [1 2; 3 4]  # Matrice de taille 2 x 2\n",
    "M = zeros(2, 2)  # Matrice contenant que des 0 de taille 2 x 2\n",
    "M = ones(3, 4)  # Matrice contenant que des 1 de taille 2 x 2"
   ]
  },
  {
   "cell_type": "markdown",
   "metadata": {},
   "source": [
    "### Autres types de base\n",
    "* les chaînes de caractères;\n",
    "* les dictionnaires;\n",
    "* ...\n",
    "\n",
    "On peut aussi créer des types plus évolués comme les structures avec des attributs."
   ]
  },
  {
   "cell_type": "markdown",
   "metadata": {},
   "source": [
    "### Commentaires"
   ]
  },
  {
   "cell_type": "code",
   "execution_count": null,
   "metadata": {},
   "outputs": [],
   "source": [
    "# Il s'agit d'un commentaire !"
   ]
  },
  {
   "cell_type": "code",
   "execution_count": null,
   "metadata": {},
   "outputs": [],
   "source": [
    "#=\n",
    "Il s'agit d'un bloc de commentaires !!!\n",
    "=#"
   ]
  },
  {
   "cell_type": "markdown",
   "metadata": {},
   "source": [
    "## c) Caractères unicodes"
   ]
  },
  {
   "cell_type": "markdown",
   "metadata": {},
   "source": [
    "Les caractères unicodes sont supportés par Julia et permettent d'augmenter la lisibilité d'un code."
   ]
  },
  {
   "cell_type": "code",
   "execution_count": null,
   "metadata": {},
   "outputs": [],
   "source": [
    "β = 20 # on tape \\beta puis TAB\n",
    "α = γ\n",
    "Ω = 3  # on tape \\Omega puis TAB\n",
    "∇f"
   ]
  },
  {
   "cell_type": "markdown",
   "metadata": {},
   "source": [
    "You write `\\nabla` and then press TAB to get the symbol, `∇`.  "
   ]
  },
  {
   "cell_type": "markdown",
   "metadata": {},
   "source": [
    "## d) Opérations mathématiques"
   ]
  },
  {
   "cell_type": "markdown",
   "metadata": {},
   "source": [
    "Les opérateurs classiques sont disponibles: `+`, `-`, `*`, `/`, `^`."
   ]
  },
  {
   "cell_type": "code",
   "execution_count": null,
   "metadata": {},
   "outputs": [],
   "source": [
    "2^2"
   ]
  },
  {
   "cell_type": "markdown",
   "metadata": {},
   "source": [
    "Les fonctions usuelles de mathématiques sont également disponibles: exp, sqrt, log, sin, abs, binomial, factorial."
   ]
  },
  {
   "cell_type": "code",
   "execution_count": null,
   "metadata": {},
   "outputs": [],
   "source": [
    "abs(-1)"
   ]
  },
  {
   "cell_type": "markdown",
   "metadata": {},
   "source": [
    "Lorsqu'une fonction s'applique à tous les éléments d'un vecteur on rajoute un `.` à la fin de la fonction. Il s'agit de la vectorisation."
   ]
  },
  {
   "cell_type": "code",
   "execution_count": null,
   "metadata": {},
   "outputs": [],
   "source": [
    "x = [0, 1/4, 1/2, 1]\n",
    "sin.(x)"
   ]
  },
  {
   "cell_type": "markdown",
   "metadata": {},
   "source": [
    "Les opérateurs suivant permettent de comparer deux objets entre eux: `==`, `===`, `!=`, `<`, `>`, `<=` ou `≤` (\\leq puis TAB), `>=` ou `≥` (\\geq puis TAB)"
   ]
  },
  {
   "cell_type": "code",
   "execution_count": null,
   "metadata": {},
   "outputs": [],
   "source": [
    "1 == 2"
   ]
  },
  {
   "cell_type": "markdown",
   "metadata": {},
   "source": [
    "Les types sont importants et influencent certaines opérations."
   ]
  },
  {
   "cell_type": "code",
   "execution_count": null,
   "metadata": {},
   "outputs": [],
   "source": [
    "(1 == 1.) #!= (1 == 1.) "
   ]
  },
  {
   "cell_type": "markdown",
   "metadata": {},
   "source": [
    "Dans le cas de **booléens**, les opérateurs suivant sont disponibles: `!` (non), `&` (et), `|` (ou), `xor`/`⊻` (ou exclusif)"
   ]
  },
  {
   "cell_type": "code",
   "execution_count": null,
   "metadata": {},
   "outputs": [],
   "source": [
    "true ⊻ true"
   ]
  },
  {
   "cell_type": "code",
   "execution_count": null,
   "metadata": {},
   "outputs": [],
   "source": [
    "false & (1 == 2)"
   ]
  },
  {
   "cell_type": "code",
   "execution_count": null,
   "metadata": {},
   "outputs": [],
   "source": [
    "true || (1 == 2)"
   ]
  },
  {
   "cell_type": "code",
   "execution_count": null,
   "metadata": {},
   "outputs": [],
   "source": [
    "false ⊻ true"
   ]
  },
  {
   "cell_type": "markdown",
   "metadata": {},
   "source": [
    "Il existe certains nombres particuliers: `NaN`, `Inf`, `pi` ..."
   ]
  },
  {
   "cell_type": "code",
   "execution_count": null,
   "metadata": {},
   "outputs": [],
   "source": [
    "π\n",
    "0. /0.\n",
    "typeof(NaN)"
   ]
  },
  {
   "cell_type": "markdown",
   "metadata": {},
   "source": [
    "Il faut faire attention à ces nombres qui peuvent être surprenant. Par exemple pour tester si un objet est un `NaN`, il faut utiliser la fonction `isnan` et pas `==`."
   ]
  },
  {
   "cell_type": "code",
   "execution_count": null,
   "metadata": {},
   "outputs": [],
   "source": [
    "NaN == NaN\n",
    "Inf < Inf\n",
    "isnan(NaN)\n",
    "0. == - 0."
   ]
  },
  {
   "cell_type": "markdown",
   "metadata": {},
   "source": [
    "Un autre nombre particulier est donné par `eps`, c'est la précision machine."
   ]
  },
  {
   "cell_type": "code",
   "execution_count": null,
   "metadata": {},
   "outputs": [],
   "source": [
    "eps() #par défaut les réels sont des Float64"
   ]
  },
  {
   "cell_type": "markdown",
   "metadata": {},
   "source": [
    "## c) Structures usuelles en Julia"
   ]
  },
  {
   "cell_type": "markdown",
   "metadata": {},
   "source": [
    "### Boucles for"
   ]
  },
  {
   "cell_type": "code",
   "execution_count": null,
   "metadata": {},
   "outputs": [],
   "source": [
    "N = 4\n",
    "for i in 1:N\n",
    "   println(i)\n",
    "end"
   ]
  },
  {
   "cell_type": "markdown",
   "metadata": {},
   "source": [
    "### Boucles while"
   ]
  },
  {
   "cell_type": "code",
   "execution_count": null,
   "metadata": {},
   "outputs": [],
   "source": [
    "N = 4\n",
    "i = 0\n",
    "while i <= N\n",
    "   i += 1 #i = i + 1\n",
    "   println(i)\n",
    "end"
   ]
  },
  {
   "cell_type": "markdown",
   "metadata": {},
   "source": [
    "Les variables créées à l'intérieur d'une boucle sont locales et donc pas accessibles en dehors."
   ]
  },
  {
   "cell_type": "code",
   "execution_count": null,
   "metadata": {},
   "outputs": [],
   "source": [
    "x = 1\n",
    "for i = 1:3\n",
    "    x = \"hello\" # new local\n",
    "    if i==2\n",
    "        break\n",
    "    end\n",
    "    println(x)\n",
    "end\n",
    "\n",
    "x"
   ]
  },
  {
   "cell_type": "markdown",
   "metadata": {},
   "source": [
    "## Conditionnelles"
   ]
  },
  {
   "cell_type": "code",
   "execution_count": null,
   "metadata": {},
   "outputs": [],
   "source": [
    "i=1;\n",
    "N=1;\n",
    "if i < N\n",
    "   # ...\n",
    "elseif i > N \n",
    "   # ...\n",
    "else\n",
    "   println(\"Yes!\")\n",
    "end"
   ]
  },
  {
   "cell_type": "markdown",
   "metadata": {},
   "source": [
    "En fonction du contexte, on peut se limiter à une boucle if sans elseif ou else."
   ]
  },
  {
   "cell_type": "code",
   "execution_count": null,
   "metadata": {},
   "outputs": [],
   "source": [
    "if true\n",
    "    # ...\n",
    "end"
   ]
  },
  {
   "cell_type": "markdown",
   "metadata": {},
   "source": [
    "Il existe aussi un opérateur simplifié pour les conditions if-else."
   ]
  },
  {
   "cell_type": "code",
   "execution_count": null,
   "metadata": {},
   "outputs": [],
   "source": [
    "x, y = 2, 3\n",
    "x > y ? \"x is larger\" : \"y is larger\" \n",
    "#= c'est équivalent à\n",
    "if x>y\n",
    "  \"x is larger\"\n",
    "else\n",
    "  \"y is larger\"\n",
    "end\n",
    "=#"
   ]
  },
  {
   "cell_type": "markdown",
   "metadata": {},
   "source": [
    "## d) Fonctions"
   ]
  },
  {
   "cell_type": "code",
   "execution_count": null,
   "metadata": {},
   "outputs": [],
   "source": [
    "function f(x)\n",
    "   return \"bon matin\"\n",
    "end\n",
    "f(1)"
   ]
  },
  {
   "cell_type": "markdown",
   "metadata": {},
   "source": [
    "On peut omettre `return`, dans ce cas c'est le contenu de la dernière ligne qui est renvoyé"
   ]
  },
  {
   "cell_type": "code",
   "execution_count": null,
   "metadata": {},
   "outputs": [],
   "source": [
    "function f(x)\n",
    "    \"bon matin\"\n",
    "end\n",
    "f(1)"
   ]
  },
  {
   "cell_type": "markdown",
   "metadata": {},
   "source": [
    "On peut aussi avoir plusieurs `return` par fonction et pas forcément à la fin."
   ]
  },
  {
   "cell_type": "code",
   "execution_count": null,
   "metadata": {},
   "outputs": [],
   "source": [
    "function f(x)\n",
    "    if x == 1\n",
    "        return \"Zzzz\"\n",
    "    end\n",
    "    return 2 #...\n",
    "end\n",
    "f(3)"
   ]
  },
  {
   "cell_type": "markdown",
   "metadata": {},
   "source": [
    "On peut aussi définir les fonctions sur une ligne."
   ]
  },
  {
   "cell_type": "code",
   "execution_count": null,
   "metadata": {},
   "outputs": [],
   "source": [
    "f(x) = println(\"Zzzz\")\n",
    "f(1)"
   ]
  },
  {
   "cell_type": "markdown",
   "metadata": {},
   "source": [
    "Lorsqu'on veut rajouter des paramètres optionnels, on utilise un `;` pour les distinguer des autres paramètres. On appelle alors la fonction en précisant le nom de la variable si on n'utilise pas sa valeur pas défaut."
   ]
  },
  {
   "cell_type": "code",
   "execution_count": null,
   "metadata": {},
   "outputs": [],
   "source": [
    "function p(x, y; a=1, b=0)\n",
    "    a * x * y + b\n",
    "end\n",
    "p(3, 1)"
   ]
  },
  {
   "cell_type": "markdown",
   "metadata": {},
   "source": [
    "## e) Dispatch multiple"
   ]
  },
  {
   "cell_type": "code",
   "execution_count": null,
   "metadata": {},
   "outputs": [],
   "source": [
    "function h(a::Real, b::Real)\n",
    "    return a + b\n",
    "end\n",
    "\n",
    "function h(a::Int, b::Int)\n",
    "    return a - b\n",
    "end"
   ]
  },
  {
   "cell_type": "code",
   "execution_count": null,
   "metadata": {},
   "outputs": [],
   "source": [
    "methods(h)"
   ]
  },
  {
   "cell_type": "code",
   "execution_count": null,
   "metadata": {},
   "outputs": [],
   "source": [
    "h(1.,2.)"
   ]
  },
  {
   "cell_type": "markdown",
   "metadata": {},
   "source": [
    "Lorsqu'on va appeler la fonction h, la méthode la plus adaptée à nos arguments sera utilisée!"
   ]
  },
  {
   "cell_type": "markdown",
   "metadata": {},
   "source": [
    "## f) Parler avec Julia"
   ]
  },
  {
   "cell_type": "markdown",
   "metadata": {},
   "source": [
    "Lorsqu'il y a un bug, Julia renvoie un message d'erreur qui peut aider à trouver le problème. Quelques exemples:"
   ]
  },
  {
   "cell_type": "code",
   "execution_count": null,
   "metadata": {},
   "outputs": [],
   "source": [
    "1 + \"hello\""
   ]
  },
  {
   "cell_type": "code",
   "execution_count": null,
   "metadata": {},
   "outputs": [],
   "source": [
    "sqrt(-1)"
   ]
  },
  {
   "cell_type": "code",
   "execution_count": null,
   "metadata": {},
   "outputs": [],
   "source": [
    "f(x) = x\n",
    "f(1, 2)"
   ]
  },
  {
   "cell_type": "code",
   "execution_count": null,
   "metadata": {},
   "outputs": [],
   "source": [
    "undefined_variable"
   ]
  },
  {
   "cell_type": "code",
   "execution_count": null,
   "metadata": {},
   "outputs": [],
   "source": []
  }
 ],
 "metadata": {
  "@webio": {
   "lastCommId": null,
   "lastKernelId": null
  },
  "kernelspec": {
   "display_name": "Julia 1.7.1",
   "language": "julia",
   "name": "julia-1.7"
  },
  "language_info": {
   "file_extension": ".jl",
   "mimetype": "application/julia",
   "name": "julia",
   "version": "1.7.1"
  }
 },
 "nbformat": 4,
 "nbformat_minor": 2
}
