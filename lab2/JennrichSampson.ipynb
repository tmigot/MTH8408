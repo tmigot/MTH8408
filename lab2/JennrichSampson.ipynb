{
 "cells": [
  {
   "cell_type": "code",
   "execution_count": 3,
   "metadata": {},
   "outputs": [
    {
     "data": {
      "text/plain": [
       "Jennrich_Sampson_JuMP (generic function with 2 methods)"
      ]
     },
     "metadata": {},
     "output_type": "display_data"
    }
   ],
   "source": [
    "using ADNLPModels, JuMP, Ipopt\n",
    "\n",
    "function Jennrich_Sampson_ADNLP(m)\n",
    "    f(x) = sum((2 + 2*i - (exp(i*x[1]) + exp(i*x[2])))^2 for i in 1:m)\n",
    "    x0 = [0.3;0.4]\n",
    "    nlp = ADNLPModel(f, x0)\n",
    "    return nlp\n",
    "end\n",
    "\n",
    "function Jennrich_Sampson_JuMP(m=10)\n",
    "    @variable(MyModel, x1)  \n",
    "    @variable(MyModel, x2)\n",
    "    @NLobjective(MyModel, Min, sum((2 + 2*i - (exp(i*x1) + exp(i*x2)))^2 for i in 1:m))\n",
    "    return MyModel\n",
    "end    "
   ]
  }
 ],
 "metadata": {
  "kernelspec": {
   "display_name": "Julia 1.7.1",
   "language": "julia",
   "name": "julia-1.7"
  },
  "language_info": {
   "file_extension": ".jl",
   "mimetype": "application/julia",
   "name": "julia",
   "version": "1.7.1"
  },
  "orig_nbformat": 4
 },
 "nbformat": 4,
 "nbformat_minor": 2
}
