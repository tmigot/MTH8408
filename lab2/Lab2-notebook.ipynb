{
 "cells": [
  {
   "cell_type": "markdown",
   "metadata": {},
   "source": [
    " # MTH8408 : Méthodes d'optimisation et contrôle optimal\n",
    " ## Laboratoire 2: Optimisation sans contraintes\n",
    "Tangi Migot"
   ]
  },
  {
   "cell_type": "code",
   "execution_count": 2,
   "metadata": {},
   "outputs": [
    {
     "name": "stderr",
     "output_type": "stream",
     "text": [
      "\u001b[32m\u001b[1m    Updating\u001b[22m\u001b[39m registry at `C:\\Users\\Goglu\\.julia\\registries\\General.toml`\n"
     ]
    },
    {
     "name": "stderr",
     "output_type": "stream",
     "text": [
      "`ADNLPModels` is pinned at `v0.3.1`: maintaining pinned version\n",
      "\u001b[32m\u001b[1m   Resolving\u001b[22m\u001b[39m package versions..."
     ]
    },
    {
     "name": "stderr",
     "output_type": "stream",
     "text": [
      "\n"
     ]
    },
    {
     "name": "stderr",
     "output_type": "stream",
     "text": [
      "\u001b[32m\u001b[1m  No Changes\u001b[22m\u001b[39m to `C:\\Users\\Goglu\\.julia\\environments\\v1.8\\Project.toml`\n",
      "\u001b[32m\u001b[1m  No Changes\u001b[22m\u001b[39m to `C:\\Users\\Goglu\\.julia\\environments\\v1.8\\Manifest.toml`\n"
     ]
    },
    {
     "name": "stderr",
     "output_type": "stream",
     "text": [
      "\u001b[32m\u001b[1m   Resolving\u001b[22m\u001b[39m package versions..."
     ]
    },
    {
     "name": "stderr",
     "output_type": "stream",
     "text": [
      "\n"
     ]
    },
    {
     "name": "stderr",
     "output_type": "stream",
     "text": [
      "\u001b[32m\u001b[1m  No Changes\u001b[22m\u001b[39m to `C:\\Users\\Goglu\\.julia\\environments\\v1.8\\Project.toml`\n",
      "\u001b[32m\u001b[1m  No Changes\u001b[22m\u001b[39m to `C:\\Users\\Goglu\\.julia\\environments\\v1.8\\Manifest.toml`\n"
     ]
    },
    {
     "name": "stderr",
     "output_type": "stream",
     "text": [
      "\u001b[32m\u001b[1m   Resolving\u001b[22m\u001b[39m package versions..."
     ]
    },
    {
     "name": "stderr",
     "output_type": "stream",
     "text": [
      "\n"
     ]
    },
    {
     "name": "stderr",
     "output_type": "stream",
     "text": [
      "\u001b[32m\u001b[1m    Updating\u001b[22m\u001b[39m `C:\\Users\\Goglu\\.julia\\environments\\v1.8\\Project.toml`\n",
      "\u001b[33m⌅\u001b[39m\u001b[90m [a4795742] \u001b[39m\u001b[92m+ NLPModels v0.18.5\u001b[39m\n",
      "\u001b[32m\u001b[1m  No Changes\u001b[22m\u001b[39m to `C:\\Users\\Goglu\\.julia\\environments\\v1.8\\Manifest.toml`\n"
     ]
    },
    {
     "name": "stderr",
     "output_type": "stream",
     "text": [
      "\u001b[32m\u001b[1m   Resolving\u001b[22m\u001b[39m package versions..."
     ]
    },
    {
     "name": "stderr",
     "output_type": "stream",
     "text": [
      "\n"
     ]
    },
    {
     "name": "stderr",
     "output_type": "stream",
     "text": [
      "\u001b[32m\u001b[1m    Updating\u001b[22m\u001b[39m `C:\\Users\\Goglu\\.julia\\environments\\v1.8\\Project.toml`\n",
      " \u001b[90m [de0858da] \u001b[39m\u001b[92m+ Printf\u001b[39m\n",
      "\u001b[32m\u001b[1m  No Changes\u001b[22m\u001b[39m to `C:\\Users\\Goglu\\.julia\\environments\\v1.8\\Manifest.toml`"
     ]
    },
    {
     "name": "stderr",
     "output_type": "stream",
     "text": [
      "\n"
     ]
    }
   ],
   "source": [
    "using Pkg;\n",
    "Pkg.add(\"ADNLPModels\");\n",
    "Pkg.add(\"LinearAlgebra\");\n",
    "Pkg.add(\"NLPModels\");\n",
    "Pkg.add(\"Printf\");"
   ]
  },
  {
   "cell_type": "code",
   "execution_count": 3,
   "metadata": {},
   "outputs": [],
   "source": [
    "using ADNLPModels, LinearAlgebra, NLPModels, Printf"
   ]
  },
  {
   "cell_type": "markdown",
   "metadata": {},
   "source": [
    "On pourra trouver de la documentation sur `ADNLPModels` et `NLPModels` ici:\n",
    "- [juliasmoothoptimizers.github.io/NLPModels.jl/dev/](https://juliasmoothoptimizers.github.io/NLPModels.jl/dev/)\n",
    "- [juliasmoothoptimizers.github.io/ADNLPModels.jl/dev/](https://juliasmoothoptimizers.github.io/ADNLPModels.jl/dev/)"
   ]
  },
  {
   "cell_type": "code",
   "execution_count": 4,
   "metadata": {},
   "outputs": [
    {
     "data": {
      "text/plain": [
       "H (generic function with 1 method)"
      ]
     },
     "metadata": {},
     "output_type": "display_data"
    }
   ],
   "source": [
    "# Problème test:\n",
    "f(x) = x[1]^2 * (2*x[1] - 3) - 6*x[1]*x[2] * (x[1] - x[2] - 1) # fonction objectif vue en classe\n",
    "g(x) = 6 * [x[1]^2 - x[1] - 2*x[1]*x[2] + x[2]^2 + x[2]; -x[1]^2 + 2*x[1]*x[2] + x[1]] # le gradient de f\n",
    "H(x) = 6 * [2*x[1]-1-2*x[2] -2*x[1]+2*x[2]+1; -2*x[1]+2*x[2]+1 2*x[1]] # la Hessienne de f"
   ]
  },
  {
   "cell_type": "markdown",
   "metadata": {},
   "source": [
    "### Exercice 1: Newton avec recherche linéaire - amélioration du code"
   ]
  },
  {
   "cell_type": "markdown",
   "metadata": {},
   "source": [
    "Ci-dessous, vous avez le code de deux fonctions qui ont été vues dans le cours, la recherche linéaire qui satisfait Armijo, et une méthode de Newton avec cette recherche linéaire. Le but de ce laboratoire est d'implémenter d'autres méthodes utiles pour résoudre des problèmes de grandes dimensions."
   ]
  },
  {
   "cell_type": "code",
   "execution_count": 5,
   "metadata": {},
   "outputs": [
    {
     "data": {
      "text/plain": [
       "armijo (generic function with 1 method)"
      ]
     },
     "metadata": {},
     "output_type": "display_data"
    }
   ],
   "source": [
    "#Amélioration possibles: return also the value of f\n",
    "function armijo(xk, dk, fk, gk, f)\n",
    "  slope = dot(gk, dk) #doit être <0\n",
    "  t = 1.0\n",
    "  while f(xk + t * dk) > fk + 1.0e-4 * t * slope\n",
    "    t /= 1.5\n",
    "  end\n",
    "  return t\n",
    "end"
   ]
  },
  {
   "cell_type": "code",
   "execution_count": 6,
   "metadata": {},
   "outputs": [
    {
     "data": {
      "text/plain": [
       "\u001b[32m\u001b[1mTest Passed\u001b[22m\u001b[39m"
      ]
     },
     "metadata": {},
     "output_type": "display_data"
    }
   ],
   "source": [
    "#Test pour vérifier que la fonction armijo fonctionne correctement.\n",
    "using Test #le package Test définit (entre autre) la macro @test qui permet de faire des tests unitaires :-)\n",
    "xk = ones(2)\n",
    "gk = g(xk)\n",
    "dk = - gk\n",
    "fk = f(xk)\n",
    "t  = armijo(xk, dk, fk, gk, f)\n",
    "@test t < 1\n",
    "@test f(xk + t * dk) <= fk + 1.0e-4 * t * dot(gk,dk)\n",
    "\n",
    "xk = [1.5, 0.5]\n",
    "fk = f(xk)\n",
    "gk = g(xk)\n",
    "dk = - gk\n",
    "t  = armijo(xk, dk, fk, gk, f)\n",
    "@test t < 1\n",
    "@test f(xk + t * dk) <= f(xk) + 1.0e-4 * t * dot(g(xk),dk)\n"
   ]
  },
  {
   "cell_type": "code",
   "execution_count": 7,
   "metadata": {},
   "outputs": [
    {
     "data": {
      "text/plain": [
       "newton_armijo (generic function with 1 method)"
      ]
     },
     "metadata": {},
     "output_type": "display_data"
    }
   ],
   "source": [
    "function newton_armijo(f, g, H, x0; verbose::Bool = true)\n",
    "  xk  = x0\n",
    "  fk  = f(xk)\n",
    "  gk = g(xk)\n",
    "  gnorm = gnorm0 = norm(gk)\n",
    "  k = 0\n",
    "  verbose && @printf \"%2s %9s %9s\\n\" \"k\" \"fk\" \"||∇f(x)||\"\n",
    "  verbose && @printf \"%2d %9.2e %9.1e\\n\" k fk gnorm\n",
    "  while gnorm > 1.0e-6 + 1.0e-6 * gnorm0 && k < 100\n",
    "    Hk = H(xk)\n",
    "    dk = - Hk \\ gk\n",
    "    slope = dot(dk, gk)\n",
    "    λ = 0.0\n",
    "    while slope ≥ -1.0e-4 * norm(dk) * gnorm\n",
    "      λ = max(1.0e-3, 10 * λ)\n",
    "      dk = - ((Hk + λ * I ) \\ gk)\n",
    "      slope = dot(dk, gk)\n",
    "    end\n",
    "    t = armijo(xk, dk, fk, gk, f)\n",
    "    xk += t * dk\n",
    "    fk = f(xk)\n",
    "    gk = g(xk)\n",
    "    gnorm = norm(gk)\n",
    "    k += 1\n",
    "    verbose && @printf \"%2d %9.2e %9.1e %7.1e \\n\" k fk gnorm t\n",
    "  end\n",
    "  return xk\n",
    "end"
   ]
  },
  {
   "cell_type": "code",
   "execution_count": 8,
   "metadata": {},
   "outputs": [
    {
     "name": "stdout",
     "output_type": "stream",
     "text": [
      " k        fk ||∇f(x)||\n"
     ]
    },
    {
     "name": "stdout",
     "output_type": "stream",
     "text": [
      " 0  1.00e+00   4.5e+00\n",
      " 1  5.08e-02   8.4e-01 1.0e+00 \n",
      " 2  4.73e-04   7.6e-02 1.0e+00 \n",
      " 3  6.97e-08   9.1e-04 1.0e+00 \n",
      " 4  1.62e-15   1.4e-07 1.0e+00 \n"
     ]
    },
    {
     "data": {
      "text/plain": [
       "\u001b[32m\u001b[1mTest Passed\u001b[22m\u001b[39m"
      ]
     },
     "metadata": {},
     "output_type": "display_data"
    }
   ],
   "source": [
    "sol = newton_armijo(f, g, H, [.5, .5])\n",
    "@test g(sol) ≈ zeros(2) atol = 1.0e-6"
   ]
  },
  {
   "cell_type": "markdown",
   "metadata": {},
   "source": [
    "On veut améliorer le code de la fonction `newton_armijo` avec les ajouts suivants:\n",
    "- Changer les paramètre d'entrées de la fonction pour un `nlp`\n",
    "- Avant d'appeler la recherche linéaire, si `slope = dot(dk, gk)` est plus grand que `-1.0e-4 * norm(dk) * gnorm`, on modifie le système. On fait maximum 5 mise à jour de `λ`, sinon on prend l'opposé du gradient.\n",
    "```\n",
    "    λ = 0.0\n",
    "    while slope ≥ -1.0e-4 * norm(dk) * gnorm\n",
    "      λ = max(1.0e-3, 10 * λ)\n",
    "      dk = - ((Hk + λ * I ) \\ gk)\n",
    "      slope = dot(dk, gk)\n",
    "    end\n",
    "```\n",
    "Ajouter un compteur sur le nombre de mises à jour de `λ` et ajuster `dk = - gk` si la limite est atteinte.\n",
    "- On veut aussi détecter et éventuellement arrêter la boucle `while` si la fonction objectif `fk` devient trop petite/négative (inférieure à `-1e15`), i.e. le problème est non-bornée inférieurement.\n",
    "- On veut ajouter deux critères d'arrêts supplémentaires: \n",
    "  - un compteur sur le nombre d'évaluations de f (maximum 1000). Utiliser `neval_obj(nlp)`.\n",
    "  -  une limite de temps d'execution, `max_time = 60.0`. Utiliser la fonction `time()`.\n",
    "- Enfin, on voudrait aussi voir un message à l'écran si l'algorithme n'a pas trouvé la solution, i.e. il s'est arrêté à cause de la limite sur le nombre d'itérations, temps, évaluation de fonctions, problème non-borné."
   ]
  },
  {
   "cell_type": "code",
   "execution_count": 16,
   "metadata": {},
   "outputs": [
    {
     "data": {
      "text/plain": [
       "newton_armijo (generic function with 2 methods)"
      ]
     },
     "metadata": {},
     "output_type": "display_data"
    }
   ],
   "source": [
    "#SOLUTION: fonction à modifier\n",
    "function newton_armijo(nlp, x0; verbose::Bool = true)\n",
    "  start_timer = time()\n",
    "  xk = x0\n",
    "  fk = obj(nlp, xk)\n",
    "  gk = grad(nlp, xk)\n",
    "  gnorm = gnorm0 = norm(gk)\n",
    "  k = 0\n",
    "  verbose && @printf \"%2s %9s %9s\\n\" \"k\" \"fk\" \"||∇f(x)||\"\n",
    "  verbose && @printf \"%2d %9.2e %9.1e\\n\" k fk gnorm\n",
    "  continue_eval = true\n",
    "  while continue_eval\n",
    "    Hk = hess(nlp, xk)\n",
    "    dk = - Hk \\ gk\n",
    "    slope = dot(dk, gk)\n",
    "    λ = 0.0\n",
    "    λ_counter = 0\n",
    "    while slope ≥ -1.0e-4 * norm(dk) * gnorm && λ_counter < 5\n",
    "      λ = max(1.0e-3, 10 * λ)\n",
    "      dk = - ((Hk + λ * I ) \\ gk)\n",
    "      slope = dot(dk, gk)\n",
    "      λ_counter += 1\n",
    "      if λ_counter == 5 && slope ≥ -1.0e-4 * norm(dk) * gnorm\n",
    "        dk = -gk\n",
    "      end\n",
    "    end\n",
    "    t = armijo(xk, dk, fk, gk, x->obj(nlp, x))\n",
    "    xk += t * dk\n",
    "    fk = obj(nlp, xk)\n",
    "    gk = grad(nlp, xk)\n",
    "    gnorm = norm(gk)\n",
    "    k += 1\n",
    "    verbose && @printf \"%2d %9.2e %9.1e %7.1e \\n\" k fk gnorm t\n",
    "    if gnorm <= 1.0e-6 + 1.0e-6 * gnorm0\n",
    "      # Solution found\n",
    "      continue_eval = false\n",
    "    elseif neval_obj(nlp) > 1000\n",
    "      continue_eval = false\n",
    "      @printf \"\\nMETHOD FAILED - Reached Maximum Number of Evaluations (1000) of Objective Function \\n\"\n",
    "    elseif time() - start_timer > 60.0\n",
    "      continue_eval = false\n",
    "      @printf \"\\nMETHOD FAILED - Reached Maximum Time of Method (60.0s) \\n\"\n",
    "    elseif fk < -1e15\n",
    "      continue_eval = false\n",
    "      @printf \"\\nMETHOD FAILED - Objective Function is not Bounded (fk < -1e15) \\n\"\n",
    "    elseif k >= 100\n",
    "      continue_eval = false\n",
    "      @printf \"\\nMETHOD FAILED - Reached Maximum Number of Iterations (100) \\n\"\n",
    "    end\n",
    "  end\n",
    "  return xk\n",
    "end"
   ]
  },
  {
   "cell_type": "code",
   "execution_count": 19,
   "metadata": {},
   "outputs": [
    {
     "name": "stdout",
     "output_type": "stream",
     "text": [
      " k        fk ||∇f(x)||\n",
      " 0  5.00e+00   1.2e+01\n",
      " 1  4.07e-01   2.7e+00 1.0e+00 \n",
      " 2  1.39e-02   4.3e-01 1.0e+00 \n",
      " 3  4.63e-05   2.4e-02 1.0e+00 \n",
      " 4  6.99e-10   9.2e-05 1.0e+00 \n",
      " 5  1.63e-19   1.4e-09 1.0e+00 \n"
     ]
    },
    {
     "data": {
      "text/plain": [
       "2-element Vector{Float64}:\n",
       " 2.3283064370807974e-10\n",
       " 2.3283064370807974e-10"
      ]
     },
     "metadata": {},
     "output_type": "display_data"
    }
   ],
   "source": [
    "#Test\n",
    "f(x) = x[1]^2 * (2*x[1] - 3) - 6*x[1]*x[2] * (x[1] - x[2] - 1)\n",
    "x0 = ones(2)\n",
    "nlp = ADNLPModel(f, x0)\n",
    "\n",
    "newton_armijo(nlp, x0)"
   ]
  },
  {
   "cell_type": "code",
   "execution_count": 20,
   "metadata": {},
   "outputs": [
    {
     "name": "stdout",
     "output_type": "stream",
     "text": [
      "\n",
      "METHOD FAILED - Objective Function is not Bounded (fk < -1e15) \n"
     ]
    },
    {
     "name": "stdout",
     "output_type": "stream",
     "text": [
      "\n",
      "METHOD FAILED - Objective Function is not Bounded (fk < -1e15) \n"
     ]
    },
    {
     "name": "stdout",
     "output_type": "stream",
     "text": [
      "\u001b[0m\u001b[1mTest Summary:              | \u001b[22m\u001b[32m\u001b[1mPass  \u001b[22m\u001b[39m\u001b[36m\u001b[1mTotal  \u001b[22m\u001b[39m\u001b[0m\u001b[1mTime\u001b[22m\n",
      "Test set for newton_armijo | \u001b[32m   7  \u001b[39m\u001b[36m    7  \u001b[39m\u001b[0m4.8s\n"
     ]
    },
    {
     "data": {
      "text/plain": [
       "Test.DefaultTestSet(\"Test set for newton_armijo\", Any[], 7, false, false, true, 1.674490559776e9, 1.674490564557e9)"
      ]
     },
     "metadata": {},
     "output_type": "display_data"
    }
   ],
   "source": [
    "# Tests secrets 1: contactez votre professeur pour avoir ces tests additionels si vous êtes prêt.\n",
    "using Test\n",
    "\n",
    "@testset \"Test set for newton_armijo\" begin\n",
    "    #Test problem:\n",
    "    fH(x) = (x[2]+x[1].^2-11).^2+(x[1]+x[2].^2-7).^2\n",
    "    x0H = [10., 20.]\n",
    "    himmelblau = ADNLPModel(fH, x0H)\n",
    "\n",
    "    problem2 = ADNLPModel(x->-x[1]^3 + x[2]^2 + x[3]^2, ones(3))\n",
    "\n",
    "    roz(x) = 100 *  (x[2] - x[1]^2)^2 + (x[1] - 1.0)^2\n",
    "    rosenbrock = ADNLPModel(roz, [-1.2, 1.0])\n",
    "\n",
    "    f(x) = x[1]^2 * (2*x[1] - 3) - 6*x[1]*x[2] * (x[1] - x[2] - 1)\n",
    "    pb_du_cours = ADNLPModel(f, [-1.001, -1.001]) #ou [1.5, .5] ou [.5, .5]\n",
    "\n",
    "\n",
    "    ######################################### newton_armijo ##################\n",
    "\n",
    "    #Unit/Validation Tests\n",
    "    ep1 = 1e-6 + norm(grad(himmelblau, himmelblau.meta.x0)) * 1e-6\n",
    "    sol = newton_armijo(himmelblau, himmelblau.meta.x0, verbose = false)\n",
    "    @test norm(grad(himmelblau, sol)) ≤ ep1\n",
    "    @test sol ≈ [3, 2] atol = ep1\n",
    "\n",
    "    ep2 = 1e-6 + norm(grad(problem2, problem2.meta.x0)) * 1e-6\n",
    "    sol =  newton_armijo(problem2, problem2.meta.x0, verbose = false)\n",
    "    # @test stats.status == :unbounded\n",
    "    @test obj(problem2, sol) ≤ -1e15\n",
    "\n",
    "    ep2 = 1e-6 + norm(grad(rosenbrock, rosenbrock.meta.x0)) * 1e-6\n",
    "    sol = newton_armijo(rosenbrock, rosenbrock.meta.x0, verbose = false)\n",
    "    @test sol ≈ [1., 1.] atol = ep2\n",
    "\n",
    "    ep3 = 1e-6 + norm(grad(pb_du_cours, [-1.001, -1.001])) * 1e-6\n",
    "    sol = newton_armijo(pb_du_cours, [-1.001, -1.001], verbose = false)\n",
    "    @test norm(grad(pb_du_cours, sol)) ≤ ep3 || obj(pb_du_cours, sol) <= -1e15\n",
    "\n",
    "    ep4 = 1e-6 + norm(grad(pb_du_cours, [1.5, .5])) * 1e-6\n",
    "    sol = newton_armijo(pb_du_cours, [1.5, .5], verbose = false)\n",
    "    @test norm(grad(pb_du_cours, sol)) ≤ ep4 || obj(pb_du_cours, sol) <= -1e15\n",
    "\n",
    "    ep5 = 1e-6 + norm(grad(pb_du_cours, [.5, .5])) * 1e-6\n",
    "    sol = newton_armijo(pb_du_cours, [.5, .5], verbose = false)\n",
    "    @test norm(grad(pb_du_cours, sol)) ≤ ep5 || obj(pb_du_cours, sol) <= -1e15\n",
    "end\n"
   ]
  },
  {
   "cell_type": "markdown",
   "metadata": {},
   "source": [
    "### Exercice 2: LDLt-Newton avec recherche linéaire"
   ]
  },
  {
   "cell_type": "markdown",
   "metadata": {},
   "source": [
    "On va maintenant modifier la méthode de Newton vu précédemment pour utiliser un package qui s'occupe de calculer une factorisation de la matrice hessienne tel que:\n",
    "$$\n",
    "\\nabla^2 f(x) = LDL^T.\n",
    "$$\n",
    "Ce type de factorisation n'est possible que si la matrice hessienne est définie positive, dans le cas contraire on a besoin de régularisé le système comme dans l'exercice précédent.\n",
    "\n",
    "Pour résoudre le système linéaire en utilisant cette factorisation, on va utiliser le package [`LDLFactorizations`](https://github.com/JuliaSmoothOptimizers/LDLFactorizations.jl):"
   ]
  },
  {
   "cell_type": "code",
   "execution_count": 22,
   "metadata": {},
   "outputs": [
    {
     "name": "stderr",
     "output_type": "stream",
     "text": [
      "\u001b[32m\u001b[1m   Resolving\u001b[22m\u001b[39m package versions...\n"
     ]
    },
    {
     "name": "stderr",
     "output_type": "stream",
     "text": [
      "\u001b[32m\u001b[1m    Updating\u001b[22m\u001b[39m `C:\\Users\\Goglu\\.julia\\environments\\v1.8\\Project.toml`\n",
      " \u001b[90m [40e66cde] \u001b[39m\u001b[92m+ LDLFactorizations v0.10.0\u001b[39m\n",
      "\u001b[32m\u001b[1m  No Changes\u001b[22m\u001b[39m to `C:\\Users\\Goglu\\.julia\\environments\\v1.8\\Manifest.toml`"
     ]
    },
    {
     "name": "stderr",
     "output_type": "stream",
     "text": [
      "\n"
     ]
    }
   ],
   "source": [
    "using Pkg;\n",
    "Pkg.add(\"LDLFactorizations\");"
   ]
  },
  {
   "cell_type": "code",
   "execution_count": 23,
   "metadata": {},
   "outputs": [],
   "source": [
    "using LDLFactorizations, LinearAlgebra"
   ]
  },
  {
   "cell_type": "markdown",
   "metadata": {},
   "source": [
    "Un tutoriel sur l'utilisation de `LDLFactorizations` est disponible sur la documentation du package sur github ou encore [à ce lien](https://juliasmoothoptimizers.github.io/LDLFactorizations.jl/dev/tutorial/)."
   ]
  },
  {
   "cell_type": "markdown",
   "metadata": {},
   "source": [
    "Voici un exemple d'utilisation de ce package. La matrice dont on veut calculer la factorisation doit être de type `Symmetric`."
   ]
  },
  {
   "cell_type": "code",
   "execution_count": 26,
   "metadata": {},
   "outputs": [
    {
     "data": {
      "text/plain": [
       "true"
      ]
     },
     "metadata": {},
     "output_type": "display_data"
    }
   ],
   "source": [
    "A = ones(2,2) #cette matrice symétrique, mais pas du type Symmetric\n",
    "              #à noter que cette matrice n'est pas définie positive.\n",
    "typeof(A) <: Symmetric #false\n",
    "A = Symmetric(A)\n",
    "typeof(A) <: Symmetric #true :)"
   ]
  },
  {
   "cell_type": "markdown",
   "metadata": {},
   "source": [
    "Deuxième étape, le package fait une phase d'analyse de la matrice avec `ldl_analyze` en créant une structure pratique pour les diverses fonctions du package."
   ]
  },
  {
   "cell_type": "code",
   "execution_count": 27,
   "metadata": {},
   "outputs": [
    {
     "data": {
      "text/plain": [
       "5.003707553108401e-17"
      ]
     },
     "metadata": {},
     "output_type": "display_data"
    }
   ],
   "source": [
    "A = -rand(2, 2)\n",
    "sol = rand(2)\n",
    "b = A*sol #on veut résoudre le système A*x=b\n",
    "\n",
    "# LDLFactorizations va en réalité demander la matrice triangulaire supérieure\n",
    "A = Symmetric(triu(A), :U)\n",
    "S = ldl_analyze(A)\n",
    "ldl_factorize!(A, S)\n",
    "x = S \\ b # x = A \\b ça va être résolu par Julia \n",
    "norm(A * x - b)"
   ]
  },
  {
   "cell_type": "code",
   "execution_count": 28,
   "metadata": {},
   "outputs": [
    {
     "data": {
      "text/plain": [
       "2×2 Matrix{Float64}:\n",
       " 0.0  1.0\n",
       " 1.0  0.0"
      ]
     },
     "metadata": {},
     "output_type": "display_data"
    }
   ],
   "source": [
    "A = [0. 1.; 1. 0.]"
   ]
  },
  {
   "cell_type": "code",
   "execution_count": 29,
   "metadata": {},
   "outputs": [
    {
     "data": {
      "text/plain": [
       "LDLFactorizations.LDLFactorization{Float64, Int64, Int64, Int64}(true, false, true, 2, [2, -1], [0, 0], [1, 2], [1, 2], [1, 2], [1, 2, 2], [1, 1, 1], Int64[], [140720410276112], [8.867834394367e-312], [0.0, 8.867598568297e-312], [0.0, 8.848722448325e-312], [1795186567736, 1795186567776], 0.0, 0.0, 0.0, 2)"
      ]
     },
     "metadata": {},
     "output_type": "display_data"
    }
   ],
   "source": [
    "A = Symmetric(triu(A), :U)\n",
    "S = ldl_analyze(A)\n",
    "ldl_factorize!(A, S)"
   ]
  },
  {
   "cell_type": "code",
   "execution_count": 30,
   "metadata": {},
   "outputs": [
    {
     "data": {
      "text/plain": [
       "2-element Vector{Float64}:\n",
       " 0.0\n",
       " 8.867598568297e-312"
      ]
     },
     "metadata": {},
     "output_type": "display_data"
    }
   ],
   "source": [
    "S.d"
   ]
  },
  {
   "cell_type": "markdown",
   "metadata": {},
   "source": [
    "La matrice `A` factorisée par $LDL^T$ n'était pas forcément définie positive. On peut le voir sur les valeurs de $D$."
   ]
  },
  {
   "cell_type": "code",
   "execution_count": 31,
   "metadata": {},
   "outputs": [
    {
     "data": {
      "text/plain": [
       "2-element Vector{Float64}:\n",
       " 0.0\n",
       " 8.867598568297e-312"
      ]
     },
     "metadata": {},
     "output_type": "display_data"
    }
   ],
   "source": [
    "S.d #c'est le vecteur qui correspond à la matrice diagonale D."
   ]
  },
  {
   "cell_type": "markdown",
   "metadata": {},
   "source": [
    "Pour l'optimisation, dans le cas où des valeurs de $D$ sont négatives, i.e. `minimum(S.d) <= 0.`, on ajoutera une correction pour être sûr d'obtenir une direction de descente. On pourra choisir un des deux:\n",
    "- `S.d   = abs.(S.d)`\n",
    "- `S.d .+= -minimum(S.d) + 1e-6`"
   ]
  },
  {
   "cell_type": "markdown",
   "metadata": {},
   "source": [
    "#### Utiliser cette technique pour calculer la direction de descente:"
   ]
  },
  {
   "cell_type": "code",
   "execution_count": 54,
   "metadata": {},
   "outputs": [
    {
     "data": {
      "text/plain": [
       "newton_ldlt_armijo (generic function with 1 method)"
      ]
     },
     "metadata": {},
     "output_type": "display_data"
    }
   ],
   "source": [
    "# Solution: modifier le calcul de la direction avec LDLFactorizations\n",
    "function newton_ldlt_armijo(nlp, x0; verbose::Bool = true)\n",
    "  xk  = x0\n",
    "  fk  = obj(nlp, xk)\n",
    "  gk = grad(nlp, xk)\n",
    "  gnorm = gnorm0 = norm(gk)\n",
    "  k = 0\n",
    "  verbose && @printf \"%2s %9s %9s\\n\" \"k\" \"fk\" \"||∇f(x)||\"\n",
    "  verbose && @printf \"%2d %9.2e %9.1e\\n\" k fk gnorm\n",
    "  while gnorm > 1.0e-6 + 1.0e-6 * gnorm0 && k < 100 && fk > -1e15\n",
    "    Hk = Symmetric(triu(hess(nlp, xk)), :U)\n",
    "    Sk = ldl_analyze(Hk)\n",
    "    ldl_factorize!(Hk, Sk)\n",
    "    if minimum(Sk.d) <= 0.\n",
    "      Sk.d .+= -minimum(Sk.d) + 1e-6\n",
    "    end\n",
    "    dk = - Sk \\ gk\n",
    "    slope = dot(dk, gk)\n",
    "    t = armijo(xk, dk, fk, gk, x -> obj(nlp, x))\n",
    "    xk += t * dk\n",
    "    fk = obj(nlp, xk)\n",
    "    gk = grad(nlp, xk)\n",
    "    gnorm = norm(gk)\n",
    "    k += 1\n",
    "    verbose && @printf \"%2d %9.2e %9.1e %7.1e \\n\" k fk gnorm t\n",
    "  end\n",
    "  return xk\n",
    "end"
   ]
  },
  {
   "cell_type": "code",
   "execution_count": 55,
   "metadata": {},
   "outputs": [
    {
     "name": "stdout",
     "output_type": "stream",
     "text": [
      " k        fk ||∇f(x)||\n",
      " 0  5.00e+00   1.2e+01\n",
      " 1  1.00e+00   4.5e+00 1.0e+00 \n",
      " 2  2.19e-01   1.9e+00 1.0e+00 \n",
      " 3  5.08e-02   8.4e-01 1.0e+00 \n",
      " 4  1.22e-02   4.0e-01 1.0e+00 \n",
      " 5  2.99e-03   2.0e-01 1.0e+00 \n",
      " 6 -9.82e-01   5.0e-01 1.3e-04 \n",
      " 7 -1.00e+00   3.1e-02 1.0e+00 \n",
      " 8 -1.00e+00   1.4e-04 1.0e+00 \n",
      " 9 -1.00e+00   2.4e-09 1.0e+00 \n"
     ]
    },
    {
     "data": {
      "text/plain": [
       "2-element Vector{Float64}:\n",
       " 1.0000000002802167\n",
       " 7.107141154069226e-13"
      ]
     },
     "metadata": {},
     "output_type": "display_data"
    }
   ],
   "source": [
    "#Test\n",
    "f(x) = x[1]^2 * (2*x[1] - 3) - 6*x[1]*x[2] * (x[1] - x[2] - 1)\n",
    "nlp = ADNLPModel(f, zeros(2))\n",
    "\n",
    "newton_ldlt_armijo(nlp, x0)"
   ]
  },
  {
   "cell_type": "code",
   "execution_count": 56,
   "metadata": {},
   "outputs": [
    {
     "name": "stdout",
     "output_type": "stream",
     "text": [
      "\u001b[0m\u001b[1mTest Summary:                   | \u001b[22m\u001b[32m\u001b[1mPass  \u001b[22m\u001b[39m\u001b[36m\u001b[1mTotal  \u001b[22m\u001b[39m\u001b[0m\u001b[1mTime\u001b[22m\n",
      "Test set for newton_ldlt_armijo | \u001b[32m   7  \u001b[39m\u001b[36m    7  \u001b[39m\u001b[0m2.1s\n"
     ]
    },
    {
     "data": {
      "text/plain": [
       "Test.DefaultTestSet(\"Test set for newton_ldlt_armijo\", Any[], 7, false, false, true, 1.674491920911e9, 1.674491923045e9)"
      ]
     },
     "metadata": {},
     "output_type": "display_data"
    }
   ],
   "source": [
    "# Tests secrets 2: contactez votre professeur pour avoir ces tests additionels si vous êtes prêt.\n",
    "using Test\n",
    "\n",
    "@testset \"Test set for newton_ldlt_armijo\" begin\n",
    "    #Test problem:\n",
    "    fH(x) = (x[2]+x[1].^2-11).^2+(x[1]+x[2].^2-7).^2\n",
    "    x0H = [10., 20.]\n",
    "    himmelblau = ADNLPModel(fH, x0H)\n",
    "\n",
    "    problem2 = ADNLPModel(x->-x[1]^3 + x[2]^2 + x[3]^2, ones(3))\n",
    "\n",
    "    roz(x) = 100 *  (x[2] - x[1]^2)^2 + (x[1] - 1.0)^2\n",
    "    rosenbrock = ADNLPModel(roz, [-1.2, 1.0])\n",
    "\n",
    "    f(x) = x[1]^2 * (2*x[1] - 3) - 6*x[1]*x[2] * (x[1] - x[2] - 1)\n",
    "    pb_du_cours = ADNLPModel(f, [-1.001, -1.001]) #ou [1.5, .5] ou [.5, .5]\n",
    "\n",
    "    #Unit/Validation Tests\n",
    "    ep1 = 1e-6 + norm(grad(himmelblau, himmelblau.meta.x0)) * 1e-6\n",
    "    sol = newton_ldlt_armijo(himmelblau, himmelblau.meta.x0, verbose = false)\n",
    "    @test norm(grad(himmelblau, sol)) ≤ ep1\n",
    "    @test sol ≈ [3, 2] atol = ep1\n",
    "\n",
    "    ep2 = 1e-6 + norm(grad(problem2, problem2.meta.x0)) * 1e-6\n",
    "    sol = newton_ldlt_armijo(problem2, problem2.meta.x0, verbose = false)\n",
    "    # @test stats.status == :unbounded\n",
    "    @test obj(problem2, sol) ≤ -1e15\n",
    "\n",
    "    ep2 = 1e-6 + norm(grad(rosenbrock, rosenbrock.meta.x0)) * 1e-6\n",
    "    sol = newton_ldlt_armijo(rosenbrock, rosenbrock.meta.x0, verbose = false)\n",
    "    @test sol ≈ [1., 1.] atol = ep2\n",
    "\n",
    "    ep3 = 1e-6 + norm(grad(pb_du_cours, [-1.001, -1.001])) * 1e-6\n",
    "    sol = newton_ldlt_armijo(pb_du_cours, [-1.001, -1.001], verbose = false)\n",
    "    @test norm(grad(pb_du_cours, sol)) ≤ ep3 || obj(pb_du_cours, sol) <= -1e15\n",
    "\n",
    "    ep4 = 1e-6 + norm(grad(pb_du_cours, [1.5, .5])) * 1e-6\n",
    "    sol = newton_ldlt_armijo(pb_du_cours, [1.5, .5], verbose = false)\n",
    "    @test norm(grad(pb_du_cours, sol)) ≤ ep4 || obj(pb_du_cours, sol) <= -1e15\n",
    "\n",
    "    ep5 = 1e-6 + norm(grad(pb_du_cours, [.5, .5])) * 1e-6\n",
    "    sol = newton_ldlt_armijo(pb_du_cours, [.5, .5], verbose = false)\n",
    "    @test norm(grad(pb_du_cours, sol)) ≤ ep5 || obj(pb_du_cours, sol) <= -1e15\n",
    "end\n"
   ]
  },
  {
   "cell_type": "markdown",
   "metadata": {},
   "source": [
    "### Exercice 3: Méthode quasi-Newton: BFGS"
   ]
  },
  {
   "cell_type": "markdown",
   "metadata": {},
   "source": [
    "#### Méthode quasi-Newton: BFGS\n",
    "Pour des problèmes de très grandes tailles, il est parfois très coûteux d'évaluer la hessienne du problème d'optimisation (et même le produit hessienne-vecteur). La famille des méthode *quasi-Newton* construit une approximation $B_k$ symétrique définie positive de la matrice Hessienne en utilisant seulement le gradient et en mesurant sa variation, et permet quand même d'améliorer significativement les performances comparé à la méthode du gradient.\n",
    "$$\n",
    "s_k = x_{k+1} - x_k, \\quad y_k = \\nabla f(x_{k+1}) - \\nabla f(x_k).\n",
    "$$\n",
    "Par ailleurs la matrice $B_k$ est aussi construite de façon à ce que l'inverse soit connue, il n'y a donc pas de système linéaire à résoudre.\n",
    "\n",
    "La méthode la plus connue dans la famille des méthodes quasi-Newton, est la méthode BFGS (Broyden - Fletcher, Goldfarb, and Shanno), et utilise la formule suivante pour calculer l'inverse de $B_k$ que l'on note $H_k$:\n",
    "$$\n",
    "H_{k+1} = (I - \\rho_k s_ky_k^T)H_k(I-\\rho_ky_ks_k^T) + \\rho_ks_ks_k^T, \\quad \\rho_k = \\frac{1}{y_k^Ts_k}.\n",
    "$$\n",
    "L'algorithme est presque le même que la méthode de Newton à la différence qu'il n'y a pas de système linéaire à résoudre et la direction $d_k$ est à coup sûr une direction de descente. Ainsi la direction de descente est calculée comme suit:\n",
    "$$\n",
    "d_k = - H_k \\nabla f(x_k).\n",
    "$$\n",
    "\n",
    "Comment choisir la matrice $H_0$? On peut éventuellement choisir $I$. Une alternative est d'utiliser $H_0=I$ pour la première itération et ensuite mettre $H_0$ à jour avant de calculer $H_1$ en utilisant:\n",
    "$$\n",
    "H_0 = \\frac{y_k^Ts_k}{y_k^Ty_k}I.\n",
    "$$"
   ]
  },
  {
   "cell_type": "markdown",
   "metadata": {},
   "source": [
    "**Important**: pour s'assurer que la matrice $H_k$ reste définie positive à toutes les itérations, il faut s'assurer que $y_k^Ts_k>0$. C'est toujours vrai pour des fonctions convexes, mais pas nécessairement dans le cas général. On pourra tester ici la version \"skip\" qui ne mets pas à jour quand cette condition n'est pas vérifiée."
   ]
  },
  {
   "cell_type": "code",
   "execution_count": 117,
   "metadata": {},
   "outputs": [
    {
     "data": {
      "text/plain": [
       "bfgs_quasi_newton_armijo (generic function with 1 method)"
      ]
     },
     "metadata": {},
     "output_type": "display_data"
    }
   ],
   "source": [
    "# Solution: copier-coller votre newton_armijo ici et modifier le calcul de la direction avec la méthode de BFGS inverse skip.\n",
    "function bfgs_quasi_newton_armijo(nlp, x0; verbose::Bool = true)\n",
    "  start_timer = time()\n",
    "  xk = x0\n",
    "  fk = obj(nlp, xk)\n",
    "  gk = grad(nlp, xk)\n",
    "  gnorm = gnorm0 = norm(gk)\n",
    "  k = 0\n",
    "  verbose && @printf \"%2s %9s %9s\\n\" \"k\" \"fk\" \"||∇f(x)||\"\n",
    "  verbose && @printf \"%2d %9.2e %9.1e\\n\" k fk gnorm\n",
    "  continue_eval = true\n",
    "  H0 = I\n",
    "  sk = xk\n",
    "  yk = gk\n",
    "  Hk = H0\n",
    "  while continue_eval\n",
    "    if k == 0\n",
    "      Hk = H0\n",
    "    elseif yk'*sk > 0\n",
    "      Hk = (k==1 ? I *(yk'*sk) / (yk'*yk) : Hk)\n",
    "      pk = 1 / (yk'*sk)\n",
    "      Hk = (I - pk*sk*yk') * Hk * (I - pk*yk*sk') + pk*sk*sk'\n",
    "    end\n",
    "    dk = -Hk * gk\n",
    "    t = armijo(xk, dk, fk, gk, x->obj(nlp, x))\n",
    "    sk = t * dk\n",
    "    yk = grad(nlp, xk + sk) - gk\n",
    "    xk += sk\n",
    "    fk = obj(nlp, xk)\n",
    "    gk = grad(nlp, xk)\n",
    "    gnorm = norm(gk)\n",
    "    k += 1\n",
    "    verbose && @printf \"%2d %9.2e %9.1e %7.1e \\n\" k fk gnorm t\n",
    "    if gnorm <= 1.0e-6 + 1.0e-6 * gnorm0\n",
    "      # Solution found\n",
    "      continue_eval = false\n",
    "    elseif neval_obj(nlp) > 1000\n",
    "      continue_eval = false\n",
    "      @printf \"\\nMETHOD FAILED - Reached Maximum Number of Evaluations (1000) of Objective Function \\n\"\n",
    "    elseif time() - start_timer > 60.0\n",
    "      continue_eval = false\n",
    "      @printf \"\\nMETHOD FAILED - Reached Maximum Time of Method (60.0s) \\n\"\n",
    "    elseif fk < -1e15\n",
    "      continue_eval = false\n",
    "      @printf \"\\nMETHOD FAILED - Objective Function is not Bounded (fk < -1e15) \\n\"\n",
    "    elseif k >= 100\n",
    "      continue_eval = false\n",
    "      @printf \"\\nMETHOD FAILED - Reached Maximum Number of Iterations (100) \\n\"\n",
    "    end\n",
    "  end\n",
    "  return xk\n",
    "end"
   ]
  },
  {
   "cell_type": "code",
   "execution_count": 75,
   "metadata": {},
   "outputs": [
    {
     "name": "stdout",
     "output_type": "stream",
     "text": [
      " k        fk ||∇f(x)||\n",
      " 0  2.80e+01   3.6e+01\n",
      " 1  5.42e+00   2.0e+01 5.9e-02 \n",
      " 2 -2.46e-01   2.3e+00 1.0e+00 \n",
      " 3 -4.87e-01   1.8e+00 1.0e+00 \n",
      " 4 -9.56e-01   6.7e-01 1.0e+00 \n",
      " 5 -9.96e-01   3.0e-01 1.0e+00 \n",
      " 6 -1.00e+00   1.2e-01 1.0e+00 \n",
      " 7 -1.00e+00   4.4e-02 1.0e+00 \n",
      " 8 -1.00e+00   4.5e-03 1.0e+00 \n",
      " 9 -1.00e+00   7.4e-04 1.0e+00 \n",
      "10 -1.00e+00   8.5e-05 1.0e+00 \n",
      "11 -1.00e+00   3.1e-06 1.0e+00 \n"
     ]
    },
    {
     "data": {
      "text/plain": [
       "2-element Vector{Float64}:\n",
       " 1.0000000568101004\n",
       " 2.64986337366262e-7"
      ]
     },
     "metadata": {},
     "output_type": "display_data"
    }
   ],
   "source": [
    "#Test\n",
    "f(x) = x[1]^2 * (2*x[1] - 3) - 6*x[1]*x[2] * (x[1] - x[2] - 1)\n",
    "nlp = ADNLPModel(f, zeros(2))\n",
    "x0 = ones(2)*2\n",
    "\n",
    "bfgs_quasi_newton_armijo(nlp, x0)"
   ]
  },
  {
   "cell_type": "code",
   "execution_count": 120,
   "metadata": {},
   "outputs": [
    {
     "name": "stdout",
     "output_type": "stream",
     "text": [
      " k        fk ||∇f(x)||\n",
      " 0  1.74e+05   3.3e+04\n",
      " 1  2.73e+04   8.6e+03 1.0e-03 \n",
      " 2  1.26e+03   8.6e+02 1.0e+00 \n",
      " 3  7.23e+02   5.8e+02 1.0e+00 \n",
      " 4  1.70e+02   2.1e+02 1.0e+00 \n",
      " 5  5.18e+01   9.6e+01 1.0e+00 \n",
      " 6  1.16e+01   4.0e+01 1.0e+00 \n",
      " 7  2.05e+00   1.7e+01 1.0e+00 \n",
      " 8  2.54e-01   6.9e+00 1.0e+00 \n",
      " 9  7.20e-02   3.8e+00 1.0e+00 \n",
      "10  5.50e-02   3.0e+00 1.0e+00 \n",
      "11  3.86e-02   2.2e+00 1.0e+00 \n",
      "12  1.55e-02   1.0e+00 1.0e+00 \n",
      "13  2.85e-03   4.4e-01 1.0e+00 \n",
      "14  1.71e-04   1.7e-01 1.0e+00 \n"
     ]
    },
    {
     "name": "stdout",
     "output_type": "stream",
     "text": [
      "15  3.81e-06   2.8e-02 1.0e+00 \n",
      " k        fk ||∇f(x)||\n",
      " 0  0.00e+00   4.5e+00\n",
      " 1 -3.73e-01   4.2e+00 8.8e-02 \n",
      " 2 -7.22e-01   1.4e+00 1.0e+00 \n",
      " 3 -8.44e-01   9.3e-01 1.0e+00 \n",
      " 4 -9.83e-01   4.6e-01 1.0e+00 \n",
      " 5 -9.98e-01   2.3e-01 1.0e+00 \n",
      " 6 -1.00e+00   7.9e-02 1.0e+00 \n",
      " 7 -1.00e+00   1.3e-02 1.0e+00 \n",
      " 8 -1.00e+00   9.1e-04 1.0e+00 \n",
      " 9 -1.00e+00   1.3e-04 1.0e+00 \n",
      "10 -1.00e+00   6.7e-06 1.0e+00 \n",
      "11 -1.00e+00   1.1e-07 1.0e+00 \n",
      "sol = [1.0000000149131603, 1.5213299132729154e-9]\n",
      " k        fk ||∇f(x)||\n",
      " 0  1.00e+00   4.5e+00\n",
      " 1  3.33e-01   4.4e+00 3.0e-01 \n",
      " 2 -4.00e-01   1.4e+00 1.0e+00 \n",
      " 3 -6.13e-01   1.3e+00 1.0e+00 \n",
      " 4 -9.01e-01   1.4e+00 6.7e-01 \n",
      " 5 -9.82e-01   6.7e-01 1.0e+00 \n",
      " 6 -9.98e-01   1.2e-01 1.0e+00 \n",
      " 7 -9.99e-01   4.8e-02 1.0e+00 \n",
      " 8 -1.00e+00   1.8e-03 1.0e+00 \n",
      " 9 -1.00e+00   1.3e-04 1.0e+00 \n",
      "10 -1.00e+00   9.0e-06 1.0e+00 \n",
      "11 -1.00e+00   3.1e-09 1.0e+00 \n",
      "sol = [0.9999999989781292, -5.078756032467174e-10]\n",
      "\u001b[0m\u001b[1mTest Summary:                         | \u001b[22m\u001b[32m\u001b[1mPass  \u001b[22m\u001b[39m\u001b[36m\u001b[1mTotal  \u001b[22m\u001b[39m\u001b[0m\u001b[1mTime\u001b[22m\n",
      "Test set for bfgs_quasi_newton_armijo | \u001b[32m   5  \u001b[39m\u001b[36m    5  \u001b[39m\u001b[0m1.5s\n"
     ]
    },
    {
     "data": {
      "text/plain": [
       "Test.DefaultTestSet(\"Test set for bfgs_quasi_newton_armijo\", Any[], 5, false, false, true, 1.674495238018e9, 1.674495239514e9)"
      ]
     },
     "metadata": {},
     "output_type": "display_data"
    }
   ],
   "source": [
    "# Tests secrets 3: contactez votre professeur pour avoir ces tests additionels si vous êtes prêt.\n",
    "using Test\n",
    "\n",
    "@testset \"Test set for bfgs_quasi_newton_armijo\" begin\n",
    "\t#Test problem:\n",
    "\tfH(x) = (x[2]+x[1].^2-11).^2+(x[1]+x[2].^2-7).^2\n",
    "\tx0H = [10., 20.]\n",
    "\thimmelblau = ADNLPModel(fH, x0H)\n",
    "\n",
    "\tproblem2 = ADNLPModel(x->-x[1]^3 + x[2]^2 + x[3]^2, ones(3))\n",
    "\n",
    "\troz(x) = 100 *  (x[2] - x[1]^2)^2 + (x[1] - 1.0)^2\n",
    "\trosenbrock = ADNLPModel(roz, [-1.2, 1.0])\n",
    "\n",
    "\tf(x) = x[1]^2 * (2*x[1] - 3) - 6*x[1]*x[2] * (x[1] - x[2] - 1)\n",
    "\tpb_du_cours = ADNLPModel(f, [-1.001, -1.001]) #ou [1.5, .5] ou [.5, .5]\n",
    "\n",
    "\n",
    "\t######################################### bfgs_quasi_newton_armijo ##################\n",
    "\n",
    "\t#Unit/Validation Tests\n",
    "\tusing Logging, Test\n",
    "    ep1 = 1e-6 + norm(grad(himmelblau, himmelblau.meta.x0)) * 1e-6\n",
    "\tsol = bfgs_quasi_newton_armijo(himmelblau, himmelblau.meta.x0) \n",
    "\t@test norm(grad(himmelblau, sol)) ≤ ep1\n",
    "\n",
    "    ep4 = 1e-6 + norm(grad(pb_du_cours, [1.5, .5])) * 1e-6\n",
    "\tsol = bfgs_quasi_newton_armijo(pb_du_cours, [1.5, .5]) \n",
    "\t@test norm(grad(pb_du_cours, sol)) ≤ ep4\n",
    "\t@test sol ≈ [1, 0] atol = ep4\n",
    "\t@show sol\n",
    "\n",
    "    ep5 = 1e-6 + norm(grad(pb_du_cours, [.5, .5])) * 1e-6\n",
    "\tsol = bfgs_quasi_newton_armijo(pb_du_cours, [.5, .5]) \n",
    "\t@test norm(grad(pb_du_cours, sol)) ≤ ep4\n",
    "\t@test sol ≈ [1, 0] atol = ep4\n",
    "\t@show sol\n",
    "end"
   ]
  },
  {
   "cell_type": "markdown",
   "metadata": {},
   "source": [
    "### Exercice 4: application à un problème de grande taille"
   ]
  },
  {
   "cell_type": "markdown",
   "metadata": {},
   "source": [
    "On va ajouter le package `OptimizationProblems` qui contient, comme son nom l'indique, une collection de problème d'optimisation disponible au format de `JuMP` (dans le sous-module `OptimizationProblems.PureJuMP`) et de `ADNLPModel` (dans le sous-module `OptimizationProblems.ADNLPProblems`)."
   ]
  },
  {
   "cell_type": "code",
   "execution_count": 80,
   "metadata": {},
   "outputs": [
    {
     "name": "stderr",
     "output_type": "stream",
     "text": [
      "\u001b[32m\u001b[1m   Resolving\u001b[22m\u001b[39m package versions...\n"
     ]
    },
    {
     "name": "stderr",
     "output_type": "stream",
     "text": [
      "\u001b[32m\u001b[1m   Installed\u001b[22m\u001b[39m OptimizationProblems ─ v0.5.0\n"
     ]
    },
    {
     "name": "stderr",
     "output_type": "stream",
     "text": [
      "\u001b[32m\u001b[1m    Updating\u001b[22m\u001b[39m `C:\\Users\\Goglu\\.julia\\environments\\v1.8\\Project.toml`\n",
      " \u001b[90m [5049e819] \u001b[39m\u001b[92m+ OptimizationProblems v0.5.0\u001b[39m\n",
      "\u001b[32m\u001b[1m    Updating\u001b[22m\u001b[39m `C:\\Users\\Goglu\\.julia\\environments\\v1.8\\Manifest.toml`\n"
     ]
    },
    {
     "name": "stderr",
     "output_type": "stream",
     "text": [
      " \u001b[90m [6e4b80f9] \u001b[39m\u001b[92m+ BenchmarkTools v1.3.2\u001b[39m\n",
      " \u001b[90m [523fee87] \u001b[39m\u001b[92m+ CodecBzip2 v0.7.2\u001b[39m\n",
      " \u001b[90m [4076af6c] \u001b[39m\u001b[92m+ JuMP v1.6.0\u001b[39m\n",
      " \u001b[90m [b8f27783] \u001b[39m\u001b[92m+ MathOptInterface v1.11.4\u001b[39m\n",
      " \u001b[90m [d8a4904e] \u001b[39m\u001b[92m+ MutableArithmetics v1.1.0\u001b[39m\n",
      " \u001b[90m [5049e819] \u001b[39m\u001b[92m+ OptimizationProblems v0.5.0\u001b[39m\n",
      " \u001b[90m [9abbd945] \u001b[39m\u001b[92m+ Profile\u001b[39m\n"
     ]
    },
    {
     "name": "stderr",
     "output_type": "stream",
     "text": [
      "\u001b[32m\u001b[1mPrecompiling\u001b[22m\u001b[39m "
     ]
    },
    {
     "name": "stderr",
     "output_type": "stream",
     "text": [
      "project...\n"
     ]
    },
    {
     "name": "stderr",
     "output_type": "stream",
     "text": [
      "\u001b[32m  ✓ \u001b[39mOptimizationProblems\n"
     ]
    },
    {
     "name": "stderr",
     "output_type": "stream",
     "text": [
      "  1 dependency successfully precompiled in 92 seconds. 322 already precompiled.\n"
     ]
    }
   ],
   "source": [
    "using Pkg;\n",
    "Pkg.add(\"OptimizationProblems\")"
   ]
  },
  {
   "cell_type": "code",
   "execution_count": 81,
   "metadata": {},
   "outputs": [],
   "source": [
    "using ADNLPModels, OptimizationProblems.ADNLPProblems # Attention si vous ne faites pas using ADNLPModels avant ça ne fonctionne pas!"
   ]
  },
  {
   "cell_type": "code",
   "execution_count": 82,
   "metadata": {},
   "outputs": [
    {
     "data": {
      "text/plain": [
       "\u001b[32m\u001b[1mTest Passed\u001b[22m\u001b[39m"
      ]
     },
     "metadata": {},
     "output_type": "display_data"
    }
   ],
   "source": [
    "n = 500\n",
    "model = genrose(n=n)\n",
    "@test typeof(model) <: ADNLPModel"
   ]
  },
  {
   "cell_type": "markdown",
   "metadata": {},
   "source": [
    "Si vous le souhaitez, il est possible d'accéder à certaines informations sur le problème en accédant à son meta:"
   ]
  },
  {
   "cell_type": "code",
   "execution_count": 83,
   "metadata": {},
   "outputs": [
    {
     "data": {
      "text/plain": [
       "Dict{Symbol, Any} with 17 entries:\n",
       "  :has_equalities_only    => false\n",
       "  :origin                 => :unknown\n",
       "  :has_inequalities_only  => false\n",
       "  :defined_everywhere     => missing\n",
       "  :has_fixed_variables    => false\n",
       "  :variable_ncon          => false\n",
       "  :nvar                   => 100\n",
       "  :is_feasible            => true\n",
       "  :minimize               => true\n",
       "  :ncon                   => 0\n",
       "  :name                   => \"genrose\"\n",
       "  :best_known_lower_bound => -Inf\n",
       "  :objtype                => :other\n",
       "  :best_known_upper_bound => 405.106\n",
       "  :has_bounds             => false\n",
       "  :variable_nvar          => true\n",
       "  :contype                => :unconstrained"
      ]
     },
     "metadata": {},
     "output_type": "display_data"
    }
   ],
   "source": [
    "using OptimizationProblems\n",
    "OptimizationProblems.genrose_meta"
   ]
  },
  {
   "cell_type": "markdown",
   "metadata": {},
   "source": [
    "Il est aussi possible d'accéder au meta de tous les problèmes"
   ]
  },
  {
   "cell_type": "code",
   "execution_count": 84,
   "metadata": {},
   "outputs": [
    {
     "data": {
      "text/html": [
       "<div><div style = \"float: left;\"><span>261×17 DataFrame</span></div><div style = \"float: right;\"><span style = \"font-style: italic;\">236 rows omitted</span></div><div style = \"clear: both;\"></div></div><div class = \"data-frame\" style = \"overflow-x: scroll;\"><table class = \"data-frame\" style = \"margin-bottom: 6px;\"><thead><tr class = \"header\"><th class = \"rowNumber\" style = \"font-weight: bold; text-align: right;\">Row</th><th style = \"text-align: left;\">nvar</th><th style = \"text-align: left;\">variable_nvar</th><th style = \"text-align: left;\">ncon</th><th style = \"text-align: left;\">variable_ncon</th><th style = \"text-align: left;\">minimize</th><th style = \"text-align: left;\">name</th><th style = \"text-align: left;\">has_equalities_only</th><th style = \"text-align: left;\">has_inequalities_only</th><th style = \"text-align: left;\">has_bounds</th><th style = \"text-align: left;\">has_fixed_variables</th><th style = \"text-align: left;\">objtype</th><th style = \"text-align: left;\">contype</th><th style = \"text-align: left;\">best_known_lower_bound</th><th style = \"text-align: left;\">best_known_upper_bound</th><th style = \"text-align: left;\">is_feasible</th><th style = \"text-align: left;\">defined_everywhere</th><th style = \"text-align: left;\">origin</th></tr><tr class = \"subheader headerLastRow\"><th class = \"rowNumber\" style = \"font-weight: bold; text-align: right;\"></th><th title = \"Int64\" style = \"text-align: left;\">Int64</th><th title = \"Bool\" style = \"text-align: left;\">Bool</th><th title = \"Int64\" style = \"text-align: left;\">Int64</th><th title = \"Bool\" style = \"text-align: left;\">Bool</th><th title = \"Bool\" style = \"text-align: left;\">Bool</th><th title = \"String\" style = \"text-align: left;\">String</th><th title = \"Bool\" style = \"text-align: left;\">Bool</th><th title = \"Bool\" style = \"text-align: left;\">Bool</th><th title = \"Bool\" style = \"text-align: left;\">Bool</th><th title = \"Bool\" style = \"text-align: left;\">Bool</th><th title = \"Symbol\" style = \"text-align: left;\">Symbol</th><th title = \"Symbol\" style = \"text-align: left;\">Symbol</th><th title = \"Real\" style = \"text-align: left;\">Real</th><th title = \"Real\" style = \"text-align: left;\">Real</th><th title = \"Union{Missing, Bool}\" style = \"text-align: left;\">Bool?</th><th title = \"Union{Missing, Bool}\" style = \"text-align: left;\">Bool?</th><th title = \"Symbol\" style = \"text-align: left;\">Symbol</th></tr></thead><tbody><tr><td class = \"rowNumber\" style = \"font-weight: bold; text-align: right;\">1</td><td style = \"text-align: right;\">1</td><td style = \"text-align: right;\">false</td><td style = \"text-align: right;\">0</td><td style = \"text-align: right;\">false</td><td style = \"text-align: right;\">true</td><td style = \"text-align: left;\">AMPGO02</td><td style = \"text-align: right;\">false</td><td style = \"text-align: right;\">false</td><td style = \"text-align: right;\">false</td><td style = \"text-align: right;\">false</td><td style = \"text-align: left;\">other</td><td style = \"text-align: left;\">unconstrained</td><td style = \"text-align: right;\">-Inf</td><td style = \"text-align: right;\">0.839498</td><td style = \"text-align: right;\">true</td><td style = \"font-style: italic; text-align: right;\">missing</td><td style = \"text-align: left;\">unknown</td></tr><tr><td class = \"rowNumber\" style = \"font-weight: bold; text-align: right;\">2</td><td style = \"text-align: right;\">1</td><td style = \"text-align: right;\">false</td><td style = \"text-align: right;\">0</td><td style = \"text-align: right;\">false</td><td style = \"text-align: right;\">true</td><td style = \"text-align: left;\">AMPGO03</td><td style = \"text-align: right;\">false</td><td style = \"text-align: right;\">false</td><td style = \"text-align: right;\">false</td><td style = \"text-align: right;\">false</td><td style = \"text-align: left;\">other</td><td style = \"text-align: left;\">unconstrained</td><td style = \"text-align: right;\">-Inf</td><td style = \"text-align: right;\">2.88961</td><td style = \"text-align: right;\">true</td><td style = \"font-style: italic; text-align: right;\">missing</td><td style = \"text-align: left;\">unknown</td></tr><tr><td class = \"rowNumber\" style = \"font-weight: bold; text-align: right;\">3</td><td style = \"text-align: right;\">1</td><td style = \"text-align: right;\">false</td><td style = \"text-align: right;\">0</td><td style = \"text-align: right;\">false</td><td style = \"text-align: right;\">true</td><td style = \"text-align: left;\">AMPGO04</td><td style = \"text-align: right;\">false</td><td style = \"text-align: right;\">false</td><td style = \"text-align: right;\">false</td><td style = \"text-align: right;\">false</td><td style = \"text-align: left;\">other</td><td style = \"text-align: left;\">unconstrained</td><td style = \"text-align: right;\">-Inf</td><td style = \"text-align: right;\">-2.5666</td><td style = \"text-align: right;\">true</td><td style = \"font-style: italic; text-align: right;\">missing</td><td style = \"text-align: left;\">unknown</td></tr><tr><td class = \"rowNumber\" style = \"font-weight: bold; text-align: right;\">4</td><td style = \"text-align: right;\">1</td><td style = \"text-align: right;\">false</td><td style = \"text-align: right;\">0</td><td style = \"text-align: right;\">false</td><td style = \"text-align: right;\">true</td><td style = \"text-align: left;\">AMPGO05</td><td style = \"text-align: right;\">false</td><td style = \"text-align: right;\">false</td><td style = \"text-align: right;\">false</td><td style = \"text-align: right;\">false</td><td style = \"text-align: left;\">other</td><td style = \"text-align: left;\">unconstrained</td><td style = \"text-align: right;\">-Inf</td><td style = \"text-align: right;\">-0.0</td><td style = \"text-align: right;\">true</td><td style = \"font-style: italic; text-align: right;\">missing</td><td style = \"text-align: left;\">unknown</td></tr><tr><td class = \"rowNumber\" style = \"font-weight: bold; text-align: right;\">5</td><td style = \"text-align: right;\">1</td><td style = \"text-align: right;\">false</td><td style = \"text-align: right;\">0</td><td style = \"text-align: right;\">false</td><td style = \"text-align: right;\">true</td><td style = \"text-align: left;\">AMPGO06</td><td style = \"text-align: right;\">false</td><td style = \"text-align: right;\">false</td><td style = \"text-align: right;\">false</td><td style = \"text-align: right;\">false</td><td style = \"text-align: left;\">other</td><td style = \"text-align: left;\">unconstrained</td><td style = \"text-align: right;\">-Inf</td><td style = \"text-align: right;\">3.5177e-43</td><td style = \"text-align: right;\">true</td><td style = \"font-style: italic; text-align: right;\">missing</td><td style = \"text-align: left;\">unknown</td></tr><tr><td class = \"rowNumber\" style = \"font-weight: bold; text-align: right;\">6</td><td style = \"text-align: right;\">1</td><td style = \"text-align: right;\">false</td><td style = \"text-align: right;\">0</td><td style = \"text-align: right;\">false</td><td style = \"text-align: right;\">true</td><td style = \"text-align: left;\">AMPGO07</td><td style = \"text-align: right;\">false</td><td style = \"text-align: right;\">false</td><td style = \"text-align: right;\">false</td><td style = \"text-align: right;\">false</td><td style = \"text-align: left;\">other</td><td style = \"text-align: left;\">unconstrained</td><td style = \"text-align: right;\">-Inf</td><td style = \"text-align: right;\">2.56475</td><td style = \"text-align: right;\">true</td><td style = \"font-style: italic; text-align: right;\">missing</td><td style = \"text-align: left;\">unknown</td></tr><tr><td class = \"rowNumber\" style = \"font-weight: bold; text-align: right;\">7</td><td style = \"text-align: right;\">1</td><td style = \"text-align: right;\">false</td><td style = \"text-align: right;\">0</td><td style = \"text-align: right;\">false</td><td style = \"text-align: right;\">true</td><td style = \"text-align: left;\">AMPGO08</td><td style = \"text-align: right;\">false</td><td style = \"text-align: right;\">false</td><td style = \"text-align: right;\">false</td><td style = \"text-align: right;\">false</td><td style = \"text-align: left;\">other</td><td style = \"text-align: left;\">unconstrained</td><td style = \"text-align: right;\">-Inf</td><td style = \"text-align: right;\">-2.0928</td><td style = \"text-align: right;\">true</td><td style = \"font-style: italic; text-align: right;\">missing</td><td style = \"text-align: left;\">unknown</td></tr><tr><td class = \"rowNumber\" style = \"font-weight: bold; text-align: right;\">8</td><td style = \"text-align: right;\">1</td><td style = \"text-align: right;\">false</td><td style = \"text-align: right;\">0</td><td style = \"text-align: right;\">false</td><td style = \"text-align: right;\">true</td><td style = \"text-align: left;\">AMPGO09</td><td style = \"text-align: right;\">false</td><td style = \"text-align: right;\">false</td><td style = \"text-align: right;\">false</td><td style = \"text-align: right;\">false</td><td style = \"text-align: left;\">other</td><td style = \"text-align: left;\">unconstrained</td><td style = \"text-align: right;\">-Inf</td><td style = \"text-align: right;\">0.921136</td><td style = \"text-align: right;\">true</td><td style = \"font-style: italic; text-align: right;\">missing</td><td style = \"text-align: left;\">unknown</td></tr><tr><td class = \"rowNumber\" style = \"font-weight: bold; text-align: right;\">9</td><td style = \"text-align: right;\">1</td><td style = \"text-align: right;\">false</td><td style = \"text-align: right;\">0</td><td style = \"text-align: right;\">false</td><td style = \"text-align: right;\">true</td><td style = \"text-align: left;\">AMPGO10</td><td style = \"text-align: right;\">false</td><td style = \"text-align: right;\">false</td><td style = \"text-align: right;\">false</td><td style = \"text-align: right;\">false</td><td style = \"text-align: left;\">other</td><td style = \"text-align: left;\">unconstrained</td><td style = \"text-align: right;\">-Inf</td><td style = \"text-align: right;\">-0.0</td><td style = \"text-align: right;\">true</td><td style = \"font-style: italic; text-align: right;\">missing</td><td style = \"text-align: left;\">unknown</td></tr><tr><td class = \"rowNumber\" style = \"font-weight: bold; text-align: right;\">10</td><td style = \"text-align: right;\">1</td><td style = \"text-align: right;\">false</td><td style = \"text-align: right;\">0</td><td style = \"text-align: right;\">false</td><td style = \"text-align: right;\">true</td><td style = \"text-align: left;\">AMPGO11</td><td style = \"text-align: right;\">false</td><td style = \"text-align: right;\">false</td><td style = \"text-align: right;\">false</td><td style = \"text-align: right;\">false</td><td style = \"text-align: left;\">other</td><td style = \"text-align: left;\">unconstrained</td><td style = \"text-align: right;\">-Inf</td><td style = \"text-align: right;\">-1.0</td><td style = \"text-align: right;\">true</td><td style = \"font-style: italic; text-align: right;\">missing</td><td style = \"text-align: left;\">unknown</td></tr><tr><td class = \"rowNumber\" style = \"font-weight: bold; text-align: right;\">11</td><td style = \"text-align: right;\">1</td><td style = \"text-align: right;\">false</td><td style = \"text-align: right;\">0</td><td style = \"text-align: right;\">false</td><td style = \"text-align: right;\">true</td><td style = \"text-align: left;\">AMPGO12</td><td style = \"text-align: right;\">false</td><td style = \"text-align: right;\">false</td><td style = \"text-align: right;\">false</td><td style = \"text-align: right;\">false</td><td style = \"text-align: left;\">other</td><td style = \"text-align: left;\">unconstrained</td><td style = \"text-align: right;\">-Inf</td><td style = \"text-align: right;\">1.0</td><td style = \"text-align: right;\">true</td><td style = \"font-style: italic; text-align: right;\">missing</td><td style = \"text-align: left;\">unknown</td></tr><tr><td class = \"rowNumber\" style = \"font-weight: bold; text-align: right;\">12</td><td style = \"text-align: right;\">1</td><td style = \"text-align: right;\">false</td><td style = \"text-align: right;\">0</td><td style = \"text-align: right;\">false</td><td style = \"text-align: right;\">true</td><td style = \"text-align: left;\">AMPGO13</td><td style = \"text-align: right;\">false</td><td style = \"text-align: right;\">false</td><td style = \"text-align: right;\">false</td><td style = \"text-align: right;\">false</td><td style = \"text-align: left;\">other</td><td style = \"text-align: left;\">unconstrained</td><td style = \"text-align: right;\">-1.5874</td><td style = \"text-align: right;\">-1.5874</td><td style = \"text-align: right;\">true</td><td style = \"font-style: italic; text-align: right;\">missing</td><td style = \"text-align: left;\">unknown</td></tr><tr><td class = \"rowNumber\" style = \"font-weight: bold; text-align: right;\">13</td><td style = \"text-align: right;\">1</td><td style = \"text-align: right;\">false</td><td style = \"text-align: right;\">0</td><td style = \"text-align: right;\">false</td><td style = \"text-align: right;\">true</td><td style = \"text-align: left;\">AMPGO14</td><td style = \"text-align: right;\">false</td><td style = \"text-align: right;\">false</td><td style = \"text-align: right;\">false</td><td style = \"text-align: right;\">false</td><td style = \"text-align: left;\">other</td><td style = \"text-align: left;\">unconstrained</td><td style = \"text-align: right;\">-Inf</td><td style = \"text-align: right;\">-0.0</td><td style = \"text-align: right;\">true</td><td style = \"font-style: italic; text-align: right;\">missing</td><td style = \"text-align: left;\">unknown</td></tr><tr><td style = \"text-align: right;\">&vellip;</td><td style = \"text-align: right;\">&vellip;</td><td style = \"text-align: right;\">&vellip;</td><td style = \"text-align: right;\">&vellip;</td><td style = \"text-align: right;\">&vellip;</td><td style = \"text-align: right;\">&vellip;</td><td style = \"text-align: right;\">&vellip;</td><td style = \"text-align: right;\">&vellip;</td><td style = \"text-align: right;\">&vellip;</td><td style = \"text-align: right;\">&vellip;</td><td style = \"text-align: right;\">&vellip;</td><td style = \"text-align: right;\">&vellip;</td><td style = \"text-align: right;\">&vellip;</td><td style = \"text-align: right;\">&vellip;</td><td style = \"text-align: right;\">&vellip;</td><td style = \"text-align: right;\">&vellip;</td><td style = \"text-align: right;\">&vellip;</td><td style = \"text-align: right;\">&vellip;</td></tr><tr><td class = \"rowNumber\" style = \"font-weight: bold; text-align: right;\">250</td><td style = \"text-align: right;\">2598</td><td style = \"text-align: right;\">false</td><td style = \"text-align: right;\">3116</td><td style = \"text-align: right;\">false</td><td style = \"text-align: right;\">true</td><td style = \"text-align: left;\">tetra_gear</td><td style = \"text-align: right;\">false</td><td style = \"text-align: right;\">true</td><td style = \"text-align: right;\">true</td><td style = \"text-align: right;\">true</td><td style = \"text-align: left;\">other</td><td style = \"text-align: left;\">general</td><td style = \"text-align: right;\">-Inf</td><td style = \"text-align: right;\">4256.38</td><td style = \"text-align: right;\">true</td><td style = \"font-style: italic; text-align: right;\">missing</td><td style = \"text-align: left;\">unknown</td></tr><tr><td class = \"rowNumber\" style = \"font-weight: bold; text-align: right;\">251</td><td style = \"text-align: right;\">3570</td><td style = \"text-align: right;\">false</td><td style = \"text-align: right;\">4675</td><td style = \"text-align: right;\">false</td><td style = \"text-align: right;\">true</td><td style = \"text-align: left;\">tetra_hook</td><td style = \"text-align: right;\">false</td><td style = \"text-align: right;\">true</td><td style = \"text-align: right;\">true</td><td style = \"text-align: right;\">true</td><td style = \"text-align: left;\">other</td><td style = \"text-align: left;\">general</td><td style = \"text-align: right;\">-Inf</td><td style = \"text-align: right;\">6157.14</td><td style = \"text-align: right;\">true</td><td style = \"font-style: italic; text-align: right;\">missing</td><td style = \"text-align: left;\">unknown</td></tr><tr><td class = \"rowNumber\" style = \"font-weight: bold; text-align: right;\">252</td><td style = \"text-align: right;\">100</td><td style = \"text-align: right;\">true</td><td style = \"text-align: right;\">0</td><td style = \"text-align: right;\">false</td><td style = \"text-align: right;\">true</td><td style = \"text-align: left;\">tointgss</td><td style = \"text-align: right;\">false</td><td style = \"text-align: right;\">false</td><td style = \"text-align: right;\">false</td><td style = \"text-align: right;\">false</td><td style = \"text-align: left;\">other</td><td style = \"text-align: left;\">unconstrained</td><td style = \"text-align: right;\">-Inf</td><td style = \"text-align: right;\">891.608</td><td style = \"text-align: right;\">true</td><td style = \"font-style: italic; text-align: right;\">missing</td><td style = \"text-align: left;\">unknown</td></tr><tr><td class = \"rowNumber\" style = \"font-weight: bold; text-align: right;\">253</td><td style = \"text-align: right;\">100</td><td style = \"text-align: right;\">true</td><td style = \"text-align: right;\">0</td><td style = \"text-align: right;\">false</td><td style = \"text-align: right;\">true</td><td style = \"text-align: left;\">tquartic</td><td style = \"text-align: right;\">false</td><td style = \"text-align: right;\">false</td><td style = \"text-align: right;\">false</td><td style = \"text-align: right;\">false</td><td style = \"text-align: left;\">least_squares</td><td style = \"text-align: left;\">unconstrained</td><td style = \"text-align: right;\">-Inf</td><td style = \"text-align: right;\">0.81</td><td style = \"text-align: right;\">true</td><td style = \"font-style: italic; text-align: right;\">missing</td><td style = \"text-align: left;\">unknown</td></tr><tr><td class = \"rowNumber\" style = \"font-weight: bold; text-align: right;\">254</td><td style = \"text-align: right;\">8</td><td style = \"text-align: right;\">false</td><td style = \"text-align: right;\">3</td><td style = \"text-align: right;\">false</td><td style = \"text-align: right;\">true</td><td style = \"text-align: left;\">triangle</td><td style = \"text-align: right;\">false</td><td style = \"text-align: right;\">true</td><td style = \"text-align: right;\">true</td><td style = \"text-align: right;\">true</td><td style = \"text-align: left;\">other</td><td style = \"text-align: left;\">general</td><td style = \"text-align: right;\">-Inf</td><td style = \"text-align: right;\">11.328</td><td style = \"text-align: right;\">true</td><td style = \"font-style: italic; text-align: right;\">missing</td><td style = \"text-align: left;\">unknown</td></tr><tr><td class = \"rowNumber\" style = \"font-weight: bold; text-align: right;\">255</td><td style = \"text-align: right;\">2244</td><td style = \"text-align: right;\">false</td><td style = \"text-align: right;\">1896</td><td style = \"text-align: right;\">false</td><td style = \"text-align: right;\">true</td><td style = \"text-align: left;\">triangle_deer</td><td style = \"text-align: right;\">false</td><td style = \"text-align: right;\">true</td><td style = \"text-align: right;\">true</td><td style = \"text-align: right;\">true</td><td style = \"text-align: left;\">other</td><td style = \"text-align: left;\">general</td><td style = \"text-align: right;\">-Inf</td><td style = \"text-align: right;\">2014.34</td><td style = \"text-align: right;\">true</td><td style = \"font-style: italic; text-align: right;\">missing</td><td style = \"text-align: left;\">unknown</td></tr><tr><td class = \"rowNumber\" style = \"font-weight: bold; text-align: right;\">256</td><td style = \"text-align: right;\">1366</td><td style = \"text-align: right;\">false</td><td style = \"text-align: right;\">1182</td><td style = \"text-align: right;\">false</td><td style = \"text-align: right;\">true</td><td style = \"text-align: left;\">triangle_pacman</td><td style = \"text-align: right;\">false</td><td style = \"text-align: right;\">true</td><td style = \"text-align: right;\">true</td><td style = \"text-align: right;\">true</td><td style = \"text-align: left;\">other</td><td style = \"text-align: left;\">general</td><td style = \"text-align: right;\">-Inf</td><td style = \"text-align: right;\">1316.28</td><td style = \"text-align: right;\">true</td><td style = \"font-style: italic; text-align: right;\">missing</td><td style = \"text-align: left;\">unknown</td></tr><tr><td class = \"rowNumber\" style = \"font-weight: bold; text-align: right;\">257</td><td style = \"text-align: right;\">4444</td><td style = \"text-align: right;\">false</td><td style = \"text-align: right;\">4025</td><td style = \"text-align: right;\">false</td><td style = \"text-align: right;\">true</td><td style = \"text-align: left;\">triangle_turtle</td><td style = \"text-align: right;\">false</td><td style = \"text-align: right;\">true</td><td style = \"text-align: right;\">true</td><td style = \"text-align: right;\">true</td><td style = \"text-align: left;\">other</td><td style = \"text-align: left;\">general</td><td style = \"text-align: right;\">-Inf</td><td style = \"text-align: right;\">4467.58</td><td style = \"text-align: right;\">true</td><td style = \"font-style: italic; text-align: right;\">missing</td><td style = \"text-align: left;\">unknown</td></tr><tr><td class = \"rowNumber\" style = \"font-weight: bold; text-align: right;\">258</td><td style = \"text-align: right;\">100</td><td style = \"text-align: right;\">true</td><td style = \"text-align: right;\">0</td><td style = \"text-align: right;\">false</td><td style = \"text-align: right;\">true</td><td style = \"text-align: left;\">tridia</td><td style = \"text-align: right;\">false</td><td style = \"text-align: right;\">false</td><td style = \"text-align: right;\">false</td><td style = \"text-align: right;\">false</td><td style = \"text-align: left;\">other</td><td style = \"text-align: left;\">unconstrained</td><td style = \"text-align: right;\">-Inf</td><td style = \"text-align: right;\">5049.0</td><td style = \"text-align: right;\">true</td><td style = \"font-style: italic; text-align: right;\">missing</td><td style = \"text-align: left;\">unknown</td></tr><tr><td class = \"rowNumber\" style = \"font-weight: bold; text-align: right;\">259</td><td style = \"text-align: right;\">100</td><td style = \"text-align: right;\">true</td><td style = \"text-align: right;\">0</td><td style = \"text-align: right;\">false</td><td style = \"text-align: right;\">true</td><td style = \"text-align: left;\">vardim</td><td style = \"text-align: right;\">false</td><td style = \"text-align: right;\">false</td><td style = \"text-align: right;\">false</td><td style = \"text-align: right;\">false</td><td style = \"text-align: left;\">other</td><td style = \"text-align: left;\">unconstrained</td><td style = \"text-align: right;\">-Inf</td><td style = \"text-align: right;\">1.31058e14</td><td style = \"text-align: right;\">true</td><td style = \"font-style: italic; text-align: right;\">missing</td><td style = \"text-align: left;\">unknown</td></tr><tr><td class = \"rowNumber\" style = \"font-weight: bold; text-align: right;\">260</td><td style = \"text-align: right;\">100</td><td style = \"text-align: right;\">true</td><td style = \"text-align: right;\">0</td><td style = \"text-align: right;\">false</td><td style = \"text-align: right;\">true</td><td style = \"text-align: left;\">woods</td><td style = \"text-align: right;\">false</td><td style = \"text-align: right;\">false</td><td style = \"text-align: right;\">false</td><td style = \"text-align: right;\">false</td><td style = \"text-align: left;\">other</td><td style = \"text-align: left;\">unconstrained</td><td style = \"text-align: right;\">-Inf</td><td style = \"text-align: right;\">180451.0</td><td style = \"text-align: right;\">true</td><td style = \"font-style: italic; text-align: right;\">missing</td><td style = \"text-align: left;\">unknown</td></tr><tr><td class = \"rowNumber\" style = \"font-weight: bold; text-align: right;\">261</td><td style = \"text-align: right;\">3</td><td style = \"text-align: right;\">false</td><td style = \"text-align: right;\">3</td><td style = \"text-align: right;\">false</td><td style = \"text-align: right;\">true</td><td style = \"text-align: left;\">zangwil3</td><td style = \"text-align: right;\">true</td><td style = \"text-align: right;\">false</td><td style = \"text-align: right;\">false</td><td style = \"text-align: right;\">false</td><td style = \"text-align: left;\">other</td><td style = \"text-align: left;\">linear</td><td style = \"text-align: right;\">-Inf</td><td style = \"text-align: right;\">Inf</td><td style = \"text-align: right;\">missing</td><td style = \"font-style: italic; text-align: right;\">missing</td><td style = \"text-align: left;\">unknown</td></tr></tbody></table></div>"
      ],
      "text/latex": [
       "\\begin{tabular}{r|cccccccc}\n",
       "\t& nvar & variable\\_nvar & ncon & variable\\_ncon & minimize & name & has\\_equalities\\_only & \\\\\n",
       "\t\\hline\n",
       "\t& Int64 & Bool & Int64 & Bool & Bool & String & Bool & \\\\\n",
       "\t\\hline\n",
       "\t1 & 1 & 0 & 0 & 0 & 1 & AMPGO02 & 0 & $\\dots$ \\\\\n",
       "\t2 & 1 & 0 & 0 & 0 & 1 & AMPGO03 & 0 & $\\dots$ \\\\\n",
       "\t3 & 1 & 0 & 0 & 0 & 1 & AMPGO04 & 0 & $\\dots$ \\\\\n",
       "\t4 & 1 & 0 & 0 & 0 & 1 & AMPGO05 & 0 & $\\dots$ \\\\\n",
       "\t5 & 1 & 0 & 0 & 0 & 1 & AMPGO06 & 0 & $\\dots$ \\\\\n",
       "\t6 & 1 & 0 & 0 & 0 & 1 & AMPGO07 & 0 & $\\dots$ \\\\\n",
       "\t7 & 1 & 0 & 0 & 0 & 1 & AMPGO08 & 0 & $\\dots$ \\\\\n",
       "\t8 & 1 & 0 & 0 & 0 & 1 & AMPGO09 & 0 & $\\dots$ \\\\\n",
       "\t9 & 1 & 0 & 0 & 0 & 1 & AMPGO10 & 0 & $\\dots$ \\\\\n",
       "\t10 & 1 & 0 & 0 & 0 & 1 & AMPGO11 & 0 & $\\dots$ \\\\\n",
       "\t11 & 1 & 0 & 0 & 0 & 1 & AMPGO12 & 0 & $\\dots$ \\\\\n",
       "\t12 & 1 & 0 & 0 & 0 & 1 & AMPGO13 & 0 & $\\dots$ \\\\\n",
       "\t13 & 1 & 0 & 0 & 0 & 1 & AMPGO14 & 0 & $\\dots$ \\\\\n",
       "\t14 & 1 & 0 & 0 & 0 & 1 & AMPGO15 & 0 & $\\dots$ \\\\\n",
       "\t15 & 1 & 0 & 0 & 0 & 1 & AMPGO18 & 0 & $\\dots$ \\\\\n",
       "\t16 & 1 & 0 & 0 & 0 & 1 & AMPGO20 & 0 & $\\dots$ \\\\\n",
       "\t17 & 1 & 0 & 0 & 0 & 1 & AMPGO21 & 0 & $\\dots$ \\\\\n",
       "\t18 & 1 & 0 & 0 & 0 & 1 & AMPGO22 & 0 & $\\dots$ \\\\\n",
       "\t19 & 3 & 0 & 1 & 0 & 1 & BOX2 & 1 & $\\dots$ \\\\\n",
       "\t20 & 3 & 0 & 0 & 0 & 1 & BOX3 & 0 & $\\dots$ \\\\\n",
       "\t21 & 1 & 0 & 0 & 0 & 1 & Dus2\\_1 & 0 & $\\dots$ \\\\\n",
       "\t22 & 1 & 0 & 0 & 0 & 1 & Dus2\\_3 & 0 & $\\dots$ \\\\\n",
       "\t23 & 1 & 0 & 0 & 0 & 1 & Dus2\\_9 & 0 & $\\dots$ \\\\\n",
       "\t24 & 1 & 0 & 0 & 0 & 1 & Duscube & 0 & $\\dots$ \\\\\n",
       "\t$\\dots$ & $\\dots$ & $\\dots$ & $\\dots$ & $\\dots$ & $\\dots$ & $\\dots$ & $\\dots$ &  \\\\\n",
       "\\end{tabular}\n"
      ],
      "text/plain": [
       "\u001b[1m261×17 DataFrame\u001b[0m\n",
       "\u001b[1m Row \u001b[0m│\u001b[1m nvar  \u001b[0m\u001b[1m variable_nvar \u001b[0m\u001b[1m ncon  \u001b[0m\u001b[1m variable_ncon \u001b[0m\u001b[1m minimize \u001b[0m\u001b[1m name            \u001b[0m\u001b[1m \u001b[0m ⋯\n",
       "     │\u001b[90m Int64 \u001b[0m\u001b[90m Bool          \u001b[0m\u001b[90m Int64 \u001b[0m\u001b[90m Bool          \u001b[0m\u001b[90m Bool     \u001b[0m\u001b[90m String          \u001b[0m\u001b[90m \u001b[0m ⋯\n",
       "─────┼──────────────────────────────────────────────────────────────────────────\n",
       "   1 │     1          false      0          false      true  AMPGO02           ⋯\n",
       "   2 │     1          false      0          false      true  AMPGO03\n",
       "   3 │     1          false      0          false      true  AMPGO04\n",
       "   4 │     1          false      0          false      true  AMPGO05\n",
       "   5 │     1          false      0          false      true  AMPGO06           ⋯\n",
       "   6 │     1          false      0          false      true  AMPGO07\n",
       "   7 │     1          false      0          false      true  AMPGO08\n",
       "   8 │     1          false      0          false      true  AMPGO09\n",
       "  ⋮  │   ⋮          ⋮          ⋮          ⋮           ⋮             ⋮          ⋱\n",
       " 255 │  2244          false   1896          false      true  triangle_deer     ⋯\n",
       " 256 │  1366          false   1182          false      true  triangle_pacman\n",
       " 257 │  4444          false   4025          false      true  triangle_turtle\n",
       " 258 │   100           true      0          false      true  tridia\n",
       " 259 │   100           true      0          false      true  vardim            ⋯\n",
       " 260 │   100           true      0          false      true  woods\n",
       " 261 │     3          false      3          false      true  zangwil3\n",
       "\u001b[36m                                                 11 columns and 246 rows omitted\u001b[0m"
      ]
     },
     "metadata": {},
     "output_type": "display_data"
    }
   ],
   "source": [
    "OptimizationProblems.meta"
   ]
  },
  {
   "cell_type": "markdown",
   "metadata": {},
   "source": [
    "Résoudre le problème `genrose` et un autre problème de la collection en utilisant vos algorithmes précédents.\n",
    "Avant d'utiliser l'algorithme on testera que le problème est bien sans contrainte avec:"
   ]
  },
  {
   "cell_type": "code",
   "execution_count": 85,
   "metadata": {},
   "outputs": [
    {
     "data": {
      "text/plain": [
       "true"
      ]
     },
     "metadata": {},
     "output_type": "display_data"
    }
   ],
   "source": [
    "unconstrained(nlp) #qui retourne vrai si `nlp` est un problème sans contraintes.\n"
   ]
  },
  {
   "cell_type": "code",
   "execution_count": 122,
   "metadata": {},
   "outputs": [
    {
     "name": "stdout",
     "output_type": "stream",
     "text": [
      " k        fk ||∇f(x)||\n",
      " 0  5.94e+00   4.4e+01\n",
      " 1  2.58e+00   3.2e+01 7.7e-03 \n",
      " 2  2.17e+00   5.5e+01 1.0e+00 \n"
     ]
    },
    {
     "name": "stdout",
     "output_type": "stream",
     "text": [
      " 3  1.50e+00   2.3e+01 4.4e-01 \n",
      " 4  1.44e+00   3.0e+01 6.7e-01 \n",
      " 5  1.22e+00   2.0e+01 6.7e-01 \n",
      " 6  1.10e+00   1.2e+01 4.4e-01 \n",
      " 7  1.08e+00   1.3e+01 6.7e-01 \n",
      " 8  1.05e+00   9.6e+00 6.7e-01 \n",
      " 9  1.04e+00   8.7e+00 6.7e-01 \n",
      "10  1.03e+00   7.0e+00 6.7e-01 \n"
     ]
    },
    {
     "name": "stdout",
     "output_type": "stream",
     "text": [
      "11  1.02e+00   6.1e+00 6.7e-01 \n",
      "12  1.01e+00   4.8e+00 6.7e-01 \n",
      "13  1.01e+00   4.5e+00 6.7e-01 \n",
      "14  1.01e+00   3.3e+00 6.7e-01 \n",
      "15  1.01e+00   3.2e+00 6.7e-01 \n",
      "16  1.00e+00   2.4e+00 6.7e-01 \n"
     ]
    },
    {
     "name": "stdout",
     "output_type": "stream",
     "text": [
      "17  1.00e+00   2.2e+00 6.7e-01 \n",
      "18  1.00e+00   1.8e+00 6.7e-01 \n",
      "19  1.00e+00   1.4e+00 6.7e-01 \n",
      "20  1.00e+00   1.3e+00 6.7e-01 \n",
      "21  1.00e+00   1.0e+00 6.7e-01 \n",
      "22  1.00e+00   8.9e-01 6.7e-01 \n"
     ]
    },
    {
     "name": "stdout",
     "output_type": "stream",
     "text": [
      "23  1.00e+00   7.3e-01 6.7e-01 \n",
      "24  1.00e+00   6.0e-01 6.7e-01 \n",
      "25  1.00e+00   5.3e-01 6.7e-01 \n",
      "26  1.00e+00   4.2e-01 6.7e-01 \n"
     ]
    },
    {
     "name": "stdout",
     "output_type": "stream",
     "text": [
      "27  1.00e+00   3.7e-01 6.7e-01 \n",
      "28  1.00e+00   3.0e-01 6.7e-01 \n",
      "29  1.00e+00   2.5e-01 6.7e-01 \n",
      "30  1.00e+00   2.2e-01 6.7e-01 \n",
      "31  1.00e+00   1.7e-01 6.7e-01 \n",
      "32  1.00e+00   1.5e-01 6.7e-01 \n",
      "33  1.00e+00   1.3e-01 6.7e-01 \n"
     ]
    },
    {
     "name": "stdout",
     "output_type": "stream",
     "text": [
      "34  1.00e+00   1.1e-01 6.7e-01 \n",
      "35  1.00e+00   9.1e-02 6.7e-01 \n",
      "36  1.00e+00   7.5e-02 6.7e-01 \n",
      "37  1.00e+00   6.6e-02 6.7e-01 \n"
     ]
    },
    {
     "name": "stdout",
     "output_type": "stream",
     "text": [
      "38  1.00e+00   5.6e-02 6.7e-01 \n",
      "39  1.00e+00   4.7e-02 6.7e-01 \n",
      "40  1.00e+00   4.3e-02 6.7e-01 \n",
      "41  1.00e+00   3.7e-02 6.7e-01 \n",
      "42  1.00e+00   3.5e-02 6.7e-01 \n",
      "43  1.00e+00   3.4e-02 6.7e-01 \n",
      "44  1.00e+00   5.4e-02 1.0e+00 \n"
     ]
    },
    {
     "name": "stdout",
     "output_type": "stream",
     "text": [
      "45  1.00e+00   5.9e-02 1.0e+00 \n",
      "46  1.00e+00   9.0e-02 1.0e+00 \n",
      "47  1.00e+00   9.6e-02 1.0e+00 \n",
      "48  1.00e+00   1.4e-01 1.0e+00 \n",
      "49  1.00e+00   1.5e-01 1.0e+00 \n",
      "50  1.00e+00   1.2e-01 6.7e-01 \n",
      "51  1.00e+00   1.3e-01 6.7e-01 \n"
     ]
    },
    {
     "name": "stdout",
     "output_type": "stream",
     "text": [
      "52  1.00e+00   2.0e-01 1.0e+00 \n",
      "53  1.00e+00   2.2e-01 1.0e+00 \n",
      "54  1.00e+00   1.7e-01 6.7e-01 \n",
      "55  1.00e+00   1.6e-01 6.7e-01 \n",
      "56  1.00e+00   1.4e-01 6.7e-01 \n",
      "57  1.00e+00   1.3e-01 6.7e-01 \n"
     ]
    },
    {
     "name": "stdout",
     "output_type": "stream",
     "text": [
      "58  1.00e+00   1.1e-01 6.7e-01 \n",
      "59  1.00e+00   9.7e-02 6.7e-01 \n",
      "60  1.00e+00   7.8e-02 6.7e-01 \n"
     ]
    },
    {
     "name": "stdout",
     "output_type": "stream",
     "text": [
      "61  1.00e+00   6.9e-02 6.7e-01 \n",
      "62  1.00e+00   5.6e-02 6.7e-01 \n",
      "63  1.00e+00   4.7e-02 6.7e-01 \n",
      "64  1.00e+00   4.0e-02 6.7e-01 \n",
      "65  1.00e+00   3.3e-02 6.7e-01 \n",
      "66  1.00e+00   2.8e-02 6.7e-01 \n",
      "67  1.00e+00   2.3e-02 6.7e-01 \n",
      "68  1.00e+00   2.0e-02 6.7e-01 \n",
      "69  1.00e+00   1.7e-02 6.7e-01 \n"
     ]
    },
    {
     "name": "stdout",
     "output_type": "stream",
     "text": [
      "70  1.00e+00   1.3e-02 6.7e-01 \n",
      "71  1.00e+00   1.2e-02 6.7e-01 \n",
      "72  1.00e+00   9.6e-03 6.7e-01 \n",
      "73  1.00e+00   8.0e-03 6.7e-01 \n",
      "74  1.00e+00   6.8e-03 6.7e-01 \n",
      "75  1.00e+00   5.6e-03 6.7e-01 \n",
      "76  1.00e+00   4.8e-03 6.7e-01 \n"
     ]
    },
    {
     "name": "stdout",
     "output_type": "stream",
     "text": [
      "77  1.00e+00   3.9e-03 6.7e-01 \n",
      "78  1.00e+00   3.3e-03 6.7e-01 \n",
      "79  1.00e+00   2.8e-03 6.7e-01 \n",
      "80  1.00e+00   2.3e-03 6.7e-01 \n",
      "81  1.00e+00   2.0e-03 6.7e-01 \n",
      "82  1.00e+00   1.6e-03 6.7e-01 \n",
      "83  1.00e+00   1.4e-03 6.7e-01 \n",
      "84  1.00e+00   1.2e-03 6.7e-01 \n"
     ]
    },
    {
     "name": "stdout",
     "output_type": "stream",
     "text": [
      "85  1.00e+00   9.5e-04 6.7e-01 \n",
      "86  1.00e+00   8.1e-04 6.7e-01 \n",
      "87  1.00e+00   6.7e-04 6.7e-01 \n",
      "88  1.00e+00   5.6e-04 6.7e-01 \n",
      "89  1.00e+00   4.7e-04 6.7e-01 \n",
      "90  1.00e+00   3.9e-04 6.7e-01 \n",
      "91  1.00e+00   3.3e-04 6.7e-01 \n",
      "92  1.00e+00   2.8e-04 6.7e-01 \n",
      "93  1.00e+00   2.3e-04 6.7e-01 \n"
     ]
    },
    {
     "name": "stdout",
     "output_type": "stream",
     "text": [
      "94  1.00e+00   2.0e-04 6.7e-01 \n",
      "95  1.00e+00   1.6e-04 6.7e-01 \n",
      "96  1.00e+00   1.4e-04 6.7e-01 \n",
      "97  1.00e+00   1.1e-04 6.7e-01 \n",
      "98  1.00e+00   9.5e-05 6.7e-01 \n",
      "99  1.00e+00   8.0e-05 6.7e-01 \n",
      "100  1.00e+00   6.6e-05 6.7e-01 \n",
      "\n",
      "METHOD FAILED - Reached Maximum Number of Iterations (100) \n"
     ]
    },
    {
     "data": {
      "text/plain": [
       "500-element Vector{Float64}:\n",
       " 0.9999999977190717\n",
       " 0.9999999990799523\n",
       " 0.9999999944858622\n",
       " 0.9999999931392778\n",
       " 0.9999999953346848\n",
       " 0.9999999995751893\n",
       " 1.0000000031136616\n",
       " 1.0000000032505951\n",
       " 1.000000000229861\n",
       " 0.9999999974986471\n",
       " ⋮\n",
       " 1.0000000023781461\n",
       " 0.9999999989418505\n",
       " 0.9999999950199809\n",
       " 0.9999999936459192\n",
       " 0.9999999955417725\n",
       " 0.999999999639833\n",
       " 1.000000003501212\n",
       " 1.0000000037618333\n",
       " 1.0000000111199292"
      ]
     },
     "metadata": {},
     "output_type": "display_data"
    }
   ],
   "source": [
    "# Use previous functions to solve genrose.\n",
    "x0 = ones(500)*0.99\n",
    "reset!(model)\n",
    "sol = bfgs_quasi_newton_armijo(model, x0, verbose=true) "
   ]
  }
 ],
 "metadata": {
  "kernelspec": {
   "display_name": "Julia 1.8.4",
   "language": "julia",
   "name": "julia-1.8"
  },
  "language_info": {
   "file_extension": ".jl",
   "mimetype": "application/julia",
   "name": "julia",
   "version": "1.8.4"
  }
 },
 "nbformat": 4,
 "nbformat_minor": 4
}
