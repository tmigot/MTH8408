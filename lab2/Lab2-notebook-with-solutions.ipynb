{
 "cells": [
  {
   "cell_type": "markdown",
   "metadata": {},
   "source": [
    " # MTH8408 : Méthodes d'optimisation et contrôle optimal\n",
    " ## Laboratoire 2: Optimisation sans contraintes\n",
    "Tangi Migot"
   ]
  },
  {
   "cell_type": "code",
   "execution_count": 1,
   "metadata": {},
   "outputs": [
    {
     "name": "stderr",
     "output_type": "stream",
     "text": [
      "\u001b[36m\u001b[1m[ \u001b[22m\u001b[39m\u001b[36m\u001b[1mInfo: \u001b[22m\u001b[39mPrecompiling ADNLPModels [54578032-b7ea-4c30-94aa-7cbd1cce6c9a]\n"
     ]
    }
   ],
   "source": [
    "using ADNLPModels, LinearAlgebra, NLPModels, Printf"
   ]
  },
  {
   "cell_type": "markdown",
   "metadata": {},
   "source": [
    "On pourra trouver de la documentation sur `ADNLPModels` et `NLPModels` ici:\n",
    "- [juliasmoothoptimizers.github.io/NLPModels.jl/dev/](https://juliasmoothoptimizers.github.io/NLPModels.jl/dev/)\n",
    "- [juliasmoothoptimizers.github.io/ADNLPModels.jl/dev/](https://juliasmoothoptimizers.github.io/ADNLPModels.jl/dev/)"
   ]
  },
  {
   "cell_type": "code",
   "execution_count": 2,
   "metadata": {},
   "outputs": [
    {
     "data": {
      "text/plain": [
       "H (generic function with 1 method)"
      ]
     },
     "execution_count": 2,
     "metadata": {},
     "output_type": "execute_result"
    }
   ],
   "source": [
    "# Problème test:\n",
    "f(x) = x[1]^2 * (2*x[1] - 3) - 6*x[1]*x[2] * (x[1] - x[2] - 1) # fonction objectif vue en classe\n",
    "g(x) = 6 * [x[1]^2 - x[1] - 2*x[1]*x[2] + x[2]^2 + x[2]; -x[1]^2 + 2*x[1]*x[2] + x[1]] # le gradient de f\n",
    "H(x) = 6 * [2*x[1]-1-2*x[2] -2*x[1]+2*x[2]+1; -2*x[1]+2*x[2]+1 2*x[1]] # la Hessienne de f"
   ]
  },
  {
   "cell_type": "markdown",
   "metadata": {},
   "source": [
    "### Exercice 1: Newton avec recherche linéaire - amélioration du code"
   ]
  },
  {
   "cell_type": "markdown",
   "metadata": {},
   "source": [
    "Ci-dessous, vous avez le code de deux fonctions qui ont été vues dans le cours, la recherche linéaire qui satisfait Armijo, et une méthode de Newton avec cette recherche linéaire. Le but de ce laboratoire est d'implémenter d'autres méthodes utiles pour résoudre des problèmes de grandes dimensions."
   ]
  },
  {
   "cell_type": "code",
   "execution_count": 3,
   "metadata": {},
   "outputs": [
    {
     "data": {
      "text/plain": [
       "armijo (generic function with 1 method)"
      ]
     },
     "execution_count": 3,
     "metadata": {},
     "output_type": "execute_result"
    }
   ],
   "source": [
    "#Amélioration possibles: return also the value of f\n",
    "function armijo(xk, dk, fk, gk, f)\n",
    "  slope = dot(gk, dk) #doit être <0\n",
    "  t = 1.0\n",
    "  while f(xk + t * dk) > fk + 1.0e-4 * t * slope\n",
    "    t /= 1.5\n",
    "  end\n",
    "  return t\n",
    "end"
   ]
  },
  {
   "cell_type": "code",
   "execution_count": null,
   "metadata": {},
   "outputs": [],
   "source": [
    "#Test pour vérifier que la fonction armijo fonctionne correctement.\n",
    "using Test #le package Test définit (entre autre) la macro @test qui permet de faire des tests unitaires :-)\n",
    "xk = ones(2)\n",
    "gk = g(xk)\n",
    "dk = - gk\n",
    "fk = f(xk)\n",
    "t  = armijo(xk, dk, fk, gk, f)\n",
    "@test t < 1\n",
    "@test f(xk + t * dk) <= fk + 1.0e-4 * t * dot(gk,dk)\n",
    "\n",
    "xk = [1.5, 0.5]\n",
    "fk = f(xk)\n",
    "gk = g(xk)\n",
    "dk = - gk\n",
    "t  = armijo(xk, dk, fk, gk, f)\n",
    "@test t < 1\n",
    "@test f(xk + t * dk) <= f(xk) + 1.0e-4 * t * dot(g(xk),dk)\n"
   ]
  },
  {
   "cell_type": "code",
   "execution_count": 4,
   "metadata": {},
   "outputs": [
    {
     "data": {
      "text/plain": [
       "newton_armijo (generic function with 1 method)"
      ]
     },
     "execution_count": 4,
     "metadata": {},
     "output_type": "execute_result"
    }
   ],
   "source": [
    "function newton_armijo(f, g, H, x0; verbose::Bool = true)\n",
    "  xk  = x0\n",
    "  fk  = f(xk)\n",
    "  gk = g(xk)\n",
    "  gnorm = gnorm0 = norm(gk)\n",
    "  k = 0\n",
    "  verbose && @printf \"%2s %9s %9s\\n\" \"k\" \"fk\" \"||∇f(x)||\"\n",
    "  verbose && @printf \"%2d %9.2e %9.1e\\n\" k fk gnorm\n",
    "  while gnorm > 1.0e-6 + 1.0e-6 * gnorm0 && k < 100\n",
    "    Hk = H(xk)\n",
    "    dk = - Hk \\ gk\n",
    "    slope = dot(dk, gk)\n",
    "    λ = 0.0\n",
    "    while slope ≥ -1.0e-4 * norm(dk) * gnorm\n",
    "      λ = max(1.0e-3, 10 * λ)\n",
    "      dk = - ((Hk + λ * I ) \\ gk)\n",
    "      slope = dot(dk, gk)\n",
    "    end\n",
    "    t = armijo(xk, dk, fk, gk, f)\n",
    "    xk += t * dk\n",
    "    fk = f(xk)\n",
    "    gk = g(xk)\n",
    "    gnorm = norm(gk)\n",
    "    k += 1\n",
    "    verbose && @printf \"%2d %9.2e %9.1e %7.1e \\n\" k fk gnorm t\n",
    "  end\n",
    "  return xk\n",
    "end"
   ]
  },
  {
   "cell_type": "code",
   "execution_count": 5,
   "metadata": {},
   "outputs": [
    {
     "name": "stdout",
     "output_type": "stream",
     "text": [
      " k        fk ||∇f(x)||\n",
      " 0  1.00e+00   4.5e+00\n",
      " 1  5.08e-02   8.4e-01 1.0e+00 \n",
      " 2  4.73e-04   7.6e-02 1.0e+00 \n",
      " 3  6.97e-08   9.1e-04 1.0e+00 \n",
      " 4  1.62e-15   1.4e-07 1.0e+00 \n"
     ]
    },
    {
     "ename": "LoadError",
     "evalue": "LoadError: UndefVarError: @test not defined\nin expression starting at In[5]:2",
     "output_type": "error",
     "traceback": [
      "LoadError: UndefVarError: @test not defined\nin expression starting at In[5]:2",
      ""
     ]
    }
   ],
   "source": [
    "sol = newton_armijo(f, g, H, [.5, .5])\n",
    "@test g(sol) ≈ zeros(2) atol = 1.0e-6"
   ]
  },
  {
   "cell_type": "markdown",
   "metadata": {},
   "source": [
    "On veut améliorer le code de la fonction `newton_armijo` avec les ajouts suivants:\n",
    "- Changer les paramètre d'entrées de la fonction pour un `nlp`\n",
    "- Avant d'appeler la recherche linéaire, si `slope = dot(dk, gk)` est plus grand que `-1.0e-4 * norm(dk) * gnorm`, on modifie le système. On fait maximum 5 mise à jour de `λ`, sinon on prend l'opposé du gradient.\n",
    "```\n",
    "    λ = 0.0\n",
    "    while slope ≥ -1.0e-4 * norm(dk) * gnorm\n",
    "      λ = max(1.0e-3, 10 * λ)\n",
    "      dk = - ((Hk + λ * I ) \\ gk)\n",
    "      slope = dot(dk, gk)\n",
    "    end\n",
    "```\n",
    "Ajouter un compteur sur le nombre de mises à jour de `λ` et ajuster `dk = - gk` si la limite est atteinte.\n",
    "- On veut aussi détecter et éventuellement arrêter la boucle `while` si la fonction objectif `fk` devient trop petite/négative (inférieure à `-1e15`), i.e. le problème est non-bornée inférieurement.\n",
    "- On veut ajouter deux critères d'arrêts supplémentaires: \n",
    "  - un compteur sur le nombre d'évaluations de f (maximum 1000). Utiliser `neval_obj(nlp)`.\n",
    "  -  une limite de temps d'execution, `max_time = 60.0`. Utiliser la fonction `time()`.\n",
    "- Enfin, on voudrait aussi voir un message à l'écran si l'algorithme n'a pas trouvé la solution, i.e. il s'est arrêté à cause de la limite sur le nombre d'itérations, temps, évaluation de fonctions, problème non-borné."
   ]
  },
  {
   "cell_type": "code",
   "execution_count": 6,
   "metadata": {},
   "outputs": [
    {
     "data": {
      "text/plain": [
       "newton_armijo (generic function with 2 methods)"
      ]
     },
     "execution_count": 6,
     "metadata": {},
     "output_type": "execute_result"
    }
   ],
   "source": [
    "#SOLUTION: fonction à modifier\n",
    "function newton_armijo(nlp, x0; verbose::Bool = true)\n",
    "  xk  = x0\n",
    "  fk  = obj(nlp, xk)\n",
    "  gk = grad(nlp, xk)\n",
    "  gnorm = gnorm0 = norm(gk)\n",
    "  k = 0\n",
    "  verbose && @printf \"%2s %9s %9s\\n\" \"k\" \"fk\" \"||∇f(x)||\"\n",
    "  verbose && @printf \"%2d %9.2e %9.1e\\n\" k fk gnorm\n",
    "  while gnorm > 1.0e-6 + 1.0e-6 * gnorm0 && k < 100 && fk > -1e15\n",
    "    Hk = hess(nlp, xk)\n",
    "    dk = - Hk \\ gk\n",
    "    slope = dot(dk, gk)\n",
    "    λ = 0.0\n",
    "    j = 0\n",
    "    while slope ≥ -1.0e-4 * norm(dk) * gnorm && (j < 5)\n",
    "      λ = max(1.0e-3, 10 * λ)\n",
    "      dk = - ((Hk + λ * I ) \\ gk)\n",
    "      slope = dot(dk, gk)\n",
    "      j += 1\n",
    "    end\n",
    "    if j==5\n",
    "            dk = -gk\n",
    "    end\n",
    "    t = armijo(xk, dk, fk, gk, x -> obj(nlp, x))\n",
    "    xk += t * dk\n",
    "    fk = obj(nlp, xk)\n",
    "    gk = grad(nlp, xk)\n",
    "    gnorm = norm(gk)\n",
    "    k += 1\n",
    "    verbose && @printf \"%2d %9.2e %9.1e %7.1e \\n\" k fk gnorm t\n",
    "  end\n",
    "  return xk\n",
    "end"
   ]
  },
  {
   "cell_type": "code",
   "execution_count": 7,
   "metadata": {},
   "outputs": [
    {
     "name": "stdout",
     "output_type": "stream",
     "text": [
      " k        fk ||∇f(x)||\n",
      " 0  0.00e+00   0.0e+00\n"
     ]
    },
    {
     "data": {
      "text/plain": [
       "2-element Vector{Float64}:\n",
       " 0.0\n",
       " 0.0"
      ]
     },
     "execution_count": 7,
     "metadata": {},
     "output_type": "execute_result"
    }
   ],
   "source": [
    "#Test\n",
    "f(x) = x[1]^2 * (2*x[1] - 3) - 6*x[1]*x[2] * (x[1] - x[2] - 1)\n",
    "x0 = zeros(2)\n",
    "nlp = ADNLPModel(f, x0)\n",
    "\n",
    "newton_armijo(nlp, x0)"
   ]
  },
  {
   "cell_type": "code",
   "execution_count": 8,
   "metadata": {},
   "outputs": [
    {
     "name": "stdout",
     "output_type": "stream",
     "text": [
      " k        fk ||∇f(x)||\n",
      " 0  1.74e+05   3.3e+04\n",
      " 1  3.35e+04   9.7e+03 1.0e+00 \n",
      " 2  6.24e+03   2.8e+03 1.0e+00 \n",
      " 3  1.10e+03   8.2e+02 1.0e+00 \n",
      " 4  1.81e+02   2.3e+02 1.0e+00 \n",
      " 5  2.69e+01   6.2e+01 1.0e+00 \n",
      " 6  2.68e+00   1.5e+01 1.0e+00 \n",
      " 7  1.00e-01   2.6e+00 1.0e+00 \n",
      " 8  3.28e-04   1.4e-01 1.0e+00 \n",
      " 9  4.53e-09   5.3e-04 1.0e+00 \n",
      "sol = [2.9999960815075677, 2.000017736641731]\n"
     ]
    },
    {
     "data": {
      "text/plain": [
       "2-element Vector{Float64}:\n",
       " 2.9999960815075677\n",
       " 2.000017736641731"
      ]
     },
     "execution_count": 8,
     "metadata": {},
     "output_type": "execute_result"
    }
   ],
   "source": [
    "using Logging, Test\n",
    "fH(x) = (x[2]+x[1].^2-11).^2+(x[1]+x[2].^2-7).^2\n",
    "x0H = [10., 20.]\n",
    "himmelblau = ADNLPModel(fH, x0H)\n",
    "ep1 = 1e-6 + norm(grad(himmelblau, himmelblau.meta.x0)) * 1e-6\n",
    "sol = newton_armijo(himmelblau, himmelblau.meta.x0) \n",
    "@test norm(grad(himmelblau, sol)) ≤ ep1\n",
    "@test sol ≈ [3, 2] atol = ep1\n",
    "@show sol"
   ]
  },
  {
   "cell_type": "code",
   "execution_count": 9,
   "metadata": {},
   "outputs": [
    {
     "name": "stdout",
     "output_type": "stream",
     "text": [
      " k        fk ||∇f(x)||\n",
      " 0  1.00e+00   4.1e+00\n",
      " 1 -1.25e-01   7.5e-01 1.0e+00 \n",
      " 2 -1.95e+00   4.7e+00 1.0e+00 \n",
      " 3 -2.09e+02   1.1e+02 1.0e+00 \n",
      " 4 -1.39e+06   3.7e+04 1.0e+00 \n",
      " 5 -5.29e+13   4.2e+09 1.0e+00 \n",
      " 6 -7.56e+28   5.4e+19 1.0e+00 \n",
      "sol = [4.2282080610520687e9, 0.0, 0.0]\n"
     ]
    },
    {
     "data": {
      "text/plain": [
       "3-element Vector{Float64}:\n",
       " 4.2282080610520687e9\n",
       " 0.0\n",
       " 0.0"
      ]
     },
     "execution_count": 9,
     "metadata": {},
     "output_type": "execute_result"
    }
   ],
   "source": [
    "problem2 = ADNLPModel(x->-x[1]^3 + x[2]^2 + x[3]^2, ones(3))\n",
    "ep2 = 1e-6 + norm(grad(problem2, problem2.meta.x0)) * 1e-6\n",
    "sol = newton_armijo(problem2, problem2.meta.x0) \n",
    "# @test stats.status == :unbounded\n",
    "@test obj(problem2, sol) ≤ -1e15\n",
    "@show sol"
   ]
  },
  {
   "cell_type": "code",
   "execution_count": 10,
   "metadata": {},
   "outputs": [
    {
     "name": "stdout",
     "output_type": "stream",
     "text": [
      " k        fk ||∇f(x)||\n",
      " 0  2.42e+01   2.3e+02\n",
      " 1  4.73e+00   4.6e+00 1.0e+00 \n",
      " 2  4.12e+00   3.1e+01 1.3e-01 \n",
      " 3  3.22e+00   1.0e+01 1.0e+00 \n",
      " 4  2.84e+00   2.3e+01 6.7e-01 \n",
      " 5  2.05e+00   5.1e+00 1.0e+00 \n",
      " 6  1.73e+00   1.2e+01 4.4e-01 \n",
      " 7  1.24e+00   3.8e+00 1.0e+00 \n",
      " 8  1.03e+00   9.5e+00 6.7e-01 \n",
      " 9  6.69e-01   1.8e+00 1.0e+00 \n",
      "10  6.08e-01   1.2e+01 6.7e-01 \n",
      "11  2.95e-01   8.0e-01 1.0e+00 \n",
      "12  2.13e-01   7.2e+00 4.4e-01 \n",
      "13  1.07e-01   9.9e-01 1.0e+00 \n",
      "14  6.57e-02   5.3e+00 6.7e-01 \n",
      "15  2.50e-02   8.0e-01 1.0e+00 \n",
      "16  1.35e-02   4.3e+00 1.0e+00 \n",
      "17  1.35e-03   8.0e-02 1.0e+00 \n",
      "18  1.45e-04   5.3e-01 1.0e+00 \n",
      "19  1.77e-07   7.5e-04 1.0e+00 \n",
      "20  3.16e-12   7.8e-05 1.0e+00 \n",
      "sol = [0.9999997374059799, 0.9999992988781841]\n"
     ]
    },
    {
     "data": {
      "text/plain": [
       "2-element Vector{Float64}:\n",
       " 0.9999997374059799\n",
       " 0.9999992988781841"
      ]
     },
     "execution_count": 10,
     "metadata": {},
     "output_type": "execute_result"
    }
   ],
   "source": [
    "roz(x) = 100 *  (x[2] - x[1]^2)^2 + (x[1] - 1.0)^2\n",
    "rosenbrock = ADNLPModel(roz, [-1.2, 1.0])\n",
    "ep2 = 1e-6 + norm(grad(rosenbrock, rosenbrock.meta.x0)) * 1e-6\n",
    "sol = newton_armijo(rosenbrock, rosenbrock.meta.x0) \n",
    "@test sol ≈ [1., 1.] atol = ep2\n",
    "@show sol"
   ]
  },
  {
   "cell_type": "code",
   "execution_count": 11,
   "metadata": {},
   "outputs": [
    {
     "name": "stdout",
     "output_type": "stream",
     "text": [
      " k        fk ||∇f(x)||\n",
      " 0  1.00e+00   6.0e-03\n",
      " 1  1.00e+00   8.6e-02 1.0e+00 \n",
      " 2  9.37e-01   1.3e+00 1.0e+00 \n",
      " 3 -4.66e+00   1.3e+01 1.0e+00 \n",
      " 4 -1.14e+03   3.5e+02 1.0e+00 \n",
      " 5 -4.11e+07   5.4e+05 1.0e+00 \n",
      " 6 -5.52e+16   3.1e+11 1.0e+00 \n"
     ]
    },
    {
     "data": {
      "text/plain": [
       "\u001b[32m\u001b[1mTest Passed\u001b[22m\u001b[39m"
      ]
     },
     "execution_count": 11,
     "metadata": {},
     "output_type": "execute_result"
    }
   ],
   "source": [
    "f(x) = x[1]^2 * (2*x[1] - 3) - 6*x[1]*x[2] * (x[1] - x[2] - 1)\n",
    "x0 = [-1.001, -1.001]\n",
    "pb_du_cours = ADNLPModel(f, x0) #ou [1.5, .5] ou [.5, .5]\n",
    "ep3 = 1e-6 + norm(grad(pb_du_cours, x0)) * 1e-6\n",
    "sol = newton_armijo(pb_du_cours, x0) \n",
    "@test norm(grad(pb_du_cours, sol)) ≤ ep3 || obj(pb_du_cours, sol) <= -1e15"
   ]
  },
  {
   "cell_type": "code",
   "execution_count": 12,
   "metadata": {},
   "outputs": [
    {
     "name": "stdout",
     "output_type": "stream",
     "text": [
      "\u001b[0m\u001b[1mTest Summary:              | \u001b[22m\u001b[32m\u001b[1mPass  \u001b[22m\u001b[39m\u001b[36m\u001b[1mTotal  \u001b[22m\u001b[39m\u001b[0m\u001b[1mTime\u001b[22m\n",
      "Test set for newton_armijo | \u001b[32m   7  \u001b[39m\u001b[36m    7  \u001b[39m\u001b[0m1.1s\n"
     ]
    },
    {
     "data": {
      "text/plain": [
       "Test.DefaultTestSet(\"Test set for newton_armijo\", Any[], 7, false, false, true, 1.675817896878e9, 1.675817898012e9)"
      ]
     },
     "execution_count": 12,
     "metadata": {},
     "output_type": "execute_result"
    }
   ],
   "source": [
    "# Tests secrets 1: contactez votre professeur pour avoir ces tests additionels si vous êtes prêt.\n",
    "using Test\n",
    "\n",
    "@testset \"Test set for newton_armijo\" begin\n",
    "\t#Test problem:\n",
    "\tfH(x) = (x[2]+x[1].^2-11).^2+(x[1]+x[2].^2-7).^2\n",
    "\tx0H = [10., 20.]\n",
    "\thimmelblau = ADNLPModel(fH, x0H)\n",
    "\n",
    "\tproblem2 = ADNLPModel(x->-x[1]^3 + x[2]^2 + x[3]^2, ones(3))\n",
    "\n",
    "\troz(x) = 100 *  (x[2] - x[1]^2)^2 + (x[1] - 1.0)^2\n",
    "\trosenbrock = ADNLPModel(roz, [-1.2, 1.0])\n",
    "\n",
    "\tf(x) = x[1]^2 * (2*x[1] - 3) - 6*x[1]*x[2] * (x[1] - x[2] - 1)\n",
    "\tpb_du_cours = ADNLPModel(f, [-1.001, -1.001]) #ou [1.5, .5] ou [.5, .5]\n",
    "\n",
    "\n",
    "\t######################################### newton_armijo ##################\n",
    "\n",
    "    #=\n",
    "    Vérifiez que vous pouvez mettre une limite de temps de 1s.\n",
    "    Puis faites tournez votre algorithme sur un des probléme test.\n",
    "    L'algorithme devrait s'arrêter en environ 1sec.\n",
    "\n",
    "    Vérifiez que vous pouvez mettre une limite de 2 évaluations d'objectif.\n",
    "    Puis faites tournez votre algorithme sur un des probléme test.\n",
    "    L'algorithme devrait s'arrêter en environ 1 itération.\n",
    "    =#\n",
    "\n",
    "\t#Unit/Validation Tests\n",
    "    ep1 = 1e-6 + norm(grad(himmelblau, himmelblau.meta.x0)) * 1e-6\n",
    "\tsol = newton_armijo(himmelblau, himmelblau.meta.x0, verbose = false) \n",
    "\t@test norm(grad(himmelblau, sol)) ≤ ep1\n",
    "\t@test sol ≈ [3, 2] atol = ep1\n",
    "\n",
    "    ep2 = 1e-6 + norm(grad(problem2, problem2.meta.x0)) * 1e-6\n",
    "\tsol =  newton_armijo(problem2, problem2.meta.x0, verbose = false) \n",
    "\t# @test stats.status == :unbounded\n",
    "    @test obj(problem2, sol) ≤ -1e15\n",
    "\n",
    "    ep2 = 1e-6 + norm(grad(rosenbrock, rosenbrock.meta.x0)) * 1e-6\n",
    "\tsol = newton_armijo(rosenbrock, rosenbrock.meta.x0, verbose = false) \n",
    "\t@test sol ≈ [1., 1.] atol = ep2\n",
    "\n",
    "    ep3 = 1e-6 + norm(grad(pb_du_cours, [-1.001, -1.001])) * 1e-6\n",
    "\tsol = newton_armijo(pb_du_cours, [-1.001, -1.001], verbose = false) \n",
    "\t@test norm(grad(pb_du_cours, sol)) ≤ ep3 || obj(pb_du_cours, sol) <= -1e15\n",
    "\n",
    "    ep4 = 1e-6 + norm(grad(pb_du_cours, [1.5, .5])) * 1e-6\n",
    "\tsol = newton_armijo(pb_du_cours, [1.5, .5], verbose = false) \n",
    "\t@test norm(grad(pb_du_cours, sol)) ≤ ep4 || obj(pb_du_cours, sol) <= -1e15\n",
    "\n",
    "    ep5 = 1e-6 + norm(grad(pb_du_cours, [.5, .5])) * 1e-6\n",
    "\tsol = newton_armijo(pb_du_cours, [.5, .5], verbose = false) \n",
    "\t@test norm(grad(pb_du_cours, sol)) ≤ ep5 || obj(pb_du_cours, sol) <= -1e15\n",
    "end"
   ]
  },
  {
   "cell_type": "markdown",
   "metadata": {},
   "source": [
    "### Exercice 2: LDLt-Newton avec recherche linéaire"
   ]
  },
  {
   "cell_type": "markdown",
   "metadata": {},
   "source": [
    "On va maintenant modifier la méthode de Newton vu précédemment pour utiliser un package qui s'occupe de calculer une factorisation de la matrice hessienne tel que:\n",
    "$$\n",
    "\\nabla^2 f(x) = LDL^T.\n",
    "$$\n",
    "Ce type de factorisation n'est possible que si la matrice hessienne est définie positive, dans le cas contraire on a besoin de régularisé le système comme dans l'exercice précédent.\n",
    "\n",
    "Pour résoudre le système linéaire en utilisant cette factorisation, on va utiliser le package [`LDLFactorizations`](https://github.com/JuliaSmoothOptimizers/LDLFactorizations.jl):"
   ]
  },
  {
   "cell_type": "code",
   "execution_count": 13,
   "metadata": {},
   "outputs": [],
   "source": [
    "using LDLFactorizations, LinearAlgebra"
   ]
  },
  {
   "cell_type": "markdown",
   "metadata": {},
   "source": [
    "Un tutoriel sur l'utilisation de `LDLFactorizations` est disponible sur la documentation du package sur github ou encore [à ce lien](https://juliasmoothoptimizers.github.io/LDLFactorizations.jl/dev/tutorial/)."
   ]
  },
  {
   "cell_type": "markdown",
   "metadata": {},
   "source": [
    "Voici un exemple d'utilisation de ce package. La matrice dont on veut calculer la factorisation doit être de type `Symmetric`."
   ]
  },
  {
   "cell_type": "code",
   "execution_count": 14,
   "metadata": {},
   "outputs": [
    {
     "data": {
      "text/plain": [
       "true"
      ]
     },
     "execution_count": 14,
     "metadata": {},
     "output_type": "execute_result"
    }
   ],
   "source": [
    "A = ones(2,2) #cette matrice symétrique, mais pas du type Symmetric\n",
    "              #à noter que cette matrice n'est pas définie positive.\n",
    "typeof(A) <: Symmetric #false\n",
    "A = Symmetric(A)\n",
    "typeof(A) <: Symmetric #true :)"
   ]
  },
  {
   "cell_type": "markdown",
   "metadata": {},
   "source": [
    "Deuxième étape, le package fait une phase d'analyse de la matrice avec `ldl_analyze` en créant une structure pratique pour les diverses fonctions du package."
   ]
  },
  {
   "cell_type": "code",
   "execution_count": 15,
   "metadata": {},
   "outputs": [
    {
     "data": {
      "text/plain": [
       "1.1102230246251565e-16"
      ]
     },
     "execution_count": 15,
     "metadata": {},
     "output_type": "execute_result"
    }
   ],
   "source": [
    "A = -rand(2, 2)\n",
    "sol = rand(2)\n",
    "b = A*sol #on veut résoudre le système A*x=b\n",
    "\n",
    "# LDLFactorizations va en réalité demander la matrice triangulaire supérieure\n",
    "A = Symmetric(triu(A), :U)\n",
    "S = ldl_analyze(A)\n",
    "ldl_factorize!(A, S)\n",
    "x = S \\ b # x = A \\b ça va être résolu par Julia \n",
    "norm(A * x - b)"
   ]
  },
  {
   "cell_type": "code",
   "execution_count": 16,
   "metadata": {},
   "outputs": [
    {
     "data": {
      "text/plain": [
       "2×2 Matrix{Float64}:\n",
       " 0.0  1.0\n",
       " 1.0  0.0"
      ]
     },
     "execution_count": 16,
     "metadata": {},
     "output_type": "execute_result"
    }
   ],
   "source": [
    "A = [0. 1.; 1. 0.]"
   ]
  },
  {
   "cell_type": "code",
   "execution_count": 17,
   "metadata": {},
   "outputs": [
    {
     "data": {
      "text/plain": [
       "LDLFactorizations.LDLFactorization{Float64, Int64, Int64, Int64}(true, false, true, 2, [2, -1], [0, 0], [1, 2], [1, 2], [1, 2], [1, 2, 2], [1, 1, 1], Int64[], [3], [0.0], [0.0, 8.11747406e-316], [0.0, 8.1174373e-316], [0, 3135826977], 0.0, 0.0, 0.0, 2)"
      ]
     },
     "execution_count": 17,
     "metadata": {},
     "output_type": "execute_result"
    }
   ],
   "source": [
    "A = Symmetric(triu(A), :U)\n",
    "S = ldl_analyze(A)\n",
    "ldl_factorize!(A, S)"
   ]
  },
  {
   "cell_type": "code",
   "execution_count": 18,
   "metadata": {},
   "outputs": [
    {
     "data": {
      "text/plain": [
       "2-element Vector{Float64}:\n",
       " 0.0\n",
       " 8.11747406e-316"
      ]
     },
     "execution_count": 18,
     "metadata": {},
     "output_type": "execute_result"
    }
   ],
   "source": [
    "S.d"
   ]
  },
  {
   "cell_type": "markdown",
   "metadata": {},
   "source": [
    "La matrice `A` factorisée par $LDL^T$ n'était pas forcément définie positive. On peut le voir sur les valeurs de $D$."
   ]
  },
  {
   "cell_type": "code",
   "execution_count": 19,
   "metadata": {},
   "outputs": [
    {
     "data": {
      "text/plain": [
       "2-element Vector{Float64}:\n",
       " 0.0\n",
       " 8.11747406e-316"
      ]
     },
     "execution_count": 19,
     "metadata": {},
     "output_type": "execute_result"
    }
   ],
   "source": [
    "S.d #c'est le vecteur qui correspond à la matrice diagonale D."
   ]
  },
  {
   "cell_type": "markdown",
   "metadata": {},
   "source": [
    "Pour l'optimisation, dans le cas où des valeurs de $D$ sont négatives, i.e. `minimum(S.d) <= 0.`, on ajoutera une correction pour être sûr d'obtenir une direction de descente. On pourra choisir un des deux:\n",
    "- `S.d   = abs.(S.d)` #la valeur absolue des valeurs négatives\n",
    "- `S.d .+= minimum(S.d) + epsilon`\n",
    "\n",
    "`LDLFactorizations` a une façon automatique d'utiliser la deuxième option, il suffit de modifier la structure `S` obtenue par `ldl_analyze` avant la factorisation:\n",
    "```\n",
    "S.tol = 1e-8 #régularise les valeurs plus petites que cette tolérance\n",
    "S.n_d = 0 #taille de la régularisation\n",
    "S.r1 = -eps()^(1/4)\n",
    "S.r2 = eps()^(1/2)\n",
    "```"
   ]
  },
  {
   "cell_type": "markdown",
   "metadata": {},
   "source": [
    "#### Utiliser cette technique pour calculer la direction de descente:"
   ]
  },
  {
   "cell_type": "code",
   "execution_count": 20,
   "metadata": {},
   "outputs": [
    {
     "data": {
      "text/plain": [
       "newton_ldlt_armijo (generic function with 1 method)"
      ]
     },
     "execution_count": 20,
     "metadata": {},
     "output_type": "execute_result"
    }
   ],
   "source": [
    "# Solution: copier-coller votre newton_armijo ici et modifier le calcul de la direction avec LDLFactorizations\n",
    "function newton_ldlt_armijo(nlp, x0; verbose::Bool = true)\n",
    "  xk  = x0\n",
    "  fk  = obj(nlp, xk)\n",
    "  gk = grad(nlp, xk)\n",
    "  gnorm = gnorm0 = norm(gk)\n",
    "  k = 0\n",
    "  verbose && @printf \"%2s %9s %9s\\n\" \"k\" \"fk\" \"||∇f(x)||\"\n",
    "  verbose && @printf \"%2d %9.2e %9.1e\\n\" k fk gnorm\n",
    "  while gnorm > 1.0e-6 + 1.0e-6 * gnorm0 && k < 100 && fk > -1e15\n",
    "    Hk = Symmetric(triu(hess(nlp, xk)), :U)\n",
    "    Sk = ldl_analyze(Hk)\n",
    "    # Sk.tol = 1e-8 #régularise les valeurs plus petites que cette tolérance\n",
    "    # Sk.n_d = 10 #taille de la régularisation\n",
    "    # Sk.r1 = eps()^(1/4)\n",
    "    # Sk.r2 = eps()^(1/2)\n",
    "    ldl_factorize!(Hk, Sk)\n",
    "    if minimum(Sk.d) < 0\n",
    "      Sk.d .+= -minimum(Sk.d) + 1e-6 # abs.(Sk.d) #\n",
    "    end\n",
    "    dk = - Sk \\ gk\n",
    "    slope = dot(dk, gk)\n",
    "    t = armijo(xk, dk, fk, gk, x -> obj(nlp, x))\n",
    "    xk += t * dk\n",
    "    fk = obj(nlp, xk)\n",
    "    gk = grad(nlp, xk)\n",
    "    gnorm = norm(gk)\n",
    "    k += 1\n",
    "    verbose && @printf \"%2d %9.2e %9.1e %7.1e \\n\" k fk gnorm t\n",
    "  end\n",
    "  return xk\n",
    "end"
   ]
  },
  {
   "cell_type": "code",
   "execution_count": 21,
   "metadata": {},
   "outputs": [
    {
     "name": "stdout",
     "output_type": "stream",
     "text": [
      " k        fk ||∇f(x)||\n",
      " 0  3.00e+00   7.1e+00\n",
      " 1  6.66e-01   2.2e+00 1.0e+00 \n",
      " 2  1.39e-01   6.9e-01 1.0e+00 \n",
      " 3  1.72e-02   1.9e-01 1.0e+00 \n",
      " 4 -6.60e-02   3.8e-01 2.0e-07 \n",
      " 5 -8.61e-02   5.1e-01 3.0e-01 \n",
      " 6 -1.23e-01   9.3e-02 1.0e+00 \n",
      " 7 -1.25e-01   6.7e-03 1.0e+00 \n",
      " 8 -1.25e-01   4.5e-05 1.0e+00 \n",
      " 9 -1.25e-01   2.1e-09 1.0e+00 \n"
     ]
    },
    {
     "data": {
      "text/plain": [
       "2-element Vector{Float64}:\n",
       " -0.5000000005854968\n",
       "  0.5000000008171253"
      ]
     },
     "execution_count": 21,
     "metadata": {},
     "output_type": "execute_result"
    }
   ],
   "source": [
    "f(x) = x[1]*x[2] + x[1]^4 + x[2]^4\n",
    "x0 = ones(2)\n",
    "nlp = ADNLPModel(f, x0)\n",
    "\n",
    "newton_ldlt_armijo(nlp, x0)"
   ]
  },
  {
   "cell_type": "code",
   "execution_count": 22,
   "metadata": {},
   "outputs": [
    {
     "name": "stdout",
     "output_type": "stream",
     "text": [
      " k        fk ||∇f(x)||\n",
      " 0  5.00e+00   1.2e+01\n",
      " 1  1.00e+00   4.5e+00 1.0e+00 \n",
      " 2  2.19e-01   1.9e+00 1.0e+00 \n",
      " 3  5.08e-02   8.4e-01 1.0e+00 \n",
      " 4  1.22e-02   4.0e-01 1.0e+00 \n",
      " 5  2.99e-03   2.0e-01 1.0e+00 \n",
      " 6 -9.82e-01   5.0e-01 1.3e-04 \n",
      " 7 -1.00e+00   3.1e-02 1.0e+00 \n",
      " 8 -1.00e+00   1.4e-04 1.0e+00 \n",
      " 9 -1.00e+00   2.4e-09 1.0e+00 \n"
     ]
    },
    {
     "data": {
      "text/plain": [
       "2-element Vector{Float64}:\n",
       " 1.0000000002802167\n",
       " 7.107141154069226e-13"
      ]
     },
     "execution_count": 22,
     "metadata": {},
     "output_type": "execute_result"
    }
   ],
   "source": [
    "#Test\n",
    "f(x) = x[1]^2 * (2*x[1] - 3) - 6*x[1]*x[2] * (x[1] - x[2] - 1)\n",
    "nlp = ADNLPModel(f, zeros(2))\n",
    "\n",
    "newton_ldlt_armijo(nlp, x0)"
   ]
  },
  {
   "cell_type": "code",
   "execution_count": 23,
   "metadata": {},
   "outputs": [],
   "source": [
    "# Tests secrets 2: contactez votre professeur pour avoir ces tests additionels si vous êtes prêt."
   ]
  },
  {
   "cell_type": "code",
   "execution_count": 24,
   "metadata": {},
   "outputs": [
    {
     "name": "stdout",
     "output_type": "stream",
     "text": [
      " k        fk ||∇f(x)||\n",
      " 0  1.74e+05   3.3e+04\n",
      " 1  3.35e+04   9.7e+03 1.0e+00 \n",
      " 2  6.24e+03   2.8e+03 1.0e+00 \n",
      " 3  1.10e+03   8.2e+02 1.0e+00 \n",
      " 4  1.81e+02   2.3e+02 1.0e+00 \n",
      " 5  2.69e+01   6.2e+01 1.0e+00 \n",
      " 6  2.68e+00   1.5e+01 1.0e+00 \n",
      " 7  1.00e-01   2.6e+00 1.0e+00 \n",
      " 8  3.28e-04   1.4e-01 1.0e+00 \n",
      " 9  4.53e-09   5.3e-04 1.0e+00 \n",
      "sol = [2.9999960815075672, 2.000017736641731]\n"
     ]
    },
    {
     "data": {
      "text/plain": [
       "2-element Vector{Float64}:\n",
       " 2.9999960815075672\n",
       " 2.000017736641731"
      ]
     },
     "execution_count": 24,
     "metadata": {},
     "output_type": "execute_result"
    }
   ],
   "source": [
    "using Logging, Test\n",
    "fH(x) = (x[2]+x[1].^2-11).^2+(x[1]+x[2].^2-7).^2\n",
    "x0H = [10., 20.]\n",
    "himmelblau = ADNLPModel(fH, x0H)\n",
    "ep1 = 1e-6 + norm(grad(himmelblau, himmelblau.meta.x0)) * 1e-6\n",
    "sol = newton_ldlt_armijo(himmelblau, himmelblau.meta.x0) \n",
    "@test norm(grad(himmelblau, sol)) ≤ ep1\n",
    "@test sol ≈ [3, 2] atol = ep1\n",
    "@show sol"
   ]
  },
  {
   "cell_type": "code",
   "execution_count": 25,
   "metadata": {},
   "outputs": [
    {
     "name": "stdout",
     "output_type": "stream",
     "text": [
      " k        fk ||∇f(x)||\n",
      " 0  1.00e+00   4.1e+00\n",
      " 1 -2.70e+19   2.7e+13 1.0e+00 \n",
      "sol = [3.000000999580666e6, 0.7500000312499961, 0.7500000312499961]\n"
     ]
    },
    {
     "data": {
      "text/plain": [
       "3-element Vector{Float64}:\n",
       " 3.000000999580666e6\n",
       " 0.7500000312499961\n",
       " 0.7500000312499961"
      ]
     },
     "execution_count": 25,
     "metadata": {},
     "output_type": "execute_result"
    }
   ],
   "source": [
    "problem2 = ADNLPModel(x->-x[1]^3 + x[2]^2 + x[3]^2, ones(3))\n",
    "ep2 = 1e-6 + norm(grad(problem2, problem2.meta.x0)) * 1e-6\n",
    "sol = newton_ldlt_armijo(problem2, problem2.meta.x0) \n",
    "# @test stats.status == :unbounded\n",
    "@test obj(problem2, sol) ≤ -1e15\n",
    "@show sol"
   ]
  },
  {
   "cell_type": "code",
   "execution_count": 26,
   "metadata": {},
   "outputs": [
    {
     "name": "stdout",
     "output_type": "stream",
     "text": [
      " k        fk ||∇f(x)||\n",
      " 0  2.42e+01   2.3e+02\n",
      " 1  4.73e+00   4.6e+00 1.0e+00 \n",
      " 2  4.12e+00   3.1e+01 1.3e-01 \n",
      " 3  3.22e+00   1.0e+01 1.0e+00 \n",
      " 4  2.84e+00   2.3e+01 6.7e-01 \n",
      " 5  2.05e+00   5.1e+00 1.0e+00 \n",
      " 6  1.73e+00   1.2e+01 4.4e-01 \n",
      " 7  1.24e+00   3.8e+00 1.0e+00 \n",
      " 8  1.03e+00   9.5e+00 6.7e-01 \n",
      " 9  6.69e-01   1.8e+00 1.0e+00 \n",
      "10  6.08e-01   1.2e+01 6.7e-01 \n",
      "11  2.95e-01   8.0e-01 1.0e+00 \n",
      "12  2.13e-01   7.2e+00 4.4e-01 \n",
      "13  1.07e-01   9.9e-01 1.0e+00 \n",
      "14  6.57e-02   5.3e+00 6.7e-01 \n",
      "15  2.50e-02   8.0e-01 1.0e+00 \n",
      "16  1.35e-02   4.3e+00 1.0e+00 \n",
      "17  1.35e-03   8.0e-02 1.0e+00 \n",
      "18  1.45e-04   5.3e-01 1.0e+00 \n",
      "19  1.77e-07   7.5e-04 1.0e+00 \n",
      "20  3.16e-12   7.8e-05 1.0e+00 \n",
      "sol = [0.99999973740598, 0.9999992988781844]\n"
     ]
    },
    {
     "data": {
      "text/plain": [
       "2-element Vector{Float64}:\n",
       " 0.99999973740598\n",
       " 0.9999992988781844"
      ]
     },
     "execution_count": 26,
     "metadata": {},
     "output_type": "execute_result"
    }
   ],
   "source": [
    "roz(x) = 100 *  (x[2] - x[1]^2)^2 + (x[1] - 1.0)^2\n",
    "rosenbrock = ADNLPModel(roz, [-1.2, 1.0])\n",
    "ep2 = 1e-6 + norm(grad(rosenbrock, rosenbrock.meta.x0)) * 1e-6\n",
    "sol = newton_ldlt_armijo(rosenbrock, rosenbrock.meta.x0) \n",
    "@test sol ≈ [1., 1.] atol = ep2\n",
    "@show sol"
   ]
  },
  {
   "cell_type": "code",
   "execution_count": 27,
   "metadata": {},
   "outputs": [
    {
     "name": "stdout",
     "output_type": "stream",
     "text": [
      " k        fk ||∇f(x)||\n",
      " 0  1.00e+00   6.0e-03\n",
      " 1 -4.33e+11   2.2e+08 1.0e+00 \n",
      " 2 -2.03e+43   2.8e+29 1.0e+00 \n"
     ]
    },
    {
     "data": {
      "text/plain": [
       "\u001b[32m\u001b[1mTest Passed\u001b[22m\u001b[39m"
      ]
     },
     "execution_count": 27,
     "metadata": {},
     "output_type": "execute_result"
    }
   ],
   "source": [
    "f(x) = x[1]^2 * (2*x[1] - 3) - 6*x[1]*x[2] * (x[1] - x[2] - 1)\n",
    "x0 = [-1.001, -1.001]\n",
    "pb_du_cours = ADNLPModel(f, x0) #ou [1.5, .5] ou [.5, .5]\n",
    "ep3 = 1e-6 + norm(grad(pb_du_cours, x0)) * 1e-6\n",
    "sol = newton_ldlt_armijo(pb_du_cours, x0) \n",
    "@test norm(grad(pb_du_cours, sol)) ≤ ep3 || obj(pb_du_cours, sol) <= -1e15"
   ]
  },
  {
   "cell_type": "code",
   "execution_count": 28,
   "metadata": {},
   "outputs": [
    {
     "name": "stdout",
     "output_type": "stream",
     "text": [
      "\u001b[0m\u001b[1mTest Summary:                   | \u001b[22m\u001b[32m\u001b[1mPass  \u001b[22m\u001b[39m\u001b[36m\u001b[1mTotal  \u001b[22m\u001b[39m\u001b[0m\u001b[1mTime\u001b[22m\n",
      "Test set for newton_ldlt_armijo | \u001b[32m   7  \u001b[39m\u001b[36m    7  \u001b[39m\u001b[0m1.1s\n"
     ]
    },
    {
     "data": {
      "text/plain": [
       "Test.DefaultTestSet(\"Test set for newton_ldlt_armijo\", Any[], 7, false, false, true, 1.675817926159e9, 1.675817927209e9)"
      ]
     },
     "execution_count": 28,
     "metadata": {},
     "output_type": "execute_result"
    }
   ],
   "source": [
    "using Test\n",
    "\n",
    "@testset \"Test set for newton_ldlt_armijo\" begin\n",
    "\t#Test problem:\n",
    "\tfH(x) = (x[2]+x[1].^2-11).^2+(x[1]+x[2].^2-7).^2\n",
    "\tx0H = [10., 20.]\n",
    "\thimmelblau = ADNLPModel(fH, x0H)\n",
    "\n",
    "\tproblem2 = ADNLPModel(x->-x[1]^3 + x[2]^2 + x[3]^2, ones(3))\n",
    "\n",
    "\troz(x) = 100 *  (x[2] - x[1]^2)^2 + (x[1] - 1.0)^2\n",
    "\trosenbrock = ADNLPModel(roz, [-1.2, 1.0])\n",
    "\n",
    "\tf(x) = x[1]^2 * (2*x[1] - 3) - 6*x[1]*x[2] * (x[1] - x[2] - 1)\n",
    "\tpb_du_cours = ADNLPModel(f, [-1.001, -1.001]) #ou [1.5, .5] ou [.5, .5]\n",
    "\n",
    "\n",
    "\t######################################### newton_armijo ##################\n",
    "\n",
    "    #=\n",
    "    Vérifiez que vous pouvez mettre une limite de temps de 1s.\n",
    "    Puis faites tournez votre algorithme sur un des probléme test.\n",
    "    L'algorithme devrait s'arrêter en environ 1sec.\n",
    "\n",
    "    Vérifiez que vous pouvez mettre une limite de 2 évaluations d'objectif.\n",
    "    Puis faites tournez votre algorithme sur un des probléme test.\n",
    "    L'algorithme devrait s'arrêter en environ 1 itération.\n",
    "    =#\n",
    "\n",
    "\t#Unit/Validation Tests\n",
    "    ep1 = 1e-6 + norm(grad(himmelblau, himmelblau.meta.x0)) * 1e-6\n",
    "\tsol = newton_ldlt_armijo(himmelblau, himmelblau.meta.x0, verbose = false) \n",
    "\t@test norm(grad(himmelblau, sol)) ≤ ep1\n",
    "\t@test sol ≈ [3, 2] atol = ep1\n",
    "\n",
    "    ep2 = 1e-6 + norm(grad(problem2, problem2.meta.x0)) * 1e-6\n",
    "\tsol = newton_ldlt_armijo(problem2, problem2.meta.x0, verbose = false) \n",
    "\t# @test stats.status == :unbounded\n",
    "    @test obj(problem2, sol) ≤ -1e15\n",
    "\n",
    "    ep2 = 1e-6 + norm(grad(rosenbrock, rosenbrock.meta.x0)) * 1e-6\n",
    "\tsol = newton_ldlt_armijo(rosenbrock, rosenbrock.meta.x0, verbose = false) \n",
    "\t@test sol ≈ [1., 1.] atol = ep2\n",
    "\n",
    "    ep3 = 1e-6 + norm(grad(pb_du_cours, [-1.001, -1.001])) * 1e-6\n",
    "\tsol = newton_ldlt_armijo(pb_du_cours, [-1.001, -1.001], verbose = false) \n",
    "\t@test norm(grad(pb_du_cours, sol)) ≤ ep3 || obj(pb_du_cours, sol) <= -1e15\n",
    "\n",
    "    ep4 = 1e-6 + norm(grad(pb_du_cours, [1.5, .5])) * 1e-6\n",
    "\tsol = newton_ldlt_armijo(pb_du_cours, [1.5, .5], verbose = false) \n",
    "\t@test norm(grad(pb_du_cours, sol)) ≤ ep4 || obj(pb_du_cours, sol) <= -1e15\n",
    "\n",
    "    ep5 = 1e-6 + norm(grad(pb_du_cours, [.5, .5])) * 1e-6\n",
    "\tsol = newton_ldlt_armijo(pb_du_cours, [.5, .5], verbose = false) \n",
    "\t@test norm(grad(pb_du_cours, sol)) ≤ ep5 || obj(pb_du_cours, sol) <= -1e15\n",
    "end\n"
   ]
  },
  {
   "cell_type": "markdown",
   "metadata": {},
   "source": [
    "### Exercice 3: Méthode quasi-Newton: BFGS"
   ]
  },
  {
   "cell_type": "markdown",
   "metadata": {},
   "source": [
    "#### Méthode quasi-Newton: BFGS\n",
    "Pour des problèmes de très grandes tailles, il est parfois très coûteux d'évaluer la hessienne du problème d'optimisation (et même le produit hessienne-vecteur). La famille des méthode *quasi-Newton* construit une approximation $B_k$ symétrique définie positive de la matrice Hessienne en utilisant seulement le gradient et en mesurant sa variation, et permet quand même d'améliorer significativement les performances comparé à la méthode du gradient.\n",
    "$$\n",
    "s_k = x_{k+1} - x_k, \\quad y_k = \\nabla f(x_{k+1}) - \\nabla f(x_k).\n",
    "$$\n",
    "Par ailleurs la matrice $B_k$ est aussi construite de façon à ce que l'inverse soit connue, il n'y a donc pas de système linéaire à résoudre.\n",
    "\n",
    "La méthode la plus connue dans la famille des méthodes quasi-Newton, est la méthode BFGS (Broyden - Fletcher, Goldfarb, and Shanno), et utilise la formule suivante pour calculer l'inverse de $B_k$ que l'on note $H_k$:\n",
    "$$\n",
    "H_{k+1} = (I - \\rho_k s_ky_k^T)H_k(I-\\rho_ky_ks_k^T) + \\rho_ks_ks_k^T, \\quad \\rho_k = \\frac{1}{y_k^Ts_k}.\n",
    "$$\n",
    "L'algorithme est presque le même que la méthode de Newton à la différence qu'il n'y a pas de système linéaire à résoudre et la direction $d_k$ est à coup sûr une direction de descente. Ainsi la direction de descente est calculée comme suit:\n",
    "$$\n",
    "d_k = - H_k \\nabla f(x_k).\n",
    "$$\n",
    "\n",
    "Comment choisir la matrice $H_0$? On peut éventuellement choisir $I$. Une alternative est d'utiliser $H_0=I$ pour la première itération et ensuite mettre $H_0$ à jour avant de calculer $H_1$ en utilisant:\n",
    "$$\n",
    "H_0 = \\frac{y_k^Ts_k}{y_k^Ty_k}I.\n",
    "$$"
   ]
  },
  {
   "cell_type": "markdown",
   "metadata": {},
   "source": [
    "**Important**: pour s'assurer que la matrice $H_k$ reste définie positive à toutes les itérations, il faut s'assurer que $y_k^Ts_k>0$. C'est toujours vrai pour des fonctions convexes, mais pas nécessairement dans le cas général. On pourra tester ici la version \"skip\" qui ne mets pas à jour quand cette condition n'est pas vérifiée."
   ]
  },
  {
   "cell_type": "code",
   "execution_count": 33,
   "metadata": {},
   "outputs": [
    {
     "data": {
      "text/plain": [
       "bfgs_quasi_newton_armijo (generic function with 1 method)"
      ]
     },
     "execution_count": 33,
     "metadata": {},
     "output_type": "execute_result"
    }
   ],
   "source": [
    "function bfgs_quasi_newton_armijo(nlp, x0; verbose::Bool = true)\n",
    "    xk = x0\n",
    "    fk = obj(nlp, xk)\n",
    "    gk = grad(nlp, xk)\n",
    "    gnorm = gnorm0 = norm(gk)\n",
    "    k = 0\n",
    "    Hk = I\n",
    "    x_list = [x0]\n",
    "    verbose && @printf \"%2s %9s %9s\\n\" \"k\" \"fk\" \"||∇f(x)||\"\n",
    "    verbose && @printf \"%2d %9.2e %9.1e\\n\" k fk gnorm\n",
    "    while gnorm > 1.0e-8 + 1.0e-8 * gnorm0 && k < 100 && fk > -1e15\n",
    "      dk = -Hk * gk\n",
    "      t = armijo(xk, dk, fk, gk, x -> obj(nlp, x))\n",
    "      xkp = xk + t * dk\n",
    "      sk = xkp - xk\n",
    "      fkp = obj(nlp, xkp)\n",
    "      gkp = grad(nlp, xkp)\n",
    "      yk = gkp - gk\n",
    "      if k == 0\n",
    "        Hk = (yk' * sk) / (yk' * yk) * I\n",
    "      end\n",
    "      if yk'*sk > 0\n",
    "          pk = 1 / (yk' * sk)\n",
    "          Hk = (I - pk * sk * yk') * Hk * (I - pk * yk * sk') + pk * sk * sk'\n",
    "      end\n",
    "     xk = xkp\n",
    "     fk = fkp\n",
    "     gk = gkp\n",
    "     gnorm = norm(gk)\n",
    "      push!(x_list, xk)\n",
    "      k += 1\n",
    "      verbose && @printf \"%2d %9.2e %9.1e %7.1e \\n\" k fk gnorm t\n",
    "    end\n",
    "    return xk\n",
    "  end"
   ]
  },
  {
   "cell_type": "code",
   "execution_count": 34,
   "metadata": {},
   "outputs": [
    {
     "name": "stdout",
     "output_type": "stream",
     "text": [
      " k        fk ||∇f(x)||\n",
      " 0  1.49e+04   2.0e+03\n",
      " 1 -9.08e+09   1.5e+07 1.0e+00 \n",
      " 2 -9.08e+09   1.5e+07 4.2e-17 \n",
      " 3 -9.08e+09   1.5e+07 4.2e-17 \n",
      " 4 -9.08e+09   1.5e+07 4.2e-17 \n",
      " 5 -9.08e+09   1.5e+07 4.2e-17 \n",
      " 6 -9.08e+09   1.5e+07 4.2e-17 \n",
      " 7 -9.08e+09   1.5e+07 4.2e-17 \n",
      " 8 -9.08e+09   1.5e+07 4.2e-17 \n",
      " 9 -9.08e+09   1.5e+07 4.2e-17 \n",
      "10 -9.08e+09   1.5e+07 4.2e-17 \n",
      "11 -9.08e+09   1.5e+07 4.2e-17 \n",
      "12 -9.08e+09   1.5e+07 4.2e-17 \n",
      "13 -9.08e+09   1.5e+07 4.2e-17 \n",
      "14 -9.08e+09   1.5e+07 4.2e-17 \n",
      "15 -9.08e+09   1.5e+07 4.2e-17 \n",
      "16 -9.08e+09   1.5e+07 4.2e-17 \n",
      "17 -9.08e+09   1.5e+07 4.2e-17 \n",
      "18 -9.08e+09   1.5e+07 4.2e-17 \n",
      "19 -9.08e+09   1.5e+07 4.2e-17 \n",
      "20 -9.08e+09   1.5e+07 4.2e-17 \n",
      "21 -9.08e+09   1.5e+07 4.2e-17 \n",
      "22 -9.08e+09   1.5e+07 4.2e-17 \n",
      "23 -9.08e+09   1.5e+07 4.2e-17 \n",
      "24 -9.08e+09   1.5e+07 4.2e-17 \n",
      "25 -9.08e+09   1.5e+07 4.2e-17 \n",
      "26 -9.08e+09   1.5e+07 4.2e-17 \n",
      "27 -9.08e+09   1.5e+07 4.2e-17 \n",
      "28 -9.08e+09   1.5e+07 4.2e-17 \n",
      "29 -9.08e+09   1.5e+07 4.2e-17 \n",
      "30 -9.08e+09   1.5e+07 4.2e-17 \n",
      "31 -9.08e+09   1.5e+07 4.2e-17 \n",
      "32 -9.08e+09   1.5e+07 4.2e-17 \n",
      "33 -9.08e+09   1.5e+07 4.2e-17 \n",
      "34 -9.08e+09   1.5e+07 4.2e-17 \n",
      "35 -9.08e+09   1.5e+07 4.2e-17 \n",
      "36 -9.08e+09   1.5e+07 4.2e-17 \n",
      "37 -9.08e+09   1.5e+07 4.2e-17 \n",
      "38 -9.08e+09   1.5e+07 4.2e-17 \n",
      "39 -9.08e+09   1.5e+07 4.2e-17 \n",
      "40 -9.08e+09   1.5e+07 4.2e-17 \n",
      "41 -9.08e+09   1.5e+07 4.2e-17 \n",
      "42 -9.08e+09   1.5e+07 4.2e-17 \n",
      "43 -9.08e+09   1.5e+07 4.2e-17 \n",
      "44 -9.08e+09   1.5e+07 4.2e-17 \n",
      "45 -9.08e+09   1.5e+07 4.2e-17 \n",
      "46 -9.08e+09   1.5e+07 4.2e-17 \n",
      "47 -9.08e+09   1.5e+07 4.2e-17 \n",
      "48 -9.08e+09   1.5e+07 4.2e-17 \n",
      "49 -9.08e+09   1.5e+07 4.2e-17 \n",
      "50 -9.08e+09   1.5e+07 4.2e-17 \n",
      "51 -9.08e+09   1.5e+07 4.2e-17 \n",
      "52 -9.08e+09   1.5e+07 4.2e-17 \n",
      "53 -9.08e+09   1.5e+07 4.2e-17 \n",
      "54 -9.08e+09   1.5e+07 4.2e-17 \n",
      "55 -9.08e+09   1.5e+07 4.2e-17 \n",
      "56 -9.08e+09   1.5e+07 4.2e-17 \n",
      "57 -9.08e+09   1.5e+07 4.2e-17 \n",
      "58 -9.08e+09   1.5e+07 4.2e-17 \n",
      "59 -9.08e+09   1.5e+07 4.2e-17 \n",
      "60 -9.08e+09   1.5e+07 4.2e-17 \n",
      "61 -9.08e+09   1.5e+07 4.2e-17 \n",
      "62 -9.08e+09   1.5e+07 4.2e-17 \n",
      "63 -9.08e+09   1.5e+07 4.2e-17 \n",
      "64 -9.08e+09   1.5e+07 4.2e-17 \n",
      "65 -9.08e+09   1.5e+07 4.2e-17 \n",
      "66 -9.08e+09   1.5e+07 4.2e-17 \n",
      "67 -9.08e+09   1.5e+07 4.2e-17 \n",
      "68 -9.08e+09   1.5e+07 4.2e-17 \n",
      "69 -9.08e+09   1.5e+07 4.2e-17 \n",
      "70 -9.08e+09   1.5e+07 4.2e-17 \n",
      "71 -9.08e+09   1.5e+07 4.2e-17 \n",
      "72 -9.08e+09   1.5e+07 4.2e-17 \n",
      "73 -9.08e+09   1.5e+07 4.2e-17 \n",
      "74 -9.08e+09   1.5e+07 4.2e-17 \n",
      "75 -9.08e+09   1.5e+07 4.2e-17 \n",
      "76 -9.08e+09   1.5e+07 4.2e-17 \n",
      "77 -9.08e+09   1.5e+07 4.2e-17 \n",
      "78 -9.08e+09   1.5e+07 4.2e-17 \n",
      "79 -9.08e+09   1.5e+07 4.2e-17 \n",
      "80 -9.08e+09   1.5e+07 4.2e-17 \n",
      "81 -9.08e+09   1.5e+07 4.2e-17 \n",
      "82 -9.08e+09   1.5e+07 4.2e-17 \n",
      "83 -9.08e+09   1.5e+07 4.2e-17 \n",
      "84 -9.08e+09   1.5e+07 4.2e-17 \n",
      "85 -9.08e+09   1.5e+07 4.2e-17 \n",
      "86 -9.08e+09   1.5e+07 4.2e-17 \n",
      "87 -9.08e+09   1.5e+07 4.2e-17 \n",
      "88 -9.08e+09   1.5e+07 4.2e-17 \n",
      "89 -9.08e+09   1.5e+07 4.2e-17 \n",
      "90 -9.08e+09   1.5e+07 4.2e-17 \n",
      "91 -9.08e+09   1.5e+07 4.2e-17 \n",
      "92 -9.08e+09   1.5e+07 4.2e-17 \n",
      "93 -9.08e+09   1.5e+07 4.2e-17 \n",
      "94 -9.08e+09   1.5e+07 4.2e-17 \n",
      "95 -9.08e+09   1.5e+07 4.2e-17 \n",
      "96 -9.08e+09   1.5e+07 4.2e-17 \n",
      "97 -9.08e+09   1.5e+07 4.2e-17 \n",
      "98 -9.08e+09   1.5e+07 4.2e-17 \n",
      "99 -9.08e+09   1.5e+07 4.2e-17 \n",
      "100 -9.08e+09   1.5e+07 4.2e-17 \n"
     ]
    },
    {
     "data": {
      "text/plain": [
       "2-element Vector{Float64}:\n",
       "  -650.0\n",
       " -1840.0"
      ]
     },
     "execution_count": 34,
     "metadata": {},
     "output_type": "execute_result"
    }
   ],
   "source": [
    "#Test\n",
    "f(x) = x[1]^2 * (2*x[1] - 3) - 6*x[1]*x[2] * (x[1] - x[2] - 1)\n",
    "nlp = ADNLPModel(f, zeros(2))\n",
    "bfgs_quasi_newton_armijo(nlp, himmelblau.meta.x0) "
   ]
  },
  {
   "cell_type": "code",
   "execution_count": 35,
   "metadata": {},
   "outputs": [
    {
     "name": "stdout",
     "output_type": "stream",
     "text": [
      " k        fk ||∇f(x)||\n",
      " 0  1.74e+05   3.3e+04\n",
      " 1  2.73e+04   8.6e+03 1.0e-03 \n",
      " 2  1.26e+03   8.6e+02 1.0e+00 \n",
      " 3  7.23e+02   5.8e+02 1.0e+00 \n",
      " 4  1.70e+02   2.1e+02 1.0e+00 \n",
      " 5  5.18e+01   9.6e+01 1.0e+00 \n",
      " 6  1.16e+01   4.0e+01 1.0e+00 \n",
      " 7  2.05e+00   1.7e+01 1.0e+00 \n",
      " 8  2.54e-01   6.9e+00 1.0e+00 \n",
      " 9  7.20e-02   3.8e+00 1.0e+00 \n",
      "10  5.50e-02   3.0e+00 1.0e+00 \n",
      "11  3.86e-02   2.2e+00 1.0e+00 \n",
      "12  1.55e-02   1.0e+00 1.0e+00 \n",
      "13  2.85e-03   4.4e-01 1.0e+00 \n",
      "14  1.71e-04   1.7e-01 1.0e+00 \n",
      "15  3.81e-06   2.8e-02 1.0e+00 \n",
      "16  1.15e-08   1.1e-03 1.0e+00 \n",
      "17  1.08e-11   2.5e-05 1.0e+00 \n",
      " k        fk ||∇f(x)||\n",
      " 0  0.00e+00   4.5e+00\n",
      " 1 -3.73e-01   4.2e+00 8.8e-02 \n",
      " 2 -7.22e-01   1.4e+00 1.0e+00 \n",
      " 3 -8.44e-01   9.3e-01 1.0e+00 \n",
      " 4 -9.83e-01   4.6e-01 1.0e+00 \n",
      " 5 -9.98e-01   2.3e-01 1.0e+00 \n",
      " 6 -1.00e+00   7.9e-02 1.0e+00 \n",
      " 7 -1.00e+00   1.3e-02 1.0e+00 \n",
      " 8 -1.00e+00   9.1e-04 1.0e+00 \n",
      " 9 -1.00e+00   1.3e-04 1.0e+00 \n",
      "10 -1.00e+00   6.7e-06 1.0e+00 \n",
      "11 -1.00e+00   1.1e-07 1.0e+00 \n",
      "12 -1.00e+00   4.5e-10 1.0e+00 \n",
      "sol = [1.0000000001648481, 9.369120189770482e-11]\n",
      " k        fk ||∇f(x)||\n",
      " 0  1.00e+00   4.5e+00\n",
      " 1  3.33e-01   4.4e+00 3.0e-01 \n",
      " 2 -4.00e-01   1.4e+00 1.0e+00 \n",
      " 3 -6.13e-01   1.3e+00 1.0e+00 \n",
      " 4 -9.01e-01   1.4e+00 6.7e-01 \n",
      " 5 -9.82e-01   6.7e-01 1.0e+00 \n",
      " 6 -9.98e-01   1.2e-01 1.0e+00 \n",
      " 7 -9.99e-01   4.8e-02 1.0e+00 \n",
      " 8 -1.00e+00   1.8e-03 1.0e+00 \n",
      " 9 -1.00e+00   1.3e-04 1.0e+00 \n",
      "10 -1.00e+00   9.0e-06 1.0e+00 \n",
      "11 -1.00e+00   3.1e-09 1.0e+00 \n",
      "sol = [0.9999999989781292, -5.078755585181897e-10]\n",
      "\u001b[0m\u001b[1mTest Summary:                         | \u001b[22m\u001b[32m\u001b[1mPass  \u001b[22m\u001b[39m\u001b[36m\u001b[1mTotal  \u001b[22m\u001b[39m\u001b[0m\u001b[1mTime\u001b[22m\n",
      "Test set for bfgs_quasi_newton_armijo | \u001b[32m   5  \u001b[39m\u001b[36m    5  \u001b[39m\u001b[0m0.6s\n"
     ]
    },
    {
     "data": {
      "text/plain": [
       "Test.DefaultTestSet(\"Test set for bfgs_quasi_newton_armijo\", Any[], 5, false, false, true, 1.675818390091e9, 1.675818390651e9)"
      ]
     },
     "execution_count": 35,
     "metadata": {},
     "output_type": "execute_result"
    }
   ],
   "source": [
    "# Tests secrets 3: contactez votre professeur pour avoir ces tests additionels si vous êtes prêt.\n",
    "using Test\n",
    "\n",
    "@testset \"Test set for bfgs_quasi_newton_armijo\" begin\n",
    "\t#Test problem:\n",
    "\tfH(x) = (x[2]+x[1].^2-11).^2+(x[1]+x[2].^2-7).^2\n",
    "\tx0H = [10., 20.]\n",
    "\thimmelblau = ADNLPModel(fH, x0H)\n",
    "\n",
    "\tproblem2 = ADNLPModel(x->-x[1]^3 + x[2]^2 + x[3]^2, ones(3))\n",
    "\n",
    "\troz(x) = 100 *  (x[2] - x[1]^2)^2 + (x[1] - 1.0)^2\n",
    "\trosenbrock = ADNLPModel(roz, [-1.2, 1.0])\n",
    "\n",
    "\tf(x) = x[1]^2 * (2*x[1] - 3) - 6*x[1]*x[2] * (x[1] - x[2] - 1)\n",
    "\tpb_du_cours = ADNLPModel(f, [-1.001, -1.001]) #ou [1.5, .5] ou [.5, .5]\n",
    "\n",
    "\n",
    "\t######################################### bfgs_quasi_newton_armijo ##################\n",
    "\n",
    "\t#Unit/Validation Tests\n",
    "\tusing Logging, Test\n",
    "    ep1 = 1e-6 + norm(grad(himmelblau, himmelblau.meta.x0)) * 1e-6\n",
    "\tsol = bfgs_quasi_newton_armijo(himmelblau, himmelblau.meta.x0) \n",
    "\t@test norm(grad(himmelblau, sol)) ≤ ep1\n",
    "\n",
    "    ep4 = 1e-6 + norm(grad(pb_du_cours, [1.5, .5])) * 1e-6\n",
    "\tsol = bfgs_quasi_newton_armijo(pb_du_cours, [1.5, .5]) \n",
    "\t@test norm(grad(pb_du_cours, sol)) ≤ ep4\n",
    "\t@test sol ≈ [1, 0] atol = ep4\n",
    "\t@show sol\n",
    "\n",
    "    ep5 = 1e-6 + norm(grad(pb_du_cours, [.5, .5])) * 1e-6\n",
    "\tsol = bfgs_quasi_newton_armijo(pb_du_cours, [.5, .5]) \n",
    "\t@test norm(grad(pb_du_cours, sol)) ≤ ep4\n",
    "\t@test sol ≈ [1, 0] atol = ep4\n",
    "\t@show sol\n",
    "end"
   ]
  },
  {
   "cell_type": "markdown",
   "metadata": {},
   "source": [
    "### Exercice 4: application à un problème de grande taille"
   ]
  },
  {
   "cell_type": "markdown",
   "metadata": {},
   "source": [
    "On va ajouter le package `OptimizationProblems` qui contient, comme son nom l'indique, une collection de problème d'optimisation disponible au format de `JuMP` (dans le sous-module `OptimizationProblems.PureJuMP`) et de `ADNLPModel` (dans le sous-module `OptimizationProblems.ADNLPProblems`)."
   ]
  },
  {
   "cell_type": "code",
   "execution_count": null,
   "metadata": {},
   "outputs": [],
   "source": [
    "using ADNLPModels, OptimizationProblems.ADNLPProblems # Attention si vous ne faites pas using ADNLPModels avant ça ne fonctionne pas!"
   ]
  },
  {
   "cell_type": "code",
   "execution_count": null,
   "metadata": {},
   "outputs": [],
   "source": [
    "n = 500\n",
    "model = genrose(n=n)\n",
    "@test typeof(model) <: ADNLPModel"
   ]
  },
  {
   "cell_type": "markdown",
   "metadata": {},
   "source": [
    "Si vous le souhaitez, il est possible d'accéder à certaines informations sur le problème en accédant à son meta:"
   ]
  },
  {
   "cell_type": "code",
   "execution_count": null,
   "metadata": {},
   "outputs": [],
   "source": [
    "using OptimizationProblems\n",
    "OptimizationProblems.genrose_meta"
   ]
  },
  {
   "cell_type": "markdown",
   "metadata": {},
   "source": [
    "Il est aussi possible d'accéder au meta de tous les problèmes"
   ]
  },
  {
   "cell_type": "code",
   "execution_count": null,
   "metadata": {},
   "outputs": [],
   "source": [
    "OptimizationProblems.meta"
   ]
  },
  {
   "cell_type": "markdown",
   "metadata": {},
   "source": [
    "Résoudre le problème `genrose` et un autre problème de la collection en utilisant vos algorithmes précédents.\n",
    "Avant d'utiliser l'algorithme on testera que le problème est bien sans contrainte avec:"
   ]
  },
  {
   "cell_type": "code",
   "execution_count": null,
   "metadata": {},
   "outputs": [],
   "source": [
    "unconstrained(nlp) #qui retourne vrai si `nlp` est un problème sans contraintes."
   ]
  },
  {
   "cell_type": "markdown",
   "metadata": {},
   "source": [
    "# Correction Exo 2 du Rapport"
   ]
  },
  {
   "cell_type": "code",
   "execution_count": 37,
   "metadata": {},
   "outputs": [
    {
     "data": {
      "text/plain": [
       "bfgs_quasi_newton_armijo (generic function with 1 method)"
      ]
     },
     "execution_count": 37,
     "metadata": {},
     "output_type": "execute_result"
    }
   ],
   "source": [
    "function bfgs_quasi_newton_armijo(nlp, x0; verbose::Bool = true)\n",
    "    xk = x0\n",
    "    fk = obj(nlp, xk)\n",
    "    gk = grad(nlp, xk)\n",
    "    gnorm = gnorm0 = norm(gk)\n",
    "    k = 0\n",
    "    Hk = I\n",
    "    x_list = [x0]\n",
    "    verbose && @printf \"%2s %9s %9s\\n\" \"k\" \"fk\" \"||∇f(x)||\"\n",
    "    verbose && @printf \"%2d %9.2e %9.1e\\n\" k fk gnorm\n",
    "    while gnorm > 1.0e-8 + 1.0e-8 * gnorm0 && k < 100 && fk > -1e15\n",
    "      dk = -Hk * gk\n",
    "      t = armijo(xk, dk, fk, gk, x -> obj(nlp, x))\n",
    "      xkp = xk + t * dk\n",
    "      sk = xkp - xk\n",
    "      fkp = obj(nlp, xkp)\n",
    "      gkp = grad(nlp, xkp)\n",
    "      yk = gkp - gk\n",
    "      if k == 0\n",
    "        Hk = (yk' * sk) / (yk' * yk) * I\n",
    "      end\n",
    "      if yk'*sk > 0\n",
    "          pk = 1 / (yk' * sk)\n",
    "          Hk = (I - pk * sk * yk') * Hk * (I - pk * yk * sk') + pk * sk * sk'\n",
    "      end\n",
    "      xk = xkp\n",
    "      fk = fkp\n",
    "      gk = gkp\n",
    "      gnorm = norm(gk)\n",
    "      push!(x_list, xk)\n",
    "      k += 1\n",
    "      verbose && @printf \"%2d %9.2e %9.1e %7.1e \\n\" k fk gnorm t\n",
    "    end\n",
    "    return x_list\n",
    "  end"
   ]
  },
  {
   "cell_type": "code",
   "execution_count": 40,
   "metadata": {},
   "outputs": [
    {
     "data": {
      "text/plain": [
       "newton_ldlt_armijo (generic function with 1 method)"
      ]
     },
     "execution_count": 40,
     "metadata": {},
     "output_type": "execute_result"
    }
   ],
   "source": [
    "function newton_ldlt_armijo(nlp, x0; verbose::Bool = true)\n",
    "  xk  = x0\n",
    "  x_list = [x0]\n",
    "  fk  = obj(nlp, xk)\n",
    "  gk = grad(nlp, xk)\n",
    "  gnorm = gnorm0 = norm(gk)\n",
    "  k = 0\n",
    "  verbose && @printf \"%2s %9s %9s\\n\" \"k\" \"fk\" \"||∇f(x)||\"\n",
    "  verbose && @printf \"%2d %9.2e %9.1e\\n\" k fk gnorm\n",
    "  while gnorm > 1.0e-6 + 1.0e-6 * gnorm0 && k < 100 && fk > -1e15\n",
    "    Hk = Symmetric(triu(hess(nlp, xk)), :U)\n",
    "    Sk = ldl_analyze(Hk)\n",
    "    # Sk.tol = 1e-8 #régularise les valeurs plus petites que cette tolérance\n",
    "    # Sk.n_d = 10 #taille de la régularisation\n",
    "    # Sk.r1 = eps()^(1/4)\n",
    "    # Sk.r2 = eps()^(1/2)\n",
    "    ldl_factorize!(Hk, Sk)\n",
    "    if minimum(Sk.d) < 0\n",
    "      Sk.d .+= -minimum(Sk.d) + 1e-6 # abs.(Sk.d) #\n",
    "    end\n",
    "    dk = - Sk \\ gk\n",
    "    slope = dot(dk, gk)\n",
    "    t = armijo(xk, dk, fk, gk, x -> obj(nlp, x))\n",
    "    xk += t * dk\n",
    "    fk = obj(nlp, xk)\n",
    "    gk = grad(nlp, xk)\n",
    "    gnorm = norm(gk)\n",
    "    push!(x_list, xk)\n",
    "    k += 1\n",
    "    verbose && @printf \"%2d %9.2e %9.1e %7.1e \\n\" k fk gnorm t\n",
    "  end\n",
    "  return x_list\n",
    "end"
   ]
  },
  {
   "cell_type": "code",
   "execution_count": 41,
   "metadata": {},
   "outputs": [
    {
     "name": "stdout",
     "output_type": "stream",
     "text": [
      " k        fk ||∇f(x)||\n",
      " 0  1.74e+05   3.3e+04\n",
      " 1  2.73e+04   8.6e+03 1.0e-03 \n",
      " 2  1.26e+03   8.6e+02 1.0e+00 \n",
      " 3  7.23e+02   5.8e+02 1.0e+00 \n",
      " 4  1.70e+02   2.1e+02 1.0e+00 \n",
      " 5  5.18e+01   9.6e+01 1.0e+00 \n",
      " 6  1.16e+01   4.0e+01 1.0e+00 \n",
      " 7  2.05e+00   1.7e+01 1.0e+00 \n",
      " 8  2.54e-01   6.9e+00 1.0e+00 \n",
      " 9  7.20e-02   3.8e+00 1.0e+00 \n",
      "10  5.50e-02   3.0e+00 1.0e+00 \n",
      "11  3.86e-02   2.2e+00 1.0e+00 \n",
      "12  1.55e-02   1.0e+00 1.0e+00 \n",
      "13  2.85e-03   4.4e-01 1.0e+00 \n",
      "14  1.71e-04   1.7e-01 1.0e+00 \n",
      "15  3.81e-06   2.8e-02 1.0e+00 \n",
      "16  1.15e-08   1.1e-03 1.0e+00 \n",
      "17  1.08e-11   2.5e-05 1.0e+00 \n",
      " k        fk ||∇f(x)||\n",
      " 0  1.74e+05   3.3e+04\n",
      " 1  3.35e+04   9.7e+03 1.0e+00 \n",
      " 2  6.24e+03   2.8e+03 1.0e+00 \n",
      " 3  1.10e+03   8.2e+02 1.0e+00 \n",
      " 4  1.81e+02   2.3e+02 1.0e+00 \n",
      " 5  2.69e+01   6.2e+01 1.0e+00 \n",
      " 6  2.68e+00   1.5e+01 1.0e+00 \n",
      " 7  1.00e-01   2.6e+00 1.0e+00 \n",
      " 8  3.28e-04   1.4e-01 1.0e+00 \n",
      " 9  4.53e-09   5.3e-04 1.0e+00 \n"
     ]
    },
    {
     "data": {
      "text/plain": [
       "10-element Vector{Vector{Float64}}:\n",
       " [10.0, 20.0]\n",
       " [6.472162698399349, 13.345521494846714]\n",
       " [4.231095648945139, 8.951697133910805]\n",
       " [2.9286320571182682, 6.082270920136542]\n",
       " [2.431222450194972, 4.242677916909563]\n",
       " [2.705460530140921, 3.0732376770848466]\n",
       " [2.9122373182860524, 2.391928097409398]\n",
       " [2.981339454915232, 2.081796482902574]\n",
       " [2.998947729601765, 2.0047679225020802]\n",
       " [2.9999960815075672, 2.000017736641731]"
      ]
     },
     "execution_count": 41,
     "metadata": {},
     "output_type": "execute_result"
    }
   ],
   "source": [
    "fH(x) = (x[2]+x[1].^2-11).^2+(x[1]+x[2].^2-7).^2\n",
    "x0H = [10., 20.]\n",
    "himmelblau = ADNLPModel(fH, x0H)\n",
    "x_bfgs = bfgs_quasi_newton_armijo(himmelblau, x0H)\n",
    "x_newton = newton_ldlt_armijo(himmelblau, x0H)"
   ]
  },
  {
   "cell_type": "markdown",
   "metadata": {},
   "source": [
    "## Methode de Newton"
   ]
  },
  {
   "cell_type": "code",
   "execution_count": 43,
   "metadata": {},
   "outputs": [
    {
     "name": "stderr",
     "output_type": "stream",
     "text": [
      "\u001b[36m\u001b[1m[ \u001b[22m\u001b[39m\u001b[36m\u001b[1mInfo: \u001b[22m\u001b[39mPrecompiling Plots [91a5bcdd-55d7-5caf-9e0b-520d859cae80]\n",
      "\u001b[33m\u001b[1m┌ \u001b[22m\u001b[39m\u001b[33m\u001b[1mWarning: \u001b[22m\u001b[39mbackend `GR` is not installed.\n",
      "\u001b[33m\u001b[1m└ \u001b[22m\u001b[39m\u001b[90m@ Plots C:\\Users\\tangi\\.julia\\packages\\Plots\\nuwp4\\src\\backends.jl:37\u001b[39m\n",
      "\u001b[36m\u001b[1m[ \u001b[22m\u001b[39m\u001b[36m\u001b[1mInfo: \u001b[22m\u001b[39mGR\n"
     ]
    }
   ],
   "source": [
    "using Plots"
   ]
  },
  {
   "cell_type": "code",
   "execution_count": 60,
   "metadata": {},
   "outputs": [
    {
     "data": {
      "text/plain": [
       "10-element Vector{Vector{Float64}}:\n",
       " [10.0, 20.0]\n",
       " [6.472162698399349, 13.345521494846714]\n",
       " [4.231095648945139, 8.951697133910805]\n",
       " [2.9286320571182682, 6.082270920136542]\n",
       " [2.431222450194972, 4.242677916909563]\n",
       " [2.705460530140921, 3.0732376770848466]\n",
       " [2.9122373182860524, 2.391928097409398]\n",
       " [2.981339454915232, 2.081796482902574]\n",
       " [2.998947729601765, 2.0047679225020802]\n",
       " [2.9999960815075672, 2.000017736641731]"
      ]
     },
     "execution_count": 60,
     "metadata": {},
     "output_type": "execute_result"
    }
   ],
   "source": [
    "x_newton"
   ]
  },
  {
   "cell_type": "code",
   "execution_count": 66,
   "metadata": {},
   "outputs": [
    {
     "data": {
      "text/plain": [
       "0.0"
      ]
     },
     "execution_count": 66,
     "metadata": {},
     "output_type": "execute_result"
    }
   ],
   "source": [
    "xf = [3.,2.]\n",
    "fH(xf)"
   ]
  },
  {
   "cell_type": "code",
   "execution_count": 79,
   "metadata": {},
   "outputs": [
    {
     "data": {
      "image/svg+xml": [
       "<?xml version=\"1.0\" encoding=\"utf-8\"?>\n",
       "<svg xmlns=\"http://www.w3.org/2000/svg\" xmlns:xlink=\"http://www.w3.org/1999/xlink\" width=\"600\" height=\"400\" viewBox=\"0 0 2400 1600\">\n",
       "<defs>\n",
       "  <clipPath id=\"clip980\">\n",
       "    <rect x=\"0\" y=\"0\" width=\"2400\" height=\"1600\"/>\n",
       "  </clipPath>\n",
       "</defs>\n",
       "<path clip-path=\"url(#clip980)\" d=\"\n",
       "M0 1600 L2400 1600 L2400 0 L0 0  Z\n",
       "  \" fill=\"#ffffff\" fill-rule=\"evenodd\" fill-opacity=\"1\"/>\n",
       "<defs>\n",
       "  <clipPath id=\"clip981\">\n",
       "    <rect x=\"480\" y=\"0\" width=\"1681\" height=\"1600\"/>\n",
       "  </clipPath>\n",
       "</defs>\n",
       "<path clip-path=\"url(#clip980)\" d=\"\n",
       "M140.696 1486.45 L2352.76 1486.45 L2352.76 123.472 L140.696 123.472  Z\n",
       "  \" fill=\"#ffffff\" fill-rule=\"evenodd\" fill-opacity=\"1\"/>\n",
       "<defs>\n",
       "  <clipPath id=\"clip982\">\n",
       "    <rect x=\"140\" y=\"123\" width=\"2213\" height=\"1364\"/>\n",
       "  </clipPath>\n",
       "</defs>\n",
       "<polyline clip-path=\"url(#clip982)\" style=\"stroke:#000000; stroke-linecap:round; stroke-linejoin:round; stroke-width:2; stroke-opacity:0.1; fill:none\" points=\"\n",
       "  435.173,1486.45 435.173,123.472 \n",
       "  \"/>\n",
       "<polyline clip-path=\"url(#clip982)\" style=\"stroke:#000000; stroke-linecap:round; stroke-linejoin:round; stroke-width:2; stroke-opacity:0.1; fill:none\" points=\"\n",
       "  898.917,1486.45 898.917,123.472 \n",
       "  \"/>\n",
       "<polyline clip-path=\"url(#clip982)\" style=\"stroke:#000000; stroke-linecap:round; stroke-linejoin:round; stroke-width:2; stroke-opacity:0.1; fill:none\" points=\"\n",
       "  1362.66,1486.45 1362.66,123.472 \n",
       "  \"/>\n",
       "<polyline clip-path=\"url(#clip982)\" style=\"stroke:#000000; stroke-linecap:round; stroke-linejoin:round; stroke-width:2; stroke-opacity:0.1; fill:none\" points=\"\n",
       "  1826.41,1486.45 1826.41,123.472 \n",
       "  \"/>\n",
       "<polyline clip-path=\"url(#clip982)\" style=\"stroke:#000000; stroke-linecap:round; stroke-linejoin:round; stroke-width:2; stroke-opacity:0.1; fill:none\" points=\"\n",
       "  2290.15,1486.45 2290.15,123.472 \n",
       "  \"/>\n",
       "<polyline clip-path=\"url(#clip980)\" style=\"stroke:#000000; stroke-linecap:round; stroke-linejoin:round; stroke-width:4; stroke-opacity:1; fill:none\" points=\"\n",
       "  140.696,1486.45 2352.76,1486.45 \n",
       "  \"/>\n",
       "<polyline clip-path=\"url(#clip980)\" style=\"stroke:#000000; stroke-linecap:round; stroke-linejoin:round; stroke-width:4; stroke-opacity:1; fill:none\" points=\"\n",
       "  435.173,1486.45 435.173,1467.55 \n",
       "  \"/>\n",
       "<polyline clip-path=\"url(#clip980)\" style=\"stroke:#000000; stroke-linecap:round; stroke-linejoin:round; stroke-width:4; stroke-opacity:1; fill:none\" points=\"\n",
       "  898.917,1486.45 898.917,1467.55 \n",
       "  \"/>\n",
       "<polyline clip-path=\"url(#clip980)\" style=\"stroke:#000000; stroke-linecap:round; stroke-linejoin:round; stroke-width:4; stroke-opacity:1; fill:none\" points=\"\n",
       "  1362.66,1486.45 1362.66,1467.55 \n",
       "  \"/>\n",
       "<polyline clip-path=\"url(#clip980)\" style=\"stroke:#000000; stroke-linecap:round; stroke-linejoin:round; stroke-width:4; stroke-opacity:1; fill:none\" points=\"\n",
       "  1826.41,1486.45 1826.41,1467.55 \n",
       "  \"/>\n",
       "<polyline clip-path=\"url(#clip980)\" style=\"stroke:#000000; stroke-linecap:round; stroke-linejoin:round; stroke-width:4; stroke-opacity:1; fill:none\" points=\"\n",
       "  2290.15,1486.45 2290.15,1467.55 \n",
       "  \"/>\n",
       "<path clip-path=\"url(#clip980)\" d=\"M429.826 1544.91 L446.145 1544.91 L446.145 1548.85 L424.201 1548.85 L424.201 1544.91 Q426.863 1542.16 431.446 1537.53 Q436.053 1532.88 437.233 1531.53 Q439.479 1529.01 440.358 1527.27 Q441.261 1525.51 441.261 1523.82 Q441.261 1521.07 439.317 1519.33 Q437.395 1517.6 434.294 1517.6 Q432.094 1517.6 429.641 1518.36 Q427.21 1519.13 424.432 1520.68 L424.432 1515.95 Q427.257 1514.82 429.71 1514.24 Q432.164 1513.66 434.201 1513.66 Q439.571 1513.66 442.766 1516.35 Q445.96 1519.03 445.96 1523.52 Q445.96 1525.65 445.15 1527.57 Q444.363 1529.47 442.256 1532.07 Q441.678 1532.74 438.576 1535.95 Q435.474 1539.15 429.826 1544.91 Z\" fill=\"#000000\" fill-rule=\"evenodd\" fill-opacity=\"1\" /><path clip-path=\"url(#clip980)\" d=\"M901.927 1518.36 L890.121 1536.81 L901.927 1536.81 L901.927 1518.36 M900.7 1514.29 L906.579 1514.29 L906.579 1536.81 L911.51 1536.81 L911.51 1540.7 L906.579 1540.7 L906.579 1548.85 L901.927 1548.85 L901.927 1540.7 L886.325 1540.7 L886.325 1536.19 L900.7 1514.29 Z\" fill=\"#000000\" fill-rule=\"evenodd\" fill-opacity=\"1\" /><path clip-path=\"url(#clip980)\" d=\"M1363.07 1529.7 Q1359.92 1529.7 1358.07 1531.86 Q1356.24 1534.01 1356.24 1537.76 Q1356.24 1541.49 1358.07 1543.66 Q1359.92 1545.82 1363.07 1545.82 Q1366.22 1545.82 1368.04 1543.66 Q1369.9 1541.49 1369.9 1537.76 Q1369.9 1534.01 1368.04 1531.86 Q1366.22 1529.7 1363.07 1529.7 M1372.35 1515.05 L1372.35 1519.31 Q1370.59 1518.48 1368.78 1518.04 Q1367 1517.6 1365.24 1517.6 Q1360.61 1517.6 1358.16 1520.72 Q1355.73 1523.85 1355.38 1530.17 Q1356.75 1528.15 1358.81 1527.09 Q1360.87 1526 1363.34 1526 Q1368.55 1526 1371.56 1529.17 Q1374.59 1532.32 1374.59 1537.76 Q1374.59 1543.08 1371.45 1546.3 Q1368.3 1549.52 1363.07 1549.52 Q1357.07 1549.52 1353.9 1544.94 Q1350.73 1540.33 1350.73 1531.6 Q1350.73 1523.41 1354.62 1518.55 Q1358.51 1513.66 1365.06 1513.66 Q1366.82 1513.66 1368.6 1514.01 Q1370.4 1514.36 1372.35 1515.05 Z\" fill=\"#000000\" fill-rule=\"evenodd\" fill-opacity=\"1\" /><path clip-path=\"url(#clip980)\" d=\"M1826.41 1532.44 Q1823.07 1532.44 1821.15 1534.22 Q1819.25 1536 1819.25 1539.13 Q1819.25 1542.25 1821.15 1544.03 Q1823.07 1545.82 1826.41 1545.82 Q1829.74 1545.82 1831.66 1544.03 Q1833.58 1542.23 1833.58 1539.13 Q1833.58 1536 1831.66 1534.22 Q1829.76 1532.44 1826.41 1532.44 M1821.73 1530.45 Q1818.72 1529.7 1817.03 1527.64 Q1815.36 1525.58 1815.36 1522.62 Q1815.36 1518.48 1818.3 1516.07 Q1821.27 1513.66 1826.41 1513.66 Q1831.57 1513.66 1834.51 1516.07 Q1837.45 1518.48 1837.45 1522.62 Q1837.45 1525.58 1835.76 1527.64 Q1834.09 1529.7 1831.11 1530.45 Q1834.48 1531.23 1836.36 1533.52 Q1838.26 1535.82 1838.26 1539.13 Q1838.26 1544.15 1835.18 1546.83 Q1832.12 1549.52 1826.41 1549.52 Q1820.69 1549.52 1817.61 1546.83 Q1814.55 1544.15 1814.55 1539.13 Q1814.55 1535.82 1816.45 1533.52 Q1818.35 1531.23 1821.73 1530.45 M1820.02 1523.06 Q1820.02 1525.75 1821.68 1527.25 Q1823.37 1528.76 1826.41 1528.76 Q1829.42 1528.76 1831.11 1527.25 Q1832.82 1525.75 1832.82 1523.06 Q1832.82 1520.38 1831.11 1518.87 Q1829.42 1517.37 1826.41 1517.37 Q1823.37 1517.37 1821.68 1518.87 Q1820.02 1520.38 1820.02 1523.06 Z\" fill=\"#000000\" fill-rule=\"evenodd\" fill-opacity=\"1\" /><path clip-path=\"url(#clip980)\" d=\"M2264.84 1544.91 L2272.48 1544.91 L2272.48 1518.55 L2264.17 1520.21 L2264.17 1515.95 L2272.43 1514.29 L2277.11 1514.29 L2277.11 1544.91 L2284.75 1544.91 L2284.75 1548.85 L2264.84 1548.85 L2264.84 1544.91 Z\" fill=\"#000000\" fill-rule=\"evenodd\" fill-opacity=\"1\" /><path clip-path=\"url(#clip980)\" d=\"M2304.19 1517.37 Q2300.58 1517.37 2298.75 1520.93 Q2296.94 1524.47 2296.94 1531.6 Q2296.94 1538.71 2298.75 1542.27 Q2300.58 1545.82 2304.19 1545.82 Q2307.82 1545.82 2309.63 1542.27 Q2311.46 1538.71 2311.46 1531.6 Q2311.46 1524.47 2309.63 1520.93 Q2307.82 1517.37 2304.19 1517.37 M2304.19 1513.66 Q2310 1513.66 2313.06 1518.27 Q2316.13 1522.85 2316.13 1531.6 Q2316.13 1540.33 2313.06 1544.94 Q2310 1549.52 2304.19 1549.52 Q2298.38 1549.52 2295.3 1544.94 Q2292.25 1540.33 2292.25 1531.6 Q2292.25 1522.85 2295.3 1518.27 Q2298.38 1513.66 2304.19 1513.66 Z\" fill=\"#000000\" fill-rule=\"evenodd\" fill-opacity=\"1\" /><polyline clip-path=\"url(#clip982)\" style=\"stroke:#000000; stroke-linecap:round; stroke-linejoin:round; stroke-width:2; stroke-opacity:0.1; fill:none\" points=\"\n",
       "  140.696,1372.42 2352.76,1372.42 \n",
       "  \"/>\n",
       "<polyline clip-path=\"url(#clip982)\" style=\"stroke:#000000; stroke-linecap:round; stroke-linejoin:round; stroke-width:2; stroke-opacity:0.1; fill:none\" points=\"\n",
       "  140.696,1031.87 2352.76,1031.87 \n",
       "  \"/>\n",
       "<polyline clip-path=\"url(#clip982)\" style=\"stroke:#000000; stroke-linecap:round; stroke-linejoin:round; stroke-width:2; stroke-opacity:0.1; fill:none\" points=\"\n",
       "  140.696,691.312 2352.76,691.312 \n",
       "  \"/>\n",
       "<polyline clip-path=\"url(#clip982)\" style=\"stroke:#000000; stroke-linecap:round; stroke-linejoin:round; stroke-width:2; stroke-opacity:0.1; fill:none\" points=\"\n",
       "  140.696,350.756 2352.76,350.756 \n",
       "  \"/>\n",
       "<polyline clip-path=\"url(#clip980)\" style=\"stroke:#000000; stroke-linecap:round; stroke-linejoin:round; stroke-width:4; stroke-opacity:1; fill:none\" points=\"\n",
       "  140.696,1486.45 140.696,123.472 \n",
       "  \"/>\n",
       "<polyline clip-path=\"url(#clip980)\" style=\"stroke:#000000; stroke-linecap:round; stroke-linejoin:round; stroke-width:4; stroke-opacity:1; fill:none\" points=\"\n",
       "  140.696,1372.42 159.593,1372.42 \n",
       "  \"/>\n",
       "<polyline clip-path=\"url(#clip980)\" style=\"stroke:#000000; stroke-linecap:round; stroke-linejoin:round; stroke-width:4; stroke-opacity:1; fill:none\" points=\"\n",
       "  140.696,1031.87 159.593,1031.87 \n",
       "  \"/>\n",
       "<polyline clip-path=\"url(#clip980)\" style=\"stroke:#000000; stroke-linecap:round; stroke-linejoin:round; stroke-width:4; stroke-opacity:1; fill:none\" points=\"\n",
       "  140.696,691.312 159.593,691.312 \n",
       "  \"/>\n",
       "<polyline clip-path=\"url(#clip980)\" style=\"stroke:#000000; stroke-linecap:round; stroke-linejoin:round; stroke-width:4; stroke-opacity:1; fill:none\" points=\"\n",
       "  140.696,350.756 159.593,350.756 \n",
       "  \"/>\n",
       "<path clip-path=\"url(#clip980)\" d=\"M83.7929 1355.14 L102.149 1355.14 L102.149 1359.08 L88.0753 1359.08 L88.0753 1367.55 Q89.0938 1367.2 90.1123 1367.04 Q91.1308 1366.86 92.1493 1366.86 Q97.9363 1366.86 101.316 1370.03 Q104.696 1373.2 104.696 1378.62 Q104.696 1384.2 101.223 1387.3 Q97.7511 1390.38 91.4317 1390.38 Q89.2558 1390.38 86.9873 1390.01 Q84.7419 1389.63 82.3346 1388.89 L82.3346 1384.2 Q84.4179 1385.33 86.6401 1385.88 Q88.8623 1386.44 91.3391 1386.44 Q95.3437 1386.44 97.6817 1384.33 Q100.02 1382.23 100.02 1378.62 Q100.02 1375.01 97.6817 1372.9 Q95.3437 1370.79 91.3391 1370.79 Q89.4641 1370.79 87.5892 1371.21 Q85.7373 1371.63 83.7929 1372.51 L83.7929 1355.14 Z\" fill=\"#000000\" fill-rule=\"evenodd\" fill-opacity=\"1\" /><path clip-path=\"url(#clip980)\" d=\"M53.3995 1045.21 L61.0384 1045.21 L61.0384 1018.85 L52.7282 1020.51 L52.7282 1016.25 L60.9921 1014.59 L65.668 1014.59 L65.668 1045.21 L73.3068 1045.21 L73.3068 1049.15 L53.3995 1049.15 L53.3995 1045.21 Z\" fill=\"#000000\" fill-rule=\"evenodd\" fill-opacity=\"1\" /><path clip-path=\"url(#clip980)\" d=\"M92.7512 1017.67 Q89.1401 1017.67 87.3114 1021.23 Q85.5058 1024.77 85.5058 1031.9 Q85.5058 1039.01 87.3114 1042.57 Q89.1401 1046.12 92.7512 1046.12 Q96.3854 1046.12 98.1909 1042.57 Q100.02 1039.01 100.02 1031.9 Q100.02 1024.77 98.1909 1021.23 Q96.3854 1017.67 92.7512 1017.67 M92.7512 1013.96 Q98.5613 1013.96 101.617 1018.57 Q104.696 1023.15 104.696 1031.9 Q104.696 1040.63 101.617 1045.24 Q98.5613 1049.82 92.7512 1049.82 Q86.941 1049.82 83.8623 1045.24 Q80.8068 1040.63 80.8068 1031.9 Q80.8068 1023.15 83.8623 1018.57 Q86.941 1013.96 92.7512 1013.96 Z\" fill=\"#000000\" fill-rule=\"evenodd\" fill-opacity=\"1\" /><path clip-path=\"url(#clip980)\" d=\"M54.3949 704.657 L62.0337 704.657 L62.0337 678.291 L53.7236 679.958 L53.7236 675.699 L61.9874 674.032 L66.6633 674.032 L66.6633 704.657 L74.3022 704.657 L74.3022 708.592 L54.3949 708.592 L54.3949 704.657 Z\" fill=\"#000000\" fill-rule=\"evenodd\" fill-opacity=\"1\" /><path clip-path=\"url(#clip980)\" d=\"M83.7929 674.032 L102.149 674.032 L102.149 677.967 L88.0753 677.967 L88.0753 686.439 Q89.0938 686.092 90.1123 685.93 Q91.1308 685.745 92.1493 685.745 Q97.9363 685.745 101.316 688.916 Q104.696 692.088 104.696 697.504 Q104.696 703.083 101.223 706.185 Q97.7511 709.263 91.4317 709.263 Q89.2558 709.263 86.9873 708.893 Q84.7419 708.523 82.3346 707.782 L82.3346 703.083 Q84.4179 704.217 86.6401 704.773 Q88.8623 705.328 91.3391 705.328 Q95.3437 705.328 97.6817 703.222 Q100.02 701.115 100.02 697.504 Q100.02 693.893 97.6817 691.787 Q95.3437 689.68 91.3391 689.68 Q89.4641 689.68 87.5892 690.097 Q85.7373 690.513 83.7929 691.393 L83.7929 674.032 Z\" fill=\"#000000\" fill-rule=\"evenodd\" fill-opacity=\"1\" /><path clip-path=\"url(#clip980)\" d=\"M56.6171 364.101 L72.9365 364.101 L72.9365 368.036 L50.9921 368.036 L50.9921 364.101 Q53.6541 361.346 58.2375 356.717 Q62.8439 352.064 64.0245 350.721 Q66.2698 348.198 67.1494 346.462 Q68.0522 344.703 68.0522 343.013 Q68.0522 340.258 66.1078 338.522 Q64.1865 336.786 61.0847 336.786 Q58.8856 336.786 56.4319 337.55 Q54.0014 338.314 51.2236 339.865 L51.2236 335.143 Q54.0477 334.008 56.5014 333.43 Q58.955 332.851 60.9921 332.851 Q66.3624 332.851 69.5568 335.536 Q72.7513 338.221 72.7513 342.712 Q72.7513 344.842 71.9411 346.763 Q71.1541 348.661 69.0476 351.254 Q68.4689 351.925 65.367 355.142 Q62.2652 358.337 56.6171 364.101 Z\" fill=\"#000000\" fill-rule=\"evenodd\" fill-opacity=\"1\" /><path clip-path=\"url(#clip980)\" d=\"M92.7512 336.555 Q89.1401 336.555 87.3114 340.119 Q85.5058 343.661 85.5058 350.791 Q85.5058 357.897 87.3114 361.462 Q89.1401 365.004 92.7512 365.004 Q96.3854 365.004 98.1909 361.462 Q100.02 357.897 100.02 350.791 Q100.02 343.661 98.1909 340.119 Q96.3854 336.555 92.7512 336.555 M92.7512 332.851 Q98.5613 332.851 101.617 337.457 Q104.696 342.041 104.696 350.791 Q104.696 359.517 101.617 364.124 Q98.5613 368.707 92.7512 368.707 Q86.941 368.707 83.8623 364.124 Q80.8068 359.517 80.8068 350.791 Q80.8068 342.041 83.8623 337.457 Q86.941 332.851 92.7512 332.851 Z\" fill=\"#000000\" fill-rule=\"evenodd\" fill-opacity=\"1\" /><path clip-path=\"url(#clip980)\" d=\"M1079.81 18.8205 L1079.81 65.8515 L1089.69 65.8515 Q1102.21 65.8515 1108 60.1802 Q1113.84 54.509 1113.84 42.2752 Q1113.84 30.1225 1108 24.4918 Q1102.21 18.8205 1089.69 18.8205 L1079.81 18.8205 M1071.63 12.096 L1088.44 12.096 Q1106.02 12.096 1114.24 19.4281 Q1122.46 26.7198 1122.46 42.2752 Q1122.46 57.9117 1114.2 65.2439 Q1105.94 72.576 1088.44 72.576 L1071.63 72.576 L1071.63 12.096 Z\" fill=\"#000000\" fill-rule=\"evenodd\" fill-opacity=\"1\" /><path clip-path=\"url(#clip980)\" d=\"M1135.18 27.2059 L1142.64 27.2059 L1142.64 72.576 L1135.18 72.576 L1135.18 27.2059 M1135.18 9.54393 L1142.64 9.54393 L1142.64 18.9825 L1135.18 18.9825 L1135.18 9.54393 Z\" fill=\"#000000\" fill-rule=\"evenodd\" fill-opacity=\"1\" /><path clip-path=\"url(#clip980)\" d=\"M1187.16 28.5427 L1187.16 35.5912 Q1184 33.9709 1180.59 33.1607 Q1177.19 32.3505 1173.55 32.3505 Q1168 32.3505 1165.2 34.0519 Q1162.45 35.7533 1162.45 39.156 Q1162.45 41.7486 1164.43 43.2475 Q1166.42 44.7058 1172.41 46.0426 L1174.96 46.6097 Q1182.9 48.3111 1186.23 51.4303 Q1189.59 54.509 1189.59 60.0587 Q1189.59 66.3781 1184.56 70.0644 Q1179.58 73.7508 1170.83 73.7508 Q1167.19 73.7508 1163.22 73.0216 Q1159.29 72.3329 1154.91 70.9151 L1154.91 63.2184 Q1159.04 65.3654 1163.05 66.4591 Q1167.06 67.5124 1170.99 67.5124 Q1176.26 67.5124 1179.1 65.73 Q1181.93 63.9071 1181.93 60.6258 Q1181.93 57.5877 1179.87 55.9673 Q1177.84 54.3469 1170.91 52.8481 L1168.32 52.2405 Q1161.39 50.7821 1158.31 47.7845 Q1155.24 44.7463 1155.24 39.4801 Q1155.24 33.0797 1159.77 29.5959 Q1164.31 26.1121 1172.65 26.1121 Q1176.79 26.1121 1180.43 26.7198 Q1184.08 27.3274 1187.16 28.5427 Z\" fill=\"#000000\" fill-rule=\"evenodd\" fill-opacity=\"1\" /><path clip-path=\"url(#clip980)\" d=\"M1208.83 14.324 L1208.83 27.2059 L1224.18 27.2059 L1224.18 32.9987 L1208.83 32.9987 L1208.83 57.6282 Q1208.83 63.1779 1210.33 64.7578 Q1211.87 66.3376 1216.53 66.3376 L1224.18 66.3376 L1224.18 72.576 L1216.53 72.576 Q1207.9 72.576 1204.62 69.3758 Q1201.34 66.1351 1201.34 57.6282 L1201.34 32.9987 L1195.87 32.9987 L1195.87 27.2059 L1201.34 27.2059 L1201.34 14.324 L1208.83 14.324 Z\" fill=\"#000000\" fill-rule=\"evenodd\" fill-opacity=\"1\" /><path clip-path=\"url(#clip980)\" d=\"M1254.6 49.7694 Q1245.57 49.7694 1242.09 51.8354 Q1238.6 53.9013 1238.6 58.8839 Q1238.6 62.8538 1241.2 65.2034 Q1243.83 67.5124 1248.33 67.5124 Q1254.52 67.5124 1258.25 63.1374 Q1262.02 58.7219 1262.02 51.4303 L1262.02 49.7694 L1254.6 49.7694 M1269.47 46.6907 L1269.47 72.576 L1262.02 72.576 L1262.02 65.6895 Q1259.47 69.8214 1255.66 71.8063 Q1251.85 73.7508 1246.34 73.7508 Q1239.37 73.7508 1235.24 69.8619 Q1231.15 65.9325 1231.15 59.3701 Q1231.15 51.7138 1236.25 47.825 Q1241.4 43.9361 1251.57 43.9361 L1262.02 43.9361 L1262.02 43.2069 Q1262.02 38.0623 1258.62 35.2672 Q1255.25 32.4315 1249.14 32.4315 Q1245.25 32.4315 1241.56 33.3632 Q1237.87 34.295 1234.47 36.1584 L1234.47 29.2718 Q1238.56 27.692 1242.41 26.9223 Q1246.26 26.1121 1249.91 26.1121 Q1259.75 26.1121 1264.61 31.2163 Q1269.47 36.3204 1269.47 46.6907 Z\" fill=\"#000000\" fill-rule=\"evenodd\" fill-opacity=\"1\" /><path clip-path=\"url(#clip980)\" d=\"M1322.54 45.1919 L1322.54 72.576 L1315.08 72.576 L1315.08 45.4349 Q1315.08 38.994 1312.57 35.7938 Q1310.06 32.5936 1305.04 32.5936 Q1299 32.5936 1295.52 36.4419 Q1292.04 40.2903 1292.04 46.9338 L1292.04 72.576 L1284.54 72.576 L1284.54 27.2059 L1292.04 27.2059 L1292.04 34.2544 Q1294.71 30.163 1298.31 28.1376 Q1301.96 26.1121 1306.7 26.1121 Q1314.52 26.1121 1318.53 30.9732 Q1322.54 35.7938 1322.54 45.1919 Z\" fill=\"#000000\" fill-rule=\"evenodd\" fill-opacity=\"1\" /><path clip-path=\"url(#clip980)\" d=\"M1370.06 28.9478 L1370.06 35.9153 Q1366.9 34.1734 1363.7 33.3227 Q1360.54 32.4315 1357.3 32.4315 Q1350.04 32.4315 1346.03 37.0496 Q1342.02 41.6271 1342.02 49.9314 Q1342.02 58.2358 1346.03 62.8538 Q1350.04 67.4314 1357.3 67.4314 Q1360.54 67.4314 1363.7 66.5807 Q1366.9 65.6895 1370.06 63.9476 L1370.06 70.8341 Q1366.94 72.2924 1363.57 73.0216 Q1360.25 73.7508 1356.48 73.7508 Q1346.24 73.7508 1340.2 67.3098 Q1334.16 60.8689 1334.16 49.9314 Q1334.16 38.832 1340.24 32.472 Q1346.36 26.1121 1356.97 26.1121 Q1360.41 26.1121 1363.7 26.8413 Q1366.98 27.5299 1370.06 28.9478 Z\" fill=\"#000000\" fill-rule=\"evenodd\" fill-opacity=\"1\" /><path clip-path=\"url(#clip980)\" d=\"M1421.83 48.0275 L1421.83 51.6733 L1387.56 51.6733 Q1388.04 59.3701 1392.17 63.421 Q1396.35 67.4314 1403.76 67.4314 Q1408.05 67.4314 1412.06 66.3781 Q1416.11 65.3249 1420.08 63.2184 L1420.08 70.267 Q1416.07 71.9684 1411.86 72.8596 Q1407.65 73.7508 1403.31 73.7508 Q1392.46 73.7508 1386.1 67.4314 Q1379.78 61.1119 1379.78 50.3365 Q1379.78 39.1965 1385.77 32.6746 Q1391.81 26.1121 1402.02 26.1121 Q1411.17 26.1121 1416.48 32.0264 Q1421.83 37.9003 1421.83 48.0275 M1414.37 45.84 Q1414.29 39.7232 1410.93 36.0774 Q1407.61 32.4315 1402.1 32.4315 Q1395.86 32.4315 1392.09 35.9558 Q1388.37 39.4801 1387.8 45.8805 L1414.37 45.84 Z\" fill=\"#000000\" fill-rule=\"evenodd\" fill-opacity=\"1\" /><polyline clip-path=\"url(#clip982)\" style=\"stroke:#009af9; stroke-linecap:round; stroke-linejoin:round; stroke-width:4; stroke-opacity:1; fill:none\" points=\"\n",
       "  203.301,162.047 435.173,659.597 667.045,976.074 898.917,1170.99 1130.79,1290.76 1362.66,1372.48 1594.53,1420.58 1826.41,1442.18 2058.28,1447.54 2290.15,1447.87 \n",
       "  \n",
       "  \"/>\n",
       "<path clip-path=\"url(#clip980)\" d=\"\n",
       "M1858.46 272.585 L2279.02 272.585 L2279.02 168.905 L1858.46 168.905  Z\n",
       "  \" fill=\"#ffffff\" fill-rule=\"evenodd\" fill-opacity=\"1\"/>\n",
       "<polyline clip-path=\"url(#clip980)\" style=\"stroke:#000000; stroke-linecap:round; stroke-linejoin:round; stroke-width:4; stroke-opacity:1; fill:none\" points=\"\n",
       "  1858.46,272.585 2279.02,272.585 2279.02,168.905 1858.46,168.905 1858.46,272.585 \n",
       "  \"/>\n",
       "<polyline clip-path=\"url(#clip980)\" style=\"stroke:#009af9; stroke-linecap:round; stroke-linejoin:round; stroke-width:4; stroke-opacity:1; fill:none\" points=\"\n",
       "  1883.04,220.745 2030.51,220.745 \n",
       "  \"/>\n",
       "<path clip-path=\"url(#clip980)\" d=\"M2059.03 201.798 L2059.03 249.205 L2055.09 249.205 L2055.09 201.798 L2059.03 201.798 Z\" fill=\"#000000\" fill-rule=\"evenodd\" fill-opacity=\"1\" /><path clip-path=\"url(#clip980)\" d=\"M2075 201.798 L2075 249.205 L2071.06 249.205 L2071.06 201.798 L2075 201.798 Z\" fill=\"#000000\" fill-rule=\"evenodd\" fill-opacity=\"1\" /><path clip-path=\"url(#clip980)\" d=\"M2107.04 212.099 L2097.66 224.715 L2107.52 238.025 L2102.5 238.025 L2094.95 227.84 L2087.41 238.025 L2082.38 238.025 L2092.45 224.46 L2083.24 212.099 L2088.26 212.099 L2095.14 221.335 L2102.01 212.099 L2107.04 212.099 Z\" fill=\"#000000\" fill-rule=\"evenodd\" fill-opacity=\"1\" /><path clip-path=\"url(#clip980)\" d=\"M2113.38 202.006 L2117.66 202.006 L2117.66 223.279 L2130.37 212.099 L2135.81 212.099 L2122.06 224.228 L2136.39 238.025 L2130.83 238.025 L2117.66 225.363 L2117.66 238.025 L2113.38 238.025 L2113.38 202.006 Z\" fill=\"#000000\" fill-rule=\"evenodd\" fill-opacity=\"1\" /><path clip-path=\"url(#clip980)\" d=\"M2153.91 223.14 L2166.39 223.14 L2166.39 226.937 L2153.91 226.937 L2153.91 223.14 Z\" fill=\"#000000\" fill-rule=\"evenodd\" fill-opacity=\"1\" /><path clip-path=\"url(#clip980)\" d=\"M2209.79 212.099 L2200.41 224.715 L2210.28 238.025 L2205.25 238.025 L2197.71 227.84 L2190.16 238.025 L2185.14 238.025 L2195.21 224.46 L2185.99 212.099 L2191.02 212.099 L2197.89 221.335 L2204.77 212.099 L2209.79 212.099 Z\" fill=\"#000000\" fill-rule=\"evenodd\" fill-opacity=\"1\" /><path clip-path=\"url(#clip980)\" d=\"M2229.42 202.006 L2229.42 205.548 L2225.35 205.548 Q2223.05 205.548 2222.15 206.474 Q2221.27 207.4 2221.27 209.807 L2221.27 212.099 L2228.28 212.099 L2228.28 215.409 L2221.27 215.409 L2221.27 238.025 L2216.99 238.025 L2216.99 215.409 L2212.91 215.409 L2212.91 212.099 L2216.99 212.099 L2216.99 210.293 Q2216.99 205.965 2219 203.997 Q2221.02 202.006 2225.39 202.006 L2229.42 202.006 Z\" fill=\"#000000\" fill-rule=\"evenodd\" fill-opacity=\"1\" /><path clip-path=\"url(#clip980)\" d=\"M2238.47 201.798 L2238.47 249.205 L2234.53 249.205 L2234.53 201.798 L2238.47 201.798 Z\" fill=\"#000000\" fill-rule=\"evenodd\" fill-opacity=\"1\" /><path clip-path=\"url(#clip980)\" d=\"M2254.44 201.798 L2254.44 249.205 L2250.51 249.205 L2250.51 201.798 L2254.44 201.798 Z\" fill=\"#000000\" fill-rule=\"evenodd\" fill-opacity=\"1\" /></svg>\n"
      ]
     },
     "execution_count": 79,
     "metadata": {},
     "output_type": "execute_result"
    }
   ],
   "source": [
    "n1 = length(x_newton)\n",
    "ydist1 = ones(n1)\n",
    "for i = 1:n1\n",
    "    ydist1[i] = norm(x_newton[i] - xf)\n",
    "end\n",
    "ylin1 = zeros(n1-1)\n",
    "yquad1 = zeros(n1-1)\n",
    "for i = 1:n1 -1\n",
    "    ylin1[i] = ydist1[i+1] / ydist1[i]\n",
    "    yquad1[i]= ydist1[i+1] / (ydist1[i]^2)\n",
    "end\n",
    "xdist1 = [1:n1;]\n",
    "xlin1 = [1:n1-1;]\n",
    "p1 = plot(xdist1, ydist1, title=\"Distance\", label=\"||xk - xf||\")\n",
    "p2 = plot(xlin1, ylin1, title=\"Convergence linéaire\", label = \"||xk+1 - xf||/||xk - xf||\" )\n",
    "p3 = plot(xlin1, yquad1, title=\"Convergence quadratique\", label = \"||xk+1 - xf||/||xk - xf||²\" )\n",
    "plot(p1)"
   ]
  },
  {
   "cell_type": "code",
   "execution_count": 78,
   "metadata": {},
   "outputs": [
    {
     "data": {
      "image/svg+xml": [
       "<?xml version=\"1.0\" encoding=\"utf-8\"?>\n",
       "<svg xmlns=\"http://www.w3.org/2000/svg\" xmlns:xlink=\"http://www.w3.org/1999/xlink\" width=\"600\" height=\"400\" viewBox=\"0 0 2400 1600\">\n",
       "<defs>\n",
       "  <clipPath id=\"clip940\">\n",
       "    <rect x=\"0\" y=\"0\" width=\"2400\" height=\"1600\"/>\n",
       "  </clipPath>\n",
       "</defs>\n",
       "<path clip-path=\"url(#clip940)\" d=\"\n",
       "M0 1600 L2400 1600 L2400 0 L0 0  Z\n",
       "  \" fill=\"#ffffff\" fill-rule=\"evenodd\" fill-opacity=\"1\"/>\n",
       "<defs>\n",
       "  <clipPath id=\"clip941\">\n",
       "    <rect x=\"480\" y=\"0\" width=\"1681\" height=\"1600\"/>\n",
       "  </clipPath>\n",
       "</defs>\n",
       "<path clip-path=\"url(#clip940)\" d=\"\n",
       "M156.598 1486.45 L2352.76 1486.45 L2352.76 123.472 L156.598 123.472  Z\n",
       "  \" fill=\"#ffffff\" fill-rule=\"evenodd\" fill-opacity=\"1\"/>\n",
       "<defs>\n",
       "  <clipPath id=\"clip942\">\n",
       "    <rect x=\"156\" y=\"123\" width=\"2197\" height=\"1364\"/>\n",
       "  </clipPath>\n",
       "</defs>\n",
       "<polyline clip-path=\"url(#clip942)\" style=\"stroke:#000000; stroke-linecap:round; stroke-linejoin:round; stroke-width:2; stroke-opacity:0.1; fill:none\" points=\"\n",
       "  477.734,1486.45 477.734,123.472 \n",
       "  \"/>\n",
       "<polyline clip-path=\"url(#clip942)\" style=\"stroke:#000000; stroke-linecap:round; stroke-linejoin:round; stroke-width:2; stroke-opacity:0.1; fill:none\" points=\"\n",
       "  995.696,1486.45 995.696,123.472 \n",
       "  \"/>\n",
       "<polyline clip-path=\"url(#clip942)\" style=\"stroke:#000000; stroke-linecap:round; stroke-linejoin:round; stroke-width:2; stroke-opacity:0.1; fill:none\" points=\"\n",
       "  1513.66,1486.45 1513.66,123.472 \n",
       "  \"/>\n",
       "<polyline clip-path=\"url(#clip942)\" style=\"stroke:#000000; stroke-linecap:round; stroke-linejoin:round; stroke-width:2; stroke-opacity:0.1; fill:none\" points=\"\n",
       "  2031.62,1486.45 2031.62,123.472 \n",
       "  \"/>\n",
       "<polyline clip-path=\"url(#clip940)\" style=\"stroke:#000000; stroke-linecap:round; stroke-linejoin:round; stroke-width:4; stroke-opacity:1; fill:none\" points=\"\n",
       "  156.598,1486.45 2352.76,1486.45 \n",
       "  \"/>\n",
       "<polyline clip-path=\"url(#clip940)\" style=\"stroke:#000000; stroke-linecap:round; stroke-linejoin:round; stroke-width:4; stroke-opacity:1; fill:none\" points=\"\n",
       "  477.734,1486.45 477.734,1467.55 \n",
       "  \"/>\n",
       "<polyline clip-path=\"url(#clip940)\" style=\"stroke:#000000; stroke-linecap:round; stroke-linejoin:round; stroke-width:4; stroke-opacity:1; fill:none\" points=\"\n",
       "  995.696,1486.45 995.696,1467.55 \n",
       "  \"/>\n",
       "<polyline clip-path=\"url(#clip940)\" style=\"stroke:#000000; stroke-linecap:round; stroke-linejoin:round; stroke-width:4; stroke-opacity:1; fill:none\" points=\"\n",
       "  1513.66,1486.45 1513.66,1467.55 \n",
       "  \"/>\n",
       "<polyline clip-path=\"url(#clip940)\" style=\"stroke:#000000; stroke-linecap:round; stroke-linejoin:round; stroke-width:4; stroke-opacity:1; fill:none\" points=\"\n",
       "  2031.62,1486.45 2031.62,1467.55 \n",
       "  \"/>\n",
       "<path clip-path=\"url(#clip940)\" d=\"M472.387 1544.91 L488.707 1544.91 L488.707 1548.85 L466.762 1548.85 L466.762 1544.91 Q469.424 1542.16 474.008 1537.53 Q478.614 1532.88 479.795 1531.53 Q482.04 1529.01 482.92 1527.27 Q483.822 1525.51 483.822 1523.82 Q483.822 1521.07 481.878 1519.33 Q479.957 1517.6 476.855 1517.6 Q474.656 1517.6 472.202 1518.36 Q469.772 1519.13 466.994 1520.68 L466.994 1515.95 Q469.818 1514.82 472.272 1514.24 Q474.725 1513.66 476.762 1513.66 Q482.133 1513.66 485.327 1516.35 Q488.521 1519.03 488.521 1523.52 Q488.521 1525.65 487.711 1527.57 Q486.924 1529.47 484.818 1532.07 Q484.239 1532.74 481.137 1535.95 Q478.035 1539.15 472.387 1544.91 Z\" fill=\"#000000\" fill-rule=\"evenodd\" fill-opacity=\"1\" /><path clip-path=\"url(#clip940)\" d=\"M998.705 1518.36 L986.9 1536.81 L998.705 1536.81 L998.705 1518.36 M997.479 1514.29 L1003.36 1514.29 L1003.36 1536.81 L1008.29 1536.81 L1008.29 1540.7 L1003.36 1540.7 L1003.36 1548.85 L998.705 1548.85 L998.705 1540.7 L983.104 1540.7 L983.104 1536.19 L997.479 1514.29 Z\" fill=\"#000000\" fill-rule=\"evenodd\" fill-opacity=\"1\" /><path clip-path=\"url(#clip940)\" d=\"M1514.06 1529.7 Q1510.91 1529.7 1509.06 1531.86 Q1507.23 1534.01 1507.23 1537.76 Q1507.23 1541.49 1509.06 1543.66 Q1510.91 1545.82 1514.06 1545.82 Q1517.21 1545.82 1519.04 1543.66 Q1520.89 1541.49 1520.89 1537.76 Q1520.89 1534.01 1519.04 1531.86 Q1517.21 1529.7 1514.06 1529.7 M1523.35 1515.05 L1523.35 1519.31 Q1521.59 1518.48 1519.78 1518.04 Q1518 1517.6 1516.24 1517.6 Q1511.61 1517.6 1509.16 1520.72 Q1506.73 1523.85 1506.38 1530.17 Q1507.74 1528.15 1509.8 1527.09 Q1511.86 1526 1514.34 1526 Q1519.55 1526 1522.56 1529.17 Q1525.59 1532.32 1525.59 1537.76 Q1525.59 1543.08 1522.44 1546.3 Q1519.29 1549.52 1514.06 1549.52 Q1508.07 1549.52 1504.9 1544.94 Q1501.73 1540.33 1501.73 1531.6 Q1501.73 1523.41 1505.61 1518.55 Q1509.5 1513.66 1516.05 1513.66 Q1517.81 1513.66 1519.6 1514.01 Q1521.4 1514.36 1523.35 1515.05 Z\" fill=\"#000000\" fill-rule=\"evenodd\" fill-opacity=\"1\" /><path clip-path=\"url(#clip940)\" d=\"M2031.62 1532.44 Q2028.29 1532.44 2026.37 1534.22 Q2024.47 1536 2024.47 1539.13 Q2024.47 1542.25 2026.37 1544.03 Q2028.29 1545.82 2031.62 1545.82 Q2034.95 1545.82 2036.87 1544.03 Q2038.8 1542.23 2038.8 1539.13 Q2038.8 1536 2036.87 1534.22 Q2034.98 1532.44 2031.62 1532.44 M2026.94 1530.45 Q2023.93 1529.7 2022.24 1527.64 Q2020.58 1525.58 2020.58 1522.62 Q2020.58 1518.48 2023.52 1516.07 Q2026.48 1513.66 2031.62 1513.66 Q2036.78 1513.66 2039.72 1516.07 Q2042.66 1518.48 2042.66 1522.62 Q2042.66 1525.58 2040.97 1527.64 Q2039.3 1529.7 2036.32 1530.45 Q2039.7 1531.23 2041.57 1533.52 Q2043.47 1535.82 2043.47 1539.13 Q2043.47 1544.15 2040.39 1546.83 Q2037.34 1549.52 2031.62 1549.52 Q2025.9 1549.52 2022.82 1546.83 Q2019.77 1544.15 2019.77 1539.13 Q2019.77 1535.82 2021.67 1533.52 Q2023.56 1531.23 2026.94 1530.45 M2025.23 1523.06 Q2025.23 1525.75 2026.9 1527.25 Q2028.59 1528.76 2031.62 1528.76 Q2034.63 1528.76 2036.32 1527.25 Q2038.03 1525.75 2038.03 1523.06 Q2038.03 1520.38 2036.32 1518.87 Q2034.63 1517.37 2031.62 1517.37 Q2028.59 1517.37 2026.9 1518.87 Q2025.23 1520.38 2025.23 1523.06 Z\" fill=\"#000000\" fill-rule=\"evenodd\" fill-opacity=\"1\" /><polyline clip-path=\"url(#clip942)\" style=\"stroke:#000000; stroke-linecap:round; stroke-linejoin:round; stroke-width:2; stroke-opacity:0.1; fill:none\" points=\"\n",
       "  156.598,1455.71 2352.76,1455.71 \n",
       "  \"/>\n",
       "<polyline clip-path=\"url(#clip942)\" style=\"stroke:#000000; stroke-linecap:round; stroke-linejoin:round; stroke-width:2; stroke-opacity:0.1; fill:none\" points=\"\n",
       "  156.598,1245.13 2352.76,1245.13 \n",
       "  \"/>\n",
       "<polyline clip-path=\"url(#clip942)\" style=\"stroke:#000000; stroke-linecap:round; stroke-linejoin:round; stroke-width:2; stroke-opacity:0.1; fill:none\" points=\"\n",
       "  156.598,1034.55 2352.76,1034.55 \n",
       "  \"/>\n",
       "<polyline clip-path=\"url(#clip942)\" style=\"stroke:#000000; stroke-linecap:round; stroke-linejoin:round; stroke-width:2; stroke-opacity:0.1; fill:none\" points=\"\n",
       "  156.598,823.979 2352.76,823.979 \n",
       "  \"/>\n",
       "<polyline clip-path=\"url(#clip942)\" style=\"stroke:#000000; stroke-linecap:round; stroke-linejoin:round; stroke-width:2; stroke-opacity:0.1; fill:none\" points=\"\n",
       "  156.598,613.403 2352.76,613.403 \n",
       "  \"/>\n",
       "<polyline clip-path=\"url(#clip942)\" style=\"stroke:#000000; stroke-linecap:round; stroke-linejoin:round; stroke-width:2; stroke-opacity:0.1; fill:none\" points=\"\n",
       "  156.598,402.826 2352.76,402.826 \n",
       "  \"/>\n",
       "<polyline clip-path=\"url(#clip942)\" style=\"stroke:#000000; stroke-linecap:round; stroke-linejoin:round; stroke-width:2; stroke-opacity:0.1; fill:none\" points=\"\n",
       "  156.598,192.25 2352.76,192.25 \n",
       "  \"/>\n",
       "<polyline clip-path=\"url(#clip940)\" style=\"stroke:#000000; stroke-linecap:round; stroke-linejoin:round; stroke-width:4; stroke-opacity:1; fill:none\" points=\"\n",
       "  156.598,1486.45 156.598,123.472 \n",
       "  \"/>\n",
       "<polyline clip-path=\"url(#clip940)\" style=\"stroke:#000000; stroke-linecap:round; stroke-linejoin:round; stroke-width:4; stroke-opacity:1; fill:none\" points=\"\n",
       "  156.598,1455.71 175.496,1455.71 \n",
       "  \"/>\n",
       "<polyline clip-path=\"url(#clip940)\" style=\"stroke:#000000; stroke-linecap:round; stroke-linejoin:round; stroke-width:4; stroke-opacity:1; fill:none\" points=\"\n",
       "  156.598,1245.13 175.496,1245.13 \n",
       "  \"/>\n",
       "<polyline clip-path=\"url(#clip940)\" style=\"stroke:#000000; stroke-linecap:round; stroke-linejoin:round; stroke-width:4; stroke-opacity:1; fill:none\" points=\"\n",
       "  156.598,1034.55 175.496,1034.55 \n",
       "  \"/>\n",
       "<polyline clip-path=\"url(#clip940)\" style=\"stroke:#000000; stroke-linecap:round; stroke-linejoin:round; stroke-width:4; stroke-opacity:1; fill:none\" points=\"\n",
       "  156.598,823.979 175.496,823.979 \n",
       "  \"/>\n",
       "<polyline clip-path=\"url(#clip940)\" style=\"stroke:#000000; stroke-linecap:round; stroke-linejoin:round; stroke-width:4; stroke-opacity:1; fill:none\" points=\"\n",
       "  156.598,613.403 175.496,613.403 \n",
       "  \"/>\n",
       "<polyline clip-path=\"url(#clip940)\" style=\"stroke:#000000; stroke-linecap:round; stroke-linejoin:round; stroke-width:4; stroke-opacity:1; fill:none\" points=\"\n",
       "  156.598,402.826 175.496,402.826 \n",
       "  \"/>\n",
       "<polyline clip-path=\"url(#clip940)\" style=\"stroke:#000000; stroke-linecap:round; stroke-linejoin:round; stroke-width:4; stroke-opacity:1; fill:none\" points=\"\n",
       "  156.598,192.25 175.496,192.25 \n",
       "  \"/>\n",
       "<path clip-path=\"url(#clip940)\" d=\"M63.4226 1441.51 Q59.8115 1441.51 57.9828 1445.07 Q56.1773 1448.61 56.1773 1455.74 Q56.1773 1462.85 57.9828 1466.41 Q59.8115 1469.95 63.4226 1469.95 Q67.0569 1469.95 68.8624 1466.41 Q70.6911 1462.85 70.6911 1455.74 Q70.6911 1448.61 68.8624 1445.07 Q67.0569 1441.51 63.4226 1441.51 M63.4226 1437.8 Q69.2328 1437.8 72.2883 1442.41 Q75.367 1446.99 75.367 1455.74 Q75.367 1464.47 72.2883 1469.07 Q69.2328 1473.66 63.4226 1473.66 Q57.6125 1473.66 54.5338 1469.07 Q51.4782 1464.47 51.4782 1455.74 Q51.4782 1446.99 54.5338 1442.41 Q57.6125 1437.8 63.4226 1437.8 Z\" fill=\"#000000\" fill-rule=\"evenodd\" fill-opacity=\"1\" /><path clip-path=\"url(#clip940)\" d=\"M83.5845 1467.11 L88.4688 1467.11 L88.4688 1472.99 L83.5845 1472.99 L83.5845 1467.11 Z\" fill=\"#000000\" fill-rule=\"evenodd\" fill-opacity=\"1\" /><path clip-path=\"url(#clip940)\" d=\"M108.654 1441.51 Q105.043 1441.51 103.214 1445.07 Q101.409 1448.61 101.409 1455.74 Q101.409 1462.85 103.214 1466.41 Q105.043 1469.95 108.654 1469.95 Q112.288 1469.95 114.094 1466.41 Q115.922 1462.85 115.922 1455.74 Q115.922 1448.61 114.094 1445.07 Q112.288 1441.51 108.654 1441.51 M108.654 1437.8 Q114.464 1437.8 117.52 1442.41 Q120.598 1446.99 120.598 1455.74 Q120.598 1464.47 117.52 1469.07 Q114.464 1473.66 108.654 1473.66 Q102.844 1473.66 99.765 1469.07 Q96.7095 1464.47 96.7095 1455.74 Q96.7095 1446.99 99.765 1442.41 Q102.844 1437.8 108.654 1437.8 Z\" fill=\"#000000\" fill-rule=\"evenodd\" fill-opacity=\"1\" /><path clip-path=\"url(#clip940)\" d=\"M64.6495 1230.93 Q61.0384 1230.93 59.2097 1234.49 Q57.4041 1238.04 57.4041 1245.17 Q57.4041 1252.27 59.2097 1255.84 Q61.0384 1259.38 64.6495 1259.38 Q68.2837 1259.38 70.0892 1255.84 Q71.9179 1252.27 71.9179 1245.17 Q71.9179 1238.04 70.0892 1234.49 Q68.2837 1230.93 64.6495 1230.93 M64.6495 1227.23 Q70.4596 1227.23 73.5152 1231.83 Q76.5938 1236.42 76.5938 1245.17 Q76.5938 1253.89 73.5152 1258.5 Q70.4596 1263.08 64.6495 1263.08 Q58.8393 1263.08 55.7606 1258.5 Q52.7051 1253.89 52.7051 1245.17 Q52.7051 1236.42 55.7606 1231.83 Q58.8393 1227.23 64.6495 1227.23 Z\" fill=\"#000000\" fill-rule=\"evenodd\" fill-opacity=\"1\" /><path clip-path=\"url(#clip940)\" d=\"M84.8114 1256.53 L89.6956 1256.53 L89.6956 1262.41 L84.8114 1262.41 L84.8114 1256.53 Z\" fill=\"#000000\" fill-rule=\"evenodd\" fill-opacity=\"1\" /><path clip-path=\"url(#clip940)\" d=\"M100.691 1258.48 L108.33 1258.48 L108.33 1232.11 L100.02 1233.78 L100.02 1229.52 L108.283 1227.85 L112.959 1227.85 L112.959 1258.48 L120.598 1258.48 L120.598 1262.41 L100.691 1262.41 L100.691 1258.48 Z\" fill=\"#000000\" fill-rule=\"evenodd\" fill-opacity=\"1\" /><path clip-path=\"url(#clip940)\" d=\"M65.0198 1020.35 Q61.4087 1020.35 59.58 1023.92 Q57.7745 1027.46 57.7745 1034.59 Q57.7745 1041.7 59.58 1045.26 Q61.4087 1048.8 65.0198 1048.8 Q68.6541 1048.8 70.4596 1045.26 Q72.2883 1041.7 72.2883 1034.59 Q72.2883 1027.46 70.4596 1023.92 Q68.6541 1020.35 65.0198 1020.35 M65.0198 1016.65 Q70.83 1016.65 73.8855 1021.26 Q76.9642 1025.84 76.9642 1034.59 Q76.9642 1043.32 73.8855 1047.92 Q70.83 1052.51 65.0198 1052.51 Q59.2097 1052.51 56.131 1047.92 Q53.0754 1043.32 53.0754 1034.59 Q53.0754 1025.84 56.131 1021.26 Q59.2097 1016.65 65.0198 1016.65 Z\" fill=\"#000000\" fill-rule=\"evenodd\" fill-opacity=\"1\" /><path clip-path=\"url(#clip940)\" d=\"M85.1818 1045.96 L90.066 1045.96 L90.066 1051.83 L85.1818 1051.83 L85.1818 1045.96 Z\" fill=\"#000000\" fill-rule=\"evenodd\" fill-opacity=\"1\" /><path clip-path=\"url(#clip940)\" d=\"M104.279 1047.9 L120.598 1047.9 L120.598 1051.83 L98.6539 1051.83 L98.6539 1047.9 Q101.316 1045.14 105.899 1040.52 Q110.506 1035.86 111.686 1034.52 Q113.932 1032 114.811 1030.26 Q115.714 1028.5 115.714 1026.81 Q115.714 1024.06 113.77 1022.32 Q111.848 1020.58 108.746 1020.58 Q106.547 1020.58 104.094 1021.35 Q101.663 1022.11 98.8854 1023.66 L98.8854 1018.94 Q101.709 1017.81 104.163 1017.23 Q106.617 1016.65 108.654 1016.65 Q114.024 1016.65 117.219 1019.33 Q120.413 1022.02 120.413 1026.51 Q120.413 1028.64 119.603 1030.56 Q118.816 1032.46 116.709 1035.05 Q116.131 1035.72 113.029 1038.94 Q109.927 1042.14 104.279 1047.9 Z\" fill=\"#000000\" fill-rule=\"evenodd\" fill-opacity=\"1\" /><path clip-path=\"url(#clip940)\" d=\"M64.0708 809.777 Q60.4597 809.777 58.631 813.342 Q56.8254 816.884 56.8254 824.013 Q56.8254 831.12 58.631 834.685 Q60.4597 838.226 64.0708 838.226 Q67.705 838.226 69.5105 834.685 Q71.3392 831.12 71.3392 824.013 Q71.3392 816.884 69.5105 813.342 Q67.705 809.777 64.0708 809.777 M64.0708 806.074 Q69.8809 806.074 72.9365 810.68 Q76.0151 815.263 76.0151 824.013 Q76.0151 832.74 72.9365 837.347 Q69.8809 841.93 64.0708 841.93 Q58.2606 841.93 55.1819 837.347 Q52.1264 832.74 52.1264 824.013 Q52.1264 815.263 55.1819 810.68 Q58.2606 806.074 64.0708 806.074 Z\" fill=\"#000000\" fill-rule=\"evenodd\" fill-opacity=\"1\" /><path clip-path=\"url(#clip940)\" d=\"M84.2327 835.379 L89.1169 835.379 L89.1169 841.259 L84.2327 841.259 L84.2327 835.379 Z\" fill=\"#000000\" fill-rule=\"evenodd\" fill-opacity=\"1\" /><path clip-path=\"url(#clip940)\" d=\"M113.469 822.624 Q116.825 823.342 118.7 825.611 Q120.598 827.879 120.598 831.212 Q120.598 836.328 117.08 839.129 Q113.561 841.93 107.08 841.93 Q104.904 841.93 102.589 841.49 Q100.297 841.073 97.8437 840.217 L97.8437 835.703 Q99.7882 836.837 102.103 837.416 Q104.418 837.995 106.941 837.995 Q111.339 837.995 113.631 836.259 Q115.945 834.523 115.945 831.212 Q115.945 828.157 113.793 826.444 Q111.663 824.708 107.844 824.708 L103.816 824.708 L103.816 820.865 L108.029 820.865 Q111.478 820.865 113.307 819.499 Q115.135 818.111 115.135 815.518 Q115.135 812.856 113.237 811.444 Q111.362 810.009 107.844 810.009 Q105.922 810.009 103.723 810.425 Q101.524 810.842 98.8854 811.722 L98.8854 807.555 Q101.547 806.814 103.862 806.444 Q106.2 806.074 108.26 806.074 Q113.584 806.074 116.686 808.504 Q119.788 810.912 119.788 815.032 Q119.788 817.902 118.145 819.893 Q116.501 821.861 113.469 822.624 Z\" fill=\"#000000\" fill-rule=\"evenodd\" fill-opacity=\"1\" /><path clip-path=\"url(#clip940)\" d=\"M62.9365 599.201 Q59.3254 599.201 57.4967 602.766 Q55.6912 606.308 55.6912 613.437 Q55.6912 620.544 57.4967 624.108 Q59.3254 627.65 62.9365 627.65 Q66.5707 627.65 68.3763 624.108 Q70.205 620.544 70.205 613.437 Q70.205 606.308 68.3763 602.766 Q66.5707 599.201 62.9365 599.201 M62.9365 595.498 Q68.7467 595.498 71.8022 600.104 Q74.8809 604.687 74.8809 613.437 Q74.8809 622.164 71.8022 626.771 Q68.7467 631.354 62.9365 631.354 Q57.1264 631.354 54.0477 626.771 Q50.9921 622.164 50.9921 613.437 Q50.9921 604.687 54.0477 600.104 Q57.1264 595.498 62.9365 595.498 Z\" fill=\"#000000\" fill-rule=\"evenodd\" fill-opacity=\"1\" /><path clip-path=\"url(#clip940)\" d=\"M83.0984 624.803 L87.9827 624.803 L87.9827 630.683 L83.0984 630.683 L83.0984 624.803 Z\" fill=\"#000000\" fill-rule=\"evenodd\" fill-opacity=\"1\" /><path clip-path=\"url(#clip940)\" d=\"M111.015 600.197 L99.2095 618.646 L111.015 618.646 L111.015 600.197 M109.788 596.123 L115.668 596.123 L115.668 618.646 L120.598 618.646 L120.598 622.534 L115.668 622.534 L115.668 630.683 L111.015 630.683 L111.015 622.534 L95.4132 622.534 L95.4132 618.021 L109.788 596.123 Z\" fill=\"#000000\" fill-rule=\"evenodd\" fill-opacity=\"1\" /><path clip-path=\"url(#clip940)\" d=\"M64.418 388.625 Q60.8069 388.625 58.9782 392.19 Q57.1726 395.732 57.1726 402.861 Q57.1726 409.968 58.9782 413.532 Q60.8069 417.074 64.418 417.074 Q68.0522 417.074 69.8578 413.532 Q71.6865 409.968 71.6865 402.861 Q71.6865 395.732 69.8578 392.19 Q68.0522 388.625 64.418 388.625 M64.418 384.921 Q70.2281 384.921 73.2837 389.528 Q76.3624 394.111 76.3624 402.861 Q76.3624 411.588 73.2837 416.194 Q70.2281 420.778 64.418 420.778 Q58.6078 420.778 55.5291 416.194 Q52.4736 411.588 52.4736 402.861 Q52.4736 394.111 55.5291 389.528 Q58.6078 384.921 64.418 384.921 Z\" fill=\"#000000\" fill-rule=\"evenodd\" fill-opacity=\"1\" /><path clip-path=\"url(#clip940)\" d=\"M84.5799 414.227 L89.4641 414.227 L89.4641 420.106 L84.5799 420.106 L84.5799 414.227 Z\" fill=\"#000000\" fill-rule=\"evenodd\" fill-opacity=\"1\" /><path clip-path=\"url(#clip940)\" d=\"M99.6956 385.546 L118.052 385.546 L118.052 389.482 L103.978 389.482 L103.978 397.954 Q104.996 397.607 106.015 397.445 Q107.033 397.259 108.052 397.259 Q113.839 397.259 117.219 400.431 Q120.598 403.602 120.598 409.019 Q120.598 414.597 117.126 417.699 Q113.654 420.778 107.334 420.778 Q105.159 420.778 102.89 420.407 Q100.645 420.037 98.2372 419.296 L98.2372 414.597 Q100.321 415.731 102.543 416.287 Q104.765 416.843 107.242 416.843 Q111.246 416.843 113.584 414.736 Q115.922 412.63 115.922 409.019 Q115.922 405.407 113.584 403.301 Q111.246 401.195 107.242 401.195 Q105.367 401.195 103.492 401.611 Q101.64 402.028 99.6956 402.907 L99.6956 385.546 Z\" fill=\"#000000\" fill-rule=\"evenodd\" fill-opacity=\"1\" /><path clip-path=\"url(#clip940)\" d=\"M63.2606 178.049 Q59.6495 178.049 57.8208 181.614 Q56.0152 185.155 56.0152 192.285 Q56.0152 199.392 57.8208 202.956 Q59.6495 206.498 63.2606 206.498 Q66.8948 206.498 68.7004 202.956 Q70.5291 199.392 70.5291 192.285 Q70.5291 185.155 68.7004 181.614 Q66.8948 178.049 63.2606 178.049 M63.2606 174.345 Q69.0707 174.345 72.1263 178.952 Q75.205 183.535 75.205 192.285 Q75.205 201.012 72.1263 205.618 Q69.0707 210.202 63.2606 210.202 Q57.4504 210.202 54.3717 205.618 Q51.3162 201.012 51.3162 192.285 Q51.3162 183.535 54.3717 178.952 Q57.4504 174.345 63.2606 174.345 Z\" fill=\"#000000\" fill-rule=\"evenodd\" fill-opacity=\"1\" /><path clip-path=\"url(#clip940)\" d=\"M83.4225 203.651 L88.3067 203.651 L88.3067 209.53 L83.4225 209.53 L83.4225 203.651 Z\" fill=\"#000000\" fill-rule=\"evenodd\" fill-opacity=\"1\" /><path clip-path=\"url(#clip940)\" d=\"M109.071 190.387 Q105.922 190.387 104.071 192.54 Q102.242 194.692 102.242 198.442 Q102.242 202.169 104.071 204.345 Q105.922 206.498 109.071 206.498 Q112.219 206.498 114.047 204.345 Q115.899 202.169 115.899 198.442 Q115.899 194.692 114.047 192.54 Q112.219 190.387 109.071 190.387 M118.353 175.734 L118.353 179.993 Q116.594 179.16 114.788 178.72 Q113.006 178.281 111.246 178.281 Q106.617 178.281 104.163 181.405 Q101.733 184.53 101.385 190.85 Q102.751 188.836 104.811 187.771 Q106.871 186.683 109.348 186.683 Q114.557 186.683 117.566 189.855 Q120.598 193.003 120.598 198.442 Q120.598 203.766 117.45 206.984 Q114.302 210.202 109.071 210.202 Q103.075 210.202 99.9039 205.618 Q96.7326 201.012 96.7326 192.285 Q96.7326 184.091 100.621 179.23 Q104.51 174.345 111.061 174.345 Q112.82 174.345 114.603 174.693 Q116.408 175.04 118.353 175.734 Z\" fill=\"#000000\" fill-rule=\"evenodd\" fill-opacity=\"1\" /><path clip-path=\"url(#clip940)\" d=\"M867.836 16.7545 L867.836 25.383 Q863.704 21.5346 859.005 19.6307 Q854.346 17.7268 849.08 17.7268 Q838.71 17.7268 833.201 24.0867 Q827.692 30.4061 827.692 42.3968 Q827.692 54.3469 833.201 60.7069 Q838.71 67.0263 849.08 67.0263 Q854.346 67.0263 859.005 65.1223 Q863.704 63.2184 867.836 59.3701 L867.836 67.9175 Q863.542 70.8341 858.721 72.2924 Q853.941 73.7508 848.594 73.7508 Q834.862 73.7508 826.962 65.3654 Q819.063 56.9395 819.063 42.3968 Q819.063 27.8135 826.962 19.4281 Q834.862 11.0023 848.594 11.0023 Q854.022 11.0023 858.802 12.4606 Q863.623 13.8784 867.836 16.7545 Z\" fill=\"#000000\" fill-rule=\"evenodd\" fill-opacity=\"1\" /><path clip-path=\"url(#clip940)\" d=\"M897.732 32.4315 Q891.736 32.4315 888.253 37.1306 Q884.769 41.7891 884.769 49.9314 Q884.769 58.0738 888.212 62.7728 Q891.696 67.4314 897.732 67.4314 Q903.686 67.4314 907.17 62.7323 Q910.654 58.0333 910.654 49.9314 Q910.654 41.8701 907.17 37.1711 Q903.686 32.4315 897.732 32.4315 M897.732 26.1121 Q907.454 26.1121 913.004 32.4315 Q918.553 38.7509 918.553 49.9314 Q918.553 61.0714 913.004 67.4314 Q907.454 73.7508 897.732 73.7508 Q887.969 73.7508 882.419 67.4314 Q876.91 61.0714 876.91 49.9314 Q876.91 38.7509 882.419 32.4315 Q887.969 26.1121 897.732 26.1121 Z\" fill=\"#000000\" fill-rule=\"evenodd\" fill-opacity=\"1\" /><path clip-path=\"url(#clip940)\" d=\"M968.622 45.1919 L968.622 72.576 L961.169 72.576 L961.169 45.4349 Q961.169 38.994 958.657 35.7938 Q956.146 32.5936 951.123 32.5936 Q945.087 32.5936 941.603 36.4419 Q938.119 40.2903 938.119 46.9338 L938.119 72.576 L930.625 72.576 L930.625 27.2059 L938.119 27.2059 L938.119 34.2544 Q940.793 30.163 944.398 28.1376 Q948.044 26.1121 952.783 26.1121 Q960.602 26.1121 964.612 30.9732 Q968.622 35.7938 968.622 45.1919 Z\" fill=\"#000000\" fill-rule=\"evenodd\" fill-opacity=\"1\" /><path clip-path=\"url(#clip940)\" d=\"M978.142 27.2059 L986.041 27.2059 L1000.22 65.2844 L1014.4 27.2059 L1022.3 27.2059 L1005.28 72.576 L995.156 72.576 L978.142 27.2059 Z\" fill=\"#000000\" fill-rule=\"evenodd\" fill-opacity=\"1\" /><path clip-path=\"url(#clip940)\" d=\"M1071.39 48.0275 L1071.39 51.6733 L1037.12 51.6733 Q1037.61 59.3701 1041.74 63.421 Q1045.91 67.4314 1053.33 67.4314 Q1057.62 67.4314 1061.63 66.3781 Q1065.68 65.3249 1069.65 63.2184 L1069.65 70.267 Q1065.64 71.9684 1061.43 72.8596 Q1057.22 73.7508 1052.88 73.7508 Q1042.02 73.7508 1035.66 67.4314 Q1029.35 61.1119 1029.35 50.3365 Q1029.35 39.1965 1035.34 32.6746 Q1041.38 26.1121 1051.58 26.1121 Q1060.74 26.1121 1066.05 32.0264 Q1071.39 37.9003 1071.39 48.0275 M1063.94 45.84 Q1063.86 39.7232 1060.5 36.0774 Q1057.18 32.4315 1051.67 32.4315 Q1045.43 32.4315 1041.66 35.9558 Q1037.93 39.4801 1037.37 45.8805 L1063.94 45.84 Z\" fill=\"#000000\" fill-rule=\"evenodd\" fill-opacity=\"1\" /><path clip-path=\"url(#clip940)\" d=\"M1109.92 34.1734 Q1108.66 33.4443 1107.16 33.1202 Q1105.71 32.7556 1103.92 32.7556 Q1097.6 32.7556 1094.2 36.8875 Q1090.84 40.9789 1090.84 48.6757 L1090.84 72.576 L1083.34 72.576 L1083.34 27.2059 L1090.84 27.2059 L1090.84 34.2544 Q1093.19 30.1225 1096.96 28.1376 Q1100.72 26.1121 1106.11 26.1121 Q1106.88 26.1121 1107.81 26.2337 Q1108.74 26.3147 1109.88 26.5172 L1109.92 34.1734 Z\" fill=\"#000000\" fill-rule=\"evenodd\" fill-opacity=\"1\" /><path clip-path=\"url(#clip940)\" d=\"M1146.13 49.3643 Q1146.13 41.2625 1142.77 36.8065 Q1139.45 32.3505 1133.41 32.3505 Q1127.42 32.3505 1124.06 36.8065 Q1120.73 41.2625 1120.73 49.3643 Q1120.73 57.4256 1124.06 61.8816 Q1127.42 66.3376 1133.41 66.3376 Q1139.45 66.3376 1142.77 61.8816 Q1146.13 57.4256 1146.13 49.3643 M1153.59 66.9452 Q1153.59 78.5308 1148.44 84.1616 Q1143.3 89.8329 1132.68 89.8329 Q1128.75 89.8329 1125.27 89.2252 Q1121.79 88.6581 1118.51 87.4428 L1118.51 80.1917 Q1121.79 81.9741 1124.99 82.8248 Q1128.19 83.6755 1131.51 83.6755 Q1138.84 83.6755 1142.49 79.8271 Q1146.13 76.0193 1146.13 68.282 L1146.13 64.5957 Q1143.82 68.6061 1140.22 70.5911 Q1136.61 72.576 1131.59 72.576 Q1123.25 72.576 1118.14 66.2161 Q1113.04 59.8562 1113.04 49.3643 Q1113.04 38.832 1118.14 32.472 Q1123.25 26.1121 1131.59 26.1121 Q1136.61 26.1121 1140.22 28.0971 Q1143.82 30.082 1146.13 34.0924 L1146.13 27.2059 L1153.59 27.2059 L1153.59 66.9452 Z\" fill=\"#000000\" fill-rule=\"evenodd\" fill-opacity=\"1\" /><path clip-path=\"url(#clip940)\" d=\"M1207.75 48.0275 L1207.75 51.6733 L1173.48 51.6733 Q1173.96 59.3701 1178.09 63.421 Q1182.27 67.4314 1189.68 67.4314 Q1193.97 67.4314 1197.98 66.3781 Q1202.04 65.3249 1206.01 63.2184 L1206.01 70.267 Q1202 71.9684 1197.78 72.8596 Q1193.57 73.7508 1189.23 73.7508 Q1178.38 73.7508 1172.02 67.4314 Q1165.7 61.1119 1165.7 50.3365 Q1165.7 39.1965 1171.69 32.6746 Q1177.73 26.1121 1187.94 26.1121 Q1197.09 26.1121 1202.4 32.0264 Q1207.75 37.9003 1207.75 48.0275 M1200.29 45.84 Q1200.21 39.7232 1196.85 36.0774 Q1193.53 32.4315 1188.02 32.4315 Q1181.78 32.4315 1178.01 35.9558 Q1174.29 39.4801 1173.72 45.8805 L1200.29 45.84 Z\" fill=\"#000000\" fill-rule=\"evenodd\" fill-opacity=\"1\" /><path clip-path=\"url(#clip940)\" d=\"M1257.69 45.1919 L1257.69 72.576 L1250.24 72.576 L1250.24 45.4349 Q1250.24 38.994 1247.73 35.7938 Q1245.22 32.5936 1240.2 32.5936 Q1234.16 32.5936 1230.68 36.4419 Q1227.19 40.2903 1227.19 46.9338 L1227.19 72.576 L1219.7 72.576 L1219.7 27.2059 L1227.19 27.2059 L1227.19 34.2544 Q1229.87 30.163 1233.47 28.1376 Q1237.12 26.1121 1241.86 26.1121 Q1249.67 26.1121 1253.68 30.9732 Q1257.69 35.7938 1257.69 45.1919 Z\" fill=\"#000000\" fill-rule=\"evenodd\" fill-opacity=\"1\" /><path clip-path=\"url(#clip940)\" d=\"M1305.21 28.9478 L1305.21 35.9153 Q1302.05 34.1734 1298.85 33.3227 Q1295.69 32.4315 1292.45 32.4315 Q1285.2 32.4315 1281.19 37.0496 Q1277.18 41.6271 1277.18 49.9314 Q1277.18 58.2358 1281.19 62.8538 Q1285.2 67.4314 1292.45 67.4314 Q1295.69 67.4314 1298.85 66.5807 Q1302.05 65.6895 1305.21 63.9476 L1305.21 70.8341 Q1302.09 72.2924 1298.73 73.0216 Q1295.41 73.7508 1291.64 73.7508 Q1281.39 73.7508 1275.36 67.3098 Q1269.32 60.8689 1269.32 49.9314 Q1269.32 38.832 1275.4 32.472 Q1281.51 26.1121 1292.13 26.1121 Q1295.57 26.1121 1298.85 26.8413 Q1302.13 27.5299 1305.21 28.9478 Z\" fill=\"#000000\" fill-rule=\"evenodd\" fill-opacity=\"1\" /><path clip-path=\"url(#clip940)\" d=\"M1356.98 48.0275 L1356.98 51.6733 L1322.71 51.6733 Q1323.2 59.3701 1327.33 63.421 Q1331.5 67.4314 1338.92 67.4314 Q1343.21 67.4314 1347.22 66.3781 Q1351.27 65.3249 1355.24 63.2184 L1355.24 70.267 Q1351.23 71.9684 1347.02 72.8596 Q1342.8 73.7508 1338.47 73.7508 Q1327.61 73.7508 1321.25 67.4314 Q1314.93 61.1119 1314.93 50.3365 Q1314.93 39.1965 1320.93 32.6746 Q1326.97 26.1121 1337.17 26.1121 Q1346.33 26.1121 1351.64 32.0264 Q1356.98 37.9003 1356.98 48.0275 M1349.53 45.84 Q1349.45 39.7232 1346.09 36.0774 Q1342.76 32.4315 1337.25 32.4315 Q1331.02 32.4315 1327.25 35.9558 Q1323.52 39.4801 1322.96 45.8805 L1349.53 45.84 Z\" fill=\"#000000\" fill-rule=\"evenodd\" fill-opacity=\"1\" /><path clip-path=\"url(#clip940)\" d=\"M1395.59 9.54393 L1403.04 9.54393 L1403.04 72.576 L1395.59 72.576 L1395.59 9.54393 Z\" fill=\"#000000\" fill-rule=\"evenodd\" fill-opacity=\"1\" /><path clip-path=\"url(#clip940)\" d=\"M1418.64 27.2059 L1426.09 27.2059 L1426.09 72.576 L1418.64 72.576 L1418.64 27.2059 M1418.64 9.54393 L1426.09 9.54393 L1426.09 18.9825 L1418.64 18.9825 L1418.64 9.54393 Z\" fill=\"#000000\" fill-rule=\"evenodd\" fill-opacity=\"1\" /><path clip-path=\"url(#clip940)\" d=\"M1479.4 45.1919 L1479.4 72.576 L1471.95 72.576 L1471.95 45.4349 Q1471.95 38.994 1469.44 35.7938 Q1466.92 32.5936 1461.9 32.5936 Q1455.87 32.5936 1452.38 36.4419 Q1448.9 40.2903 1448.9 46.9338 L1448.9 72.576 L1441.4 72.576 L1441.4 27.2059 L1448.9 27.2059 L1448.9 34.2544 Q1451.57 30.163 1455.18 28.1376 Q1458.82 26.1121 1463.56 26.1121 Q1471.38 26.1121 1475.39 30.9732 Q1479.4 35.7938 1479.4 45.1919 Z\" fill=\"#000000\" fill-rule=\"evenodd\" fill-opacity=\"1\" /><path clip-path=\"url(#clip940)\" d=\"M1533.08 48.0275 L1533.08 51.6733 L1498.8 51.6733 Q1499.29 59.3701 1503.42 63.421 Q1507.6 67.4314 1515.01 67.4314 Q1519.3 67.4314 1523.31 66.3781 Q1527.36 65.3249 1531.33 63.2184 L1531.33 70.267 Q1527.32 71.9684 1523.11 72.8596 Q1518.9 73.7508 1514.56 73.7508 Q1503.71 73.7508 1497.35 67.4314 Q1491.03 61.1119 1491.03 50.3365 Q1491.03 39.1965 1497.02 32.6746 Q1503.06 26.1121 1513.27 26.1121 Q1522.42 26.1121 1527.73 32.0264 Q1533.08 37.9003 1533.08 48.0275 M1525.62 45.84 Q1525.54 39.7232 1522.18 36.0774 Q1518.86 32.4315 1513.35 32.4315 Q1507.11 32.4315 1503.34 35.9558 Q1499.61 39.4801 1499.05 45.8805 L1525.62 45.84 M1518.45 6.22219 L1526.51 6.22219 L1513.31 21.4536 L1507.11 21.4536 L1518.45 6.22219 Z\" fill=\"#000000\" fill-rule=\"evenodd\" fill-opacity=\"1\" /><path clip-path=\"url(#clip940)\" d=\"M1565.93 49.7694 Q1556.89 49.7694 1553.41 51.8354 Q1549.93 53.9013 1549.93 58.8839 Q1549.93 62.8538 1552.52 65.2034 Q1555.15 67.5124 1559.65 67.5124 Q1565.85 67.5124 1569.57 63.1374 Q1573.34 58.7219 1573.34 51.4303 L1573.34 49.7694 L1565.93 49.7694 M1580.8 46.6907 L1580.8 72.576 L1573.34 72.576 L1573.34 65.6895 Q1570.79 69.8214 1566.98 71.8063 Q1563.17 73.7508 1557.66 73.7508 Q1550.7 73.7508 1546.56 69.8619 Q1542.47 65.9325 1542.47 59.3701 Q1542.47 51.7138 1547.58 47.825 Q1552.72 43.9361 1562.89 43.9361 L1573.34 43.9361 L1573.34 43.2069 Q1573.34 38.0623 1569.94 35.2672 Q1566.58 32.4315 1560.46 32.4315 Q1556.57 32.4315 1552.88 33.3632 Q1549.2 34.295 1545.8 36.1584 L1545.8 29.2718 Q1549.89 27.692 1553.74 26.9223 Q1557.58 26.1121 1561.23 26.1121 Q1571.07 26.1121 1575.93 31.2163 Q1580.8 36.3204 1580.8 46.6907 Z\" fill=\"#000000\" fill-rule=\"evenodd\" fill-opacity=\"1\" /><path clip-path=\"url(#clip940)\" d=\"M1596.15 27.2059 L1603.6 27.2059 L1603.6 72.576 L1596.15 72.576 L1596.15 27.2059 M1596.15 9.54393 L1603.6 9.54393 L1603.6 18.9825 L1596.15 18.9825 L1596.15 9.54393 Z\" fill=\"#000000\" fill-rule=\"evenodd\" fill-opacity=\"1\" /><path clip-path=\"url(#clip940)\" d=\"M1645.49 34.1734 Q1644.23 33.4443 1642.73 33.1202 Q1641.28 32.7556 1639.49 32.7556 Q1633.17 32.7556 1629.77 36.8875 Q1626.41 40.9789 1626.41 48.6757 L1626.41 72.576 L1618.91 72.576 L1618.91 27.2059 L1626.41 27.2059 L1626.41 34.2544 Q1628.76 30.1225 1632.53 28.1376 Q1636.29 26.1121 1641.68 26.1121 Q1642.45 26.1121 1643.38 26.2337 Q1644.31 26.3147 1645.45 26.5172 L1645.49 34.1734 Z\" fill=\"#000000\" fill-rule=\"evenodd\" fill-opacity=\"1\" /><path clip-path=\"url(#clip940)\" d=\"M1690.29 48.0275 L1690.29 51.6733 L1656.02 51.6733 Q1656.51 59.3701 1660.64 63.421 Q1664.81 67.4314 1672.22 67.4314 Q1676.52 67.4314 1680.53 66.3781 Q1684.58 65.3249 1688.55 63.2184 L1688.55 70.267 Q1684.54 71.9684 1680.33 72.8596 Q1676.11 73.7508 1671.78 73.7508 Q1660.92 73.7508 1654.56 67.4314 Q1648.24 61.1119 1648.24 50.3365 Q1648.24 39.1965 1654.24 32.6746 Q1660.27 26.1121 1670.48 26.1121 Q1679.64 26.1121 1684.94 32.0264 Q1690.29 37.9003 1690.29 48.0275 M1682.84 45.84 Q1682.76 39.7232 1679.39 36.0774 Q1676.07 32.4315 1670.56 32.4315 Q1664.32 32.4315 1660.56 35.9558 Q1656.83 39.4801 1656.26 45.8805 L1682.84 45.84 Z\" fill=\"#000000\" fill-rule=\"evenodd\" fill-opacity=\"1\" /><polyline clip-path=\"url(#clip942)\" style=\"stroke:#009af9; stroke-linecap:round; stroke-linejoin:round; stroke-width:4; stroke-opacity:1; fill:none\" points=\"\n",
       "  218.754,162.047 477.734,202.739 736.715,237.893 995.696,262.422 1254.68,442.799 1513.66,695.774 1772.64,1015.83 2031.62,1333.16 2290.6,1447.87 \n",
       "  \"/>\n",
       "<path clip-path=\"url(#clip940)\" d=\"\n",
       "M1563.34 272.585 L2279.55 272.585 L2279.55 168.905 L1563.34 168.905  Z\n",
       "  \" fill=\"#ffffff\" fill-rule=\"evenodd\" fill-opacity=\"1\"/>\n",
       "<polyline clip-path=\"url(#clip940)\" style=\"stroke:#000000; stroke-linecap:round; stroke-linejoin:round; stroke-width:4; stroke-opacity:1; fill:none\" points=\"\n",
       "  1563.34,272.585 2279.55,272.585 2279.55,168.905 1563.34,168.905 1563.34,272.585 \n",
       "  \"/>\n",
       "<polyline clip-path=\"url(#clip940)\" style=\"stroke:#009af9; stroke-linecap:round; stroke-linejoin:round; stroke-width:4; stroke-opacity:1; fill:none\" points=\"\n",
       "  1587.74,220.745 1734.15,220.745 \n",
       "  \"/>\n",
       "<path clip-path=\"url(#clip940)\" d=\"M1762.49 201.798 L1762.49 249.205 L1758.55 249.205 L1758.55 201.798 L1762.49 201.798 Z\" fill=\"#000000\" fill-rule=\"evenodd\" fill-opacity=\"1\" /><path clip-path=\"url(#clip940)\" d=\"M1778.46 201.798 L1778.46 249.205 L1774.53 249.205 L1774.53 201.798 L1778.46 201.798 Z\" fill=\"#000000\" fill-rule=\"evenodd\" fill-opacity=\"1\" /><path clip-path=\"url(#clip940)\" d=\"M1810.5 212.099 L1801.12 224.715 L1810.98 238.025 L1805.96 238.025 L1798.42 227.84 L1790.87 238.025 L1785.85 238.025 L1795.92 224.46 L1786.7 212.099 L1791.73 212.099 L1798.6 221.335 L1805.48 212.099 L1810.5 212.099 Z\" fill=\"#000000\" fill-rule=\"evenodd\" fill-opacity=\"1\" /><path clip-path=\"url(#clip940)\" d=\"M1816.84 202.006 L1821.12 202.006 L1821.12 223.279 L1833.83 212.099 L1839.27 212.099 L1825.52 224.228 L1839.85 238.025 L1834.29 238.025 L1821.12 225.363 L1821.12 238.025 L1816.84 238.025 L1816.84 202.006 Z\" fill=\"#000000\" fill-rule=\"evenodd\" fill-opacity=\"1\" /><path clip-path=\"url(#clip940)\" d=\"M1861.79 208.303 L1861.79 221.196 L1874.69 221.196 L1874.69 225.131 L1861.79 225.131 L1861.79 238.025 L1857.91 238.025 L1857.91 225.131 L1845.01 225.131 L1845.01 221.196 L1857.91 221.196 L1857.91 208.303 L1861.79 208.303 Z\" fill=\"#000000\" fill-rule=\"evenodd\" fill-opacity=\"1\" /><path clip-path=\"url(#clip940)\" d=\"M1885.59 234.089 L1893.23 234.089 L1893.23 207.724 L1884.92 209.391 L1884.92 205.131 L1893.18 203.465 L1897.86 203.465 L1897.86 234.089 L1905.5 234.089 L1905.5 238.025 L1885.59 238.025 L1885.59 234.089 Z\" fill=\"#000000\" fill-rule=\"evenodd\" fill-opacity=\"1\" /><path clip-path=\"url(#clip940)\" d=\"M1927.26 223.14 L1939.73 223.14 L1939.73 226.937 L1927.26 226.937 L1927.26 223.14 Z\" fill=\"#000000\" fill-rule=\"evenodd\" fill-opacity=\"1\" /><path clip-path=\"url(#clip940)\" d=\"M1983.14 212.099 L1973.76 224.715 L1983.62 238.025 L1978.6 238.025 L1971.05 227.84 L1963.51 238.025 L1958.48 238.025 L1968.55 224.46 L1959.34 212.099 L1964.36 212.099 L1971.24 221.335 L1978.11 212.099 L1983.14 212.099 Z\" fill=\"#000000\" fill-rule=\"evenodd\" fill-opacity=\"1\" /><path clip-path=\"url(#clip940)\" d=\"M2002.77 202.006 L2002.77 205.548 L1998.69 205.548 Q1996.4 205.548 1995.5 206.474 Q1994.62 207.4 1994.62 209.807 L1994.62 212.099 L2001.63 212.099 L2001.63 215.409 L1994.62 215.409 L1994.62 238.025 L1990.34 238.025 L1990.34 215.409 L1986.26 215.409 L1986.26 212.099 L1990.34 212.099 L1990.34 210.293 Q1990.34 205.965 1992.35 203.997 Q1994.36 202.006 1998.74 202.006 L2002.77 202.006 Z\" fill=\"#000000\" fill-rule=\"evenodd\" fill-opacity=\"1\" /><path clip-path=\"url(#clip940)\" d=\"M2011.82 201.798 L2011.82 249.205 L2007.88 249.205 L2007.88 201.798 L2011.82 201.798 Z\" fill=\"#000000\" fill-rule=\"evenodd\" fill-opacity=\"1\" /><path clip-path=\"url(#clip940)\" d=\"M2027.79 201.798 L2027.79 249.205 L2023.85 249.205 L2023.85 201.798 L2027.79 201.798 Z\" fill=\"#000000\" fill-rule=\"evenodd\" fill-opacity=\"1\" /><path clip-path=\"url(#clip940)\" d=\"M2045.84 203.465 L2049.78 203.465 L2037.74 242.423 L2033.81 242.423 L2045.84 203.465 Z\" fill=\"#000000\" fill-rule=\"evenodd\" fill-opacity=\"1\" /><path clip-path=\"url(#clip940)\" d=\"M2059.73 201.798 L2059.73 249.205 L2055.8 249.205 L2055.8 201.798 L2059.73 201.798 Z\" fill=\"#000000\" fill-rule=\"evenodd\" fill-opacity=\"1\" /><path clip-path=\"url(#clip940)\" d=\"M2075.71 201.798 L2075.71 249.205 L2071.77 249.205 L2071.77 201.798 L2075.71 201.798 Z\" fill=\"#000000\" fill-rule=\"evenodd\" fill-opacity=\"1\" /><path clip-path=\"url(#clip940)\" d=\"M2107.74 212.099 L2098.37 224.715 L2108.23 238.025 L2103.21 238.025 L2095.66 227.84 L2088.11 238.025 L2083.09 238.025 L2093.16 224.46 L2083.95 212.099 L2088.97 212.099 L2095.84 221.335 L2102.72 212.099 L2107.74 212.099 Z\" fill=\"#000000\" fill-rule=\"evenodd\" fill-opacity=\"1\" /><path clip-path=\"url(#clip940)\" d=\"M2114.08 202.006 L2118.37 202.006 L2118.37 223.279 L2131.08 212.099 L2136.52 212.099 L2122.77 224.228 L2137.09 238.025 L2131.54 238.025 L2118.37 225.363 L2118.37 238.025 L2114.08 238.025 L2114.08 202.006 Z\" fill=\"#000000\" fill-rule=\"evenodd\" fill-opacity=\"1\" /><path clip-path=\"url(#clip940)\" d=\"M2154.62 223.14 L2167.09 223.14 L2167.09 226.937 L2154.62 226.937 L2154.62 223.14 Z\" fill=\"#000000\" fill-rule=\"evenodd\" fill-opacity=\"1\" /><path clip-path=\"url(#clip940)\" d=\"M2210.5 212.099 L2201.12 224.715 L2210.98 238.025 L2205.96 238.025 L2198.41 227.84 L2190.87 238.025 L2185.84 238.025 L2195.91 224.46 L2186.7 212.099 L2191.72 212.099 L2198.6 221.335 L2205.47 212.099 L2210.5 212.099 Z\" fill=\"#000000\" fill-rule=\"evenodd\" fill-opacity=\"1\" /><path clip-path=\"url(#clip940)\" d=\"M2230.13 202.006 L2230.13 205.548 L2226.05 205.548 Q2223.76 205.548 2222.86 206.474 Q2221.98 207.4 2221.98 209.807 L2221.98 212.099 L2228.99 212.099 L2228.99 215.409 L2221.98 215.409 L2221.98 238.025 L2217.7 238.025 L2217.7 215.409 L2213.62 215.409 L2213.62 212.099 L2217.7 212.099 L2217.7 210.293 Q2217.7 205.965 2219.71 203.997 Q2221.72 202.006 2226.1 202.006 L2230.13 202.006 Z\" fill=\"#000000\" fill-rule=\"evenodd\" fill-opacity=\"1\" /><path clip-path=\"url(#clip940)\" d=\"M2239.18 201.798 L2239.18 249.205 L2235.24 249.205 L2235.24 201.798 L2239.18 201.798 Z\" fill=\"#000000\" fill-rule=\"evenodd\" fill-opacity=\"1\" /><path clip-path=\"url(#clip940)\" d=\"M2255.15 201.798 L2255.15 249.205 L2251.21 249.205 L2251.21 201.798 L2255.15 201.798 Z\" fill=\"#000000\" fill-rule=\"evenodd\" fill-opacity=\"1\" /></svg>\n"
      ]
     },
     "execution_count": 78,
     "metadata": {},
     "output_type": "execute_result"
    }
   ],
   "source": [
    "plot(p2)"
   ]
  },
  {
   "cell_type": "code",
   "execution_count": 77,
   "metadata": {},
   "outputs": [
    {
     "data": {
      "image/svg+xml": [
       "<?xml version=\"1.0\" encoding=\"utf-8\"?>\n",
       "<svg xmlns=\"http://www.w3.org/2000/svg\" xmlns:xlink=\"http://www.w3.org/1999/xlink\" width=\"600\" height=\"400\" viewBox=\"0 0 2400 1600\">\n",
       "<defs>\n",
       "  <clipPath id=\"clip900\">\n",
       "    <rect x=\"0\" y=\"0\" width=\"2400\" height=\"1600\"/>\n",
       "  </clipPath>\n",
       "</defs>\n",
       "<path clip-path=\"url(#clip900)\" d=\"\n",
       "M0 1600 L2400 1600 L2400 0 L0 0  Z\n",
       "  \" fill=\"#ffffff\" fill-rule=\"evenodd\" fill-opacity=\"1\"/>\n",
       "<defs>\n",
       "  <clipPath id=\"clip901\">\n",
       "    <rect x=\"480\" y=\"0\" width=\"1681\" height=\"1600\"/>\n",
       "  </clipPath>\n",
       "</defs>\n",
       "<path clip-path=\"url(#clip900)\" d=\"\n",
       "M156.598 1486.45 L2352.76 1486.45 L2352.76 123.472 L156.598 123.472  Z\n",
       "  \" fill=\"#ffffff\" fill-rule=\"evenodd\" fill-opacity=\"1\"/>\n",
       "<defs>\n",
       "  <clipPath id=\"clip902\">\n",
       "    <rect x=\"156\" y=\"123\" width=\"2197\" height=\"1364\"/>\n",
       "  </clipPath>\n",
       "</defs>\n",
       "<polyline clip-path=\"url(#clip902)\" style=\"stroke:#000000; stroke-linecap:round; stroke-linejoin:round; stroke-width:2; stroke-opacity:0.1; fill:none\" points=\"\n",
       "  477.734,1486.45 477.734,123.472 \n",
       "  \"/>\n",
       "<polyline clip-path=\"url(#clip902)\" style=\"stroke:#000000; stroke-linecap:round; stroke-linejoin:round; stroke-width:2; stroke-opacity:0.1; fill:none\" points=\"\n",
       "  995.696,1486.45 995.696,123.472 \n",
       "  \"/>\n",
       "<polyline clip-path=\"url(#clip902)\" style=\"stroke:#000000; stroke-linecap:round; stroke-linejoin:round; stroke-width:2; stroke-opacity:0.1; fill:none\" points=\"\n",
       "  1513.66,1486.45 1513.66,123.472 \n",
       "  \"/>\n",
       "<polyline clip-path=\"url(#clip902)\" style=\"stroke:#000000; stroke-linecap:round; stroke-linejoin:round; stroke-width:2; stroke-opacity:0.1; fill:none\" points=\"\n",
       "  2031.62,1486.45 2031.62,123.472 \n",
       "  \"/>\n",
       "<polyline clip-path=\"url(#clip900)\" style=\"stroke:#000000; stroke-linecap:round; stroke-linejoin:round; stroke-width:4; stroke-opacity:1; fill:none\" points=\"\n",
       "  156.598,1486.45 2352.76,1486.45 \n",
       "  \"/>\n",
       "<polyline clip-path=\"url(#clip900)\" style=\"stroke:#000000; stroke-linecap:round; stroke-linejoin:round; stroke-width:4; stroke-opacity:1; fill:none\" points=\"\n",
       "  477.734,1486.45 477.734,1467.55 \n",
       "  \"/>\n",
       "<polyline clip-path=\"url(#clip900)\" style=\"stroke:#000000; stroke-linecap:round; stroke-linejoin:round; stroke-width:4; stroke-opacity:1; fill:none\" points=\"\n",
       "  995.696,1486.45 995.696,1467.55 \n",
       "  \"/>\n",
       "<polyline clip-path=\"url(#clip900)\" style=\"stroke:#000000; stroke-linecap:round; stroke-linejoin:round; stroke-width:4; stroke-opacity:1; fill:none\" points=\"\n",
       "  1513.66,1486.45 1513.66,1467.55 \n",
       "  \"/>\n",
       "<polyline clip-path=\"url(#clip900)\" style=\"stroke:#000000; stroke-linecap:round; stroke-linejoin:round; stroke-width:4; stroke-opacity:1; fill:none\" points=\"\n",
       "  2031.62,1486.45 2031.62,1467.55 \n",
       "  \"/>\n",
       "<path clip-path=\"url(#clip900)\" d=\"M472.387 1544.91 L488.707 1544.91 L488.707 1548.85 L466.762 1548.85 L466.762 1544.91 Q469.424 1542.16 474.008 1537.53 Q478.614 1532.88 479.795 1531.53 Q482.04 1529.01 482.92 1527.27 Q483.822 1525.51 483.822 1523.82 Q483.822 1521.07 481.878 1519.33 Q479.957 1517.6 476.855 1517.6 Q474.656 1517.6 472.202 1518.36 Q469.772 1519.13 466.994 1520.68 L466.994 1515.95 Q469.818 1514.82 472.272 1514.24 Q474.725 1513.66 476.762 1513.66 Q482.133 1513.66 485.327 1516.35 Q488.521 1519.03 488.521 1523.52 Q488.521 1525.65 487.711 1527.57 Q486.924 1529.47 484.818 1532.07 Q484.239 1532.74 481.137 1535.95 Q478.035 1539.15 472.387 1544.91 Z\" fill=\"#000000\" fill-rule=\"evenodd\" fill-opacity=\"1\" /><path clip-path=\"url(#clip900)\" d=\"M998.705 1518.36 L986.9 1536.81 L998.705 1536.81 L998.705 1518.36 M997.479 1514.29 L1003.36 1514.29 L1003.36 1536.81 L1008.29 1536.81 L1008.29 1540.7 L1003.36 1540.7 L1003.36 1548.85 L998.705 1548.85 L998.705 1540.7 L983.104 1540.7 L983.104 1536.19 L997.479 1514.29 Z\" fill=\"#000000\" fill-rule=\"evenodd\" fill-opacity=\"1\" /><path clip-path=\"url(#clip900)\" d=\"M1514.06 1529.7 Q1510.91 1529.7 1509.06 1531.86 Q1507.23 1534.01 1507.23 1537.76 Q1507.23 1541.49 1509.06 1543.66 Q1510.91 1545.82 1514.06 1545.82 Q1517.21 1545.82 1519.04 1543.66 Q1520.89 1541.49 1520.89 1537.76 Q1520.89 1534.01 1519.04 1531.86 Q1517.21 1529.7 1514.06 1529.7 M1523.35 1515.05 L1523.35 1519.31 Q1521.59 1518.48 1519.78 1518.04 Q1518 1517.6 1516.24 1517.6 Q1511.61 1517.6 1509.16 1520.72 Q1506.73 1523.85 1506.38 1530.17 Q1507.74 1528.15 1509.8 1527.09 Q1511.86 1526 1514.34 1526 Q1519.55 1526 1522.56 1529.17 Q1525.59 1532.32 1525.59 1537.76 Q1525.59 1543.08 1522.44 1546.3 Q1519.29 1549.52 1514.06 1549.52 Q1508.07 1549.52 1504.9 1544.94 Q1501.73 1540.33 1501.73 1531.6 Q1501.73 1523.41 1505.61 1518.55 Q1509.5 1513.66 1516.05 1513.66 Q1517.81 1513.66 1519.6 1514.01 Q1521.4 1514.36 1523.35 1515.05 Z\" fill=\"#000000\" fill-rule=\"evenodd\" fill-opacity=\"1\" /><path clip-path=\"url(#clip900)\" d=\"M2031.62 1532.44 Q2028.29 1532.44 2026.37 1534.22 Q2024.47 1536 2024.47 1539.13 Q2024.47 1542.25 2026.37 1544.03 Q2028.29 1545.82 2031.62 1545.82 Q2034.95 1545.82 2036.87 1544.03 Q2038.8 1542.23 2038.8 1539.13 Q2038.8 1536 2036.87 1534.22 Q2034.98 1532.44 2031.62 1532.44 M2026.94 1530.45 Q2023.93 1529.7 2022.24 1527.64 Q2020.58 1525.58 2020.58 1522.62 Q2020.58 1518.48 2023.52 1516.07 Q2026.48 1513.66 2031.62 1513.66 Q2036.78 1513.66 2039.72 1516.07 Q2042.66 1518.48 2042.66 1522.62 Q2042.66 1525.58 2040.97 1527.64 Q2039.3 1529.7 2036.32 1530.45 Q2039.7 1531.23 2041.57 1533.52 Q2043.47 1535.82 2043.47 1539.13 Q2043.47 1544.15 2040.39 1546.83 Q2037.34 1549.52 2031.62 1549.52 Q2025.9 1549.52 2022.82 1546.83 Q2019.77 1544.15 2019.77 1539.13 Q2019.77 1535.82 2021.67 1533.52 Q2023.56 1531.23 2026.94 1530.45 M2025.23 1523.06 Q2025.23 1525.75 2026.9 1527.25 Q2028.59 1528.76 2031.62 1528.76 Q2034.63 1528.76 2036.32 1527.25 Q2038.03 1525.75 2038.03 1523.06 Q2038.03 1520.38 2036.32 1518.87 Q2034.63 1517.37 2031.62 1517.37 Q2028.59 1517.37 2026.9 1518.87 Q2025.23 1520.38 2025.23 1523.06 Z\" fill=\"#000000\" fill-rule=\"evenodd\" fill-opacity=\"1\" /><polyline clip-path=\"url(#clip902)\" style=\"stroke:#000000; stroke-linecap:round; stroke-linejoin:round; stroke-width:2; stroke-opacity:0.1; fill:none\" points=\"\n",
       "  156.598,1327.78 2352.76,1327.78 \n",
       "  \"/>\n",
       "<polyline clip-path=\"url(#clip902)\" style=\"stroke:#000000; stroke-linecap:round; stroke-linejoin:round; stroke-width:2; stroke-opacity:0.1; fill:none\" points=\"\n",
       "  156.598,1151.66 2352.76,1151.66 \n",
       "  \"/>\n",
       "<polyline clip-path=\"url(#clip902)\" style=\"stroke:#000000; stroke-linecap:round; stroke-linejoin:round; stroke-width:2; stroke-opacity:0.1; fill:none\" points=\"\n",
       "  156.598,975.549 2352.76,975.549 \n",
       "  \"/>\n",
       "<polyline clip-path=\"url(#clip902)\" style=\"stroke:#000000; stroke-linecap:round; stroke-linejoin:round; stroke-width:2; stroke-opacity:0.1; fill:none\" points=\"\n",
       "  156.598,799.434 2352.76,799.434 \n",
       "  \"/>\n",
       "<polyline clip-path=\"url(#clip902)\" style=\"stroke:#000000; stroke-linecap:round; stroke-linejoin:round; stroke-width:2; stroke-opacity:0.1; fill:none\" points=\"\n",
       "  156.598,623.319 2352.76,623.319 \n",
       "  \"/>\n",
       "<polyline clip-path=\"url(#clip902)\" style=\"stroke:#000000; stroke-linecap:round; stroke-linejoin:round; stroke-width:2; stroke-opacity:0.1; fill:none\" points=\"\n",
       "  156.598,447.204 2352.76,447.204 \n",
       "  \"/>\n",
       "<polyline clip-path=\"url(#clip902)\" style=\"stroke:#000000; stroke-linecap:round; stroke-linejoin:round; stroke-width:2; stroke-opacity:0.1; fill:none\" points=\"\n",
       "  156.598,271.089 2352.76,271.089 \n",
       "  \"/>\n",
       "<polyline clip-path=\"url(#clip900)\" style=\"stroke:#000000; stroke-linecap:round; stroke-linejoin:round; stroke-width:4; stroke-opacity:1; fill:none\" points=\"\n",
       "  156.598,1486.45 156.598,123.472 \n",
       "  \"/>\n",
       "<polyline clip-path=\"url(#clip900)\" style=\"stroke:#000000; stroke-linecap:round; stroke-linejoin:round; stroke-width:4; stroke-opacity:1; fill:none\" points=\"\n",
       "  156.598,1327.78 175.496,1327.78 \n",
       "  \"/>\n",
       "<polyline clip-path=\"url(#clip900)\" style=\"stroke:#000000; stroke-linecap:round; stroke-linejoin:round; stroke-width:4; stroke-opacity:1; fill:none\" points=\"\n",
       "  156.598,1151.66 175.496,1151.66 \n",
       "  \"/>\n",
       "<polyline clip-path=\"url(#clip900)\" style=\"stroke:#000000; stroke-linecap:round; stroke-linejoin:round; stroke-width:4; stroke-opacity:1; fill:none\" points=\"\n",
       "  156.598,975.549 175.496,975.549 \n",
       "  \"/>\n",
       "<polyline clip-path=\"url(#clip900)\" style=\"stroke:#000000; stroke-linecap:round; stroke-linejoin:round; stroke-width:4; stroke-opacity:1; fill:none\" points=\"\n",
       "  156.598,799.434 175.496,799.434 \n",
       "  \"/>\n",
       "<polyline clip-path=\"url(#clip900)\" style=\"stroke:#000000; stroke-linecap:round; stroke-linejoin:round; stroke-width:4; stroke-opacity:1; fill:none\" points=\"\n",
       "  156.598,623.319 175.496,623.319 \n",
       "  \"/>\n",
       "<polyline clip-path=\"url(#clip900)\" style=\"stroke:#000000; stroke-linecap:round; stroke-linejoin:round; stroke-width:4; stroke-opacity:1; fill:none\" points=\"\n",
       "  156.598,447.204 175.496,447.204 \n",
       "  \"/>\n",
       "<polyline clip-path=\"url(#clip900)\" style=\"stroke:#000000; stroke-linecap:round; stroke-linejoin:round; stroke-width:4; stroke-opacity:1; fill:none\" points=\"\n",
       "  156.598,271.089 175.496,271.089 \n",
       "  \"/>\n",
       "<path clip-path=\"url(#clip900)\" d=\"M64.6495 1313.58 Q61.0384 1313.58 59.2097 1317.14 Q57.4041 1320.68 57.4041 1327.81 Q57.4041 1334.92 59.2097 1338.49 Q61.0384 1342.03 64.6495 1342.03 Q68.2837 1342.03 70.0892 1338.49 Q71.9179 1334.92 71.9179 1327.81 Q71.9179 1320.68 70.0892 1317.14 Q68.2837 1313.58 64.6495 1313.58 M64.6495 1309.87 Q70.4596 1309.87 73.5152 1314.48 Q76.5938 1319.06 76.5938 1327.81 Q76.5938 1336.54 73.5152 1341.15 Q70.4596 1345.73 64.6495 1345.73 Q58.8393 1345.73 55.7606 1341.15 Q52.7051 1336.54 52.7051 1327.81 Q52.7051 1319.06 55.7606 1314.48 Q58.8393 1309.87 64.6495 1309.87 Z\" fill=\"#000000\" fill-rule=\"evenodd\" fill-opacity=\"1\" /><path clip-path=\"url(#clip900)\" d=\"M84.8114 1339.18 L89.6956 1339.18 L89.6956 1345.06 L84.8114 1345.06 L84.8114 1339.18 Z\" fill=\"#000000\" fill-rule=\"evenodd\" fill-opacity=\"1\" /><path clip-path=\"url(#clip900)\" d=\"M100.691 1341.12 L108.33 1341.12 L108.33 1314.76 L100.02 1316.43 L100.02 1312.17 L108.283 1310.5 L112.959 1310.5 L112.959 1341.12 L120.598 1341.12 L120.598 1345.06 L100.691 1345.06 L100.691 1341.12 Z\" fill=\"#000000\" fill-rule=\"evenodd\" fill-opacity=\"1\" /><path clip-path=\"url(#clip900)\" d=\"M65.0198 1137.46 Q61.4087 1137.46 59.58 1141.03 Q57.7745 1144.57 57.7745 1151.7 Q57.7745 1158.81 59.58 1162.37 Q61.4087 1165.91 65.0198 1165.91 Q68.6541 1165.91 70.4596 1162.37 Q72.2883 1158.81 72.2883 1151.7 Q72.2883 1144.57 70.4596 1141.03 Q68.6541 1137.46 65.0198 1137.46 M65.0198 1133.76 Q70.83 1133.76 73.8855 1138.37 Q76.9642 1142.95 76.9642 1151.7 Q76.9642 1160.43 73.8855 1165.03 Q70.83 1169.62 65.0198 1169.62 Q59.2097 1169.62 56.131 1165.03 Q53.0754 1160.43 53.0754 1151.7 Q53.0754 1142.95 56.131 1138.37 Q59.2097 1133.76 65.0198 1133.76 Z\" fill=\"#000000\" fill-rule=\"evenodd\" fill-opacity=\"1\" /><path clip-path=\"url(#clip900)\" d=\"M85.1818 1163.06 L90.066 1163.06 L90.066 1168.94 L85.1818 1168.94 L85.1818 1163.06 Z\" fill=\"#000000\" fill-rule=\"evenodd\" fill-opacity=\"1\" /><path clip-path=\"url(#clip900)\" d=\"M104.279 1165.01 L120.598 1165.01 L120.598 1168.94 L98.6539 1168.94 L98.6539 1165.01 Q101.316 1162.25 105.899 1157.62 Q110.506 1152.97 111.686 1151.63 Q113.932 1149.11 114.811 1147.37 Q115.714 1145.61 115.714 1143.92 Q115.714 1141.17 113.77 1139.43 Q111.848 1137.69 108.746 1137.69 Q106.547 1137.69 104.094 1138.46 Q101.663 1139.22 98.8854 1140.77 L98.8854 1136.05 Q101.709 1134.92 104.163 1134.34 Q106.617 1133.76 108.654 1133.76 Q114.024 1133.76 117.219 1136.44 Q120.413 1139.13 120.413 1143.62 Q120.413 1145.75 119.603 1147.67 Q118.816 1149.57 116.709 1152.16 Q116.131 1152.83 113.029 1156.05 Q109.927 1159.25 104.279 1165.01 Z\" fill=\"#000000\" fill-rule=\"evenodd\" fill-opacity=\"1\" /><path clip-path=\"url(#clip900)\" d=\"M64.0708 961.348 Q60.4597 961.348 58.631 964.913 Q56.8254 968.454 56.8254 975.584 Q56.8254 982.69 58.631 986.255 Q60.4597 989.797 64.0708 989.797 Q67.705 989.797 69.5105 986.255 Q71.3392 982.69 71.3392 975.584 Q71.3392 968.454 69.5105 964.913 Q67.705 961.348 64.0708 961.348 M64.0708 957.644 Q69.8809 957.644 72.9365 962.251 Q76.0151 966.834 76.0151 975.584 Q76.0151 984.311 72.9365 988.917 Q69.8809 993.501 64.0708 993.501 Q58.2606 993.501 55.1819 988.917 Q52.1264 984.311 52.1264 975.584 Q52.1264 966.834 55.1819 962.251 Q58.2606 957.644 64.0708 957.644 Z\" fill=\"#000000\" fill-rule=\"evenodd\" fill-opacity=\"1\" /><path clip-path=\"url(#clip900)\" d=\"M84.2327 986.95 L89.1169 986.95 L89.1169 992.829 L84.2327 992.829 L84.2327 986.95 Z\" fill=\"#000000\" fill-rule=\"evenodd\" fill-opacity=\"1\" /><path clip-path=\"url(#clip900)\" d=\"M113.469 974.195 Q116.825 974.913 118.7 977.181 Q120.598 979.45 120.598 982.783 Q120.598 987.899 117.08 990.7 Q113.561 993.501 107.08 993.501 Q104.904 993.501 102.589 993.061 Q100.297 992.644 97.8437 991.788 L97.8437 987.274 Q99.7882 988.408 102.103 988.987 Q104.418 989.565 106.941 989.565 Q111.339 989.565 113.631 987.829 Q115.945 986.093 115.945 982.783 Q115.945 979.727 113.793 978.015 Q111.663 976.278 107.844 976.278 L103.816 976.278 L103.816 972.436 L108.029 972.436 Q111.478 972.436 113.307 971.07 Q115.135 969.681 115.135 967.089 Q115.135 964.427 113.237 963.015 Q111.362 961.579 107.844 961.579 Q105.922 961.579 103.723 961.996 Q101.524 962.413 98.8854 963.292 L98.8854 959.126 Q101.547 958.385 103.862 958.015 Q106.2 957.644 108.26 957.644 Q113.584 957.644 116.686 960.075 Q119.788 962.482 119.788 966.603 Q119.788 969.473 118.145 971.464 Q116.501 973.431 113.469 974.195 Z\" fill=\"#000000\" fill-rule=\"evenodd\" fill-opacity=\"1\" /><path clip-path=\"url(#clip900)\" d=\"M62.9365 785.233 Q59.3254 785.233 57.4967 788.798 Q55.6912 792.339 55.6912 799.469 Q55.6912 806.575 57.4967 810.14 Q59.3254 813.682 62.9365 813.682 Q66.5707 813.682 68.3763 810.14 Q70.205 806.575 70.205 799.469 Q70.205 792.339 68.3763 788.798 Q66.5707 785.233 62.9365 785.233 M62.9365 781.529 Q68.7467 781.529 71.8022 786.136 Q74.8809 790.719 74.8809 799.469 Q74.8809 808.196 71.8022 812.802 Q68.7467 817.386 62.9365 817.386 Q57.1264 817.386 54.0477 812.802 Q50.9921 808.196 50.9921 799.469 Q50.9921 790.719 54.0477 786.136 Q57.1264 781.529 62.9365 781.529 Z\" fill=\"#000000\" fill-rule=\"evenodd\" fill-opacity=\"1\" /><path clip-path=\"url(#clip900)\" d=\"M83.0984 810.835 L87.9827 810.835 L87.9827 816.714 L83.0984 816.714 L83.0984 810.835 Z\" fill=\"#000000\" fill-rule=\"evenodd\" fill-opacity=\"1\" /><path clip-path=\"url(#clip900)\" d=\"M111.015 786.228 L99.2095 804.677 L111.015 804.677 L111.015 786.228 M109.788 782.154 L115.668 782.154 L115.668 804.677 L120.598 804.677 L120.598 808.566 L115.668 808.566 L115.668 816.714 L111.015 816.714 L111.015 808.566 L95.4132 808.566 L95.4132 804.052 L109.788 782.154 Z\" fill=\"#000000\" fill-rule=\"evenodd\" fill-opacity=\"1\" /><path clip-path=\"url(#clip900)\" d=\"M64.418 609.118 Q60.8069 609.118 58.9782 612.683 Q57.1726 616.224 57.1726 623.354 Q57.1726 630.46 58.9782 634.025 Q60.8069 637.567 64.418 637.567 Q68.0522 637.567 69.8578 634.025 Q71.6865 630.46 71.6865 623.354 Q71.6865 616.224 69.8578 612.683 Q68.0522 609.118 64.418 609.118 M64.418 605.414 Q70.2281 605.414 73.2837 610.021 Q76.3624 614.604 76.3624 623.354 Q76.3624 632.081 73.2837 636.687 Q70.2281 641.27 64.418 641.27 Q58.6078 641.27 55.5291 636.687 Q52.4736 632.081 52.4736 623.354 Q52.4736 614.604 55.5291 610.021 Q58.6078 605.414 64.418 605.414 Z\" fill=\"#000000\" fill-rule=\"evenodd\" fill-opacity=\"1\" /><path clip-path=\"url(#clip900)\" d=\"M84.5799 634.72 L89.4641 634.72 L89.4641 640.599 L84.5799 640.599 L84.5799 634.72 Z\" fill=\"#000000\" fill-rule=\"evenodd\" fill-opacity=\"1\" /><path clip-path=\"url(#clip900)\" d=\"M99.6956 606.039 L118.052 606.039 L118.052 609.974 L103.978 609.974 L103.978 618.447 Q104.996 618.099 106.015 617.937 Q107.033 617.752 108.052 617.752 Q113.839 617.752 117.219 620.923 Q120.598 624.095 120.598 629.511 Q120.598 635.09 117.126 638.192 Q113.654 641.27 107.334 641.27 Q105.159 641.27 102.89 640.9 Q100.645 640.53 98.2372 639.789 L98.2372 635.09 Q100.321 636.224 102.543 636.78 Q104.765 637.335 107.242 637.335 Q111.246 637.335 113.584 635.229 Q115.922 633.122 115.922 629.511 Q115.922 625.9 113.584 623.794 Q111.246 621.687 107.242 621.687 Q105.367 621.687 103.492 622.104 Q101.64 622.521 99.6956 623.4 L99.6956 606.039 Z\" fill=\"#000000\" fill-rule=\"evenodd\" fill-opacity=\"1\" /><path clip-path=\"url(#clip900)\" d=\"M63.2606 433.003 Q59.6495 433.003 57.8208 436.568 Q56.0152 440.109 56.0152 447.239 Q56.0152 454.345 57.8208 457.91 Q59.6495 461.452 63.2606 461.452 Q66.8948 461.452 68.7004 457.91 Q70.5291 454.345 70.5291 447.239 Q70.5291 440.109 68.7004 436.568 Q66.8948 433.003 63.2606 433.003 M63.2606 429.299 Q69.0707 429.299 72.1263 433.906 Q75.205 438.489 75.205 447.239 Q75.205 455.966 72.1263 460.572 Q69.0707 465.155 63.2606 465.155 Q57.4504 465.155 54.3717 460.572 Q51.3162 455.966 51.3162 447.239 Q51.3162 438.489 54.3717 433.906 Q57.4504 429.299 63.2606 429.299 Z\" fill=\"#000000\" fill-rule=\"evenodd\" fill-opacity=\"1\" /><path clip-path=\"url(#clip900)\" d=\"M83.4225 458.605 L88.3067 458.605 L88.3067 464.484 L83.4225 464.484 L83.4225 458.605 Z\" fill=\"#000000\" fill-rule=\"evenodd\" fill-opacity=\"1\" /><path clip-path=\"url(#clip900)\" d=\"M109.071 445.341 Q105.922 445.341 104.071 447.494 Q102.242 449.646 102.242 453.396 Q102.242 457.123 104.071 459.299 Q105.922 461.452 109.071 461.452 Q112.219 461.452 114.047 459.299 Q115.899 457.123 115.899 453.396 Q115.899 449.646 114.047 447.494 Q112.219 445.341 109.071 445.341 M118.353 430.688 L118.353 434.947 Q116.594 434.114 114.788 433.674 Q113.006 433.234 111.246 433.234 Q106.617 433.234 104.163 436.359 Q101.733 439.484 101.385 445.804 Q102.751 443.79 104.811 442.725 Q106.871 441.637 109.348 441.637 Q114.557 441.637 117.566 444.808 Q120.598 447.956 120.598 453.396 Q120.598 458.72 117.45 461.938 Q114.302 465.155 109.071 465.155 Q103.075 465.155 99.9039 460.572 Q96.7326 455.966 96.7326 447.239 Q96.7326 439.044 100.621 434.183 Q104.51 429.299 111.061 429.299 Q112.82 429.299 114.603 429.646 Q116.408 429.994 118.353 430.688 Z\" fill=\"#000000\" fill-rule=\"evenodd\" fill-opacity=\"1\" /><path clip-path=\"url(#clip900)\" d=\"M64.3254 256.888 Q60.7143 256.888 58.8856 260.453 Q57.0801 263.994 57.0801 271.124 Q57.0801 278.23 58.8856 281.795 Q60.7143 285.337 64.3254 285.337 Q67.9596 285.337 69.7652 281.795 Q71.5939 278.23 71.5939 271.124 Q71.5939 263.994 69.7652 260.453 Q67.9596 256.888 64.3254 256.888 M64.3254 253.184 Q70.1355 253.184 73.1911 257.791 Q76.2698 262.374 76.2698 271.124 Q76.2698 279.851 73.1911 284.457 Q70.1355 289.04 64.3254 289.04 Q58.5152 289.04 55.4365 284.457 Q52.381 279.851 52.381 271.124 Q52.381 262.374 55.4365 257.791 Q58.5152 253.184 64.3254 253.184 Z\" fill=\"#000000\" fill-rule=\"evenodd\" fill-opacity=\"1\" /><path clip-path=\"url(#clip900)\" d=\"M84.4873 282.49 L89.3715 282.49 L89.3715 288.369 L84.4873 288.369 L84.4873 282.49 Z\" fill=\"#000000\" fill-rule=\"evenodd\" fill-opacity=\"1\" /><path clip-path=\"url(#clip900)\" d=\"M98.3761 253.809 L120.598 253.809 L120.598 255.8 L108.052 288.369 L103.168 288.369 L114.973 257.744 L98.3761 257.744 L98.3761 253.809 Z\" fill=\"#000000\" fill-rule=\"evenodd\" fill-opacity=\"1\" /><path clip-path=\"url(#clip900)\" d=\"M768.528 16.7545 L768.528 25.383 Q764.396 21.5346 759.697 19.6307 Q755.039 17.7268 749.772 17.7268 Q739.402 17.7268 733.893 24.0867 Q728.384 30.4061 728.384 42.3968 Q728.384 54.3469 733.893 60.7069 Q739.402 67.0263 749.772 67.0263 Q755.039 67.0263 759.697 65.1223 Q764.396 63.2184 768.528 59.3701 L768.528 67.9175 Q764.234 70.8341 759.414 72.2924 Q754.633 73.7508 749.286 73.7508 Q735.554 73.7508 727.654 65.3654 Q719.755 56.9395 719.755 42.3968 Q719.755 27.8135 727.654 19.4281 Q735.554 11.0023 749.286 11.0023 Q754.714 11.0023 759.495 12.4606 Q764.315 13.8784 768.528 16.7545 Z\" fill=\"#000000\" fill-rule=\"evenodd\" fill-opacity=\"1\" /><path clip-path=\"url(#clip900)\" d=\"M798.424 32.4315 Q792.428 32.4315 788.945 37.1306 Q785.461 41.7891 785.461 49.9314 Q785.461 58.0738 788.904 62.7728 Q792.388 67.4314 798.424 67.4314 Q804.379 67.4314 807.862 62.7323 Q811.346 58.0333 811.346 49.9314 Q811.346 41.8701 807.862 37.1711 Q804.379 32.4315 798.424 32.4315 M798.424 26.1121 Q808.146 26.1121 813.696 32.4315 Q819.245 38.7509 819.245 49.9314 Q819.245 61.0714 813.696 67.4314 Q808.146 73.7508 798.424 73.7508 Q788.661 73.7508 783.111 67.4314 Q777.602 61.0714 777.602 49.9314 Q777.602 38.7509 783.111 32.4315 Q788.661 26.1121 798.424 26.1121 Z\" fill=\"#000000\" fill-rule=\"evenodd\" fill-opacity=\"1\" /><path clip-path=\"url(#clip900)\" d=\"M869.315 45.1919 L869.315 72.576 L861.861 72.576 L861.861 45.4349 Q861.861 38.994 859.349 35.7938 Q856.838 32.5936 851.815 32.5936 Q845.779 32.5936 842.295 36.4419 Q838.811 40.2903 838.811 46.9338 L838.811 72.576 L831.317 72.576 L831.317 27.2059 L838.811 27.2059 L838.811 34.2544 Q841.485 30.163 845.09 28.1376 Q848.736 26.1121 853.476 26.1121 Q861.294 26.1121 865.304 30.9732 Q869.315 35.7938 869.315 45.1919 Z\" fill=\"#000000\" fill-rule=\"evenodd\" fill-opacity=\"1\" /><path clip-path=\"url(#clip900)\" d=\"M878.834 27.2059 L886.733 27.2059 L900.912 65.2844 L915.09 27.2059 L922.989 27.2059 L905.975 72.576 L895.848 72.576 L878.834 27.2059 Z\" fill=\"#000000\" fill-rule=\"evenodd\" fill-opacity=\"1\" /><path clip-path=\"url(#clip900)\" d=\"M972.086 48.0275 L972.086 51.6733 L937.815 51.6733 Q938.301 59.3701 942.433 63.421 Q946.606 67.4314 954.019 67.4314 Q958.313 67.4314 962.323 66.3781 Q966.374 65.3249 970.344 63.2184 L970.344 70.267 Q966.334 71.9684 962.121 72.8596 Q957.908 73.7508 953.573 73.7508 Q942.717 73.7508 936.357 67.4314 Q930.038 61.1119 930.038 50.3365 Q930.038 39.1965 936.033 32.6746 Q942.069 26.1121 952.277 26.1121 Q961.432 26.1121 966.739 32.0264 Q972.086 37.9003 972.086 48.0275 M964.632 45.84 Q964.551 39.7232 961.189 36.0774 Q957.867 32.4315 952.358 32.4315 Q946.12 32.4315 942.352 35.9558 Q938.626 39.4801 938.058 45.8805 L964.632 45.84 Z\" fill=\"#000000\" fill-rule=\"evenodd\" fill-opacity=\"1\" /><path clip-path=\"url(#clip900)\" d=\"M1010.61 34.1734 Q1009.35 33.4443 1007.86 33.1202 Q1006.4 32.7556 1004.61 32.7556 Q998.295 32.7556 994.893 36.8875 Q991.53 40.9789 991.53 48.6757 L991.53 72.576 L984.036 72.576 L984.036 27.2059 L991.53 27.2059 L991.53 34.2544 Q993.88 30.1225 997.647 28.1376 Q1001.41 26.1121 1006.8 26.1121 Q1007.57 26.1121 1008.5 26.2337 Q1009.44 26.3147 1010.57 26.5172 L1010.61 34.1734 Z\" fill=\"#000000\" fill-rule=\"evenodd\" fill-opacity=\"1\" /><path clip-path=\"url(#clip900)\" d=\"M1046.83 49.3643 Q1046.83 41.2625 1043.46 36.8065 Q1040.14 32.3505 1034.11 32.3505 Q1028.11 32.3505 1024.75 36.8065 Q1021.43 41.2625 1021.43 49.3643 Q1021.43 57.4256 1024.75 61.8816 Q1028.11 66.3376 1034.11 66.3376 Q1040.14 66.3376 1043.46 61.8816 Q1046.83 57.4256 1046.83 49.3643 M1054.28 66.9452 Q1054.28 78.5308 1049.13 84.1616 Q1043.99 89.8329 1033.38 89.8329 Q1029.45 89.8329 1025.96 89.2252 Q1022.48 88.6581 1019.2 87.4428 L1019.2 80.1917 Q1022.48 81.9741 1025.68 82.8248 Q1028.88 83.6755 1032.2 83.6755 Q1039.53 83.6755 1043.18 79.8271 Q1046.83 76.0193 1046.83 68.282 L1046.83 64.5957 Q1044.52 68.6061 1040.91 70.5911 Q1037.31 72.576 1032.28 72.576 Q1023.94 72.576 1018.83 66.2161 Q1013.73 59.8562 1013.73 49.3643 Q1013.73 38.832 1018.83 32.472 Q1023.94 26.1121 1032.28 26.1121 Q1037.31 26.1121 1040.91 28.0971 Q1044.52 30.082 1046.83 34.0924 L1046.83 27.2059 L1054.28 27.2059 L1054.28 66.9452 Z\" fill=\"#000000\" fill-rule=\"evenodd\" fill-opacity=\"1\" /><path clip-path=\"url(#clip900)\" d=\"M1108.44 48.0275 L1108.44 51.6733 L1074.17 51.6733 Q1074.65 59.3701 1078.79 63.421 Q1082.96 67.4314 1090.37 67.4314 Q1094.67 67.4314 1098.68 66.3781 Q1102.73 65.3249 1106.7 63.2184 L1106.7 70.267 Q1102.69 71.9684 1098.47 72.8596 Q1094.26 73.7508 1089.93 73.7508 Q1079.07 73.7508 1072.71 67.4314 Q1066.39 61.1119 1066.39 50.3365 Q1066.39 39.1965 1072.39 32.6746 Q1078.42 26.1121 1088.63 26.1121 Q1097.79 26.1121 1103.09 32.0264 Q1108.44 37.9003 1108.44 48.0275 M1100.99 45.84 Q1100.9 39.7232 1097.54 36.0774 Q1094.22 32.4315 1088.71 32.4315 Q1082.47 32.4315 1078.71 35.9558 Q1074.98 39.4801 1074.41 45.8805 L1100.99 45.84 Z\" fill=\"#000000\" fill-rule=\"evenodd\" fill-opacity=\"1\" /><path clip-path=\"url(#clip900)\" d=\"M1158.39 45.1919 L1158.39 72.576 L1150.93 72.576 L1150.93 45.4349 Q1150.93 38.994 1148.42 35.7938 Q1145.91 32.5936 1140.89 32.5936 Q1134.85 32.5936 1131.37 36.4419 Q1127.88 40.2903 1127.88 46.9338 L1127.88 72.576 L1120.39 72.576 L1120.39 27.2059 L1127.88 27.2059 L1127.88 34.2544 Q1130.56 30.163 1134.16 28.1376 Q1137.81 26.1121 1142.55 26.1121 Q1150.37 26.1121 1154.38 30.9732 Q1158.39 35.7938 1158.39 45.1919 Z\" fill=\"#000000\" fill-rule=\"evenodd\" fill-opacity=\"1\" /><path clip-path=\"url(#clip900)\" d=\"M1205.9 28.9478 L1205.9 35.9153 Q1202.74 34.1734 1199.54 33.3227 Q1196.38 32.4315 1193.14 32.4315 Q1185.89 32.4315 1181.88 37.0496 Q1177.87 41.6271 1177.87 49.9314 Q1177.87 58.2358 1181.88 62.8538 Q1185.89 67.4314 1193.14 67.4314 Q1196.38 67.4314 1199.54 66.5807 Q1202.74 65.6895 1205.9 63.9476 L1205.9 70.8341 Q1202.78 72.2924 1199.42 73.0216 Q1196.1 73.7508 1192.33 73.7508 Q1182.08 73.7508 1176.05 67.3098 Q1170.01 60.8689 1170.01 49.9314 Q1170.01 38.832 1176.09 32.472 Q1182.21 26.1121 1192.82 26.1121 Q1196.26 26.1121 1199.54 26.8413 Q1202.83 27.5299 1205.9 28.9478 Z\" fill=\"#000000\" fill-rule=\"evenodd\" fill-opacity=\"1\" /><path clip-path=\"url(#clip900)\" d=\"M1257.67 48.0275 L1257.67 51.6733 L1223.4 51.6733 Q1223.89 59.3701 1228.02 63.421 Q1232.19 67.4314 1239.61 67.4314 Q1243.9 67.4314 1247.91 66.3781 Q1251.96 65.3249 1255.93 63.2184 L1255.93 70.267 Q1251.92 71.9684 1247.71 72.8596 Q1243.5 73.7508 1239.16 73.7508 Q1228.31 73.7508 1221.95 67.4314 Q1215.63 61.1119 1215.63 50.3365 Q1215.63 39.1965 1221.62 32.6746 Q1227.66 26.1121 1237.87 26.1121 Q1247.02 26.1121 1252.33 32.0264 Q1257.67 37.9003 1257.67 48.0275 M1250.22 45.84 Q1250.14 39.7232 1246.78 36.0774 Q1243.46 32.4315 1237.95 32.4315 Q1231.71 32.4315 1227.94 35.9558 Q1224.21 39.4801 1223.65 45.8805 L1250.22 45.84 Z\" fill=\"#000000\" fill-rule=\"evenodd\" fill-opacity=\"1\" /><path clip-path=\"url(#clip900)\" d=\"M1300.74 49.9314 Q1300.74 58.1548 1304.1 62.8538 Q1307.5 67.5124 1313.42 67.5124 Q1319.33 67.5124 1322.73 62.8538 Q1326.14 58.1548 1326.14 49.9314 Q1326.14 41.7081 1322.73 37.0496 Q1319.33 32.3505 1313.42 32.3505 Q1307.5 32.3505 1304.1 37.0496 Q1300.74 41.7081 1300.74 49.9314 M1326.14 65.7705 Q1323.79 69.8214 1320.18 71.8063 Q1316.62 73.7508 1311.59 73.7508 Q1303.37 73.7508 1298.18 67.1883 Q1293.04 60.6258 1293.04 49.9314 Q1293.04 39.2371 1298.18 32.6746 Q1303.37 26.1121 1311.59 26.1121 Q1316.62 26.1121 1320.18 28.0971 Q1323.79 30.0415 1326.14 34.0924 L1326.14 27.2059 L1333.59 27.2059 L1333.59 89.8329 L1326.14 89.8329 L1326.14 65.7705 Z\" fill=\"#000000\" fill-rule=\"evenodd\" fill-opacity=\"1\" /><path clip-path=\"url(#clip900)\" d=\"M1348.17 54.671 L1348.17 27.2059 L1355.63 27.2059 L1355.63 54.3874 Q1355.63 60.8284 1358.14 64.0691 Q1360.65 67.2693 1365.67 67.2693 Q1371.71 67.2693 1375.19 63.421 Q1378.72 59.5726 1378.72 52.9291 L1378.72 27.2059 L1386.17 27.2059 L1386.17 72.576 L1378.72 72.576 L1378.72 65.6084 Q1376 69.7404 1372.4 71.7658 Q1368.83 73.7508 1364.09 73.7508 Q1356.27 73.7508 1352.22 68.8897 Q1348.17 64.0286 1348.17 54.671 M1366.93 26.1121 L1366.93 26.1121 Z\" fill=\"#000000\" fill-rule=\"evenodd\" fill-opacity=\"1\" /><path clip-path=\"url(#clip900)\" d=\"M1422.14 49.7694 Q1413.11 49.7694 1409.62 51.8354 Q1406.14 53.9013 1406.14 58.8839 Q1406.14 62.8538 1408.73 65.2034 Q1411.37 67.5124 1415.86 67.5124 Q1422.06 67.5124 1425.79 63.1374 Q1429.55 58.7219 1429.55 51.4303 L1429.55 49.7694 L1422.14 49.7694 M1437.01 46.6907 L1437.01 72.576 L1429.55 72.576 L1429.55 65.6895 Q1427 69.8214 1423.19 71.8063 Q1419.39 73.7508 1413.88 73.7508 Q1406.91 73.7508 1402.78 69.8619 Q1398.69 65.9325 1398.69 59.3701 Q1398.69 51.7138 1403.79 47.825 Q1408.94 43.9361 1419.1 43.9361 L1429.55 43.9361 L1429.55 43.2069 Q1429.55 38.0623 1426.15 35.2672 Q1422.79 32.4315 1416.67 32.4315 Q1412.78 32.4315 1409.1 33.3632 Q1405.41 34.295 1402.01 36.1584 L1402.01 29.2718 Q1406.1 27.692 1409.95 26.9223 Q1413.8 26.1121 1417.44 26.1121 Q1427.29 26.1121 1432.15 31.2163 Q1437.01 36.3204 1437.01 46.6907 Z\" fill=\"#000000\" fill-rule=\"evenodd\" fill-opacity=\"1\" /><path clip-path=\"url(#clip900)\" d=\"M1482.22 34.0924 L1482.22 9.54393 L1489.67 9.54393 L1489.67 72.576 L1482.22 72.576 L1482.22 65.7705 Q1479.87 69.8214 1476.26 71.8063 Q1472.7 73.7508 1467.67 73.7508 Q1459.45 73.7508 1454.27 67.1883 Q1449.12 60.6258 1449.12 49.9314 Q1449.12 39.2371 1454.27 32.6746 Q1459.45 26.1121 1467.67 26.1121 Q1472.7 26.1121 1476.26 28.0971 Q1479.87 30.0415 1482.22 34.0924 M1456.82 49.9314 Q1456.82 58.1548 1460.18 62.8538 Q1463.58 67.5124 1469.5 67.5124 Q1475.41 67.5124 1478.81 62.8538 Q1482.22 58.1548 1482.22 49.9314 Q1482.22 41.7081 1478.81 37.0496 Q1475.41 32.3505 1469.5 32.3505 Q1463.58 32.3505 1460.18 37.0496 Q1456.82 41.7081 1456.82 49.9314 Z\" fill=\"#000000\" fill-rule=\"evenodd\" fill-opacity=\"1\" /><path clip-path=\"url(#clip900)\" d=\"M1531.31 34.1734 Q1530.06 33.4443 1528.56 33.1202 Q1527.1 32.7556 1525.32 32.7556 Q1519 32.7556 1515.6 36.8875 Q1512.23 40.9789 1512.23 48.6757 L1512.23 72.576 L1504.74 72.576 L1504.74 27.2059 L1512.23 27.2059 L1512.23 34.2544 Q1514.58 30.1225 1518.35 28.1376 Q1522.12 26.1121 1527.51 26.1121 Q1528.28 26.1121 1529.21 26.2337 Q1530.14 26.3147 1531.27 26.5172 L1531.31 34.1734 Z\" fill=\"#000000\" fill-rule=\"evenodd\" fill-opacity=\"1\" /><path clip-path=\"url(#clip900)\" d=\"M1559.75 49.7694 Q1550.72 49.7694 1547.23 51.8354 Q1543.75 53.9013 1543.75 58.8839 Q1543.75 62.8538 1546.34 65.2034 Q1548.98 67.5124 1553.47 67.5124 Q1559.67 67.5124 1563.4 63.1374 Q1567.16 58.7219 1567.16 51.4303 L1567.16 49.7694 L1559.75 49.7694 M1574.62 46.6907 L1574.62 72.576 L1567.16 72.576 L1567.16 65.6895 Q1564.61 69.8214 1560.8 71.8063 Q1557 73.7508 1551.49 73.7508 Q1544.52 73.7508 1540.39 69.8619 Q1536.3 65.9325 1536.3 59.3701 Q1536.3 51.7138 1541.4 47.825 Q1546.54 43.9361 1556.71 43.9361 L1567.16 43.9361 L1567.16 43.2069 Q1567.16 38.0623 1563.76 35.2672 Q1560.4 32.4315 1554.28 32.4315 Q1550.39 32.4315 1546.71 33.3632 Q1543.02 34.295 1539.62 36.1584 L1539.62 29.2718 Q1543.71 27.692 1547.56 26.9223 Q1551.41 26.1121 1555.05 26.1121 Q1564.9 26.1121 1569.76 31.2163 Q1574.62 36.3204 1574.62 46.6907 Z\" fill=\"#000000\" fill-rule=\"evenodd\" fill-opacity=\"1\" /><path clip-path=\"url(#clip900)\" d=\"M1597.34 14.324 L1597.34 27.2059 L1612.7 27.2059 L1612.7 32.9987 L1597.34 32.9987 L1597.34 57.6282 Q1597.34 63.1779 1598.84 64.7578 Q1600.38 66.3376 1605.04 66.3376 L1612.7 66.3376 L1612.7 72.576 L1605.04 72.576 Q1596.41 72.576 1593.13 69.3758 Q1589.85 66.1351 1589.85 57.6282 L1589.85 32.9987 L1584.38 32.9987 L1584.38 27.2059 L1589.85 27.2059 L1589.85 14.324 L1597.34 14.324 Z\" fill=\"#000000\" fill-rule=\"evenodd\" fill-opacity=\"1\" /><path clip-path=\"url(#clip900)\" d=\"M1622.5 27.2059 L1629.95 27.2059 L1629.95 72.576 L1622.5 72.576 L1622.5 27.2059 M1622.5 9.54393 L1629.95 9.54393 L1629.95 18.9825 L1622.5 18.9825 L1622.5 9.54393 Z\" fill=\"#000000\" fill-rule=\"evenodd\" fill-opacity=\"1\" /><path clip-path=\"url(#clip900)\" d=\"M1650 49.9314 Q1650 58.1548 1653.37 62.8538 Q1656.77 67.5124 1662.68 67.5124 Q1668.6 67.5124 1672 62.8538 Q1675.4 58.1548 1675.4 49.9314 Q1675.4 41.7081 1672 37.0496 Q1668.6 32.3505 1662.68 32.3505 Q1656.77 32.3505 1653.37 37.0496 Q1650 41.7081 1650 49.9314 M1675.4 65.7705 Q1673.05 69.8214 1669.45 71.8063 Q1665.88 73.7508 1660.86 73.7508 Q1652.64 73.7508 1647.45 67.1883 Q1642.31 60.6258 1642.31 49.9314 Q1642.31 39.2371 1647.45 32.6746 Q1652.64 26.1121 1660.86 26.1121 Q1665.88 26.1121 1669.45 28.0971 Q1673.05 30.0415 1675.4 34.0924 L1675.4 27.2059 L1682.86 27.2059 L1682.86 89.8329 L1675.4 89.8329 L1675.4 65.7705 Z\" fill=\"#000000\" fill-rule=\"evenodd\" fill-opacity=\"1\" /><path clip-path=\"url(#clip900)\" d=\"M1697.44 54.671 L1697.44 27.2059 L1704.89 27.2059 L1704.89 54.3874 Q1704.89 60.8284 1707.41 64.0691 Q1709.92 67.2693 1714.94 67.2693 Q1720.98 67.2693 1724.46 63.421 Q1727.98 59.5726 1727.98 52.9291 L1727.98 27.2059 L1735.44 27.2059 L1735.44 72.576 L1727.98 72.576 L1727.98 65.6084 Q1725.27 69.7404 1721.67 71.7658 Q1718.1 73.7508 1713.36 73.7508 Q1705.54 73.7508 1701.49 68.8897 Q1697.44 64.0286 1697.44 54.671 M1716.2 26.1121 L1716.2 26.1121 Z\" fill=\"#000000\" fill-rule=\"evenodd\" fill-opacity=\"1\" /><path clip-path=\"url(#clip900)\" d=\"M1789.6 48.0275 L1789.6 51.6733 L1755.33 51.6733 Q1755.81 59.3701 1759.95 63.421 Q1764.12 67.4314 1771.53 67.4314 Q1775.83 67.4314 1779.84 66.3781 Q1783.89 65.3249 1787.86 63.2184 L1787.86 70.267 Q1783.85 71.9684 1779.63 72.8596 Q1775.42 73.7508 1771.09 73.7508 Q1760.23 73.7508 1753.87 67.4314 Q1747.55 61.1119 1747.55 50.3365 Q1747.55 39.1965 1753.55 32.6746 Q1759.58 26.1121 1769.79 26.1121 Q1778.95 26.1121 1784.25 32.0264 Q1789.6 37.9003 1789.6 48.0275 M1782.15 45.84 Q1782.06 39.7232 1778.7 36.0774 Q1775.38 32.4315 1769.87 32.4315 Q1763.63 32.4315 1759.87 35.9558 Q1756.14 39.4801 1755.57 45.8805 L1782.15 45.84 Z\" fill=\"#000000\" fill-rule=\"evenodd\" fill-opacity=\"1\" /><polyline clip-path=\"url(#clip902)\" style=\"stroke:#009af9; stroke-linecap:round; stroke-linejoin:round; stroke-width:4; stroke-opacity:1; fill:none\" points=\"\n",
       "  218.754,1447.87 477.734,1415.57 736.715,1359.63 995.696,1259.46 1254.68,1137.75 1513.66,932.812 1772.64,587.912 2031.62,282.238 2290.6,162.047 \n",
       "  \"/>\n",
       "<path clip-path=\"url(#clip900)\" d=\"\n",
       "M229.803 272.585 L968.051 272.585 L968.051 168.905 L229.803 168.905  Z\n",
       "  \" fill=\"#ffffff\" fill-rule=\"evenodd\" fill-opacity=\"1\"/>\n",
       "<polyline clip-path=\"url(#clip900)\" style=\"stroke:#000000; stroke-linecap:round; stroke-linejoin:round; stroke-width:4; stroke-opacity:1; fill:none\" points=\"\n",
       "  229.803,272.585 968.051,272.585 968.051,168.905 229.803,168.905 229.803,272.585 \n",
       "  \"/>\n",
       "<polyline clip-path=\"url(#clip900)\" style=\"stroke:#009af9; stroke-linecap:round; stroke-linejoin:round; stroke-width:4; stroke-opacity:1; fill:none\" points=\"\n",
       "  254.205,220.745 400.616,220.745 \n",
       "  \"/>\n",
       "<path clip-path=\"url(#clip900)\" d=\"M428.953 201.798 L428.953 249.205 L425.018 249.205 L425.018 201.798 L428.953 201.798 Z\" fill=\"#000000\" fill-rule=\"evenodd\" fill-opacity=\"1\" /><path clip-path=\"url(#clip900)\" d=\"M444.925 201.798 L444.925 249.205 L440.99 249.205 L440.99 201.798 L444.925 201.798 Z\" fill=\"#000000\" fill-rule=\"evenodd\" fill-opacity=\"1\" /><path clip-path=\"url(#clip900)\" d=\"M476.962 212.099 L467.587 224.715 L477.448 238.025 L472.425 238.025 L464.878 227.84 L457.332 238.025 L452.309 238.025 L462.378 224.46 L453.166 212.099 L458.189 212.099 L465.064 221.335 L471.939 212.099 L476.962 212.099 Z\" fill=\"#000000\" fill-rule=\"evenodd\" fill-opacity=\"1\" /><path clip-path=\"url(#clip900)\" d=\"M483.304 202.006 L487.587 202.006 L487.587 223.279 L500.295 212.099 L505.735 212.099 L491.985 224.228 L506.313 238.025 L500.758 238.025 L487.587 225.363 L487.587 238.025 L483.304 238.025 L483.304 202.006 Z\" fill=\"#000000\" fill-rule=\"evenodd\" fill-opacity=\"1\" /><path clip-path=\"url(#clip900)\" d=\"M528.258 208.303 L528.258 221.196 L541.151 221.196 L541.151 225.131 L528.258 225.131 L528.258 238.025 L524.369 238.025 L524.369 225.131 L511.475 225.131 L511.475 221.196 L524.369 221.196 L524.369 208.303 L528.258 208.303 Z\" fill=\"#000000\" fill-rule=\"evenodd\" fill-opacity=\"1\" /><path clip-path=\"url(#clip900)\" d=\"M552.054 234.089 L559.693 234.089 L559.693 207.724 L551.383 209.391 L551.383 205.131 L559.646 203.465 L564.322 203.465 L564.322 234.089 L571.961 234.089 L571.961 238.025 L552.054 238.025 L552.054 234.089 Z\" fill=\"#000000\" fill-rule=\"evenodd\" fill-opacity=\"1\" /><path clip-path=\"url(#clip900)\" d=\"M593.72 223.14 L606.197 223.14 L606.197 226.937 L593.72 226.937 L593.72 223.14 Z\" fill=\"#000000\" fill-rule=\"evenodd\" fill-opacity=\"1\" /><path clip-path=\"url(#clip900)\" d=\"M649.6 212.099 L640.225 224.715 L650.086 238.025 L645.063 238.025 L637.516 227.84 L629.97 238.025 L624.947 238.025 L635.016 224.46 L625.803 212.099 L630.827 212.099 L637.702 221.335 L644.577 212.099 L649.6 212.099 Z\" fill=\"#000000\" fill-rule=\"evenodd\" fill-opacity=\"1\" /><path clip-path=\"url(#clip900)\" d=\"M669.229 202.006 L669.229 205.548 L665.155 205.548 Q662.863 205.548 661.961 206.474 Q661.081 207.4 661.081 209.807 L661.081 212.099 L668.095 212.099 L668.095 215.409 L661.081 215.409 L661.081 238.025 L656.799 238.025 L656.799 215.409 L652.725 215.409 L652.725 212.099 L656.799 212.099 L656.799 210.293 Q656.799 205.965 658.813 203.997 Q660.826 202.006 665.201 202.006 L669.229 202.006 Z\" fill=\"#000000\" fill-rule=\"evenodd\" fill-opacity=\"1\" /><path clip-path=\"url(#clip900)\" d=\"M678.28 201.798 L678.28 249.205 L674.345 249.205 L674.345 201.798 L678.28 201.798 Z\" fill=\"#000000\" fill-rule=\"evenodd\" fill-opacity=\"1\" /><path clip-path=\"url(#clip900)\" d=\"M694.252 201.798 L694.252 249.205 L690.317 249.205 L690.317 201.798 L694.252 201.798 Z\" fill=\"#000000\" fill-rule=\"evenodd\" fill-opacity=\"1\" /><path clip-path=\"url(#clip900)\" d=\"M712.308 203.465 L716.243 203.465 L704.206 242.423 L700.271 242.423 L712.308 203.465 Z\" fill=\"#000000\" fill-rule=\"evenodd\" fill-opacity=\"1\" /><path clip-path=\"url(#clip900)\" d=\"M726.196 201.798 L726.196 249.205 L722.261 249.205 L722.261 201.798 L726.196 201.798 Z\" fill=\"#000000\" fill-rule=\"evenodd\" fill-opacity=\"1\" /><path clip-path=\"url(#clip900)\" d=\"M742.169 201.798 L742.169 249.205 L738.233 249.205 L738.233 201.798 L742.169 201.798 Z\" fill=\"#000000\" fill-rule=\"evenodd\" fill-opacity=\"1\" /><path clip-path=\"url(#clip900)\" d=\"M774.205 212.099 L764.83 224.715 L774.692 238.025 L769.668 238.025 L762.122 227.84 L754.576 238.025 L749.553 238.025 L759.622 224.46 L750.409 212.099 L755.432 212.099 L762.307 221.335 L769.182 212.099 L774.205 212.099 Z\" fill=\"#000000\" fill-rule=\"evenodd\" fill-opacity=\"1\" /><path clip-path=\"url(#clip900)\" d=\"M780.548 202.006 L784.83 202.006 L784.83 223.279 L797.539 212.099 L802.978 212.099 L789.229 224.228 L803.557 238.025 L798.002 238.025 L784.83 225.363 L784.83 238.025 L780.548 238.025 L780.548 202.006 Z\" fill=\"#000000\" fill-rule=\"evenodd\" fill-opacity=\"1\" /><path clip-path=\"url(#clip900)\" d=\"M821.08 223.14 L833.557 223.14 L833.557 226.937 L821.08 226.937 L821.08 223.14 Z\" fill=\"#000000\" fill-rule=\"evenodd\" fill-opacity=\"1\" /><path clip-path=\"url(#clip900)\" d=\"M876.96 212.099 L867.585 224.715 L877.446 238.025 L872.423 238.025 L864.876 227.84 L857.33 238.025 L852.307 238.025 L862.376 224.46 L853.163 212.099 L858.186 212.099 L865.061 221.335 L871.936 212.099 L876.96 212.099 Z\" fill=\"#000000\" fill-rule=\"evenodd\" fill-opacity=\"1\" /><path clip-path=\"url(#clip900)\" d=\"M896.589 202.006 L896.589 205.548 L892.515 205.548 Q890.223 205.548 889.321 206.474 Q888.441 207.4 888.441 209.807 L888.441 212.099 L895.455 212.099 L895.455 215.409 L888.441 215.409 L888.441 238.025 L884.159 238.025 L884.159 215.409 L880.085 215.409 L880.085 212.099 L884.159 212.099 L884.159 210.293 Q884.159 205.965 886.172 203.997 Q888.186 202.006 892.561 202.006 L896.589 202.006 Z\" fill=\"#000000\" fill-rule=\"evenodd\" fill-opacity=\"1\" /><path clip-path=\"url(#clip900)\" d=\"M905.64 201.798 L905.64 249.205 L901.705 249.205 L901.705 201.798 L905.64 201.798 Z\" fill=\"#000000\" fill-rule=\"evenodd\" fill-opacity=\"1\" /><path clip-path=\"url(#clip900)\" d=\"M921.612 201.798 L921.612 249.205 L917.677 249.205 L917.677 201.798 L921.612 201.798 Z\" fill=\"#000000\" fill-rule=\"evenodd\" fill-opacity=\"1\" /><path clip-path=\"url(#clip900)\" d=\"M933.834 219.923 L943.649 219.923 L943.649 222.562 L929.806 222.562 L929.806 220.015 Q930.594 219.298 932.052 218.002 Q940.015 210.941 940.015 208.766 Q940.015 207.238 938.811 206.312 Q937.607 205.363 935.64 205.363 Q934.436 205.363 933.024 205.779 Q931.612 206.173 929.945 206.983 L929.945 204.136 Q931.728 203.488 933.256 203.164 Q934.806 202.84 936.126 202.84 Q939.482 202.84 941.496 204.367 Q943.51 205.895 943.51 208.395 Q943.51 211.613 935.848 218.187 Q934.552 219.298 933.834 219.923 Z\" fill=\"#000000\" fill-rule=\"evenodd\" fill-opacity=\"1\" /></svg>\n"
      ]
     },
     "execution_count": 77,
     "metadata": {},
     "output_type": "execute_result"
    }
   ],
   "source": [
    "plot(p3)"
   ]
  },
  {
   "cell_type": "markdown",
   "metadata": {},
   "source": [
    "## Methode BFGS"
   ]
  },
  {
   "cell_type": "code",
   "execution_count": 63,
   "metadata": {},
   "outputs": [
    {
     "data": {
      "text/plain": [
       "18-element Vector{Vector{Float64}}:\n",
       " [10.0, 20.0]\n",
       " [4.756720633843399, -12.943546586664915]\n",
       " [4.772606027478052, -6.109214291725093]\n",
       " [4.639993867429648, -5.362016919924266]\n",
       " [4.303711085827463, -3.8995607790830196]\n",
       " [4.075529417518674, -3.1106247560062306]\n",
       " [3.8702629227131364, -2.4869588637555307]\n",
       " [3.7323018867003492, -2.1064228228101003]\n",
       " [3.6511915921011897, -1.9002468710390759]\n",
       " [3.6179743370742092, -1.825829741689893]\n",
       " [3.6082696316149927, -1.8118904803876206]\n",
       " [3.5988797713976, -1.8076861219409954]\n",
       " [3.586379083980033, -1.8160069600157513]\n",
       " [3.581202206164052, -1.8347367088130477]\n",
       " [3.58274405609598, -1.8464367853691737]\n",
       " [3.5841678462695015, -1.8482103129359126]\n",
       " [3.584421377554037, -1.848149636981784]\n",
       " [3.584428453832931, -1.848127385795475]"
      ]
     },
     "execution_count": 63,
     "metadata": {},
     "output_type": "execute_result"
    }
   ],
   "source": [
    "x_bfgs"
   ]
  },
  {
   "cell_type": "code",
   "execution_count": 72,
   "metadata": {},
   "outputs": [
    {
     "data": {
      "text/plain": [
       "(8.894376497582423e-12, 1.0812720305337285e-11)"
      ]
     },
     "execution_count": 72,
     "metadata": {},
     "output_type": "execute_result"
    }
   ],
   "source": [
    "xf = [3.584428, -1.848126] # approximate solution from https://en.wikipedia.org/wiki/Himmelblau%27s_function\n",
    "(fH(xf), fH(x_bfgs[end]))"
   ]
  },
  {
   "cell_type": "code",
   "execution_count": 74,
   "metadata": {},
   "outputs": [
    {
     "data": {
      "image/svg+xml": [
       "<?xml version=\"1.0\" encoding=\"utf-8\"?>\n",
       "<svg xmlns=\"http://www.w3.org/2000/svg\" xmlns:xlink=\"http://www.w3.org/1999/xlink\" width=\"600\" height=\"400\" viewBox=\"0 0 2400 1600\">\n",
       "<defs>\n",
       "  <clipPath id=\"clip780\">\n",
       "    <rect x=\"0\" y=\"0\" width=\"2400\" height=\"1600\"/>\n",
       "  </clipPath>\n",
       "</defs>\n",
       "<path clip-path=\"url(#clip780)\" d=\"\n",
       "M0 1600 L2400 1600 L2400 0 L0 0  Z\n",
       "  \" fill=\"#ffffff\" fill-rule=\"evenodd\" fill-opacity=\"1\"/>\n",
       "<defs>\n",
       "  <clipPath id=\"clip781\">\n",
       "    <rect x=\"480\" y=\"0\" width=\"1681\" height=\"1600\"/>\n",
       "  </clipPath>\n",
       "</defs>\n",
       "<path clip-path=\"url(#clip780)\" d=\"\n",
       "M140.696 1486.45 L2352.76 1486.45 L2352.76 123.472 L140.696 123.472  Z\n",
       "  \" fill=\"#ffffff\" fill-rule=\"evenodd\" fill-opacity=\"1\"/>\n",
       "<defs>\n",
       "  <clipPath id=\"clip782\">\n",
       "    <rect x=\"140\" y=\"123\" width=\"2213\" height=\"1364\"/>\n",
       "  </clipPath>\n",
       "</defs>\n",
       "<polyline clip-path=\"url(#clip782)\" style=\"stroke:#000000; stroke-linecap:round; stroke-linejoin:round; stroke-width:2; stroke-opacity:0.1; fill:none\" points=\"\n",
       "  464.157,1486.45 464.157,123.472 \n",
       "  \"/>\n",
       "<polyline clip-path=\"url(#clip782)\" style=\"stroke:#000000; stroke-linecap:round; stroke-linejoin:round; stroke-width:2; stroke-opacity:0.1; fill:none\" points=\"\n",
       "  855.441,1486.45 855.441,123.472 \n",
       "  \"/>\n",
       "<polyline clip-path=\"url(#clip782)\" style=\"stroke:#000000; stroke-linecap:round; stroke-linejoin:round; stroke-width:2; stroke-opacity:0.1; fill:none\" points=\"\n",
       "  1246.73,1486.45 1246.73,123.472 \n",
       "  \"/>\n",
       "<polyline clip-path=\"url(#clip782)\" style=\"stroke:#000000; stroke-linecap:round; stroke-linejoin:round; stroke-width:2; stroke-opacity:0.1; fill:none\" points=\"\n",
       "  1638.01,1486.45 1638.01,123.472 \n",
       "  \"/>\n",
       "<polyline clip-path=\"url(#clip782)\" style=\"stroke:#000000; stroke-linecap:round; stroke-linejoin:round; stroke-width:2; stroke-opacity:0.1; fill:none\" points=\"\n",
       "  2029.29,1486.45 2029.29,123.472 \n",
       "  \"/>\n",
       "<polyline clip-path=\"url(#clip780)\" style=\"stroke:#000000; stroke-linecap:round; stroke-linejoin:round; stroke-width:4; stroke-opacity:1; fill:none\" points=\"\n",
       "  140.696,1486.45 2352.76,1486.45 \n",
       "  \"/>\n",
       "<polyline clip-path=\"url(#clip780)\" style=\"stroke:#000000; stroke-linecap:round; stroke-linejoin:round; stroke-width:4; stroke-opacity:1; fill:none\" points=\"\n",
       "  464.157,1486.45 464.157,1467.55 \n",
       "  \"/>\n",
       "<polyline clip-path=\"url(#clip780)\" style=\"stroke:#000000; stroke-linecap:round; stroke-linejoin:round; stroke-width:4; stroke-opacity:1; fill:none\" points=\"\n",
       "  855.441,1486.45 855.441,1467.55 \n",
       "  \"/>\n",
       "<polyline clip-path=\"url(#clip780)\" style=\"stroke:#000000; stroke-linecap:round; stroke-linejoin:round; stroke-width:4; stroke-opacity:1; fill:none\" points=\"\n",
       "  1246.73,1486.45 1246.73,1467.55 \n",
       "  \"/>\n",
       "<polyline clip-path=\"url(#clip780)\" style=\"stroke:#000000; stroke-linecap:round; stroke-linejoin:round; stroke-width:4; stroke-opacity:1; fill:none\" points=\"\n",
       "  1638.01,1486.45 1638.01,1467.55 \n",
       "  \"/>\n",
       "<polyline clip-path=\"url(#clip780)\" style=\"stroke:#000000; stroke-linecap:round; stroke-linejoin:round; stroke-width:4; stroke-opacity:1; fill:none\" points=\"\n",
       "  2029.29,1486.45 2029.29,1467.55 \n",
       "  \"/>\n",
       "<path clip-path=\"url(#clip780)\" d=\"M468.405 1530.21 Q471.761 1530.93 473.636 1533.2 Q475.534 1535.47 475.534 1538.8 Q475.534 1543.92 472.016 1546.72 Q468.497 1549.52 462.016 1549.52 Q459.84 1549.52 457.525 1549.08 Q455.234 1548.66 452.78 1547.81 L452.78 1543.29 Q454.724 1544.43 457.039 1545.01 Q459.354 1545.58 461.877 1545.58 Q466.275 1545.58 468.567 1543.85 Q470.882 1542.11 470.882 1538.8 Q470.882 1535.75 468.729 1534.03 Q466.599 1532.3 462.78 1532.3 L458.752 1532.3 L458.752 1528.45 L462.965 1528.45 Q466.414 1528.45 468.243 1527.09 Q470.072 1525.7 470.072 1523.11 Q470.072 1520.45 468.173 1519.03 Q466.298 1517.6 462.78 1517.6 Q460.859 1517.6 458.66 1518.01 Q456.46 1518.43 453.822 1519.31 L453.822 1515.14 Q456.484 1514.4 458.798 1514.03 Q461.136 1513.66 463.197 1513.66 Q468.521 1513.66 471.622 1516.09 Q474.724 1518.5 474.724 1522.62 Q474.724 1525.49 473.081 1527.48 Q471.437 1529.45 468.405 1530.21 Z\" fill=\"#000000\" fill-rule=\"evenodd\" fill-opacity=\"1\" /><path clip-path=\"url(#clip780)\" d=\"M855.847 1529.7 Q852.698 1529.7 850.847 1531.86 Q849.018 1534.01 849.018 1537.76 Q849.018 1541.49 850.847 1543.66 Q852.698 1545.82 855.847 1545.82 Q858.995 1545.82 860.823 1543.66 Q862.675 1541.49 862.675 1537.76 Q862.675 1534.01 860.823 1531.86 Q858.995 1529.7 855.847 1529.7 M865.129 1515.05 L865.129 1519.31 Q863.37 1518.48 861.564 1518.04 Q859.782 1517.6 858.022 1517.6 Q853.393 1517.6 850.939 1520.72 Q848.509 1523.85 848.161 1530.17 Q849.527 1528.15 851.587 1527.09 Q853.647 1526 856.124 1526 Q861.333 1526 864.342 1529.17 Q867.374 1532.32 867.374 1537.76 Q867.374 1543.08 864.226 1546.3 Q861.078 1549.52 855.847 1549.52 Q849.851 1549.52 846.68 1544.94 Q843.509 1540.33 843.509 1531.6 Q843.509 1523.41 847.398 1518.55 Q851.286 1513.66 857.837 1513.66 Q859.597 1513.66 861.379 1514.01 Q863.184 1514.36 865.129 1515.05 Z\" fill=\"#000000\" fill-rule=\"evenodd\" fill-opacity=\"1\" /><path clip-path=\"url(#clip780)\" d=\"M1237.03 1548.13 L1237.03 1543.87 Q1238.79 1544.7 1240.59 1545.14 Q1242.4 1545.58 1244.13 1545.58 Q1248.76 1545.58 1251.19 1542.48 Q1253.65 1539.36 1253.99 1533.01 Q1252.65 1535.01 1250.59 1536.07 Q1248.53 1537.13 1246.03 1537.13 Q1240.85 1537.13 1237.81 1534.01 Q1234.8 1530.86 1234.8 1525.42 Q1234.8 1520.1 1237.95 1516.88 Q1241.1 1513.66 1246.33 1513.66 Q1252.33 1513.66 1255.48 1518.27 Q1258.65 1522.85 1258.65 1531.6 Q1258.65 1539.77 1254.76 1544.66 Q1250.89 1549.52 1244.34 1549.52 Q1242.58 1549.52 1240.78 1549.17 Q1238.97 1548.82 1237.03 1548.13 M1246.33 1533.48 Q1249.48 1533.48 1251.31 1531.32 Q1253.16 1529.17 1253.16 1525.42 Q1253.16 1521.7 1251.31 1519.54 Q1249.48 1517.37 1246.33 1517.37 Q1243.18 1517.37 1241.33 1519.54 Q1239.5 1521.7 1239.5 1525.42 Q1239.5 1529.17 1241.33 1531.32 Q1243.18 1533.48 1246.33 1533.48 Z\" fill=\"#000000\" fill-rule=\"evenodd\" fill-opacity=\"1\" /><path clip-path=\"url(#clip780)\" d=\"M1613.5 1544.91 L1621.14 1544.91 L1621.14 1518.55 L1612.82 1520.21 L1612.82 1515.95 L1621.09 1514.29 L1625.76 1514.29 L1625.76 1544.91 L1633.4 1544.91 L1633.4 1548.85 L1613.5 1548.85 L1613.5 1544.91 Z\" fill=\"#000000\" fill-rule=\"evenodd\" fill-opacity=\"1\" /><path clip-path=\"url(#clip780)\" d=\"M1646.88 1544.91 L1663.2 1544.91 L1663.2 1548.85 L1641.25 1548.85 L1641.25 1544.91 Q1643.91 1542.16 1648.5 1537.53 Q1653.1 1532.88 1654.28 1531.53 Q1656.53 1529.01 1657.41 1527.27 Q1658.31 1525.51 1658.31 1523.82 Q1658.31 1521.07 1656.37 1519.33 Q1654.45 1517.6 1651.34 1517.6 Q1649.14 1517.6 1646.69 1518.36 Q1644.26 1519.13 1641.48 1520.68 L1641.48 1515.95 Q1644.31 1514.82 1646.76 1514.24 Q1649.21 1513.66 1651.25 1513.66 Q1656.62 1513.66 1659.82 1516.35 Q1663.01 1519.03 1663.01 1523.52 Q1663.01 1525.65 1662.2 1527.57 Q1661.41 1529.47 1659.31 1532.07 Q1658.73 1532.74 1655.63 1535.95 Q1652.52 1539.15 1646.88 1544.91 Z\" fill=\"#000000\" fill-rule=\"evenodd\" fill-opacity=\"1\" /><path clip-path=\"url(#clip780)\" d=\"M2004.48 1544.91 L2012.12 1544.91 L2012.12 1518.55 L2003.81 1520.21 L2003.81 1515.95 L2012.07 1514.29 L2016.75 1514.29 L2016.75 1544.91 L2024.39 1544.91 L2024.39 1548.85 L2004.48 1548.85 L2004.48 1544.91 Z\" fill=\"#000000\" fill-rule=\"evenodd\" fill-opacity=\"1\" /><path clip-path=\"url(#clip780)\" d=\"M2033.88 1514.29 L2052.23 1514.29 L2052.23 1518.22 L2038.16 1518.22 L2038.16 1526.7 Q2039.18 1526.35 2040.2 1526.19 Q2041.22 1526 2042.23 1526 Q2048.02 1526 2051.4 1529.17 Q2054.78 1532.34 2054.78 1537.76 Q2054.78 1543.34 2051.31 1546.44 Q2047.84 1549.52 2041.52 1549.52 Q2039.34 1549.52 2037.07 1549.15 Q2034.83 1548.78 2032.42 1548.04 L2032.42 1543.34 Q2034.5 1544.47 2036.72 1545.03 Q2038.95 1545.58 2041.42 1545.58 Q2045.43 1545.58 2047.77 1543.48 Q2050.1 1541.37 2050.1 1537.76 Q2050.1 1534.15 2047.77 1532.04 Q2045.43 1529.94 2041.42 1529.94 Q2039.55 1529.94 2037.67 1530.35 Q2035.82 1530.77 2033.88 1531.65 L2033.88 1514.29 Z\" fill=\"#000000\" fill-rule=\"evenodd\" fill-opacity=\"1\" /><polyline clip-path=\"url(#clip782)\" style=\"stroke:#000000; stroke-linecap:round; stroke-linejoin:round; stroke-width:2; stroke-opacity:0.1; fill:none\" points=\"\n",
       "  140.696,1447.87 2352.76,1447.87 \n",
       "  \"/>\n",
       "<polyline clip-path=\"url(#clip782)\" style=\"stroke:#000000; stroke-linecap:round; stroke-linejoin:round; stroke-width:2; stroke-opacity:0.1; fill:none\" points=\"\n",
       "  140.696,1165.53 2352.76,1165.53 \n",
       "  \"/>\n",
       "<polyline clip-path=\"url(#clip782)\" style=\"stroke:#000000; stroke-linecap:round; stroke-linejoin:round; stroke-width:2; stroke-opacity:0.1; fill:none\" points=\"\n",
       "  140.696,883.187 2352.76,883.187 \n",
       "  \"/>\n",
       "<polyline clip-path=\"url(#clip782)\" style=\"stroke:#000000; stroke-linecap:round; stroke-linejoin:round; stroke-width:2; stroke-opacity:0.1; fill:none\" points=\"\n",
       "  140.696,600.843 2352.76,600.843 \n",
       "  \"/>\n",
       "<polyline clip-path=\"url(#clip782)\" style=\"stroke:#000000; stroke-linecap:round; stroke-linejoin:round; stroke-width:2; stroke-opacity:0.1; fill:none\" points=\"\n",
       "  140.696,318.499 2352.76,318.499 \n",
       "  \"/>\n",
       "<polyline clip-path=\"url(#clip780)\" style=\"stroke:#000000; stroke-linecap:round; stroke-linejoin:round; stroke-width:4; stroke-opacity:1; fill:none\" points=\"\n",
       "  140.696,1486.45 140.696,123.472 \n",
       "  \"/>\n",
       "<polyline clip-path=\"url(#clip780)\" style=\"stroke:#000000; stroke-linecap:round; stroke-linejoin:round; stroke-width:4; stroke-opacity:1; fill:none\" points=\"\n",
       "  140.696,1447.87 159.593,1447.87 \n",
       "  \"/>\n",
       "<polyline clip-path=\"url(#clip780)\" style=\"stroke:#000000; stroke-linecap:round; stroke-linejoin:round; stroke-width:4; stroke-opacity:1; fill:none\" points=\"\n",
       "  140.696,1165.53 159.593,1165.53 \n",
       "  \"/>\n",
       "<polyline clip-path=\"url(#clip780)\" style=\"stroke:#000000; stroke-linecap:round; stroke-linejoin:round; stroke-width:4; stroke-opacity:1; fill:none\" points=\"\n",
       "  140.696,883.187 159.593,883.187 \n",
       "  \"/>\n",
       "<polyline clip-path=\"url(#clip780)\" style=\"stroke:#000000; stroke-linecap:round; stroke-linejoin:round; stroke-width:4; stroke-opacity:1; fill:none\" points=\"\n",
       "  140.696,600.843 159.593,600.843 \n",
       "  \"/>\n",
       "<polyline clip-path=\"url(#clip780)\" style=\"stroke:#000000; stroke-linecap:round; stroke-linejoin:round; stroke-width:4; stroke-opacity:1; fill:none\" points=\"\n",
       "  140.696,318.499 159.593,318.499 \n",
       "  \"/>\n",
       "<path clip-path=\"url(#clip780)\" d=\"M92.7512 1433.67 Q89.1401 1433.67 87.3114 1437.24 Q85.5058 1440.78 85.5058 1447.91 Q85.5058 1455.02 87.3114 1458.58 Q89.1401 1462.12 92.7512 1462.12 Q96.3854 1462.12 98.1909 1458.58 Q100.02 1455.02 100.02 1447.91 Q100.02 1440.78 98.1909 1437.24 Q96.3854 1433.67 92.7512 1433.67 M92.7512 1429.97 Q98.5613 1429.97 101.617 1434.58 Q104.696 1439.16 104.696 1447.91 Q104.696 1456.64 101.617 1461.24 Q98.5613 1465.83 92.7512 1465.83 Q86.941 1465.83 83.8623 1461.24 Q80.8068 1456.64 80.8068 1447.91 Q80.8068 1439.16 83.8623 1434.58 Q86.941 1429.97 92.7512 1429.97 Z\" fill=\"#000000\" fill-rule=\"evenodd\" fill-opacity=\"1\" /><path clip-path=\"url(#clip780)\" d=\"M83.7929 1148.25 L102.149 1148.25 L102.149 1152.19 L88.0753 1152.19 L88.0753 1160.66 Q89.0938 1160.31 90.1123 1160.15 Q91.1308 1159.96 92.1493 1159.96 Q97.9363 1159.96 101.316 1163.13 Q104.696 1166.31 104.696 1171.72 Q104.696 1177.3 101.223 1180.4 Q97.7511 1183.48 91.4317 1183.48 Q89.2558 1183.48 86.9873 1183.11 Q84.7419 1182.74 82.3346 1182 L82.3346 1177.3 Q84.4179 1178.44 86.6401 1178.99 Q88.8623 1179.55 91.3391 1179.55 Q95.3437 1179.55 97.6817 1177.44 Q100.02 1175.33 100.02 1171.72 Q100.02 1168.11 97.6817 1166.01 Q95.3437 1163.9 91.3391 1163.9 Q89.4641 1163.9 87.5892 1164.32 Q85.7373 1164.73 83.7929 1165.61 L83.7929 1148.25 Z\" fill=\"#000000\" fill-rule=\"evenodd\" fill-opacity=\"1\" /><path clip-path=\"url(#clip780)\" d=\"M53.3995 896.532 L61.0384 896.532 L61.0384 870.166 L52.7282 871.833 L52.7282 867.573 L60.9921 865.907 L65.668 865.907 L65.668 896.532 L73.3068 896.532 L73.3068 900.467 L53.3995 900.467 L53.3995 896.532 Z\" fill=\"#000000\" fill-rule=\"evenodd\" fill-opacity=\"1\" /><path clip-path=\"url(#clip780)\" d=\"M92.7512 868.986 Q89.1401 868.986 87.3114 872.55 Q85.5058 876.092 85.5058 883.222 Q85.5058 890.328 87.3114 893.893 Q89.1401 897.434 92.7512 897.434 Q96.3854 897.434 98.1909 893.893 Q100.02 890.328 100.02 883.222 Q100.02 876.092 98.1909 872.55 Q96.3854 868.986 92.7512 868.986 M92.7512 865.282 Q98.5613 865.282 101.617 869.888 Q104.696 874.472 104.696 883.222 Q104.696 891.948 101.617 896.555 Q98.5613 901.138 92.7512 901.138 Q86.941 901.138 83.8623 896.555 Q80.8068 891.948 80.8068 883.222 Q80.8068 874.472 83.8623 869.888 Q86.941 865.282 92.7512 865.282 Z\" fill=\"#000000\" fill-rule=\"evenodd\" fill-opacity=\"1\" /><path clip-path=\"url(#clip780)\" d=\"M54.3949 614.188 L62.0337 614.188 L62.0337 587.822 L53.7236 589.489 L53.7236 585.23 L61.9874 583.563 L66.6633 583.563 L66.6633 614.188 L74.3022 614.188 L74.3022 618.123 L54.3949 618.123 L54.3949 614.188 Z\" fill=\"#000000\" fill-rule=\"evenodd\" fill-opacity=\"1\" /><path clip-path=\"url(#clip780)\" d=\"M83.7929 583.563 L102.149 583.563 L102.149 587.498 L88.0753 587.498 L88.0753 595.97 Q89.0938 595.623 90.1123 595.461 Q91.1308 595.276 92.1493 595.276 Q97.9363 595.276 101.316 598.447 Q104.696 601.619 104.696 607.035 Q104.696 612.614 101.223 615.716 Q97.7511 618.794 91.4317 618.794 Q89.2558 618.794 86.9873 618.424 Q84.7419 618.054 82.3346 617.313 L82.3346 612.614 Q84.4179 613.748 86.6401 614.304 Q88.8623 614.859 91.3391 614.859 Q95.3437 614.859 97.6817 612.753 Q100.02 610.646 100.02 607.035 Q100.02 603.424 97.6817 601.318 Q95.3437 599.211 91.3391 599.211 Q89.4641 599.211 87.5892 599.628 Q85.7373 600.044 83.7929 600.924 L83.7929 583.563 Z\" fill=\"#000000\" fill-rule=\"evenodd\" fill-opacity=\"1\" /><path clip-path=\"url(#clip780)\" d=\"M56.6171 331.844 L72.9365 331.844 L72.9365 335.779 L50.9921 335.779 L50.9921 331.844 Q53.6541 329.089 58.2375 324.46 Q62.8439 319.807 64.0245 318.465 Q66.2698 315.941 67.1494 314.205 Q68.0522 312.446 68.0522 310.756 Q68.0522 308.002 66.1078 306.266 Q64.1865 304.529 61.0847 304.529 Q58.8856 304.529 56.4319 305.293 Q54.0014 306.057 51.2236 307.608 L51.2236 302.886 Q54.0477 301.752 56.5014 301.173 Q58.955 300.594 60.9921 300.594 Q66.3624 300.594 69.5568 303.279 Q72.7513 305.965 72.7513 310.455 Q72.7513 312.585 71.9411 314.506 Q71.1541 316.404 69.0476 318.997 Q68.4689 319.668 65.367 322.886 Q62.2652 326.08 56.6171 331.844 Z\" fill=\"#000000\" fill-rule=\"evenodd\" fill-opacity=\"1\" /><path clip-path=\"url(#clip780)\" d=\"M92.7512 304.298 Q89.1401 304.298 87.3114 307.863 Q85.5058 311.404 85.5058 318.534 Q85.5058 325.64 87.3114 329.205 Q89.1401 332.747 92.7512 332.747 Q96.3854 332.747 98.1909 329.205 Q100.02 325.64 100.02 318.534 Q100.02 311.404 98.1909 307.863 Q96.3854 304.298 92.7512 304.298 M92.7512 300.594 Q98.5613 300.594 101.617 305.201 Q104.696 309.784 104.696 318.534 Q104.696 327.261 101.617 331.867 Q98.5613 336.451 92.7512 336.451 Q86.941 336.451 83.8623 331.867 Q80.8068 327.261 80.8068 318.534 Q80.8068 309.784 83.8623 305.201 Q86.941 300.594 92.7512 300.594 Z\" fill=\"#000000\" fill-rule=\"evenodd\" fill-opacity=\"1\" /><path clip-path=\"url(#clip780)\" d=\"M1079.81 18.8205 L1079.81 65.8515 L1089.69 65.8515 Q1102.21 65.8515 1108 60.1802 Q1113.84 54.509 1113.84 42.2752 Q1113.84 30.1225 1108 24.4918 Q1102.21 18.8205 1089.69 18.8205 L1079.81 18.8205 M1071.63 12.096 L1088.44 12.096 Q1106.02 12.096 1114.24 19.4281 Q1122.46 26.7198 1122.46 42.2752 Q1122.46 57.9117 1114.2 65.2439 Q1105.94 72.576 1088.44 72.576 L1071.63 72.576 L1071.63 12.096 Z\" fill=\"#000000\" fill-rule=\"evenodd\" fill-opacity=\"1\" /><path clip-path=\"url(#clip780)\" d=\"M1135.18 27.2059 L1142.64 27.2059 L1142.64 72.576 L1135.18 72.576 L1135.18 27.2059 M1135.18 9.54393 L1142.64 9.54393 L1142.64 18.9825 L1135.18 18.9825 L1135.18 9.54393 Z\" fill=\"#000000\" fill-rule=\"evenodd\" fill-opacity=\"1\" /><path clip-path=\"url(#clip780)\" d=\"M1187.16 28.5427 L1187.16 35.5912 Q1184 33.9709 1180.59 33.1607 Q1177.19 32.3505 1173.55 32.3505 Q1168 32.3505 1165.2 34.0519 Q1162.45 35.7533 1162.45 39.156 Q1162.45 41.7486 1164.43 43.2475 Q1166.42 44.7058 1172.41 46.0426 L1174.96 46.6097 Q1182.9 48.3111 1186.23 51.4303 Q1189.59 54.509 1189.59 60.0587 Q1189.59 66.3781 1184.56 70.0644 Q1179.58 73.7508 1170.83 73.7508 Q1167.19 73.7508 1163.22 73.0216 Q1159.29 72.3329 1154.91 70.9151 L1154.91 63.2184 Q1159.04 65.3654 1163.05 66.4591 Q1167.06 67.5124 1170.99 67.5124 Q1176.26 67.5124 1179.1 65.73 Q1181.93 63.9071 1181.93 60.6258 Q1181.93 57.5877 1179.87 55.9673 Q1177.84 54.3469 1170.91 52.8481 L1168.32 52.2405 Q1161.39 50.7821 1158.31 47.7845 Q1155.24 44.7463 1155.24 39.4801 Q1155.24 33.0797 1159.77 29.5959 Q1164.31 26.1121 1172.65 26.1121 Q1176.79 26.1121 1180.43 26.7198 Q1184.08 27.3274 1187.16 28.5427 Z\" fill=\"#000000\" fill-rule=\"evenodd\" fill-opacity=\"1\" /><path clip-path=\"url(#clip780)\" d=\"M1208.83 14.324 L1208.83 27.2059 L1224.18 27.2059 L1224.18 32.9987 L1208.83 32.9987 L1208.83 57.6282 Q1208.83 63.1779 1210.33 64.7578 Q1211.87 66.3376 1216.53 66.3376 L1224.18 66.3376 L1224.18 72.576 L1216.53 72.576 Q1207.9 72.576 1204.62 69.3758 Q1201.34 66.1351 1201.34 57.6282 L1201.34 32.9987 L1195.87 32.9987 L1195.87 27.2059 L1201.34 27.2059 L1201.34 14.324 L1208.83 14.324 Z\" fill=\"#000000\" fill-rule=\"evenodd\" fill-opacity=\"1\" /><path clip-path=\"url(#clip780)\" d=\"M1254.6 49.7694 Q1245.57 49.7694 1242.09 51.8354 Q1238.6 53.9013 1238.6 58.8839 Q1238.6 62.8538 1241.2 65.2034 Q1243.83 67.5124 1248.33 67.5124 Q1254.52 67.5124 1258.25 63.1374 Q1262.02 58.7219 1262.02 51.4303 L1262.02 49.7694 L1254.6 49.7694 M1269.47 46.6907 L1269.47 72.576 L1262.02 72.576 L1262.02 65.6895 Q1259.47 69.8214 1255.66 71.8063 Q1251.85 73.7508 1246.34 73.7508 Q1239.37 73.7508 1235.24 69.8619 Q1231.15 65.9325 1231.15 59.3701 Q1231.15 51.7138 1236.25 47.825 Q1241.4 43.9361 1251.57 43.9361 L1262.02 43.9361 L1262.02 43.2069 Q1262.02 38.0623 1258.62 35.2672 Q1255.25 32.4315 1249.14 32.4315 Q1245.25 32.4315 1241.56 33.3632 Q1237.87 34.295 1234.47 36.1584 L1234.47 29.2718 Q1238.56 27.692 1242.41 26.9223 Q1246.26 26.1121 1249.91 26.1121 Q1259.75 26.1121 1264.61 31.2163 Q1269.47 36.3204 1269.47 46.6907 Z\" fill=\"#000000\" fill-rule=\"evenodd\" fill-opacity=\"1\" /><path clip-path=\"url(#clip780)\" d=\"M1322.54 45.1919 L1322.54 72.576 L1315.08 72.576 L1315.08 45.4349 Q1315.08 38.994 1312.57 35.7938 Q1310.06 32.5936 1305.04 32.5936 Q1299 32.5936 1295.52 36.4419 Q1292.04 40.2903 1292.04 46.9338 L1292.04 72.576 L1284.54 72.576 L1284.54 27.2059 L1292.04 27.2059 L1292.04 34.2544 Q1294.71 30.163 1298.31 28.1376 Q1301.96 26.1121 1306.7 26.1121 Q1314.52 26.1121 1318.53 30.9732 Q1322.54 35.7938 1322.54 45.1919 Z\" fill=\"#000000\" fill-rule=\"evenodd\" fill-opacity=\"1\" /><path clip-path=\"url(#clip780)\" d=\"M1370.06 28.9478 L1370.06 35.9153 Q1366.9 34.1734 1363.7 33.3227 Q1360.54 32.4315 1357.3 32.4315 Q1350.04 32.4315 1346.03 37.0496 Q1342.02 41.6271 1342.02 49.9314 Q1342.02 58.2358 1346.03 62.8538 Q1350.04 67.4314 1357.3 67.4314 Q1360.54 67.4314 1363.7 66.5807 Q1366.9 65.6895 1370.06 63.9476 L1370.06 70.8341 Q1366.94 72.2924 1363.57 73.0216 Q1360.25 73.7508 1356.48 73.7508 Q1346.24 73.7508 1340.2 67.3098 Q1334.16 60.8689 1334.16 49.9314 Q1334.16 38.832 1340.24 32.472 Q1346.36 26.1121 1356.97 26.1121 Q1360.41 26.1121 1363.7 26.8413 Q1366.98 27.5299 1370.06 28.9478 Z\" fill=\"#000000\" fill-rule=\"evenodd\" fill-opacity=\"1\" /><path clip-path=\"url(#clip780)\" d=\"M1421.83 48.0275 L1421.83 51.6733 L1387.56 51.6733 Q1388.04 59.3701 1392.17 63.421 Q1396.35 67.4314 1403.76 67.4314 Q1408.05 67.4314 1412.06 66.3781 Q1416.11 65.3249 1420.08 63.2184 L1420.08 70.267 Q1416.07 71.9684 1411.86 72.8596 Q1407.65 73.7508 1403.31 73.7508 Q1392.46 73.7508 1386.1 67.4314 Q1379.78 61.1119 1379.78 50.3365 Q1379.78 39.1965 1385.77 32.6746 Q1391.81 26.1121 1402.02 26.1121 Q1411.17 26.1121 1416.48 32.0264 Q1421.83 37.9003 1421.83 48.0275 M1414.37 45.84 Q1414.29 39.7232 1410.93 36.0774 Q1407.61 32.4315 1402.1 32.4315 Q1395.86 32.4315 1392.09 35.9558 Q1388.37 39.4801 1387.8 45.8805 L1414.37 45.84 Z\" fill=\"#000000\" fill-rule=\"evenodd\" fill-opacity=\"1\" /><polyline clip-path=\"url(#clip782)\" style=\"stroke:#009af9; stroke-linecap:round; stroke-linejoin:round; stroke-width:4; stroke-opacity:1; fill:none\" points=\"\n",
       "  203.301,162.047 333.729,817.842 464.157,1198.08 594.585,1240.69 725.013,1325.12 855.441,1371.38 985.87,1408.35 1116.3,1431.07 1246.73,1443.09 1377.15,1445.6 \n",
       "  1507.58,1445.42 1638.01,1445.45 1768.44,1446.06 1898.87,1447.1 2029.29,1447.74 2159.72,1447.86 2290.15,1447.87 \n",
       "  \"/>\n",
       "<path clip-path=\"url(#clip780)\" d=\"\n",
       "M1858.46 272.585 L2279.02 272.585 L2279.02 168.905 L1858.46 168.905  Z\n",
       "  \" fill=\"#ffffff\" fill-rule=\"evenodd\" fill-opacity=\"1\"/>\n",
       "<polyline clip-path=\"url(#clip780)\" style=\"stroke:#000000; stroke-linecap:round; stroke-linejoin:round; stroke-width:4; stroke-opacity:1; fill:none\" points=\"\n",
       "  1858.46,272.585 2279.02,272.585 2279.02,168.905 1858.46,168.905 1858.46,272.585 \n",
       "  \"/>\n",
       "<polyline clip-path=\"url(#clip780)\" style=\"stroke:#009af9; stroke-linecap:round; stroke-linejoin:round; stroke-width:4; stroke-opacity:1; fill:none\" points=\"\n",
       "  1883.04,220.745 2030.51,220.745 \n",
       "  \"/>\n",
       "<path clip-path=\"url(#clip780)\" d=\"M2059.03 201.798 L2059.03 249.205 L2055.09 249.205 L2055.09 201.798 L2059.03 201.798 Z\" fill=\"#000000\" fill-rule=\"evenodd\" fill-opacity=\"1\" /><path clip-path=\"url(#clip780)\" d=\"M2075 201.798 L2075 249.205 L2071.06 249.205 L2071.06 201.798 L2075 201.798 Z\" fill=\"#000000\" fill-rule=\"evenodd\" fill-opacity=\"1\" /><path clip-path=\"url(#clip780)\" d=\"M2107.04 212.099 L2097.66 224.715 L2107.52 238.025 L2102.5 238.025 L2094.95 227.84 L2087.41 238.025 L2082.38 238.025 L2092.45 224.46 L2083.24 212.099 L2088.26 212.099 L2095.14 221.335 L2102.01 212.099 L2107.04 212.099 Z\" fill=\"#000000\" fill-rule=\"evenodd\" fill-opacity=\"1\" /><path clip-path=\"url(#clip780)\" d=\"M2113.38 202.006 L2117.66 202.006 L2117.66 223.279 L2130.37 212.099 L2135.81 212.099 L2122.06 224.228 L2136.39 238.025 L2130.83 238.025 L2117.66 225.363 L2117.66 238.025 L2113.38 238.025 L2113.38 202.006 Z\" fill=\"#000000\" fill-rule=\"evenodd\" fill-opacity=\"1\" /><path clip-path=\"url(#clip780)\" d=\"M2153.91 223.14 L2166.39 223.14 L2166.39 226.937 L2153.91 226.937 L2153.91 223.14 Z\" fill=\"#000000\" fill-rule=\"evenodd\" fill-opacity=\"1\" /><path clip-path=\"url(#clip780)\" d=\"M2209.79 212.099 L2200.41 224.715 L2210.28 238.025 L2205.25 238.025 L2197.71 227.84 L2190.16 238.025 L2185.14 238.025 L2195.21 224.46 L2185.99 212.099 L2191.02 212.099 L2197.89 221.335 L2204.77 212.099 L2209.79 212.099 Z\" fill=\"#000000\" fill-rule=\"evenodd\" fill-opacity=\"1\" /><path clip-path=\"url(#clip780)\" d=\"M2229.42 202.006 L2229.42 205.548 L2225.35 205.548 Q2223.05 205.548 2222.15 206.474 Q2221.27 207.4 2221.27 209.807 L2221.27 212.099 L2228.28 212.099 L2228.28 215.409 L2221.27 215.409 L2221.27 238.025 L2216.99 238.025 L2216.99 215.409 L2212.91 215.409 L2212.91 212.099 L2216.99 212.099 L2216.99 210.293 Q2216.99 205.965 2219 203.997 Q2221.02 202.006 2225.39 202.006 L2229.42 202.006 Z\" fill=\"#000000\" fill-rule=\"evenodd\" fill-opacity=\"1\" /><path clip-path=\"url(#clip780)\" d=\"M2238.47 201.798 L2238.47 249.205 L2234.53 249.205 L2234.53 201.798 L2238.47 201.798 Z\" fill=\"#000000\" fill-rule=\"evenodd\" fill-opacity=\"1\" /><path clip-path=\"url(#clip780)\" d=\"M2254.44 201.798 L2254.44 249.205 L2250.51 249.205 L2250.51 201.798 L2254.44 201.798 Z\" fill=\"#000000\" fill-rule=\"evenodd\" fill-opacity=\"1\" /></svg>\n"
      ]
     },
     "execution_count": 74,
     "metadata": {},
     "output_type": "execute_result"
    }
   ],
   "source": [
    "n2 = length(x_bfgs) - 1\n",
    "ydist2 = zeros(n2)\n",
    "xf = x_bfgs[end]\n",
    "for i = 1:n2\n",
    "    ydist2[i] = norm(x_bfgs[i] - xf)\n",
    "end\n",
    "ylin2 = zeros(n2-1)\n",
    "yquad2 = zeros(n2-1)\n",
    "for i = 1:(n2 -1)\n",
    "    ylin2[i] = ydist2[i+1] / ydist2[i]\n",
    "    yquad2[i]= ydist2[i+1] / (ydist2[i]^2)\n",
    "end\n",
    "xdist2=[1:n2;]\n",
    "xlin2=[1:n2-1;]\n",
    "p4=plot(xdist2, ydist2, title=\"Distance\", label=\"||xk - xf||\")\n",
    "p5=plot(xlin2, ylin2, title=\"Convergence linéaire\", label = \"||xk+1 - xf||/||xk - xf||\" )\n",
    "p6=plot(xlin2, yquad2, title=\"Convergence quadratique\", label = \"||xk+1 - xf||/||xk - xf||²\" )\n",
    "plot(p4)"
   ]
  },
  {
   "cell_type": "code",
   "execution_count": 75,
   "metadata": {},
   "outputs": [
    {
     "data": {
      "image/svg+xml": [
       "<?xml version=\"1.0\" encoding=\"utf-8\"?>\n",
       "<svg xmlns=\"http://www.w3.org/2000/svg\" xmlns:xlink=\"http://www.w3.org/1999/xlink\" width=\"600\" height=\"400\" viewBox=\"0 0 2400 1600\">\n",
       "<defs>\n",
       "  <clipPath id=\"clip820\">\n",
       "    <rect x=\"0\" y=\"0\" width=\"2400\" height=\"1600\"/>\n",
       "  </clipPath>\n",
       "</defs>\n",
       "<path clip-path=\"url(#clip820)\" d=\"\n",
       "M0 1600 L2400 1600 L2400 0 L0 0  Z\n",
       "  \" fill=\"#ffffff\" fill-rule=\"evenodd\" fill-opacity=\"1\"/>\n",
       "<defs>\n",
       "  <clipPath id=\"clip821\">\n",
       "    <rect x=\"480\" y=\"0\" width=\"1681\" height=\"1600\"/>\n",
       "  </clipPath>\n",
       "</defs>\n",
       "<path clip-path=\"url(#clip820)\" d=\"\n",
       "M156.598 1486.45 L2352.76 1486.45 L2352.76 123.472 L156.598 123.472  Z\n",
       "  \" fill=\"#ffffff\" fill-rule=\"evenodd\" fill-opacity=\"1\"/>\n",
       "<defs>\n",
       "  <clipPath id=\"clip822\">\n",
       "    <rect x=\"156\" y=\"123\" width=\"2197\" height=\"1364\"/>\n",
       "  </clipPath>\n",
       "</defs>\n",
       "<polyline clip-path=\"url(#clip822)\" style=\"stroke:#000000; stroke-linecap:round; stroke-linejoin:round; stroke-width:2; stroke-opacity:0.1; fill:none\" points=\"\n",
       "  495,1486.45 495,123.472 \n",
       "  \"/>\n",
       "<polyline clip-path=\"url(#clip822)\" style=\"stroke:#000000; stroke-linecap:round; stroke-linejoin:round; stroke-width:2; stroke-opacity:0.1; fill:none\" points=\"\n",
       "  909.369,1486.45 909.369,123.472 \n",
       "  \"/>\n",
       "<polyline clip-path=\"url(#clip822)\" style=\"stroke:#000000; stroke-linecap:round; stroke-linejoin:round; stroke-width:2; stroke-opacity:0.1; fill:none\" points=\"\n",
       "  1323.74,1486.45 1323.74,123.472 \n",
       "  \"/>\n",
       "<polyline clip-path=\"url(#clip822)\" style=\"stroke:#000000; stroke-linecap:round; stroke-linejoin:round; stroke-width:2; stroke-opacity:0.1; fill:none\" points=\"\n",
       "  1738.11,1486.45 1738.11,123.472 \n",
       "  \"/>\n",
       "<polyline clip-path=\"url(#clip822)\" style=\"stroke:#000000; stroke-linecap:round; stroke-linejoin:round; stroke-width:2; stroke-opacity:0.1; fill:none\" points=\"\n",
       "  2152.48,1486.45 2152.48,123.472 \n",
       "  \"/>\n",
       "<polyline clip-path=\"url(#clip820)\" style=\"stroke:#000000; stroke-linecap:round; stroke-linejoin:round; stroke-width:4; stroke-opacity:1; fill:none\" points=\"\n",
       "  156.598,1486.45 2352.76,1486.45 \n",
       "  \"/>\n",
       "<polyline clip-path=\"url(#clip820)\" style=\"stroke:#000000; stroke-linecap:round; stroke-linejoin:round; stroke-width:4; stroke-opacity:1; fill:none\" points=\"\n",
       "  495,1486.45 495,1467.55 \n",
       "  \"/>\n",
       "<polyline clip-path=\"url(#clip820)\" style=\"stroke:#000000; stroke-linecap:round; stroke-linejoin:round; stroke-width:4; stroke-opacity:1; fill:none\" points=\"\n",
       "  909.369,1486.45 909.369,1467.55 \n",
       "  \"/>\n",
       "<polyline clip-path=\"url(#clip820)\" style=\"stroke:#000000; stroke-linecap:round; stroke-linejoin:round; stroke-width:4; stroke-opacity:1; fill:none\" points=\"\n",
       "  1323.74,1486.45 1323.74,1467.55 \n",
       "  \"/>\n",
       "<polyline clip-path=\"url(#clip820)\" style=\"stroke:#000000; stroke-linecap:round; stroke-linejoin:round; stroke-width:4; stroke-opacity:1; fill:none\" points=\"\n",
       "  1738.11,1486.45 1738.11,1467.55 \n",
       "  \"/>\n",
       "<polyline clip-path=\"url(#clip820)\" style=\"stroke:#000000; stroke-linecap:round; stroke-linejoin:round; stroke-width:4; stroke-opacity:1; fill:none\" points=\"\n",
       "  2152.48,1486.45 2152.48,1467.55 \n",
       "  \"/>\n",
       "<path clip-path=\"url(#clip820)\" d=\"M499.248 1530.21 Q502.604 1530.93 504.479 1533.2 Q506.377 1535.47 506.377 1538.8 Q506.377 1543.92 502.859 1546.72 Q499.34 1549.52 492.859 1549.52 Q490.683 1549.52 488.368 1549.08 Q486.076 1548.66 483.623 1547.81 L483.623 1543.29 Q485.567 1544.43 487.882 1545.01 Q490.197 1545.58 492.72 1545.58 Q497.118 1545.58 499.41 1543.85 Q501.724 1542.11 501.724 1538.8 Q501.724 1535.75 499.572 1534.03 Q497.442 1532.3 493.623 1532.3 L489.595 1532.3 L489.595 1528.45 L493.808 1528.45 Q497.257 1528.45 499.086 1527.09 Q500.914 1525.7 500.914 1523.11 Q500.914 1520.45 499.016 1519.03 Q497.141 1517.6 493.623 1517.6 Q491.701 1517.6 489.502 1518.01 Q487.303 1518.43 484.664 1519.31 L484.664 1515.14 Q487.326 1514.4 489.641 1514.03 Q491.979 1513.66 494.039 1513.66 Q499.363 1513.66 502.465 1516.09 Q505.567 1518.5 505.567 1522.62 Q505.567 1525.49 503.923 1527.48 Q502.28 1529.45 499.248 1530.21 Z\" fill=\"#000000\" fill-rule=\"evenodd\" fill-opacity=\"1\" /><path clip-path=\"url(#clip820)\" d=\"M909.774 1529.7 Q906.626 1529.7 904.774 1531.86 Q902.946 1534.01 902.946 1537.76 Q902.946 1541.49 904.774 1543.66 Q906.626 1545.82 909.774 1545.82 Q912.922 1545.82 914.751 1543.66 Q916.603 1541.49 916.603 1537.76 Q916.603 1534.01 914.751 1531.86 Q912.922 1529.7 909.774 1529.7 M919.057 1515.05 L919.057 1519.31 Q917.297 1518.48 915.492 1518.04 Q913.71 1517.6 911.95 1517.6 Q907.321 1517.6 904.867 1520.72 Q902.436 1523.85 902.089 1530.17 Q903.455 1528.15 905.515 1527.09 Q907.575 1526 910.052 1526 Q915.26 1526 918.27 1529.17 Q921.302 1532.32 921.302 1537.76 Q921.302 1543.08 918.154 1546.3 Q915.006 1549.52 909.774 1549.52 Q903.779 1549.52 900.608 1544.94 Q897.436 1540.33 897.436 1531.6 Q897.436 1523.41 901.325 1518.55 Q905.214 1513.66 911.765 1513.66 Q913.524 1513.66 915.307 1514.01 Q917.112 1514.36 919.057 1515.05 Z\" fill=\"#000000\" fill-rule=\"evenodd\" fill-opacity=\"1\" /><path clip-path=\"url(#clip820)\" d=\"M1314.04 1548.13 L1314.04 1543.87 Q1315.8 1544.7 1317.6 1545.14 Q1319.41 1545.58 1321.15 1545.58 Q1325.78 1545.58 1328.21 1542.48 Q1330.66 1539.36 1331.01 1533.01 Q1329.66 1535.01 1327.6 1536.07 Q1325.54 1537.13 1323.04 1537.13 Q1317.86 1537.13 1314.83 1534.01 Q1311.82 1530.86 1311.82 1525.42 Q1311.82 1520.1 1314.97 1516.88 Q1318.11 1513.66 1323.35 1513.66 Q1329.34 1513.66 1332.49 1518.27 Q1335.66 1522.85 1335.66 1531.6 Q1335.66 1539.77 1331.77 1544.66 Q1327.91 1549.52 1321.35 1549.52 Q1319.6 1549.52 1317.79 1549.17 Q1315.98 1548.82 1314.04 1548.13 M1323.35 1533.48 Q1326.49 1533.48 1328.32 1531.32 Q1330.17 1529.17 1330.17 1525.42 Q1330.17 1521.7 1328.32 1519.54 Q1326.49 1517.37 1323.35 1517.37 Q1320.2 1517.37 1318.35 1519.54 Q1316.52 1521.7 1316.52 1525.42 Q1316.52 1529.17 1318.35 1531.32 Q1320.2 1533.48 1323.35 1533.48 Z\" fill=\"#000000\" fill-rule=\"evenodd\" fill-opacity=\"1\" /><path clip-path=\"url(#clip820)\" d=\"M1713.59 1544.91 L1721.23 1544.91 L1721.23 1518.55 L1712.92 1520.21 L1712.92 1515.95 L1721.19 1514.29 L1725.86 1514.29 L1725.86 1544.91 L1733.5 1544.91 L1733.5 1548.85 L1713.59 1548.85 L1713.59 1544.91 Z\" fill=\"#000000\" fill-rule=\"evenodd\" fill-opacity=\"1\" /><path clip-path=\"url(#clip820)\" d=\"M1746.97 1544.91 L1763.29 1544.91 L1763.29 1548.85 L1741.35 1548.85 L1741.35 1544.91 Q1744.01 1542.16 1748.59 1537.53 Q1753.2 1532.88 1754.38 1531.53 Q1756.63 1529.01 1757.51 1527.27 Q1758.41 1525.51 1758.41 1523.82 Q1758.41 1521.07 1756.46 1519.33 Q1754.54 1517.6 1751.44 1517.6 Q1749.24 1517.6 1746.79 1518.36 Q1744.36 1519.13 1741.58 1520.68 L1741.58 1515.95 Q1744.4 1514.82 1746.86 1514.24 Q1749.31 1513.66 1751.35 1513.66 Q1756.72 1513.66 1759.91 1516.35 Q1763.11 1519.03 1763.11 1523.52 Q1763.11 1525.65 1762.3 1527.57 Q1761.51 1529.47 1759.4 1532.07 Q1758.83 1532.74 1755.72 1535.95 Q1752.62 1539.15 1746.97 1544.91 Z\" fill=\"#000000\" fill-rule=\"evenodd\" fill-opacity=\"1\" /><path clip-path=\"url(#clip820)\" d=\"M2127.66 1544.91 L2135.3 1544.91 L2135.3 1518.55 L2126.99 1520.21 L2126.99 1515.95 L2135.26 1514.29 L2139.93 1514.29 L2139.93 1544.91 L2147.57 1544.91 L2147.57 1548.85 L2127.66 1548.85 L2127.66 1544.91 Z\" fill=\"#000000\" fill-rule=\"evenodd\" fill-opacity=\"1\" /><path clip-path=\"url(#clip820)\" d=\"M2157.06 1514.29 L2175.42 1514.29 L2175.42 1518.22 L2161.34 1518.22 L2161.34 1526.7 Q2162.36 1526.35 2163.38 1526.19 Q2164.4 1526 2165.42 1526 Q2171.2 1526 2174.58 1529.17 Q2177.96 1532.34 2177.96 1537.76 Q2177.96 1543.34 2174.49 1546.44 Q2171.02 1549.52 2164.7 1549.52 Q2162.52 1549.52 2160.26 1549.15 Q2158.01 1548.78 2155.6 1548.04 L2155.6 1543.34 Q2157.69 1544.47 2159.91 1545.03 Q2162.13 1545.58 2164.61 1545.58 Q2168.61 1545.58 2170.95 1543.48 Q2173.29 1541.37 2173.29 1537.76 Q2173.29 1534.15 2170.95 1532.04 Q2168.61 1529.94 2164.61 1529.94 Q2162.73 1529.94 2160.86 1530.35 Q2159.01 1530.77 2157.06 1531.65 L2157.06 1514.29 Z\" fill=\"#000000\" fill-rule=\"evenodd\" fill-opacity=\"1\" /><polyline clip-path=\"url(#clip822)\" style=\"stroke:#000000; stroke-linecap:round; stroke-linejoin:round; stroke-width:2; stroke-opacity:0.1; fill:none\" points=\"\n",
       "  156.598,1299.22 2352.76,1299.22 \n",
       "  \"/>\n",
       "<polyline clip-path=\"url(#clip822)\" style=\"stroke:#000000; stroke-linecap:round; stroke-linejoin:round; stroke-width:2; stroke-opacity:0.1; fill:none\" points=\"\n",
       "  156.598,1039.85 2352.76,1039.85 \n",
       "  \"/>\n",
       "<polyline clip-path=\"url(#clip822)\" style=\"stroke:#000000; stroke-linecap:round; stroke-linejoin:round; stroke-width:2; stroke-opacity:0.1; fill:none\" points=\"\n",
       "  156.598,780.475 2352.76,780.475 \n",
       "  \"/>\n",
       "<polyline clip-path=\"url(#clip822)\" style=\"stroke:#000000; stroke-linecap:round; stroke-linejoin:round; stroke-width:2; stroke-opacity:0.1; fill:none\" points=\"\n",
       "  156.598,521.101 2352.76,521.101 \n",
       "  \"/>\n",
       "<polyline clip-path=\"url(#clip822)\" style=\"stroke:#000000; stroke-linecap:round; stroke-linejoin:round; stroke-width:2; stroke-opacity:0.1; fill:none\" points=\"\n",
       "  156.598,261.727 2352.76,261.727 \n",
       "  \"/>\n",
       "<polyline clip-path=\"url(#clip820)\" style=\"stroke:#000000; stroke-linecap:round; stroke-linejoin:round; stroke-width:4; stroke-opacity:1; fill:none\" points=\"\n",
       "  156.598,1486.45 156.598,123.472 \n",
       "  \"/>\n",
       "<polyline clip-path=\"url(#clip820)\" style=\"stroke:#000000; stroke-linecap:round; stroke-linejoin:round; stroke-width:4; stroke-opacity:1; fill:none\" points=\"\n",
       "  156.598,1299.22 175.496,1299.22 \n",
       "  \"/>\n",
       "<polyline clip-path=\"url(#clip820)\" style=\"stroke:#000000; stroke-linecap:round; stroke-linejoin:round; stroke-width:4; stroke-opacity:1; fill:none\" points=\"\n",
       "  156.598,1039.85 175.496,1039.85 \n",
       "  \"/>\n",
       "<polyline clip-path=\"url(#clip820)\" style=\"stroke:#000000; stroke-linecap:round; stroke-linejoin:round; stroke-width:4; stroke-opacity:1; fill:none\" points=\"\n",
       "  156.598,780.475 175.496,780.475 \n",
       "  \"/>\n",
       "<polyline clip-path=\"url(#clip820)\" style=\"stroke:#000000; stroke-linecap:round; stroke-linejoin:round; stroke-width:4; stroke-opacity:1; fill:none\" points=\"\n",
       "  156.598,521.101 175.496,521.101 \n",
       "  \"/>\n",
       "<polyline clip-path=\"url(#clip820)\" style=\"stroke:#000000; stroke-linecap:round; stroke-linejoin:round; stroke-width:4; stroke-opacity:1; fill:none\" points=\"\n",
       "  156.598,261.727 175.496,261.727 \n",
       "  \"/>\n",
       "<path clip-path=\"url(#clip820)\" d=\"M65.0198 1285.02 Q61.4087 1285.02 59.58 1288.59 Q57.7745 1292.13 57.7745 1299.26 Q57.7745 1306.36 59.58 1309.93 Q61.4087 1313.47 65.0198 1313.47 Q68.6541 1313.47 70.4596 1309.93 Q72.2883 1306.36 72.2883 1299.26 Q72.2883 1292.13 70.4596 1288.59 Q68.6541 1285.02 65.0198 1285.02 M65.0198 1281.32 Q70.83 1281.32 73.8855 1285.92 Q76.9642 1290.51 76.9642 1299.26 Q76.9642 1307.98 73.8855 1312.59 Q70.83 1317.17 65.0198 1317.17 Q59.2097 1317.17 56.131 1312.59 Q53.0754 1307.98 53.0754 1299.26 Q53.0754 1290.51 56.131 1285.92 Q59.2097 1281.32 65.0198 1281.32 Z\" fill=\"#000000\" fill-rule=\"evenodd\" fill-opacity=\"1\" /><path clip-path=\"url(#clip820)\" d=\"M85.1818 1310.62 L90.066 1310.62 L90.066 1316.5 L85.1818 1316.5 L85.1818 1310.62 Z\" fill=\"#000000\" fill-rule=\"evenodd\" fill-opacity=\"1\" /><path clip-path=\"url(#clip820)\" d=\"M104.279 1312.57 L120.598 1312.57 L120.598 1316.5 L98.6539 1316.5 L98.6539 1312.57 Q101.316 1309.81 105.899 1305.18 Q110.506 1300.53 111.686 1299.19 Q113.932 1296.66 114.811 1294.93 Q115.714 1293.17 115.714 1291.48 Q115.714 1288.72 113.77 1286.99 Q111.848 1285.25 108.746 1285.25 Q106.547 1285.25 104.094 1286.02 Q101.663 1286.78 98.8854 1288.33 L98.8854 1283.61 Q101.709 1282.47 104.163 1281.9 Q106.617 1281.32 108.654 1281.32 Q114.024 1281.32 117.219 1284 Q120.413 1286.69 120.413 1291.18 Q120.413 1293.31 119.603 1295.23 Q118.816 1297.13 116.709 1299.72 Q116.131 1300.39 113.029 1303.61 Q109.927 1306.8 104.279 1312.57 Z\" fill=\"#000000\" fill-rule=\"evenodd\" fill-opacity=\"1\" /><path clip-path=\"url(#clip820)\" d=\"M62.9365 1025.65 Q59.3254 1025.65 57.4967 1029.21 Q55.6912 1032.75 55.6912 1039.88 Q55.6912 1046.99 57.4967 1050.55 Q59.3254 1054.1 62.9365 1054.1 Q66.5707 1054.1 68.3763 1050.55 Q70.205 1046.99 70.205 1039.88 Q70.205 1032.75 68.3763 1029.21 Q66.5707 1025.65 62.9365 1025.65 M62.9365 1021.94 Q68.7467 1021.94 71.8022 1026.55 Q74.8809 1031.13 74.8809 1039.88 Q74.8809 1048.61 71.8022 1053.22 Q68.7467 1057.8 62.9365 1057.8 Q57.1264 1057.8 54.0477 1053.22 Q50.9921 1048.61 50.9921 1039.88 Q50.9921 1031.13 54.0477 1026.55 Q57.1264 1021.94 62.9365 1021.94 Z\" fill=\"#000000\" fill-rule=\"evenodd\" fill-opacity=\"1\" /><path clip-path=\"url(#clip820)\" d=\"M83.0984 1051.25 L87.9827 1051.25 L87.9827 1057.13 L83.0984 1057.13 L83.0984 1051.25 Z\" fill=\"#000000\" fill-rule=\"evenodd\" fill-opacity=\"1\" /><path clip-path=\"url(#clip820)\" d=\"M111.015 1026.64 L99.2095 1045.09 L111.015 1045.09 L111.015 1026.64 M109.788 1022.57 L115.668 1022.57 L115.668 1045.09 L120.598 1045.09 L120.598 1048.98 L115.668 1048.98 L115.668 1057.13 L111.015 1057.13 L111.015 1048.98 L95.4132 1048.98 L95.4132 1044.47 L109.788 1022.57 Z\" fill=\"#000000\" fill-rule=\"evenodd\" fill-opacity=\"1\" /><path clip-path=\"url(#clip820)\" d=\"M63.2606 766.273 Q59.6495 766.273 57.8208 769.838 Q56.0152 773.38 56.0152 780.509 Q56.0152 787.616 57.8208 791.181 Q59.6495 794.722 63.2606 794.722 Q66.8948 794.722 68.7004 791.181 Q70.5291 787.616 70.5291 780.509 Q70.5291 773.38 68.7004 769.838 Q66.8948 766.273 63.2606 766.273 M63.2606 762.57 Q69.0707 762.57 72.1263 767.176 Q75.205 771.759 75.205 780.509 Q75.205 789.236 72.1263 793.843 Q69.0707 798.426 63.2606 798.426 Q57.4504 798.426 54.3717 793.843 Q51.3162 789.236 51.3162 780.509 Q51.3162 771.759 54.3717 767.176 Q57.4504 762.57 63.2606 762.57 Z\" fill=\"#000000\" fill-rule=\"evenodd\" fill-opacity=\"1\" /><path clip-path=\"url(#clip820)\" d=\"M83.4225 791.875 L88.3067 791.875 L88.3067 797.755 L83.4225 797.755 L83.4225 791.875 Z\" fill=\"#000000\" fill-rule=\"evenodd\" fill-opacity=\"1\" /><path clip-path=\"url(#clip820)\" d=\"M109.071 778.611 Q105.922 778.611 104.071 780.764 Q102.242 782.917 102.242 786.667 Q102.242 790.393 104.071 792.569 Q105.922 794.722 109.071 794.722 Q112.219 794.722 114.047 792.569 Q115.899 790.393 115.899 786.667 Q115.899 782.917 114.047 780.764 Q112.219 778.611 109.071 778.611 M118.353 763.958 L118.353 768.218 Q116.594 767.384 114.788 766.945 Q113.006 766.505 111.246 766.505 Q106.617 766.505 104.163 769.63 Q101.733 772.755 101.385 779.074 Q102.751 777.06 104.811 775.995 Q106.871 774.907 109.348 774.907 Q114.557 774.907 117.566 778.079 Q120.598 781.227 120.598 786.667 Q120.598 791.991 117.45 795.208 Q114.302 798.426 109.071 798.426 Q103.075 798.426 99.9039 793.843 Q96.7326 789.236 96.7326 780.509 Q96.7326 772.315 100.621 767.454 Q104.51 762.57 111.061 762.57 Q112.82 762.57 114.603 762.917 Q116.408 763.264 118.353 763.958 Z\" fill=\"#000000\" fill-rule=\"evenodd\" fill-opacity=\"1\" /><path clip-path=\"url(#clip820)\" d=\"M63.5152 506.899 Q59.9041 506.899 58.0754 510.464 Q56.2699 514.006 56.2699 521.135 Q56.2699 528.242 58.0754 531.807 Q59.9041 535.348 63.5152 535.348 Q67.1494 535.348 68.955 531.807 Q70.7837 528.242 70.7837 521.135 Q70.7837 514.006 68.955 510.464 Q67.1494 506.899 63.5152 506.899 M63.5152 503.196 Q69.3254 503.196 72.3809 507.802 Q75.4596 512.385 75.4596 521.135 Q75.4596 529.862 72.3809 534.469 Q69.3254 539.052 63.5152 539.052 Q57.7051 539.052 54.6264 534.469 Q51.5708 529.862 51.5708 521.135 Q51.5708 512.385 54.6264 507.802 Q57.7051 503.196 63.5152 503.196 Z\" fill=\"#000000\" fill-rule=\"evenodd\" fill-opacity=\"1\" /><path clip-path=\"url(#clip820)\" d=\"M83.6771 532.501 L88.5614 532.501 L88.5614 538.381 L83.6771 538.381 L83.6771 532.501 Z\" fill=\"#000000\" fill-rule=\"evenodd\" fill-opacity=\"1\" /><path clip-path=\"url(#clip820)\" d=\"M108.746 521.969 Q105.413 521.969 103.492 523.751 Q101.594 525.533 101.594 528.658 Q101.594 531.783 103.492 533.566 Q105.413 535.348 108.746 535.348 Q112.08 535.348 114.001 533.566 Q115.922 531.76 115.922 528.658 Q115.922 525.533 114.001 523.751 Q112.103 521.969 108.746 521.969 M104.071 519.978 Q101.061 519.237 99.3715 517.177 Q97.7048 515.117 97.7048 512.154 Q97.7048 508.01 100.645 505.603 Q103.608 503.196 108.746 503.196 Q113.908 503.196 116.848 505.603 Q119.788 508.01 119.788 512.154 Q119.788 515.117 118.098 517.177 Q116.432 519.237 113.445 519.978 Q116.825 520.765 118.7 523.057 Q120.598 525.348 120.598 528.658 Q120.598 533.682 117.52 536.367 Q114.464 539.052 108.746 539.052 Q103.029 539.052 99.9502 536.367 Q96.8947 533.682 96.8947 528.658 Q96.8947 525.348 98.7928 523.057 Q100.691 520.765 104.071 519.978 M102.358 512.594 Q102.358 515.279 104.024 516.784 Q105.714 518.288 108.746 518.288 Q111.756 518.288 113.445 516.784 Q115.158 515.279 115.158 512.594 Q115.158 509.909 113.445 508.404 Q111.756 506.899 108.746 506.899 Q105.714 506.899 104.024 508.404 Q102.358 509.909 102.358 512.594 Z\" fill=\"#000000\" fill-rule=\"evenodd\" fill-opacity=\"1\" /><path clip-path=\"url(#clip820)\" d=\"M54.2328 275.072 L61.8717 275.072 L61.8717 248.706 L53.5616 250.373 L53.5616 246.113 L61.8254 244.447 L66.5013 244.447 L66.5013 275.072 L74.1402 275.072 L74.1402 279.007 L54.2328 279.007 L54.2328 275.072 Z\" fill=\"#000000\" fill-rule=\"evenodd\" fill-opacity=\"1\" /><path clip-path=\"url(#clip820)\" d=\"M83.5845 273.127 L88.4688 273.127 L88.4688 279.007 L83.5845 279.007 L83.5845 273.127 Z\" fill=\"#000000\" fill-rule=\"evenodd\" fill-opacity=\"1\" /><path clip-path=\"url(#clip820)\" d=\"M108.654 247.525 Q105.043 247.525 103.214 251.09 Q101.409 254.632 101.409 261.761 Q101.409 268.868 103.214 272.433 Q105.043 275.974 108.654 275.974 Q112.288 275.974 114.094 272.433 Q115.922 268.868 115.922 261.761 Q115.922 254.632 114.094 251.09 Q112.288 247.525 108.654 247.525 M108.654 243.822 Q114.464 243.822 117.52 248.428 Q120.598 253.011 120.598 261.761 Q120.598 270.488 117.52 275.095 Q114.464 279.678 108.654 279.678 Q102.844 279.678 99.765 275.095 Q96.7095 270.488 96.7095 261.761 Q96.7095 253.011 99.765 248.428 Q102.844 243.822 108.654 243.822 Z\" fill=\"#000000\" fill-rule=\"evenodd\" fill-opacity=\"1\" /><path clip-path=\"url(#clip820)\" d=\"M867.836 16.7545 L867.836 25.383 Q863.704 21.5346 859.005 19.6307 Q854.346 17.7268 849.08 17.7268 Q838.71 17.7268 833.201 24.0867 Q827.692 30.4061 827.692 42.3968 Q827.692 54.3469 833.201 60.7069 Q838.71 67.0263 849.08 67.0263 Q854.346 67.0263 859.005 65.1223 Q863.704 63.2184 867.836 59.3701 L867.836 67.9175 Q863.542 70.8341 858.721 72.2924 Q853.941 73.7508 848.594 73.7508 Q834.862 73.7508 826.962 65.3654 Q819.063 56.9395 819.063 42.3968 Q819.063 27.8135 826.962 19.4281 Q834.862 11.0023 848.594 11.0023 Q854.022 11.0023 858.802 12.4606 Q863.623 13.8784 867.836 16.7545 Z\" fill=\"#000000\" fill-rule=\"evenodd\" fill-opacity=\"1\" /><path clip-path=\"url(#clip820)\" d=\"M897.732 32.4315 Q891.736 32.4315 888.253 37.1306 Q884.769 41.7891 884.769 49.9314 Q884.769 58.0738 888.212 62.7728 Q891.696 67.4314 897.732 67.4314 Q903.686 67.4314 907.17 62.7323 Q910.654 58.0333 910.654 49.9314 Q910.654 41.8701 907.17 37.1711 Q903.686 32.4315 897.732 32.4315 M897.732 26.1121 Q907.454 26.1121 913.004 32.4315 Q918.553 38.7509 918.553 49.9314 Q918.553 61.0714 913.004 67.4314 Q907.454 73.7508 897.732 73.7508 Q887.969 73.7508 882.419 67.4314 Q876.91 61.0714 876.91 49.9314 Q876.91 38.7509 882.419 32.4315 Q887.969 26.1121 897.732 26.1121 Z\" fill=\"#000000\" fill-rule=\"evenodd\" fill-opacity=\"1\" /><path clip-path=\"url(#clip820)\" d=\"M968.622 45.1919 L968.622 72.576 L961.169 72.576 L961.169 45.4349 Q961.169 38.994 958.657 35.7938 Q956.146 32.5936 951.123 32.5936 Q945.087 32.5936 941.603 36.4419 Q938.119 40.2903 938.119 46.9338 L938.119 72.576 L930.625 72.576 L930.625 27.2059 L938.119 27.2059 L938.119 34.2544 Q940.793 30.163 944.398 28.1376 Q948.044 26.1121 952.783 26.1121 Q960.602 26.1121 964.612 30.9732 Q968.622 35.7938 968.622 45.1919 Z\" fill=\"#000000\" fill-rule=\"evenodd\" fill-opacity=\"1\" /><path clip-path=\"url(#clip820)\" d=\"M978.142 27.2059 L986.041 27.2059 L1000.22 65.2844 L1014.4 27.2059 L1022.3 27.2059 L1005.28 72.576 L995.156 72.576 L978.142 27.2059 Z\" fill=\"#000000\" fill-rule=\"evenodd\" fill-opacity=\"1\" /><path clip-path=\"url(#clip820)\" d=\"M1071.39 48.0275 L1071.39 51.6733 L1037.12 51.6733 Q1037.61 59.3701 1041.74 63.421 Q1045.91 67.4314 1053.33 67.4314 Q1057.62 67.4314 1061.63 66.3781 Q1065.68 65.3249 1069.65 63.2184 L1069.65 70.267 Q1065.64 71.9684 1061.43 72.8596 Q1057.22 73.7508 1052.88 73.7508 Q1042.02 73.7508 1035.66 67.4314 Q1029.35 61.1119 1029.35 50.3365 Q1029.35 39.1965 1035.34 32.6746 Q1041.38 26.1121 1051.58 26.1121 Q1060.74 26.1121 1066.05 32.0264 Q1071.39 37.9003 1071.39 48.0275 M1063.94 45.84 Q1063.86 39.7232 1060.5 36.0774 Q1057.18 32.4315 1051.67 32.4315 Q1045.43 32.4315 1041.66 35.9558 Q1037.93 39.4801 1037.37 45.8805 L1063.94 45.84 Z\" fill=\"#000000\" fill-rule=\"evenodd\" fill-opacity=\"1\" /><path clip-path=\"url(#clip820)\" d=\"M1109.92 34.1734 Q1108.66 33.4443 1107.16 33.1202 Q1105.71 32.7556 1103.92 32.7556 Q1097.6 32.7556 1094.2 36.8875 Q1090.84 40.9789 1090.84 48.6757 L1090.84 72.576 L1083.34 72.576 L1083.34 27.2059 L1090.84 27.2059 L1090.84 34.2544 Q1093.19 30.1225 1096.96 28.1376 Q1100.72 26.1121 1106.11 26.1121 Q1106.88 26.1121 1107.81 26.2337 Q1108.74 26.3147 1109.88 26.5172 L1109.92 34.1734 Z\" fill=\"#000000\" fill-rule=\"evenodd\" fill-opacity=\"1\" /><path clip-path=\"url(#clip820)\" d=\"M1146.13 49.3643 Q1146.13 41.2625 1142.77 36.8065 Q1139.45 32.3505 1133.41 32.3505 Q1127.42 32.3505 1124.06 36.8065 Q1120.73 41.2625 1120.73 49.3643 Q1120.73 57.4256 1124.06 61.8816 Q1127.42 66.3376 1133.41 66.3376 Q1139.45 66.3376 1142.77 61.8816 Q1146.13 57.4256 1146.13 49.3643 M1153.59 66.9452 Q1153.59 78.5308 1148.44 84.1616 Q1143.3 89.8329 1132.68 89.8329 Q1128.75 89.8329 1125.27 89.2252 Q1121.79 88.6581 1118.51 87.4428 L1118.51 80.1917 Q1121.79 81.9741 1124.99 82.8248 Q1128.19 83.6755 1131.51 83.6755 Q1138.84 83.6755 1142.49 79.8271 Q1146.13 76.0193 1146.13 68.282 L1146.13 64.5957 Q1143.82 68.6061 1140.22 70.5911 Q1136.61 72.576 1131.59 72.576 Q1123.25 72.576 1118.14 66.2161 Q1113.04 59.8562 1113.04 49.3643 Q1113.04 38.832 1118.14 32.472 Q1123.25 26.1121 1131.59 26.1121 Q1136.61 26.1121 1140.22 28.0971 Q1143.82 30.082 1146.13 34.0924 L1146.13 27.2059 L1153.59 27.2059 L1153.59 66.9452 Z\" fill=\"#000000\" fill-rule=\"evenodd\" fill-opacity=\"1\" /><path clip-path=\"url(#clip820)\" d=\"M1207.75 48.0275 L1207.75 51.6733 L1173.48 51.6733 Q1173.96 59.3701 1178.09 63.421 Q1182.27 67.4314 1189.68 67.4314 Q1193.97 67.4314 1197.98 66.3781 Q1202.04 65.3249 1206.01 63.2184 L1206.01 70.267 Q1202 71.9684 1197.78 72.8596 Q1193.57 73.7508 1189.23 73.7508 Q1178.38 73.7508 1172.02 67.4314 Q1165.7 61.1119 1165.7 50.3365 Q1165.7 39.1965 1171.69 32.6746 Q1177.73 26.1121 1187.94 26.1121 Q1197.09 26.1121 1202.4 32.0264 Q1207.75 37.9003 1207.75 48.0275 M1200.29 45.84 Q1200.21 39.7232 1196.85 36.0774 Q1193.53 32.4315 1188.02 32.4315 Q1181.78 32.4315 1178.01 35.9558 Q1174.29 39.4801 1173.72 45.8805 L1200.29 45.84 Z\" fill=\"#000000\" fill-rule=\"evenodd\" fill-opacity=\"1\" /><path clip-path=\"url(#clip820)\" d=\"M1257.69 45.1919 L1257.69 72.576 L1250.24 72.576 L1250.24 45.4349 Q1250.24 38.994 1247.73 35.7938 Q1245.22 32.5936 1240.2 32.5936 Q1234.16 32.5936 1230.68 36.4419 Q1227.19 40.2903 1227.19 46.9338 L1227.19 72.576 L1219.7 72.576 L1219.7 27.2059 L1227.19 27.2059 L1227.19 34.2544 Q1229.87 30.163 1233.47 28.1376 Q1237.12 26.1121 1241.86 26.1121 Q1249.67 26.1121 1253.68 30.9732 Q1257.69 35.7938 1257.69 45.1919 Z\" fill=\"#000000\" fill-rule=\"evenodd\" fill-opacity=\"1\" /><path clip-path=\"url(#clip820)\" d=\"M1305.21 28.9478 L1305.21 35.9153 Q1302.05 34.1734 1298.85 33.3227 Q1295.69 32.4315 1292.45 32.4315 Q1285.2 32.4315 1281.19 37.0496 Q1277.18 41.6271 1277.18 49.9314 Q1277.18 58.2358 1281.19 62.8538 Q1285.2 67.4314 1292.45 67.4314 Q1295.69 67.4314 1298.85 66.5807 Q1302.05 65.6895 1305.21 63.9476 L1305.21 70.8341 Q1302.09 72.2924 1298.73 73.0216 Q1295.41 73.7508 1291.64 73.7508 Q1281.39 73.7508 1275.36 67.3098 Q1269.32 60.8689 1269.32 49.9314 Q1269.32 38.832 1275.4 32.472 Q1281.51 26.1121 1292.13 26.1121 Q1295.57 26.1121 1298.85 26.8413 Q1302.13 27.5299 1305.21 28.9478 Z\" fill=\"#000000\" fill-rule=\"evenodd\" fill-opacity=\"1\" /><path clip-path=\"url(#clip820)\" d=\"M1356.98 48.0275 L1356.98 51.6733 L1322.71 51.6733 Q1323.2 59.3701 1327.33 63.421 Q1331.5 67.4314 1338.92 67.4314 Q1343.21 67.4314 1347.22 66.3781 Q1351.27 65.3249 1355.24 63.2184 L1355.24 70.267 Q1351.23 71.9684 1347.02 72.8596 Q1342.8 73.7508 1338.47 73.7508 Q1327.61 73.7508 1321.25 67.4314 Q1314.93 61.1119 1314.93 50.3365 Q1314.93 39.1965 1320.93 32.6746 Q1326.97 26.1121 1337.17 26.1121 Q1346.33 26.1121 1351.64 32.0264 Q1356.98 37.9003 1356.98 48.0275 M1349.53 45.84 Q1349.45 39.7232 1346.09 36.0774 Q1342.76 32.4315 1337.25 32.4315 Q1331.02 32.4315 1327.25 35.9558 Q1323.52 39.4801 1322.96 45.8805 L1349.53 45.84 Z\" fill=\"#000000\" fill-rule=\"evenodd\" fill-opacity=\"1\" /><path clip-path=\"url(#clip820)\" d=\"M1395.59 9.54393 L1403.04 9.54393 L1403.04 72.576 L1395.59 72.576 L1395.59 9.54393 Z\" fill=\"#000000\" fill-rule=\"evenodd\" fill-opacity=\"1\" /><path clip-path=\"url(#clip820)\" d=\"M1418.64 27.2059 L1426.09 27.2059 L1426.09 72.576 L1418.64 72.576 L1418.64 27.2059 M1418.64 9.54393 L1426.09 9.54393 L1426.09 18.9825 L1418.64 18.9825 L1418.64 9.54393 Z\" fill=\"#000000\" fill-rule=\"evenodd\" fill-opacity=\"1\" /><path clip-path=\"url(#clip820)\" d=\"M1479.4 45.1919 L1479.4 72.576 L1471.95 72.576 L1471.95 45.4349 Q1471.95 38.994 1469.44 35.7938 Q1466.92 32.5936 1461.9 32.5936 Q1455.87 32.5936 1452.38 36.4419 Q1448.9 40.2903 1448.9 46.9338 L1448.9 72.576 L1441.4 72.576 L1441.4 27.2059 L1448.9 27.2059 L1448.9 34.2544 Q1451.57 30.163 1455.18 28.1376 Q1458.82 26.1121 1463.56 26.1121 Q1471.38 26.1121 1475.39 30.9732 Q1479.4 35.7938 1479.4 45.1919 Z\" fill=\"#000000\" fill-rule=\"evenodd\" fill-opacity=\"1\" /><path clip-path=\"url(#clip820)\" d=\"M1533.08 48.0275 L1533.08 51.6733 L1498.8 51.6733 Q1499.29 59.3701 1503.42 63.421 Q1507.6 67.4314 1515.01 67.4314 Q1519.3 67.4314 1523.31 66.3781 Q1527.36 65.3249 1531.33 63.2184 L1531.33 70.267 Q1527.32 71.9684 1523.11 72.8596 Q1518.9 73.7508 1514.56 73.7508 Q1503.71 73.7508 1497.35 67.4314 Q1491.03 61.1119 1491.03 50.3365 Q1491.03 39.1965 1497.02 32.6746 Q1503.06 26.1121 1513.27 26.1121 Q1522.42 26.1121 1527.73 32.0264 Q1533.08 37.9003 1533.08 48.0275 M1525.62 45.84 Q1525.54 39.7232 1522.18 36.0774 Q1518.86 32.4315 1513.35 32.4315 Q1507.11 32.4315 1503.34 35.9558 Q1499.61 39.4801 1499.05 45.8805 L1525.62 45.84 M1518.45 6.22219 L1526.51 6.22219 L1513.31 21.4536 L1507.11 21.4536 L1518.45 6.22219 Z\" fill=\"#000000\" fill-rule=\"evenodd\" fill-opacity=\"1\" /><path clip-path=\"url(#clip820)\" d=\"M1565.93 49.7694 Q1556.89 49.7694 1553.41 51.8354 Q1549.93 53.9013 1549.93 58.8839 Q1549.93 62.8538 1552.52 65.2034 Q1555.15 67.5124 1559.65 67.5124 Q1565.85 67.5124 1569.57 63.1374 Q1573.34 58.7219 1573.34 51.4303 L1573.34 49.7694 L1565.93 49.7694 M1580.8 46.6907 L1580.8 72.576 L1573.34 72.576 L1573.34 65.6895 Q1570.79 69.8214 1566.98 71.8063 Q1563.17 73.7508 1557.66 73.7508 Q1550.7 73.7508 1546.56 69.8619 Q1542.47 65.9325 1542.47 59.3701 Q1542.47 51.7138 1547.58 47.825 Q1552.72 43.9361 1562.89 43.9361 L1573.34 43.9361 L1573.34 43.2069 Q1573.34 38.0623 1569.94 35.2672 Q1566.58 32.4315 1560.46 32.4315 Q1556.57 32.4315 1552.88 33.3632 Q1549.2 34.295 1545.8 36.1584 L1545.8 29.2718 Q1549.89 27.692 1553.74 26.9223 Q1557.58 26.1121 1561.23 26.1121 Q1571.07 26.1121 1575.93 31.2163 Q1580.8 36.3204 1580.8 46.6907 Z\" fill=\"#000000\" fill-rule=\"evenodd\" fill-opacity=\"1\" /><path clip-path=\"url(#clip820)\" d=\"M1596.15 27.2059 L1603.6 27.2059 L1603.6 72.576 L1596.15 72.576 L1596.15 27.2059 M1596.15 9.54393 L1603.6 9.54393 L1603.6 18.9825 L1596.15 18.9825 L1596.15 9.54393 Z\" fill=\"#000000\" fill-rule=\"evenodd\" fill-opacity=\"1\" /><path clip-path=\"url(#clip820)\" d=\"M1645.49 34.1734 Q1644.23 33.4443 1642.73 33.1202 Q1641.28 32.7556 1639.49 32.7556 Q1633.17 32.7556 1629.77 36.8875 Q1626.41 40.9789 1626.41 48.6757 L1626.41 72.576 L1618.91 72.576 L1618.91 27.2059 L1626.41 27.2059 L1626.41 34.2544 Q1628.76 30.1225 1632.53 28.1376 Q1636.29 26.1121 1641.68 26.1121 Q1642.45 26.1121 1643.38 26.2337 Q1644.31 26.3147 1645.45 26.5172 L1645.49 34.1734 Z\" fill=\"#000000\" fill-rule=\"evenodd\" fill-opacity=\"1\" /><path clip-path=\"url(#clip820)\" d=\"M1690.29 48.0275 L1690.29 51.6733 L1656.02 51.6733 Q1656.51 59.3701 1660.64 63.421 Q1664.81 67.4314 1672.22 67.4314 Q1676.52 67.4314 1680.53 66.3781 Q1684.58 65.3249 1688.55 63.2184 L1688.55 70.267 Q1684.54 71.9684 1680.33 72.8596 Q1676.11 73.7508 1671.78 73.7508 Q1660.92 73.7508 1654.56 67.4314 Q1648.24 61.1119 1648.24 50.3365 Q1648.24 39.1965 1654.24 32.6746 Q1660.27 26.1121 1670.48 26.1121 Q1679.64 26.1121 1684.94 32.0264 Q1690.29 37.9003 1690.29 48.0275 M1682.84 45.84 Q1682.76 39.7232 1679.39 36.0774 Q1676.07 32.4315 1670.56 32.4315 Q1664.32 32.4315 1660.56 35.9558 Q1656.83 39.4801 1656.26 45.8805 L1682.84 45.84 Z\" fill=\"#000000\" fill-rule=\"evenodd\" fill-opacity=\"1\" /><polyline clip-path=\"url(#clip822)\" style=\"stroke:#009af9; stroke-linecap:round; stroke-linejoin:round; stroke-width:4; stroke-opacity:1; fill:none\" points=\"\n",
       "  218.754,923.154 356.877,1044.41 495,482.961 633.123,790.205 771.246,750.453 909.369,888.586 1047.49,1007.08 1185.62,1189.54 1323.74,941.835 1461.86,162.047 \n",
       "  1599.98,274.604 1738.11,586.841 1876.23,1003.5 2014.35,1333.9 2152.48,1409.98 2290.6,1447.87 \n",
       "  \"/>\n",
       "<path clip-path=\"url(#clip820)\" d=\"\n",
       "M1563.34 272.585 L2279.55 272.585 L2279.55 168.905 L1563.34 168.905  Z\n",
       "  \" fill=\"#ffffff\" fill-rule=\"evenodd\" fill-opacity=\"1\"/>\n",
       "<polyline clip-path=\"url(#clip820)\" style=\"stroke:#000000; stroke-linecap:round; stroke-linejoin:round; stroke-width:4; stroke-opacity:1; fill:none\" points=\"\n",
       "  1563.34,272.585 2279.55,272.585 2279.55,168.905 1563.34,168.905 1563.34,272.585 \n",
       "  \"/>\n",
       "<polyline clip-path=\"url(#clip820)\" style=\"stroke:#009af9; stroke-linecap:round; stroke-linejoin:round; stroke-width:4; stroke-opacity:1; fill:none\" points=\"\n",
       "  1587.74,220.745 1734.15,220.745 \n",
       "  \"/>\n",
       "<path clip-path=\"url(#clip820)\" d=\"M1762.49 201.798 L1762.49 249.205 L1758.55 249.205 L1758.55 201.798 L1762.49 201.798 Z\" fill=\"#000000\" fill-rule=\"evenodd\" fill-opacity=\"1\" /><path clip-path=\"url(#clip820)\" d=\"M1778.46 201.798 L1778.46 249.205 L1774.53 249.205 L1774.53 201.798 L1778.46 201.798 Z\" fill=\"#000000\" fill-rule=\"evenodd\" fill-opacity=\"1\" /><path clip-path=\"url(#clip820)\" d=\"M1810.5 212.099 L1801.12 224.715 L1810.98 238.025 L1805.96 238.025 L1798.42 227.84 L1790.87 238.025 L1785.85 238.025 L1795.92 224.46 L1786.7 212.099 L1791.73 212.099 L1798.6 221.335 L1805.48 212.099 L1810.5 212.099 Z\" fill=\"#000000\" fill-rule=\"evenodd\" fill-opacity=\"1\" /><path clip-path=\"url(#clip820)\" d=\"M1816.84 202.006 L1821.12 202.006 L1821.12 223.279 L1833.83 212.099 L1839.27 212.099 L1825.52 224.228 L1839.85 238.025 L1834.29 238.025 L1821.12 225.363 L1821.12 238.025 L1816.84 238.025 L1816.84 202.006 Z\" fill=\"#000000\" fill-rule=\"evenodd\" fill-opacity=\"1\" /><path clip-path=\"url(#clip820)\" d=\"M1861.79 208.303 L1861.79 221.196 L1874.69 221.196 L1874.69 225.131 L1861.79 225.131 L1861.79 238.025 L1857.91 238.025 L1857.91 225.131 L1845.01 225.131 L1845.01 221.196 L1857.91 221.196 L1857.91 208.303 L1861.79 208.303 Z\" fill=\"#000000\" fill-rule=\"evenodd\" fill-opacity=\"1\" /><path clip-path=\"url(#clip820)\" d=\"M1885.59 234.089 L1893.23 234.089 L1893.23 207.724 L1884.92 209.391 L1884.92 205.131 L1893.18 203.465 L1897.86 203.465 L1897.86 234.089 L1905.5 234.089 L1905.5 238.025 L1885.59 238.025 L1885.59 234.089 Z\" fill=\"#000000\" fill-rule=\"evenodd\" fill-opacity=\"1\" /><path clip-path=\"url(#clip820)\" d=\"M1927.26 223.14 L1939.73 223.14 L1939.73 226.937 L1927.26 226.937 L1927.26 223.14 Z\" fill=\"#000000\" fill-rule=\"evenodd\" fill-opacity=\"1\" /><path clip-path=\"url(#clip820)\" d=\"M1983.14 212.099 L1973.76 224.715 L1983.62 238.025 L1978.6 238.025 L1971.05 227.84 L1963.51 238.025 L1958.48 238.025 L1968.55 224.46 L1959.34 212.099 L1964.36 212.099 L1971.24 221.335 L1978.11 212.099 L1983.14 212.099 Z\" fill=\"#000000\" fill-rule=\"evenodd\" fill-opacity=\"1\" /><path clip-path=\"url(#clip820)\" d=\"M2002.77 202.006 L2002.77 205.548 L1998.69 205.548 Q1996.4 205.548 1995.5 206.474 Q1994.62 207.4 1994.62 209.807 L1994.62 212.099 L2001.63 212.099 L2001.63 215.409 L1994.62 215.409 L1994.62 238.025 L1990.34 238.025 L1990.34 215.409 L1986.26 215.409 L1986.26 212.099 L1990.34 212.099 L1990.34 210.293 Q1990.34 205.965 1992.35 203.997 Q1994.36 202.006 1998.74 202.006 L2002.77 202.006 Z\" fill=\"#000000\" fill-rule=\"evenodd\" fill-opacity=\"1\" /><path clip-path=\"url(#clip820)\" d=\"M2011.82 201.798 L2011.82 249.205 L2007.88 249.205 L2007.88 201.798 L2011.82 201.798 Z\" fill=\"#000000\" fill-rule=\"evenodd\" fill-opacity=\"1\" /><path clip-path=\"url(#clip820)\" d=\"M2027.79 201.798 L2027.79 249.205 L2023.85 249.205 L2023.85 201.798 L2027.79 201.798 Z\" fill=\"#000000\" fill-rule=\"evenodd\" fill-opacity=\"1\" /><path clip-path=\"url(#clip820)\" d=\"M2045.84 203.465 L2049.78 203.465 L2037.74 242.423 L2033.81 242.423 L2045.84 203.465 Z\" fill=\"#000000\" fill-rule=\"evenodd\" fill-opacity=\"1\" /><path clip-path=\"url(#clip820)\" d=\"M2059.73 201.798 L2059.73 249.205 L2055.8 249.205 L2055.8 201.798 L2059.73 201.798 Z\" fill=\"#000000\" fill-rule=\"evenodd\" fill-opacity=\"1\" /><path clip-path=\"url(#clip820)\" d=\"M2075.71 201.798 L2075.71 249.205 L2071.77 249.205 L2071.77 201.798 L2075.71 201.798 Z\" fill=\"#000000\" fill-rule=\"evenodd\" fill-opacity=\"1\" /><path clip-path=\"url(#clip820)\" d=\"M2107.74 212.099 L2098.37 224.715 L2108.23 238.025 L2103.21 238.025 L2095.66 227.84 L2088.11 238.025 L2083.09 238.025 L2093.16 224.46 L2083.95 212.099 L2088.97 212.099 L2095.84 221.335 L2102.72 212.099 L2107.74 212.099 Z\" fill=\"#000000\" fill-rule=\"evenodd\" fill-opacity=\"1\" /><path clip-path=\"url(#clip820)\" d=\"M2114.08 202.006 L2118.37 202.006 L2118.37 223.279 L2131.08 212.099 L2136.52 212.099 L2122.77 224.228 L2137.09 238.025 L2131.54 238.025 L2118.37 225.363 L2118.37 238.025 L2114.08 238.025 L2114.08 202.006 Z\" fill=\"#000000\" fill-rule=\"evenodd\" fill-opacity=\"1\" /><path clip-path=\"url(#clip820)\" d=\"M2154.62 223.14 L2167.09 223.14 L2167.09 226.937 L2154.62 226.937 L2154.62 223.14 Z\" fill=\"#000000\" fill-rule=\"evenodd\" fill-opacity=\"1\" /><path clip-path=\"url(#clip820)\" d=\"M2210.5 212.099 L2201.12 224.715 L2210.98 238.025 L2205.96 238.025 L2198.41 227.84 L2190.87 238.025 L2185.84 238.025 L2195.91 224.46 L2186.7 212.099 L2191.72 212.099 L2198.6 221.335 L2205.47 212.099 L2210.5 212.099 Z\" fill=\"#000000\" fill-rule=\"evenodd\" fill-opacity=\"1\" /><path clip-path=\"url(#clip820)\" d=\"M2230.13 202.006 L2230.13 205.548 L2226.05 205.548 Q2223.76 205.548 2222.86 206.474 Q2221.98 207.4 2221.98 209.807 L2221.98 212.099 L2228.99 212.099 L2228.99 215.409 L2221.98 215.409 L2221.98 238.025 L2217.7 238.025 L2217.7 215.409 L2213.62 215.409 L2213.62 212.099 L2217.7 212.099 L2217.7 210.293 Q2217.7 205.965 2219.71 203.997 Q2221.72 202.006 2226.1 202.006 L2230.13 202.006 Z\" fill=\"#000000\" fill-rule=\"evenodd\" fill-opacity=\"1\" /><path clip-path=\"url(#clip820)\" d=\"M2239.18 201.798 L2239.18 249.205 L2235.24 249.205 L2235.24 201.798 L2239.18 201.798 Z\" fill=\"#000000\" fill-rule=\"evenodd\" fill-opacity=\"1\" /><path clip-path=\"url(#clip820)\" d=\"M2255.15 201.798 L2255.15 249.205 L2251.21 249.205 L2251.21 201.798 L2255.15 201.798 Z\" fill=\"#000000\" fill-rule=\"evenodd\" fill-opacity=\"1\" /></svg>\n"
      ]
     },
     "execution_count": 75,
     "metadata": {},
     "output_type": "execute_result"
    }
   ],
   "source": [
    "plot(p5)"
   ]
  },
  {
   "cell_type": "code",
   "execution_count": 76,
   "metadata": {},
   "outputs": [
    {
     "data": {
      "image/svg+xml": [
       "<?xml version=\"1.0\" encoding=\"utf-8\"?>\n",
       "<svg xmlns=\"http://www.w3.org/2000/svg\" xmlns:xlink=\"http://www.w3.org/1999/xlink\" width=\"600\" height=\"400\" viewBox=\"0 0 2400 1600\">\n",
       "<defs>\n",
       "  <clipPath id=\"clip860\">\n",
       "    <rect x=\"0\" y=\"0\" width=\"2400\" height=\"1600\"/>\n",
       "  </clipPath>\n",
       "</defs>\n",
       "<path clip-path=\"url(#clip860)\" d=\"\n",
       "M0 1600 L2400 1600 L2400 0 L0 0  Z\n",
       "  \" fill=\"#ffffff\" fill-rule=\"evenodd\" fill-opacity=\"1\"/>\n",
       "<defs>\n",
       "  <clipPath id=\"clip861\">\n",
       "    <rect x=\"480\" y=\"0\" width=\"1681\" height=\"1600\"/>\n",
       "  </clipPath>\n",
       "</defs>\n",
       "<path clip-path=\"url(#clip860)\" d=\"\n",
       "M170.857 1486.45 L2352.76 1486.45 L2352.76 123.472 L170.857 123.472  Z\n",
       "  \" fill=\"#ffffff\" fill-rule=\"evenodd\" fill-opacity=\"1\"/>\n",
       "<defs>\n",
       "  <clipPath id=\"clip862\">\n",
       "    <rect x=\"170\" y=\"123\" width=\"2183\" height=\"1364\"/>\n",
       "  </clipPath>\n",
       "</defs>\n",
       "<polyline clip-path=\"url(#clip862)\" style=\"stroke:#000000; stroke-linecap:round; stroke-linejoin:round; stroke-width:2; stroke-opacity:0.1; fill:none\" points=\"\n",
       "  507.062,1486.45 507.062,123.472 \n",
       "  \"/>\n",
       "<polyline clip-path=\"url(#clip862)\" style=\"stroke:#000000; stroke-linecap:round; stroke-linejoin:round; stroke-width:2; stroke-opacity:0.1; fill:none\" points=\"\n",
       "  918.741,1486.45 918.741,123.472 \n",
       "  \"/>\n",
       "<polyline clip-path=\"url(#clip862)\" style=\"stroke:#000000; stroke-linecap:round; stroke-linejoin:round; stroke-width:2; stroke-opacity:0.1; fill:none\" points=\"\n",
       "  1330.42,1486.45 1330.42,123.472 \n",
       "  \"/>\n",
       "<polyline clip-path=\"url(#clip862)\" style=\"stroke:#000000; stroke-linecap:round; stroke-linejoin:round; stroke-width:2; stroke-opacity:0.1; fill:none\" points=\"\n",
       "  1742.1,1486.45 1742.1,123.472 \n",
       "  \"/>\n",
       "<polyline clip-path=\"url(#clip862)\" style=\"stroke:#000000; stroke-linecap:round; stroke-linejoin:round; stroke-width:2; stroke-opacity:0.1; fill:none\" points=\"\n",
       "  2153.78,1486.45 2153.78,123.472 \n",
       "  \"/>\n",
       "<polyline clip-path=\"url(#clip860)\" style=\"stroke:#000000; stroke-linecap:round; stroke-linejoin:round; stroke-width:4; stroke-opacity:1; fill:none\" points=\"\n",
       "  170.857,1486.45 2352.76,1486.45 \n",
       "  \"/>\n",
       "<polyline clip-path=\"url(#clip860)\" style=\"stroke:#000000; stroke-linecap:round; stroke-linejoin:round; stroke-width:4; stroke-opacity:1; fill:none\" points=\"\n",
       "  507.062,1486.45 507.062,1467.55 \n",
       "  \"/>\n",
       "<polyline clip-path=\"url(#clip860)\" style=\"stroke:#000000; stroke-linecap:round; stroke-linejoin:round; stroke-width:4; stroke-opacity:1; fill:none\" points=\"\n",
       "  918.741,1486.45 918.741,1467.55 \n",
       "  \"/>\n",
       "<polyline clip-path=\"url(#clip860)\" style=\"stroke:#000000; stroke-linecap:round; stroke-linejoin:round; stroke-width:4; stroke-opacity:1; fill:none\" points=\"\n",
       "  1330.42,1486.45 1330.42,1467.55 \n",
       "  \"/>\n",
       "<polyline clip-path=\"url(#clip860)\" style=\"stroke:#000000; stroke-linecap:round; stroke-linejoin:round; stroke-width:4; stroke-opacity:1; fill:none\" points=\"\n",
       "  1742.1,1486.45 1742.1,1467.55 \n",
       "  \"/>\n",
       "<polyline clip-path=\"url(#clip860)\" style=\"stroke:#000000; stroke-linecap:round; stroke-linejoin:round; stroke-width:4; stroke-opacity:1; fill:none\" points=\"\n",
       "  2153.78,1486.45 2153.78,1467.55 \n",
       "  \"/>\n",
       "<path clip-path=\"url(#clip860)\" d=\"M511.31 1530.21 Q514.666 1530.93 516.541 1533.2 Q518.439 1535.47 518.439 1538.8 Q518.439 1543.92 514.921 1546.72 Q511.402 1549.52 504.921 1549.52 Q502.745 1549.52 500.43 1549.08 Q498.138 1548.66 495.685 1547.81 L495.685 1543.29 Q497.629 1544.43 499.944 1545.01 Q502.259 1545.58 504.782 1545.58 Q509.18 1545.58 511.472 1543.85 Q513.786 1542.11 513.786 1538.8 Q513.786 1535.75 511.634 1534.03 Q509.504 1532.3 505.685 1532.3 L501.657 1532.3 L501.657 1528.45 L505.87 1528.45 Q509.319 1528.45 511.148 1527.09 Q512.976 1525.7 512.976 1523.11 Q512.976 1520.45 511.078 1519.03 Q509.203 1517.6 505.685 1517.6 Q503.763 1517.6 501.564 1518.01 Q499.365 1518.43 496.726 1519.31 L496.726 1515.14 Q499.388 1514.4 501.703 1514.03 Q504.041 1513.66 506.101 1513.66 Q511.425 1513.66 514.527 1516.09 Q517.629 1518.5 517.629 1522.62 Q517.629 1525.49 515.985 1527.48 Q514.342 1529.45 511.31 1530.21 Z\" fill=\"#000000\" fill-rule=\"evenodd\" fill-opacity=\"1\" /><path clip-path=\"url(#clip860)\" d=\"M919.146 1529.7 Q915.998 1529.7 914.146 1531.86 Q912.317 1534.01 912.317 1537.76 Q912.317 1541.49 914.146 1543.66 Q915.998 1545.82 919.146 1545.82 Q922.294 1545.82 924.123 1543.66 Q925.975 1541.49 925.975 1537.76 Q925.975 1534.01 924.123 1531.86 Q922.294 1529.7 919.146 1529.7 M928.428 1515.05 L928.428 1519.31 Q926.669 1518.48 924.864 1518.04 Q923.081 1517.6 921.322 1517.6 Q916.692 1517.6 914.239 1520.72 Q911.808 1523.85 911.461 1530.17 Q912.827 1528.15 914.887 1527.09 Q916.947 1526 919.424 1526 Q924.632 1526 927.641 1529.17 Q930.674 1532.32 930.674 1537.76 Q930.674 1543.08 927.526 1546.3 Q924.377 1549.52 919.146 1549.52 Q913.151 1549.52 909.979 1544.94 Q906.808 1540.33 906.808 1531.6 Q906.808 1523.41 910.697 1518.55 Q914.586 1513.66 921.137 1513.66 Q922.896 1513.66 924.678 1514.01 Q926.484 1514.36 928.428 1515.05 Z\" fill=\"#000000\" fill-rule=\"evenodd\" fill-opacity=\"1\" /><path clip-path=\"url(#clip860)\" d=\"M1320.72 1548.13 L1320.72 1543.87 Q1322.48 1544.7 1324.29 1545.14 Q1326.09 1545.58 1327.83 1545.58 Q1332.46 1545.58 1334.89 1542.48 Q1337.34 1539.36 1337.69 1533.01 Q1336.35 1535.01 1334.29 1536.07 Q1332.23 1537.13 1329.73 1537.13 Q1324.54 1537.13 1321.51 1534.01 Q1318.5 1530.86 1318.5 1525.42 Q1318.5 1520.1 1321.65 1516.88 Q1324.79 1513.66 1330.03 1513.66 Q1336.02 1513.66 1339.17 1518.27 Q1342.34 1522.85 1342.34 1531.6 Q1342.34 1539.77 1338.45 1544.66 Q1334.59 1549.52 1328.04 1549.52 Q1326.28 1549.52 1324.47 1549.17 Q1322.67 1548.82 1320.72 1548.13 M1330.03 1533.48 Q1333.17 1533.48 1335 1531.32 Q1336.85 1529.17 1336.85 1525.42 Q1336.85 1521.7 1335 1519.54 Q1333.17 1517.37 1330.03 1517.37 Q1326.88 1517.37 1325.03 1519.54 Q1323.2 1521.7 1323.2 1525.42 Q1323.2 1529.17 1325.03 1531.32 Q1326.88 1533.48 1330.03 1533.48 Z\" fill=\"#000000\" fill-rule=\"evenodd\" fill-opacity=\"1\" /><path clip-path=\"url(#clip860)\" d=\"M1717.59 1544.91 L1725.22 1544.91 L1725.22 1518.55 L1716.91 1520.21 L1716.91 1515.95 L1725.18 1514.29 L1729.85 1514.29 L1729.85 1544.91 L1737.49 1544.91 L1737.49 1548.85 L1717.59 1548.85 L1717.59 1544.91 Z\" fill=\"#000000\" fill-rule=\"evenodd\" fill-opacity=\"1\" /><path clip-path=\"url(#clip860)\" d=\"M1750.96 1544.91 L1767.28 1544.91 L1767.28 1548.85 L1745.34 1548.85 L1745.34 1544.91 Q1748 1542.16 1752.58 1537.53 Q1757.19 1532.88 1758.37 1531.53 Q1760.62 1529.01 1761.5 1527.27 Q1762.4 1525.51 1762.4 1523.82 Q1762.4 1521.07 1760.46 1519.33 Q1758.53 1517.6 1755.43 1517.6 Q1753.23 1517.6 1750.78 1518.36 Q1748.35 1519.13 1745.57 1520.68 L1745.57 1515.95 Q1748.4 1514.82 1750.85 1514.24 Q1753.3 1513.66 1755.34 1513.66 Q1760.71 1513.66 1763.9 1516.35 Q1767.1 1519.03 1767.1 1523.52 Q1767.1 1525.65 1766.29 1527.57 Q1765.5 1529.47 1763.39 1532.07 Q1762.82 1532.74 1759.71 1535.95 Q1756.61 1539.15 1750.96 1544.91 Z\" fill=\"#000000\" fill-rule=\"evenodd\" fill-opacity=\"1\" /><path clip-path=\"url(#clip860)\" d=\"M2128.96 1544.91 L2136.6 1544.91 L2136.6 1518.55 L2128.29 1520.21 L2128.29 1515.95 L2136.56 1514.29 L2141.23 1514.29 L2141.23 1544.91 L2148.87 1544.91 L2148.87 1548.85 L2128.96 1548.85 L2128.96 1544.91 Z\" fill=\"#000000\" fill-rule=\"evenodd\" fill-opacity=\"1\" /><path clip-path=\"url(#clip860)\" d=\"M2158.36 1514.29 L2176.72 1514.29 L2176.72 1518.22 L2162.64 1518.22 L2162.64 1526.7 Q2163.66 1526.35 2164.68 1526.19 Q2165.7 1526 2166.72 1526 Q2172.5 1526 2175.88 1529.17 Q2179.26 1532.34 2179.26 1537.76 Q2179.26 1543.34 2175.79 1546.44 Q2172.32 1549.52 2166 1549.52 Q2163.82 1549.52 2161.56 1549.15 Q2159.31 1548.78 2156.9 1548.04 L2156.9 1543.34 Q2158.99 1544.47 2161.21 1545.03 Q2163.43 1545.58 2165.91 1545.58 Q2169.91 1545.58 2172.25 1543.48 Q2174.59 1541.37 2174.59 1537.76 Q2174.59 1534.15 2172.25 1532.04 Q2169.91 1529.94 2165.91 1529.94 Q2164.03 1529.94 2162.16 1530.35 Q2160.31 1530.77 2158.36 1531.65 L2158.36 1514.29 Z\" fill=\"#000000\" fill-rule=\"evenodd\" fill-opacity=\"1\" /><polyline clip-path=\"url(#clip862)\" style=\"stroke:#000000; stroke-linecap:round; stroke-linejoin:round; stroke-width:2; stroke-opacity:0.1; fill:none\" points=\"\n",
       "  170.857,1447.96 2352.76,1447.96 \n",
       "  \"/>\n",
       "<polyline clip-path=\"url(#clip862)\" style=\"stroke:#000000; stroke-linecap:round; stroke-linejoin:round; stroke-width:2; stroke-opacity:0.1; fill:none\" points=\"\n",
       "  170.857,1036.05 2352.76,1036.05 \n",
       "  \"/>\n",
       "<polyline clip-path=\"url(#clip862)\" style=\"stroke:#000000; stroke-linecap:round; stroke-linejoin:round; stroke-width:2; stroke-opacity:0.1; fill:none\" points=\"\n",
       "  170.857,624.145 2352.76,624.145 \n",
       "  \"/>\n",
       "<polyline clip-path=\"url(#clip862)\" style=\"stroke:#000000; stroke-linecap:round; stroke-linejoin:round; stroke-width:2; stroke-opacity:0.1; fill:none\" points=\"\n",
       "  170.857,212.236 2352.76,212.236 \n",
       "  \"/>\n",
       "<polyline clip-path=\"url(#clip860)\" style=\"stroke:#000000; stroke-linecap:round; stroke-linejoin:round; stroke-width:4; stroke-opacity:1; fill:none\" points=\"\n",
       "  170.857,1486.45 170.857,123.472 \n",
       "  \"/>\n",
       "<polyline clip-path=\"url(#clip860)\" style=\"stroke:#000000; stroke-linecap:round; stroke-linejoin:round; stroke-width:4; stroke-opacity:1; fill:none\" points=\"\n",
       "  170.857,1447.96 189.755,1447.96 \n",
       "  \"/>\n",
       "<polyline clip-path=\"url(#clip860)\" style=\"stroke:#000000; stroke-linecap:round; stroke-linejoin:round; stroke-width:4; stroke-opacity:1; fill:none\" points=\"\n",
       "  170.857,1036.05 189.755,1036.05 \n",
       "  \"/>\n",
       "<polyline clip-path=\"url(#clip860)\" style=\"stroke:#000000; stroke-linecap:round; stroke-linejoin:round; stroke-width:4; stroke-opacity:1; fill:none\" points=\"\n",
       "  170.857,624.145 189.755,624.145 \n",
       "  \"/>\n",
       "<polyline clip-path=\"url(#clip860)\" style=\"stroke:#000000; stroke-linecap:round; stroke-linejoin:round; stroke-width:4; stroke-opacity:1; fill:none\" points=\"\n",
       "  170.857,212.236 189.755,212.236 \n",
       "  \"/>\n",
       "<path clip-path=\"url(#clip860)\" d=\"M122.913 1433.76 Q119.302 1433.76 117.473 1437.33 Q115.668 1440.87 115.668 1448 Q115.668 1455.1 117.473 1458.67 Q119.302 1462.21 122.913 1462.21 Q126.547 1462.21 128.353 1458.67 Q130.182 1455.1 130.182 1448 Q130.182 1440.87 128.353 1437.33 Q126.547 1433.76 122.913 1433.76 M122.913 1430.06 Q128.723 1430.06 131.779 1434.66 Q134.857 1439.25 134.857 1448 Q134.857 1456.72 131.779 1461.33 Q128.723 1465.91 122.913 1465.91 Q117.103 1465.91 114.024 1461.33 Q110.969 1456.72 110.969 1448 Q110.969 1439.25 114.024 1434.66 Q117.103 1430.06 122.913 1430.06 Z\" fill=\"#000000\" fill-rule=\"evenodd\" fill-opacity=\"1\" /><path clip-path=\"url(#clip860)\" d=\"M53.3995 1049.4 L61.0384 1049.4 L61.0384 1023.03 L52.7282 1024.7 L52.7282 1020.44 L60.9921 1018.77 L65.668 1018.77 L65.668 1049.4 L73.3068 1049.4 L73.3068 1053.33 L53.3995 1053.33 L53.3995 1049.4 Z\" fill=\"#000000\" fill-rule=\"evenodd\" fill-opacity=\"1\" /><path clip-path=\"url(#clip860)\" d=\"M92.7512 1021.85 Q89.1401 1021.85 87.3114 1025.42 Q85.5058 1028.96 85.5058 1036.09 Q85.5058 1043.19 87.3114 1046.76 Q89.1401 1050.3 92.7512 1050.3 Q96.3854 1050.3 98.1909 1046.76 Q100.02 1043.19 100.02 1036.09 Q100.02 1028.96 98.1909 1025.42 Q96.3854 1021.85 92.7512 1021.85 M92.7512 1018.15 Q98.5613 1018.15 101.617 1022.75 Q104.696 1027.34 104.696 1036.09 Q104.696 1044.81 101.617 1049.42 Q98.5613 1054 92.7512 1054 Q86.941 1054 83.8623 1049.42 Q80.8068 1044.81 80.8068 1036.09 Q80.8068 1027.34 83.8623 1022.75 Q86.941 1018.15 92.7512 1018.15 Z\" fill=\"#000000\" fill-rule=\"evenodd\" fill-opacity=\"1\" /><path clip-path=\"url(#clip860)\" d=\"M122.913 1021.85 Q119.302 1021.85 117.473 1025.42 Q115.668 1028.96 115.668 1036.09 Q115.668 1043.19 117.473 1046.76 Q119.302 1050.3 122.913 1050.3 Q126.547 1050.3 128.353 1046.76 Q130.182 1043.19 130.182 1036.09 Q130.182 1028.96 128.353 1025.42 Q126.547 1021.85 122.913 1021.85 M122.913 1018.15 Q128.723 1018.15 131.779 1022.75 Q134.857 1027.34 134.857 1036.09 Q134.857 1044.81 131.779 1049.42 Q128.723 1054 122.913 1054 Q117.103 1054 114.024 1049.42 Q110.969 1044.81 110.969 1036.09 Q110.969 1027.34 114.024 1022.75 Q117.103 1018.15 122.913 1018.15 Z\" fill=\"#000000\" fill-rule=\"evenodd\" fill-opacity=\"1\" /><path clip-path=\"url(#clip860)\" d=\"M56.6171 637.489 L72.9365 637.489 L72.9365 641.425 L50.9921 641.425 L50.9921 637.489 Q53.6541 634.735 58.2375 630.105 Q62.8439 625.452 64.0245 624.11 Q66.2698 621.587 67.1494 619.851 Q68.0522 618.091 68.0522 616.402 Q68.0522 613.647 66.1078 611.911 Q64.1865 610.175 61.0847 610.175 Q58.8856 610.175 56.4319 610.939 Q54.0014 611.702 51.2236 613.253 L51.2236 608.531 Q54.0477 607.397 56.5014 606.818 Q58.955 606.24 60.9921 606.24 Q66.3624 606.24 69.5568 608.925 Q72.7513 611.61 72.7513 616.101 Q72.7513 618.23 71.9411 620.152 Q71.1541 622.05 69.0476 624.642 Q68.4689 625.314 65.367 628.531 Q62.2652 631.726 56.6171 637.489 Z\" fill=\"#000000\" fill-rule=\"evenodd\" fill-opacity=\"1\" /><path clip-path=\"url(#clip860)\" d=\"M92.7512 609.943 Q89.1401 609.943 87.3114 613.508 Q85.5058 617.05 85.5058 624.179 Q85.5058 631.286 87.3114 634.851 Q89.1401 638.392 92.7512 638.392 Q96.3854 638.392 98.1909 634.851 Q100.02 631.286 100.02 624.179 Q100.02 617.05 98.1909 613.508 Q96.3854 609.943 92.7512 609.943 M92.7512 606.24 Q98.5613 606.24 101.617 610.846 Q104.696 615.429 104.696 624.179 Q104.696 632.906 101.617 637.513 Q98.5613 642.096 92.7512 642.096 Q86.941 642.096 83.8623 637.513 Q80.8068 632.906 80.8068 624.179 Q80.8068 615.429 83.8623 610.846 Q86.941 606.24 92.7512 606.24 Z\" fill=\"#000000\" fill-rule=\"evenodd\" fill-opacity=\"1\" /><path clip-path=\"url(#clip860)\" d=\"M122.913 609.943 Q119.302 609.943 117.473 613.508 Q115.668 617.05 115.668 624.179 Q115.668 631.286 117.473 634.851 Q119.302 638.392 122.913 638.392 Q126.547 638.392 128.353 634.851 Q130.182 631.286 130.182 624.179 Q130.182 617.05 128.353 613.508 Q126.547 609.943 122.913 609.943 M122.913 606.24 Q128.723 606.24 131.779 610.846 Q134.857 615.429 134.857 624.179 Q134.857 632.906 131.779 637.513 Q128.723 642.096 122.913 642.096 Q117.103 642.096 114.024 637.513 Q110.969 632.906 110.969 624.179 Q110.969 615.429 114.024 610.846 Q117.103 606.24 122.913 606.24 Z\" fill=\"#000000\" fill-rule=\"evenodd\" fill-opacity=\"1\" /><path clip-path=\"url(#clip860)\" d=\"M66.7559 210.882 Q70.1124 211.599 71.9874 213.868 Q73.8855 216.136 73.8855 219.47 Q73.8855 224.585 70.367 227.386 Q66.8485 230.187 60.3671 230.187 Q58.1912 230.187 55.8764 229.747 Q53.5847 229.331 51.131 228.474 L51.131 223.96 Q53.0754 225.095 55.3903 225.673 Q57.7051 226.252 60.2282 226.252 Q64.6263 226.252 66.918 224.516 Q69.2328 222.78 69.2328 219.47 Q69.2328 216.414 67.08 214.701 Q64.9504 212.965 61.131 212.965 L57.1032 212.965 L57.1032 209.123 L61.3161 209.123 Q64.7652 209.123 66.5939 207.757 Q68.4226 206.368 68.4226 203.775 Q68.4226 201.113 66.5245 199.701 Q64.6495 198.266 61.131 198.266 Q59.2097 198.266 57.0106 198.683 Q54.8115 199.099 52.1727 199.979 L52.1727 195.812 Q54.8347 195.072 57.1495 194.701 Q59.4875 194.331 61.5476 194.331 Q66.8717 194.331 69.9735 196.762 Q73.0753 199.169 73.0753 203.289 Q73.0753 206.16 71.4318 208.15 Q69.7883 210.118 66.7559 210.882 Z\" fill=\"#000000\" fill-rule=\"evenodd\" fill-opacity=\"1\" /><path clip-path=\"url(#clip860)\" d=\"M92.7512 198.035 Q89.1401 198.035 87.3114 201.599 Q85.5058 205.141 85.5058 212.271 Q85.5058 219.377 87.3114 222.942 Q89.1401 226.484 92.7512 226.484 Q96.3854 226.484 98.1909 222.942 Q100.02 219.377 100.02 212.271 Q100.02 205.141 98.1909 201.599 Q96.3854 198.035 92.7512 198.035 M92.7512 194.331 Q98.5613 194.331 101.617 198.937 Q104.696 203.521 104.696 212.271 Q104.696 220.998 101.617 225.604 Q98.5613 230.187 92.7512 230.187 Q86.941 230.187 83.8623 225.604 Q80.8068 220.998 80.8068 212.271 Q80.8068 203.521 83.8623 198.937 Q86.941 194.331 92.7512 194.331 Z\" fill=\"#000000\" fill-rule=\"evenodd\" fill-opacity=\"1\" /><path clip-path=\"url(#clip860)\" d=\"M122.913 198.035 Q119.302 198.035 117.473 201.599 Q115.668 205.141 115.668 212.271 Q115.668 219.377 117.473 222.942 Q119.302 226.484 122.913 226.484 Q126.547 226.484 128.353 222.942 Q130.182 219.377 130.182 212.271 Q130.182 205.141 128.353 201.599 Q126.547 198.035 122.913 198.035 M122.913 194.331 Q128.723 194.331 131.779 198.937 Q134.857 203.521 134.857 212.271 Q134.857 220.998 131.779 225.604 Q128.723 230.187 122.913 230.187 Q117.103 230.187 114.024 225.604 Q110.969 220.998 110.969 212.271 Q110.969 203.521 114.024 198.937 Q117.103 194.331 122.913 194.331 Z\" fill=\"#000000\" fill-rule=\"evenodd\" fill-opacity=\"1\" /><path clip-path=\"url(#clip860)\" d=\"M775.658 16.7545 L775.658 25.383 Q771.526 21.5346 766.827 19.6307 Q762.168 17.7268 756.902 17.7268 Q746.532 17.7268 741.022 24.0867 Q735.513 30.4061 735.513 42.3968 Q735.513 54.3469 741.022 60.7069 Q746.532 67.0263 756.902 67.0263 Q762.168 67.0263 766.827 65.1223 Q771.526 63.2184 775.658 59.3701 L775.658 67.9175 Q771.364 70.8341 766.543 72.2924 Q761.763 73.7508 756.416 73.7508 Q742.683 73.7508 734.784 65.3654 Q726.885 56.9395 726.885 42.3968 Q726.885 27.8135 734.784 19.4281 Q742.683 11.0023 756.416 11.0023 Q761.844 11.0023 766.624 12.4606 Q771.445 13.8784 775.658 16.7545 Z\" fill=\"#000000\" fill-rule=\"evenodd\" fill-opacity=\"1\" /><path clip-path=\"url(#clip860)\" d=\"M805.553 32.4315 Q799.558 32.4315 796.074 37.1306 Q792.59 41.7891 792.59 49.9314 Q792.59 58.0738 796.034 62.7728 Q799.517 67.4314 805.553 67.4314 Q811.508 67.4314 814.992 62.7323 Q818.476 58.0333 818.476 49.9314 Q818.476 41.8701 814.992 37.1711 Q811.508 32.4315 805.553 32.4315 M805.553 26.1121 Q815.275 26.1121 820.825 32.4315 Q826.375 38.7509 826.375 49.9314 Q826.375 61.0714 820.825 67.4314 Q815.275 73.7508 805.553 73.7508 Q795.791 73.7508 790.241 67.4314 Q784.732 61.0714 784.732 49.9314 Q784.732 38.7509 790.241 32.4315 Q795.791 26.1121 805.553 26.1121 Z\" fill=\"#000000\" fill-rule=\"evenodd\" fill-opacity=\"1\" /><path clip-path=\"url(#clip860)\" d=\"M876.444 45.1919 L876.444 72.576 L868.99 72.576 L868.99 45.4349 Q868.99 38.994 866.479 35.7938 Q863.967 32.5936 858.944 32.5936 Q852.908 32.5936 849.425 36.4419 Q845.941 40.2903 845.941 46.9338 L845.941 72.576 L838.447 72.576 L838.447 27.2059 L845.941 27.2059 L845.941 34.2544 Q848.614 30.163 852.22 28.1376 Q855.866 26.1121 860.605 26.1121 Q868.423 26.1121 872.434 30.9732 Q876.444 35.7938 876.444 45.1919 Z\" fill=\"#000000\" fill-rule=\"evenodd\" fill-opacity=\"1\" /><path clip-path=\"url(#clip860)\" d=\"M885.964 27.2059 L893.863 27.2059 L908.041 65.2844 L922.219 27.2059 L930.119 27.2059 L913.105 72.576 L902.978 72.576 L885.964 27.2059 Z\" fill=\"#000000\" fill-rule=\"evenodd\" fill-opacity=\"1\" /><path clip-path=\"url(#clip860)\" d=\"M979.216 48.0275 L979.216 51.6733 L944.945 51.6733 Q945.431 59.3701 949.563 63.421 Q953.735 67.4314 961.149 67.4314 Q965.443 67.4314 969.453 66.3781 Q973.504 65.3249 977.474 63.2184 L977.474 70.267 Q973.463 71.9684 969.25 72.8596 Q965.037 73.7508 960.703 73.7508 Q949.847 73.7508 943.487 67.4314 Q937.167 61.1119 937.167 50.3365 Q937.167 39.1965 943.163 32.6746 Q949.198 26.1121 959.407 26.1121 Q968.562 26.1121 973.868 32.0264 Q979.216 37.9003 979.216 48.0275 M971.762 45.84 Q971.681 39.7232 968.319 36.0774 Q964.997 32.4315 959.488 32.4315 Q953.249 32.4315 949.482 35.9558 Q945.755 39.4801 945.188 45.8805 L971.762 45.84 Z\" fill=\"#000000\" fill-rule=\"evenodd\" fill-opacity=\"1\" /><path clip-path=\"url(#clip860)\" d=\"M1017.74 34.1734 Q1016.48 33.4443 1014.99 33.1202 Q1013.53 32.7556 1011.74 32.7556 Q1005.42 32.7556 1002.02 36.8875 Q998.66 40.9789 998.66 48.6757 L998.66 72.576 L991.166 72.576 L991.166 27.2059 L998.66 27.2059 L998.66 34.2544 Q1001.01 30.1225 1004.78 28.1376 Q1008.54 26.1121 1013.93 26.1121 Q1014.7 26.1121 1015.63 26.2337 Q1016.56 26.3147 1017.7 26.5172 L1017.74 34.1734 Z\" fill=\"#000000\" fill-rule=\"evenodd\" fill-opacity=\"1\" /><path clip-path=\"url(#clip860)\" d=\"M1053.95 49.3643 Q1053.95 41.2625 1050.59 36.8065 Q1047.27 32.3505 1041.23 32.3505 Q1035.24 32.3505 1031.88 36.8065 Q1028.56 41.2625 1028.56 49.3643 Q1028.56 57.4256 1031.88 61.8816 Q1035.24 66.3376 1041.23 66.3376 Q1047.27 66.3376 1050.59 61.8816 Q1053.95 57.4256 1053.95 49.3643 M1061.41 66.9452 Q1061.41 78.5308 1056.26 84.1616 Q1051.12 89.8329 1040.51 89.8329 Q1036.58 89.8329 1033.09 89.2252 Q1029.61 88.6581 1026.33 87.4428 L1026.33 80.1917 Q1029.61 81.9741 1032.81 82.8248 Q1036.01 83.6755 1039.33 83.6755 Q1046.66 83.6755 1050.31 79.8271 Q1053.95 76.0193 1053.95 68.282 L1053.95 64.5957 Q1051.65 68.6061 1048.04 70.5911 Q1044.44 72.576 1039.41 72.576 Q1031.07 72.576 1025.96 66.2161 Q1020.86 59.8562 1020.86 49.3643 Q1020.86 38.832 1025.96 32.472 Q1031.07 26.1121 1039.41 26.1121 Q1044.44 26.1121 1048.04 28.0971 Q1051.65 30.082 1053.95 34.0924 L1053.95 27.2059 L1061.41 27.2059 L1061.41 66.9452 Z\" fill=\"#000000\" fill-rule=\"evenodd\" fill-opacity=\"1\" /><path clip-path=\"url(#clip860)\" d=\"M1115.57 48.0275 L1115.57 51.6733 L1081.3 51.6733 Q1081.78 59.3701 1085.92 63.421 Q1090.09 67.4314 1097.5 67.4314 Q1101.8 67.4314 1105.81 66.3781 Q1109.86 65.3249 1113.83 63.2184 L1113.83 70.267 Q1109.82 71.9684 1105.6 72.8596 Q1101.39 73.7508 1097.06 73.7508 Q1086.2 73.7508 1079.84 67.4314 Q1073.52 61.1119 1073.52 50.3365 Q1073.52 39.1965 1079.52 32.6746 Q1085.55 26.1121 1095.76 26.1121 Q1104.92 26.1121 1110.22 32.0264 Q1115.57 37.9003 1115.57 48.0275 M1108.12 45.84 Q1108.03 39.7232 1104.67 36.0774 Q1101.35 32.4315 1095.84 32.4315 Q1089.6 32.4315 1085.84 35.9558 Q1082.11 39.4801 1081.54 45.8805 L1108.12 45.84 Z\" fill=\"#000000\" fill-rule=\"evenodd\" fill-opacity=\"1\" /><path clip-path=\"url(#clip860)\" d=\"M1165.52 45.1919 L1165.52 72.576 L1158.06 72.576 L1158.06 45.4349 Q1158.06 38.994 1155.55 35.7938 Q1153.04 32.5936 1148.02 32.5936 Q1141.98 32.5936 1138.5 36.4419 Q1135.01 40.2903 1135.01 46.9338 L1135.01 72.576 L1127.52 72.576 L1127.52 27.2059 L1135.01 27.2059 L1135.01 34.2544 Q1137.69 30.163 1141.29 28.1376 Q1144.94 26.1121 1149.68 26.1121 Q1157.5 26.1121 1161.51 30.9732 Q1165.52 35.7938 1165.52 45.1919 Z\" fill=\"#000000\" fill-rule=\"evenodd\" fill-opacity=\"1\" /><path clip-path=\"url(#clip860)\" d=\"M1213.03 28.9478 L1213.03 35.9153 Q1209.87 34.1734 1206.67 33.3227 Q1203.51 32.4315 1200.27 32.4315 Q1193.02 32.4315 1189.01 37.0496 Q1185 41.6271 1185 49.9314 Q1185 58.2358 1189.01 62.8538 Q1193.02 67.4314 1200.27 67.4314 Q1203.51 67.4314 1206.67 66.5807 Q1209.87 65.6895 1213.03 63.9476 L1213.03 70.8341 Q1209.91 72.2924 1206.55 73.0216 Q1203.23 73.7508 1199.46 73.7508 Q1189.21 73.7508 1183.18 67.3098 Q1177.14 60.8689 1177.14 49.9314 Q1177.14 38.832 1183.22 32.472 Q1189.34 26.1121 1199.95 26.1121 Q1203.39 26.1121 1206.67 26.8413 Q1209.96 27.5299 1213.03 28.9478 Z\" fill=\"#000000\" fill-rule=\"evenodd\" fill-opacity=\"1\" /><path clip-path=\"url(#clip860)\" d=\"M1264.8 48.0275 L1264.8 51.6733 L1230.53 51.6733 Q1231.02 59.3701 1235.15 63.421 Q1239.32 67.4314 1246.74 67.4314 Q1251.03 67.4314 1255.04 66.3781 Q1259.09 65.3249 1263.06 63.2184 L1263.06 70.267 Q1259.05 71.9684 1254.84 72.8596 Q1250.63 73.7508 1246.29 73.7508 Q1235.44 73.7508 1229.08 67.4314 Q1222.76 61.1119 1222.76 50.3365 Q1222.76 39.1965 1228.75 32.6746 Q1234.79 26.1121 1245 26.1121 Q1254.15 26.1121 1259.46 32.0264 Q1264.8 37.9003 1264.8 48.0275 M1257.35 45.84 Q1257.27 39.7232 1253.91 36.0774 Q1250.59 32.4315 1245.08 32.4315 Q1238.84 32.4315 1235.07 35.9558 Q1231.34 39.4801 1230.78 45.8805 L1257.35 45.84 Z\" fill=\"#000000\" fill-rule=\"evenodd\" fill-opacity=\"1\" /><path clip-path=\"url(#clip860)\" d=\"M1307.87 49.9314 Q1307.87 58.1548 1311.23 62.8538 Q1314.63 67.5124 1320.54 67.5124 Q1326.46 67.5124 1329.86 62.8538 Q1333.26 58.1548 1333.26 49.9314 Q1333.26 41.7081 1329.86 37.0496 Q1326.46 32.3505 1320.54 32.3505 Q1314.63 32.3505 1311.23 37.0496 Q1307.87 41.7081 1307.87 49.9314 M1333.26 65.7705 Q1330.92 69.8214 1327.31 71.8063 Q1323.74 73.7508 1318.72 73.7508 Q1310.5 73.7508 1305.31 67.1883 Q1300.17 60.6258 1300.17 49.9314 Q1300.17 39.2371 1305.31 32.6746 Q1310.5 26.1121 1318.72 26.1121 Q1323.74 26.1121 1327.31 28.0971 Q1330.92 30.0415 1333.26 34.0924 L1333.26 27.2059 L1340.72 27.2059 L1340.72 89.8329 L1333.26 89.8329 L1333.26 65.7705 Z\" fill=\"#000000\" fill-rule=\"evenodd\" fill-opacity=\"1\" /><path clip-path=\"url(#clip860)\" d=\"M1355.3 54.671 L1355.3 27.2059 L1362.76 27.2059 L1362.76 54.3874 Q1362.76 60.8284 1365.27 64.0691 Q1367.78 67.2693 1372.8 67.2693 Q1378.84 67.2693 1382.32 63.421 Q1385.85 59.5726 1385.85 52.9291 L1385.85 27.2059 L1393.3 27.2059 L1393.3 72.576 L1385.85 72.576 L1385.85 65.6084 Q1383.13 69.7404 1379.53 71.7658 Q1375.96 73.7508 1371.22 73.7508 Q1363.4 73.7508 1359.35 68.8897 Q1355.3 64.0286 1355.3 54.671 M1374.06 26.1121 L1374.06 26.1121 Z\" fill=\"#000000\" fill-rule=\"evenodd\" fill-opacity=\"1\" /><path clip-path=\"url(#clip860)\" d=\"M1429.27 49.7694 Q1420.24 49.7694 1416.75 51.8354 Q1413.27 53.9013 1413.27 58.8839 Q1413.27 62.8538 1415.86 65.2034 Q1418.5 67.5124 1422.99 67.5124 Q1429.19 67.5124 1432.92 63.1374 Q1436.68 58.7219 1436.68 51.4303 L1436.68 49.7694 L1429.27 49.7694 M1444.14 46.6907 L1444.14 72.576 L1436.68 72.576 L1436.68 65.6895 Q1434.13 69.8214 1430.32 71.8063 Q1426.52 73.7508 1421.01 73.7508 Q1414.04 73.7508 1409.91 69.8619 Q1405.82 65.9325 1405.82 59.3701 Q1405.82 51.7138 1410.92 47.825 Q1416.07 43.9361 1426.23 43.9361 L1436.68 43.9361 L1436.68 43.2069 Q1436.68 38.0623 1433.28 35.2672 Q1429.92 32.4315 1423.8 32.4315 Q1419.91 32.4315 1416.23 33.3632 Q1412.54 34.295 1409.14 36.1584 L1409.14 29.2718 Q1413.23 27.692 1417.08 26.9223 Q1420.93 26.1121 1424.57 26.1121 Q1434.42 26.1121 1439.28 31.2163 Q1444.14 36.3204 1444.14 46.6907 Z\" fill=\"#000000\" fill-rule=\"evenodd\" fill-opacity=\"1\" /><path clip-path=\"url(#clip860)\" d=\"M1489.35 34.0924 L1489.35 9.54393 L1496.8 9.54393 L1496.8 72.576 L1489.35 72.576 L1489.35 65.7705 Q1487 69.8214 1483.39 71.8063 Q1479.83 73.7508 1474.8 73.7508 Q1466.58 73.7508 1461.39 67.1883 Q1456.25 60.6258 1456.25 49.9314 Q1456.25 39.2371 1461.39 32.6746 Q1466.58 26.1121 1474.8 26.1121 Q1479.83 26.1121 1483.39 28.0971 Q1487 30.0415 1489.35 34.0924 M1463.95 49.9314 Q1463.95 58.1548 1467.31 62.8538 Q1470.71 67.5124 1476.63 67.5124 Q1482.54 67.5124 1485.94 62.8538 Q1489.35 58.1548 1489.35 49.9314 Q1489.35 41.7081 1485.94 37.0496 Q1482.54 32.3505 1476.63 32.3505 Q1470.71 32.3505 1467.31 37.0496 Q1463.95 41.7081 1463.95 49.9314 Z\" fill=\"#000000\" fill-rule=\"evenodd\" fill-opacity=\"1\" /><path clip-path=\"url(#clip860)\" d=\"M1538.44 34.1734 Q1537.19 33.4443 1535.69 33.1202 Q1534.23 32.7556 1532.45 32.7556 Q1526.13 32.7556 1522.73 36.8875 Q1519.36 40.9789 1519.36 48.6757 L1519.36 72.576 L1511.87 72.576 L1511.87 27.2059 L1519.36 27.2059 L1519.36 34.2544 Q1521.71 30.1225 1525.48 28.1376 Q1529.25 26.1121 1534.64 26.1121 Q1535.4 26.1121 1536.34 26.2337 Q1537.27 26.3147 1538.4 26.5172 L1538.44 34.1734 Z\" fill=\"#000000\" fill-rule=\"evenodd\" fill-opacity=\"1\" /><path clip-path=\"url(#clip860)\" d=\"M1566.88 49.7694 Q1557.85 49.7694 1554.36 51.8354 Q1550.88 53.9013 1550.88 58.8839 Q1550.88 62.8538 1553.47 65.2034 Q1556.1 67.5124 1560.6 67.5124 Q1566.8 67.5124 1570.53 63.1374 Q1574.29 58.7219 1574.29 51.4303 L1574.29 49.7694 L1566.88 49.7694 M1581.75 46.6907 L1581.75 72.576 L1574.29 72.576 L1574.29 65.6895 Q1571.74 69.8214 1567.93 71.8063 Q1564.13 73.7508 1558.62 73.7508 Q1551.65 73.7508 1547.52 69.8619 Q1543.43 65.9325 1543.43 59.3701 Q1543.43 51.7138 1548.53 47.825 Q1553.67 43.9361 1563.84 43.9361 L1574.29 43.9361 L1574.29 43.2069 Q1574.29 38.0623 1570.89 35.2672 Q1567.53 32.4315 1561.41 32.4315 Q1557.52 32.4315 1553.84 33.3632 Q1550.15 34.295 1546.75 36.1584 L1546.75 29.2718 Q1550.84 27.692 1554.69 26.9223 Q1558.54 26.1121 1562.18 26.1121 Q1572.02 26.1121 1576.89 31.2163 Q1581.75 36.3204 1581.75 46.6907 Z\" fill=\"#000000\" fill-rule=\"evenodd\" fill-opacity=\"1\" /><path clip-path=\"url(#clip860)\" d=\"M1604.47 14.324 L1604.47 27.2059 L1619.83 27.2059 L1619.83 32.9987 L1604.47 32.9987 L1604.47 57.6282 Q1604.47 63.1779 1605.97 64.7578 Q1607.51 66.3376 1612.17 66.3376 L1619.83 66.3376 L1619.83 72.576 L1612.17 72.576 Q1603.54 72.576 1600.26 69.3758 Q1596.98 66.1351 1596.98 57.6282 L1596.98 32.9987 L1591.51 32.9987 L1591.51 27.2059 L1596.98 27.2059 L1596.98 14.324 L1604.47 14.324 Z\" fill=\"#000000\" fill-rule=\"evenodd\" fill-opacity=\"1\" /><path clip-path=\"url(#clip860)\" d=\"M1629.63 27.2059 L1637.08 27.2059 L1637.08 72.576 L1629.63 72.576 L1629.63 27.2059 M1629.63 9.54393 L1637.08 9.54393 L1637.08 18.9825 L1629.63 18.9825 L1629.63 9.54393 Z\" fill=\"#000000\" fill-rule=\"evenodd\" fill-opacity=\"1\" /><path clip-path=\"url(#clip860)\" d=\"M1657.13 49.9314 Q1657.13 58.1548 1660.5 62.8538 Q1663.9 67.5124 1669.81 67.5124 Q1675.73 67.5124 1679.13 62.8538 Q1682.53 58.1548 1682.53 49.9314 Q1682.53 41.7081 1679.13 37.0496 Q1675.73 32.3505 1669.81 32.3505 Q1663.9 32.3505 1660.5 37.0496 Q1657.13 41.7081 1657.13 49.9314 M1682.53 65.7705 Q1680.18 69.8214 1676.58 71.8063 Q1673.01 73.7508 1667.99 73.7508 Q1659.77 73.7508 1654.58 67.1883 Q1649.44 60.6258 1649.44 49.9314 Q1649.44 39.2371 1654.58 32.6746 Q1659.77 26.1121 1667.99 26.1121 Q1673.01 26.1121 1676.58 28.0971 Q1680.18 30.0415 1682.53 34.0924 L1682.53 27.2059 L1689.99 27.2059 L1689.99 89.8329 L1682.53 89.8329 L1682.53 65.7705 Z\" fill=\"#000000\" fill-rule=\"evenodd\" fill-opacity=\"1\" /><path clip-path=\"url(#clip860)\" d=\"M1704.57 54.671 L1704.57 27.2059 L1712.02 27.2059 L1712.02 54.3874 Q1712.02 60.8284 1714.54 64.0691 Q1717.05 67.2693 1722.07 67.2693 Q1728.11 67.2693 1731.59 63.421 Q1735.11 59.5726 1735.11 52.9291 L1735.11 27.2059 L1742.57 27.2059 L1742.57 72.576 L1735.11 72.576 L1735.11 65.6084 Q1732.4 69.7404 1728.79 71.7658 Q1725.23 73.7508 1720.49 73.7508 Q1712.67 73.7508 1708.62 68.8897 Q1704.57 64.0286 1704.57 54.671 M1723.33 26.1121 L1723.33 26.1121 Z\" fill=\"#000000\" fill-rule=\"evenodd\" fill-opacity=\"1\" /><path clip-path=\"url(#clip860)\" d=\"M1796.73 48.0275 L1796.73 51.6733 L1762.46 51.6733 Q1762.94 59.3701 1767.08 63.421 Q1771.25 67.4314 1778.66 67.4314 Q1782.96 67.4314 1786.97 66.3781 Q1791.02 65.3249 1794.99 63.2184 L1794.99 70.267 Q1790.98 71.9684 1786.76 72.8596 Q1782.55 73.7508 1778.22 73.7508 Q1767.36 73.7508 1761 67.4314 Q1754.68 61.1119 1754.68 50.3365 Q1754.68 39.1965 1760.68 32.6746 Q1766.71 26.1121 1776.92 26.1121 Q1786.07 26.1121 1791.38 32.0264 Q1796.73 37.9003 1796.73 48.0275 M1789.27 45.84 Q1789.19 39.7232 1785.83 36.0774 Q1782.51 32.4315 1777 32.4315 Q1770.76 32.4315 1766.99 35.9558 Q1763.27 39.4801 1762.7 45.8805 L1789.27 45.84 Z\" fill=\"#000000\" fill-rule=\"evenodd\" fill-opacity=\"1\" /><polyline clip-path=\"url(#clip862)\" style=\"stroke:#009af9; stroke-linecap:round; stroke-linejoin:round; stroke-width:4; stroke-opacity:1; fill:none\" points=\"\n",
       "  232.609,1447.87 369.836,1447.82 507.062,1447.19 644.288,1447.3 781.515,1446.78 918.741,1446.39 1055.97,1445.46 1193.19,1444.02 1330.42,1424.83 1467.65,1337.84 \n",
       "  1604.87,1353.94 1742.1,1376.09 1879.33,1393.17 2016.55,1396.15 2153.78,1250.17 2291,162.047 \n",
       "  \"/>\n",
       "<path clip-path=\"url(#clip860)\" d=\"\n",
       "M243.587 272.585 L980.409 272.585 L980.409 168.905 L243.587 168.905  Z\n",
       "  \" fill=\"#ffffff\" fill-rule=\"evenodd\" fill-opacity=\"1\"/>\n",
       "<polyline clip-path=\"url(#clip860)\" style=\"stroke:#000000; stroke-linecap:round; stroke-linejoin:round; stroke-width:4; stroke-opacity:1; fill:none\" points=\"\n",
       "  243.587,272.585 980.409,272.585 980.409,168.905 243.587,168.905 243.587,272.585 \n",
       "  \"/>\n",
       "<polyline clip-path=\"url(#clip860)\" style=\"stroke:#009af9; stroke-linecap:round; stroke-linejoin:round; stroke-width:4; stroke-opacity:1; fill:none\" points=\"\n",
       "  267.831,220.745 413.291,220.745 \n",
       "  \"/>\n",
       "<path clip-path=\"url(#clip860)\" d=\"M441.469 201.798 L441.469 249.205 L437.534 249.205 L437.534 201.798 L441.469 201.798 Z\" fill=\"#000000\" fill-rule=\"evenodd\" fill-opacity=\"1\" /><path clip-path=\"url(#clip860)\" d=\"M457.441 201.798 L457.441 249.205 L453.506 249.205 L453.506 201.798 L457.441 201.798 Z\" fill=\"#000000\" fill-rule=\"evenodd\" fill-opacity=\"1\" /><path clip-path=\"url(#clip860)\" d=\"M489.478 212.099 L480.103 224.715 L489.964 238.025 L484.941 238.025 L477.395 227.84 L469.849 238.025 L464.825 238.025 L474.895 224.46 L465.682 212.099 L470.705 212.099 L477.58 221.335 L484.455 212.099 L489.478 212.099 Z\" fill=\"#000000\" fill-rule=\"evenodd\" fill-opacity=\"1\" /><path clip-path=\"url(#clip860)\" d=\"M495.821 202.006 L500.103 202.006 L500.103 223.279 L512.811 212.099 L518.251 212.099 L504.501 224.228 L518.83 238.025 L513.274 238.025 L500.103 225.363 L500.103 238.025 L495.821 238.025 L495.821 202.006 Z\" fill=\"#000000\" fill-rule=\"evenodd\" fill-opacity=\"1\" /><path clip-path=\"url(#clip860)\" d=\"M540.774 208.303 L540.774 221.196 L553.668 221.196 L553.668 225.131 L540.774 225.131 L540.774 238.025 L536.885 238.025 L536.885 225.131 L523.992 225.131 L523.992 221.196 L536.885 221.196 L536.885 208.303 L540.774 208.303 Z\" fill=\"#000000\" fill-rule=\"evenodd\" fill-opacity=\"1\" /><path clip-path=\"url(#clip860)\" d=\"M564.57 234.089 L572.209 234.089 L572.209 207.724 L563.899 209.391 L563.899 205.131 L572.163 203.465 L576.839 203.465 L576.839 234.089 L584.478 234.089 L584.478 238.025 L564.57 238.025 L564.57 234.089 Z\" fill=\"#000000\" fill-rule=\"evenodd\" fill-opacity=\"1\" /><path clip-path=\"url(#clip860)\" d=\"M606.237 223.14 L618.713 223.14 L618.713 226.937 L606.237 226.937 L606.237 223.14 Z\" fill=\"#000000\" fill-rule=\"evenodd\" fill-opacity=\"1\" /><path clip-path=\"url(#clip860)\" d=\"M662.116 212.099 L652.741 224.715 L662.602 238.025 L657.579 238.025 L650.033 227.84 L642.487 238.025 L637.463 238.025 L647.533 224.46 L638.32 212.099 L643.343 212.099 L650.218 221.335 L657.093 212.099 L662.116 212.099 Z\" fill=\"#000000\" fill-rule=\"evenodd\" fill-opacity=\"1\" /><path clip-path=\"url(#clip860)\" d=\"M681.746 202.006 L681.746 205.548 L677.672 205.548 Q675.38 205.548 674.477 206.474 Q673.597 207.4 673.597 209.807 L673.597 212.099 L680.611 212.099 L680.611 215.409 L673.597 215.409 L673.597 238.025 L669.315 238.025 L669.315 215.409 L665.241 215.409 L665.241 212.099 L669.315 212.099 L669.315 210.293 Q669.315 205.965 671.329 203.997 Q673.343 202.006 677.718 202.006 L681.746 202.006 Z\" fill=\"#000000\" fill-rule=\"evenodd\" fill-opacity=\"1\" /><path clip-path=\"url(#clip860)\" d=\"M690.796 201.798 L690.796 249.205 L686.861 249.205 L686.861 201.798 L690.796 201.798 Z\" fill=\"#000000\" fill-rule=\"evenodd\" fill-opacity=\"1\" /><path clip-path=\"url(#clip860)\" d=\"M706.769 201.798 L706.769 249.205 L702.833 249.205 L702.833 201.798 L706.769 201.798 Z\" fill=\"#000000\" fill-rule=\"evenodd\" fill-opacity=\"1\" /><path clip-path=\"url(#clip860)\" d=\"M724.824 203.465 L728.759 203.465 L716.722 242.423 L712.787 242.423 L724.824 203.465 Z\" fill=\"#000000\" fill-rule=\"evenodd\" fill-opacity=\"1\" /><path clip-path=\"url(#clip860)\" d=\"M738.713 201.798 L738.713 249.205 L734.778 249.205 L734.778 201.798 L738.713 201.798 Z\" fill=\"#000000\" fill-rule=\"evenodd\" fill-opacity=\"1\" /><path clip-path=\"url(#clip860)\" d=\"M754.685 201.798 L754.685 249.205 L750.75 249.205 L750.75 201.798 L754.685 201.798 Z\" fill=\"#000000\" fill-rule=\"evenodd\" fill-opacity=\"1\" /><path clip-path=\"url(#clip860)\" d=\"M786.722 212.099 L777.347 224.715 L787.208 238.025 L782.185 238.025 L774.639 227.84 L767.092 238.025 L762.069 238.025 L772.139 224.46 L762.926 212.099 L767.949 212.099 L774.824 221.335 L781.699 212.099 L786.722 212.099 Z\" fill=\"#000000\" fill-rule=\"evenodd\" fill-opacity=\"1\" /><path clip-path=\"url(#clip860)\" d=\"M793.064 202.006 L797.347 202.006 L797.347 223.279 L810.055 212.099 L815.495 212.099 L801.745 224.228 L816.074 238.025 L810.518 238.025 L797.347 225.363 L797.347 238.025 L793.064 238.025 L793.064 202.006 Z\" fill=\"#000000\" fill-rule=\"evenodd\" fill-opacity=\"1\" /><path clip-path=\"url(#clip860)\" d=\"M833.597 223.14 L846.073 223.14 L846.073 226.937 L833.597 226.937 L833.597 223.14 Z\" fill=\"#000000\" fill-rule=\"evenodd\" fill-opacity=\"1\" /><path clip-path=\"url(#clip860)\" d=\"M889.476 212.099 L880.101 224.715 L889.962 238.025 L884.939 238.025 L877.393 227.84 L869.846 238.025 L864.823 238.025 L874.893 224.46 L865.68 212.099 L870.703 212.099 L877.578 221.335 L884.453 212.099 L889.476 212.099 Z\" fill=\"#000000\" fill-rule=\"evenodd\" fill-opacity=\"1\" /><path clip-path=\"url(#clip860)\" d=\"M909.105 202.006 L909.105 205.548 L905.031 205.548 Q902.74 205.548 901.837 206.474 Q900.957 207.4 900.957 209.807 L900.957 212.099 L907.971 212.099 L907.971 215.409 L900.957 215.409 L900.957 238.025 L896.675 238.025 L896.675 215.409 L892.601 215.409 L892.601 212.099 L896.675 212.099 L896.675 210.293 Q896.675 205.965 898.689 203.997 Q900.703 202.006 905.078 202.006 L909.105 202.006 Z\" fill=\"#000000\" fill-rule=\"evenodd\" fill-opacity=\"1\" /><path clip-path=\"url(#clip860)\" d=\"M918.156 201.798 L918.156 249.205 L914.221 249.205 L914.221 201.798 L918.156 201.798 Z\" fill=\"#000000\" fill-rule=\"evenodd\" fill-opacity=\"1\" /><path clip-path=\"url(#clip860)\" d=\"M934.128 201.798 L934.128 249.205 L930.193 249.205 L930.193 201.798 L934.128 201.798 Z\" fill=\"#000000\" fill-rule=\"evenodd\" fill-opacity=\"1\" /><path clip-path=\"url(#clip860)\" d=\"M946.351 219.923 L956.165 219.923 L956.165 222.562 L942.323 222.562 L942.323 220.015 Q943.11 219.298 944.568 218.002 Q952.531 210.941 952.531 208.766 Q952.531 207.238 951.327 206.312 Q950.124 205.363 948.156 205.363 Q946.952 205.363 945.54 205.779 Q944.128 206.173 942.462 206.983 L942.462 204.136 Q944.244 203.488 945.772 203.164 Q947.323 202.84 948.642 202.84 Q951.999 202.84 954.013 204.367 Q956.026 205.895 956.026 208.395 Q956.026 211.613 948.364 218.187 Q947.068 219.298 946.351 219.923 Z\" fill=\"#000000\" fill-rule=\"evenodd\" fill-opacity=\"1\" /></svg>\n"
      ]
     },
     "execution_count": 76,
     "metadata": {},
     "output_type": "execute_result"
    }
   ],
   "source": [
    "plot(p6)"
   ]
  },
  {
   "cell_type": "code",
   "execution_count": null,
   "metadata": {},
   "outputs": [],
   "source": []
  }
 ],
 "metadata": {
  "kernelspec": {
   "display_name": "Julia 1.8.0",
   "language": "julia",
   "name": "julia-1.8"
  },
  "language_info": {
   "file_extension": ".jl",
   "mimetype": "application/julia",
   "name": "julia",
   "version": "1.8.0"
  }
 },
 "nbformat": 4,
 "nbformat_minor": 4
}
