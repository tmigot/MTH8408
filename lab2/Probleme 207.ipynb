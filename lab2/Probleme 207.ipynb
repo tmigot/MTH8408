{
 "cells": [
  {
   "cell_type": "markdown",
   "id": "12dd75ba",
   "metadata": {},
   "source": [
    "# TP2 - Question 3 - problème 207\n",
    "Christopher Sigouin-Bond, 1905412"
   ]
  },
  {
   "cell_type": "code",
   "execution_count": null,
   "id": "53fcd8a9",
   "metadata": {},
   "outputs": [],
   "source": [
    "using ADNLPModels\n",
    "using NLPModels\n",
    "using NLPModelsJuMP\n",
    "using NLPModelsIpopt\n",
    "using JuMP"
   ]
  },
  {
   "cell_type": "code",
   "execution_count": null,
   "id": "87f220cd",
   "metadata": {},
   "outputs": [],
   "source": [
    "# a\n",
    "function getjump()\n",
    "    model = Model()\n",
    "    @variable(model, x[i=1:2], start=[-1.2;1])\n",
    "    @NLobjective(model, Min, (x[2]-x[1]^2)^2+(1-x[1])^2)\n",
    "    return model\n",
    "end"
   ]
  },
  {
   "cell_type": "code",
   "execution_count": null,
   "id": "065d7728",
   "metadata": {},
   "outputs": [],
   "source": [
    "# b\n",
    "function getnlp()\n",
    "    f(x) = (x[2]-x[1]^2)^2+(1-x[1])^2\n",
    "    x0 = [-1.2;1]\n",
    "    return ADNLPModel(f, x0)\n",
    "end"
   ]
  }
 ],
 "metadata": {
  "kernelspec": {
   "display_name": "Julia 1.8.5",
   "language": "julia",
   "name": "julia-1.8"
  },
  "language_info": {
   "file_extension": ".jl",
   "mimetype": "application/julia",
   "name": "julia",
   "version": "1.8.5"
  }
 },
 "nbformat": 4,
 "nbformat_minor": 5
}
