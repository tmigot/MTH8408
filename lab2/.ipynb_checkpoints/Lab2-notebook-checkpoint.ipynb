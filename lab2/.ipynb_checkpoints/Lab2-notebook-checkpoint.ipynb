{
 "cells": [
  {
   "cell_type": "markdown",
   "metadata": {},
   "source": [
    " # MTH8408 : Méthodes d'optimisation et contrôle optimal\n",
    " ## Laboratoire 2: Optimisation sans contraintes\n",
    "Tangi Migot"
   ]
  },
  {
   "cell_type": "code",
   "execution_count": 1,
   "metadata": {},
   "outputs": [],
   "source": [
    "using ADNLPModels, LinearAlgebra, NLPModels, Printf"
   ]
  },
  {
   "cell_type": "markdown",
   "metadata": {},
   "source": [
    "On pourra trouver de la documentation sur `ADNLPModels` et `NLPModels` ici:\n",
    "- [juliasmoothoptimizers.github.io/NLPModels.jl/dev/](https://juliasmoothoptimizers.github.io/NLPModels.jl/dev/)\n",
    "- [juliasmoothoptimizers.github.io/ADNLPModels.jl/dev/](https://juliasmoothoptimizers.github.io/ADNLPModels.jl/dev/)"
   ]
  },
  {
   "cell_type": "code",
   "execution_count": 2,
   "metadata": {},
   "outputs": [
    {
     "data": {
      "text/plain": [
       "H (generic function with 1 method)"
      ]
     },
     "execution_count": 2,
     "metadata": {},
     "output_type": "execute_result"
    }
   ],
   "source": [
    "# Problème test:\n",
    "f(x) = x[1]^2 * (2*x[1] - 3) - 6*x[1]*x[2] * (x[1] - x[2] - 1) # fonction objectif vue en classe\n",
    "g(x) = 6 * [x[1]^2 - x[1] - 2*x[1]*x[2] + x[2]^2 + x[2]; -x[1]^2 + 2*x[1]*x[2] + x[1]] # le gradient de f\n",
    "H(x) = 6 * [2*x[1]-1-2*x[2] -2*x[1]+2*x[2]+1; -2*x[1]+2*x[2]+1 2*x[1]] # la Hessienne de f"
   ]
  },
  {
   "cell_type": "markdown",
   "metadata": {},
   "source": [
    "### Exercice 1: Newton avec recherche linéaire - amélioration du code"
   ]
  },
  {
   "cell_type": "markdown",
   "metadata": {},
   "source": [
    "Ci-dessous, vous avez le code de deux fonctions qui ont été vues dans le cours, la recherche linéaire qui satisfait Armijo, et une méthode de Newton avec cette recherche linéaire. Le but de ce laboratoire est d'implémenter d'autres méthodes utiles pour résoudre des problèmes de grandes dimensions."
   ]
  },
  {
   "cell_type": "code",
   "execution_count": 3,
   "metadata": {},
   "outputs": [
    {
     "data": {
      "text/plain": [
       "armijo (generic function with 1 method)"
      ]
     },
     "execution_count": 3,
     "metadata": {},
     "output_type": "execute_result"
    }
   ],
   "source": [
    "#Amélioration possibles: return also the value of f\n",
    "function armijo(xk, dk, fk, gk, f)\n",
    "  #gk est le gradient au point xk et dk va être la direction à l'étape k  \n",
    "  slope = dot(gk, dk) #doit être <0\n",
    "  t = 1.0\n",
    "  while f(xk + t * dk) > fk + 1.0e-4 * t * slope\n",
    "    t /= 1.5 #réduction par 2/3 à chaque itération\n",
    "  end\n",
    "  return t\n",
    "end"
   ]
  },
  {
   "cell_type": "code",
   "execution_count": 4,
   "metadata": {},
   "outputs": [
    {
     "data": {
      "text/plain": [
       "\u001b[32m\u001b[1mTest Passed\u001b[22m\u001b[39m"
      ]
     },
     "execution_count": 4,
     "metadata": {},
     "output_type": "execute_result"
    }
   ],
   "source": [
    "#Test pour vérifier que la fonction armijo fonctionne correctement.\n",
    "using Test #le package Test définit (entre autre) la macro @test qui permet de faire des tests unitaires :-)\n",
    "xk = ones(2)\n",
    "gk = g(xk)\n",
    "dk = - gk\n",
    "fk = f(xk)\n",
    "t  = armijo(xk, dk, fk, gk, f)\n",
    "@test t < 1\n",
    "@test f(xk + t * dk) <= fk + 1.0e-4 * t * dot(gk,dk)\n",
    "\n",
    "xk = [1.5, 0.5]\n",
    "fk = f(xk)\n",
    "gk = g(xk)\n",
    "dk = - gk\n",
    "t  = armijo(xk, dk, fk, gk, f)\n",
    "@test t < 1\n",
    "@test f(xk + t * dk) <= f(xk) + 1.0e-4 * t * dot(g(xk),dk)\n"
   ]
  },
  {
   "cell_type": "code",
   "execution_count": 5,
   "metadata": {},
   "outputs": [
    {
     "data": {
      "text/plain": [
       "newton_armijo (generic function with 1 method)"
      ]
     },
     "execution_count": 5,
     "metadata": {},
     "output_type": "execute_result"
    }
   ],
   "source": [
    "function newton_armijo(f, g, H, x0; verbose::Bool = true)\n",
    "  xk  = x0\n",
    "  fk  = f(xk)\n",
    "  gk = g(xk)\n",
    "  gnorm = gnorm0 = norm(gk)\n",
    "  k = 0\n",
    "  verbose && @printf \"%2s %9s %9s\\n\" \"k\" \"fk\" \"||∇f(x)||\"\n",
    "  verbose && @printf \"%2d %9.2e %9.1e\\n\" k fk gnorm\n",
    "  while gnorm > 1.0e-6 + 1.0e-6 * gnorm0 && k < 100\n",
    "    Hk = H(xk)\n",
    "    dk = - Hk \\ gk\n",
    "    slope = dot(dk, gk)\n",
    "    λ = 0.0\n",
    "    #La boucle qui suit permet de mettre à jour notre direction selon une certaine diagonale λI\n",
    "    while slope ≥ -1.0e-4 * norm(dk) * gnorm\n",
    "      λ = max(1.0e-3, 10 * λ)\n",
    "      dk = - ((Hk + λ * I ) \\ gk)\n",
    "      slope = dot(dk, gk)\n",
    "      compt += 1\n",
    "    end\n",
    "    t = armijo(xk, dk, fk, gk, f)\n",
    "    xk += t * dk\n",
    "    fk = f(xk)\n",
    "    gk = g(xk)\n",
    "    gnorm = norm(gk)\n",
    "    k += 1\n",
    "    verbose && @printf \"%2d %9.2e %9.1e %7.1e \\n\" k fk gnorm t\n",
    "  end\n",
    "  return xk\n",
    "end"
   ]
  },
  {
   "cell_type": "code",
   "execution_count": 6,
   "metadata": {},
   "outputs": [
    {
     "name": "stdout",
     "output_type": "stream",
     "text": [
      " k        fk ||∇f(x)||\n",
      " 0  1.00e+00   4.5e+00\n",
      " 1  5.08e-02   8.4e-01 1.0e+00 \n",
      " 2  4.73e-04   7.6e-02 1.0e+00 \n",
      " 3  6.97e-08   9.1e-04 1.0e+00 \n",
      " 4  1.62e-15   1.4e-07 1.0e+00 \n"
     ]
    },
    {
     "data": {
      "text/plain": [
       "\u001b[32m\u001b[1mTest Passed\u001b[22m\u001b[39m"
      ]
     },
     "execution_count": 6,
     "metadata": {},
     "output_type": "execute_result"
    }
   ],
   "source": [
    "sol = newton_armijo(f, g, H, [.5, .5])\n",
    "@test g(sol) ≈ zeros(2) atol = 1.0e-6"
   ]
  },
  {
   "cell_type": "markdown",
   "metadata": {},
   "source": [
    "On veut améliorer le code de la fonction `newton_armijo` avec les ajouts suivants:\n",
    "- Changer les paramètre d'entrées de la fonction pour un `nlp`\n",
    "- Avant d'appeler la recherche linéaire, si `slope = dot(dk, gk)` est plus grand que `-1.0e-4 * norm(dk) * gnorm`, on modifie le système. On fait maximum 5 mise à jour de `λ`, sinon on prend l'opposé du gradient.\n",
    "```\n",
    "    λ = 0.0\n",
    "    while slope ≥ -1.0e-4 * norm(dk) * gnorm\n",
    "      λ = max(1.0e-3, 10 * λ)\n",
    "      dk = - ((Hk + λ * I ) \\ gk)\n",
    "      slope = dot(dk, gk)\n",
    "    end\n",
    "```\n",
    "Ajouter un compteur sur le nombre de mises à jour de `λ` et ajuster `dk = - gk` si la limite est atteinte.\n",
    "- On veut aussi détecter et éventuellement arrêter la boucle `while` si la fonction objectif `fk` devient trop petite/négative (inférieure à `-1e15`), i.e. le problème est non-bornée inférieurement.\n",
    "- On veut ajouter deux critères d'arrêts supplémentaires: \n",
    "  - un compteur sur le nombre d'évaluations de f (maximum 1000). Utiliser `neval_obj(nlp)`.\n",
    "  -  une limite de temps d'execution, `max_time = 60.0`. Utiliser la fonction `time()`.\n",
    "- Enfin, on voudrait aussi voir un message à l'écran si l'algorithme n'a pas trouvé la solution, i.e. il s'est arrêté à cause de la limite sur le nombre d'itérations, temps, évaluation de fonctions, problème non-borné."
   ]
  },
  {
   "cell_type": "code",
   "execution_count": 7,
   "metadata": {},
   "outputs": [
    {
     "data": {
      "text/plain": [
       "newton_armijo (generic function with 2 methods)"
      ]
     },
     "execution_count": 7,
     "metadata": {},
     "output_type": "execute_result"
    }
   ],
   "source": [
    "#SOLUTION: fonction à modifier\n",
    "function newton_armijo(nlp, x0; verbose::Bool = true)\n",
    "  tip = time()\n",
    "  top = time()\n",
    "  max_time = top - tip\n",
    "  xk  = x0\n",
    "  fk  = obj(nlp, xk)\n",
    "  gk = grad(nlp, xk)\n",
    "  gnorm = gnorm0 = norm(gk)\n",
    "  k = 0\n",
    "  verbose && @printf \"%2s %9s %9s\\n\" \"k\" \"fk\" \"||∇f(x)||\"\n",
    "  verbose && @printf \"%2d %9.2e %9.1e\\n\" k fk gnorm\n",
    "  while gnorm > 1.0e-6 + 1.0e-6 * gnorm0 && k < 100 && fk >= -1e15 && neval_obj(nlp) < 1000 && max_time < 60.0\n",
    "    Hk = hess(nlp, xk)\n",
    "    dk = - Hk \\ gk\n",
    "    slope = dot(dk, gk)\n",
    "    λ = 0.0\n",
    "    compt = 0\n",
    "    #La boucle qui suit permet de mettre à jour notre direction selon une certaine diagonale λI\n",
    "    while slope ≥ -1.0e-4 * norm(dk) * gnorm && compt < 5 #impose de ne pas faire plus de 5 mises à jour de λ\n",
    "      λ = max(1.0e-3, 10 * λ)\n",
    "      dk = - ((Hk + λ * I ) \\ gk)\n",
    "      slope = dot(dk, gk)\n",
    "      compt += 1\n",
    "    end\n",
    "    #on mets la valeur -gk pour notre direction si l'on a atteint la limite de notre compteur\n",
    "    if compt == 5\n",
    "        dk = -gk\n",
    "        end\n",
    "    t = armijo(xk, dk, fk, gk, x -> obj(nlp,x))\n",
    "    xk += t * dk\n",
    "    fk = obj(nlp, xk)\n",
    "    gk = grad(nlp, xk)\n",
    "    gnorm = norm(gk)\n",
    "    k += 1\n",
    "    verbose && @printf \"%2d %9.2e %9.1e %7.1e \\n\" k fk gnorm t\n",
    "    #mise à jour du temps écoulé\n",
    "    top = time()\n",
    "    max_time = top - tip\n",
    "  end\n",
    "    \n",
    "  #messages affichés si l'on n'a pas trouvé la solution\n",
    "  if k == 100\n",
    "        println(\"WARNING : Stack Overflow : L'algorithme n'a pas trouvé la solution en moins de $k itérations\")\n",
    "    elseif max_time >= 60.0\n",
    "        println(\"WARNING : Out of time : L'algorithme n'a pas trouvé la solution en moins d'une minute\")\n",
    "    elseif neval_obj(nlp) >= 1000\n",
    "        println(\"WARNING : L'algorithme a évalué trop de fois notre fonction objectif\")\n",
    "    elseif fk < -1e15\n",
    "        println(\"WARNING : Unbounded : Le problème donné est non-borné\")\n",
    "    end\n",
    "  return xk\n",
    "end"
   ]
  },
  {
   "cell_type": "code",
   "execution_count": 8,
   "metadata": {},
   "outputs": [
    {
     "name": "stdout",
     "output_type": "stream",
     "text": [
      "WARNING : Unbounded : Le problème donné est non-borné\n",
      "WARNING : Unbounded : Le problème donné est non-borné\n",
      "\u001b[0m\u001b[1mTest Summary:              | \u001b[22m\u001b[32m\u001b[1mPass  \u001b[22m\u001b[39m\u001b[36m\u001b[1mTotal  \u001b[22m\u001b[39m\u001b[0m\u001b[1m Time\u001b[22m\n",
      "Test set for newton_armijo | \u001b[32m   7  \u001b[39m\u001b[36m    7  \u001b[39m\u001b[0m17.2s\n"
     ]
    },
    {
     "data": {
      "text/plain": [
       "Test.DefaultTestSet(\"Test set for newton_armijo\", Any[], 7, false, false, true, 1.674593399113e9, 1.674593416278e9)"
      ]
     },
     "execution_count": 8,
     "metadata": {},
     "output_type": "execute_result"
    }
   ],
   "source": [
    "# Tests secrets 1: contactez votre professeur pour avoir ces tests additionels si vous êtes prêt.\n",
    "using Test\n",
    "\n",
    "@testset \"Test set for newton_armijo\" begin\n",
    "    #Test problem:\n",
    "    fH(x) = (x[2]+x[1].^2-11).^2+(x[1]+x[2].^2-7).^2\n",
    "    x0H = [10., 20.]\n",
    "    himmelblau = ADNLPModel(fH, x0H)\n",
    "\n",
    "    problem2 = ADNLPModel(x->-x[1]^3 + x[2]^2 + x[3]^2, ones(3))\n",
    "\n",
    "    roz(x) = 100 *  (x[2] - x[1]^2)^2 + (x[1] - 1.0)^2\n",
    "    rosenbrock = ADNLPModel(roz, [-1.2, 1.0])\n",
    "\n",
    "    f(x) = x[1]^2 * (2*x[1] - 3) - 6*x[1]*x[2] * (x[1] - x[2] - 1)\n",
    "    pb_du_cours = ADNLPModel(f, [-1.001, -1.001]) #ou [1.5, .5] ou [.5, .5]\n",
    "\n",
    "\n",
    "    ######################################### newton_armijo ##################\n",
    "\n",
    "    #=\n",
    "    Vérifiez que vous pouvez mettre une limite de temps de 1s.\n",
    "    Puis faites tournez votre algorithme sur un des probléme test.\n",
    "    L'algorithme devrait s'arrêter en environ 1sec.\n",
    "\n",
    "    Vérifiez que vous pouvez mettre une limite de 2 évaluations d'objectif.\n",
    "    Puis faites tournez votre algorithme sur un des probléme test.\n",
    "    L'algorithme devrait s'arrêter en environ 1 itération.\n",
    "    =#\n",
    "\n",
    "    #Unit/Validation Tests\n",
    "    ep1 = 1e-6 + norm(grad(himmelblau, himmelblau.meta.x0)) * 1e-6\n",
    "    sol = newton_armijo(himmelblau, himmelblau.meta.x0, verbose = false)\n",
    "    @test norm(grad(himmelblau, sol)) ≤ ep1\n",
    "    @test sol ≈ [3, 2] atol = ep1\n",
    "\n",
    "    ep2 = 1e-6 + norm(grad(problem2, problem2.meta.x0)) * 1e-6\n",
    "    sol =  newton_armijo(problem2, problem2.meta.x0, verbose = false)\n",
    "    # @test stats.status == :unbounded\n",
    "    @test obj(problem2, sol) ≤ -1e15\n",
    "\n",
    "    ep2 = 1e-6 + norm(grad(rosenbrock, rosenbrock.meta.x0)) * 1e-6\n",
    "    sol = newton_armijo(rosenbrock, rosenbrock.meta.x0, verbose = false)\n",
    "    @test sol ≈ [1., 1.] atol = ep2\n",
    "\n",
    "    ep3 = 1e-6 + norm(grad(pb_du_cours, [-1.001, -1.001])) * 1e-6\n",
    "    sol = newton_armijo(pb_du_cours, [-1.001, -1.001], verbose = false)\n",
    "    @test norm(grad(pb_du_cours, sol)) ≤ ep3 || obj(pb_du_cours, sol) <= -1e15\n",
    "\n",
    "    ep4 = 1e-6 + norm(grad(pb_du_cours, [1.5, .5])) * 1e-6\n",
    "    sol = newton_armijo(pb_du_cours, [1.5, .5], verbose = false)\n",
    "    @test norm(grad(pb_du_cours, sol)) ≤ ep4 || obj(pb_du_cours, sol) <= -1e15\n",
    "\n",
    "    ep5 = 1e-6 + norm(grad(pb_du_cours, [.5, .5])) * 1e-6\n",
    "    sol = newton_armijo(pb_du_cours, [.5, .5], verbose = false)\n",
    "    @test norm(grad(pb_du_cours, sol)) ≤ ep5 || obj(pb_du_cours, sol) <= -1e15\n",
    "end"
   ]
  },
  {
   "cell_type": "markdown",
   "metadata": {},
   "source": [
    "### Exercice 2: LDLt-Newton avec recherche linéaire"
   ]
  },
  {
   "cell_type": "markdown",
   "metadata": {},
   "source": [
    "On va maintenant modifier la méthode de Newton vu précédemment pour utiliser un package qui s'occupe de calculer une factorisation de la matrice hessienne tel que:\n",
    "$$\n",
    "\\nabla^2 f(x) = LDL^T.\n",
    "$$\n",
    "Ce type de factorisation n'est possible que si la matrice hessienne est définie positive, dans le cas contraire on a besoin de régularisé le système comme dans l'exercice précédent.\n",
    "\n",
    "Pour résoudre le système linéaire en utilisant cette factorisation, on va utiliser le package [`LDLFactorizations`](https://github.com/JuliaSmoothOptimizers/LDLFactorizations.jl):"
   ]
  },
  {
   "cell_type": "code",
   "execution_count": 9,
   "metadata": {},
   "outputs": [],
   "source": [
    "using LDLFactorizations, LinearAlgebra"
   ]
  },
  {
   "cell_type": "markdown",
   "metadata": {},
   "source": [
    "Un tutoriel sur l'utilisation de `LDLFactorizations` est disponible sur la documentation du package sur github ou encore [à ce lien](https://juliasmoothoptimizers.github.io/LDLFactorizations.jl/dev/tutorial/)."
   ]
  },
  {
   "cell_type": "markdown",
   "metadata": {},
   "source": [
    "Voici un exemple d'utilisation de ce package. La matrice dont on veut calculer la factorisation doit être de type `Symmetric`."
   ]
  },
  {
   "cell_type": "code",
   "execution_count": 10,
   "metadata": {},
   "outputs": [
    {
     "data": {
      "text/plain": [
       "true"
      ]
     },
     "execution_count": 10,
     "metadata": {},
     "output_type": "execute_result"
    }
   ],
   "source": [
    "A = ones(2,2) #cette matrice symétrique, mais pas du type Symmetric\n",
    "              #à noter que cette matrice n'est pas définie positive.\n",
    "typeof(A) <: Symmetric #false\n",
    "A = Symmetric(A)\n",
    "typeof(A) <: Symmetric #true :)"
   ]
  },
  {
   "cell_type": "markdown",
   "metadata": {},
   "source": [
    "Deuxième étape, le package fait une phase d'analyse de la matrice avec `ldl_analyze` en créant une structure pratique pour les diverses fonctions du package."
   ]
  },
  {
   "cell_type": "code",
   "execution_count": 11,
   "metadata": {},
   "outputs": [
    {
     "data": {
      "text/plain": [
       "3.925231146709438e-17"
      ]
     },
     "execution_count": 11,
     "metadata": {},
     "output_type": "execute_result"
    }
   ],
   "source": [
    "A = -rand(2, 2)\n",
    "sol = rand(2)\n",
    "b = A*sol #on veut résoudre le système A*x=b\n",
    "\n",
    "# LDLFactorizations va en réalité demander la matrice triangulaire supérieure\n",
    "A = Symmetric(triu(A), :U)\n",
    "S = ldl_analyze(A)\n",
    "ldl_factorize!(A, S)\n",
    "x = S \\ b # x = A \\b ça va être résolu par Julia \n",
    "norm(A * x - b)"
   ]
  },
  {
   "cell_type": "code",
   "execution_count": 12,
   "metadata": {},
   "outputs": [
    {
     "data": {
      "text/plain": [
       "2×2 Matrix{Float64}:\n",
       " 0.0  1.0\n",
       " 1.0  0.0"
      ]
     },
     "execution_count": 12,
     "metadata": {},
     "output_type": "execute_result"
    }
   ],
   "source": [
    "A = [0. 1.; 1. 0.]"
   ]
  },
  {
   "cell_type": "code",
   "execution_count": 13,
   "metadata": {},
   "outputs": [
    {
     "data": {
      "text/plain": [
       "LDLFactorizations.LDLFactorization{Float64, Int64, Int64, Int64}(true, false, true, 2, [2, -1], [0, 0], [1, 2], [1, 2], [1, 2], [1, 2, 2], [1, 1, 1], Int64[], [0], [0.0], [0.0, 1.0120115113827e-311], [0.0, 0.0], [140706511560976, 0], 0.0, 0.0, 0.0, 2)"
      ]
     },
     "execution_count": 13,
     "metadata": {},
     "output_type": "execute_result"
    }
   ],
   "source": [
    "A = Symmetric(triu(A), :U)\n",
    "S = ldl_analyze(A)\n",
    "ldl_factorize!(A, S)"
   ]
  },
  {
   "cell_type": "markdown",
   "metadata": {},
   "source": [
    "La matrice `A` factorisée par $LDL^T$ n'était pas forcément définie positive. On peut le voir sur les valeurs de $D$."
   ]
  },
  {
   "cell_type": "code",
   "execution_count": 14,
   "metadata": {},
   "outputs": [
    {
     "data": {
      "text/plain": [
       "2-element Vector{Float64}:\n",
       " 0.0\n",
       " 1.0120115113827e-311"
      ]
     },
     "execution_count": 14,
     "metadata": {},
     "output_type": "execute_result"
    }
   ],
   "source": [
    "S.d #c'est le vecteur qui correspond à la matrice diagonale D."
   ]
  },
  {
   "cell_type": "markdown",
   "metadata": {},
   "source": [
    "Pour l'optimisation, dans le cas où des valeurs de $D$ sont négatives, i.e. `minimum(S.d) <= 0.`, on ajoutera une correction pour être sûr d'obtenir une direction de descente. On pourra choisir un des deux:\n",
    "- `S.d   = abs.(S.d)`\n",
    "- `S.d .+= -minimum(S.d) + 1e-6`"
   ]
  },
  {
   "cell_type": "markdown",
   "metadata": {},
   "source": [
    "#### Utiliser cette technique pour calculer la direction de descente:"
   ]
  },
  {
   "cell_type": "code",
   "execution_count": 15,
   "metadata": {},
   "outputs": [
    {
     "data": {
      "text/plain": [
       "newton_ldlt_armijo (generic function with 1 method)"
      ]
     },
     "execution_count": 15,
     "metadata": {},
     "output_type": "execute_result"
    }
   ],
   "source": [
    "# Solution: modifier le calcul de la direction avec LDLFactorizations\n",
    "function newton_ldlt_armijo(nlp, x0; verbose::Bool = true)\n",
    "  xk  = x0\n",
    "  fk  = obj(nlp, xk)\n",
    "  gk = grad(nlp, xk)\n",
    "  gnorm = gnorm0 = norm(gk)\n",
    "  k = 0\n",
    "  verbose && @printf \"%2s %9s %9s\\n\" \"k\" \"fk\" \"||∇f(x)||\"\n",
    "  verbose && @printf \"%2d %9.2e %9.1e\\n\" k fk gnorm\n",
    "  while gnorm > 1.0e-6 + 1.0e-6 * gnorm0 && k < 100 && fk > -1e15\n",
    "    Hk = Symmetric(triu(hess(nlp, xk)), :U)\n",
    "    Sk = ldl_factorize!(Hk, ldl_analyze(Hk))\n",
    "    if minimum(Sk.d) <= 0\n",
    "        Sk.d = abs.(Sk.d)\n",
    "    end\n",
    "    dk = - Sk \\ gk\n",
    "    slope = dot(dk, gk)\n",
    "    t = armijo(xk, dk, fk, gk, x -> obj(nlp, x))\n",
    "    xk += t * dk\n",
    "    fk = obj(nlp, xk)\n",
    "    gk = grad(nlp, xk)\n",
    "    gnorm = norm(gk)\n",
    "    k += 1\n",
    "    verbose && @printf \"%2d %9.2e %9.1e %7.1e \\n\" k fk gnorm t\n",
    "  end\n",
    "  return xk\n",
    "end"
   ]
  },
  {
   "cell_type": "code",
   "execution_count": 16,
   "metadata": {},
   "outputs": [
    {
     "data": {
      "text/plain": [
       "ADNLPModel - Model with automatic differentiation backend ADNLPModels.ADModelBackend{ADNLPModels.ForwardDiffADGradient, ADNLPModels.ForwardDiffADHvprod, ADNLPModels.ForwardDiffADJprod, ADNLPModels.ForwardDiffADJtprod, ADNLPModels.ForwardDiffADJacobian, ADNLPModels.ForwardDiffADHessian, ADNLPModels.ForwardDiffADGHjvprod}(ADNLPModels.ForwardDiffADGradient(ForwardDiff.GradientConfig{ForwardDiff.Tag{typeof(f), Float64}, Float64, 2, Vector{ForwardDiff.Dual{ForwardDiff.Tag{typeof(f), Float64}, Float64, 2}}}((Partials(1.0, 0.0), Partials(0.0, 1.0)), ForwardDiff.Dual{ForwardDiff.Tag{typeof(f), Float64}, Float64, 2}[Dual{ForwardDiff.Tag{typeof(f), Float64}}(1.0115428399996e-311,6.9518254257367e-310,6.95182577273283e-310), Dual{ForwardDiff.Tag{typeof(f), Float64}}(6.9518254257367e-310,6.95182542579123e-310,6.95182542579123e-310)])), ADNLPModels.ForwardDiffADHvprod(), ADNLPModels.ForwardDiffADJprod(), ADNLPModels.ForwardDiffADJtprod(), ADNLPModels.ForwardDiffADJacobian(0), ADNLPModels.ForwardDiffADHessian(3), ADNLPModels.ForwardDiffADGHjvprod())\n",
       "  Problem name: Generic\n",
       "   All variables: ████████████████████ 2      All constraints: ⋅⋅⋅⋅⋅⋅⋅⋅⋅⋅⋅⋅⋅⋅⋅⋅⋅⋅⋅⋅ 0     \n",
       "            free: ████████████████████ 2                 free: ⋅⋅⋅⋅⋅⋅⋅⋅⋅⋅⋅⋅⋅⋅⋅⋅⋅⋅⋅⋅ 0     \n",
       "           lower: ⋅⋅⋅⋅⋅⋅⋅⋅⋅⋅⋅⋅⋅⋅⋅⋅⋅⋅⋅⋅ 0                lower: ⋅⋅⋅⋅⋅⋅⋅⋅⋅⋅⋅⋅⋅⋅⋅⋅⋅⋅⋅⋅ 0     \n",
       "           upper: ⋅⋅⋅⋅⋅⋅⋅⋅⋅⋅⋅⋅⋅⋅⋅⋅⋅⋅⋅⋅ 0                upper: ⋅⋅⋅⋅⋅⋅⋅⋅⋅⋅⋅⋅⋅⋅⋅⋅⋅⋅⋅⋅ 0     \n",
       "         low/upp: ⋅⋅⋅⋅⋅⋅⋅⋅⋅⋅⋅⋅⋅⋅⋅⋅⋅⋅⋅⋅ 0              low/upp: ⋅⋅⋅⋅⋅⋅⋅⋅⋅⋅⋅⋅⋅⋅⋅⋅⋅⋅⋅⋅ 0     \n",
       "           fixed: ⋅⋅⋅⋅⋅⋅⋅⋅⋅⋅⋅⋅⋅⋅⋅⋅⋅⋅⋅⋅ 0                fixed: ⋅⋅⋅⋅⋅⋅⋅⋅⋅⋅⋅⋅⋅⋅⋅⋅⋅⋅⋅⋅ 0     \n",
       "          infeas: ⋅⋅⋅⋅⋅⋅⋅⋅⋅⋅⋅⋅⋅⋅⋅⋅⋅⋅⋅⋅ 0               infeas: ⋅⋅⋅⋅⋅⋅⋅⋅⋅⋅⋅⋅⋅⋅⋅⋅⋅⋅⋅⋅ 0     \n",
       "            nnzh: (  0.00% sparsity)   3               linear: ⋅⋅⋅⋅⋅⋅⋅⋅⋅⋅⋅⋅⋅⋅⋅⋅⋅⋅⋅⋅ 0     \n",
       "                                                    nonlinear: ⋅⋅⋅⋅⋅⋅⋅⋅⋅⋅⋅⋅⋅⋅⋅⋅⋅⋅⋅⋅ 0     \n",
       "                                                         nnzj: (------% sparsity)         \n",
       "\n",
       "  Counters:\n",
       "             obj: ⋅⋅⋅⋅⋅⋅⋅⋅⋅⋅⋅⋅⋅⋅⋅⋅⋅⋅⋅⋅ 0                 grad: ⋅⋅⋅⋅⋅⋅⋅⋅⋅⋅⋅⋅⋅⋅⋅⋅⋅⋅⋅⋅ 0                 cons: ⋅⋅⋅⋅⋅⋅⋅⋅⋅⋅⋅⋅⋅⋅⋅⋅⋅⋅⋅⋅ 0     \n",
       "        cons_lin: ⋅⋅⋅⋅⋅⋅⋅⋅⋅⋅⋅⋅⋅⋅⋅⋅⋅⋅⋅⋅ 0             cons_nln: ⋅⋅⋅⋅⋅⋅⋅⋅⋅⋅⋅⋅⋅⋅⋅⋅⋅⋅⋅⋅ 0                 jcon: ⋅⋅⋅⋅⋅⋅⋅⋅⋅⋅⋅⋅⋅⋅⋅⋅⋅⋅⋅⋅ 0     \n",
       "           jgrad: ⋅⋅⋅⋅⋅⋅⋅⋅⋅⋅⋅⋅⋅⋅⋅⋅⋅⋅⋅⋅ 0                  jac: ⋅⋅⋅⋅⋅⋅⋅⋅⋅⋅⋅⋅⋅⋅⋅⋅⋅⋅⋅⋅ 0              jac_lin: ⋅⋅⋅⋅⋅⋅⋅⋅⋅⋅⋅⋅⋅⋅⋅⋅⋅⋅⋅⋅ 0     \n",
       "         jac_nln: ⋅⋅⋅⋅⋅⋅⋅⋅⋅⋅⋅⋅⋅⋅⋅⋅⋅⋅⋅⋅ 0                jprod: ⋅⋅⋅⋅⋅⋅⋅⋅⋅⋅⋅⋅⋅⋅⋅⋅⋅⋅⋅⋅ 0            jprod_lin: ⋅⋅⋅⋅⋅⋅⋅⋅⋅⋅⋅⋅⋅⋅⋅⋅⋅⋅⋅⋅ 0     \n",
       "       jprod_nln: ⋅⋅⋅⋅⋅⋅⋅⋅⋅⋅⋅⋅⋅⋅⋅⋅⋅⋅⋅⋅ 0               jtprod: ⋅⋅⋅⋅⋅⋅⋅⋅⋅⋅⋅⋅⋅⋅⋅⋅⋅⋅⋅⋅ 0           jtprod_lin: ⋅⋅⋅⋅⋅⋅⋅⋅⋅⋅⋅⋅⋅⋅⋅⋅⋅⋅⋅⋅ 0     \n",
       "      jtprod_nln: ⋅⋅⋅⋅⋅⋅⋅⋅⋅⋅⋅⋅⋅⋅⋅⋅⋅⋅⋅⋅ 0                 hess: ⋅⋅⋅⋅⋅⋅⋅⋅⋅⋅⋅⋅⋅⋅⋅⋅⋅⋅⋅⋅ 0                hprod: ⋅⋅⋅⋅⋅⋅⋅⋅⋅⋅⋅⋅⋅⋅⋅⋅⋅⋅⋅⋅ 0     \n",
       "           jhess: ⋅⋅⋅⋅⋅⋅⋅⋅⋅⋅⋅⋅⋅⋅⋅⋅⋅⋅⋅⋅ 0               jhprod: ⋅⋅⋅⋅⋅⋅⋅⋅⋅⋅⋅⋅⋅⋅⋅⋅⋅⋅⋅⋅ 0     \n"
      ]
     },
     "execution_count": 16,
     "metadata": {},
     "output_type": "execute_result"
    }
   ],
   "source": [
    "#Test\n",
    "f(x) = x[1]^2 * (2*x[1] - 3) - 6*x[1]*x[2] * (x[1] - x[2] - 1)\n",
    "nlp = ADNLPModel(f, zeros(2))"
   ]
  },
  {
   "cell_type": "code",
   "execution_count": 17,
   "metadata": {},
   "outputs": [
    {
     "name": "stdout",
     "output_type": "stream",
     "text": [
      "\u001b[0m\u001b[1mTest Summary:                   | \u001b[22m\u001b[32m\u001b[1mPass  \u001b[22m\u001b[39m\u001b[36m\u001b[1mTotal  \u001b[22m\u001b[39m\u001b[0m\u001b[1mTime\u001b[22m\n",
      "Test set for newton_ldlt_armijo | \u001b[32m   7  \u001b[39m\u001b[36m    7  \u001b[39m\u001b[0m2.7s\n"
     ]
    },
    {
     "data": {
      "text/plain": [
       "Test.DefaultTestSet(\"Test set for newton_ldlt_armijo\", Any[], 7, false, false, true, 1.674593423125e9, 1.674593425776e9)"
      ]
     },
     "execution_count": 17,
     "metadata": {},
     "output_type": "execute_result"
    }
   ],
   "source": [
    "# Tests secrets 2: contactez votre professeur pour avoir ces tests additionels si vous êtes prêt.\n",
    "using Test\n",
    "\n",
    "@testset \"Test set for newton_ldlt_armijo\" begin\n",
    "    #Test problem:\n",
    "    fH(x) = (x[2]+x[1].^2-11).^2+(x[1]+x[2].^2-7).^2\n",
    "    x0H = [10., 20.]\n",
    "    himmelblau = ADNLPModel(fH, x0H)\n",
    "\n",
    "    problem2 = ADNLPModel(x->-x[1]^3 + x[2]^2 + x[3]^2, ones(3))\n",
    "\n",
    "    roz(x) = 100 *  (x[2] - x[1]^2)^2 + (x[1] - 1.0)^2\n",
    "    rosenbrock = ADNLPModel(roz, [-1.2, 1.0])\n",
    "\n",
    "    f(x) = x[1]^2 * (2*x[1] - 3) - 6*x[1]*x[2] * (x[1] - x[2] - 1)\n",
    "    pb_du_cours = ADNLPModel(f, [-1.001, -1.001]) #ou [1.5, .5] ou [.5, .5]\n",
    "\n",
    "    #Unit/Validation Tests\n",
    "    ep1 = 1e-6 + norm(grad(himmelblau, himmelblau.meta.x0)) * 1e-6\n",
    "    sol = newton_ldlt_armijo(himmelblau, himmelblau.meta.x0, verbose = false)\n",
    "    @test norm(grad(himmelblau, sol)) ≤ ep1\n",
    "    @test sol ≈ [3, 2] atol = ep1\n",
    "\n",
    "    ep2 = 1e-6 + norm(grad(problem2, problem2.meta.x0)) * 1e-6\n",
    "    sol = newton_ldlt_armijo(problem2, problem2.meta.x0, verbose = false)\n",
    "    # @test stats.status == :unbounded\n",
    "    @test obj(problem2, sol) ≤ -1e15\n",
    "\n",
    "    ep2 = 1e-6 + norm(grad(rosenbrock, rosenbrock.meta.x0)) * 1e-6\n",
    "    sol = newton_ldlt_armijo(rosenbrock, rosenbrock.meta.x0, verbose = false)\n",
    "    @test sol ≈ [1., 1.] atol = ep2\n",
    "\n",
    "    ep3 = 1e-6 + norm(grad(pb_du_cours, [-1.001, -1.001])) * 1e-6\n",
    "    sol = newton_ldlt_armijo(pb_du_cours, [-1.001, -1.001], verbose = false)\n",
    "    @test norm(grad(pb_du_cours, sol)) ≤ ep3 || obj(pb_du_cours, sol) <= -1e15\n",
    "\n",
    "    ep4 = 1e-6 + norm(grad(pb_du_cours, [1.5, .5])) * 1e-6\n",
    "    sol = newton_ldlt_armijo(pb_du_cours, [1.5, .5], verbose = false)\n",
    "    @test norm(grad(pb_du_cours, sol)) ≤ ep4 || obj(pb_du_cours, sol) <= -1e15\n",
    "\n",
    "    ep5 = 1e-6 + norm(grad(pb_du_cours, [.5, .5])) * 1e-6\n",
    "    sol = newton_ldlt_armijo(pb_du_cours, [.5, .5], verbose = false)\n",
    "    @test norm(grad(pb_du_cours, sol)) ≤ ep5 || obj(pb_du_cours, sol) <= -1e15\n",
    "end"
   ]
  },
  {
   "cell_type": "markdown",
   "metadata": {},
   "source": [
    "### Exercice 3: Méthode quasi-Newton: BFGS"
   ]
  },
  {
   "cell_type": "markdown",
   "metadata": {},
   "source": [
    "#### Méthode quasi-Newton: BFGS\n",
    "Pour des problèmes de très grandes tailles, il est parfois très coûteux d'évaluer la hessienne du problème d'optimisation (et même le produit hessienne-vecteur). La famille des méthode *quasi-Newton* construit une approximation $B_k$ symétrique définie positive de la matrice Hessienne en utilisant seulement le gradient et en mesurant sa variation, et permet quand même d'améliorer significativement les performances comparé à la méthode du gradient.\n",
    "$$\n",
    "s_k = x_{k+1} - x_k, \\quad y_k = \\nabla f(x_{k+1}) - \\nabla f(x_k).\n",
    "$$\n",
    "Par ailleurs la matrice $B_k$ est aussi construite de façon à ce que l'inverse soit connue, il n'y a donc pas de système linéaire à résoudre.\n",
    "\n",
    "La méthode la plus connue dans la famille des méthodes quasi-Newton, est la méthode BFGS (Broyden - Fletcher, Goldfarb, and Shanno), et utilise la formule suivante pour calculer l'inverse de $B_k$ que l'on note $H_k$:\n",
    "$$\n",
    "H_{k+1} = (I - \\rho_k s_ky_k^T)H_k(I-\\rho_ky_ks_k^T) + \\rho_ks_ks_k^T, \\quad \\rho_k = \\frac{1}{y_k^Ts_k}.\n",
    "$$\n",
    "L'algorithme est presque le même que la méthode de Newton à la différence qu'il n'y a pas de système linéaire à résoudre et la direction $d_k$ est à coup sûr une direction de descente. Ainsi la direction de descente est calculée comme suit:\n",
    "$$\n",
    "d_k = - H_k \\nabla f(x_k).\n",
    "$$\n",
    "\n",
    "Comment choisir la matrice $H_0$? On peut éventuellement choisir $I$. Une alternative est d'utiliser $H_0=I$ pour la première itération et ensuite mettre $H_0$ à jour avant de calculer $H_1$ en utilisant:\n",
    "$$\n",
    "H_0 = \\frac{y_k^Ts_k}{y_k^Ty_k}I.\n",
    "$$"
   ]
  },
  {
   "cell_type": "markdown",
   "metadata": {},
   "source": [
    "**Important**: pour s'assurer que la matrice $H_k$ reste définie positive à toutes les itérations, il faut s'assurer que $y_k^Ts_k>0$. C'est toujours vrai pour des fonctions convexes, mais pas nécessairement dans le cas général. On pourra tester ici la version \"skip\" qui ne mets pas à jour quand cette condition n'est pas vérifiée."
   ]
  },
  {
   "cell_type": "code",
   "execution_count": 81,
   "metadata": {},
   "outputs": [
    {
     "data": {
      "text/plain": [
       "bfgs_quasi_newton_armijo (generic function with 1 method)"
      ]
     },
     "execution_count": 81,
     "metadata": {},
     "output_type": "execute_result"
    }
   ],
   "source": [
    "# Solution: copier-coller votre newton_armijo ici et modifier le calcul de la direction avec la méthode de BFGS inverse skip.\n",
    "function bfgs_quasi_newton_armijo(nlp, x0; verbose::Bool = true)\n",
    "  tip = time()\n",
    "  top = time()\n",
    "  max_time = top - tip\n",
    "  xk  = x0\n",
    "  xk_next = x0\n",
    "  fk  = obj(nlp, xk)\n",
    "  gk = grad(nlp, xk)\n",
    "  gnorm = gnorm0 = norm(gk)\n",
    "  k = 0\n",
    "  Hk = I \n",
    "  verbose && @printf \"%2s %9s %9s\\n\" \"k\" \"fk\" \"||∇f(x)||\"\n",
    "  verbose && @printf \"%2d %9.2e %9.1e\\n\" k fk gnorm\n",
    "  while gnorm > 1.0e-6 + 1.0e-6 * gnorm0 && k < 100 && fk >= -1e15 && neval_obj(nlp) < 1000 && max_time < 60.0\n",
    "    #calcul de notre direction\n",
    "    dk = -Hk*gk\n",
    "    gk = grad(nlp, xk)\n",
    "        \n",
    "    t = armijo(xk, dk, fk, gk, x -> obj(nlp,x))\n",
    "    #calcul de la nouvelle coordonnée\n",
    "    xk_next = xk + t * dk\n",
    "    \n",
    "    #calcul de nos valeurs de gradient\n",
    "    gk = grad(nlp, xk)\n",
    "    gk_next = grad(nlp, xk_next)\n",
    "        \n",
    "    sk = xk_next - xk\n",
    "    yk = gk_next - gk\n",
    "    \n",
    "    if k==0 #gestion du cas particulier de la première itération\n",
    "        num = yk'sk\n",
    "        den = yk'yk\n",
    "        Hk = (num/den)*I\n",
    "        end\n",
    "    #mise à jour de Hk et xk pour l'itération suivante dans le cas où Hk est bien définie positive, si on ne vérifie pas \n",
    "    #notre condition, on ne met à jour ni Hk ni ρk\n",
    "    if (yk')*sk > 0\n",
    "        ρk = 1/(yk'*sk)\n",
    "        Hk = (I - ρk*sk*yk')*Hk*(I - ρk*yk*sk') + ρk*sk*sk'\n",
    "        end\n",
    "        \n",
    "    #pour la nouvelle itération\n",
    "    xk = xk_next\n",
    "    fk = obj(nlp,xk)\n",
    "    gnorm = norm(gk)\n",
    "    \n",
    "    k += 1\n",
    "    verbose && @printf \"%2d %9.2e %9.1e %7.1e \\n\" k fk gnorm t\n",
    "        \n",
    "    #mise à jour du temps écoulé\n",
    "    top = time()\n",
    "    max_time = top - tip\n",
    "  end\n",
    "    \n",
    "  #messages affichés si l'on n'a pas trouvé la solution\n",
    "  if k == 100\n",
    "        println(\"WARNING : Stack Overflow : L'algorithme n'a pas trouvé la solution en moins de $k itérations\")\n",
    "    elseif max_time >= 60.0\n",
    "        println(\"WARNING : Out of time : L'algorithme n'a pas trouvé la solution en moins d'une minute\")\n",
    "    elseif neval_obj(nlp) >= 1000\n",
    "        println(\"WARNING : L'algorithme a évalué trop de fois notre fonction objectif\")\n",
    "    elseif fk < -1e15\n",
    "        println(\"WARNING : Unbounded : Le problème donné est non-borné\")\n",
    "    end\n",
    "  return xk\n",
    "end"
   ]
  },
  {
   "cell_type": "code",
   "execution_count": 84,
   "metadata": {},
   "outputs": [
    {
     "name": "stdout",
     "output_type": "stream",
     "text": [
      " k        fk ||∇f(x)||\n",
      " 0  1.74e+05   3.3e+04\n",
      " 1  2.73e+04   3.3e+04 1.0e-03 \n",
      " 2  2.73e+04   8.6e+03 2.8e-17 \n",
      " 3  1.26e+03   8.6e+03 1.0e+00 \n",
      " 4  1.48e+02   8.6e+02 1.0e+00 \n",
      " 5  1.48e+02   2.3e+02 9.5e-17 \n",
      " 6  7.26e+01   2.3e+02 1.0e+00 \n",
      " 7  4.75e+01   1.5e+02 1.3e-01 \n",
      " 8  4.75e+01   1.1e+02 1.1e-15 \n",
      " 9  2.31e+01   1.1e+02 1.0e+00 \n",
      "10  1.33e+01   8.0e+01 1.0e+00 \n",
      "11  1.32e+01   4.8e+01 1.0e+00 \n",
      "12  1.32e+01   1.5e+01 4.4e-01 \n",
      "13  1.19e+01   7.1e+00 1.0e+00 \n",
      "14  1.18e+01   2.7e+01 3.0e-01 \n",
      "15  1.04e+01   3.6e+01 1.0e+00 \n",
      "16  9.36e+00   4.7e+01 6.7e-01 \n",
      "17  6.95e+00   4.9e+01 1.0e+00 \n",
      "18  3.15e+00   3.3e+01 1.0e+00 \n",
      "19  3.12e+00   1.9e+01 3.0e-01 \n",
      "20  3.20e-01   2.2e+01 1.0e+00 \n",
      "21  2.48e-01   7.5e+00 3.0e-01 \n",
      "22  2.19e-01   3.6e+00 6.7e-01 \n",
      "23  1.20e-01   4.7e+00 1.0e+00 \n",
      "24  1.12e-01   4.9e+00 3.0e-01 \n",
      "25  1.97e-02   4.1e+00 1.0e+00 \n",
      "26  1.96e-02   1.5e+00 5.9e-02 \n",
      "27  3.22e-04   1.6e+00 1.0e+00 \n",
      "28  3.09e-04   2.4e-01 5.9e-02 \n",
      "29  6.69e-05   1.8e-01 1.0e+00 \n",
      "30  6.67e-05   9.1e-02 2.0e-01 \n",
      "31  1.21e-05   1.1e-01 1.0e+00 \n",
      "32  1.17e-05   3.7e-02 1.3e-01 \n",
      "33  1.16e-06   2.9e-02 1.0e+00 \n",
      " k        fk ||∇f(x)||\n",
      " 0  0.00e+00   4.5e+00\n",
      " 1 -3.73e-01   4.5e+00 8.8e-02 \n",
      " 2 -3.73e-01   4.2e+00 1.9e-17 \n",
      " 3 -7.22e-01   4.2e+00 1.0e+00 \n",
      " 4 -7.69e-01   1.4e+00 6.7e-01 \n",
      " 5 -7.81e-01   1.8e+00 6.7e-01 \n",
      " 6 -8.93e-01   2.3e+00 1.0e+00 \n",
      " 7 -9.68e-01   1.7e+00 1.0e+00 \n",
      " 8 -9.68e-01   4.5e-01 9.3e-14 \n",
      " 9 -9.99e-01   4.5e-01 1.0e+00 \n",
      "10 -1.00e+00   7.0e-02 2.0e-01 \n",
      "11 -1.00e+00   2.8e-02 1.2e-14 \n",
      "12 -1.00e+00   2.8e-02 3.0e-01 \n",
      "13 -1.00e+00   2.8e-02 3.6e-12 \n",
      "14 -1.00e+00   2.8e-02 1.0e+00 \n",
      "15 -1.00e+00   1.0e-02 4.4e-01 \n",
      "16 -1.00e+00   2.9e-03 2.7e-11 \n",
      "17 -1.00e+00   2.9e-03 1.0e+00 \n",
      "18 -1.00e+00   1.6e-04 8.8e-02 \n",
      "19 -1.00e+00   2.5e-04 9.0e-08 \n",
      "20 -1.00e+00   2.5e-04 1.0e+00 \n",
      "21 -1.00e+00   4.1e-06 2.6e-02 \n",
      "sol = [1.0000002235517056, 3.109218534640156e-7]\n",
      " k        fk ||∇f(x)||\n",
      " 0  1.00e+00   4.5e+00\n",
      " 1  3.33e-01   4.5e+00 3.0e-01 \n",
      " 2  3.33e-01   4.4e+00 1.4e-16 \n",
      " 3 -4.00e-01   4.4e+00 1.0e+00 \n",
      " 4 -4.00e-01   1.4e+00 3.2e-16 \n",
      " 5 -6.20e-01   1.4e+00 1.0e+00 \n",
      " 6 -8.22e-01   1.2e+00 6.7e-01 \n",
      " 7 -8.22e-01   1.8e+00 4.8e-16 \n",
      " 8 -8.79e-01   1.8e+00 1.0e+00 \n",
      " 9 -9.13e-01   1.8e+00 4.4e-01 \n",
      "10 -9.27e-01   5.7e-01 6.7e-01 \n",
      "11 -9.28e-01   1.1e+00 1.0e+00 \n",
      "12 -9.33e-01   1.4e+00 6.7e-01 \n",
      "13 -9.53e-01   7.9e-01 1.0e+00 \n",
      "14 -9.58e-01   1.1e+00 4.4e-01 \n",
      "15 -9.88e-01   1.2e+00 1.0e+00 \n",
      "16 -9.88e-01   2.7e-01 2.0e-01 \n",
      "17 -9.98e-01   2.3e-01 1.0e+00 \n",
      "18 -9.98e-01   2.3e-01 1.3e-01 \n",
      "19 -1.00e+00   2.2e-01 1.0e+00 \n",
      "20 -1.00e+00   3.8e-02 2.3e-03 \n",
      "21 -1.00e+00   3.8e-02 1.0e+00 \n",
      "22 -1.00e+00   4.6e-04 4.1e-11 \n",
      "23 -1.00e+00   4.6e-04 1.0e+00 \n",
      "24 -1.00e+00   6.3e-06 1.7e-02 \n",
      "25 -1.00e+00   2.6e-06 5.9e-05 \n",
      "sol = [1.000000813996153, 5.887665958332304e-7]\n",
      "\u001b[0m\u001b[1mTest Summary:                         | \u001b[22m\u001b[32m\u001b[1mPass  \u001b[22m\u001b[39m\u001b[36m\u001b[1mTotal  \u001b[22m\u001b[39m\u001b[0m\u001b[1mTime\u001b[22m\n",
      "Test set for bfgs_quasi_newton_armijo | \u001b[32m   5  \u001b[39m\u001b[36m    5  \u001b[39m\u001b[0m1.9s\n"
     ]
    },
    {
     "data": {
      "text/plain": [
       "Test.DefaultTestSet(\"Test set for bfgs_quasi_newton_armijo\", Any[], 5, false, false, true, 1.674597211262e9, 1.67459721319e9)"
      ]
     },
     "execution_count": 84,
     "metadata": {},
     "output_type": "execute_result"
    }
   ],
   "source": [
    "# Tests secrets 3: contactez votre professeur pour avoir ces tests additionels si vous êtes prêt.\n",
    "using Test\n",
    "\n",
    "@testset \"Test set for bfgs_quasi_newton_armijo\" begin\n",
    "    #Test problem:\n",
    "    fH(x) = (x[2]+x[1].^2-11).^2+(x[1]+x[2].^2-7).^2\n",
    "    x0H = [10., 20.]\n",
    "    himmelblau = ADNLPModel(fH, x0H)\n",
    "    problem2 = ADNLPModel(x->-x[1]^3 + x[2]^2 + x[3]^2, ones(3))\n",
    "\n",
    "    roz(x) = 100 *  (x[2] - x[1]^2)^2 + (x[1] - 1.0)^2\n",
    "    rosenbrock = ADNLPModel(roz, [-1.2, 1.0])\n",
    "\n",
    "    f(x) = x[1]^2 * (2*x[1] - 3) - 6*x[1]*x[2] * (x[1] - x[2] - 1)\n",
    "    pb_du_cours = ADNLPModel(f, [-1.001, -1.001]) #ou [1.5, .5] ou [.5, .5]\n",
    "\n",
    "\n",
    "    ######################################### bfgs_quasi_newton_armijo ##################\n",
    "\n",
    "    #Unit/Validation Tests\n",
    "    using Logging, Test\n",
    "    ep1 = 1e-6 + norm(grad(himmelblau, himmelblau.meta.x0)) * 1e-6\n",
    "    sol = bfgs_quasi_newton_armijo(himmelblau, himmelblau.meta.x0) \n",
    "    @test norm(grad(himmelblau, sol)) ≤ ep1\n",
    "\n",
    "    ep4 = 1e-6 + norm(grad(pb_du_cours, [1.5, .5])) * 1e-6\n",
    "    sol = bfgs_quasi_newton_armijo(pb_du_cours, [1.5, .5]) \n",
    "    @test norm(grad(pb_du_cours, sol)) ≤ ep4\n",
    "    @test sol ≈ [1, 0] atol = ep4\n",
    "    @show sol\n",
    "\n",
    "    ep5 = 1e-6 + norm(grad(pb_du_cours, [.5, .5])) * 1e-6\n",
    "    sol = bfgs_quasi_newton_armijo(pb_du_cours, [.5, .5]) \n",
    "    @test norm(grad(pb_du_cours, sol)) ≤ ep5\n",
    "    @test sol ≈ [1, 0] atol = ep5\n",
    "    @show sol\n",
    "    \n",
    "end"
   ]
  },
  {
   "cell_type": "markdown",
   "metadata": {},
   "source": [
    "### Exercice 4: application à un problème de grande taille"
   ]
  },
  {
   "cell_type": "markdown",
   "metadata": {},
   "source": [
    "On va ajouter le package `OptimizationProblems` qui contient, comme son nom l'indique, une collection de problème d'optimisation disponible au format de `JuMP` (dans le sous-module `OptimizationProblems.PureJuMP`) et de `ADNLPModel` (dans le sous-module `OptimizationProblems.ADNLPProblems`)."
   ]
  },
  {
   "cell_type": "code",
   "execution_count": 85,
   "metadata": {},
   "outputs": [],
   "source": [
    "# ] add OptimizationProblems"
   ]
  },
  {
   "cell_type": "code",
   "execution_count": 86,
   "metadata": {},
   "outputs": [],
   "source": [
    "using ADNLPModels, OptimizationProblems.ADNLPProblems # Attention si vous ne faites pas using ADNLPModels avant ça ne fonctionne pas!"
   ]
  },
  {
   "cell_type": "code",
   "execution_count": 87,
   "metadata": {},
   "outputs": [
    {
     "data": {
      "text/plain": [
       "\u001b[32m\u001b[1mTest Passed\u001b[22m\u001b[39m"
      ]
     },
     "execution_count": 87,
     "metadata": {},
     "output_type": "execute_result"
    }
   ],
   "source": [
    "n = 500\n",
    "model = genrose(n=n)\n",
    "@test typeof(model) <: ADNLPModel"
   ]
  },
  {
   "cell_type": "markdown",
   "metadata": {},
   "source": [
    "Si vous le souhaitez, il est possible d'accéder à certaines informations sur le problème en accédant à son meta:"
   ]
  },
  {
   "cell_type": "code",
   "execution_count": 88,
   "metadata": {},
   "outputs": [
    {
     "data": {
      "text/plain": [
       "Dict{Symbol, Any} with 17 entries:\n",
       "  :has_equalities_only    => false\n",
       "  :origin                 => :unknown\n",
       "  :has_inequalities_only  => false\n",
       "  :defined_everywhere     => missing\n",
       "  :has_fixed_variables    => false\n",
       "  :variable_ncon          => false\n",
       "  :nvar                   => 100\n",
       "  :is_feasible            => true\n",
       "  :minimize               => true\n",
       "  :ncon                   => 0\n",
       "  :name                   => \"genrose\"\n",
       "  :best_known_lower_bound => -Inf\n",
       "  :objtype                => :other\n",
       "  :best_known_upper_bound => 405.106\n",
       "  :has_bounds             => false\n",
       "  :variable_nvar          => true\n",
       "  :contype                => :unconstrained"
      ]
     },
     "execution_count": 88,
     "metadata": {},
     "output_type": "execute_result"
    }
   ],
   "source": [
    "using OptimizationProblems\n",
    "OptimizationProblems.genrose_meta"
   ]
  },
  {
   "cell_type": "markdown",
   "metadata": {},
   "source": [
    "Il est aussi possible d'accéder au meta de tous les problèmes"
   ]
  },
  {
   "cell_type": "code",
   "execution_count": 89,
   "metadata": {},
   "outputs": [
    {
     "data": {
      "text/html": [
       "<div><div style = \"float: left;\"><span>261×17 DataFrame</span></div><div style = \"float: right;\"><span style = \"font-style: italic;\">236 rows omitted</span></div><div style = \"clear: both;\"></div></div><div class = \"data-frame\" style = \"overflow-x: scroll;\"><table class = \"data-frame\" style = \"margin-bottom: 6px;\"><thead><tr class = \"header\"><th class = \"rowNumber\" style = \"font-weight: bold; text-align: right;\">Row</th><th style = \"text-align: left;\">nvar</th><th style = \"text-align: left;\">variable_nvar</th><th style = \"text-align: left;\">ncon</th><th style = \"text-align: left;\">variable_ncon</th><th style = \"text-align: left;\">minimize</th><th style = \"text-align: left;\">name</th><th style = \"text-align: left;\">has_equalities_only</th><th style = \"text-align: left;\">has_inequalities_only</th><th style = \"text-align: left;\">has_bounds</th><th style = \"text-align: left;\">has_fixed_variables</th><th style = \"text-align: left;\">objtype</th><th style = \"text-align: left;\">contype</th><th style = \"text-align: left;\">best_known_lower_bound</th><th style = \"text-align: left;\">best_known_upper_bound</th><th style = \"text-align: left;\">is_feasible</th><th style = \"text-align: left;\">defined_everywhere</th><th style = \"text-align: left;\">origin</th></tr><tr class = \"subheader headerLastRow\"><th class = \"rowNumber\" style = \"font-weight: bold; text-align: right;\"></th><th title = \"Int64\" style = \"text-align: left;\">Int64</th><th title = \"Bool\" style = \"text-align: left;\">Bool</th><th title = \"Int64\" style = \"text-align: left;\">Int64</th><th title = \"Bool\" style = \"text-align: left;\">Bool</th><th title = \"Bool\" style = \"text-align: left;\">Bool</th><th title = \"String\" style = \"text-align: left;\">String</th><th title = \"Bool\" style = \"text-align: left;\">Bool</th><th title = \"Bool\" style = \"text-align: left;\">Bool</th><th title = \"Bool\" style = \"text-align: left;\">Bool</th><th title = \"Bool\" style = \"text-align: left;\">Bool</th><th title = \"Symbol\" style = \"text-align: left;\">Symbol</th><th title = \"Symbol\" style = \"text-align: left;\">Symbol</th><th title = \"Real\" style = \"text-align: left;\">Real</th><th title = \"Real\" style = \"text-align: left;\">Real</th><th title = \"Union{Missing, Bool}\" style = \"text-align: left;\">Bool?</th><th title = \"Union{Missing, Bool}\" style = \"text-align: left;\">Bool?</th><th title = \"Symbol\" style = \"text-align: left;\">Symbol</th></tr></thead><tbody><tr><td class = \"rowNumber\" style = \"font-weight: bold; text-align: right;\">1</td><td style = \"text-align: right;\">1</td><td style = \"text-align: right;\">false</td><td style = \"text-align: right;\">0</td><td style = \"text-align: right;\">false</td><td style = \"text-align: right;\">true</td><td style = \"text-align: left;\">AMPGO02</td><td style = \"text-align: right;\">false</td><td style = \"text-align: right;\">false</td><td style = \"text-align: right;\">false</td><td style = \"text-align: right;\">false</td><td style = \"text-align: left;\">other</td><td style = \"text-align: left;\">unconstrained</td><td style = \"text-align: right;\">-Inf</td><td style = \"text-align: right;\">0.839498</td><td style = \"text-align: right;\">true</td><td style = \"font-style: italic; text-align: right;\">missing</td><td style = \"text-align: left;\">unknown</td></tr><tr><td class = \"rowNumber\" style = \"font-weight: bold; text-align: right;\">2</td><td style = \"text-align: right;\">1</td><td style = \"text-align: right;\">false</td><td style = \"text-align: right;\">0</td><td style = \"text-align: right;\">false</td><td style = \"text-align: right;\">true</td><td style = \"text-align: left;\">AMPGO03</td><td style = \"text-align: right;\">false</td><td style = \"text-align: right;\">false</td><td style = \"text-align: right;\">false</td><td style = \"text-align: right;\">false</td><td style = \"text-align: left;\">other</td><td style = \"text-align: left;\">unconstrained</td><td style = \"text-align: right;\">-Inf</td><td style = \"text-align: right;\">2.88961</td><td style = \"text-align: right;\">true</td><td style = \"font-style: italic; text-align: right;\">missing</td><td style = \"text-align: left;\">unknown</td></tr><tr><td class = \"rowNumber\" style = \"font-weight: bold; text-align: right;\">3</td><td style = \"text-align: right;\">1</td><td style = \"text-align: right;\">false</td><td style = \"text-align: right;\">0</td><td style = \"text-align: right;\">false</td><td style = \"text-align: right;\">true</td><td style = \"text-align: left;\">AMPGO04</td><td style = \"text-align: right;\">false</td><td style = \"text-align: right;\">false</td><td style = \"text-align: right;\">false</td><td style = \"text-align: right;\">false</td><td style = \"text-align: left;\">other</td><td style = \"text-align: left;\">unconstrained</td><td style = \"text-align: right;\">-Inf</td><td style = \"text-align: right;\">-2.5666</td><td style = \"text-align: right;\">true</td><td style = \"font-style: italic; text-align: right;\">missing</td><td style = \"text-align: left;\">unknown</td></tr><tr><td class = \"rowNumber\" style = \"font-weight: bold; text-align: right;\">4</td><td style = \"text-align: right;\">1</td><td style = \"text-align: right;\">false</td><td style = \"text-align: right;\">0</td><td style = \"text-align: right;\">false</td><td style = \"text-align: right;\">true</td><td style = \"text-align: left;\">AMPGO05</td><td style = \"text-align: right;\">false</td><td style = \"text-align: right;\">false</td><td style = \"text-align: right;\">false</td><td style = \"text-align: right;\">false</td><td style = \"text-align: left;\">other</td><td style = \"text-align: left;\">unconstrained</td><td style = \"text-align: right;\">-Inf</td><td style = \"text-align: right;\">-0.0</td><td style = \"text-align: right;\">true</td><td style = \"font-style: italic; text-align: right;\">missing</td><td style = \"text-align: left;\">unknown</td></tr><tr><td class = \"rowNumber\" style = \"font-weight: bold; text-align: right;\">5</td><td style = \"text-align: right;\">1</td><td style = \"text-align: right;\">false</td><td style = \"text-align: right;\">0</td><td style = \"text-align: right;\">false</td><td style = \"text-align: right;\">true</td><td style = \"text-align: left;\">AMPGO06</td><td style = \"text-align: right;\">false</td><td style = \"text-align: right;\">false</td><td style = \"text-align: right;\">false</td><td style = \"text-align: right;\">false</td><td style = \"text-align: left;\">other</td><td style = \"text-align: left;\">unconstrained</td><td style = \"text-align: right;\">-Inf</td><td style = \"text-align: right;\">3.5177e-43</td><td style = \"text-align: right;\">true</td><td style = \"font-style: italic; text-align: right;\">missing</td><td style = \"text-align: left;\">unknown</td></tr><tr><td class = \"rowNumber\" style = \"font-weight: bold; text-align: right;\">6</td><td style = \"text-align: right;\">1</td><td style = \"text-align: right;\">false</td><td style = \"text-align: right;\">0</td><td style = \"text-align: right;\">false</td><td style = \"text-align: right;\">true</td><td style = \"text-align: left;\">AMPGO07</td><td style = \"text-align: right;\">false</td><td style = \"text-align: right;\">false</td><td style = \"text-align: right;\">false</td><td style = \"text-align: right;\">false</td><td style = \"text-align: left;\">other</td><td style = \"text-align: left;\">unconstrained</td><td style = \"text-align: right;\">-Inf</td><td style = \"text-align: right;\">2.56475</td><td style = \"text-align: right;\">true</td><td style = \"font-style: italic; text-align: right;\">missing</td><td style = \"text-align: left;\">unknown</td></tr><tr><td class = \"rowNumber\" style = \"font-weight: bold; text-align: right;\">7</td><td style = \"text-align: right;\">1</td><td style = \"text-align: right;\">false</td><td style = \"text-align: right;\">0</td><td style = \"text-align: right;\">false</td><td style = \"text-align: right;\">true</td><td style = \"text-align: left;\">AMPGO08</td><td style = \"text-align: right;\">false</td><td style = \"text-align: right;\">false</td><td style = \"text-align: right;\">false</td><td style = \"text-align: right;\">false</td><td style = \"text-align: left;\">other</td><td style = \"text-align: left;\">unconstrained</td><td style = \"text-align: right;\">-Inf</td><td style = \"text-align: right;\">-2.0928</td><td style = \"text-align: right;\">true</td><td style = \"font-style: italic; text-align: right;\">missing</td><td style = \"text-align: left;\">unknown</td></tr><tr><td class = \"rowNumber\" style = \"font-weight: bold; text-align: right;\">8</td><td style = \"text-align: right;\">1</td><td style = \"text-align: right;\">false</td><td style = \"text-align: right;\">0</td><td style = \"text-align: right;\">false</td><td style = \"text-align: right;\">true</td><td style = \"text-align: left;\">AMPGO09</td><td style = \"text-align: right;\">false</td><td style = \"text-align: right;\">false</td><td style = \"text-align: right;\">false</td><td style = \"text-align: right;\">false</td><td style = \"text-align: left;\">other</td><td style = \"text-align: left;\">unconstrained</td><td style = \"text-align: right;\">-Inf</td><td style = \"text-align: right;\">0.921136</td><td style = \"text-align: right;\">true</td><td style = \"font-style: italic; text-align: right;\">missing</td><td style = \"text-align: left;\">unknown</td></tr><tr><td class = \"rowNumber\" style = \"font-weight: bold; text-align: right;\">9</td><td style = \"text-align: right;\">1</td><td style = \"text-align: right;\">false</td><td style = \"text-align: right;\">0</td><td style = \"text-align: right;\">false</td><td style = \"text-align: right;\">true</td><td style = \"text-align: left;\">AMPGO10</td><td style = \"text-align: right;\">false</td><td style = \"text-align: right;\">false</td><td style = \"text-align: right;\">false</td><td style = \"text-align: right;\">false</td><td style = \"text-align: left;\">other</td><td style = \"text-align: left;\">unconstrained</td><td style = \"text-align: right;\">-Inf</td><td style = \"text-align: right;\">-0.0</td><td style = \"text-align: right;\">true</td><td style = \"font-style: italic; text-align: right;\">missing</td><td style = \"text-align: left;\">unknown</td></tr><tr><td class = \"rowNumber\" style = \"font-weight: bold; text-align: right;\">10</td><td style = \"text-align: right;\">1</td><td style = \"text-align: right;\">false</td><td style = \"text-align: right;\">0</td><td style = \"text-align: right;\">false</td><td style = \"text-align: right;\">true</td><td style = \"text-align: left;\">AMPGO11</td><td style = \"text-align: right;\">false</td><td style = \"text-align: right;\">false</td><td style = \"text-align: right;\">false</td><td style = \"text-align: right;\">false</td><td style = \"text-align: left;\">other</td><td style = \"text-align: left;\">unconstrained</td><td style = \"text-align: right;\">-Inf</td><td style = \"text-align: right;\">-1.0</td><td style = \"text-align: right;\">true</td><td style = \"font-style: italic; text-align: right;\">missing</td><td style = \"text-align: left;\">unknown</td></tr><tr><td class = \"rowNumber\" style = \"font-weight: bold; text-align: right;\">11</td><td style = \"text-align: right;\">1</td><td style = \"text-align: right;\">false</td><td style = \"text-align: right;\">0</td><td style = \"text-align: right;\">false</td><td style = \"text-align: right;\">true</td><td style = \"text-align: left;\">AMPGO12</td><td style = \"text-align: right;\">false</td><td style = \"text-align: right;\">false</td><td style = \"text-align: right;\">false</td><td style = \"text-align: right;\">false</td><td style = \"text-align: left;\">other</td><td style = \"text-align: left;\">unconstrained</td><td style = \"text-align: right;\">-Inf</td><td style = \"text-align: right;\">1.0</td><td style = \"text-align: right;\">true</td><td style = \"font-style: italic; text-align: right;\">missing</td><td style = \"text-align: left;\">unknown</td></tr><tr><td class = \"rowNumber\" style = \"font-weight: bold; text-align: right;\">12</td><td style = \"text-align: right;\">1</td><td style = \"text-align: right;\">false</td><td style = \"text-align: right;\">0</td><td style = \"text-align: right;\">false</td><td style = \"text-align: right;\">true</td><td style = \"text-align: left;\">AMPGO13</td><td style = \"text-align: right;\">false</td><td style = \"text-align: right;\">false</td><td style = \"text-align: right;\">false</td><td style = \"text-align: right;\">false</td><td style = \"text-align: left;\">other</td><td style = \"text-align: left;\">unconstrained</td><td style = \"text-align: right;\">-1.5874</td><td style = \"text-align: right;\">-1.5874</td><td style = \"text-align: right;\">true</td><td style = \"font-style: italic; text-align: right;\">missing</td><td style = \"text-align: left;\">unknown</td></tr><tr><td class = \"rowNumber\" style = \"font-weight: bold; text-align: right;\">13</td><td style = \"text-align: right;\">1</td><td style = \"text-align: right;\">false</td><td style = \"text-align: right;\">0</td><td style = \"text-align: right;\">false</td><td style = \"text-align: right;\">true</td><td style = \"text-align: left;\">AMPGO14</td><td style = \"text-align: right;\">false</td><td style = \"text-align: right;\">false</td><td style = \"text-align: right;\">false</td><td style = \"text-align: right;\">false</td><td style = \"text-align: left;\">other</td><td style = \"text-align: left;\">unconstrained</td><td style = \"text-align: right;\">-Inf</td><td style = \"text-align: right;\">-0.0</td><td style = \"text-align: right;\">true</td><td style = \"font-style: italic; text-align: right;\">missing</td><td style = \"text-align: left;\">unknown</td></tr><tr><td style = \"text-align: right;\">&vellip;</td><td style = \"text-align: right;\">&vellip;</td><td style = \"text-align: right;\">&vellip;</td><td style = \"text-align: right;\">&vellip;</td><td style = \"text-align: right;\">&vellip;</td><td style = \"text-align: right;\">&vellip;</td><td style = \"text-align: right;\">&vellip;</td><td style = \"text-align: right;\">&vellip;</td><td style = \"text-align: right;\">&vellip;</td><td style = \"text-align: right;\">&vellip;</td><td style = \"text-align: right;\">&vellip;</td><td style = \"text-align: right;\">&vellip;</td><td style = \"text-align: right;\">&vellip;</td><td style = \"text-align: right;\">&vellip;</td><td style = \"text-align: right;\">&vellip;</td><td style = \"text-align: right;\">&vellip;</td><td style = \"text-align: right;\">&vellip;</td><td style = \"text-align: right;\">&vellip;</td></tr><tr><td class = \"rowNumber\" style = \"font-weight: bold; text-align: right;\">250</td><td style = \"text-align: right;\">2598</td><td style = \"text-align: right;\">false</td><td style = \"text-align: right;\">3116</td><td style = \"text-align: right;\">false</td><td style = \"text-align: right;\">true</td><td style = \"text-align: left;\">tetra_gear</td><td style = \"text-align: right;\">false</td><td style = \"text-align: right;\">true</td><td style = \"text-align: right;\">true</td><td style = \"text-align: right;\">true</td><td style = \"text-align: left;\">other</td><td style = \"text-align: left;\">general</td><td style = \"text-align: right;\">-Inf</td><td style = \"text-align: right;\">4256.38</td><td style = \"text-align: right;\">true</td><td style = \"font-style: italic; text-align: right;\">missing</td><td style = \"text-align: left;\">unknown</td></tr><tr><td class = \"rowNumber\" style = \"font-weight: bold; text-align: right;\">251</td><td style = \"text-align: right;\">3570</td><td style = \"text-align: right;\">false</td><td style = \"text-align: right;\">4675</td><td style = \"text-align: right;\">false</td><td style = \"text-align: right;\">true</td><td style = \"text-align: left;\">tetra_hook</td><td style = \"text-align: right;\">false</td><td style = \"text-align: right;\">true</td><td style = \"text-align: right;\">true</td><td style = \"text-align: right;\">true</td><td style = \"text-align: left;\">other</td><td style = \"text-align: left;\">general</td><td style = \"text-align: right;\">-Inf</td><td style = \"text-align: right;\">6157.14</td><td style = \"text-align: right;\">true</td><td style = \"font-style: italic; text-align: right;\">missing</td><td style = \"text-align: left;\">unknown</td></tr><tr><td class = \"rowNumber\" style = \"font-weight: bold; text-align: right;\">252</td><td style = \"text-align: right;\">100</td><td style = \"text-align: right;\">true</td><td style = \"text-align: right;\">0</td><td style = \"text-align: right;\">false</td><td style = \"text-align: right;\">true</td><td style = \"text-align: left;\">tointgss</td><td style = \"text-align: right;\">false</td><td style = \"text-align: right;\">false</td><td style = \"text-align: right;\">false</td><td style = \"text-align: right;\">false</td><td style = \"text-align: left;\">other</td><td style = \"text-align: left;\">unconstrained</td><td style = \"text-align: right;\">-Inf</td><td style = \"text-align: right;\">891.608</td><td style = \"text-align: right;\">true</td><td style = \"font-style: italic; text-align: right;\">missing</td><td style = \"text-align: left;\">unknown</td></tr><tr><td class = \"rowNumber\" style = \"font-weight: bold; text-align: right;\">253</td><td style = \"text-align: right;\">100</td><td style = \"text-align: right;\">true</td><td style = \"text-align: right;\">0</td><td style = \"text-align: right;\">false</td><td style = \"text-align: right;\">true</td><td style = \"text-align: left;\">tquartic</td><td style = \"text-align: right;\">false</td><td style = \"text-align: right;\">false</td><td style = \"text-align: right;\">false</td><td style = \"text-align: right;\">false</td><td style = \"text-align: left;\">least_squares</td><td style = \"text-align: left;\">unconstrained</td><td style = \"text-align: right;\">-Inf</td><td style = \"text-align: right;\">0.81</td><td style = \"text-align: right;\">true</td><td style = \"font-style: italic; text-align: right;\">missing</td><td style = \"text-align: left;\">unknown</td></tr><tr><td class = \"rowNumber\" style = \"font-weight: bold; text-align: right;\">254</td><td style = \"text-align: right;\">8</td><td style = \"text-align: right;\">false</td><td style = \"text-align: right;\">3</td><td style = \"text-align: right;\">false</td><td style = \"text-align: right;\">true</td><td style = \"text-align: left;\">triangle</td><td style = \"text-align: right;\">false</td><td style = \"text-align: right;\">true</td><td style = \"text-align: right;\">true</td><td style = \"text-align: right;\">true</td><td style = \"text-align: left;\">other</td><td style = \"text-align: left;\">general</td><td style = \"text-align: right;\">-Inf</td><td style = \"text-align: right;\">11.328</td><td style = \"text-align: right;\">true</td><td style = \"font-style: italic; text-align: right;\">missing</td><td style = \"text-align: left;\">unknown</td></tr><tr><td class = \"rowNumber\" style = \"font-weight: bold; text-align: right;\">255</td><td style = \"text-align: right;\">2244</td><td style = \"text-align: right;\">false</td><td style = \"text-align: right;\">1896</td><td style = \"text-align: right;\">false</td><td style = \"text-align: right;\">true</td><td style = \"text-align: left;\">triangle_deer</td><td style = \"text-align: right;\">false</td><td style = \"text-align: right;\">true</td><td style = \"text-align: right;\">true</td><td style = \"text-align: right;\">true</td><td style = \"text-align: left;\">other</td><td style = \"text-align: left;\">general</td><td style = \"text-align: right;\">-Inf</td><td style = \"text-align: right;\">2014.34</td><td style = \"text-align: right;\">true</td><td style = \"font-style: italic; text-align: right;\">missing</td><td style = \"text-align: left;\">unknown</td></tr><tr><td class = \"rowNumber\" style = \"font-weight: bold; text-align: right;\">256</td><td style = \"text-align: right;\">1366</td><td style = \"text-align: right;\">false</td><td style = \"text-align: right;\">1182</td><td style = \"text-align: right;\">false</td><td style = \"text-align: right;\">true</td><td style = \"text-align: left;\">triangle_pacman</td><td style = \"text-align: right;\">false</td><td style = \"text-align: right;\">true</td><td style = \"text-align: right;\">true</td><td style = \"text-align: right;\">true</td><td style = \"text-align: left;\">other</td><td style = \"text-align: left;\">general</td><td style = \"text-align: right;\">-Inf</td><td style = \"text-align: right;\">1316.28</td><td style = \"text-align: right;\">true</td><td style = \"font-style: italic; text-align: right;\">missing</td><td style = \"text-align: left;\">unknown</td></tr><tr><td class = \"rowNumber\" style = \"font-weight: bold; text-align: right;\">257</td><td style = \"text-align: right;\">4444</td><td style = \"text-align: right;\">false</td><td style = \"text-align: right;\">4025</td><td style = \"text-align: right;\">false</td><td style = \"text-align: right;\">true</td><td style = \"text-align: left;\">triangle_turtle</td><td style = \"text-align: right;\">false</td><td style = \"text-align: right;\">true</td><td style = \"text-align: right;\">true</td><td style = \"text-align: right;\">true</td><td style = \"text-align: left;\">other</td><td style = \"text-align: left;\">general</td><td style = \"text-align: right;\">-Inf</td><td style = \"text-align: right;\">4467.58</td><td style = \"text-align: right;\">true</td><td style = \"font-style: italic; text-align: right;\">missing</td><td style = \"text-align: left;\">unknown</td></tr><tr><td class = \"rowNumber\" style = \"font-weight: bold; text-align: right;\">258</td><td style = \"text-align: right;\">100</td><td style = \"text-align: right;\">true</td><td style = \"text-align: right;\">0</td><td style = \"text-align: right;\">false</td><td style = \"text-align: right;\">true</td><td style = \"text-align: left;\">tridia</td><td style = \"text-align: right;\">false</td><td style = \"text-align: right;\">false</td><td style = \"text-align: right;\">false</td><td style = \"text-align: right;\">false</td><td style = \"text-align: left;\">other</td><td style = \"text-align: left;\">unconstrained</td><td style = \"text-align: right;\">-Inf</td><td style = \"text-align: right;\">5049.0</td><td style = \"text-align: right;\">true</td><td style = \"font-style: italic; text-align: right;\">missing</td><td style = \"text-align: left;\">unknown</td></tr><tr><td class = \"rowNumber\" style = \"font-weight: bold; text-align: right;\">259</td><td style = \"text-align: right;\">100</td><td style = \"text-align: right;\">true</td><td style = \"text-align: right;\">0</td><td style = \"text-align: right;\">false</td><td style = \"text-align: right;\">true</td><td style = \"text-align: left;\">vardim</td><td style = \"text-align: right;\">false</td><td style = \"text-align: right;\">false</td><td style = \"text-align: right;\">false</td><td style = \"text-align: right;\">false</td><td style = \"text-align: left;\">other</td><td style = \"text-align: left;\">unconstrained</td><td style = \"text-align: right;\">-Inf</td><td style = \"text-align: right;\">1.31058e14</td><td style = \"text-align: right;\">true</td><td style = \"font-style: italic; text-align: right;\">missing</td><td style = \"text-align: left;\">unknown</td></tr><tr><td class = \"rowNumber\" style = \"font-weight: bold; text-align: right;\">260</td><td style = \"text-align: right;\">100</td><td style = \"text-align: right;\">true</td><td style = \"text-align: right;\">0</td><td style = \"text-align: right;\">false</td><td style = \"text-align: right;\">true</td><td style = \"text-align: left;\">woods</td><td style = \"text-align: right;\">false</td><td style = \"text-align: right;\">false</td><td style = \"text-align: right;\">false</td><td style = \"text-align: right;\">false</td><td style = \"text-align: left;\">other</td><td style = \"text-align: left;\">unconstrained</td><td style = \"text-align: right;\">-Inf</td><td style = \"text-align: right;\">180451.0</td><td style = \"text-align: right;\">true</td><td style = \"font-style: italic; text-align: right;\">missing</td><td style = \"text-align: left;\">unknown</td></tr><tr><td class = \"rowNumber\" style = \"font-weight: bold; text-align: right;\">261</td><td style = \"text-align: right;\">3</td><td style = \"text-align: right;\">false</td><td style = \"text-align: right;\">3</td><td style = \"text-align: right;\">false</td><td style = \"text-align: right;\">true</td><td style = \"text-align: left;\">zangwil3</td><td style = \"text-align: right;\">true</td><td style = \"text-align: right;\">false</td><td style = \"text-align: right;\">false</td><td style = \"text-align: right;\">false</td><td style = \"text-align: left;\">other</td><td style = \"text-align: left;\">linear</td><td style = \"text-align: right;\">-Inf</td><td style = \"text-align: right;\">Inf</td><td style = \"text-align: right;\">missing</td><td style = \"font-style: italic; text-align: right;\">missing</td><td style = \"text-align: left;\">unknown</td></tr></tbody></table></div>"
      ],
      "text/latex": [
       "\\begin{tabular}{r|cccccccc}\n",
       "\t& nvar & variable\\_nvar & ncon & variable\\_ncon & minimize & name & has\\_equalities\\_only & \\\\\n",
       "\t\\hline\n",
       "\t& Int64 & Bool & Int64 & Bool & Bool & String & Bool & \\\\\n",
       "\t\\hline\n",
       "\t1 & 1 & 0 & 0 & 0 & 1 & AMPGO02 & 0 & $\\dots$ \\\\\n",
       "\t2 & 1 & 0 & 0 & 0 & 1 & AMPGO03 & 0 & $\\dots$ \\\\\n",
       "\t3 & 1 & 0 & 0 & 0 & 1 & AMPGO04 & 0 & $\\dots$ \\\\\n",
       "\t4 & 1 & 0 & 0 & 0 & 1 & AMPGO05 & 0 & $\\dots$ \\\\\n",
       "\t5 & 1 & 0 & 0 & 0 & 1 & AMPGO06 & 0 & $\\dots$ \\\\\n",
       "\t6 & 1 & 0 & 0 & 0 & 1 & AMPGO07 & 0 & $\\dots$ \\\\\n",
       "\t7 & 1 & 0 & 0 & 0 & 1 & AMPGO08 & 0 & $\\dots$ \\\\\n",
       "\t8 & 1 & 0 & 0 & 0 & 1 & AMPGO09 & 0 & $\\dots$ \\\\\n",
       "\t9 & 1 & 0 & 0 & 0 & 1 & AMPGO10 & 0 & $\\dots$ \\\\\n",
       "\t10 & 1 & 0 & 0 & 0 & 1 & AMPGO11 & 0 & $\\dots$ \\\\\n",
       "\t11 & 1 & 0 & 0 & 0 & 1 & AMPGO12 & 0 & $\\dots$ \\\\\n",
       "\t12 & 1 & 0 & 0 & 0 & 1 & AMPGO13 & 0 & $\\dots$ \\\\\n",
       "\t13 & 1 & 0 & 0 & 0 & 1 & AMPGO14 & 0 & $\\dots$ \\\\\n",
       "\t14 & 1 & 0 & 0 & 0 & 1 & AMPGO15 & 0 & $\\dots$ \\\\\n",
       "\t15 & 1 & 0 & 0 & 0 & 1 & AMPGO18 & 0 & $\\dots$ \\\\\n",
       "\t16 & 1 & 0 & 0 & 0 & 1 & AMPGO20 & 0 & $\\dots$ \\\\\n",
       "\t17 & 1 & 0 & 0 & 0 & 1 & AMPGO21 & 0 & $\\dots$ \\\\\n",
       "\t18 & 1 & 0 & 0 & 0 & 1 & AMPGO22 & 0 & $\\dots$ \\\\\n",
       "\t19 & 3 & 0 & 1 & 0 & 1 & BOX2 & 1 & $\\dots$ \\\\\n",
       "\t20 & 3 & 0 & 0 & 0 & 1 & BOX3 & 0 & $\\dots$ \\\\\n",
       "\t21 & 1 & 0 & 0 & 0 & 1 & Dus2\\_1 & 0 & $\\dots$ \\\\\n",
       "\t22 & 1 & 0 & 0 & 0 & 1 & Dus2\\_3 & 0 & $\\dots$ \\\\\n",
       "\t23 & 1 & 0 & 0 & 0 & 1 & Dus2\\_9 & 0 & $\\dots$ \\\\\n",
       "\t24 & 1 & 0 & 0 & 0 & 1 & Duscube & 0 & $\\dots$ \\\\\n",
       "\t25 & 91 & 1 & 0 & 0 & 1 & NZF1 & 0 & $\\dots$ \\\\\n",
       "\t26 & 1 & 0 & 0 & 0 & 1 & Shpak1 & 0 & $\\dots$ \\\\\n",
       "\t27 & 1 & 0 & 0 & 0 & 1 & Shpak2 & 0 & $\\dots$ \\\\\n",
       "\t28 & 1 & 0 & 0 & 0 & 1 & Shpak3 & 0 & $\\dots$ \\\\\n",
       "\t29 & 1 & 0 & 0 & 0 & 1 & Shpak4 & 0 & $\\dots$ \\\\\n",
       "\t30 & 1 & 0 & 0 & 0 & 1 & Shpak5 & 0 & $\\dots$ \\\\\n",
       "\t$\\dots$ & $\\dots$ & $\\dots$ & $\\dots$ & $\\dots$ & $\\dots$ & $\\dots$ & $\\dots$ &  \\\\\n",
       "\\end{tabular}\n"
      ],
      "text/plain": [
       "\u001b[1m261×17 DataFrame\u001b[0m\n",
       "\u001b[1m Row \u001b[0m│\u001b[1m nvar  \u001b[0m\u001b[1m variable_nvar \u001b[0m\u001b[1m ncon  \u001b[0m\u001b[1m variable_ncon \u001b[0m\u001b[1m minimize \u001b[0m\u001b[1m name            \u001b[0m\u001b[1m \u001b[0m ⋯\n",
       "     │\u001b[90m Int64 \u001b[0m\u001b[90m Bool          \u001b[0m\u001b[90m Int64 \u001b[0m\u001b[90m Bool          \u001b[0m\u001b[90m Bool     \u001b[0m\u001b[90m String          \u001b[0m\u001b[90m \u001b[0m ⋯\n",
       "─────┼──────────────────────────────────────────────────────────────────────────\n",
       "   1 │     1          false      0          false      true  AMPGO02           ⋯\n",
       "   2 │     1          false      0          false      true  AMPGO03\n",
       "   3 │     1          false      0          false      true  AMPGO04\n",
       "   4 │     1          false      0          false      true  AMPGO05\n",
       "   5 │     1          false      0          false      true  AMPGO06           ⋯\n",
       "   6 │     1          false      0          false      true  AMPGO07\n",
       "   7 │     1          false      0          false      true  AMPGO08\n",
       "   8 │     1          false      0          false      true  AMPGO09\n",
       "   9 │     1          false      0          false      true  AMPGO10           ⋯\n",
       "  10 │     1          false      0          false      true  AMPGO11\n",
       "  11 │     1          false      0          false      true  AMPGO12\n",
       "  ⋮  │   ⋮          ⋮          ⋮          ⋮           ⋮             ⋮          ⋱\n",
       " 252 │   100           true      0          false      true  tointgss\n",
       " 253 │   100           true      0          false      true  tquartic          ⋯\n",
       " 254 │     8          false      3          false      true  triangle\n",
       " 255 │  2244          false   1896          false      true  triangle_deer\n",
       " 256 │  1366          false   1182          false      true  triangle_pacman\n",
       " 257 │  4444          false   4025          false      true  triangle_turtle   ⋯\n",
       " 258 │   100           true      0          false      true  tridia\n",
       " 259 │   100           true      0          false      true  vardim\n",
       " 260 │   100           true      0          false      true  woods\n",
       " 261 │     3          false      3          false      true  zangwil3          ⋯\n",
       "\u001b[36m                                                 11 columns and 240 rows omitted\u001b[0m"
      ]
     },
     "execution_count": 89,
     "metadata": {},
     "output_type": "execute_result"
    }
   ],
   "source": [
    "OptimizationProblems.meta"
   ]
  },
  {
   "cell_type": "markdown",
   "metadata": {},
   "source": [
    "Résoudre le problème `genrose` et un autre problème de la collection en utilisant vos algorithmes précédents.\n",
    "Avant d'utiliser l'algorithme on testera que le problème est bien sans contrainte avec:"
   ]
  },
  {
   "cell_type": "code",
   "execution_count": 95,
   "metadata": {},
   "outputs": [
    {
     "data": {
      "text/plain": [
       "true"
      ]
     },
     "execution_count": 95,
     "metadata": {},
     "output_type": "execute_result"
    }
   ],
   "source": [
    "unconstrained(model) #qui retourne vrai si `nlp` est un problème sans contraintes."
   ]
  },
  {
   "cell_type": "code",
   "execution_count": 103,
   "metadata": {},
   "outputs": [
    {
     "name": "stdout",
     "output_type": "stream",
     "text": [
      " k        fk ||∇f(x)||\n",
      " 0  6.10e+02   6.0e+02\n",
      " 1  4.81e+02   6.0e+02 7.7e-03 \n",
      "WARNING : L'algorithme a évalué trop de fois notre fonction objectif\n"
     ]
    },
    {
     "data": {
      "text/plain": [
       "500-element Vector{Float64}:\n",
       " 0.7254229538180152\n",
       " 0.8949845796617121\n",
       " 0.8949845796617121\n",
       " 0.8949845796617121\n",
       " 0.8949845796617121\n",
       " 0.8949845796617121\n",
       " 0.8949845796617121\n",
       " 0.8949845796617121\n",
       " 0.8949845796617121\n",
       " 0.8949845796617121\n",
       " 0.8949845796617121\n",
       " 0.8949845796617121\n",
       " 0.8949845796617121\n",
       " ⋮\n",
       " 0.8949845796617121\n",
       " 0.8949845796617121\n",
       " 0.8949845796617121\n",
       " 0.8949845796617121\n",
       " 0.8949845796617121\n",
       " 0.8949845796617121\n",
       " 0.8949845796617121\n",
       " 0.8949845796617121\n",
       " 0.8949845796617121\n",
       " 0.8949845796617121\n",
       " 0.8949845796617121\n",
       " 1.269561625843697"
      ]
     },
     "execution_count": 103,
     "metadata": {},
     "output_type": "execute_result"
    }
   ],
   "source": [
    "# Use previous functions to solve genrose\n",
    "#On prend comme point de départ le vecteur nul\n",
    "bfgs_quasi_newton_armijo(model,ones(n).+0.1)"
   ]
  },
  {
   "cell_type": "code",
   "execution_count": 104,
   "metadata": {},
   "outputs": [
    {
     "name": "stdout",
     "output_type": "stream",
     "text": [
      " k        fk ||∇f(x)||\n",
      " 0  6.10e+02   6.0e+02\n",
      " 1  2.26e+01   9.7e+01 1.0e+00 \n",
      " 2  1.07e+00   5.5e+00 1.0e+00 \n",
      " 3  1.00e+00   5.1e-01 1.0e+00 \n",
      " 4  1.00e+00   2.4e-01 1.0e+00 \n",
      " 5  1.00e+00   6.4e-03 1.0e+00 \n",
      " 6  1.00e+00   4.7e-05 1.0e+00 \n"
     ]
    },
    {
     "data": {
      "text/plain": [
       "500-element Vector{Float64}:\n",
       " 1.0\n",
       " 1.0\n",
       " 1.0\n",
       " 1.0\n",
       " 1.0\n",
       " 1.0\n",
       " 1.0\n",
       " 1.0\n",
       " 1.0\n",
       " 1.0\n",
       " 1.0\n",
       " 1.0\n",
       " 1.0\n",
       " ⋮\n",
       " 1.0000000007230307\n",
       " 1.000000001450775\n",
       " 1.000000002910802\n",
       " 1.0000000058393415\n",
       " 1.0000000117109382\n",
       " 1.0000000234731616\n",
       " 1.0000000469951131\n",
       " 1.0000000938701512\n",
       " 1.0000001866212496\n",
       " 1.0000003674581217\n",
       " 1.000000709035213\n",
       " 1.000001308467229"
      ]
     },
     "execution_count": 104,
     "metadata": {},
     "output_type": "execute_result"
    }
   ],
   "source": [
    "newton_ldlt_armijo(model,ones(n).+0.1)"
   ]
  }
 ],
 "metadata": {
  "kernelspec": {
   "display_name": "Julia 1.8.3",
   "language": "julia",
   "name": "julia-1.8"
  },
  "language_info": {
   "file_extension": ".jl",
   "mimetype": "application/julia",
   "name": "julia",
   "version": "1.8.3"
  }
 },
 "nbformat": 4,
 "nbformat_minor": 4
}
