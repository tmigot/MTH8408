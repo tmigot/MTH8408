{
 "cells": [
  {
   "cell_type": "markdown",
   "id": "5ffcc428",
   "metadata": {},
   "source": [
    "Auteur: Sandra Parent 1909394\\\n",
    "\\\n",
    "Le problème choisi est celui du box3\\\n",
    "\\\n",
    "Fonction d'une boîte en trois dimensions\\\n",
    "\\\n",
    "$a)\\ n = 3,\\ m \\geq n\\ variable$\\\n",
    "\\\n",
    "$b)\\ f_i(x) = exp[-t_i x_1] - exp[-t_i x_2] -x_3(exp[-t_i] - exp[-10t_i])\\ \\ où\\ t_i = 0.1i$\\\n",
    "\\\n",
    "$c)\\ x_0 = (0, 10, 20)$\\\n",
    "\\\n",
    "$d)\\ f = 0\\ pour\\ (1, 10, 1),\\ (10, 1, -1)\\ et\\ quand\\ (x_1 = x_2\\ et\\ x_3 = 0)$"
   ]
  },
  {
   "cell_type": "code",
   "execution_count": 2,
   "id": "f301c1e8",
   "metadata": {},
   "outputs": [
    {
     "data": {
      "text/plain": [
       "model_jump_box3 (generic function with 1 method)"
      ]
     },
     "execution_count": 2,
     "metadata": {},
     "output_type": "execute_result"
    }
   ],
   "source": [
    "using JuMP, MathOptInterface\n",
    "\n",
    "function model_jump_box3(args...; m::Int = 2n, kwargs...)\n",
    "    n = 3\n",
    "    m <= n && @warn(\"arglina: must have m ≥ n\")\n",
    "\n",
    "    nlp = Model()\n",
    "\n",
    "    @variable(nlp, x[1:n], start = 1.0)\n",
    "\n",
    "    @NLobjective(\n",
    "    nlp,\n",
    "    Min,\n",
    "    0.5*sum((exp(-0.1*j*x[1]) - exp(-0.1*j*x[2]) -x[3]*(exp(-0.1*j) - exp(-10*0.1*j)))^2 for j = 1:m))\n",
    "\n",
    "  return nlp\n",
    "end\n"
   ]
  },
  {
   "cell_type": "code",
   "execution_count": 3,
   "id": "95fa1f97",
   "metadata": {},
   "outputs": [
    {
     "data": {
      "text/plain": [
       "model_adnlp_box3 (generic function with 1 method)"
      ]
     },
     "execution_count": 3,
     "metadata": {},
     "output_type": "execute_result"
    }
   ],
   "source": [
    "using ADNLPModels\n",
    "\n",
    "function model_adnlp_box3(args...; m::Int = 2n, kwargs...)\n",
    "    x0 = [0.0; 10.0; 20.0]\n",
    "    n = 3\n",
    "    m < n && @warn(\"arglina: must have m ≥ n\")\n",
    " \n",
    "    k(x) = 0.5*sum((exp(-0.1*j*x[1]) - exp(-0.1*j*x[2]) -x[3]*(exp(-0.1*j) - exp(-10.0*0.1*j)))^2 for j = 1:m)\n",
    "    mod = ADNLPModel(k, x0)\n",
    "    \n",
    "    return mod\n",
    "end"
   ]
  }
 ],
 "metadata": {
  "kernelspec": {
   "display_name": "Julia 1.7.1",
   "language": "julia",
   "name": "julia-1.7"
  },
  "language_info": {
   "file_extension": ".jl",
   "mimetype": "application/julia",
   "name": "julia",
   "version": "1.7.1"
  }
 },
 "nbformat": 4,
 "nbformat_minor": 5
}
